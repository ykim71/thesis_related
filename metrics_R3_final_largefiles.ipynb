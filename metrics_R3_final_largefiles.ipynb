{
  "nbformat": 4,
  "nbformat_minor": 0,
  "metadata": {
    "colab": {
      "name": "metrics_R3_final_largefiles.ipynb",
      "provenance": [],
      "collapsed_sections": [
        "YW1dSc2iqf83",
        "v9ZbLhPLsuZN",
        "iPBSBYZXsxdc",
        "Apz0oBG3tT1S",
        "p0JVCovdwQ4q",
        "m7kD11GtzRy4",
        "UKwbJ7IBzawm",
        "0qkWp8RozVJ6",
        "TKeRPLSb0WHR",
        "cI0my16-0e5R",
        "VVkJ-vat0awt",
        "DEY8Qs2o0qom",
        "C38uJo2o053E",
        "6CwYw1Mx0uwR",
        "b_ETioUaa9WS",
        "UXVHf2gZE2Tv",
        "S7oO-CZ4F72k",
        "DlebJD1xGNdP",
        "47JrG_0FmDy6",
        "Rw_XUpYOdXWw",
        "PaPufhS7d0Sv",
        "FBE4aghca3ZP",
        "1F_fJY9Cn5pa",
        "EBKmYc4VbAwG",
        "2AKAwsB-bDDp",
        "6OEzpWj1bGE_",
        "JK2dwFnIqOTG",
        "kpmVxTcG6hb5",
        "flOgKM5u98gY",
        "ZSF0TKX9-ATA",
        "unmr5MNn-ZyZ",
        "j8LiQPYa-ZlZ",
        "Nb639MfyjL_a",
        "-WmzzuvPjQaB",
        "TAXAFUqljSzx",
        "wKPYJYZyk8gA",
        "ZO7AiLj8lHM6",
        "MxXlVVhQlOlA",
        "sUZa4zPqlSIJ",
        "1WY248UKlV1q"
      ],
      "machine_shape": "hm",
      "include_colab_link": true
    },
    "kernelspec": {
      "name": "ir",
      "display_name": "R"
    },
    "language_info": {
      "name": "R"
    },
    "accelerator": "TPU"
  },
  "cells": [
    {
      "cell_type": "markdown",
      "metadata": {
        "id": "view-in-github",
        "colab_type": "text"
      },
      "source": [
        "<a href=\"https://colab.research.google.com/github/ykim71/thesis_related/blob/main/metrics_R3_final_largefiles.ipynb\" target=\"_parent\"><img src=\"https://colab.research.google.com/assets/colab-badge.svg\" alt=\"Open In Colab\"/></a>"
      ]
    },
    {
      "cell_type": "markdown",
      "metadata": {
        "id": "YW1dSc2iqf83"
      },
      "source": [
        "#### data merging"
      ]
    },
    {
      "cell_type": "code",
      "metadata": {
        "colab": {
          "base_uri": "https://localhost:8080/"
        },
        "id": "StrmXoS7psPf",
        "outputId": "3fb59fd1-bd82-4ea7-9888-37baf8a02caa"
      },
      "source": [
        "# plotting\n",
        "library(tidyverse)\n",
        "options(scipen = 999)\n",
        "\n",
        "library(googledrive)\n",
        "drive_deauth()\n",
        "# final_pages_all_nona_st.rds\n",
        "downloaded_file <- drive_download('https://drive.google.com/uc?export=download&id=1DsjmQIxPlaSJ44tgeHJ8HudEJUAZar7F', overwrite = TRUE)\n",
        "# final_pages_react_nona_st.rds\n",
        "downloaded_file <- drive_download('https://drive.google.com/uc?export=download&id=10YcBvBYReJ0MwWggB_0KVS4RtGPU2Xrc', overwrite = TRUE)\n"
      ],
      "execution_count": 1,
      "outputs": [
        {
          "output_type": "stream",
          "name": "stderr",
          "text": [
            "Warning message in system(\"timedatectl\", intern = TRUE):\n",
            "“running command 'timedatectl' had status 1”\n",
            "── \u001b[1mAttaching packages\u001b[22m ─────────────────────────────────────── tidyverse 1.3.1 ──\n",
            "\n",
            "\u001b[32m✔\u001b[39m \u001b[34mggplot2\u001b[39m 3.3.5     \u001b[32m✔\u001b[39m \u001b[34mpurrr  \u001b[39m 0.3.4\n",
            "\u001b[32m✔\u001b[39m \u001b[34mtibble \u001b[39m 3.1.6     \u001b[32m✔\u001b[39m \u001b[34mdplyr  \u001b[39m 1.0.8\n",
            "\u001b[32m✔\u001b[39m \u001b[34mtidyr  \u001b[39m 1.2.0     \u001b[32m✔\u001b[39m \u001b[34mstringr\u001b[39m 1.4.0\n",
            "\u001b[32m✔\u001b[39m \u001b[34mreadr  \u001b[39m 2.1.2     \u001b[32m✔\u001b[39m \u001b[34mforcats\u001b[39m 0.5.1\n",
            "\n",
            "── \u001b[1mConflicts\u001b[22m ────────────────────────────────────────── tidyverse_conflicts() ──\n",
            "\u001b[31m✖\u001b[39m \u001b[34mdplyr\u001b[39m::\u001b[32mfilter()\u001b[39m masks \u001b[34mstats\u001b[39m::filter()\n",
            "\u001b[31m✖\u001b[39m \u001b[34mdplyr\u001b[39m::\u001b[32mlag()\u001b[39m    masks \u001b[34mstats\u001b[39m::lag()\n",
            "\n",
            "File downloaded:\n",
            "\n",
            "• \u001b[36mfinal_rep_pages_all_no_text.rds\u001b[39m \u001b[90m<id: 1DsjmQIxPlaSJ44tgeHJ8HudEJUAZar7F>\u001b[39m\n",
            "\n",
            "Saved locally as:\n",
            "\n",
            "• \u001b[34mfinal_rep_pages_all_no_text.rds\u001b[39m\n",
            "\n",
            "File downloaded:\n",
            "\n",
            "• \u001b[36mfinal_dem_pages_all_no_text.rds\u001b[39m \u001b[90m<id: 10YcBvBYReJ0MwWggB_0KVS4RtGPU2Xrc>\u001b[39m\n",
            "\n",
            "Saved locally as:\n",
            "\n",
            "• \u001b[34mfinal_dem_pages_all_no_text.rds\u001b[39m\n",
            "\n"
          ]
        }
      ]
    },
    {
      "cell_type": "code",
      "metadata": {
        "id": "IU4nBdZiqnXd"
      },
      "source": [
        "final_rep_pages_all_no_text <- readRDS(\"/content/final_rep_pages_all_no_text.rds\")\n",
        "final_dem_pages_all_no_text <- readRDS(\"/content/final_dem_pages_all_no_text.rds\")\n"
      ],
      "execution_count": null,
      "outputs": []
    },
    {
      "cell_type": "code",
      "metadata": {
        "id": "eUfRDSMQrDtY"
      },
      "source": [
        "final_pages_all_no_text <- rbind(final_rep_pages_all_no_text, final_dem_pages_all_no_text)"
      ],
      "execution_count": null,
      "outputs": []
    },
    {
      "cell_type": "code",
      "metadata": {
        "id": "PVYaWJ-dsE8u"
      },
      "source": [
        "final_pages_all_no_text <- final_pages_all_no_text %>% mutate(republican = ifelse(leanings==\"rep\",1,0))\n"
      ],
      "execution_count": null,
      "outputs": []
    },
    {
      "cell_type": "code",
      "metadata": {
        "id": "RCsEffu1sWKy"
      },
      "source": [
        "final_pages_all_no_text <- final_pages_all_no_text %>% mutate(leanings = ifelse(republican==1,\"Republican\",\"Democratic\"))\n"
      ],
      "execution_count": null,
      "outputs": []
    },
    {
      "cell_type": "code",
      "metadata": {
        "colab": {
          "base_uri": "https://localhost:8080/",
          "height": 162
        },
        "id": "JiOU5i9vsWU-",
        "outputId": "237dd852-0bb3-48da-cbdd-8edf32f00b9e"
      },
      "source": [
        "#final_pages_all_no_text %>% filter(is.na(insult)==TRUE ) %>% count()\n",
        "final_pages_all_no_text %>% filter(is.na(sentistr)==TRUE ) %>% count()"
      ],
      "execution_count": null,
      "outputs": [
        {
          "output_type": "display_data",
          "data": {
            "text/plain": [
              "  n\n",
              "1 0"
            ],
            "text/latex": "A data.frame: 1 × 1\n\\begin{tabular}{l}\n n\\\\\n <int>\\\\\n\\hline\n\t 0\\\\\n\\end{tabular}\n",
            "text/markdown": "\nA data.frame: 1 × 1\n\n| n &lt;int&gt; |\n|---|\n| 0 |\n\n",
            "text/html": [
              "<table class=\"dataframe\">\n",
              "<caption>A data.frame: 1 × 1</caption>\n",
              "<thead>\n",
              "\t<tr><th scope=col>n</th></tr>\n",
              "\t<tr><th scope=col>&lt;int&gt;</th></tr>\n",
              "</thead>\n",
              "<tbody>\n",
              "\t<tr><td>0</td></tr>\n",
              "</tbody>\n",
              "</table>\n"
            ]
          },
          "metadata": {}
        }
      ]
    },
    {
      "cell_type": "code",
      "metadata": {
        "id": "OtkCDOmatMzt"
      },
      "source": [
        "saveRDS(final_pages_all_no_text, \"final_pages_all_no_text.rds\")\n"
      ],
      "execution_count": null,
      "outputs": []
    },
    {
      "cell_type": "markdown",
      "metadata": {
        "id": "RTimn2_oql7v"
      },
      "source": [
        "# main"
      ]
    },
    {
      "cell_type": "code",
      "metadata": {
        "colab": {
          "base_uri": "https://localhost:8080/"
        },
        "id": "8qiy7kdDDPYR",
        "outputId": "7899cb28-c355-4eba-f411-af62858b9b80"
      },
      "source": [
        "# plotting\n",
        "library(tidyverse)\n",
        "library(ggplot2)\n",
        "options(scipen = 999)\n",
        "\n",
        "library(googledrive)\n",
        "drive_deauth()\n",
        "# final_pages_all_nona_st.rds\n",
        "#downloaded_file <- drive_download('https://drive.google.com/uc?export=download&id=1jMO6uRxZ2Q5Bfy-BikvigX_U-YKbygxO', overwrite = TRUE)\n",
        "# final_pages_react_nona_st.rds\n",
        "downloaded_file <- drive_download('https://drive.google.com/uc?export=download&id=1B86dDCYyBG0XGydM-NNAjHF08d0PVo-2', overwrite = TRUE)\n"
      ],
      "execution_count": 1,
      "outputs": [
        {
          "output_type": "stream",
          "name": "stderr",
          "text": [
            "Warning message in system(\"timedatectl\", intern = TRUE):\n",
            "“running command 'timedatectl' had status 1”\n",
            "── \u001b[1mAttaching packages\u001b[22m ─────────────────────────────────────── tidyverse 1.3.1 ──\n",
            "\n",
            "\u001b[32m✔\u001b[39m \u001b[34mggplot2\u001b[39m 3.3.5     \u001b[32m✔\u001b[39m \u001b[34mpurrr  \u001b[39m 0.3.4\n",
            "\u001b[32m✔\u001b[39m \u001b[34mtibble \u001b[39m 3.1.6     \u001b[32m✔\u001b[39m \u001b[34mdplyr  \u001b[39m 1.0.8\n",
            "\u001b[32m✔\u001b[39m \u001b[34mtidyr  \u001b[39m 1.2.0     \u001b[32m✔\u001b[39m \u001b[34mstringr\u001b[39m 1.4.0\n",
            "\u001b[32m✔\u001b[39m \u001b[34mreadr  \u001b[39m 2.1.2     \u001b[32m✔\u001b[39m \u001b[34mforcats\u001b[39m 0.5.1\n",
            "\n",
            "── \u001b[1mConflicts\u001b[22m ────────────────────────────────────────── tidyverse_conflicts() ──\n",
            "\u001b[31m✖\u001b[39m \u001b[34mdplyr\u001b[39m::\u001b[32mfilter()\u001b[39m masks \u001b[34mstats\u001b[39m::filter()\n",
            "\u001b[31m✖\u001b[39m \u001b[34mdplyr\u001b[39m::\u001b[32mlag()\u001b[39m    masks \u001b[34mstats\u001b[39m::lag()\n",
            "\n",
            "File downloaded:\n",
            "\n",
            "• \u001b[36mfinal_pages_react_nona_st.rds\u001b[39m \u001b[90m<id: 1B86dDCYyBG0XGydM-NNAjHF08d0PVo-2>\u001b[39m\n",
            "\n",
            "Saved locally as:\n",
            "\n",
            "• \u001b[34mfinal_pages_react_nona_st.rds\u001b[39m\n",
            "\n"
          ]
        }
      ]
    },
    {
      "cell_type": "code",
      "metadata": {
        "id": "vBZ0VLHNEnJI"
      },
      "source": [
        "#final_pages_all_nona_st <- readRDS(\"/content/final_pages_all_nona_st.rds\")\n",
        "final_pages_react_nona_st <- readRDS(\"/content/final_pages_react_nona_st.rds\")\n"
      ],
      "execution_count": 2,
      "outputs": []
    },
    {
      "cell_type": "code",
      "metadata": {
        "id": "lIy8YiXSSMtD",
        "colab": {
          "base_uri": "https://localhost:8080/",
          "height": 34
        },
        "outputId": "66f17cc7-9a1a-416f-ea63-27bafd07eb66"
      },
      "source": [
        "names(final_pages_all_nona_st)"
      ],
      "execution_count": 3,
      "outputs": [
        {
          "output_type": "display_data",
          "data": {
            "text/plain": [
              "[1] \"Likes\"         \"Comments\"      \"Shares\"        \"Page.Name.fac\"\n",
              "[5] \"republican\"    \"sentistr\"      \"insult\"        \"sentistr_std\" \n",
              "[9] \"insult_std\"   "
            ],
            "text/latex": "\\begin{enumerate*}\n\\item 'Likes'\n\\item 'Comments'\n\\item 'Shares'\n\\item 'Page.Name.fac'\n\\item 'republican'\n\\item 'sentistr'\n\\item 'insult'\n\\item 'sentistr\\_std'\n\\item 'insult\\_std'\n\\end{enumerate*}\n",
            "text/markdown": "1. 'Likes'\n2. 'Comments'\n3. 'Shares'\n4. 'Page.Name.fac'\n5. 'republican'\n6. 'sentistr'\n7. 'insult'\n8. 'sentistr_std'\n9. 'insult_std'\n\n\n",
            "text/html": [
              "<style>\n",
              ".list-inline {list-style: none; margin:0; padding: 0}\n",
              ".list-inline>li {display: inline-block}\n",
              ".list-inline>li:not(:last-child)::after {content: \"\\00b7\"; padding: 0 .5ex}\n",
              "</style>\n",
              "<ol class=list-inline><li>'Likes'</li><li>'Comments'</li><li>'Shares'</li><li>'Page.Name.fac'</li><li>'republican'</li><li>'sentistr'</li><li>'insult'</li><li>'sentistr_std'</li><li>'insult_std'</li></ol>\n"
            ]
          },
          "metadata": {}
        }
      ]
    },
    {
      "cell_type": "code",
      "metadata": {
        "colab": {
          "base_uri": "https://localhost:8080/",
          "height": 34
        },
        "id": "0kxQ7KDSSOuo",
        "outputId": "18917890-1873-4f9f-eb62-651b5ccdb274"
      },
      "source": [
        "names(final_pages_react_nona_st)"
      ],
      "execution_count": 4,
      "outputs": [
        {
          "output_type": "display_data",
          "data": {
            "text/plain": [
              " [1] \"Love\"          \"Wow\"           \"Haha\"          \"Sad\"          \n",
              " [5] \"Angry\"         \"Page.Name.fac\" \"republican\"    \"sentistr\"     \n",
              " [9] \"insult\"        \"sentistr_std\"  \"insult_std\"   "
            ],
            "text/latex": "\\begin{enumerate*}\n\\item 'Love'\n\\item 'Wow'\n\\item 'Haha'\n\\item 'Sad'\n\\item 'Angry'\n\\item 'Page.Name.fac'\n\\item 'republican'\n\\item 'sentistr'\n\\item 'insult'\n\\item 'sentistr\\_std'\n\\item 'insult\\_std'\n\\end{enumerate*}\n",
            "text/markdown": "1. 'Love'\n2. 'Wow'\n3. 'Haha'\n4. 'Sad'\n5. 'Angry'\n6. 'Page.Name.fac'\n7. 'republican'\n8. 'sentistr'\n9. 'insult'\n10. 'sentistr_std'\n11. 'insult_std'\n\n\n",
            "text/html": [
              "<style>\n",
              ".list-inline {list-style: none; margin:0; padding: 0}\n",
              ".list-inline>li {display: inline-block}\n",
              ".list-inline>li:not(:last-child)::after {content: \"\\00b7\"; padding: 0 .5ex}\n",
              "</style>\n",
              "<ol class=list-inline><li>'Love'</li><li>'Wow'</li><li>'Haha'</li><li>'Sad'</li><li>'Angry'</li><li>'Page.Name.fac'</li><li>'republican'</li><li>'sentistr'</li><li>'insult'</li><li>'sentistr_std'</li><li>'insult_std'</li></ol>\n"
            ]
          },
          "metadata": {}
        }
      ]
    },
    {
      "cell_type": "code",
      "metadata": {
        "colab": {
          "base_uri": "https://localhost:8080/"
        },
        "id": "U1jMvrdREo8v",
        "outputId": "1ac5270e-4912-469b-a9ef-aae654a4c286"
      },
      "source": [
        "install.packages(\"remotes\")\n",
        "remotes::install_github(\"nyiuab/NBZIMM\")\n",
        "library(NBZIMM)"
      ],
      "execution_count": 3,
      "outputs": [
        {
          "output_type": "stream",
          "name": "stderr",
          "text": [
            "Installing package into ‘/usr/local/lib/R/site-library’\n",
            "(as ‘lib’ is unspecified)\n",
            "\n",
            "Downloading GitHub repo nyiuab/NBZIMM@HEAD\n",
            "\n"
          ]
        },
        {
          "output_type": "stream",
          "name": "stdout",
          "text": [
            "* checking for file ‘/tmp/Rtmp9KdYVb/remotese119b04d1f/nyiuab-NBZIMM-b3bc032/DESCRIPTION’ ... OK\n",
            "* preparing ‘NBZIMM’:\n",
            "* checking DESCRIPTION meta-information ... OK\n",
            "* checking for LF line-endings in source and make files and shell scripts\n",
            "* checking for empty or unneeded directories\n",
            "* building ‘NBZIMM_1.0.tar.gz’\n",
            "\n"
          ]
        },
        {
          "output_type": "stream",
          "name": "stderr",
          "text": [
            "Installing package into ‘/usr/local/lib/R/site-library’\n",
            "(as ‘lib’ is unspecified)\n",
            "\n",
            "\n",
            "Attaching package: ‘NBZIMM’\n",
            "\n",
            "\n",
            "The following object is masked from ‘package:stringr’:\n",
            "\n",
            "    fixed\n",
            "\n",
            "\n"
          ]
        }
      ]
    },
    {
      "cell_type": "markdown",
      "source": [
        "## NBZIMM (additional)"
      ],
      "metadata": {
        "id": "D032d4rBsH6S"
      }
    },
    {
      "cell_type": "markdown",
      "source": [
        "### shares"
      ],
      "metadata": {
        "id": "eBNElrTCsMtF"
      }
    },
    {
      "cell_type": "markdown",
      "source": [
        "### main + fitted"
      ],
      "metadata": {
        "id": "v9ZbLhPLsuZN"
      }
    },
    {
      "cell_type": "code",
      "source": [
        "system.time(m2_Shares_zinbi_main_std_comp <- glmm.zinb(Shares ~ sentistr_std + insult_std + republican, random = ~1|Page.Name.fac , zi_fixed =  ~1, data=final_pages_all_nona_st))\n"
      ],
      "metadata": {
        "colab": {
          "base_uri": "https://localhost:8080/",
          "height": 481
        },
        "id": "oLXShrPFsOnt",
        "outputId": "a30770ef-0460-4468-feeb-d6508b55a0c0"
      },
      "execution_count": 4,
      "outputs": [
        {
          "output_type": "stream",
          "name": "stderr",
          "text": [
            "Loading required namespace: nlme\n",
            "\n",
            "Loading required namespace: MASS\n",
            "\n",
            "\n",
            "Attaching package: ‘nlme’\n",
            "\n",
            "\n",
            "The following object is masked from ‘package:dplyr’:\n",
            "\n",
            "    collapse\n",
            "\n",
            "\n",
            "\n",
            "Attaching package: ‘MASS’\n",
            "\n",
            "\n",
            "The following object is masked from ‘package:dplyr’:\n",
            "\n",
            "    select\n",
            "\n",
            "\n"
          ]
        },
        {
          "output_type": "stream",
          "name": "stdout",
          "text": [
            "Computational iterations: 27 \n",
            "Computational time: 150.738 minutes \n"
          ]
        },
        {
          "output_type": "display_data",
          "data": {
            "text/plain": [
              "    user   system  elapsed \n",
              "8729.278  313.836 9044.407 "
            ]
          },
          "metadata": {}
        }
      ]
    },
    {
      "cell_type": "code",
      "source": [
        "m2_Shares_zinbi_main_std_comp_fit <- m2_Shares_zinbi_main_std_comp$fitted\n",
        "saveRDS(m2_Shares_zinbi_main_std_comp_fit, \"m2_Shares_zinbi_main_std_comp_fit.rds\")\n"
      ],
      "metadata": {
        "id": "F5Zp6wRCsOBa"
      },
      "execution_count": 5,
      "outputs": []
    },
    {
      "cell_type": "code",
      "source": [
        "summary(m2_Shares_zinbi_main_std_comp)\n"
      ],
      "metadata": {
        "colab": {
          "base_uri": "https://localhost:8080/",
          "height": 570
        },
        "id": "-WLZ_3yGsTCc",
        "outputId": "cd46e8c8-ccf2-4947-f971-953317286f1f"
      },
      "execution_count": 6,
      "outputs": [
        {
          "output_type": "display_data",
          "data": {
            "text/plain": [
              "Linear mixed-effects model fit by maximum likelihood\n",
              "  Data: final_pages_all_nona_st \n",
              "  AIC BIC logLik\n",
              "   NA  NA     NA\n",
              "\n",
              "Random effects:\n",
              " Formula: ~1 | Page.Name.fac\n",
              "        (Intercept) Residual\n",
              "StdDev:    1.381421 5.273061\n",
              "\n",
              "Variance function:\n",
              " Structure: fixed weights\n",
              " Formula: ~invwt \n",
              "Fixed effects:  Shares ~ sentistr_std + insult_std + republican \n",
              "                 Value  Std.Error       DF  t-value p-value\n",
              "(Intercept)   4.516513 0.04909809 13954374 91.98958  0.0000\n",
              "sentistr_std  0.009915 0.00284067 13954374  3.49050  0.0005\n",
              "insult_std    0.092176 0.00291879 13954374 31.58012  0.0000\n",
              "republican   -0.285872 0.07254021     1491 -3.94088  0.0001\n",
              " Correlation: \n",
              "             (Intr) sntst_ inslt_\n",
              "sentistr_std -0.005              \n",
              "insult_std    0.000  0.262       \n",
              "republican   -0.677  0.004  0.000\n",
              "\n",
              "Standardized Within-Group Residuals:\n",
              "         Min           Q1          Med           Q3          Max \n",
              " -0.09997876  -0.09719741  -0.08434632  -0.03841112 704.04044450 \n",
              "\n",
              "Number of Observations: 13955869\n",
              "Number of Groups: 1493 "
            ]
          },
          "metadata": {}
        }
      ]
    },
    {
      "cell_type": "code",
      "source": [
        "summary(m2_Shares_zinbi_main_std_comp$fit.zero)\n"
      ],
      "metadata": {
        "colab": {
          "base_uri": "https://localhost:8080/",
          "height": 392
        },
        "id": "K2ydJOMIsU4_",
        "outputId": "32bbcd8a-6fc2-42ea-e589-aa3b213b076c"
      },
      "execution_count": 7,
      "outputs": [
        {
          "output_type": "display_data",
          "data": {
            "text/plain": [
              "\n",
              "Call:\n",
              "glm(formula = fm, family = binomial, data = data)\n",
              "\n",
              "Deviance Residuals: \n",
              "     Min        1Q    Median        3Q       Max  \n",
              "-0.01097  -0.01097  -0.01097  -0.01097   0.08406  \n",
              "\n",
              "Coefficients:\n",
              "            Estimate Std. Error z value            Pr(>|z|)    \n",
              "(Intercept) -9.71913    0.03452  -281.5 <0.0000000000000002 ***\n",
              "---\n",
              "Signif. codes:  0 ‘***’ 0.001 ‘**’ 0.01 ‘*’ 0.05 ‘.’ 0.1 ‘ ’ 1\n",
              "\n",
              "(Dispersion parameter for binomial family taken to be 1)\n",
              "\n",
              "    Null deviance: 2918.7  on 13955868  degrees of freedom\n",
              "Residual deviance: 2918.7  on 13955868  degrees of freedom\n",
              "AIC: 1680.1\n",
              "\n",
              "Number of Fisher Scoring iterations: 12\n"
            ]
          },
          "metadata": {}
        }
      ]
    },
    {
      "cell_type": "markdown",
      "source": [
        "### interaction + fitted"
      ],
      "metadata": {
        "id": "iPBSBYZXsxdc"
      }
    },
    {
      "cell_type": "code",
      "source": [
        "system.time(m2_Shares_zinbi_int_std <- glmm.zinb(Shares ~ sentistr_std*republican + insult_std*republican, random = ~1|Page.Name.fac , zi_fixed =  ~1, data=final_pages_all_nona_st))\n"
      ],
      "metadata": {
        "colab": {
          "base_uri": "https://localhost:8080/",
          "height": 481
        },
        "id": "b3XMZnV0szdM",
        "outputId": "a40476f0-a824-4cb2-80ce-6a8fd1a2c1b8"
      },
      "execution_count": 4,
      "outputs": [
        {
          "output_type": "stream",
          "name": "stderr",
          "text": [
            "Loading required namespace: nlme\n",
            "\n",
            "Loading required namespace: MASS\n",
            "\n",
            "\n",
            "Attaching package: ‘nlme’\n",
            "\n",
            "\n",
            "The following object is masked from ‘package:dplyr’:\n",
            "\n",
            "    collapse\n",
            "\n",
            "\n",
            "\n",
            "Attaching package: ‘MASS’\n",
            "\n",
            "\n",
            "The following object is masked from ‘package:dplyr’:\n",
            "\n",
            "    select\n",
            "\n",
            "\n"
          ]
        },
        {
          "output_type": "stream",
          "name": "stdout",
          "text": [
            "Computational iterations: 25 \n",
            "Computational time: 190.178 minutes \n"
          ]
        },
        {
          "output_type": "display_data",
          "data": {
            "text/plain": [
              "     user    system   elapsed \n",
              "10649.506   758.479 11410.821 "
            ]
          },
          "metadata": {}
        }
      ]
    },
    {
      "cell_type": "code",
      "source": [
        "m2_Shares_zinbi_int_std_fit <- m2_Shares_zinbi_int_std$fitted\n",
        "saveRDS(m2_Shares_zinbi_int_std_fit, \"m2_Shares_zinbi_int_std_fit.rds\")\n"
      ],
      "metadata": {
        "id": "rhEKx6bms7ku"
      },
      "execution_count": 5,
      "outputs": []
    },
    {
      "cell_type": "code",
      "source": [
        "summary(m2_Shares_zinbi_int_std)\n"
      ],
      "metadata": {
        "colab": {
          "base_uri": "https://localhost:8080/",
          "height": 642
        },
        "id": "eb6ZmLgzs3l3",
        "outputId": "0d7b9321-691b-47b1-d488-74f22920aa77"
      },
      "execution_count": 6,
      "outputs": [
        {
          "output_type": "display_data",
          "data": {
            "text/plain": [
              "Linear mixed-effects model fit by maximum likelihood\n",
              "  Data: final_pages_all_nona_st \n",
              "  AIC BIC logLik\n",
              "   NA  NA     NA\n",
              "\n",
              "Random effects:\n",
              " Formula: ~1 | Page.Name.fac\n",
              "        (Intercept) Residual\n",
              "StdDev:    1.382629 5.271517\n",
              "\n",
              "Variance function:\n",
              " Structure: fixed weights\n",
              " Formula: ~invwt \n",
              "Fixed effects:  Shares ~ sentistr_std * republican + insult_std * republican \n",
              "                            Value  Std.Error       DF  t-value p-value\n",
              "(Intercept)              4.515927 0.04914031 13954372 91.89863  0.0000\n",
              "sentistr_std             0.017331 0.00383288 13954372  4.52172  0.0000\n",
              "republican              -0.284705 0.07260240     1491 -3.92143  0.0001\n",
              "insult_std               0.090929 0.00410983 13954372 22.12477  0.0000\n",
              "sentistr_std:republican -0.016506 0.00570786 13954372 -2.89188  0.0038\n",
              "republican:insult_std    0.002228 0.00583605 13954372  0.38176  0.7026\n",
              " Correlation: \n",
              "                        (Intr) sntst_ rpblcn inslt_ snts_:\n",
              "sentistr_std            -0.007                            \n",
              "republican              -0.677  0.005                     \n",
              "insult_std               0.001  0.266  0.000              \n",
              "sentistr_std:republican  0.005 -0.672 -0.003 -0.179       \n",
              "republican:insult_std    0.000 -0.187  0.001 -0.704  0.261\n",
              "\n",
              "Standardized Within-Group Residuals:\n",
              "         Min           Q1          Med           Q3          Max \n",
              " -0.10001630  -0.09722978  -0.08437682  -0.03843363 700.52275245 \n",
              "\n",
              "Number of Observations: 13955869\n",
              "Number of Groups: 1493 "
            ]
          },
          "metadata": {}
        }
      ]
    },
    {
      "cell_type": "code",
      "source": [
        "summary(m2_Shares_zinbi_int_std$fit.zero)\n"
      ],
      "metadata": {
        "colab": {
          "base_uri": "https://localhost:8080/",
          "height": 392
        },
        "id": "jU2ofjK3s4ab",
        "outputId": "5552cc8d-cc58-4670-c1a0-eb9be73884b6"
      },
      "execution_count": 7,
      "outputs": [
        {
          "output_type": "display_data",
          "data": {
            "text/plain": [
              "\n",
              "Call:\n",
              "glm(formula = fm, family = binomial, data = data)\n",
              "\n",
              "Deviance Residuals: \n",
              "     Min        1Q    Median        3Q       Max  \n",
              "-0.01455  -0.01455  -0.01455  -0.01455   0.11176  \n",
              "\n",
              "Coefficients:\n",
              "            Estimate Std. Error z value            Pr(>|z|)    \n",
              "(Intercept) -9.15298    0.02601  -351.8 <0.0000000000000002 ***\n",
              "---\n",
              "Signif. codes:  0 ‘***’ 0.001 ‘**’ 0.01 ‘*’ 0.05 ‘.’ 0.1 ‘ ’ 1\n",
              "\n",
              "(Dispersion parameter for binomial family taken to be 1)\n",
              "\n",
              "    Null deviance: 5141.1  on 13955868  degrees of freedom\n",
              "Residual deviance: 5141.1  on 13955868  degrees of freedom\n",
              "AIC: 2957.8\n",
              "\n",
              "Number of Fisher Scoring iterations: 12\n"
            ]
          },
          "metadata": {}
        }
      ]
    },
    {
      "cell_type": "markdown",
      "source": [
        "## angry"
      ],
      "metadata": {
        "id": "K1swhpGptN7b"
      }
    },
    {
      "cell_type": "markdown",
      "source": [
        "### main + fitted"
      ],
      "metadata": {
        "id": "cwg7SZzNtSFI"
      }
    },
    {
      "cell_type": "code",
      "source": [
        "system.time(m2_Angry_zinbi_main_std_comp <- glmm.zinb(Angry ~ sentistr_std + insult_std + republican, random = ~1|Page.Name.fac , zi_fixed =  ~1, data=final_pages_react_nona_st))\n"
      ],
      "metadata": {
        "colab": {
          "base_uri": "https://localhost:8080/"
        },
        "id": "49r4pefBtXMz",
        "outputId": "301fbc4a-f346-4dee-dafd-a5df9c2a4632"
      },
      "execution_count": null,
      "outputs": [
        {
          "output_type": "stream",
          "name": "stderr",
          "text": [
            "Loading required namespace: nlme\n",
            "\n",
            "Loading required namespace: MASS\n",
            "\n",
            "\n",
            "Attaching package: ‘nlme’\n",
            "\n",
            "\n",
            "The following object is masked from ‘package:dplyr’:\n",
            "\n",
            "    collapse\n",
            "\n",
            "\n",
            "\n",
            "Attaching package: ‘MASS’\n",
            "\n",
            "\n",
            "The following object is masked from ‘package:dplyr’:\n",
            "\n",
            "    select\n",
            "\n",
            "\n"
          ]
        }
      ]
    },
    {
      "cell_type": "code",
      "source": [
        "\n",
        "m2_Angry_zinbi_main_std_comp_fit <- m2_Angry_zinbi_main_std_comp$fitted\n",
        "saveRDS(m2_Angry_zinbi_main_std_comp_fit, \"m2_Angry_zinbi_main_std_comp_fit.rds\")\n"
      ],
      "metadata": {
        "id": "BdJqyLG2tXAK"
      },
      "execution_count": null,
      "outputs": []
    },
    {
      "cell_type": "code",
      "source": [
        "summary(m2_Angry_zinbi_main_std_comp)\n"
      ],
      "metadata": {
        "colab": {
          "base_uri": "https://localhost:8080/",
          "height": 570
        },
        "id": "anR4GmzOtXI3",
        "outputId": "c7815745-c8fa-4dcf-c239-e26a027754be"
      },
      "execution_count": 9,
      "outputs": [
        {
          "output_type": "display_data",
          "data": {
            "text/plain": [
              "Linear mixed-effects model fit by maximum likelihood\n",
              "  Data: final_pages_react_nona_st \n",
              "  AIC BIC logLik\n",
              "   NA  NA     NA\n",
              "\n",
              "Random effects:\n",
              " Formula: ~1 | Page.Name.fac\n",
              "        (Intercept) Residual\n",
              "StdDev:    1.386259  1.57076\n",
              "\n",
              "Variance function:\n",
              " Structure: fixed weights\n",
              " Formula: ~invwt \n",
              "Fixed effects:  Angry ~ sentistr_std + insult_std + republican \n",
              "                  Value  Std.Error       DF    t-value p-value\n",
              "(Intercept)   2.7715473 0.05318292 10990044   52.11348       0\n",
              "sentistr_std -0.3064409 0.00122594 10990044 -249.96406       0\n",
              "insult_std    0.1546961 0.00125264 10990044  123.49599       0\n",
              "republican   -0.3530659 0.07222066     1489   -4.88871       0\n",
              " Correlation: \n",
              "             (Intr) sntst_ inslt_\n",
              "sentistr_std  0.000              \n",
              "insult_std    0.000  0.264       \n",
              "republican   -0.736 -0.002  0.000\n",
              "\n",
              "Standardized Within-Group Residuals:\n",
              "        Min          Q1         Med          Q3         Max \n",
              " -0.2677881  -0.2549932  -0.2503223  -0.1321421 593.1236957 \n",
              "\n",
              "Number of Observations: 10991537\n",
              "Number of Groups: 1491 "
            ]
          },
          "metadata": {}
        }
      ]
    },
    {
      "cell_type": "code",
      "source": [
        "summary(m2_Angry_zinbi_main_std_comp$fit.zero)\n"
      ],
      "metadata": {
        "colab": {
          "base_uri": "https://localhost:8080/",
          "height": 392
        },
        "id": "Mu5aYI7ntXEv",
        "outputId": "ead3cd09-df03-483d-f428-a8fb91068706"
      },
      "execution_count": 10,
      "outputs": [
        {
          "output_type": "display_data",
          "data": {
            "text/plain": [
              "\n",
              "Call:\n",
              "glm(formula = fm, family = binomial, data = data)\n",
              "\n",
              "Deviance Residuals: \n",
              "    Min       1Q   Median       3Q      Max  \n",
              "-0.2623  -0.2623  -0.2623   0.1751   0.6606  \n",
              "\n",
              "Coefficients:\n",
              "             Estimate Std. Error z value            Pr(>|z|)    \n",
              "(Intercept) -3.352725   0.001669   -2009 <0.0000000000000002 ***\n",
              "---\n",
              "Signif. codes:  0 ‘***’ 0.001 ‘**’ 0.01 ‘*’ 0.05 ‘.’ 0.1 ‘ ’ 1\n",
              "\n",
              "(Dispersion parameter for binomial family taken to be 1)\n",
              "\n",
              "    Null deviance: 615640  on 10991536  degrees of freedom\n",
              "Residual deviance: 615640  on 10991536  degrees of freedom\n",
              "AIC: 756015\n",
              "\n",
              "Number of Fisher Scoring iterations: 6\n"
            ]
          },
          "metadata": {}
        }
      ]
    },
    {
      "cell_type": "markdown",
      "source": [
        "### interaction + fitted"
      ],
      "metadata": {
        "id": "Apz0oBG3tT1S"
      }
    },
    {
      "cell_type": "code",
      "source": [
        "system.time(m2_Angry_zinbi_int_std <- glmm.zinb(Angry ~ sentistr_std*republican + insult_std*republican, random = ~1|Page.Name.fac , zi_fixed =  ~1, data=final_pages_react_nona_st))\n",
        "\n"
      ],
      "metadata": {
        "id": "1pFsmpXEtWkJ"
      },
      "execution_count": null,
      "outputs": []
    },
    {
      "cell_type": "code",
      "source": [
        "\n",
        "m2_Angry_zinbi_int_std_fit <- m2_Angry_zinbi_int_std$fitted\n",
        "saveRDS(m2_Angry_zinbi_int_std_fit, \"m2_Angry_zinbi_int_std_fit.rds\")"
      ],
      "metadata": {
        "id": "bi8clb1etWUH"
      },
      "execution_count": null,
      "outputs": []
    },
    {
      "cell_type": "code",
      "source": [
        "summary(m2_Angry_zinbi_int_std)\n"
      ],
      "metadata": {
        "id": "jInUfskitWfs"
      },
      "execution_count": null,
      "outputs": []
    },
    {
      "cell_type": "code",
      "source": [
        "summary(m2_Angry_zinbi_int_std$fit.zero)\n"
      ],
      "metadata": {
        "id": "xfgdpxV-tWaI"
      },
      "execution_count": null,
      "outputs": []
    },
    {
      "cell_type": "markdown",
      "source": [
        "### main - separate"
      ],
      "metadata": {
        "id": "p0JVCovdwQ4q"
      }
    },
    {
      "cell_type": "code",
      "source": [
        "system.time(m2_Angry_zinbi_senti_main_std <- glmm.zinb(Angry ~ sentistr_std + republican, random = ~1|Page.Name.fac , zi_fixed =  ~1, data=final_pages_react_nona_st))\n"
      ],
      "metadata": {
        "id": "8PDn90nPwU5v"
      },
      "execution_count": null,
      "outputs": []
    },
    {
      "cell_type": "code",
      "source": [
        "summary(m2_Angry_zinbi_senti_main_std)\n"
      ],
      "metadata": {
        "id": "bD9zBM-6wUzL"
      },
      "execution_count": null,
      "outputs": []
    },
    {
      "cell_type": "code",
      "source": [
        "summary(m2_Angry_zinbi_senti_main_std$fit.zero)\n"
      ],
      "metadata": {
        "id": "MLaKGe_VwUpc"
      },
      "execution_count": null,
      "outputs": []
    },
    {
      "cell_type": "code",
      "source": [
        "system.time(m2_Angry_zinbi_inciv_main_std <- glmm.zinb(Angry ~ insult_std + republican, random = ~1|Page.Name.fac , zi_fixed =  ~1, data=final_pages_react_nona_st))\n"
      ],
      "metadata": {
        "id": "6kRjqic_wZHQ"
      },
      "execution_count": null,
      "outputs": []
    },
    {
      "cell_type": "code",
      "source": [
        "summary(m2_Angry_zinbi_inciv_main_std)\n"
      ],
      "metadata": {
        "id": "C2Uhsha0wZC9"
      },
      "execution_count": null,
      "outputs": []
    },
    {
      "cell_type": "code",
      "source": [
        "summary(m2_Angry_zinbi_inciv_main_std$fit.zero)\n"
      ],
      "metadata": {
        "id": "gMRHHmltwY-L"
      },
      "execution_count": null,
      "outputs": []
    },
    {
      "cell_type": "markdown",
      "metadata": {
        "id": "LuOqYh51d1ys"
      },
      "source": [
        "## Love"
      ]
    },
    {
      "cell_type": "markdown",
      "source": [
        "### main + fitted"
      ],
      "metadata": {
        "id": "m7kD11GtzRy4"
      }
    },
    {
      "cell_type": "code",
      "metadata": {
        "id": "9okuKNzud4pl"
      },
      "source": [
        "system.time(m2_Love_zinbi_main_std_comp <- glmm.zinb(Love ~ sentistr_std + insult_std + republican, random = ~1|Page.Name.fac , zi_fixed =  ~1, data=final_pages_react_nona_st))\n"
      ],
      "execution_count": null,
      "outputs": []
    },
    {
      "cell_type": "code",
      "metadata": {
        "id": "afYogUPCfxXQ"
      },
      "source": [
        "m2_Love_zinbi_main_std_comp_fit <- m2_Love_zinbi_main_std_comp$fitted\n",
        "saveRDS(m2_Love_zinbi_main_std_comp_fit, \"m2_Love_zinbi_main_std_comp_fit.rds\")"
      ],
      "execution_count": null,
      "outputs": []
    },
    {
      "cell_type": "code",
      "metadata": {
        "id": "r5NebD2vd4mH"
      },
      "source": [
        "summary(m2_Love_zinbi_main_std_comp)\n"
      ],
      "execution_count": null,
      "outputs": []
    },
    {
      "cell_type": "code",
      "metadata": {
        "id": "rI-v_vT-d4hV"
      },
      "source": [
        "summary(m2_Love_zinbi_main_std_comp$fit.zero)\n"
      ],
      "execution_count": null,
      "outputs": []
    },
    {
      "cell_type": "markdown",
      "source": [
        "### interaction + fitted"
      ],
      "metadata": {
        "id": "UKwbJ7IBzawm"
      }
    },
    {
      "cell_type": "code",
      "metadata": {
        "id": "n_kVP6-zd4dJ"
      },
      "source": [
        "system.time(m2_Love_zinbi_int_std <- glmm.zinb(Love ~ sentistr_std*republican + insult_std*republican, random = ~1|Page.Name.fac , zi_fixed =  ~1, data=final_pages_react_nona_st))\n"
      ],
      "execution_count": null,
      "outputs": []
    },
    {
      "cell_type": "code",
      "source": [
        "m2_Love_zinbi_int_std_fit <- m2_Love_zinbi_int_std$fitted\n",
        "saveRDS(m2_Love_zinbi_int_std_fit, \"m2_Love_zinbi_int_std_fit.rds\")\n"
      ],
      "metadata": {
        "id": "zhaMylJR0CbK"
      },
      "execution_count": null,
      "outputs": []
    },
    {
      "cell_type": "code",
      "metadata": {
        "id": "gse6IzfOd4YH"
      },
      "source": [
        "summary(m2_Love_zinbi_int_std)\n"
      ],
      "execution_count": null,
      "outputs": []
    },
    {
      "cell_type": "code",
      "metadata": {
        "id": "1iPazIVhd4Se"
      },
      "source": [
        "summary(m2_Love_zinbi_int_std$fit.zero)\n"
      ],
      "execution_count": null,
      "outputs": []
    },
    {
      "cell_type": "markdown",
      "source": [
        "### main + sep"
      ],
      "metadata": {
        "id": "0qkWp8RozVJ6"
      }
    },
    {
      "cell_type": "code",
      "metadata": {
        "id": "TuhdXCGJd3h2"
      },
      "source": [
        "system.time(m2_Love_zinbi_inciv_main_std <- glmm.zinb(Love ~ insult_std + republican, random = ~1|Page.Name.fac , zi_fixed =  ~1, data=final_pages_react_nona_st))\n"
      ],
      "execution_count": null,
      "outputs": []
    },
    {
      "cell_type": "code",
      "metadata": {
        "id": "cW2X45dMd42b"
      },
      "source": [
        "summary(m2_Love_zinbi_inciv_main_std)\n"
      ],
      "execution_count": null,
      "outputs": []
    },
    {
      "cell_type": "code",
      "metadata": {
        "id": "ml2MHILId4yX"
      },
      "source": [
        "summary(m2_Love_zinbi_inciv_main_std$fit.zero)\n"
      ],
      "execution_count": null,
      "outputs": []
    },
    {
      "cell_type": "code",
      "metadata": {
        "id": "_hCBWReAeSht"
      },
      "source": [
        "system.time(m2_Love_zinbi_senti_main_std <- glmm.zinb(Love ~ sentistr_std + republican, random = ~1|Page.Name.fac , zi_fixed =  ~1, data=final_pages_react_nona_st))\n"
      ],
      "execution_count": null,
      "outputs": []
    },
    {
      "cell_type": "code",
      "source": [
        "summary(m2_Love_zinbi_senti_main_std$fit.zero)\n"
      ],
      "metadata": {
        "id": "nXfFapArzw08"
      },
      "execution_count": null,
      "outputs": []
    },
    {
      "cell_type": "code",
      "source": [
        "summary(m2_Love_zinbi_senti_main_std)\n"
      ],
      "metadata": {
        "id": "Dj-FCyxLzwp-"
      },
      "execution_count": null,
      "outputs": []
    },
    {
      "cell_type": "markdown",
      "metadata": {
        "id": "Yu7lgCr9eCPl"
      },
      "source": [
        "## Haha"
      ]
    },
    {
      "cell_type": "markdown",
      "source": [
        "### main + fitted"
      ],
      "metadata": {
        "id": "TKeRPLSb0WHR"
      }
    },
    {
      "cell_type": "code",
      "metadata": {
        "id": "sNFJX2j2edPT"
      },
      "source": [
        "system.time(m2_Haha_zinbi_main_std_comp <- glmm.zinb(Haha ~ sentistr_std + insult_std + republican, random = ~1|Page.Name.fac , zi_fixed =  ~1, data=final_pages_react_nona_st))\n"
      ],
      "execution_count": null,
      "outputs": []
    },
    {
      "cell_type": "code",
      "metadata": {
        "id": "v4uVE0OKf3C-"
      },
      "source": [
        "m2_Haha_zinbi_main_std_comp_fit <- m2_Haha_zinbi_main_std_comp$fitted\n",
        "saveRDS(m2_Haha_zinbi_main_std_comp_fit, \"m2_Haha_zinbi_main_std_comp_fit.rds\")"
      ],
      "execution_count": null,
      "outputs": []
    },
    {
      "cell_type": "code",
      "metadata": {
        "id": "58ts5Q7QedMj"
      },
      "source": [
        "summary(m2_Haha_zinbi_main_std_comp)\n"
      ],
      "execution_count": null,
      "outputs": []
    },
    {
      "cell_type": "code",
      "metadata": {
        "id": "Wn1HsYVTedJm"
      },
      "source": [
        "summary(m2_Haha_zinbi_main_std_comp$fit.zero)\n"
      ],
      "execution_count": null,
      "outputs": []
    },
    {
      "cell_type": "markdown",
      "source": [
        "### interaction + fitted"
      ],
      "metadata": {
        "id": "cI0my16-0e5R"
      }
    },
    {
      "cell_type": "code",
      "metadata": {
        "id": "sKK7DegwedFu"
      },
      "source": [
        "system.time(m2_Haha_zinbi_int_std <- glmm.zinb(Haha ~ sentistr_std*republican + insult_std*republican, random = ~1|Page.Name.fac , zi_fixed =  ~1, data=final_pages_react_nona_st))\n"
      ],
      "execution_count": null,
      "outputs": []
    },
    {
      "cell_type": "code",
      "source": [
        "m2_Haha_zinbi_int_std_fit <- m2_Haha_zinbi_int_std$fitted\n",
        "saveRDS(m2_Haha_zinbi_int_std_fit, \"m2_Haha_zinbi_int_std_fit.rds\")"
      ],
      "metadata": {
        "id": "xL7vDDKT0iiH"
      },
      "execution_count": null,
      "outputs": []
    },
    {
      "cell_type": "code",
      "metadata": {
        "id": "mD-yFBVZedBk"
      },
      "source": [
        "summary(m2_Haha_zinbi_int_std)\n"
      ],
      "execution_count": null,
      "outputs": []
    },
    {
      "cell_type": "code",
      "metadata": {
        "id": "aMXHCLDUelqj"
      },
      "source": [
        "summary(m2_Haha_zinbi_int_std$fit.zero)\n"
      ],
      "execution_count": null,
      "outputs": []
    },
    {
      "cell_type": "markdown",
      "source": [
        "### main -- separate"
      ],
      "metadata": {
        "id": "VVkJ-vat0awt"
      }
    },
    {
      "cell_type": "code",
      "metadata": {
        "id": "o2VycT8WeDjx"
      },
      "source": [
        "system.time(m2_Haha_zinbi_inciv_main_std <- glmm.zinb(Haha ~ insult_std + republican, random = ~1|Page.Name.fac , zi_fixed =  ~1, data=final_pages_react_nona_st))\n"
      ],
      "execution_count": null,
      "outputs": []
    },
    {
      "cell_type": "code",
      "metadata": {
        "id": "C2z8UG-pedj4"
      },
      "source": [
        "summary(m2_Haha_zinbi_inciv_main_std)\n"
      ],
      "execution_count": null,
      "outputs": []
    },
    {
      "cell_type": "code",
      "metadata": {
        "id": "KaqD4FoKedfE"
      },
      "source": [
        "summary(m2_Haha_zinbi_inciv_main_std$fit.zero)\n"
      ],
      "execution_count": null,
      "outputs": []
    },
    {
      "cell_type": "code",
      "metadata": {
        "id": "l_Hh4q2uedbZ"
      },
      "source": [
        "system.time(m2_Haha_zinbi_senti_main_std <- glmm.zinb(Haha ~ sentistr_std + republican, random = ~1|Page.Name.fac , zi_fixed =  ~1, data=final_pages_react_nona_st))\n"
      ],
      "execution_count": null,
      "outputs": []
    },
    {
      "cell_type": "code",
      "metadata": {
        "id": "OF0ZHd_5edXO"
      },
      "source": [
        "summary(m2_Haha_zinbi_senti_main_std)\n"
      ],
      "execution_count": null,
      "outputs": []
    },
    {
      "cell_type": "code",
      "metadata": {
        "id": "m1T1vt1BedT_"
      },
      "source": [
        "summary(m2_Haha_zinbi_senti_main_std$fit.zero)\n"
      ],
      "execution_count": null,
      "outputs": []
    },
    {
      "cell_type": "markdown",
      "metadata": {
        "id": "93S_iTNReD8z"
      },
      "source": [
        "## Sad"
      ]
    },
    {
      "cell_type": "markdown",
      "source": [
        "### main + fitted"
      ],
      "metadata": {
        "id": "DEY8Qs2o0qom"
      }
    },
    {
      "cell_type": "code",
      "metadata": {
        "id": "FE7K0dl9eqXK"
      },
      "source": [
        "system.time(m2_Sad_zinbi_main_std_comp <- glmm.zinb(Sad ~ sentistr_std + insult_std + republican, random = ~1|Page.Name.fac , zi_fixed =  ~1, data=final_pages_react_nona_st))\n"
      ],
      "execution_count": null,
      "outputs": []
    },
    {
      "cell_type": "code",
      "metadata": {
        "id": "2YUFCNgMf62Y"
      },
      "source": [
        "m2_Sad_zinbi_main_std_comp_fit <- m2_Sad_zinbi_main_std_comp$fitted\n",
        "saveRDS(m2_Sad_zinbi_main_std_comp_fit, \"m2_Sad_zinbi_main_std_comp_fit.rds\")"
      ],
      "execution_count": null,
      "outputs": []
    },
    {
      "cell_type": "code",
      "metadata": {
        "id": "pcOk0fVieqPt"
      },
      "source": [
        "summary(m2_Sad_zinbi_main_std_comp)\n"
      ],
      "execution_count": null,
      "outputs": []
    },
    {
      "cell_type": "code",
      "metadata": {
        "id": "Yjp9d3j0eqMH"
      },
      "source": [
        "summary(m2_Sad_zinbi_main_std_comp$fit.zero)\n"
      ],
      "execution_count": null,
      "outputs": []
    },
    {
      "cell_type": "markdown",
      "source": [
        "### interaction + fitted"
      ],
      "metadata": {
        "id": "C38uJo2o053E"
      }
    },
    {
      "cell_type": "code",
      "metadata": {
        "id": "5x3YVPT9eqHH"
      },
      "source": [
        "system.time(m2_Sad_zinbi_int_std <- glmm.zinb(Sad ~ sentistr_std*republican + insult_std*republican, random = ~1|Page.Name.fac , zi_fixed =  ~1, data=final_pages_react_nona_st))\n"
      ],
      "execution_count": null,
      "outputs": []
    },
    {
      "cell_type": "code",
      "source": [
        "m2_Sad_zinbi_int_std_fit <- m2_Sad_zinbi_int_std$fitted\n",
        "saveRDS(m2_Sad_zinbi_int_std_fit, \"m2_Sad_zinbi_int_std_fit.rds\")"
      ],
      "metadata": {
        "id": "D5PPCQgI09Rl"
      },
      "execution_count": null,
      "outputs": []
    },
    {
      "cell_type": "code",
      "metadata": {
        "id": "Mk7unW3oeqEN"
      },
      "source": [
        "summary(m2_Sad_zinbi_int_std)\n"
      ],
      "execution_count": null,
      "outputs": []
    },
    {
      "cell_type": "code",
      "metadata": {
        "id": "3_Z7cSHbeqBV"
      },
      "source": [
        "summary(m2_Sad_zinbi_int_std$fit.zero)\n"
      ],
      "execution_count": null,
      "outputs": []
    },
    {
      "cell_type": "markdown",
      "source": [
        "### main + separate"
      ],
      "metadata": {
        "id": "6CwYw1Mx0uwR"
      }
    },
    {
      "cell_type": "code",
      "metadata": {
        "id": "tWIRFT2TeFPF"
      },
      "source": [
        "system.time(m2_Sad_zinbi_inciv_main_std <- glmm.zinb(Sad ~ insult_std + republican, random = ~1|Page.Name.fac , zi_fixed =  ~1, data=final_pages_react_nona_st))\n"
      ],
      "execution_count": null,
      "outputs": []
    },
    {
      "cell_type": "code",
      "metadata": {
        "id": "0sQx6S-seDtr"
      },
      "source": [
        "summary(m2_Sad_zinbi_inciv_main_std)\n"
      ],
      "execution_count": null,
      "outputs": []
    },
    {
      "cell_type": "code",
      "metadata": {
        "id": "fiNqA_7Ceqin"
      },
      "source": [
        "summary(m2_Sad_zinbi_inciv_main_std$fit.zero)\n"
      ],
      "execution_count": null,
      "outputs": []
    },
    {
      "cell_type": "code",
      "metadata": {
        "id": "WtlVf0uxeqfP"
      },
      "source": [
        "system.time(m2_Sad_zinbi_senti_main_std <- glmm.zinb(Sad ~ sentistr_std + republican, random = ~1|Page.Name.fac , zi_fixed =  ~1, data=final_pages_react_nona_st))\n"
      ],
      "execution_count": null,
      "outputs": []
    },
    {
      "cell_type": "code",
      "source": [
        "summary(m2_Sad_zinbi_senti_main_std)\n"
      ],
      "metadata": {
        "id": "1HYC997l0z47"
      },
      "execution_count": null,
      "outputs": []
    },
    {
      "cell_type": "code",
      "metadata": {
        "id": "pQd-UpPdeqbs"
      },
      "source": [
        "summary(m2_Sad_zinbi_senti_main_std$fit.zero)\n"
      ],
      "execution_count": null,
      "outputs": []
    },
    {
      "cell_type": "markdown",
      "metadata": {
        "id": "AR01hZnW6W0-"
      },
      "source": [
        "# NBZIMM"
      ]
    },
    {
      "cell_type": "markdown",
      "metadata": {
        "id": "b_ETioUaa9WS"
      },
      "source": [
        "## likes"
      ]
    },
    {
      "cell_type": "markdown",
      "metadata": {
        "id": "UXVHf2gZE2Tv"
      },
      "source": [
        "#### likes -- int"
      ]
    },
    {
      "cell_type": "code",
      "metadata": {
        "colab": {
          "base_uri": "https://localhost:8080/",
          "height": 238
        },
        "id": "awDXhnOIE10z",
        "outputId": "e37d2e37-99ad-49e4-9337-6e5d396cd518"
      },
      "source": [
        "system.time(m1_senti_likes_zinbi_int_01 <- glmm.zinb(Likes ~ sentistr*republican + insult*republican, random = ~1|Page.Name.fac , zi_fixed =  ~1, data=final_pages_all_nona_st))\n",
        "\n"
      ],
      "execution_count": null,
      "outputs": [
        {
          "output_type": "stream",
          "name": "stderr",
          "text": [
            "\n",
            "Attaching package: ‘MASS’\n",
            "\n",
            "\n",
            "The following object is masked from ‘package:dplyr’:\n",
            "\n",
            "    select\n",
            "\n",
            "\n"
          ]
        },
        {
          "output_type": "stream",
          "name": "stdout",
          "text": [
            "Computational iterations: 24 \n",
            "Computational time: 183.973 minutes \n"
          ]
        },
        {
          "output_type": "display_data",
          "data": {
            "text/plain": [
              "     user    system   elapsed \n",
              "10325.068   709.126 11038.376 "
            ]
          },
          "metadata": {}
        }
      ]
    },
    {
      "cell_type": "code",
      "metadata": {
        "id": "m_tZCYYYFvkD"
      },
      "source": [
        "saveRDS(m1_senti_likes_zinbi_int_01, \"m1_senti_likes_zinbi_int_01.rds\")\n"
      ],
      "execution_count": null,
      "outputs": []
    },
    {
      "cell_type": "code",
      "metadata": {
        "colab": {
          "base_uri": "https://localhost:8080/",
          "height": 612
        },
        "id": "4cL8NhMwFvqh",
        "outputId": "162f962b-16f0-4d4f-d84d-fa6ab1c11fb8"
      },
      "source": [
        "summary(m1_senti_likes_zinbi_int_01)\n"
      ],
      "execution_count": null,
      "outputs": [
        {
          "output_type": "display_data",
          "data": {
            "text/plain": [
              "Linear mixed-effects model fit by maximum likelihood\n",
              "  Data: final_pages_all_nona_st \n",
              "  AIC BIC logLik\n",
              "   NA  NA     NA\n",
              "\n",
              "Random effects:\n",
              " Formula: ~1 | Page.Name.fac\n",
              "        (Intercept) Residual\n",
              "StdDev:    1.327534 2.260666\n",
              "\n",
              "Variance function:\n",
              " Structure: fixed weights\n",
              " Formula: ~invwt \n",
              "Fixed effects:  Likes ~ sentistr * republican + insult * republican \n",
              "                        Value  Std.Error       DF   t-value p-value\n",
              "(Intercept)          4.442307 0.04670716 13954372  95.10976  0.0000\n",
              "sentistr             0.098522 0.00094291 13954372 104.48714  0.0000\n",
              "republican           0.033729 0.06909362     1491   0.48817  0.6255\n",
              "insult               0.325466 0.00624911 13954372  52.08199  0.0000\n",
              "sentistr:republican -0.013900 0.00140479 13954372  -9.89449  0.0000\n",
              "republican:insult    0.166236 0.00887821 13954372  18.72405  0.0000\n",
              " Correlation: \n",
              "                    (Intr) sntstr rpblcn insult sntst:\n",
              "sentistr            -0.002                            \n",
              "republican          -0.676  0.001                     \n",
              "insult              -0.029  0.266  0.020              \n",
              "sentistr:republican  0.001 -0.671  0.000 -0.178       \n",
              "republican:insult    0.020 -0.187 -0.028 -0.704  0.261\n",
              "\n",
              "Standardized Within-Group Residuals:\n",
              "         Min           Q1          Med           Q3          Max \n",
              " -0.30101002  -0.27373083  -0.20904777  -0.01864997 559.97821783 \n",
              "\n",
              "Number of Observations: 13955869\n",
              "Number of Groups: 1493 "
            ]
          },
          "metadata": {}
        }
      ]
    },
    {
      "cell_type": "code",
      "metadata": {
        "colab": {
          "base_uri": "https://localhost:8080/",
          "height": 374
        },
        "id": "OU-eyfwuFvnq",
        "outputId": "c2804b74-4ee0-43b9-e8fb-0de2ccf7f649"
      },
      "source": [
        "summary(m1_senti_likes_zinbi_int_01$fit.zero)\n"
      ],
      "execution_count": null,
      "outputs": [
        {
          "output_type": "display_data",
          "data": {
            "text/plain": [
              "\n",
              "Call:\n",
              "glm(formula = fm, family = binomial, data = data)\n",
              "\n",
              "Deviance Residuals: \n",
              "       Min          1Q      Median          3Q         Max  \n",
              "-0.0001074  -0.0001074  -0.0001074  -0.0001074   0.0034420  \n",
              "\n",
              "Coefficients:\n",
              "            Estimate Std. Error z value     Pr(>|z|)    \n",
              "(Intercept)  -18.970      3.523  -5.384 0.0000000728 ***\n",
              "---\n",
              "Signif. codes:  0 ‘***’ 0.001 ‘**’ 0.01 ‘*’ 0.05 ‘.’ 0.1 ‘ ’ 1\n",
              "\n",
              "(Dispersion parameter for binomial family taken to be 1)\n",
              "\n",
              "    Null deviance: 0.47248  on 13955868  degrees of freedom\n",
              "Residual deviance: 0.47248  on 13955868  degrees of freedom\n",
              "AIC: 2.1611\n",
              "\n",
              "Number of Fisher Scoring iterations: 22\n"
            ]
          },
          "metadata": {}
        }
      ]
    },
    {
      "cell_type": "markdown",
      "metadata": {
        "id": "S7oO-CZ4F72k"
      },
      "source": [
        "#### sep -- senti"
      ]
    },
    {
      "cell_type": "code",
      "metadata": {
        "id": "0R3uh2jwFvcw",
        "colab": {
          "base_uri": "https://localhost:8080/"
        },
        "outputId": "49a568d9-7c4e-4f69-9bf4-2a3249e7e167"
      },
      "source": [
        "system.time(m1_likes_zinbi_01_sent_only <- glmm.zinb(Likes ~ sentistr+republican , random = ~1|Page.Name.fac , zi_fixed =  ~1, data=final_pages_all_nona_st))\n"
      ],
      "execution_count": null,
      "outputs": [
        {
          "output_type": "stream",
          "name": "stdout",
          "text": [
            "Computational iterations: 24 \n",
            "Computational time: 143.37 minutes \n"
          ]
        },
        {
          "output_type": "display_data",
          "data": {
            "text/plain": [
              "    user   system  elapsed \n",
              "7962.194  637.652 8602.185 "
            ]
          },
          "metadata": {}
        }
      ]
    },
    {
      "cell_type": "code",
      "metadata": {
        "id": "f7lkfuxxFvYt",
        "colab": {
          "base_uri": "https://localhost:8080/"
        },
        "outputId": "e6983fd7-ec06-4c33-8548-3bc8a84a1c1c"
      },
      "source": [
        "summary(m1_likes_zinbi_01_sent_only)\n"
      ],
      "execution_count": null,
      "outputs": [
        {
          "output_type": "display_data",
          "data": {
            "text/plain": [
              "Linear mixed-effects model fit by maximum likelihood\n",
              "  Data: final_pages_all_nona_st \n",
              "  AIC BIC logLik\n",
              "   NA  NA     NA\n",
              "\n",
              "Random effects:\n",
              " Formula: ~1 | Page.Name.fac\n",
              "        (Intercept) Residual\n",
              "StdDev:    1.331376 2.248233\n",
              "\n",
              "Variance function:\n",
              " Structure: fixed weights\n",
              " Formula: ~invwt \n",
              "Fixed effects:  Likes ~ sentistr + republican \n",
              "               Value  Std.Error       DF   t-value p-value\n",
              "(Intercept) 4.511693 0.04682137 13954375  96.35969  0.0000\n",
              "sentistr    0.073017 0.00067164 13954375 108.71382  0.0000\n",
              "republican  0.079002 0.06926384     1491   1.14059  0.2542\n",
              " Correlation: \n",
              "           (Intr) sntstr\n",
              "sentistr    0.004       \n",
              "republican -0.676  0.001\n",
              "\n",
              "Standardized Within-Group Residuals:\n",
              "         Min           Q1          Med           Q3          Max \n",
              " -0.30230386  -0.27506156  -0.21002029  -0.01846234 564.64467242 \n",
              "\n",
              "Number of Observations: 13955869\n",
              "Number of Groups: 1493 "
            ]
          },
          "metadata": {}
        }
      ]
    },
    {
      "cell_type": "code",
      "metadata": {
        "id": "s8nkTPCNFvUJ",
        "colab": {
          "base_uri": "https://localhost:8080/"
        },
        "outputId": "4608292e-3027-4e56-ee03-357c77388c55"
      },
      "source": [
        "summary(m1_likes_zinbi_01_sent_only$fit.zero)\n"
      ],
      "execution_count": null,
      "outputs": [
        {
          "output_type": "display_data",
          "data": {
            "text/plain": [
              "\n",
              "Call:\n",
              "glm(formula = fm, family = binomial, data = data)\n",
              "\n",
              "Deviance Residuals: \n",
              "       Min          1Q      Median          3Q         Max  \n",
              "-0.0001032  -0.0001032  -0.0001032  -0.0001032   0.0033356  \n",
              "\n",
              "Coefficients:\n",
              "            Estimate Std. Error z value    Pr(>|z|)    \n",
              "(Intercept)  -19.050      3.668  -5.194 0.000000205 ***\n",
              "---\n",
              "Signif. codes:  0 ‘***’ 0.001 ‘**’ 0.01 ‘*’ 0.05 ‘.’ 0.1 ‘ ’ 1\n",
              "\n",
              "(Dispersion parameter for binomial family taken to be 1)\n",
              "\n",
              "    Null deviance: 0.43543  on 13955868  degrees of freedom\n",
              "Residual deviance: 0.43543  on 13955868  degrees of freedom\n",
              "AIC: 2.1487\n",
              "\n",
              "Number of Fisher Scoring iterations: 22\n"
            ]
          },
          "metadata": {}
        }
      ]
    },
    {
      "cell_type": "code",
      "metadata": {
        "id": "PHlstAwnFvPf"
      },
      "source": [
        "saveRDS(m1_likes_zinbi_01_sent_only, \"m1_likes_zinbi_01_sent_only.rds\")\n"
      ],
      "execution_count": null,
      "outputs": []
    },
    {
      "cell_type": "code",
      "metadata": {
        "id": "Z2hGatxOFvKT"
      },
      "source": [
        "#cAIC(m1_likes_zinbi_01_sent_only)\n"
      ],
      "execution_count": null,
      "outputs": []
    },
    {
      "cell_type": "markdown",
      "metadata": {
        "id": "DlebJD1xGNdP"
      },
      "source": [
        "#### sep inciv"
      ]
    },
    {
      "cell_type": "code",
      "metadata": {
        "id": "pU5khARsGPAo",
        "colab": {
          "base_uri": "https://localhost:8080/"
        },
        "outputId": "59566278-f0ad-4bc3-fde2-9416647f072d"
      },
      "source": [
        "system.time(m1_likes_zinbi_01_inciv_only <- glmm.zinb(Likes ~ insult + republican, random = ~1|Page.Name.fac , zi_fixed =  ~1, data=final_pages_all_nona_st))\n"
      ],
      "execution_count": null,
      "outputs": [
        {
          "output_type": "stream",
          "name": "stdout",
          "text": [
            "Computational iterations: 24 \n",
            "Computational time: 144.681 minutes \n"
          ]
        },
        {
          "output_type": "display_data",
          "data": {
            "text/plain": [
              "    user   system  elapsed \n",
              "8003.593  675.374 8680.848 "
            ]
          },
          "metadata": {}
        }
      ]
    },
    {
      "cell_type": "code",
      "metadata": {
        "id": "AOUGL5ASGPrE",
        "colab": {
          "base_uri": "https://localhost:8080/"
        },
        "outputId": "9c40183d-2086-4d24-9ef8-d2ddfd5ef5b4"
      },
      "source": [
        "summary(m1_likes_zinbi_01_inciv_only)\n"
      ],
      "execution_count": null,
      "outputs": [
        {
          "output_type": "display_data",
          "data": {
            "text/plain": [
              "Linear mixed-effects model fit by maximum likelihood\n",
              "  Data: final_pages_all_nona_st \n",
              "  AIC BIC logLik\n",
              "   NA  NA     NA\n",
              "\n",
              "Random effects:\n",
              " Formula: ~1 | Page.Name.fac\n",
              "        (Intercept) Residual\n",
              "StdDev:    1.334572 2.285377\n",
              "\n",
              "Variance function:\n",
              " Structure: fixed weights\n",
              " Formula: ~invwt \n",
              "Fixed effects:  Likes ~ insult + republican \n",
              "               Value  Std.Error       DF  t-value p-value\n",
              "(Intercept) 4.433770 0.04694592 13954375 94.44421  0.0000\n",
              "insult      0.244820 0.00434150 13954375 56.39075  0.0000\n",
              "republican  0.067084 0.06943288     1491  0.96618  0.3341\n",
              " Correlation: \n",
              "           (Intr) insult\n",
              "insult     -0.021       \n",
              "republican -0.676  0.000\n",
              "\n",
              "Standardized Within-Group Residuals:\n",
              "         Min           Q1          Med           Q3          Max \n",
              " -0.29704715  -0.27034731  -0.20702417  -0.01958829 636.74384870 \n",
              "\n",
              "Number of Observations: 13955869\n",
              "Number of Groups: 1493 "
            ]
          },
          "metadata": {}
        }
      ]
    },
    {
      "cell_type": "code",
      "metadata": {
        "id": "syqh_LxmGPoR",
        "colab": {
          "base_uri": "https://localhost:8080/"
        },
        "outputId": "83662dbc-1ae5-4884-a8d9-e1451c2edd2d"
      },
      "source": [
        "summary(m1_likes_zinbi_01_inciv_only$fit.zero)\n"
      ],
      "execution_count": null,
      "outputs": [
        {
          "output_type": "display_data",
          "data": {
            "text/plain": [
              "\n",
              "Call:\n",
              "glm(formula = fm, family = binomial, data = data)\n",
              "\n",
              "Deviance Residuals: \n",
              "        Min           1Q       Median           3Q          Max  \n",
              "-0.00009737  -0.00009737  -0.00009737  -0.00009737   0.00295735  \n",
              "\n",
              "Coefficients:\n",
              "            Estimate Std. Error z value    Pr(>|z|)    \n",
              "(Intercept)  -19.167      3.888   -4.93 0.000000823 ***\n",
              "---\n",
              "Signif. codes:  0 ‘***’ 0.001 ‘**’ 0.01 ‘*’ 0.05 ‘.’ 0.1 ‘ ’ 1\n",
              "\n",
              "(Dispersion parameter for binomial family taken to be 1)\n",
              "\n",
              "    Null deviance: 0.38735  on 13955868  degrees of freedom\n",
              "Residual deviance: 0.38735  on 13955868  degrees of freedom\n",
              "AIC: 2.1323\n",
              "\n",
              "Number of Fisher Scoring iterations: 22\n"
            ]
          },
          "metadata": {}
        }
      ]
    },
    {
      "cell_type": "code",
      "metadata": {
        "id": "P_TmOqj1GPkN"
      },
      "source": [
        "saveRDS(m1_likes_zinbi_01_inciv_only, \"m1_likes_zinbi_01_inciv_only.rds\")\n"
      ],
      "execution_count": null,
      "outputs": []
    },
    {
      "cell_type": "code",
      "metadata": {
        "id": "R25J8pjeGTTi"
      },
      "source": [
        "#cAIC(m1_likes_zinbi_01_inciv_only)\n"
      ],
      "execution_count": null,
      "outputs": []
    },
    {
      "cell_type": "markdown",
      "metadata": {
        "id": "47JrG_0FmDy6"
      },
      "source": [
        "#### std"
      ]
    },
    {
      "cell_type": "code",
      "metadata": {
        "id": "neSb79VZnAAy",
        "colab": {
          "base_uri": "https://localhost:8080/",
          "height": 459
        },
        "outputId": "96bbbcd6-89c2-4472-e98d-801aa27a89bd"
      },
      "source": [
        "\n",
        "### sep -- insult\n",
        "system.time(m2_Likes_zinbi_inciv_main_std <- glmm.zinb(Likes ~ insult_std + republican, random = ~1|Page.Name.fac , zi_fixed =  ~1, data=final_pages_all_nona_st))\n"
      ],
      "execution_count": null,
      "outputs": [
        {
          "output_type": "stream",
          "name": "stderr",
          "text": [
            "Loading required namespace: nlme\n",
            "\n",
            "Loading required namespace: MASS\n",
            "\n",
            "\n",
            "Attaching package: ‘nlme’\n",
            "\n",
            "\n",
            "The following object is masked from ‘package:dplyr’:\n",
            "\n",
            "    collapse\n",
            "\n",
            "\n",
            "\n",
            "Attaching package: ‘MASS’\n",
            "\n",
            "\n",
            "The following object is masked from ‘package:dplyr’:\n",
            "\n",
            "    select\n",
            "\n",
            "\n"
          ]
        },
        {
          "output_type": "stream",
          "name": "stdout",
          "text": [
            "Computational iterations: 24 \n",
            "Computational time: 133.826 minutes \n"
          ]
        },
        {
          "output_type": "display_data",
          "data": {
            "text/plain": [
              "    user   system  elapsed \n",
              "7722.869  301.010 8029.731 "
            ]
          },
          "metadata": {}
        }
      ]
    },
    {
      "cell_type": "code",
      "metadata": {
        "id": "yDLmzAxJm_7x",
        "colab": {
          "base_uri": "https://localhost:8080/",
          "height": 510
        },
        "outputId": "81264c81-22f1-4ff9-f125-58db1aee4bbf"
      },
      "source": [
        "summary(m2_Likes_zinbi_inciv_main_std)\n"
      ],
      "execution_count": null,
      "outputs": [
        {
          "output_type": "display_data",
          "data": {
            "text/plain": [
              "Linear mixed-effects model fit by maximum likelihood\n",
              "  Data: final_pages_all_nona_st \n",
              "  AIC BIC logLik\n",
              "   NA  NA     NA\n",
              "\n",
              "Random effects:\n",
              " Formula: ~1 | Page.Name.fac\n",
              "        (Intercept) Residual\n",
              "StdDev:    1.334572 2.285377\n",
              "\n",
              "Variance function:\n",
              " Structure: fixed weights\n",
              " Formula: ~invwt \n",
              "Fixed effects:  Likes ~ insult_std + republican \n",
              "               Value  Std.Error       DF  t-value p-value\n",
              "(Intercept) 4.491355 0.04693546 13954375 95.69216  0.0000\n",
              "insult_std  0.053515 0.00094901 13954375 56.39075  0.0000\n",
              "republican  0.067084 0.06943288     1491  0.96618  0.3341\n",
              " Correlation: \n",
              "           (Intr) inslt_\n",
              "insult_std  0.001       \n",
              "republican -0.676  0.000\n",
              "\n",
              "Standardized Within-Group Residuals:\n",
              "         Min           Q1          Med           Q3          Max \n",
              " -0.29704715  -0.27034731  -0.20702417  -0.01958829 636.74384869 \n",
              "\n",
              "Number of Observations: 13955869\n",
              "Number of Groups: 1493 "
            ]
          },
          "metadata": {}
        }
      ]
    },
    {
      "cell_type": "code",
      "metadata": {
        "id": "PYxWMoCPm_yU",
        "colab": {
          "base_uri": "https://localhost:8080/",
          "height": 374
        },
        "outputId": "7d71b3b3-9455-4534-e663-662643732f29"
      },
      "source": [
        "summary(m2_Likes_zinbi_inciv_main_std$fit.zero)\n"
      ],
      "execution_count": null,
      "outputs": [
        {
          "output_type": "display_data",
          "data": {
            "text/plain": [
              "\n",
              "Call:\n",
              "glm(formula = fm, family = binomial, data = data)\n",
              "\n",
              "Deviance Residuals: \n",
              "        Min           1Q       Median           3Q          Max  \n",
              "-0.00009737  -0.00009737  -0.00009737  -0.00009737   0.00295735  \n",
              "\n",
              "Coefficients:\n",
              "            Estimate Std. Error z value    Pr(>|z|)    \n",
              "(Intercept)  -19.167      3.888   -4.93 0.000000823 ***\n",
              "---\n",
              "Signif. codes:  0 ‘***’ 0.001 ‘**’ 0.01 ‘*’ 0.05 ‘.’ 0.1 ‘ ’ 1\n",
              "\n",
              "(Dispersion parameter for binomial family taken to be 1)\n",
              "\n",
              "    Null deviance: 0.38735  on 13955868  degrees of freedom\n",
              "Residual deviance: 0.38735  on 13955868  degrees of freedom\n",
              "AIC: 2.1323\n",
              "\n",
              "Number of Fisher Scoring iterations: 22\n"
            ]
          },
          "metadata": {}
        }
      ]
    },
    {
      "cell_type": "code",
      "metadata": {
        "id": "QpIS6FjQm_ko"
      },
      "source": [
        "saveRDS(m2_Likes_zinbi_inciv_main_std, \"m2_Likes_zinbi_inciv_main_std.rds\")\n"
      ],
      "execution_count": null,
      "outputs": []
    },
    {
      "cell_type": "code",
      "metadata": {
        "id": "_NaDbAKhnpp-",
        "colab": {
          "base_uri": "https://localhost:8080/",
          "height": 85
        },
        "outputId": "a7af692f-b399-4d52-8d4f-e00bbea97581"
      },
      "source": [
        "### sep -- senti\n",
        "system.time(m2_Likes_zinbi_senti_main_std <- glmm.zinb(Likes ~ sentistr_std + republican, random = ~1|Page.Name.fac , zi_fixed =  ~1, data=final_pages_all_nona_st))\n"
      ],
      "execution_count": null,
      "outputs": [
        {
          "output_type": "stream",
          "name": "stdout",
          "text": [
            "Computational iterations: 24 \n",
            "Computational time: 132.497 minutes \n"
          ]
        },
        {
          "output_type": "display_data",
          "data": {
            "text/plain": [
              "    user   system  elapsed \n",
              "7654.694  290.437 7949.827 "
            ]
          },
          "metadata": {}
        }
      ]
    },
    {
      "cell_type": "code",
      "metadata": {
        "id": "yU_oXNgRnpm2",
        "colab": {
          "base_uri": "https://localhost:8080/",
          "height": 510
        },
        "outputId": "41ec8003-9d1f-4b10-df57-5f61dd357bb5"
      },
      "source": [
        "summary(m2_Likes_zinbi_senti_main_std)\n"
      ],
      "execution_count": null,
      "outputs": [
        {
          "output_type": "display_data",
          "data": {
            "text/plain": [
              "Linear mixed-effects model fit by maximum likelihood\n",
              "  Data: final_pages_all_nona_st \n",
              "  AIC BIC logLik\n",
              "   NA  NA     NA\n",
              "\n",
              "Random effects:\n",
              " Formula: ~1 | Page.Name.fac\n",
              "        (Intercept) Residual\n",
              "StdDev:    1.331376 2.248233\n",
              "\n",
              "Variance function:\n",
              " Structure: fixed weights\n",
              " Formula: ~invwt \n",
              "Fixed effects:  Likes ~ sentistr_std + republican \n",
              "                Value  Std.Error       DF   t-value p-value\n",
              "(Intercept)  4.478883 0.04682100 13954375  95.65971  0.0000\n",
              "sentistr_std 0.098590 0.00090688 13954375 108.71382  0.0000\n",
              "republican   0.079002 0.06926384     1491   1.14059  0.2542\n",
              " Correlation: \n",
              "             (Intr) sntst_\n",
              "sentistr_std -0.002       \n",
              "republican   -0.676  0.001\n",
              "\n",
              "Standardized Within-Group Residuals:\n",
              "         Min           Q1          Med           Q3          Max \n",
              " -0.30230386  -0.27506156  -0.21002029  -0.01846234 564.64467242 \n",
              "\n",
              "Number of Observations: 13955869\n",
              "Number of Groups: 1493 "
            ]
          },
          "metadata": {}
        }
      ]
    },
    {
      "cell_type": "code",
      "metadata": {
        "id": "iJVGYDJqnpi-",
        "colab": {
          "base_uri": "https://localhost:8080/",
          "height": 374
        },
        "outputId": "92e389af-c102-4a01-910f-2416c00c6b7d"
      },
      "source": [
        "summary(m2_Likes_zinbi_senti_main_std$fit.zero)\n"
      ],
      "execution_count": null,
      "outputs": [
        {
          "output_type": "display_data",
          "data": {
            "text/plain": [
              "\n",
              "Call:\n",
              "glm(formula = fm, family = binomial, data = data)\n",
              "\n",
              "Deviance Residuals: \n",
              "       Min          1Q      Median          3Q         Max  \n",
              "-0.0001032  -0.0001032  -0.0001032  -0.0001032   0.0033356  \n",
              "\n",
              "Coefficients:\n",
              "            Estimate Std. Error z value    Pr(>|z|)    \n",
              "(Intercept)  -19.050      3.668  -5.194 0.000000205 ***\n",
              "---\n",
              "Signif. codes:  0 ‘***’ 0.001 ‘**’ 0.01 ‘*’ 0.05 ‘.’ 0.1 ‘ ’ 1\n",
              "\n",
              "(Dispersion parameter for binomial family taken to be 1)\n",
              "\n",
              "    Null deviance: 0.43543  on 13955868  degrees of freedom\n",
              "Residual deviance: 0.43543  on 13955868  degrees of freedom\n",
              "AIC: 2.1487\n",
              "\n",
              "Number of Fisher Scoring iterations: 22\n"
            ]
          },
          "metadata": {}
        }
      ]
    },
    {
      "cell_type": "code",
      "metadata": {
        "id": "3jkdEghwnpdv"
      },
      "source": [
        "saveRDS(m2_Likes_zinbi_senti_main_std, \"m2_Likes_zinbi_senti_main_std.rds\")\n"
      ],
      "execution_count": null,
      "outputs": []
    },
    {
      "cell_type": "code",
      "metadata": {
        "id": "W413DcksoKyP",
        "colab": {
          "base_uri": "https://localhost:8080/",
          "height": 85
        },
        "outputId": "7d4bee32-d5f7-4294-c1dc-dffd5d263837"
      },
      "source": [
        "### main both\n",
        "system.time(m2_Likes_zinbi_main_std_comp <- glmm.zinb(Likes ~ sentistr_std + insult_std + republican, random = ~1|Page.Name.fac , zi_fixed =  ~1, data=final_pages_all_nona_st))\n"
      ],
      "execution_count": null,
      "outputs": [
        {
          "output_type": "stream",
          "name": "stdout",
          "text": [
            "Computational iterations: 24 \n",
            "Computational time: 146.006 minutes \n"
          ]
        },
        {
          "output_type": "display_data",
          "data": {
            "text/plain": [
              "    user   system  elapsed \n",
              "8368.881  384.101 8760.359 "
            ]
          },
          "metadata": {}
        }
      ]
    },
    {
      "cell_type": "code",
      "metadata": {
        "id": "Hav30mCNoKoo",
        "colab": {
          "base_uri": "https://localhost:8080/",
          "height": 544
        },
        "outputId": "0ea8dd45-1052-4dba-8d5e-b6e3acb872ee"
      },
      "source": [
        "summary(m2_Likes_zinbi_main_std_comp)\n"
      ],
      "execution_count": null,
      "outputs": [
        {
          "output_type": "display_data",
          "data": {
            "text/plain": [
              "Linear mixed-effects model fit by maximum likelihood\n",
              "  Data: final_pages_all_nona_st \n",
              "  AIC BIC logLik\n",
              "   NA  NA     NA\n",
              "\n",
              "Random effects:\n",
              " Formula: ~1 | Page.Name.fac\n",
              "        (Intercept) Residual\n",
              "StdDev:    1.327931 2.262978\n",
              "\n",
              "Variance function:\n",
              " Structure: fixed weights\n",
              " Formula: ~invwt \n",
              "Fixed effects:  Likes ~ sentistr_std + insult_std + republican \n",
              "                Value  Std.Error       DF   t-value p-value\n",
              "(Intercept)  4.475421 0.04670098 13954374  95.83142  0.0000\n",
              "sentistr_std 0.125044 0.00094469 13954374 132.36555  0.0000\n",
              "insult_std   0.090118 0.00097137 13954374  92.77395  0.0000\n",
              "republican   0.078471 0.06908611     1491   1.13584  0.2562\n",
              " Correlation: \n",
              "             (Intr) sntst_ inslt_\n",
              "sentistr_std -0.002              \n",
              "insult_std    0.000  0.261       \n",
              "republican   -0.676  0.001  0.000\n",
              "\n",
              "Standardized Within-Group Residuals:\n",
              "         Min           Q1          Med           Q3          Max \n",
              " -0.30066773  -0.27343340  -0.20882798  -0.01855708 569.95160414 \n",
              "\n",
              "Number of Observations: 13955869\n",
              "Number of Groups: 1493 "
            ]
          },
          "metadata": {}
        }
      ]
    },
    {
      "cell_type": "code",
      "metadata": {
        "id": "r1IoKkbBoKkP",
        "colab": {
          "base_uri": "https://localhost:8080/",
          "height": 374
        },
        "outputId": "475e9cf4-8de7-471d-997f-0c197c37a1fb"
      },
      "source": [
        "summary(m2_Likes_zinbi_main_std_comp$fit.zero)\n"
      ],
      "execution_count": null,
      "outputs": [
        {
          "output_type": "display_data",
          "data": {
            "text/plain": [
              "\n",
              "Call:\n",
              "glm(formula = fm, family = binomial, data = data)\n",
              "\n",
              "Deviance Residuals: \n",
              "       Min          1Q      Median          3Q         Max  \n",
              "-0.0001067  -0.0001067  -0.0001067  -0.0001067   0.0034656  \n",
              "\n",
              "Coefficients:\n",
              "            Estimate Std. Error z value     Pr(>|z|)    \n",
              "(Intercept)  -18.983      3.546  -5.353 0.0000000865 ***\n",
              "---\n",
              "Signif. codes:  0 ‘***’ 0.001 ‘**’ 0.01 ‘*’ 0.05 ‘.’ 0.1 ‘ ’ 1\n",
              "\n",
              "(Dispersion parameter for binomial family taken to be 1)\n",
              "\n",
              "    Null deviance: 0.46646  on 13955868  degrees of freedom\n",
              "Residual deviance: 0.46646  on 13955868  degrees of freedom\n",
              "AIC: 2.159\n",
              "\n",
              "Number of Fisher Scoring iterations: 22\n"
            ]
          },
          "metadata": {}
        }
      ]
    },
    {
      "cell_type": "code",
      "metadata": {
        "id": "7nA35rRWoKfW"
      },
      "source": [
        "saveRDS(m2_Likes_zinbi_main_std_comp, \"m2_Likes_zinbi_main_std_comp.rds\")\n"
      ],
      "execution_count": null,
      "outputs": []
    },
    {
      "cell_type": "code",
      "metadata": {
        "id": "iWi3-phsk9mZ",
        "colab": {
          "base_uri": "https://localhost:8080/",
          "height": 86
        },
        "outputId": "98bf3858-5539-4883-b34c-7d21e0408a3f"
      },
      "source": [
        "### interaction\n",
        "system.time(m2_Likes_zinbi_int_std <- glmm.zinb(Likes ~ sentistr_std*republican + insult_std*republican, random = ~1|Page.Name.fac , zi_fixed =  ~1, data=final_pages_all_nona_st))\n"
      ],
      "execution_count": null,
      "outputs": [
        {
          "metadata": {
            "tags": null
          },
          "name": "stdout",
          "output_type": "stream",
          "text": [
            "Computational iterations: 24 \n",
            "Computational time: 187.694 minutes \n"
          ]
        },
        {
          "data": {
            "text/plain": [
              "     user    system   elapsed \n",
              "10361.684   840.517 11261.634 "
            ]
          },
          "metadata": {},
          "output_type": "display_data"
        }
      ]
    },
    {
      "cell_type": "code",
      "metadata": {
        "id": "GeJ-qEF5k9gZ",
        "colab": {
          "base_uri": "https://localhost:8080/",
          "height": 612
        },
        "outputId": "5f18af56-a855-4351-ceaa-20dcce1b53d0"
      },
      "source": [
        "summary(m2_Likes_zinbi_int_std)\n"
      ],
      "execution_count": null,
      "outputs": [
        {
          "output_type": "display_data",
          "data": {
            "text/plain": [
              "Linear mixed-effects model fit by maximum likelihood\n",
              "  Data: final_pages_all_nona_st \n",
              "  AIC BIC logLik\n",
              "   NA  NA     NA\n",
              "\n",
              "Random effects:\n",
              " Formula: ~1 | Page.Name.fac\n",
              "        (Intercept) Residual\n",
              "StdDev:    1.327534 2.260666\n",
              "\n",
              "Variance function:\n",
              " Structure: fixed weights\n",
              " Formula: ~invwt \n",
              "Fixed effects:  Likes ~ sentistr_std * republican + insult_std * republican \n",
              "                            Value  Std.Error       DF   t-value p-value\n",
              "(Intercept)              4.474590 0.04668699 13954372  95.84233  0.0000\n",
              "sentistr_std             0.133029 0.00127316 13954372 104.48714  0.0000\n",
              "republican               0.079076 0.06906538     1491   1.14495  0.2524\n",
              "insult_std               0.071144 0.00136599 13954372  52.08199  0.0000\n",
              "sentistr_std:republican -0.018768 0.00189681 13954372  -9.89449  0.0000\n",
              "republican:insult_std    0.036338 0.00194069 13954372  18.72405  0.0000\n",
              " Correlation: \n",
              "                        (Intr) sntst_ rpblcn inslt_ snts_:\n",
              "sentistr_std            -0.003                            \n",
              "republican              -0.676  0.002                     \n",
              "insult_std               0.000  0.266  0.000              \n",
              "sentistr_std:republican  0.002 -0.671 -0.001 -0.178       \n",
              "republican:insult_std    0.000 -0.187  0.000 -0.704  0.261\n",
              "\n",
              "Standardized Within-Group Residuals:\n",
              "         Min           Q1          Med           Q3          Max \n",
              " -0.30101002  -0.27373083  -0.20904777  -0.01864997 559.97821784 \n",
              "\n",
              "Number of Observations: 13955869\n",
              "Number of Groups: 1493 "
            ]
          },
          "metadata": {}
        }
      ]
    },
    {
      "cell_type": "code",
      "metadata": {
        "id": "ejpVS_SOk9XH",
        "colab": {
          "base_uri": "https://localhost:8080/",
          "height": 374
        },
        "outputId": "deb88541-1a5b-4e89-9f5f-c7db355a652b"
      },
      "source": [
        "summary(m2_Likes_zinbi_int_std$fit.zero)\n"
      ],
      "execution_count": null,
      "outputs": [
        {
          "output_type": "display_data",
          "data": {
            "text/plain": [
              "\n",
              "Call:\n",
              "glm(formula = fm, family = binomial, data = data)\n",
              "\n",
              "Deviance Residuals: \n",
              "       Min          1Q      Median          3Q         Max  \n",
              "-0.0001074  -0.0001074  -0.0001074  -0.0001074   0.0034420  \n",
              "\n",
              "Coefficients:\n",
              "            Estimate Std. Error z value     Pr(>|z|)    \n",
              "(Intercept)  -18.970      3.523  -5.384 0.0000000728 ***\n",
              "---\n",
              "Signif. codes:  0 ‘***’ 0.001 ‘**’ 0.01 ‘*’ 0.05 ‘.’ 0.1 ‘ ’ 1\n",
              "\n",
              "(Dispersion parameter for binomial family taken to be 1)\n",
              "\n",
              "    Null deviance: 0.47248  on 13955868  degrees of freedom\n",
              "Residual deviance: 0.47248  on 13955868  degrees of freedom\n",
              "AIC: 2.1611\n",
              "\n",
              "Number of Fisher Scoring iterations: 22\n"
            ]
          },
          "metadata": {}
        }
      ]
    },
    {
      "cell_type": "code",
      "metadata": {
        "id": "Iurtdjz2lwSm"
      },
      "source": [
        "saveRDS(m2_Likes_zinbi_int_std, \"m2_Likes_zinbi_int_std.rds\")\n",
        "\n",
        "###"
      ],
      "execution_count": null,
      "outputs": []
    },
    {
      "cell_type": "code",
      "metadata": {
        "id": "ZbBFe9gK7p5_"
      },
      "source": [
        "m2_Likes_zinbi_int_std_fit <- m2_Likes_zinbi_int_std$fitted\n"
      ],
      "execution_count": null,
      "outputs": []
    },
    {
      "cell_type": "code",
      "metadata": {
        "id": "cOrgJNW07pmD"
      },
      "source": [
        "saveRDS(m2_Likes_zinbi_int_std_fit, \"m2_Likes_zinbi_int_std_fit.rds\")"
      ],
      "execution_count": null,
      "outputs": []
    },
    {
      "cell_type": "markdown",
      "metadata": {
        "id": "Rw_XUpYOdXWw"
      },
      "source": [
        "## share"
      ]
    },
    {
      "cell_type": "code",
      "metadata": {
        "colab": {
          "base_uri": "https://localhost:8080/",
          "height": 459
        },
        "id": "rHT13SVBdZQc",
        "outputId": "80c02b1e-deef-40db-e762-c64af56687c1"
      },
      "source": [
        "system.time(m2_Shares_zinbi_main_std_comp <- glmm.zinb(Shares ~ sentistr_std + insult_std + republican, random = ~1|Page.Name.fac , zi_fixed =  ~1, data=final_pages_all_nona_st))\n"
      ],
      "execution_count": null,
      "outputs": [
        {
          "output_type": "stream",
          "name": "stderr",
          "text": [
            "Loading required namespace: nlme\n",
            "\n",
            "Loading required namespace: MASS\n",
            "\n",
            "\n",
            "Attaching package: ‘nlme’\n",
            "\n",
            "\n",
            "The following object is masked from ‘package:dplyr’:\n",
            "\n",
            "    collapse\n",
            "\n",
            "\n",
            "\n",
            "Attaching package: ‘MASS’\n",
            "\n",
            "\n",
            "The following object is masked from ‘package:dplyr’:\n",
            "\n",
            "    select\n",
            "\n",
            "\n"
          ]
        },
        {
          "output_type": "stream",
          "name": "stdout",
          "text": [
            "Computational iterations: 27 \n",
            "Computational time: 179.103 minutes \n"
          ]
        },
        {
          "output_type": "display_data",
          "data": {
            "text/plain": [
              "     user    system   elapsed \n",
              "10054.664   687.557 10746.310 "
            ]
          },
          "metadata": {}
        }
      ]
    },
    {
      "cell_type": "code",
      "metadata": {
        "id": "3JEINuLDdsof"
      },
      "source": [
        "saveRDS(m2_Shares_zinbi_main_std_comp, \"m2_Shares_zinbi_main_std_comp.rds\")\n"
      ],
      "execution_count": null,
      "outputs": []
    },
    {
      "cell_type": "code",
      "metadata": {
        "id": "mZ_FyGqgXtCI"
      },
      "source": [
        "m2_Shares_zinbi_main_std_comp_fit <- m2_Shares_zinbi_main_std_comp$fitted"
      ],
      "execution_count": null,
      "outputs": []
    },
    {
      "cell_type": "code",
      "metadata": {
        "id": "tYOKK55EXxNe"
      },
      "source": [
        "saveRDS(m2_Shares_zinbi_main_std_comp_fit, \"m2_Shares_zinbi_main_std_comp_fit.rds\")\n"
      ],
      "execution_count": null,
      "outputs": []
    },
    {
      "cell_type": "code",
      "metadata": {
        "colab": {
          "base_uri": "https://localhost:8080/",
          "height": 544
        },
        "id": "BZ_QZCkDdpJ1",
        "outputId": "87f0716a-10b6-458e-b9bc-7aaaa2bafba5"
      },
      "source": [
        "summary(m2_Shares_zinbi_main_std_comp)\n"
      ],
      "execution_count": null,
      "outputs": [
        {
          "output_type": "display_data",
          "data": {
            "text/plain": [
              "Linear mixed-effects model fit by maximum likelihood\n",
              "  Data: final_pages_all_nona_st \n",
              "  AIC BIC logLik\n",
              "   NA  NA     NA\n",
              "\n",
              "Random effects:\n",
              " Formula: ~1 | Page.Name.fac\n",
              "        (Intercept) Residual\n",
              "StdDev:    1.381421 5.273061\n",
              "\n",
              "Variance function:\n",
              " Structure: fixed weights\n",
              " Formula: ~invwt \n",
              "Fixed effects:  Shares ~ sentistr_std + insult_std + republican \n",
              "                 Value  Std.Error       DF  t-value p-value\n",
              "(Intercept)   4.516513 0.04909809 13954374 91.98958  0.0000\n",
              "sentistr_std  0.009915 0.00284067 13954374  3.49050  0.0005\n",
              "insult_std    0.092176 0.00291879 13954374 31.58012  0.0000\n",
              "republican   -0.285872 0.07254021     1491 -3.94088  0.0001\n",
              " Correlation: \n",
              "             (Intr) sntst_ inslt_\n",
              "sentistr_std -0.005              \n",
              "insult_std    0.000  0.262       \n",
              "republican   -0.677  0.004  0.000\n",
              "\n",
              "Standardized Within-Group Residuals:\n",
              "         Min           Q1          Med           Q3          Max \n",
              " -0.09997876  -0.09719741  -0.08434632  -0.03841112 704.04044450 \n",
              "\n",
              "Number of Observations: 13955869\n",
              "Number of Groups: 1493 "
            ]
          },
          "metadata": {}
        }
      ]
    },
    {
      "cell_type": "code",
      "metadata": {
        "colab": {
          "base_uri": "https://localhost:8080/",
          "height": 374
        },
        "id": "VbjBNKfYdrCU",
        "outputId": "927210b8-3a37-43a5-bfd5-52ce6c9b970b"
      },
      "source": [
        "summary(m2_Shares_zinbi_main_std_comp$fit.zero)\n"
      ],
      "execution_count": null,
      "outputs": [
        {
          "output_type": "display_data",
          "data": {
            "text/plain": [
              "\n",
              "Call:\n",
              "glm(formula = fm, family = binomial, data = data)\n",
              "\n",
              "Deviance Residuals: \n",
              "     Min        1Q    Median        3Q       Max  \n",
              "-0.01097  -0.01097  -0.01097  -0.01097   0.08406  \n",
              "\n",
              "Coefficients:\n",
              "            Estimate Std. Error z value            Pr(>|z|)    \n",
              "(Intercept) -9.71913    0.03452  -281.5 <0.0000000000000002 ***\n",
              "---\n",
              "Signif. codes:  0 ‘***’ 0.001 ‘**’ 0.01 ‘*’ 0.05 ‘.’ 0.1 ‘ ’ 1\n",
              "\n",
              "(Dispersion parameter for binomial family taken to be 1)\n",
              "\n",
              "    Null deviance: 2918.7  on 13955868  degrees of freedom\n",
              "Residual deviance: 2918.7  on 13955868  degrees of freedom\n",
              "AIC: 1680.1\n",
              "\n",
              "Number of Fisher Scoring iterations: 12\n"
            ]
          },
          "metadata": {}
        }
      ]
    },
    {
      "cell_type": "code",
      "metadata": {
        "colab": {
          "base_uri": "https://localhost:8080/",
          "height": 468
        },
        "id": "0IcAaGwMdLcz",
        "outputId": "2b331474-52a3-4646-a7e1-7fc40acf4b9f"
      },
      "source": [
        "system.time(m2_Shares_zinbi_inciv_main_std <- glmm.zinb(Shares ~ insult_std + republican, random = ~1|Page.Name.fac , zi_fixed =  ~1, data=final_pages_all_nona_st))\n"
      ],
      "execution_count": null,
      "outputs": [
        {
          "metadata": {
            "tags": null
          },
          "name": "stderr",
          "output_type": "stream",
          "text": [
            "Loading required namespace: nlme\n",
            "\n",
            "Loading required namespace: MASS\n",
            "\n",
            "\n",
            "Attaching package: ‘nlme’\n",
            "\n",
            "\n",
            "The following object is masked from ‘package:dplyr’:\n",
            "\n",
            "    collapse\n",
            "\n",
            "\n",
            "\n",
            "Attaching package: ‘MASS’\n",
            "\n",
            "\n",
            "The following object is masked from ‘package:dplyr’:\n",
            "\n",
            "    select\n",
            "\n",
            "\n"
          ]
        },
        {
          "metadata": {
            "tags": null
          },
          "name": "stdout",
          "output_type": "stream",
          "text": [
            "Computational iterations: 28 \n",
            "Computational time: 164.761 minutes \n"
          ]
        },
        {
          "data": {
            "text/plain": [
              "    user   system  elapsed \n",
              "9544.276  316.273 9885.813 "
            ]
          },
          "metadata": {},
          "output_type": "display_data"
        }
      ]
    },
    {
      "cell_type": "code",
      "metadata": {
        "id": "Zk-1uC_ddPom",
        "colab": {
          "base_uri": "https://localhost:8080/",
          "height": 520
        },
        "outputId": "e372eeca-f211-42f2-8f54-145fa90bdcbe"
      },
      "source": [
        "summary(m2_Shares_zinbi_inciv_main_std)\n"
      ],
      "execution_count": null,
      "outputs": [
        {
          "data": {
            "text/plain": [
              "Linear mixed-effects model fit by maximum likelihood\n",
              "  Data: final_pages_all_nona_st \n",
              "  AIC BIC logLik\n",
              "   NA  NA     NA\n",
              "\n",
              "Random effects:\n",
              " Formula: ~1 | Page.Name.fac\n",
              "        (Intercept) Residual\n",
              "StdDev:    1.383049 5.278067\n",
              "\n",
              "Variance function:\n",
              " Structure: fixed weights\n",
              " Formula: ~invwt \n",
              "Fixed effects:  Shares ~ insult_std + republican \n",
              "                Value  Std.Error       DF  t-value p-value\n",
              "(Intercept)  4.517419 0.04915503 13954375 91.90147  0.0000\n",
              "insult_std   0.089346 0.00282002 13954375 31.68263  0.0000\n",
              "republican  -0.286434 0.07262494     1491 -3.94402  0.0001\n",
              " Correlation: \n",
              "           (Intr) inslt_\n",
              "insult_std  0.002       \n",
              "republican -0.677 -0.001\n",
              "\n",
              "Standardized Within-Group Residuals:\n",
              "         Min           Q1          Med           Q3          Max \n",
              " -0.09987879  -0.09709969  -0.08426597  -0.03839894 706.72715385 \n",
              "\n",
              "Number of Observations: 13955869\n",
              "Number of Groups: 1493 "
            ]
          },
          "metadata": {},
          "output_type": "display_data"
        }
      ]
    },
    {
      "cell_type": "code",
      "metadata": {
        "id": "ze1ES1J-dPjV",
        "colab": {
          "base_uri": "https://localhost:8080/",
          "height": 382
        },
        "outputId": "4639c615-602f-48c0-d7fb-bb68532c73c3"
      },
      "source": [
        "summary(m2_Shares_zinbi_inciv_main_std$fit.zero)\n"
      ],
      "execution_count": null,
      "outputs": [
        {
          "data": {
            "text/plain": [
              "\n",
              "Call:\n",
              "glm(formula = fm, family = binomial, data = data)\n",
              "\n",
              "Deviance Residuals: \n",
              "      Min         1Q     Median         3Q        Max  \n",
              "-0.009234  -0.009234  -0.009234  -0.009234   0.070824  \n",
              "\n",
              "Coefficients:\n",
              "            Estimate Std. Error z value            Pr(>|z|)    \n",
              "(Intercept)  -10.063      0.041  -245.5 <0.0000000000000002 ***\n",
              "---\n",
              "Signif. codes:  0 ‘***’ 0.001 ‘**’ 0.01 ‘*’ 0.05 ‘.’ 0.1 ‘ ’ 1\n",
              "\n",
              "(Dispersion parameter for binomial family taken to be 1)\n",
              "\n",
              "    Null deviance: 2069.8  on 13955868  degrees of freedom\n",
              "Residual deviance: 2069.8  on 13955868  degrees of freedom\n",
              "AIC: 1192\n",
              "\n",
              "Number of Fisher Scoring iterations: 13\n"
            ]
          },
          "metadata": {},
          "output_type": "display_data"
        }
      ]
    },
    {
      "cell_type": "code",
      "metadata": {
        "id": "mu6QKpXJdPdA",
        "colab": {
          "base_uri": "https://localhost:8080/",
          "height": 86
        },
        "outputId": "0918bce2-370a-48c4-a5d7-14f27f124df6"
      },
      "source": [
        "system.time(m2_Shares_zinbi_senti_main_std <- glmm.zinb(Shares ~ sentistr_std + republican, random = ~1|Page.Name.fac , zi_fixed =  ~1, data=final_pages_all_nona_st))\n"
      ],
      "execution_count": null,
      "outputs": [
        {
          "metadata": {
            "tags": null
          },
          "name": "stdout",
          "output_type": "stream",
          "text": [
            "Computational iterations: 30 \n",
            "Computational time: 177.612 minutes \n"
          ]
        },
        {
          "data": {
            "text/plain": [
              "     user    system   elapsed \n",
              "10215.519   374.446 10656.706 "
            ]
          },
          "metadata": {},
          "output_type": "display_data"
        }
      ]
    },
    {
      "cell_type": "code",
      "metadata": {
        "id": "Tem5fALQdLY5",
        "colab": {
          "base_uri": "https://localhost:8080/",
          "height": 520
        },
        "outputId": "cb1beae5-e275-478b-90cd-43b644012f7a"
      },
      "source": [
        "summary(m2_Shares_zinbi_senti_main_std)\n"
      ],
      "execution_count": null,
      "outputs": [
        {
          "data": {
            "text/plain": [
              "Linear mixed-effects model fit by maximum likelihood\n",
              "  Data: final_pages_all_nona_st \n",
              "  AIC BIC logLik\n",
              "   NA  NA     NA\n",
              "\n",
              "Random effects:\n",
              " Formula: ~1 | Page.Name.fac\n",
              "        (Intercept) Residual\n",
              "StdDev:    1.399375  5.25256\n",
              "\n",
              "Variance function:\n",
              " Structure: fixed weights\n",
              " Formula: ~invwt \n",
              "Fixed effects:  Shares ~ sentistr_std + republican \n",
              "                 Value  Std.Error       DF  t-value p-value\n",
              "(Intercept)   4.522789 0.04971835 13954375 90.96821  0.0000\n",
              "sentistr_std -0.017759 0.00273380 13954375 -6.49604  0.0000\n",
              "republican   -0.285898 0.07345990     1491 -3.89190  0.0001\n",
              " Correlation: \n",
              "             (Intr) sntst_\n",
              "sentistr_std -0.005       \n",
              "republican   -0.677  0.004\n",
              "\n",
              "Standardized Within-Group Residuals:\n",
              "         Min           Q1          Med           Q3          Max \n",
              " -0.10035753  -0.09750299  -0.08468293  -0.03834425 684.19107631 \n",
              "\n",
              "Number of Observations: 13955869\n",
              "Number of Groups: 1493 "
            ]
          },
          "metadata": {},
          "output_type": "display_data"
        }
      ]
    },
    {
      "cell_type": "code",
      "metadata": {
        "id": "apI2PztzdLRT",
        "colab": {
          "base_uri": "https://localhost:8080/",
          "height": 382
        },
        "outputId": "04327646-579f-44e8-9a7f-f5b684557994"
      },
      "source": [
        "summary(m2_Shares_zinbi_senti_main_std$fit.zero)\n"
      ],
      "execution_count": null,
      "outputs": [
        {
          "data": {
            "text/plain": [
              "\n",
              "Call:\n",
              "glm(formula = fm, family = binomial, data = data)\n",
              "\n",
              "Deviance Residuals: \n",
              "      Min         1Q     Median         3Q        Max  \n",
              "-0.006118  -0.006118  -0.006118  -0.006118   0.044981  \n",
              "\n",
              "Coefficients:\n",
              "             Estimate Std. Error z value            Pr(>|z|)    \n",
              "(Intercept) -10.88618    0.06187  -175.9 <0.0000000000000002 ***\n",
              "---\n",
              "Signif. codes:  0 ‘***’ 0.001 ‘**’ 0.01 ‘*’ 0.05 ‘.’ 0.1 ‘ ’ 1\n",
              "\n",
              "(Dispersion parameter for binomial family taken to be 1)\n",
              "\n",
              "    Null deviance: 908.26  on 13955868  degrees of freedom\n",
              "Residual deviance: 908.26  on 13955868  degrees of freedom\n",
              "AIC: 524.37\n",
              "\n",
              "Number of Fisher Scoring iterations: 13\n"
            ]
          },
          "metadata": {},
          "output_type": "display_data"
        }
      ]
    },
    {
      "cell_type": "code",
      "metadata": {
        "id": "Ajd8EuuBdXD4",
        "colab": {
          "base_uri": "https://localhost:8080/",
          "height": 86
        },
        "outputId": "58d4c94c-a727-4c8a-ae58-3b8e264900f4"
      },
      "source": [
        "system.time(m2_Shares_zinbi_int_std <- glmm.zinb(Shares ~ sentistr_std*republican + insult_std*republican, random = ~1|Page.Name.fac , zi_fixed =  ~1, data=final_pages_all_nona_st))\n"
      ],
      "execution_count": null,
      "outputs": [
        {
          "metadata": {
            "tags": null
          },
          "name": "stdout",
          "output_type": "stream",
          "text": [
            "Computational iterations: 25 \n",
            "Computational time: 208.223 minutes \n"
          ]
        },
        {
          "data": {
            "text/plain": [
              "    user   system  elapsed \n",
              "10955.62  1402.13 12493.37 "
            ]
          },
          "metadata": {},
          "output_type": "display_data"
        }
      ]
    },
    {
      "cell_type": "code",
      "metadata": {
        "id": "O85eho47dLJ3",
        "colab": {
          "base_uri": "https://localhost:8080/",
          "height": 625
        },
        "outputId": "8c987e20-d743-46bd-f321-4618cf805624"
      },
      "source": [
        "summary(m2_Shares_zinbi_int_std)\n"
      ],
      "execution_count": null,
      "outputs": [
        {
          "data": {
            "text/plain": [
              "Linear mixed-effects model fit by maximum likelihood\n",
              "  Data: final_pages_all_nona_st \n",
              "  AIC BIC logLik\n",
              "   NA  NA     NA\n",
              "\n",
              "Random effects:\n",
              " Formula: ~1 | Page.Name.fac\n",
              "        (Intercept) Residual\n",
              "StdDev:    1.382629 5.271517\n",
              "\n",
              "Variance function:\n",
              " Structure: fixed weights\n",
              " Formula: ~invwt \n",
              "Fixed effects:  Shares ~ sentistr_std * republican + insult_std * republican \n",
              "                            Value  Std.Error       DF  t-value p-value\n",
              "(Intercept)              4.515927 0.04914031 13954372 91.89863  0.0000\n",
              "sentistr_std             0.017331 0.00383288 13954372  4.52172  0.0000\n",
              "republican              -0.284705 0.07260240     1491 -3.92143  0.0001\n",
              "insult_std               0.090929 0.00410983 13954372 22.12477  0.0000\n",
              "sentistr_std:republican -0.016506 0.00570786 13954372 -2.89188  0.0038\n",
              "republican:insult_std    0.002228 0.00583605 13954372  0.38176  0.7026\n",
              " Correlation: \n",
              "                        (Intr) sntst_ rpblcn inslt_ snts_:\n",
              "sentistr_std            -0.007                            \n",
              "republican              -0.677  0.005                     \n",
              "insult_std               0.001  0.266  0.000              \n",
              "sentistr_std:republican  0.005 -0.672 -0.003 -0.179       \n",
              "republican:insult_std    0.000 -0.187  0.001 -0.704  0.261\n",
              "\n",
              "Standardized Within-Group Residuals:\n",
              "         Min           Q1          Med           Q3          Max \n",
              " -0.10001630  -0.09722978  -0.08437682  -0.03843363 700.52275245 \n",
              "\n",
              "Number of Observations: 13955869\n",
              "Number of Groups: 1493 "
            ]
          },
          "metadata": {},
          "output_type": "display_data"
        }
      ]
    },
    {
      "cell_type": "code",
      "metadata": {
        "id": "_bVhaxW1dLCa",
        "colab": {
          "base_uri": "https://localhost:8080/",
          "height": 382
        },
        "outputId": "8db48384-985e-4235-ef71-3be70d941e2e"
      },
      "source": [
        "summary(m2_Shares_zinbi_int_std$fit.zero)\n"
      ],
      "execution_count": null,
      "outputs": [
        {
          "data": {
            "text/plain": [
              "\n",
              "Call:\n",
              "glm(formula = fm, family = binomial, data = data)\n",
              "\n",
              "Deviance Residuals: \n",
              "     Min        1Q    Median        3Q       Max  \n",
              "-0.01455  -0.01455  -0.01455  -0.01455   0.11176  \n",
              "\n",
              "Coefficients:\n",
              "            Estimate Std. Error z value            Pr(>|z|)    \n",
              "(Intercept) -9.15298    0.02601  -351.8 <0.0000000000000002 ***\n",
              "---\n",
              "Signif. codes:  0 ‘***’ 0.001 ‘**’ 0.01 ‘*’ 0.05 ‘.’ 0.1 ‘ ’ 1\n",
              "\n",
              "(Dispersion parameter for binomial family taken to be 1)\n",
              "\n",
              "    Null deviance: 5141.1  on 13955868  degrees of freedom\n",
              "Residual deviance: 5141.1  on 13955868  degrees of freedom\n",
              "AIC: 2957.8\n",
              "\n",
              "Number of Fisher Scoring iterations: 12\n"
            ]
          },
          "metadata": {},
          "output_type": "display_data"
        }
      ]
    },
    {
      "cell_type": "code",
      "metadata": {
        "id": "dNs2gpuOdK0_"
      },
      "source": [
        ""
      ],
      "execution_count": null,
      "outputs": []
    },
    {
      "cell_type": "markdown",
      "metadata": {
        "id": "PaPufhS7d0Sv"
      },
      "source": [
        "## Angry"
      ]
    },
    {
      "cell_type": "code",
      "metadata": {
        "colab": {
          "base_uri": "https://localhost:8080/",
          "height": 85
        },
        "id": "a1kJpCQYd1pJ",
        "outputId": "de78aec7-e319-410d-cf5f-e6202036c880"
      },
      "source": [
        "system.time(m2_Angry_zinbi_main_std_comp <- glmm.zinb(Angry ~ sentistr_std + insult_std + republican, random = ~1|Page.Name.fac , zi_fixed =  ~1, data=final_pages_react_nona_st))\n"
      ],
      "execution_count": null,
      "outputs": [
        {
          "output_type": "stream",
          "name": "stdout",
          "text": [
            "Computational iterations: 22 \n",
            "Computational time: 103.583 minutes \n"
          ]
        },
        {
          "output_type": "display_data",
          "data": {
            "text/plain": [
              "    user   system  elapsed \n",
              "5810.481  402.972 6214.990 "
            ]
          },
          "metadata": {}
        }
      ]
    },
    {
      "cell_type": "code",
      "metadata": {
        "id": "YSyRyyXbd2Rc"
      },
      "source": [
        "saveRDS(m2_Angry_zinbi_main_std_comp, \"m2_Angry_zinbi_main_std_comp.rds\")\n"
      ],
      "execution_count": null,
      "outputs": []
    },
    {
      "cell_type": "code",
      "metadata": {
        "id": "voFcVndWYE9E"
      },
      "source": [
        "m2_Angry_zinbi_main_std_comp_fit <- m2_Angry_zinbi_main_std_comp$fitted"
      ],
      "execution_count": null,
      "outputs": []
    },
    {
      "cell_type": "code",
      "metadata": {
        "id": "TYK2HjdJYFna"
      },
      "source": [
        "saveRDS(m2_Angry_zinbi_main_std_comp_fit, \"m2_Angry_zinbi_main_std_comp_fit.rds\")\n"
      ],
      "execution_count": null,
      "outputs": []
    },
    {
      "cell_type": "code",
      "metadata": {
        "colab": {
          "base_uri": "https://localhost:8080/",
          "height": 544
        },
        "id": "2I601QDAd25r",
        "outputId": "dd423986-5857-4e62-d0a0-be5608a3c869"
      },
      "source": [
        "summary(m2_Angry_zinbi_main_std_comp)\n"
      ],
      "execution_count": null,
      "outputs": [
        {
          "output_type": "display_data",
          "data": {
            "text/plain": [
              "Linear mixed-effects model fit by maximum likelihood\n",
              "  Data: final_pages_react_nona_st \n",
              "  AIC BIC logLik\n",
              "   NA  NA     NA\n",
              "\n",
              "Random effects:\n",
              " Formula: ~1 | Page.Name.fac\n",
              "        (Intercept) Residual\n",
              "StdDev:    1.386259  1.57076\n",
              "\n",
              "Variance function:\n",
              " Structure: fixed weights\n",
              " Formula: ~invwt \n",
              "Fixed effects:  Angry ~ sentistr_std + insult_std + republican \n",
              "                  Value  Std.Error       DF    t-value p-value\n",
              "(Intercept)   2.7715473 0.05318292 10990044   52.11348       0\n",
              "sentistr_std -0.3064409 0.00122594 10990044 -249.96406       0\n",
              "insult_std    0.1546961 0.00125264 10990044  123.49599       0\n",
              "republican   -0.3530659 0.07222066     1489   -4.88871       0\n",
              " Correlation: \n",
              "             (Intr) sntst_ inslt_\n",
              "sentistr_std  0.000              \n",
              "insult_std    0.000  0.264       \n",
              "republican   -0.736 -0.002  0.000\n",
              "\n",
              "Standardized Within-Group Residuals:\n",
              "        Min          Q1         Med          Q3         Max \n",
              " -0.2677881  -0.2549932  -0.2503223  -0.1321421 593.1236957 \n",
              "\n",
              "Number of Observations: 10991537\n",
              "Number of Groups: 1491 "
            ]
          },
          "metadata": {}
        }
      ]
    },
    {
      "cell_type": "code",
      "metadata": {
        "colab": {
          "base_uri": "https://localhost:8080/",
          "height": 374
        },
        "id": "xAc215dGd2w0",
        "outputId": "5d16513d-bd20-47f1-e3d2-0bbdec9bbff1"
      },
      "source": [
        "summary(m2_Angry_zinbi_main_std_comp$fit.zero)\n"
      ],
      "execution_count": null,
      "outputs": [
        {
          "output_type": "display_data",
          "data": {
            "text/plain": [
              "\n",
              "Call:\n",
              "glm(formula = fm, family = binomial, data = data)\n",
              "\n",
              "Deviance Residuals: \n",
              "    Min       1Q   Median       3Q      Max  \n",
              "-0.2623  -0.2623  -0.2623   0.1751   0.6606  \n",
              "\n",
              "Coefficients:\n",
              "             Estimate Std. Error z value            Pr(>|z|)    \n",
              "(Intercept) -3.352725   0.001669   -2009 <0.0000000000000002 ***\n",
              "---\n",
              "Signif. codes:  0 ‘***’ 0.001 ‘**’ 0.01 ‘*’ 0.05 ‘.’ 0.1 ‘ ’ 1\n",
              "\n",
              "(Dispersion parameter for binomial family taken to be 1)\n",
              "\n",
              "    Null deviance: 615640  on 10991536  degrees of freedom\n",
              "Residual deviance: 615640  on 10991536  degrees of freedom\n",
              "AIC: 756015\n",
              "\n",
              "Number of Fisher Scoring iterations: 6\n"
            ]
          },
          "metadata": {}
        }
      ]
    },
    {
      "cell_type": "code",
      "metadata": {
        "id": "4MW3_PpUdd5h",
        "colab": {
          "base_uri": "https://localhost:8080/",
          "height": 392
        },
        "outputId": "d59e8f4c-e0fd-4520-9a71-54e55b27b6ba"
      },
      "source": [
        "system.time(m2_Angry_zinbi_inciv_main_std <- glmm.zinb(Angry ~ insult_std + republican, random = ~1|Page.Name.fac , zi_fixed =  ~1, data=final_pages_all_nona_st))\n"
      ],
      "execution_count": null,
      "outputs": [
        {
          "ename": "ERROR",
          "evalue": "ignored",
          "output_type": "error",
          "traceback": [
            "Error in eval(predvars, data, env): object 'Angry' not found\nTraceback:\n",
            "1. system.time(m2_Angry_zinbi_inciv_main_std <- glmm.zinb(Angry ~ \n .     insult_std + republican, random = ~1 | Page.Name.fac, zi_fixed = ~1, \n .     data = final_pages_all_nona_st))",
            "2. glmm.zinb(Angry ~ insult_std + republican, random = ~1 | Page.Name.fac, \n .     zi_fixed = ~1, data = final_pages_all_nona_st)",
            "3. eval.parent(m)",
            "4. eval(expr, p)",
            "5. eval(expr, p)",
            "6. stats::model.frame(data = final_pages_all_nona_st, formula = ~Angry + \n .     insult_std + republican + Page.Name.fac, drop.unused.levels = TRUE)",
            "7. model.frame.default(data = final_pages_all_nona_st, formula = ~Angry + \n .     insult_std + republican + Page.Name.fac, drop.unused.levels = TRUE)",
            "8. eval(predvars, data, env)",
            "9. eval(predvars, data, env)"
          ]
        },
        {
          "metadata": {
            "tags": null
          },
          "name": "stderr",
          "output_type": "stream",
          "text": [
            "Timing stopped at: 0.006 0 0.015\n",
            "\n"
          ]
        }
      ]
    },
    {
      "cell_type": "code",
      "metadata": {
        "id": "vE3-VaXhdd1G"
      },
      "source": [
        "summary(m2_Angry_zinbi_inciv_main_std)\n"
      ],
      "execution_count": null,
      "outputs": []
    },
    {
      "cell_type": "code",
      "metadata": {
        "id": "19qMS6XUddvA"
      },
      "source": [
        "summary(m2_Angry_zinbi_inciv_main_std$fit.zero)\n"
      ],
      "execution_count": null,
      "outputs": []
    },
    {
      "cell_type": "code",
      "metadata": {
        "id": "O_QxEVBBddrU"
      },
      "source": [
        "system.time(m2_Angry_zinbi_senti_main_std <- glmm.zinb(Angry ~ sentistr_std + republican, random = ~1|Page.Name.fac , zi_fixed =  ~1, data=final_pages_all_nona_st))\n"
      ],
      "execution_count": null,
      "outputs": []
    },
    {
      "cell_type": "code",
      "metadata": {
        "id": "rNMt7tbjddmP"
      },
      "source": [
        "summary(m2_Angry_zinbi_senti_main_std)\n"
      ],
      "execution_count": null,
      "outputs": []
    },
    {
      "cell_type": "code",
      "metadata": {
        "id": "IiVQYcqSddjF"
      },
      "source": [
        "summary(m2_Angry_zinbi_senti_main_std$fit.zero)\n"
      ],
      "execution_count": null,
      "outputs": []
    },
    {
      "cell_type": "code",
      "metadata": {
        "id": "u_wCYpOEddeF"
      },
      "source": [
        "system.time(m2_Angry_zinbi_int_std <- glmm.zinb(Angry ~ sentistr_std*republican + insult_std*republican, random = ~1|Page.Name.fac , zi_fixed =  ~1, data=final_pages_all_nona_st))\n"
      ],
      "execution_count": null,
      "outputs": []
    },
    {
      "cell_type": "code",
      "metadata": {
        "id": "ZCdiIuApddaH"
      },
      "source": [
        "summary(m2_Angry_zinbi_int_std)\n"
      ],
      "execution_count": null,
      "outputs": []
    },
    {
      "cell_type": "code",
      "metadata": {
        "id": "sewdfEXRddVB"
      },
      "source": [
        "summary(m2_Angry_zinbi_int_std$fit.zero)\n"
      ],
      "execution_count": null,
      "outputs": []
    },
    {
      "cell_type": "markdown",
      "metadata": {
        "id": "FBE4aghca3ZP"
      },
      "source": [
        "## comments"
      ]
    },
    {
      "cell_type": "markdown",
      "metadata": {
        "id": "1F_fJY9Cn5pa"
      },
      "source": [
        "### std"
      ]
    },
    {
      "cell_type": "code",
      "metadata": {
        "id": "q_UuDhkqn7N1",
        "colab": {
          "base_uri": "https://localhost:8080/"
        },
        "outputId": "fc67b883-0a19-4ae7-eef6-fd96be7dcf90"
      },
      "source": [
        "### sep -- insult\n",
        "system.time(m2_Comments_zinbi_inciv_main_std <- glmm.zinb(Comments ~ insult_std + republican, random = ~1|Page.Name.fac , zi_fixed =  ~1, data=final_pages_all_nona_st))\n"
      ],
      "execution_count": null,
      "outputs": [
        {
          "output_type": "stream",
          "name": "stderr",
          "text": [
            "Loading required namespace: nlme\n",
            "\n",
            "Loading required namespace: MASS\n",
            "\n",
            "\n",
            "Attaching package: ‘nlme’\n",
            "\n",
            "\n",
            "The following object is masked from ‘package:dplyr’:\n",
            "\n",
            "    collapse\n",
            "\n",
            "\n",
            "\n",
            "Attaching package: ‘MASS’\n",
            "\n",
            "\n",
            "The following object is masked from ‘package:dplyr’:\n",
            "\n",
            "    select\n",
            "\n",
            "\n"
          ]
        },
        {
          "output_type": "stream",
          "name": "stdout",
          "text": [
            "Computational iterations: 20 \n",
            "Computational time: 121.735 minutes \n"
          ]
        },
        {
          "output_type": "display_data",
          "data": {
            "text/plain": [
              "    user   system  elapsed \n",
              "6907.303  393.966 7304.235 "
            ]
          },
          "metadata": {}
        }
      ]
    },
    {
      "cell_type": "code",
      "metadata": {
        "id": "oEYPIm9coBIP",
        "colab": {
          "base_uri": "https://localhost:8080/"
        },
        "outputId": "dea3920a-d41c-47aa-fcb9-607d3e02e431"
      },
      "source": [
        "summary(m2_Comments_zinbi_inciv_main_std)\n"
      ],
      "execution_count": null,
      "outputs": [
        {
          "output_type": "display_data",
          "data": {
            "text/plain": [
              "Linear mixed-effects model fit by maximum likelihood\n",
              "  Data: final_pages_all_nona_st \n",
              "  AIC BIC logLik\n",
              "   NA  NA     NA\n",
              "\n",
              "Random effects:\n",
              " Formula: ~1 | Page.Name.fac\n",
              "        (Intercept) Residual\n",
              "StdDev:    1.401375 2.374252\n",
              "\n",
              "Variance function:\n",
              " Structure: fixed weights\n",
              " Formula: ~invwt \n",
              "Fixed effects:  Comments ~ insult_std + republican \n",
              "                 Value  Std.Error       DF   t-value p-value\n",
              "(Intercept)  2.9478494 0.04930196 13954375  59.79172  0.0000\n",
              "insult_std   0.1847108 0.00109279 13954375 169.02741  0.0000\n",
              "republican  -0.0512604 0.07293025     1491  -0.70287  0.4822\n",
              " Correlation: \n",
              "           (Intr) inslt_\n",
              "insult_std  0.001       \n",
              "republican -0.676  0.000\n",
              "\n",
              "Standardized Within-Group Residuals:\n",
              "         Min           Q1          Med           Q3          Max \n",
              " -0.26072624  -0.24377189  -0.18772130  -0.02298529 933.54179673 \n",
              "\n",
              "Number of Observations: 13955869\n",
              "Number of Groups: 1493 "
            ]
          },
          "metadata": {}
        }
      ]
    },
    {
      "cell_type": "code",
      "metadata": {
        "id": "TJNrUBZ_oBE9",
        "colab": {
          "base_uri": "https://localhost:8080/"
        },
        "outputId": "86b18419-6ee7-4187-94ea-22957268c06f"
      },
      "source": [
        "summary(m2_Comments_zinbi_inciv_main_std$fit.zero)\n"
      ],
      "execution_count": null,
      "outputs": [
        {
          "output_type": "display_data",
          "data": {
            "text/plain": [
              "\n",
              "Call:\n",
              "glm(formula = fm, family = binomial, data = data)\n",
              "\n",
              "Deviance Residuals: \n",
              "     Min        1Q    Median        3Q       Max  \n",
              "-0.04886  -0.04886  -0.04886  -0.04886   0.57203  \n",
              "\n",
              "Coefficients:\n",
              "             Estimate Std. Error z value            Pr(>|z|)    \n",
              "(Intercept) -6.730160   0.007755  -867.9 <0.0000000000000002 ***\n",
              "---\n",
              "Signif. codes:  0 ‘***’ 0.001 ‘**’ 0.01 ‘*’ 0.05 ‘.’ 0.1 ‘ ’ 1\n",
              "\n",
              "(Dispersion parameter for binomial family taken to be 1)\n",
              "\n",
              "    Null deviance: 51794  on 13955868  degrees of freedom\n",
              "Residual deviance: 51794  on 13955868  degrees of freedom\n",
              "AIC: 33318\n",
              "\n",
              "Number of Fisher Scoring iterations: 9\n"
            ]
          },
          "metadata": {}
        }
      ]
    },
    {
      "cell_type": "code",
      "metadata": {
        "id": "ioOyuYNjoBCJ"
      },
      "source": [
        "saveRDS(m2_Comments_zinbi_inciv_main_std, \"m2_Comments_zinbi_inciv_main_std.rds\")\n"
      ],
      "execution_count": null,
      "outputs": []
    },
    {
      "cell_type": "code",
      "metadata": {
        "id": "kqqP4253oA_X",
        "colab": {
          "base_uri": "https://localhost:8080/"
        },
        "outputId": "4352332c-c09b-4535-8521-134b29643384"
      },
      "source": [
        "\n",
        "### sep -- senti\n",
        "system.time(m2_Comments_zinbi_senti_main_std <- glmm.zinb(Comments ~ sentistr_std + republican, random = ~1|Page.Name.fac , zi_fixed =  ~1, data=final_pages_all_nona_st))\n"
      ],
      "execution_count": null,
      "outputs": [
        {
          "output_type": "stream",
          "name": "stdout",
          "text": [
            "Computational iterations: 22 \n",
            "Computational time: 135.615 minutes \n"
          ]
        },
        {
          "output_type": "display_data",
          "data": {
            "text/plain": [
              "    user   system  elapsed \n",
              "7521.141  613.934 8136.938 "
            ]
          },
          "metadata": {}
        }
      ]
    },
    {
      "cell_type": "code",
      "metadata": {
        "id": "G8_6MlPxoA8S",
        "colab": {
          "base_uri": "https://localhost:8080/"
        },
        "outputId": "ac1249fb-408d-4286-e64f-4f11fbd2ab10"
      },
      "source": [
        "summary(m2_Comments_zinbi_senti_main_std)\n"
      ],
      "execution_count": null,
      "outputs": [
        {
          "output_type": "display_data",
          "data": {
            "text/plain": [
              "Linear mixed-effects model fit by maximum likelihood\n",
              "  Data: final_pages_all_nona_st \n",
              "  AIC BIC logLik\n",
              "   NA  NA     NA\n",
              "\n",
              "Random effects:\n",
              " Formula: ~1 | Page.Name.fac\n",
              "        (Intercept) Residual\n",
              "StdDev:    1.382348 2.402527\n",
              "\n",
              "Variance function:\n",
              " Structure: fixed weights\n",
              " Formula: ~invwt \n",
              "Fixed effects:  Comments ~ sentistr_std + republican \n",
              "                  Value  Std.Error       DF   t-value p-value\n",
              "(Intercept)   2.9608217 0.04863816 13954375  60.87446  0.0000\n",
              "sentistr_std -0.0896862 0.00108374 13954375 -82.75621  0.0000\n",
              "republican   -0.0629294 0.07194730     1491  -0.87466  0.3819\n",
              " Correlation: \n",
              "             (Intr) sntst_\n",
              "sentistr_std -0.002       \n",
              "republican   -0.676  0.001\n",
              "\n",
              "Standardized Within-Group Residuals:\n",
              "          Min            Q1           Med            Q3           Max \n",
              "  -0.25652406   -0.24033392   -0.18550720   -0.02272963 1066.02320559 \n",
              "\n",
              "Number of Observations: 13955869\n",
              "Number of Groups: 1493 "
            ]
          },
          "metadata": {}
        }
      ]
    },
    {
      "cell_type": "code",
      "metadata": {
        "id": "AO3i6SW2oA5I",
        "colab": {
          "base_uri": "https://localhost:8080/"
        },
        "outputId": "a0639398-93de-4057-e0b6-1262be4d82f5"
      },
      "source": [
        "summary(m2_Comments_zinbi_senti_main_std$fit.zero)\n"
      ],
      "execution_count": null,
      "outputs": [
        {
          "output_type": "display_data",
          "data": {
            "text/plain": [
              "\n",
              "Call:\n",
              "glm(formula = fm, family = binomial, data = data)\n",
              "\n",
              "Deviance Residuals: \n",
              "     Min        1Q    Median        3Q       Max  \n",
              "-0.03952  -0.03952  -0.03952  -0.03952   0.39899  \n",
              "\n",
              "Coefficients:\n",
              "             Estimate Std. Error z value            Pr(>|z|)    \n",
              "(Intercept) -7.154905   0.009586  -746.4 <0.0000000000000002 ***\n",
              "---\n",
              "Signif. codes:  0 ‘***’ 0.001 ‘**’ 0.01 ‘*’ 0.05 ‘.’ 0.1 ‘ ’ 1\n",
              "\n",
              "(Dispersion parameter for binomial family taken to be 1)\n",
              "\n",
              "    Null deviance: 33810  on 13955868  degrees of freedom\n",
              "Residual deviance: 33810  on 13955868  degrees of freedom\n",
              "AIC: 21793\n",
              "\n",
              "Number of Fisher Scoring iterations: 10\n"
            ]
          },
          "metadata": {}
        }
      ]
    },
    {
      "cell_type": "code",
      "metadata": {
        "id": "T6Bsm3ghoA10"
      },
      "source": [
        "saveRDS(m2_Comments_zinbi_senti_main_std, \"m2_Comments_zinbi_senti_main_std.rds\")\n"
      ],
      "execution_count": null,
      "outputs": []
    },
    {
      "cell_type": "code",
      "metadata": {
        "id": "UYJ_LTA5oAyv",
        "colab": {
          "base_uri": "https://localhost:8080/"
        },
        "outputId": "53ef6a52-c86b-4a9f-9f0c-850df42b7ac6"
      },
      "source": [
        "\n",
        "### main both\n",
        "system.time(m2_Comments_zinbi_main_std_comp <- glmm.zinb(Comments ~ sentistr_std + insult_std + republican, random = ~1|Page.Name.fac , zi_fixed =  ~1, data=final_pages_all_nona_st))\n"
      ],
      "execution_count": null,
      "outputs": [
        {
          "output_type": "stream",
          "name": "stdout",
          "text": [
            "Computational iterations: 20 \n",
            "Computational time: 137.514 minutes \n"
          ]
        },
        {
          "output_type": "display_data",
          "data": {
            "text/plain": [
              "    user   system  elapsed \n",
              "7532.665  715.592 8250.909 "
            ]
          },
          "metadata": {}
        }
      ]
    },
    {
      "cell_type": "code",
      "metadata": {
        "id": "9gi509TVp2jd",
        "colab": {
          "base_uri": "https://localhost:8080/"
        },
        "outputId": "78b10d7a-af52-4954-d39a-4bc3e662b2ab"
      },
      "source": [
        "summary(m2_Comments_zinbi_main_std_comp)\n"
      ],
      "execution_count": null,
      "outputs": [
        {
          "output_type": "display_data",
          "data": {
            "text/plain": [
              "Linear mixed-effects model fit by maximum likelihood\n",
              "  Data: final_pages_all_nona_st \n",
              "  AIC BIC logLik\n",
              "   NA  NA     NA\n",
              "\n",
              "Random effects:\n",
              " Formula: ~1 | Page.Name.fac\n",
              "        (Intercept) Residual\n",
              "StdDev:    1.397258 2.391134\n",
              "\n",
              "Variance function:\n",
              " Structure: fixed weights\n",
              " Formula: ~invwt \n",
              "Fixed effects:  Comments ~ sentistr_std + insult_std + republican \n",
              "                  Value  Std.Error       DF   t-value p-value\n",
              "(Intercept)   2.9506173 0.04915902 13954374  60.02189  0.0000\n",
              "sentistr_std -0.0416098 0.00111260 13954374 -37.39856  0.0000\n",
              "insult_std    0.1731866 0.00114012 13954374 151.90164  0.0000\n",
              "republican   -0.0557703 0.07271840     1491  -0.76694  0.4432\n",
              " Correlation: \n",
              "             (Intr) sntst_ inslt_\n",
              "sentistr_std -0.002              \n",
              "insult_std    0.000  0.262       \n",
              "republican   -0.676  0.001  0.000\n",
              "\n",
              "Standardized Within-Group Residuals:\n",
              "         Min           Q1          Med           Q3          Max \n",
              " -0.25906817  -0.24211156  -0.18651079  -0.02299689 963.01464118 \n",
              "\n",
              "Number of Observations: 13955869\n",
              "Number of Groups: 1493 "
            ]
          },
          "metadata": {}
        }
      ]
    },
    {
      "cell_type": "code",
      "metadata": {
        "id": "1daodLLip2fh",
        "colab": {
          "base_uri": "https://localhost:8080/"
        },
        "outputId": "7b42cafc-783e-4cfa-8799-5ba5676f3d1f"
      },
      "source": [
        "summary(m2_Comments_zinbi_main_std_comp$fit.zero)\n"
      ],
      "execution_count": null,
      "outputs": [
        {
          "output_type": "display_data",
          "data": {
            "text/plain": [
              "\n",
              "Call:\n",
              "glm(formula = fm, family = binomial, data = data)\n",
              "\n",
              "Deviance Residuals: \n",
              "     Min        1Q    Median        3Q       Max  \n",
              "-0.04878  -0.04878  -0.04878  -0.04878   0.56017  \n",
              "\n",
              "Coefficients:\n",
              "             Estimate Std. Error z value            Pr(>|z|)    \n",
              "(Intercept) -6.733398   0.007767  -866.9 <0.0000000000000002 ***\n",
              "---\n",
              "Signif. codes:  0 ‘***’ 0.001 ‘**’ 0.01 ‘*’ 0.05 ‘.’ 0.1 ‘ ’ 1\n",
              "\n",
              "(Dispersion parameter for binomial family taken to be 1)\n",
              "\n",
              "    Null deviance: 51619  on 13955868  degrees of freedom\n",
              "Residual deviance: 51619  on 13955868  degrees of freedom\n",
              "AIC: 33211\n",
              "\n",
              "Number of Fisher Scoring iterations: 9\n"
            ]
          },
          "metadata": {}
        }
      ]
    },
    {
      "cell_type": "code",
      "metadata": {
        "id": "OFbGjc2Ep2cW"
      },
      "source": [
        "saveRDS(m2_Comments_zinbi_main_std_comp, \"m2_Comments_zinbi_main_std_comp.rds\")\n"
      ],
      "execution_count": null,
      "outputs": []
    },
    {
      "cell_type": "code",
      "metadata": {
        "id": "vJEK9P67p2WE",
        "colab": {
          "base_uri": "https://localhost:8080/",
          "height": 86
        },
        "outputId": "628cb40d-66eb-4104-840d-133ca8a788d2"
      },
      "source": [
        "\n",
        "### interaction\n",
        "system.time(m2_Comments_zinbi_int_std <- glmm.zinb(Comments ~ sentistr_std*republican + insult_std*republican, random = ~1|Page.Name.fac , zi_fixed =  ~1, data=final_pages_all_nona_st))\n"
      ],
      "execution_count": null,
      "outputs": [
        {
          "output_type": "stream",
          "name": "stdout",
          "text": [
            "Computational iterations: 20 \n",
            "Computational time: 148.325 minutes \n"
          ]
        },
        {
          "output_type": "display_data",
          "data": {
            "text/plain": [
              "    user   system  elapsed \n",
              "8554.794  309.046 8899.508 "
            ]
          },
          "metadata": {}
        }
      ]
    },
    {
      "cell_type": "code",
      "metadata": {
        "id": "xgAG2hRYp47-"
      },
      "source": [
        "saveRDS(m2_Comments_zinbi_int_std, \"m2_Comments_zinbi_int_std.rds\")\n"
      ],
      "execution_count": null,
      "outputs": []
    },
    {
      "cell_type": "code",
      "metadata": {
        "id": "T48fHJpQ7K7A"
      },
      "source": [
        "m2_Comments_zinbi_int_std_fit <- m2_Comments_zinbi_int_std$fitted\n"
      ],
      "execution_count": null,
      "outputs": []
    },
    {
      "cell_type": "code",
      "metadata": {
        "id": "zZ_SXQ2J7Kaj"
      },
      "source": [
        "saveRDS(m2_Comments_zinbi_int_std_fit, \"m2_Comments_zinbi_int_std_fit.rds\")"
      ],
      "execution_count": null,
      "outputs": []
    },
    {
      "cell_type": "code",
      "metadata": {
        "id": "FWUCGUGeoAvu",
        "colab": {
          "base_uri": "https://localhost:8080/"
        },
        "outputId": "3131b70e-7c12-4bd3-bad3-2a3d53c27bec"
      },
      "source": [
        "summary(m2_Comments_zinbi_int_std)\n"
      ],
      "execution_count": null,
      "outputs": [
        {
          "output_type": "display_data",
          "data": {
            "text/plain": [
              "Linear mixed-effects model fit by maximum likelihood\n",
              "  Data: final_pages_all_nona_st \n",
              "  AIC BIC logLik\n",
              "   NA  NA     NA\n",
              "\n",
              "Random effects:\n",
              " Formula: ~1 | Page.Name.fac\n",
              "        (Intercept) Residual\n",
              "StdDev:     1.40175 2.392891\n",
              "\n",
              "Variance function:\n",
              " Structure: fixed weights\n",
              " Formula: ~invwt \n",
              "Fixed effects:  Comments ~ sentistr_std * republican + insult_std * republican \n",
              "                             Value  Std.Error       DF   t-value p-value\n",
              "(Intercept)              2.9513078 0.04931669 13954372  59.84399  0.0000\n",
              "sentistr_std            -0.0514920 0.00149711 13954372 -34.39432  0.0000\n",
              "republican              -0.0552859 0.07295165     1491  -0.75784  0.4487\n",
              "insult_std               0.1640758 0.00160203 13954372 102.41772  0.0000\n",
              "sentistr_std:republican  0.0215030 0.00223964 13954372   9.60108  0.0000\n",
              "republican:insult_std    0.0185018 0.00228198 13954372   8.10779  0.0000\n",
              " Correlation: \n",
              "                        (Intr) sntst_ rpblcn inslt_ snts_:\n",
              "sentistr_std            -0.003                            \n",
              "republican              -0.676  0.002                     \n",
              "insult_std               0.000  0.266  0.000              \n",
              "sentistr_std:republican  0.002 -0.668 -0.001 -0.178       \n",
              "republican:insult_std    0.000 -0.187  0.000 -0.702  0.262\n",
              "\n",
              "Standardized Within-Group Residuals:\n",
              "         Min           Q1          Med           Q3          Max \n",
              " -0.25895264  -0.24198594  -0.18644847  -0.02300396 973.79871288 \n",
              "\n",
              "Number of Observations: 13955869\n",
              "Number of Groups: 1493 "
            ]
          },
          "metadata": {}
        }
      ]
    },
    {
      "cell_type": "code",
      "metadata": {
        "id": "V6SVrox0oAsE",
        "colab": {
          "base_uri": "https://localhost:8080/"
        },
        "outputId": "7e33d0c0-9614-4644-f3ba-9e80a0fe8c64"
      },
      "source": [
        "summary(m2_Comments_zinbi_int_std$fit.zero)\n"
      ],
      "execution_count": null,
      "outputs": [
        {
          "output_type": "display_data",
          "data": {
            "text/plain": [
              "\n",
              "Call:\n",
              "glm(formula = fm, family = binomial, data = data)\n",
              "\n",
              "Deviance Residuals: \n",
              "     Min        1Q    Median        3Q       Max  \n",
              "-0.04911  -0.04911  -0.04911  -0.04911   0.54712  \n",
              "\n",
              "Coefficients:\n",
              "             Estimate Std. Error z value Pr(>|z|)    \n",
              "(Intercept) -6.719883   0.007715    -871   <2e-16 ***\n",
              "---\n",
              "Signif. codes:  0 ‘***’ 0.001 ‘**’ 0.01 ‘*’ 0.05 ‘.’ 0.1 ‘ ’ 1\n",
              "\n",
              "(Dispersion parameter for binomial family taken to be 1)\n",
              "\n",
              "    Null deviance: 52320  on 13955868  degrees of freedom\n",
              "Residual deviance: 52320  on 13955868  degrees of freedom\n",
              "AIC: 33662\n",
              "\n",
              "Number of Fisher Scoring iterations: 9\n"
            ]
          },
          "metadata": {}
        }
      ]
    },
    {
      "cell_type": "markdown",
      "metadata": {
        "id": "EBKmYc4VbAwG"
      },
      "source": [
        "### int"
      ]
    },
    {
      "cell_type": "code",
      "metadata": {
        "id": "DBIkQATcbCvK"
      },
      "source": [
        "system.time(m1_senti_comments_zinbi_int_01 <- glmm.zinb(Comments ~ sentistr*republican + insult*republican, random = ~1|Page.Name.fac , zi_fixed =  ~1, data=final_pages_all_nona_st))\n"
      ],
      "execution_count": null,
      "outputs": []
    },
    {
      "cell_type": "code",
      "metadata": {
        "id": "BbCCmLUhbCsQ"
      },
      "source": [
        "#cAIC(m1_senti_comments_zinbi_int_01)\n"
      ],
      "execution_count": null,
      "outputs": []
    },
    {
      "cell_type": "code",
      "metadata": {
        "id": "Tb3xtLuobCpU"
      },
      "source": [
        "saveRDS(m1_senti_comments_zinbi_int_01, \"m1_senti_comments_zinbi_int_01.rds\")\n"
      ],
      "execution_count": null,
      "outputs": []
    },
    {
      "cell_type": "markdown",
      "metadata": {
        "id": "2AKAwsB-bDDp"
      },
      "source": [
        "### sep -- senti"
      ]
    },
    {
      "cell_type": "code",
      "metadata": {
        "id": "1Qn-Ju4JbFJH"
      },
      "source": [
        "system.time(m1_comments_zinbi_01_sent_only <- glmm.zinb(Comments ~ sentistr+republican, random = ~1|Page.Name.fac , zi_fixed =  ~1, data=final_pages_all_nona_st))\n"
      ],
      "execution_count": null,
      "outputs": []
    },
    {
      "cell_type": "code",
      "metadata": {
        "id": "paOWw_mhbFMP"
      },
      "source": [
        "#cAIC(m1_comments_zinbi_01_sent_only)\n"
      ],
      "execution_count": null,
      "outputs": []
    },
    {
      "cell_type": "code",
      "metadata": {
        "id": "__lB2m-TbFpb"
      },
      "source": [
        "saveRDS(m1_comments_zinbi_01_sent_only, \"m1_comments_zinbi_01_sent_only.rds\")\n"
      ],
      "execution_count": null,
      "outputs": []
    },
    {
      "cell_type": "markdown",
      "metadata": {
        "id": "6OEzpWj1bGE_"
      },
      "source": [
        "### sep -- inciv"
      ]
    },
    {
      "cell_type": "code",
      "metadata": {
        "id": "OO5OeYwzbH2a",
        "colab": {
          "base_uri": "https://localhost:8080/",
          "height": 459
        },
        "outputId": "e814414f-d4c8-45ce-a819-05811b91b477"
      },
      "source": [
        "system.time(m1_comments_zinbi_01_inciv_only <- glmm.zinb(Comments ~ insult+republican, random = ~1|Page.Name.fac , zi_fixed =  ~1, data=final_pages_all_nona_st))\n"
      ],
      "execution_count": null,
      "outputs": [
        {
          "output_type": "stream",
          "name": "stderr",
          "text": [
            "Loading required namespace: nlme\n",
            "\n",
            "Loading required namespace: MASS\n",
            "\n",
            "\n",
            "Attaching package: ‘nlme’\n",
            "\n",
            "\n",
            "The following object is masked from ‘package:dplyr’:\n",
            "\n",
            "    collapse\n",
            "\n",
            "\n",
            "\n",
            "Attaching package: ‘MASS’\n",
            "\n",
            "\n",
            "The following object is masked from ‘package:dplyr’:\n",
            "\n",
            "    select\n",
            "\n",
            "\n"
          ]
        },
        {
          "output_type": "stream",
          "name": "stdout",
          "text": [
            "Computational iterations: 20 \n",
            "Computational time: 114.228 minutes \n"
          ]
        },
        {
          "output_type": "display_data",
          "data": {
            "text/plain": [
              "    user   system  elapsed \n",
              "6404.224  447.590 6853.792 "
            ]
          },
          "metadata": {}
        }
      ]
    },
    {
      "cell_type": "code",
      "metadata": {
        "id": "brsr9qYxbHxL",
        "colab": {
          "base_uri": "https://localhost:8080/",
          "height": 510
        },
        "outputId": "765dbad1-5040-44f0-8c65-c0b2e7f84aec"
      },
      "source": [
        "summary(m1_comments_zinbi_01_inciv_only)\n"
      ],
      "execution_count": null,
      "outputs": [
        {
          "output_type": "display_data",
          "data": {
            "text/plain": [
              "Linear mixed-effects model fit by maximum likelihood\n",
              "  Data: final_pages_all_nona_st \n",
              "  AIC BIC logLik\n",
              "   NA  NA     NA\n",
              "\n",
              "Random effects:\n",
              " Formula: ~1 | Page.Name.fac\n",
              "        (Intercept) Residual\n",
              "StdDev:    1.401375 2.374252\n",
              "\n",
              "Variance function:\n",
              " Structure: fixed weights\n",
              " Formula: ~invwt \n",
              "Fixed effects:  Comments ~ insult + republican \n",
              "                 Value  Std.Error       DF   t-value p-value\n",
              "(Intercept)  2.7490915 0.04931530 13954375  55.74520  0.0000\n",
              "insult       0.8450096 0.00499925 13954375 169.02741  0.0000\n",
              "republican  -0.0512604 0.07293025     1491  -0.70287  0.4822\n",
              " Correlation: \n",
              "           (Intr) insult\n",
              "insult     -0.023       \n",
              "republican -0.676  0.000\n",
              "\n",
              "Standardized Within-Group Residuals:\n",
              "         Min           Q1          Med           Q3          Max \n",
              " -0.26072624  -0.24377189  -0.18772130  -0.02298529 933.54179672 \n",
              "\n",
              "Number of Observations: 13955869\n",
              "Number of Groups: 1493 "
            ]
          },
          "metadata": {}
        }
      ]
    },
    {
      "cell_type": "code",
      "metadata": {
        "id": "u1uk2PfSbHT3",
        "colab": {
          "base_uri": "https://localhost:8080/",
          "height": 374
        },
        "outputId": "d7f637a2-c6ec-4e26-8404-1e66492bfa3e"
      },
      "source": [
        "summary(m1_comments_zinbi_01_inciv_only$fit.zero)\n"
      ],
      "execution_count": null,
      "outputs": [
        {
          "output_type": "display_data",
          "data": {
            "text/plain": [
              "\n",
              "Call:\n",
              "glm(formula = fm, family = binomial, data = data)\n",
              "\n",
              "Deviance Residuals: \n",
              "     Min        1Q    Median        3Q       Max  \n",
              "-0.04886  -0.04886  -0.04886  -0.04886   0.57203  \n",
              "\n",
              "Coefficients:\n",
              "             Estimate Std. Error z value            Pr(>|z|)    \n",
              "(Intercept) -6.730160   0.007755  -867.9 <0.0000000000000002 ***\n",
              "---\n",
              "Signif. codes:  0 ‘***’ 0.001 ‘**’ 0.01 ‘*’ 0.05 ‘.’ 0.1 ‘ ’ 1\n",
              "\n",
              "(Dispersion parameter for binomial family taken to be 1)\n",
              "\n",
              "    Null deviance: 51794  on 13955868  degrees of freedom\n",
              "Residual deviance: 51794  on 13955868  degrees of freedom\n",
              "AIC: 33318\n",
              "\n",
              "Number of Fisher Scoring iterations: 9\n"
            ]
          },
          "metadata": {}
        }
      ]
    },
    {
      "cell_type": "code",
      "metadata": {
        "id": "eHdPAIBnbXcI"
      },
      "source": [
        "#cAIC(m1_comments_zinbi_01_inciv_only)\n"
      ],
      "execution_count": null,
      "outputs": []
    },
    {
      "cell_type": "code",
      "metadata": {
        "id": "BA96QXNPbXZS"
      },
      "source": [
        "saveRDS(m1_comments_zinbi_01_inciv_only, \"m1_comments_zinbi_01_inciv_only.rds\")\n"
      ],
      "execution_count": null,
      "outputs": []
    },
    {
      "cell_type": "code",
      "metadata": {
        "id": "Whjea-MqbXWU"
      },
      "source": [
        ""
      ],
      "execution_count": null,
      "outputs": []
    },
    {
      "cell_type": "markdown",
      "metadata": {
        "id": "RSS7a0VAqLYR"
      },
      "source": [
        "## Wow"
      ]
    },
    {
      "cell_type": "markdown",
      "metadata": {
        "id": "JK2dwFnIqOTG"
      },
      "source": [
        "### std"
      ]
    },
    {
      "cell_type": "code",
      "metadata": {
        "id": "kWNerS6hqNOX",
        "colab": {
          "base_uri": "https://localhost:8080/",
          "height": 85
        },
        "outputId": "2c3310b8-5158-4424-9cda-dd314c279274"
      },
      "source": [
        "\n",
        "### sep -- insult\n",
        "system.time(m2_Wow_zinbi_inciv_main_std <- glmm.zinb(Wow ~ insult_std + republican, random = ~1|Page.Name.fac , zi_fixed =  ~1, data=final_pages_react_nona_st))\n"
      ],
      "execution_count": null,
      "outputs": [
        {
          "output_type": "stream",
          "name": "stdout",
          "text": [
            "Computational iterations: 26 \n",
            "Computational time: 125.168 minutes \n"
          ]
        },
        {
          "output_type": "display_data",
          "data": {
            "text/plain": [
              "    user   system  elapsed \n",
              "6945.976  560.304 7510.071 "
            ]
          },
          "metadata": {}
        }
      ]
    },
    {
      "cell_type": "code",
      "metadata": {
        "id": "FmOL3ZZTqNmG",
        "colab": {
          "base_uri": "https://localhost:8080/",
          "height": 510
        },
        "outputId": "93d8f806-d5b0-4276-8da6-7bcea94c5cdc"
      },
      "source": [
        "summary(m2_Wow_zinbi_inciv_main_std)\n"
      ],
      "execution_count": null,
      "outputs": [
        {
          "output_type": "display_data",
          "data": {
            "text/plain": [
              "Linear mixed-effects model fit by maximum likelihood\n",
              "  Data: final_pages_react_nona_st \n",
              "  AIC BIC logLik\n",
              "   NA  NA     NA\n",
              "\n",
              "Random effects:\n",
              " Formula: ~1 | Page.Name.fac\n",
              "        (Intercept) Residual\n",
              "StdDev:    1.262581 1.800651\n",
              "\n",
              "Variance function:\n",
              " Structure: fixed weights\n",
              " Formula: ~invwt \n",
              "Fixed effects:  Wow ~ insult_std + republican \n",
              "                 Value  Std.Error       DF   t-value p-value\n",
              "(Intercept)  1.0957787 0.04843785 10990045  22.62237   0e+00\n",
              "insult_std   0.1140498 0.00105151 10990045 108.46337   0e+00\n",
              "republican  -0.2354008 0.06577821     1489  -3.57870   4e-04\n",
              " Correlation: \n",
              "           (Intr) inslt_\n",
              "insult_std  0.000       \n",
              "republican -0.736  0.000\n",
              "\n",
              "Standardized Within-Group Residuals:\n",
              "        Min          Q1         Med          Q3         Max \n",
              " -0.3205888  -0.2916687  -0.2466958  -0.0517338 455.8811004 \n",
              "\n",
              "Number of Observations: 10991537\n",
              "Number of Groups: 1491 "
            ]
          },
          "metadata": {}
        }
      ]
    },
    {
      "cell_type": "code",
      "metadata": {
        "id": "F8U-A33WqNhK",
        "colab": {
          "base_uri": "https://localhost:8080/",
          "height": 374
        },
        "outputId": "bf386460-7c81-4b95-b9f1-57663814620b"
      },
      "source": [
        "summary(m2_Wow_zinbi_inciv_main_std$fit.zero)\n"
      ],
      "execution_count": null,
      "outputs": [
        {
          "output_type": "display_data",
          "data": {
            "text/plain": [
              "\n",
              "Call:\n",
              "glm(formula = fm, family = binomial, data = data)\n",
              "\n",
              "Deviance Residuals: \n",
              "     Min        1Q    Median        3Q       Max  \n",
              "-0.12935  -0.12935  -0.12935   0.07703   0.59539  \n",
              "\n",
              "Coefficients:\n",
              "             Estimate Std. Error z value Pr(>|z|)    \n",
              "(Intercept) -4.779442   0.003318   -1440   <2e-16 ***\n",
              "---\n",
              "Signif. codes:  0 ‘***’ 0.001 ‘**’ 0.01 ‘*’ 0.05 ‘.’ 0.1 ‘ ’ 1\n",
              "\n",
              "(Dispersion parameter for binomial family taken to be 1)\n",
              "\n",
              "    Null deviance: 155657  on 10991536  degrees of freedom\n",
              "Residual deviance: 155657  on 10991536  degrees of freedom\n",
              "AIC: 183904\n",
              "\n",
              "Number of Fisher Scoring iterations: 7\n"
            ]
          },
          "metadata": {}
        }
      ]
    },
    {
      "cell_type": "code",
      "metadata": {
        "id": "K-2J4EHSqaJ1"
      },
      "source": [
        "saveRDS(m2_Wow_zinbi_inciv_main_std, \"m2_Wow_zinbi_inciv_main_std.rds\")\n"
      ],
      "execution_count": null,
      "outputs": []
    },
    {
      "cell_type": "code",
      "metadata": {
        "id": "fXiGL6FXqaHA",
        "colab": {
          "base_uri": "https://localhost:8080/",
          "height": 85
        },
        "outputId": "16a7d420-4150-4c47-ae5c-a4c49c7b296f"
      },
      "source": [
        "\n",
        "### sep -- senti\n",
        "system.time(m2_Wow_zinbi_senti_main_std <- glmm.zinb(Wow ~ sentistr_std + republican, random = ~1|Page.Name.fac , zi_fixed =  ~1, data=final_pages_react_nona_st))\n"
      ],
      "execution_count": null,
      "outputs": [
        {
          "output_type": "stream",
          "name": "stdout",
          "text": [
            "Computational iterations: 23 \n",
            "Computational time: 107.425 minutes \n"
          ]
        },
        {
          "output_type": "display_data",
          "data": {
            "text/plain": [
              "    user   system  elapsed \n",
              "6017.507  425.987 6445.525 "
            ]
          },
          "metadata": {}
        }
      ]
    },
    {
      "cell_type": "code",
      "metadata": {
        "id": "vvHMLV58qaD-",
        "colab": {
          "base_uri": "https://localhost:8080/",
          "height": 510
        },
        "outputId": "2e4c517e-9eee-4715-bd58-79e86cff3675"
      },
      "source": [
        "summary(m2_Wow_zinbi_senti_main_std)\n"
      ],
      "execution_count": null,
      "outputs": [
        {
          "output_type": "display_data",
          "data": {
            "text/plain": [
              "Linear mixed-effects model fit by maximum likelihood\n",
              "  Data: final_pages_react_nona_st \n",
              "  AIC BIC logLik\n",
              "   NA  NA     NA\n",
              "\n",
              "Random effects:\n",
              " Formula: ~1 | Page.Name.fac\n",
              "        (Intercept) Residual\n",
              "StdDev:    1.267676 1.827389\n",
              "\n",
              "Variance function:\n",
              " Structure: fixed weights\n",
              " Formula: ~invwt \n",
              "Fixed effects:  Wow ~ sentistr_std + republican \n",
              "                  Value  Std.Error       DF    t-value p-value\n",
              "(Intercept)   1.0912504 0.04863488 10990045   22.43761   0e+00\n",
              "sentistr_std -0.1616596 0.00104773 10990045 -154.29543   0e+00\n",
              "republican   -0.2259664 0.06604632     1489   -3.42133   6e-04\n",
              " Correlation: \n",
              "             (Intr) sntst_\n",
              "sentistr_std  0.001       \n",
              "republican   -0.736 -0.002\n",
              "\n",
              "Standardized Within-Group Residuals:\n",
              "         Min           Q1          Med           Q3          Max \n",
              " -0.31755019  -0.28760705  -0.24320794  -0.05209172 445.37384412 \n",
              "\n",
              "Number of Observations: 10991537\n",
              "Number of Groups: 1491 "
            ]
          },
          "metadata": {}
        }
      ]
    },
    {
      "cell_type": "code",
      "metadata": {
        "id": "3GilhQP8qaB9",
        "colab": {
          "base_uri": "https://localhost:8080/",
          "height": 374
        },
        "outputId": "2a889465-f193-4729-db07-ea31ab00ed5b"
      },
      "source": [
        "summary(m2_Wow_zinbi_senti_main_std$fit.zero)\n"
      ],
      "execution_count": null,
      "outputs": [
        {
          "output_type": "display_data",
          "data": {
            "text/plain": [
              "\n",
              "Call:\n",
              "glm(formula = fm, family = binomial, data = data)\n",
              "\n",
              "Deviance Residuals: \n",
              "     Min        1Q    Median        3Q       Max  \n",
              "-0.15009  -0.15009  -0.15009   0.08891   0.77944  \n",
              "\n",
              "Coefficients:\n",
              "             Estimate Std. Error z value Pr(>|z|)    \n",
              "(Intercept) -4.480511   0.002866   -1563   <2e-16 ***\n",
              "---\n",
              "Signif. codes:  0 ‘***’ 0.001 ‘**’ 0.01 ‘*’ 0.05 ‘.’ 0.1 ‘ ’ 1\n",
              "\n",
              "(Dispersion parameter for binomial family taken to be 1)\n",
              "\n",
              "    Null deviance: 209801  on 10991536  degrees of freedom\n",
              "Residual deviance: 209801  on 10991536  degrees of freedom\n",
              "AIC: 247618\n",
              "\n",
              "Number of Fisher Scoring iterations: 7\n"
            ]
          },
          "metadata": {}
        }
      ]
    },
    {
      "cell_type": "code",
      "metadata": {
        "id": "yEUYLm3BqZ--"
      },
      "source": [
        "saveRDS(m2_Wow_zinbi_senti_main_std, \"m2_Wow_zinbi_senti_main_std.rds\")\n"
      ],
      "execution_count": null,
      "outputs": []
    },
    {
      "cell_type": "code",
      "metadata": {
        "id": "jMmHTkKdqZ8B",
        "colab": {
          "base_uri": "https://localhost:8080/",
          "height": 468
        },
        "outputId": "4991c155-6b14-4066-eecd-d341627373e4"
      },
      "source": [
        "\n",
        "### main both\n",
        "system.time(m2_Wow_zinbi_main_std_comp <- glmm.zinb(Wow ~ sentistr_std + insult_std + republican, random = ~1|Page.Name.fac , zi_fixed =  ~1, data=final_pages_react_nona_st))\n"
      ],
      "execution_count": null,
      "outputs": [
        {
          "output_type": "stream",
          "name": "stderr",
          "text": [
            "Loading required namespace: nlme\n",
            "\n",
            "Loading required namespace: MASS\n",
            "\n",
            "\n",
            "Attaching package: ‘nlme’\n",
            "\n",
            "\n",
            "The following object is masked from ‘package:dplyr’:\n",
            "\n",
            "    collapse\n",
            "\n",
            "\n",
            "\n",
            "Attaching package: ‘MASS’\n",
            "\n",
            "\n",
            "The following object is masked from ‘package:dplyr’:\n",
            "\n",
            "    select\n",
            "\n",
            "\n"
          ]
        },
        {
          "output_type": "stream",
          "name": "stdout",
          "text": [
            "Computational iterations: 25 \n",
            "Computational time: 121.462 minutes \n"
          ]
        },
        {
          "output_type": "display_data",
          "data": {
            "text/plain": [
              "    user   system  elapsed \n",
              "7036.609  222.603 7287.857 "
            ]
          },
          "metadata": {}
        }
      ]
    },
    {
      "cell_type": "code",
      "metadata": {
        "id": "gku3R2JuflKe"
      },
      "source": [
        "m2_Wow_zinbi_main_std_comp_fit <- m2_Wow_zinbi_main_std_comp$fitted\n",
        "saveRDS(m2_Wow_zinbi_main_std_comp_fit, \"m2_Wow_zinbi_main_std_comp_fit.rds\")"
      ],
      "execution_count": null,
      "outputs": []
    },
    {
      "cell_type": "code",
      "metadata": {
        "id": "qCK29HO1qZ5I",
        "colab": {
          "base_uri": "https://localhost:8080/",
          "height": 544
        },
        "outputId": "84a89838-4045-4aba-d44a-692077bce542"
      },
      "source": [
        "summary(m2_Wow_zinbi_main_std_comp)\n"
      ],
      "execution_count": null,
      "outputs": [
        {
          "output_type": "display_data",
          "data": {
            "text/plain": [
              "Linear mixed-effects model fit by maximum likelihood\n",
              "  Data: final_pages_react_nona_st \n",
              "  AIC BIC logLik\n",
              "   NA  NA     NA\n",
              "\n",
              "Random effects:\n",
              " Formula: ~1 | Page.Name.fac\n",
              "        (Intercept) Residual\n",
              "StdDev:    1.263022 1.830099\n",
              "\n",
              "Variance function:\n",
              " Structure: fixed weights\n",
              " Formula: ~invwt \n",
              "Fixed effects:  Wow ~ sentistr_std + insult_std + republican \n",
              "                  Value  Std.Error       DF    t-value p-value\n",
              "(Intercept)   1.0870261 0.04845729 10990044   22.43266   0e+00\n",
              "sentistr_std -0.1429293 0.00108840 10990044 -131.32109   0e+00\n",
              "insult_std    0.0787926 0.00110620 10990044   71.22793   0e+00\n",
              "republican   -0.2260798 0.06580537     1489   -3.43558   6e-04\n",
              " Correlation: \n",
              "             (Intr) sntst_ inslt_\n",
              "sentistr_std  0.001              \n",
              "insult_std    0.000  0.266       \n",
              "republican   -0.736 -0.002  0.000\n",
              "\n",
              "Standardized Within-Group Residuals:\n",
              "         Min           Q1          Med           Q3          Max \n",
              " -0.31682035  -0.28737006  -0.24270823  -0.05214171 456.70589018 \n",
              "\n",
              "Number of Observations: 10991537\n",
              "Number of Groups: 1491 "
            ]
          },
          "metadata": {}
        }
      ]
    },
    {
      "cell_type": "code",
      "metadata": {
        "id": "WCZXNkcUqZ1T",
        "colab": {
          "base_uri": "https://localhost:8080/",
          "height": 374
        },
        "outputId": "c3d49853-7c93-4e16-d8a3-3e7b3d145c18"
      },
      "source": [
        "summary(m2_Wow_zinbi_main_std_comp$fit.zero)\n"
      ],
      "execution_count": null,
      "outputs": [
        {
          "output_type": "display_data",
          "data": {
            "text/plain": [
              "\n",
              "Call:\n",
              "glm(formula = fm, family = binomial, data = data)\n",
              "\n",
              "Deviance Residuals: \n",
              "     Min        1Q    Median        3Q       Max  \n",
              "-0.13321  -0.13321  -0.13321   0.07857   0.70401  \n",
              "\n",
              "Coefficients:\n",
              "             Estimate Std. Error z value Pr(>|z|)    \n",
              "(Intercept) -4.720304   0.003223   -1464   <2e-16 ***\n",
              "---\n",
              "Signif. codes:  0 ‘***’ 0.001 ‘**’ 0.01 ‘*’ 0.05 ‘.’ 0.1 ‘ ’ 1\n",
              "\n",
              "(Dispersion parameter for binomial family taken to be 1)\n",
              "\n",
              "    Null deviance: 165202  on 10991536  degrees of freedom\n",
              "Residual deviance: 165202  on 10991536  degrees of freedom\n",
              "AIC: 195058\n",
              "\n",
              "Number of Fisher Scoring iterations: 7\n"
            ]
          },
          "metadata": {}
        }
      ]
    },
    {
      "cell_type": "code",
      "metadata": {
        "id": "jzJRDd91fJjQ"
      },
      "source": [
        ""
      ],
      "execution_count": null,
      "outputs": []
    },
    {
      "cell_type": "code",
      "metadata": {
        "id": "MNwOJ798qNai"
      },
      "source": [
        "saveRDS(m2_Wow_zinbi_main_std_comp, \"m2_Wow_zinbi_main_std_comp.rds\")\n"
      ],
      "execution_count": null,
      "outputs": []
    },
    {
      "cell_type": "code",
      "metadata": {
        "id": "dAXnaZesqho-",
        "colab": {
          "base_uri": "https://localhost:8080/",
          "height": 106
        },
        "outputId": "f85e12cb-6b8e-4f11-f640-4b0c7e4660de"
      },
      "source": [
        "\n",
        "### interaction\n",
        "system.time(m2_Wow_zinbi_int_std <- glmm.zinb(Wow ~ sentistr_std*republican + insult_std*republican, random = ~1|Page.Name.fac , zi_fixed =  ~1, data=final_pages_react_nona_st))\n"
      ],
      "execution_count": null,
      "outputs": [
        {
          "output_type": "stream",
          "name": "stdout",
          "text": [
            "Computational iterations: 26 \n",
            "Computational time: 165.206 minutes \n"
          ]
        },
        {
          "output_type": "display_data",
          "data": {
            "text/plain": [
              "    user   system  elapsed \n",
              "8446.820 1457.803 9912.346 "
            ]
          },
          "metadata": {}
        }
      ]
    },
    {
      "cell_type": "code",
      "metadata": {
        "id": "eVvgk_1aN2Jx"
      },
      "source": [
        "m2_Wow_zinbi_int_std_fit <- m2_Wow_zinbi_int_std$fitted\n"
      ],
      "execution_count": null,
      "outputs": []
    },
    {
      "cell_type": "code",
      "metadata": {
        "id": "jaiQXZ1IN3Ow"
      },
      "source": [
        "saveRDS(m2_Wow_zinbi_int_std_fit, \"m2_Wow_zinbi_int_std_fit.rds\")"
      ],
      "execution_count": null,
      "outputs": []
    },
    {
      "cell_type": "code",
      "metadata": {
        "id": "lIhc8nyCqhmN",
        "colab": {
          "base_uri": "https://localhost:8080/",
          "height": 612
        },
        "outputId": "d7a3668a-3b7f-49d8-86ca-f78ab379c1eb"
      },
      "source": [
        "summary(m2_Wow_zinbi_int_std)\n"
      ],
      "execution_count": null,
      "outputs": [
        {
          "output_type": "display_data",
          "data": {
            "text/plain": [
              "Linear mixed-effects model fit by maximum likelihood\n",
              "  Data: final_pages_react_nona_st \n",
              "  AIC BIC logLik\n",
              "   NA  NA     NA\n",
              "\n",
              "Random effects:\n",
              " Formula: ~1 | Page.Name.fac\n",
              "        (Intercept) Residual\n",
              "StdDev:     1.26346 1.830264\n",
              "\n",
              "Variance function:\n",
              " Structure: fixed weights\n",
              " Formula: ~invwt \n",
              "Fixed effects:  Wow ~ sentistr_std * republican + insult_std * republican \n",
              "                             Value  Std.Error       DF   t-value p-value\n",
              "(Intercept)              1.0871573 0.04847403 10990042  22.42762   0e+00\n",
              "sentistr_std            -0.1138831 0.00168311 10990042 -67.66234   0e+00\n",
              "republican              -0.2261186 0.06582816     1489  -3.43498   6e-04\n",
              "insult_std               0.0831982 0.00160831 10990042  51.73024   0e+00\n",
              "sentistr_std:republican -0.0503493 0.00220740 10990042 -22.80931   0e+00\n",
              "republican:insult_std   -0.0075047 0.00221649 10990042  -3.38585   7e-04\n",
              " Correlation: \n",
              "                        (Intr) sntst_ rpblcn inslt_ snts_:\n",
              "sentistr_std             0.001                            \n",
              "republican              -0.736 -0.001                     \n",
              "insult_std               0.000  0.265  0.000              \n",
              "sentistr_std:republican -0.001 -0.762 -0.001 -0.202       \n",
              "republican:insult_std    0.000 -0.192  0.000 -0.726  0.266\n",
              "\n",
              "Standardized Within-Group Residuals:\n",
              "        Min          Q1         Med          Q3         Max \n",
              " -0.3165484  -0.2874539  -0.2426514  -0.0518580 458.2537973 \n",
              "\n",
              "Number of Observations: 10991537\n",
              "Number of Groups: 1491 "
            ]
          },
          "metadata": {}
        }
      ]
    },
    {
      "cell_type": "code",
      "metadata": {
        "id": "J0seb3miqhik",
        "colab": {
          "base_uri": "https://localhost:8080/",
          "height": 374
        },
        "outputId": "38b98a5c-833f-44d2-ab8e-7b939cab6fcc"
      },
      "source": [
        "summary(m2_Wow_zinbi_int_std$fit.zero)\n"
      ],
      "execution_count": null,
      "outputs": [
        {
          "output_type": "display_data",
          "data": {
            "text/plain": [
              "\n",
              "Call:\n",
              "glm(formula = fm, family = binomial, data = data)\n",
              "\n",
              "Deviance Residuals: \n",
              "     Min        1Q    Median        3Q       Max  \n",
              "-0.12604  -0.12604  -0.12604   0.07424   0.61715  \n",
              "\n",
              "Coefficients:\n",
              "             Estimate Std. Error z value Pr(>|z|)    \n",
              "(Intercept) -4.831556   0.003405   -1419   <2e-16 ***\n",
              "---\n",
              "Signif. codes:  0 ‘***’ 0.001 ‘**’ 0.01 ‘*’ 0.05 ‘.’ 0.1 ‘ ’ 1\n",
              "\n",
              "(Dispersion parameter for binomial family taken to be 1)\n",
              "\n",
              "    Null deviance: 147864  on 10991536  degrees of freedom\n",
              "Residual deviance: 147864  on 10991536  degrees of freedom\n",
              "AIC: 174602\n",
              "\n",
              "Number of Fisher Scoring iterations: 7\n"
            ]
          },
          "metadata": {}
        }
      ]
    },
    {
      "cell_type": "code",
      "metadata": {
        "id": "1Q2cwLmxqhgF"
      },
      "source": [
        "saveRDS(m2_Wow_zinbi_int_std, \"m2_Wow_zinbi_int_std.rds\")\n"
      ],
      "execution_count": null,
      "outputs": []
    },
    {
      "cell_type": "code",
      "metadata": {
        "id": "x_5xTW6qdtnI"
      },
      "source": [
        ""
      ],
      "execution_count": null,
      "outputs": []
    },
    {
      "cell_type": "markdown",
      "metadata": {
        "id": "kpmVxTcG6hb5"
      },
      "source": [
        "# TMB"
      ]
    },
    {
      "cell_type": "markdown",
      "metadata": {
        "id": "8qoxljWK8XKR"
      },
      "source": [
        "## likes"
      ]
    },
    {
      "cell_type": "code",
      "metadata": {
        "id": "Lhdt5P4E6kBn"
      },
      "source": [
        "# interaction\n",
        "system.time(m1_senti_likes_tmb_int_01 <- glmmTMB(Likes ~ sentistr*republican + insult*republican + (1|Page.Name.fac) , family = 'nbinom2', ziformula = ~1, data=final_pages_all_nona_st))\n"
      ],
      "execution_count": null,
      "outputs": []
    },
    {
      "cell_type": "code",
      "metadata": {
        "id": "DV4_vnxE8kn8"
      },
      "source": [
        "summary(m1_senti_likes_tmb_int_01)\n"
      ],
      "execution_count": null,
      "outputs": []
    },
    {
      "cell_type": "code",
      "metadata": {
        "id": "aEbwsKrR8kva"
      },
      "source": [
        "saveRDS(m1_senti_likes_tmb_int_01, \"m1_senti_likes_tmb_int_01.rds\")\n"
      ],
      "execution_count": null,
      "outputs": []
    },
    {
      "cell_type": "code",
      "metadata": {
        "id": "zbKMJjrG8piX"
      },
      "source": [
        "# sep -- senti\n",
        "system.time(m1_likes_tmb_01_sent_only <- glmmTMB(Likes ~ sentistr+republican + (1|Page.Name.fac) , family = 'nbinom2', ziformula = ~1, data=final_pages_all_nona_st))\n"
      ],
      "execution_count": null,
      "outputs": []
    },
    {
      "cell_type": "code",
      "metadata": {
        "id": "wPdlIGkl8pUn"
      },
      "source": [
        "saveRDS(m1_likes_tmb_01_sent_only, \"m1_likes_tmb_01_sent_only.rds\")\n"
      ],
      "execution_count": null,
      "outputs": []
    },
    {
      "cell_type": "code",
      "metadata": {
        "id": "SZOd9zGS8pc9"
      },
      "source": [
        "summary(m1_likes_tmb_01_sent_only)\n"
      ],
      "execution_count": null,
      "outputs": []
    },
    {
      "cell_type": "code",
      "metadata": {
        "id": "FLjpNtr18ton"
      },
      "source": [
        "# sep - inciv\n",
        "system.time(m1_likes_tmb_01_inciv_only <- glmmTMB(Likes ~ insult + republican + (1|Page.Name.fac) , family = 'nbinom2', ziformula = ~1, data=final_pages_all_nona_st))\n"
      ],
      "execution_count": null,
      "outputs": []
    },
    {
      "cell_type": "code",
      "metadata": {
        "id": "L3cfKm228tdV"
      },
      "source": [
        "saveRDS(m1_likes_tmb_01_inciv_only, \"m1_likes_tmb_01_inciv_only.rds\")\n"
      ],
      "execution_count": null,
      "outputs": []
    },
    {
      "cell_type": "code",
      "metadata": {
        "id": "qmBLDdCO8tjy"
      },
      "source": [
        "summary(m1_likes_tmb_01_inciv_only)\n"
      ],
      "execution_count": null,
      "outputs": []
    },
    {
      "cell_type": "markdown",
      "metadata": {
        "id": "bnC62axX8cJ6"
      },
      "source": [
        "## comments"
      ]
    },
    {
      "cell_type": "code",
      "metadata": {
        "id": "9pa_-qWT8daR"
      },
      "source": [
        "# interaction\n",
        "system.time(m1_senti_Comments_tmb_int_01 <- glmmTMB(Comments ~ sentistr*republican + insult*republican + (1|Page.Name.fac) , family = 'nbinom2', ziformula = ~1, data=final_pages_all_nona_st))"
      ],
      "execution_count": null,
      "outputs": []
    },
    {
      "cell_type": "code",
      "metadata": {
        "id": "O6Yjes4v854K"
      },
      "source": [
        "summary(m1_senti_Comments_tmb_int_01)\n"
      ],
      "execution_count": null,
      "outputs": []
    },
    {
      "cell_type": "code",
      "metadata": {
        "id": "67MdFtXd86J4"
      },
      "source": [
        "saveRDS(m1_senti_Comments_tmb_int_01, \"m1_senti_Comments_tmb_int_01.rds\")\n"
      ],
      "execution_count": null,
      "outputs": []
    },
    {
      "cell_type": "code",
      "metadata": {
        "id": "oCHIYLph850P"
      },
      "source": [
        "\n",
        "# sep -- senti\n",
        "system.time(m1_Comments_tmb_01_sent_only <- glmmTMB(Comments ~ sentistr + republican + (1|Page.Name.fac) , family = 'nbinom2', ziformula = ~1, data=final_pages_all_nona_st))"
      ],
      "execution_count": null,
      "outputs": []
    },
    {
      "cell_type": "code",
      "metadata": {
        "id": "h6xNOifY85xO"
      },
      "source": [
        "summary(m1_Comments_tmb_01_sent_only)\n"
      ],
      "execution_count": null,
      "outputs": []
    },
    {
      "cell_type": "code",
      "metadata": {
        "id": "6iRHbIrL85uB"
      },
      "source": [
        "saveRDS(m1_Comments_tmb_01_sent_only, \"m1_Comments_tmb_01_sent_only.rds\")\n"
      ],
      "execution_count": null,
      "outputs": []
    },
    {
      "cell_type": "code",
      "metadata": {
        "id": "VMSOJ92Q85qv"
      },
      "source": [
        "\n",
        "# sep -- inciv\n",
        "system.time(m1_Comments_tmb_01_inciv_only <- glmmTMB(Comments ~ insult + republican + (1|Page.Name.fac) , family = 'nbinom2', ziformula = ~1, data=final_pages_all_nona_st))"
      ],
      "execution_count": null,
      "outputs": []
    },
    {
      "cell_type": "code",
      "metadata": {
        "id": "0V19kgw685m9"
      },
      "source": [
        "summary(m1_Comments_tmb_01_inciv_only)\n"
      ],
      "execution_count": null,
      "outputs": []
    },
    {
      "cell_type": "code",
      "metadata": {
        "id": "DJolv0-W9JJ0"
      },
      "source": [
        "saveRDS(m1_Comments_tmb_01_inciv_only, \"m1_Comments_tmb_01_inciv_only.rds\")\n"
      ],
      "execution_count": null,
      "outputs": []
    },
    {
      "cell_type": "markdown",
      "metadata": {
        "id": "6TmYsa9W8doj"
      },
      "source": [
        "## wow"
      ]
    },
    {
      "cell_type": "code",
      "metadata": {
        "id": "rrxvAQs28gBG"
      },
      "source": [
        "# interaction\n",
        "system.time(m1_senti_Wow_tmb_int_01 <- glmmTMB(Wow ~ sentistr*republican + insult*republican + (1|Page.Name.fac) , family = 'nbinom2', ziformula = ~1, data=final_pages_react_nona_st))\n"
      ],
      "execution_count": null,
      "outputs": []
    },
    {
      "cell_type": "code",
      "metadata": {
        "id": "bYvU6DBD9Sh9"
      },
      "source": [
        "saveRDS(m1_senti_Wow_tmb_int_01, \"m1_senti_Wow_tmb_int_01.rds\")\n"
      ],
      "execution_count": null,
      "outputs": []
    },
    {
      "cell_type": "code",
      "metadata": {
        "id": "eM7afabr9SfI"
      },
      "source": [
        "summary(m1_senti_Wow_tmb_int_01)\n"
      ],
      "execution_count": null,
      "outputs": []
    },
    {
      "cell_type": "code",
      "metadata": {
        "id": "KVThqM1E9Sbf"
      },
      "source": [
        "\n",
        "# sep -- senti\n",
        "system.time(m1_Wow_tmb_01_sent_only <- glmmTMB(Wow ~ sentistr+republican + (1|Page.Name.fac) , family = 'nbinom2', ziformula = ~1, data=final_pages_react_nona_st))"
      ],
      "execution_count": null,
      "outputs": []
    },
    {
      "cell_type": "code",
      "metadata": {
        "id": "MYI10cGb9SYx"
      },
      "source": [
        "summary(m1_Wow_tmb_01_sent_only)\n"
      ],
      "execution_count": null,
      "outputs": []
    },
    {
      "cell_type": "code",
      "metadata": {
        "id": "3GYg9ZXH9SVr"
      },
      "source": [
        "saveRDS(m1_Wow_tmb_01_sent_only, \"m1_Wow_tmb_01_sent_only.rds\")\n"
      ],
      "execution_count": null,
      "outputs": []
    },
    {
      "cell_type": "code",
      "metadata": {
        "id": "2_UCWDAw9SSP"
      },
      "source": [
        "\n",
        "# sep -- inciv\n",
        "system.time(m1_Wow_tmb_01_inciv_only <- glmmTMB(Wow ~ insult + republican + (1|Page.Name.fac) , family = 'nbinom2', ziformula = ~1, data=final_pages_react_nona_st))"
      ],
      "execution_count": null,
      "outputs": []
    },
    {
      "cell_type": "code",
      "metadata": {
        "id": "4FOiML1d9SO3"
      },
      "source": [
        "summary(m1_Wow_tmb_01_inciv_only)\n"
      ],
      "execution_count": null,
      "outputs": []
    },
    {
      "cell_type": "code",
      "metadata": {
        "id": "ySoRtgKR9XGR"
      },
      "source": [
        "saveRDS(m1_Wow_tmb_01_inciv_only, \"m1_Wow_tmb_01_inciv_only.rds\")\n"
      ],
      "execution_count": null,
      "outputs": []
    },
    {
      "cell_type": "markdown",
      "metadata": {
        "id": "CMZXVm6FaPfz"
      },
      "source": [
        "# GLMMAdaptive"
      ]
    },
    {
      "cell_type": "code",
      "metadata": {
        "id": "ee2eB9fHaVJO",
        "colab": {
          "base_uri": "https://localhost:8080/"
        },
        "outputId": "382d0276-bc13-447d-f555-3ee0ae9fd8f9"
      },
      "source": [
        "install.packages(\"GLMMadaptive\")\n",
        "library(GLMMadaptive)"
      ],
      "execution_count": null,
      "outputs": [
        {
          "output_type": "stream",
          "name": "stderr",
          "text": [
            "Installing package into ‘/usr/local/lib/R/site-library’\n",
            "(as ‘lib’ is unspecified)\n",
            "\n",
            "also installing the dependency ‘matrixStats’\n",
            "\n",
            "\n",
            "\n",
            "Attaching package: ‘GLMMadaptive’\n",
            "\n",
            "\n",
            "The following object is masked from ‘package:MASS’:\n",
            "\n",
            "    negative.binomial\n",
            "\n",
            "\n"
          ]
        }
      ]
    },
    {
      "cell_type": "markdown",
      "metadata": {
        "id": "flOgKM5u98gY"
      },
      "source": [
        "### love (done)"
      ]
    },
    {
      "cell_type": "code",
      "metadata": {
        "id": "KunxY7IPaVFE",
        "colab": {
          "base_uri": "https://localhost:8080/",
          "height": 51
        },
        "outputId": "94252789-052d-409c-aaae-0f4b75177c85"
      },
      "source": [
        "system.time( m2_Love_senti_main <- mixed_model(fixed = Love ~ sentistr + republican , random = ~ 1|Page.Name.fac, zi_fixed =  ~ 1,  family = zi.negative.binomial(), data=final_pages_react_nona_st , max_coef_value = 100 ))\n"
      ],
      "execution_count": null,
      "outputs": [
        {
          "output_type": "display_data",
          "data": {
            "text/plain": [
              "    user   system  elapsed \n",
              "5316.485  194.951 5513.960 "
            ]
          },
          "metadata": {}
        }
      ]
    },
    {
      "cell_type": "code",
      "metadata": {
        "id": "e9lMRwNOaU-B"
      },
      "source": [
        "saveRDS(m2_Love_senti_main, \"m2_Love_senti_main.rds\")\n"
      ],
      "execution_count": null,
      "outputs": []
    },
    {
      "cell_type": "code",
      "metadata": {
        "id": "ZEAnChZkaU3e"
      },
      "source": [
        "system.time( m2_Love_inciv_main <- mixed_model(fixed = Love ~ insult + republican , random = ~ 1|Page.Name.fac, zi_fixed =  ~ 1,  family = zi.negative.binomial(), data=final_pages_react_nona_st , max_coef_value = 100 ))\n"
      ],
      "execution_count": null,
      "outputs": []
    },
    {
      "cell_type": "code",
      "metadata": {
        "id": "d3gQwmOraUxX"
      },
      "source": [
        "saveRDS(m2_Love_inciv_main, \"m2_Love_inciv_main.rds\")\n"
      ],
      "execution_count": null,
      "outputs": []
    },
    {
      "cell_type": "code",
      "metadata": {
        "id": "hXSjny7vaUoh",
        "colab": {
          "base_uri": "https://localhost:8080/",
          "height": 748
        },
        "outputId": "2e290b6a-26cf-42ed-ca8a-cfd51955fee3"
      },
      "source": [
        "summary(m2_Love_inciv_main)"
      ],
      "execution_count": null,
      "outputs": [
        {
          "output_type": "display_data",
          "data": {
            "text/plain": [
              "\n",
              "Call:\n",
              "mixed_model(fixed = Love ~ insult + republican, random = ~1 | \n",
              "    Page.Name.fac, data = final_pages_react_nona_st, family = zi.negative.binomial(), \n",
              "    zi_fixed = ~1, max_coef_value = 100)\n",
              "\n",
              "Data Descriptives:\n",
              "Number of Observations: 10991537\n",
              "Number of Groups: 1491 \n",
              "\n",
              "Model:\n",
              " family: zero-inflated negative binomial\n",
              " link: log \n",
              "\n",
              "Fit statistics:\n",
              "   log.Lik      AIC      BIC\n",
              " -28151043 56302097 56302129\n",
              "\n",
              "Random effects covariance matrix:\n",
              "              StdDev\n",
              "(Intercept) 1.754048\n",
              "\n",
              "Fixed effects:\n",
              "            Estimate Std.Err  z-value  p-value\n",
              "(Intercept)   3.8270  0.1255  30.4970 < 0.0001\n",
              "insult       -0.2531  0.0033 -75.9385 < 0.0001\n",
              "republican   -0.8460  0.1001  -8.4515 < 0.0001\n",
              "\n",
              "Zero-part coefficients:\n",
              "            Estimate Std.Err z-value    p-value\n",
              "(Intercept) -16.8889  4.6859 -3.6042 0.00031308\n",
              "\n",
              "log(dispersion) parameter:\n",
              "  Estimate Std.Err\n",
              "   -1.5715  0.0005\n",
              "\n",
              "Integration:\n",
              "method: adaptive Gauss-Hermite quadrature rule\n",
              "quadrature points: 11\n",
              "\n",
              "Optimization:\n",
              "method: EM\n",
              "converged: TRUE "
            ]
          },
          "metadata": {}
        }
      ]
    },
    {
      "cell_type": "markdown",
      "metadata": {
        "id": "ZSF0TKX9-ATA"
      },
      "source": [
        "### likes"
      ]
    },
    {
      "cell_type": "code",
      "metadata": {
        "colab": {
          "base_uri": "https://localhost:8080/",
          "height": 102
        },
        "id": "yP8PNLjI9-6G",
        "outputId": "0ca04e48-ccd5-4d92-e325-14ba9a4472fb"
      },
      "source": [
        "system.time( m2_Likes_senti_main <- mixed_model(fixed = Likes ~ sentistr + republican , random = ~ 1|Page.Name.fac, zi_fixed =  ~ 1,  family = zi.negative.binomial(), data=final_pages_all_nona_st , max_coef_value = 100 ))\n"
      ],
      "execution_count": null,
      "outputs": [
        {
          "output_type": "stream",
          "name": "stderr",
          "text": [
            "Warning message in mixed_model(fixed = Likes ~ sentistr + republican, random = ~1 | :\n",
            "“Hessian matrix at convergence is not positive definite; unstable solution.\n",
            "”\n"
          ]
        },
        {
          "output_type": "display_data",
          "data": {
            "text/plain": [
              "    user   system  elapsed \n",
              "3648.910  154.922 3805.482 "
            ]
          },
          "metadata": {}
        }
      ]
    },
    {
      "cell_type": "code",
      "metadata": {
        "colab": {
          "base_uri": "https://localhost:8080/",
          "height": 782
        },
        "id": "HUa2LIYH-Cwc",
        "outputId": "47060337-21d4-4635-e465-eab646fc64e9"
      },
      "source": [
        "summary(m2_Likes_senti_main)\n"
      ],
      "execution_count": null,
      "outputs": [
        {
          "output_type": "stream",
          "name": "stderr",
          "text": [
            "Warning message in sqrt(diag(var_betas)):\n",
            "“NaNs produced”\n"
          ]
        },
        {
          "output_type": "display_data",
          "data": {
            "text/plain": [
              "\n",
              "Call:\n",
              "mixed_model(fixed = Likes ~ sentistr + republican, random = ~1 | \n",
              "    Page.Name.fac, data = final_pages_all_nona_st, family = zi.negative.binomial(), \n",
              "    zi_fixed = ~1, max_coef_value = 100)\n",
              "\n",
              "Data Descriptives:\n",
              "Number of Observations: 13955869\n",
              "Number of Groups: 1493 \n",
              "\n",
              "Model:\n",
              " family: zero-inflated negative binomial\n",
              " link: log \n",
              "\n",
              "Fit statistics:\n",
              "   log.Lik       AIC       BIC\n",
              " -61868408 123736829 123736860\n",
              "\n",
              "Random effects covariance matrix:\n",
              "              StdDev\n",
              "(Intercept) 2.058101\n",
              "\n",
              "Fixed effects:\n",
              "            Estimate Std.Err  z-value p-value\n",
              "(Intercept)   6.0160     NaN      NaN      NA\n",
              "sentistr      0.0708  0.0003 214.9143 <0.0001\n",
              "republican    0.1583  0.1085   1.4592  0.1445\n",
              "\n",
              "Zero-part coefficients:\n",
              "            Estimate Std.Err z-value  p-value\n",
              "(Intercept) -17.1285   2.364 -7.2456 < 0.0001\n",
              "\n",
              "log(dispersion) parameter:\n",
              "  Estimate Std.Err\n",
              "   -0.7892  0.0004\n",
              "\n",
              "Integration:\n",
              "method: adaptive Gauss-Hermite quadrature rule\n",
              "quadrature points: 11\n",
              "\n",
              "Optimization:\n",
              "method: EM\n",
              "converged: TRUE "
            ]
          },
          "metadata": {}
        }
      ]
    },
    {
      "cell_type": "code",
      "metadata": {
        "id": "k9ZR5Uf_-Csh"
      },
      "source": [
        "saveRDS(m2_Likes_senti_main, \"m2_Likes_senti_main.rds\")\n"
      ],
      "execution_count": null,
      "outputs": []
    },
    {
      "cell_type": "code",
      "metadata": {
        "colab": {
          "base_uri": "https://localhost:8080/",
          "height": 102
        },
        "id": "T6EfutEa-e3r",
        "outputId": "ca66e3aa-ef25-48e1-e4e8-7603608b7715"
      },
      "source": [
        "system.time( m2_Likes_inciv_main <- mixed_model(fixed = Likes ~ insult + republican , random = ~ 1|Page.Name.fac, zi_fixed =  ~ 1,  family = zi.negative.binomial(), data=final_pages_all_nona_st , max_coef_value = 100 ))\n"
      ],
      "execution_count": null,
      "outputs": [
        {
          "output_type": "stream",
          "name": "stderr",
          "text": [
            "Warning message in mixed_model(fixed = Likes ~ insult + republican, random = ~1 | :\n",
            "“Hessian matrix at convergence is not positive definite; unstable solution.\n",
            "”\n"
          ]
        },
        {
          "output_type": "display_data",
          "data": {
            "text/plain": [
              "    user   system  elapsed \n",
              "3590.172  204.099 3795.296 "
            ]
          },
          "metadata": {}
        }
      ]
    },
    {
      "cell_type": "code",
      "metadata": {
        "id": "IUHHSQ3W-e0f"
      },
      "source": [
        "saveRDS(m2_Likes_inciv_main, \"m2_Likes_inciv_main.rds\")\n"
      ],
      "execution_count": null,
      "outputs": []
    },
    {
      "cell_type": "code",
      "metadata": {
        "colab": {
          "base_uri": "https://localhost:8080/",
          "height": 782
        },
        "id": "OEgCr4sD-CoA",
        "outputId": "9bf70cc5-4536-460a-e5db-dd5b688d59af"
      },
      "source": [
        "summary(m2_Likes_inciv_main)"
      ],
      "execution_count": null,
      "outputs": [
        {
          "output_type": "stream",
          "name": "stderr",
          "text": [
            "Warning message in sqrt(diag(var_betas)):\n",
            "“NaNs produced”\n"
          ]
        },
        {
          "output_type": "display_data",
          "data": {
            "text/plain": [
              "\n",
              "Call:\n",
              "mixed_model(fixed = Likes ~ insult + republican, random = ~1 | \n",
              "    Page.Name.fac, data = final_pages_all_nona_st, family = zi.negative.binomial(), \n",
              "    zi_fixed = ~1, max_coef_value = 100)\n",
              "\n",
              "Data Descriptives:\n",
              "Number of Observations: 13955869\n",
              "Number of Groups: 1493 \n",
              "\n",
              "Model:\n",
              " family: zero-inflated negative binomial\n",
              " link: log \n",
              "\n",
              "Fit statistics:\n",
              "   log.Lik       AIC       BIC\n",
              " -55821953 111643917 111643949\n",
              "\n",
              "Random effects covariance matrix:\n",
              "              StdDev\n",
              "(Intercept) 2.077352\n",
              "\n",
              "Fixed effects:\n",
              "            Estimate Std.Err  z-value  p-value\n",
              "(Intercept)   5.9347     NaN      NaN       NA\n",
              "insult        0.2705  0.0022 123.3970 < 0.0001\n",
              "republican    0.1615  0.1102   1.4657  0.14273\n",
              "\n",
              "Zero-part coefficients:\n",
              "            Estimate Std.Err z-value  p-value\n",
              "(Intercept) -17.1426   2.531  -6.773 < 0.0001\n",
              "\n",
              "log(dispersion) parameter:\n",
              "  Estimate Std.Err\n",
              "   -0.7826  0.0004\n",
              "\n",
              "Integration:\n",
              "method: adaptive Gauss-Hermite quadrature rule\n",
              "quadrature points: 11\n",
              "\n",
              "Optimization:\n",
              "method: EM\n",
              "converged: TRUE "
            ]
          },
          "metadata": {}
        }
      ]
    },
    {
      "cell_type": "markdown",
      "metadata": {
        "id": "unmr5MNn-ZyZ"
      },
      "source": [
        "### comments"
      ]
    },
    {
      "cell_type": "code",
      "metadata": {
        "colab": {
          "base_uri": "https://localhost:8080/",
          "height": 102
        },
        "id": "TfWc9d_7-cvo",
        "outputId": "1fb0ee5f-3c05-4778-ea6a-d3333f0ae133"
      },
      "source": [
        "system.time( m2_Comments_senti_main <- mixed_model(fixed = Comments ~ sentistr + republican , random = ~ 1|Page.Name.fac, zi_fixed =  ~ 1,  family = zi.negative.binomial(), data=final_pages_all_nona_st , max_coef_value = 100 ))\n"
      ],
      "execution_count": null,
      "outputs": [
        {
          "output_type": "stream",
          "name": "stderr",
          "text": [
            "Warning message in mixed_model(fixed = Comments ~ sentistr + republican, random = ~1 | :\n",
            "“Hessian matrix at convergence is not positive definite; unstable solution.\n",
            "”\n"
          ]
        },
        {
          "output_type": "display_data",
          "data": {
            "text/plain": [
              "    user   system  elapsed \n",
              "5051.231  283.709 5336.166 "
            ]
          },
          "metadata": {}
        }
      ]
    },
    {
      "cell_type": "code",
      "metadata": {
        "colab": {
          "base_uri": "https://localhost:8080/",
          "height": 782
        },
        "id": "AqdYwBe5-ceZ",
        "outputId": "13fff5ba-5c6c-475d-fc82-22856d4a18ea"
      },
      "source": [
        "summary(m2_Comments_senti_main)\n"
      ],
      "execution_count": null,
      "outputs": [
        {
          "output_type": "stream",
          "name": "stderr",
          "text": [
            "Warning message in sqrt(diag(var_betas)):\n",
            "“NaNs produced”\n"
          ]
        },
        {
          "output_type": "display_data",
          "data": {
            "text/plain": [
              "\n",
              "Call:\n",
              "mixed_model(fixed = Comments ~ sentistr + republican, random = ~1 | \n",
              "    Page.Name.fac, data = final_pages_all_nona_st, family = zi.negative.binomial(), \n",
              "    zi_fixed = ~1, max_coef_value = 100)\n",
              "\n",
              "Data Descriptives:\n",
              "Number of Observations: 13955869\n",
              "Number of Groups: 1493 \n",
              "\n",
              "Model:\n",
              " family: zero-inflated negative binomial\n",
              " link: log \n",
              "\n",
              "Fit statistics:\n",
              "   log.Lik      AIC      BIC\n",
              " -44551973 89103957 89103989\n",
              "\n",
              "Random effects covariance matrix:\n",
              "              StdDev\n",
              "(Intercept) 2.027849\n",
              "\n",
              "Fixed effects:\n",
              "            Estimate Std.Err   z-value  p-value\n",
              "(Intercept)   4.3945     NaN       NaN       NA\n",
              "sentistr     -0.0659  0.0004 -175.3627 < 0.0001\n",
              "republican   -0.0531  0.1065   -0.4984  0.61818\n",
              "\n",
              "Zero-part coefficients:\n",
              "            Estimate Std.Err z-value  p-value\n",
              "(Intercept) -16.5637  2.8177 -5.8784 < 0.0001\n",
              "\n",
              "log(dispersion) parameter:\n",
              "  Estimate Std.Err\n",
              "   -1.0125  0.0004\n",
              "\n",
              "Integration:\n",
              "method: adaptive Gauss-Hermite quadrature rule\n",
              "quadrature points: 11\n",
              "\n",
              "Optimization:\n",
              "method: EM\n",
              "converged: TRUE "
            ]
          },
          "metadata": {}
        }
      ]
    },
    {
      "cell_type": "code",
      "metadata": {
        "id": "EMWNJmDm-ca3"
      },
      "source": [
        "saveRDS(m2_Comments_senti_main, \"m2_Comments_senti_main.rds\")\n"
      ],
      "execution_count": null,
      "outputs": []
    },
    {
      "cell_type": "code",
      "metadata": {
        "colab": {
          "base_uri": "https://localhost:8080/",
          "height": 102
        },
        "id": "pQzEBbXs-eSN",
        "outputId": "c5b58a35-262b-4518-ce61-aef8e98a45b2"
      },
      "source": [
        "system.time( m2_Comments_inciv_main <- mixed_model(fixed = Comments ~ insult + republican , random = ~ 1|Page.Name.fac, zi_fixed =  ~ 1,  family = zi.negative.binomial(), data=final_pages_all_nona_st , max_coef_value = 100 ))\n"
      ],
      "execution_count": null,
      "outputs": [
        {
          "output_type": "stream",
          "name": "stderr",
          "text": [
            "Warning message in mixed_model(fixed = Comments ~ insult + republican, random = ~1 | :\n",
            "“Hessian matrix at convergence is not positive definite; unstable solution.\n",
            "”\n"
          ]
        },
        {
          "output_type": "display_data",
          "data": {
            "text/plain": [
              "    user   system  elapsed \n",
              "5109.505  406.837 5518.183 "
            ]
          },
          "metadata": {}
        }
      ]
    },
    {
      "cell_type": "code",
      "metadata": {
        "id": "HwTaLDns-eO-"
      },
      "source": [
        "saveRDS(m2_Comments_inciv_main, \"m2_Comments_inciv_main.rds\")\n"
      ],
      "execution_count": null,
      "outputs": []
    },
    {
      "cell_type": "code",
      "metadata": {
        "colab": {
          "base_uri": "https://localhost:8080/",
          "height": 782
        },
        "id": "zCKs-Fsr-cXT",
        "outputId": "1c99ba38-e2a6-491a-af0b-b1854feec1dc"
      },
      "source": [
        "summary(m2_Comments_inciv_main)"
      ],
      "execution_count": null,
      "outputs": [
        {
          "output_type": "stream",
          "name": "stderr",
          "text": [
            "Warning message in sqrt(diag(var_betas)):\n",
            "“NaNs produced”\n"
          ]
        },
        {
          "output_type": "display_data",
          "data": {
            "text/plain": [
              "\n",
              "Call:\n",
              "mixed_model(fixed = Comments ~ insult + republican, random = ~1 | \n",
              "    Page.Name.fac, data = final_pages_all_nona_st, family = zi.negative.binomial(), \n",
              "    zi_fixed = ~1, max_coef_value = 100)\n",
              "\n",
              "Data Descriptives:\n",
              "Number of Observations: 13955869\n",
              "Number of Groups: 1493 \n",
              "\n",
              "Model:\n",
              " family: zero-inflated negative binomial\n",
              " link: log \n",
              "\n",
              "Fit statistics:\n",
              "   log.Lik      AIC      BIC\n",
              " -44140861 88281735 88281767\n",
              "\n",
              "Random effects covariance matrix:\n",
              "              StdDev\n",
              "(Intercept) 2.012112\n",
              "\n",
              "Fixed effects:\n",
              "            Estimate Std.Err  z-value  p-value\n",
              "(Intercept)   4.1940     NaN      NaN       NA\n",
              "insult        0.8792  0.0024 365.4844 < 0.0001\n",
              "republican   -0.0566  0.1057  -0.5358  0.59212\n",
              "\n",
              "Zero-part coefficients:\n",
              "            Estimate Std.Err z-value  p-value\n",
              "(Intercept) -16.6135  2.8896 -5.7493 < 0.0001\n",
              "\n",
              "log(dispersion) parameter:\n",
              "  Estimate Std.Err\n",
              "   -1.0049  0.0004\n",
              "\n",
              "Integration:\n",
              "method: adaptive Gauss-Hermite quadrature rule\n",
              "quadrature points: 11\n",
              "\n",
              "Optimization:\n",
              "method: EM\n",
              "converged: TRUE "
            ]
          },
          "metadata": {}
        }
      ]
    },
    {
      "cell_type": "markdown",
      "metadata": {
        "id": "j8LiQPYa-ZlZ"
      },
      "source": [
        "### wow"
      ]
    },
    {
      "cell_type": "code",
      "metadata": {
        "colab": {
          "base_uri": "https://localhost:8080/",
          "height": 102
        },
        "id": "C6hxhwCS-dvs",
        "outputId": "0d330b24-8f84-4e54-89a1-cca313ee8376"
      },
      "source": [
        "system.time( m2_Wow_senti_main <- mixed_model(fixed = Wow ~ sentistr + republican , random = ~ 1|Page.Name.fac, zi_fixed =  ~ 1,  family = zi.negative.binomial(), data=final_pages_react_nona_st , max_coef_value = 100 ))\n"
      ],
      "execution_count": null,
      "outputs": [
        {
          "output_type": "stream",
          "name": "stderr",
          "text": [
            "Warning message in mixed_model(fixed = Wow ~ sentistr + republican, random = ~1 | :\n",
            "“Hessian matrix at convergence is not positive definite; unstable solution.\n",
            "”\n"
          ]
        },
        {
          "output_type": "display_data",
          "data": {
            "text/plain": [
              "    user   system  elapsed \n",
              "5618.990  358.187 5995.389 "
            ]
          },
          "metadata": {}
        }
      ]
    },
    {
      "cell_type": "code",
      "metadata": {
        "colab": {
          "base_uri": "https://localhost:8080/",
          "height": 782
        },
        "id": "sIU43uIF-dsb",
        "outputId": "f8cdbca1-5922-4515-e1be-729453a39aa2"
      },
      "source": [
        "summary(m2_Wow_senti_main)\n"
      ],
      "execution_count": null,
      "outputs": [
        {
          "output_type": "stream",
          "name": "stderr",
          "text": [
            "Warning message in sqrt(diag(var_betas)):\n",
            "“NaNs produced”\n"
          ]
        },
        {
          "output_type": "display_data",
          "data": {
            "text/plain": [
              "\n",
              "Call:\n",
              "mixed_model(fixed = Wow ~ sentistr + republican, random = ~1 | \n",
              "    Page.Name.fac, data = final_pages_react_nona_st, family = zi.negative.binomial(), \n",
              "    zi_fixed = ~1, max_coef_value = 100)\n",
              "\n",
              "Data Descriptives:\n",
              "Number of Observations: 10991537\n",
              "Number of Groups: 1491 \n",
              "\n",
              "Model:\n",
              " family: zero-inflated negative binomial\n",
              " link: log \n",
              "\n",
              "Fit statistics:\n",
              "   log.Lik      AIC      BIC\n",
              " -23472471 46944955 46944986\n",
              "\n",
              "Random effects covariance matrix:\n",
              "              StdDev\n",
              "(Intercept) 1.834375\n",
              "\n",
              "Fixed effects:\n",
              "            Estimate Std.Err   z-value  p-value\n",
              "(Intercept)   2.5764     NaN       NaN       NA\n",
              "sentistr     -0.1225  0.0005 -267.6606 < 0.0001\n",
              "republican   -0.7133  0.0663  -10.7569 < 0.0001\n",
              "\n",
              "Zero-part coefficients:\n",
              "            Estimate Std.Err z-value    p-value\n",
              "(Intercept) -16.8813  4.8197 -3.5025 0.00046086\n",
              "\n",
              "log(dispersion) parameter:\n",
              "  Estimate Std.Err\n",
              "   -1.1403  0.0006\n",
              "\n",
              "Integration:\n",
              "method: adaptive Gauss-Hermite quadrature rule\n",
              "quadrature points: 11\n",
              "\n",
              "Optimization:\n",
              "method: EM\n",
              "converged: TRUE "
            ]
          },
          "metadata": {}
        }
      ]
    },
    {
      "cell_type": "code",
      "metadata": {
        "id": "vAOrJZFu-dpO"
      },
      "source": [
        "saveRDS(m2_Wow_senti_main, \"m2_Wow_senti_main.rds\")\n"
      ],
      "execution_count": null,
      "outputs": []
    },
    {
      "cell_type": "code",
      "metadata": {
        "id": "9Zia0SgH-dmB",
        "colab": {
          "base_uri": "https://localhost:8080/",
          "height": 102
        },
        "outputId": "8e56db70-ee86-4256-cdd8-148cebd18fe2"
      },
      "source": [
        "system.time( m2_Wow_inciv_main <- mixed_model(fixed = Wow ~ insult + republican , random = ~ 1|Page.Name.fac, zi_fixed =  ~ 1,  family = zi.negative.binomial(), data=final_pages_react_nona_st , max_coef_value = 100 ))\n"
      ],
      "execution_count": null,
      "outputs": [
        {
          "output_type": "stream",
          "name": "stderr",
          "text": [
            "Warning message in mixed_model(fixed = Wow ~ insult + republican, random = ~1 | :\n",
            "“Hessian matrix at convergence is not positive definite; unstable solution.\n",
            "”\n"
          ]
        },
        {
          "output_type": "display_data",
          "data": {
            "text/plain": [
              "    user   system  elapsed \n",
              "5489.198  349.514 5842.460 "
            ]
          },
          "metadata": {}
        }
      ]
    },
    {
      "cell_type": "code",
      "metadata": {
        "id": "j11Jeryc-di9"
      },
      "source": [
        "saveRDS(m2_Wow_inciv_main, \"m2_Wow_inciv_main.rds\")\n"
      ],
      "execution_count": null,
      "outputs": []
    },
    {
      "cell_type": "code",
      "metadata": {
        "id": "VWfosYBP-dfZ",
        "colab": {
          "base_uri": "https://localhost:8080/",
          "height": 782
        },
        "outputId": "10841b29-0718-4291-affd-f8ea8d819283"
      },
      "source": [
        "summary(m2_Wow_inciv_main)"
      ],
      "execution_count": null,
      "outputs": [
        {
          "output_type": "stream",
          "name": "stderr",
          "text": [
            "Warning message in sqrt(diag(var_betas)):\n",
            "“NaNs produced”\n"
          ]
        },
        {
          "output_type": "display_data",
          "data": {
            "text/plain": [
              "\n",
              "Call:\n",
              "mixed_model(fixed = Wow ~ insult + republican, random = ~1 | \n",
              "    Page.Name.fac, data = final_pages_react_nona_st, family = zi.negative.binomial(), \n",
              "    zi_fixed = ~1, max_coef_value = 100)\n",
              "\n",
              "Data Descriptives:\n",
              "Number of Observations: 10991537\n",
              "Number of Groups: 1491 \n",
              "\n",
              "Model:\n",
              " family: zero-inflated negative binomial\n",
              " link: log \n",
              "\n",
              "Fit statistics:\n",
              "   log.Lik      AIC      BIC\n",
              " -24065603 48131219 48131250\n",
              "\n",
              "Random effects covariance matrix:\n",
              "              StdDev\n",
              "(Intercept) 1.821051\n",
              "\n",
              "Fixed effects:\n",
              "            Estimate Std.Err  z-value  p-value\n",
              "(Intercept)   2.5005     NaN      NaN       NA\n",
              "insult        0.5266  0.0028 185.3818 < 0.0001\n",
              "republican   -0.7170  0.0594 -12.0795 < 0.0001\n",
              "\n",
              "Zero-part coefficients:\n",
              "            Estimate Std.Err z-value    p-value\n",
              "(Intercept) -16.9049  4.7937 -3.5264 0.00042118\n",
              "\n",
              "log(dispersion) parameter:\n",
              "  Estimate Std.Err\n",
              "   -1.1391  0.0006\n",
              "\n",
              "Integration:\n",
              "method: adaptive Gauss-Hermite quadrature rule\n",
              "quadrature points: 11\n",
              "\n",
              "Optimization:\n",
              "method: EM\n",
              "converged: TRUE "
            ]
          },
          "metadata": {}
        }
      ]
    },
    {
      "cell_type": "markdown",
      "metadata": {
        "id": "HL_FksJRjDi1"
      },
      "source": [
        "# STD/CENTER"
      ]
    },
    {
      "cell_type": "markdown",
      "metadata": {
        "id": "Nb639MfyjL_a"
      },
      "source": [
        "## likes"
      ]
    },
    {
      "cell_type": "code",
      "metadata": {
        "colab": {
          "base_uri": "https://localhost:8080/"
        },
        "id": "iEDZ9pu7jHM0",
        "outputId": "2243503d-c40a-4a5a-d12c-1f96a7a742c9"
      },
      "source": [
        "# re-download\n",
        "system.time( m2_Likes_senti_main_std <- mixed_model(fixed = Likes ~ sentistr_std + republican , random = ~ 1|Page.Name.fac, zi_fixed =  ~ 1,  family = zi.negative.binomial(), data=final_pages_all_nona_st , max_coef_value = 100 ))\n"
      ],
      "execution_count": null,
      "outputs": [
        {
          "output_type": "stream",
          "name": "stderr",
          "text": [
            "Timing stopped at: 1488 219.5 1710\n",
            "\n"
          ]
        }
      ]
    },
    {
      "cell_type": "code",
      "metadata": {
        "id": "aOdu9xbujLXu"
      },
      "source": [
        "saveRDS(m2_Likes_senti_main_std, \"m2_Likes_senti_main_std.rds\")\n"
      ],
      "execution_count": null,
      "outputs": []
    },
    {
      "cell_type": "code",
      "metadata": {
        "colab": {
          "base_uri": "https://localhost:8080/",
          "height": 782
        },
        "id": "kbY-jXM_jLdd",
        "outputId": "522f41c5-5819-4293-d0ba-765e946d07b8"
      },
      "source": [
        "summary(m2_Likes_senti_main_std)\n"
      ],
      "execution_count": null,
      "outputs": [
        {
          "output_type": "stream",
          "name": "stderr",
          "text": [
            "Warning message in sqrt(diag(var_betas)):\n",
            "“NaNs produced”\n"
          ]
        },
        {
          "output_type": "display_data",
          "data": {
            "text/plain": [
              "\n",
              "Call:\n",
              "mixed_model(fixed = Likes ~ sentistr_std + republican, random = ~1 | \n",
              "    Page.Name.fac, data = final_pages_all_nona_st, family = zi.negative.binomial(), \n",
              "    zi_fixed = ~1, max_coef_value = 100)\n",
              "\n",
              "Data Descriptives:\n",
              "Number of Observations: 13955869\n",
              "Number of Groups: 1493 \n",
              "\n",
              "Model:\n",
              " family: zero-inflated negative binomial\n",
              " link: log \n",
              "\n",
              "Fit statistics:\n",
              "   log.Lik       AIC       BIC\n",
              " -61868408 123736829 123736860\n",
              "\n",
              "Random effects covariance matrix:\n",
              "              StdDev\n",
              "(Intercept) 2.058101\n",
              "\n",
              "Fixed effects:\n",
              "             Estimate Std.Err  z-value  p-value\n",
              "(Intercept)    5.9842     NaN      NaN       NA\n",
              "sentistr_std   0.0956  0.0004 214.9144 < 0.0001\n",
              "republican     0.1583  0.1085   1.4593  0.14449\n",
              "\n",
              "Zero-part coefficients:\n",
              "            Estimate Std.Err z-value  p-value\n",
              "(Intercept) -17.1285   2.364 -7.2457 < 0.0001\n",
              "\n",
              "log(dispersion) parameter:\n",
              "  Estimate Std.Err\n",
              "   -0.7892  0.0004\n",
              "\n",
              "Integration:\n",
              "method: adaptive Gauss-Hermite quadrature rule\n",
              "quadrature points: 11\n",
              "\n",
              "Optimization:\n",
              "method: EM\n",
              "converged: TRUE "
            ]
          },
          "metadata": {}
        }
      ]
    },
    {
      "cell_type": "code",
      "metadata": {
        "colab": {
          "base_uri": "https://localhost:8080/",
          "height": 102
        },
        "id": "PTzOOp_1jLSU",
        "outputId": "a54f311a-8f42-48e9-ebeb-2aec5d70daf9"
      },
      "source": [
        "system.time( m2_Likes_inciv_main_std <- mixed_model(fixed = Likes ~ insult_std + republican , random = ~ 1|Page.Name.fac, zi_fixed =  ~ 1,  family = zi.negative.binomial(), data=final_pages_all_nona_st , max_coef_value = 100 ))\n"
      ],
      "execution_count": null,
      "outputs": [
        {
          "output_type": "stream",
          "name": "stderr",
          "text": [
            "Warning message in mixed_model(fixed = Likes ~ insult_std + republican, random = ~1 | :\n",
            "“Hessian matrix at convergence is not positive definite; unstable solution.\n",
            "”\n"
          ]
        },
        {
          "output_type": "display_data",
          "data": {
            "text/plain": [
              "    user   system  elapsed \n",
              "3690.454  416.695 4108.969 "
            ]
          },
          "metadata": {}
        }
      ]
    },
    {
      "cell_type": "code",
      "metadata": {
        "id": "kinUr7sWjPhX"
      },
      "source": [
        "saveRDS(m2_Likes_inciv_main_std, \"m2_Likes_inciv_main_std.rds\")\n"
      ],
      "execution_count": null,
      "outputs": []
    },
    {
      "cell_type": "code",
      "metadata": {
        "colab": {
          "base_uri": "https://localhost:8080/",
          "height": 782
        },
        "id": "D7EF4npzjPc7",
        "outputId": "2dabb0bc-2ca6-4426-db38-d76e1c000be9"
      },
      "source": [
        "summary(m2_Likes_inciv_main_std)"
      ],
      "execution_count": null,
      "outputs": [
        {
          "output_type": "stream",
          "name": "stderr",
          "text": [
            "Warning message in sqrt(diag(var_betas)):\n",
            "“NaNs produced”\n"
          ]
        },
        {
          "output_type": "display_data",
          "data": {
            "text/plain": [
              "\n",
              "Call:\n",
              "mixed_model(fixed = Likes ~ insult_std + republican, random = ~1 | \n",
              "    Page.Name.fac, data = final_pages_all_nona_st, family = zi.negative.binomial(), \n",
              "    zi_fixed = ~1, max_coef_value = 100)\n",
              "\n",
              "Data Descriptives:\n",
              "Number of Observations: 13955869\n",
              "Number of Groups: 1493 \n",
              "\n",
              "Model:\n",
              " family: zero-inflated negative binomial\n",
              " link: log \n",
              "\n",
              "Fit statistics:\n",
              "   log.Lik       AIC       BIC\n",
              " -55821953 111643917 111643949\n",
              "\n",
              "Random effects covariance matrix:\n",
              "              StdDev\n",
              "(Intercept) 2.077352\n",
              "\n",
              "Fixed effects:\n",
              "            Estimate Std.Err  z-value  p-value\n",
              "(Intercept)   5.9983     NaN      NaN       NA\n",
              "insult_std    0.0591  0.0005 123.3970 < 0.0001\n",
              "republican    0.1615  0.1102   1.4657  0.14273\n",
              "\n",
              "Zero-part coefficients:\n",
              "            Estimate Std.Err z-value  p-value\n",
              "(Intercept) -17.1426   2.531  -6.773 < 0.0001\n",
              "\n",
              "log(dispersion) parameter:\n",
              "  Estimate Std.Err\n",
              "   -0.7826  0.0004\n",
              "\n",
              "Integration:\n",
              "method: adaptive Gauss-Hermite quadrature rule\n",
              "quadrature points: 11\n",
              "\n",
              "Optimization:\n",
              "method: EM\n",
              "converged: TRUE "
            ]
          },
          "metadata": {}
        }
      ]
    },
    {
      "cell_type": "code",
      "metadata": {
        "colab": {
          "base_uri": "https://localhost:8080/",
          "height": 102
        },
        "id": "HaoshVtjkscs",
        "outputId": "ffc9c793-cf22-4643-a227-dab28a182abb"
      },
      "source": [
        "system.time( m2_Likes_inciv_main_std_comp <- mixed_model(fixed = Likes ~ sentistr_std + insult_std + republican , random = ~ 1|Page.Name.fac, zi_fixed =  ~ 1,  family = zi.negative.binomial(), data=final_pages_all_nona_st , max_coef_value = 100 ))\n"
      ],
      "execution_count": null,
      "outputs": [
        {
          "output_type": "stream",
          "name": "stderr",
          "text": [
            "Warning message in mixed_model(fixed = Likes ~ sentistr_std + insult_std + republican, :\n",
            "“Hessian matrix at convergence is not positive definite; unstable solution.\n",
            "”\n"
          ]
        },
        {
          "output_type": "display_data",
          "data": {
            "text/plain": [
              "    user   system  elapsed \n",
              "4249.901  468.999 4720.716 "
            ]
          },
          "metadata": {}
        }
      ]
    },
    {
      "cell_type": "code",
      "metadata": {
        "id": "dldVdTHsksWP"
      },
      "source": [
        "saveRDS(m2_Likes_inciv_main_std_comp, \"m2_Likes_inciv_main_std_comp.rds\")\n"
      ],
      "execution_count": null,
      "outputs": []
    },
    {
      "cell_type": "code",
      "metadata": {
        "colab": {
          "base_uri": "https://localhost:8080/",
          "height": 799
        },
        "id": "cGWcpY0mksMx",
        "outputId": "6cf73cee-5d1d-4291-a9b6-d6f68439835e"
      },
      "source": [
        "summary(m2_Likes_inciv_main_std_comp)"
      ],
      "execution_count": null,
      "outputs": [
        {
          "output_type": "stream",
          "name": "stderr",
          "text": [
            "Warning message in sqrt(diag(var_betas)):\n",
            "“NaNs produced”\n"
          ]
        },
        {
          "output_type": "display_data",
          "data": {
            "text/plain": [
              "\n",
              "Call:\n",
              "mixed_model(fixed = Likes ~ sentistr_std + insult_std + republican, \n",
              "    random = ~1 | Page.Name.fac, data = final_pages_all_nona_st, \n",
              "    family = zi.negative.binomial(), zi_fixed = ~1, max_coef_value = 100)\n",
              "\n",
              "Data Descriptives:\n",
              "Number of Observations: 13955869\n",
              "Number of Groups: 1493 \n",
              "\n",
              "Model:\n",
              " family: zero-inflated negative binomial\n",
              " link: log \n",
              "\n",
              "Fit statistics:\n",
              "   log.Lik       AIC       BIC\n",
              " -60601797 121203608 121203645\n",
              "\n",
              "Random effects covariance matrix:\n",
              "              StdDev\n",
              "(Intercept) 2.047024\n",
              "\n",
              "Fixed effects:\n",
              "             Estimate Std.Err  z-value  p-value\n",
              "(Intercept)    5.9619     NaN      NaN       NA\n",
              "sentistr_std   0.1196  0.0005 254.4603 < 0.0001\n",
              "insult_std     0.0880  0.0005 181.9024 < 0.0001\n",
              "republican     0.1698  0.1081   1.5707  0.11626\n",
              "\n",
              "Zero-part coefficients:\n",
              "            Estimate Std.Err z-value  p-value\n",
              "(Intercept) -17.1312  2.3902 -7.1672 < 0.0001\n",
              "\n",
              "log(dispersion) parameter:\n",
              "  Estimate Std.Err\n",
              "   -0.7723  0.0004\n",
              "\n",
              "Integration:\n",
              "method: adaptive Gauss-Hermite quadrature rule\n",
              "quadrature points: 11\n",
              "\n",
              "Optimization:\n",
              "method: EM\n",
              "converged: TRUE "
            ]
          },
          "metadata": {}
        }
      ]
    },
    {
      "cell_type": "code",
      "metadata": {
        "id": "z4FmlkjhT6W5",
        "colab": {
          "base_uri": "https://localhost:8080/",
          "height": 102
        },
        "outputId": "1dd2c35f-c378-4efa-9812-2ef00bb02129"
      },
      "source": [
        "# re-download\n",
        "system.time( m2_Likes_senti_int <- mixed_model(fixed = Likes ~ sentistr_std*republican + insult_std*republican , random = ~ 1|Page.Name.fac, zi_fixed =  ~ 1,  family = zi.negative.binomial(), data=final_pages_all_nona_st , max_coef_value = 100 ))\n"
      ],
      "execution_count": null,
      "outputs": [
        {
          "metadata": {
            "tags": null
          },
          "name": "stderr",
          "output_type": "stream",
          "text": [
            "Warning message in mixed_model(fixed = Likes ~ sentistr_std * republican + insult_std * :\n",
            "“Hessian matrix at convergence is not positive definite; unstable solution.\n",
            "”\n"
          ]
        },
        {
          "data": {
            "text/plain": [
              "    user   system  elapsed \n",
              "5316.262  257.039 5586.629 "
            ]
          },
          "metadata": {},
          "output_type": "display_data"
        }
      ]
    },
    {
      "cell_type": "code",
      "metadata": {
        "id": "W22pyVwKT6RN",
        "colab": {
          "base_uri": "https://localhost:8080/",
          "height": 833
        },
        "outputId": "17cc7d45-86c3-4d4e-a5cf-d19f7dbde474"
      },
      "source": [
        "summary(m2_Likes_senti_int)"
      ],
      "execution_count": null,
      "outputs": [
        {
          "metadata": {
            "tags": null
          },
          "name": "stderr",
          "output_type": "stream",
          "text": [
            "Warning message in sqrt(diag(var_betas)):\n",
            "“NaNs produced”\n"
          ]
        },
        {
          "data": {
            "text/plain": [
              "\n",
              "Call:\n",
              "mixed_model(fixed = Likes ~ sentistr_std * republican + insult_std * \n",
              "    republican, random = ~1 | Page.Name.fac, data = final_pages_all_nona_st, \n",
              "    family = zi.negative.binomial(), zi_fixed = ~1, max_coef_value = 100)\n",
              "\n",
              "Data Descriptives:\n",
              "Number of Observations: 13955869\n",
              "Number of Groups: 1493 \n",
              "\n",
              "Model:\n",
              " family: zero-inflated negative binomial\n",
              " link: log \n",
              "\n",
              "Fit statistics:\n",
              "   log.Lik       AIC       BIC\n",
              " -61750364 123500745 123500793\n",
              "\n",
              "Random effects covariance matrix:\n",
              "              StdDev\n",
              "(Intercept) 2.045282\n",
              "\n",
              "Fixed effects:\n",
              "                        Estimate Std.Err  z-value  p-value\n",
              "(Intercept)               5.9712     NaN      NaN       NA\n",
              "sentistr_std              0.1276  0.0006 203.6990 < 0.0001\n",
              "republican                0.1474  0.1081   1.3635  0.17273\n",
              "insult_std                0.0676  0.0007  99.4458 < 0.0001\n",
              "sentistr_std:republican  -0.0157  0.0009 -16.8471 < 0.0001\n",
              "republican:insult_std     0.0382  0.0010  40.0292 < 0.0001\n",
              "\n",
              "Zero-part coefficients:\n",
              "            Estimate Std.Err z-value  p-value\n",
              "(Intercept) -17.1344  2.3825 -7.1917 < 0.0001\n",
              "\n",
              "log(dispersion) parameter:\n",
              "  Estimate Std.Err\n",
              "   -0.7734  0.0004\n",
              "\n",
              "Integration:\n",
              "method: adaptive Gauss-Hermite quadrature rule\n",
              "quadrature points: 11\n",
              "\n",
              "Optimization:\n",
              "method: EM\n",
              "converged: TRUE "
            ]
          },
          "metadata": {},
          "output_type": "display_data"
        }
      ]
    },
    {
      "cell_type": "markdown",
      "metadata": {
        "id": "-WmzzuvPjQaB"
      },
      "source": [
        "## comments"
      ]
    },
    {
      "cell_type": "code",
      "metadata": {
        "id": "mv6DNv97UHTp",
        "colab": {
          "base_uri": "https://localhost:8080/",
          "height": 102
        },
        "outputId": "d4f451be-db3c-45cd-8362-102fa6c80f95"
      },
      "source": [
        "system.time( m2_Comments_senti_int <- mixed_model(fixed = Comments ~ sentistr_std*republican + insult_std*republican , random = ~ 1|Page.Name.fac, zi_fixed =  ~ 1,  family = zi.negative.binomial(), data=final_pages_all_nona_st , max_coef_value = 100 ))\n"
      ],
      "execution_count": null,
      "outputs": [
        {
          "output_type": "stream",
          "name": "stderr",
          "text": [
            "Warning message in mixed_model(fixed = Comments ~ sentistr_std * republican + insult_std * :\n",
            "“Hessian matrix at convergence is not positive definite; unstable solution.\n",
            "”\n"
          ]
        },
        {
          "output_type": "display_data",
          "data": {
            "text/plain": [
              "    user   system  elapsed \n",
              "7022.327  429.180 7471.736 "
            ]
          },
          "metadata": {}
        }
      ]
    },
    {
      "cell_type": "code",
      "metadata": {
        "id": "7IPZbVM3UHPa",
        "colab": {
          "base_uri": "https://localhost:8080/",
          "height": 833
        },
        "outputId": "1d2ef597-224e-4a10-df17-ce33e35c8789"
      },
      "source": [
        "summary(m2_Comments_senti_int)"
      ],
      "execution_count": null,
      "outputs": [
        {
          "output_type": "stream",
          "name": "stderr",
          "text": [
            "Warning message in sqrt(diag(var_betas)):\n",
            "“NaNs produced”\n"
          ]
        },
        {
          "output_type": "display_data",
          "data": {
            "text/plain": [
              "\n",
              "Call:\n",
              "mixed_model(fixed = Comments ~ sentistr_std * republican + insult_std * \n",
              "    republican, random = ~1 | Page.Name.fac, data = final_pages_all_nona_st, \n",
              "    family = zi.negative.binomial(), zi_fixed = ~1, max_coef_value = 100)\n",
              "\n",
              "Data Descriptives:\n",
              "Number of Observations: 13955869\n",
              "Number of Groups: 1493 \n",
              "\n",
              "Model:\n",
              " family: zero-inflated negative binomial\n",
              " link: log \n",
              "\n",
              "Fit statistics:\n",
              "   log.Lik      AIC      BIC\n",
              " -43446716 86893450 86893498\n",
              "\n",
              "Random effects covariance matrix:\n",
              "              StdDev\n",
              "(Intercept) 2.009747\n",
              "\n",
              "Fixed effects:\n",
              "                        Estimate Std.Err  z-value  p-value\n",
              "(Intercept)               4.4099     NaN      NaN       NA\n",
              "sentistr_std             -0.0477  0.0007 -64.8486 < 0.0001\n",
              "republican               -0.0904  0.1057  -0.8554  0.39235\n",
              "insult_std                0.1822  0.0008 231.5971 < 0.0001\n",
              "sentistr_std:republican   0.0180  0.0011  16.8404 < 0.0001\n",
              "republican:insult_std     0.0047  0.0011   4.2333 < 0.0001\n",
              "\n",
              "Zero-part coefficients:\n",
              "            Estimate Std.Err z-value  p-value\n",
              "(Intercept)  -16.609  2.9108 -5.7059 < 0.0001\n",
              "\n",
              "log(dispersion) parameter:\n",
              "  Estimate Std.Err\n",
              "   -1.0109  0.0004\n",
              "\n",
              "Integration:\n",
              "method: adaptive Gauss-Hermite quadrature rule\n",
              "quadrature points: 11\n",
              "\n",
              "Optimization:\n",
              "method: EM\n",
              "converged: TRUE "
            ]
          },
          "metadata": {}
        }
      ]
    },
    {
      "cell_type": "code",
      "metadata": {
        "colab": {
          "base_uri": "https://localhost:8080/",
          "height": 122
        },
        "id": "-EJGMDVijRdJ",
        "outputId": "ff7355c3-974e-4721-99ef-82b2d17d8073"
      },
      "source": [
        "system.time( m2_Comments_senti_main_std <- mixed_model(fixed = Comments ~ sentistr_std + republican , random = ~ 1|Page.Name.fac, zi_fixed =  ~ 1,  family = zi.negative.binomial(), data=final_pages_all_nona_st , max_coef_value = 100 ))\n"
      ],
      "execution_count": null,
      "outputs": [
        {
          "output_type": "stream",
          "name": "stderr",
          "text": [
            "Warning message in mixed_model(fixed = Comments ~ sentistr_std + republican, random = ~1 | :\n",
            "“Hessian matrix at convergence is not positive definite; unstable solution.\n",
            "”\n"
          ]
        },
        {
          "output_type": "display_data",
          "data": {
            "text/plain": [
              "    user   system  elapsed \n",
              "5027.641  482.871 5513.771 "
            ]
          },
          "metadata": {}
        }
      ]
    },
    {
      "cell_type": "code",
      "metadata": {
        "colab": {
          "base_uri": "https://localhost:8080/",
          "height": 782
        },
        "id": "JE7DPw2EjR5s",
        "outputId": "f4a958f7-6f3f-4c8b-c299-d20dea04493d"
      },
      "source": [
        "summary(m2_Comments_senti_main_std)\n"
      ],
      "execution_count": null,
      "outputs": [
        {
          "output_type": "stream",
          "name": "stderr",
          "text": [
            "Warning message in sqrt(diag(var_betas)):\n",
            "“NaNs produced”\n"
          ]
        },
        {
          "output_type": "display_data",
          "data": {
            "text/plain": [
              "\n",
              "Call:\n",
              "mixed_model(fixed = Comments ~ sentistr_std + republican, random = ~1 | \n",
              "    Page.Name.fac, data = final_pages_all_nona_st, family = zi.negative.binomial(), \n",
              "    zi_fixed = ~1, max_coef_value = 100)\n",
              "\n",
              "Data Descriptives:\n",
              "Number of Observations: 13955869\n",
              "Number of Groups: 1493 \n",
              "\n",
              "Model:\n",
              " family: zero-inflated negative binomial\n",
              " link: log \n",
              "\n",
              "Fit statistics:\n",
              "   log.Lik      AIC      BIC\n",
              " -44551973 89103957 89103989\n",
              "\n",
              "Random effects covariance matrix:\n",
              "              StdDev\n",
              "(Intercept) 2.027849\n",
              "\n",
              "Fixed effects:\n",
              "             Estimate Std.Err   z-value  p-value\n",
              "(Intercept)    4.4241     NaN       NaN       NA\n",
              "sentistr_std  -0.0889  0.0005 -175.3627 < 0.0001\n",
              "republican    -0.0531  0.1065   -0.4985  0.61815\n",
              "\n",
              "Zero-part coefficients:\n",
              "            Estimate Std.Err z-value  p-value\n",
              "(Intercept) -16.5637  2.8177 -5.8785 < 0.0001\n",
              "\n",
              "log(dispersion) parameter:\n",
              "  Estimate Std.Err\n",
              "   -1.0125  0.0004\n",
              "\n",
              "Integration:\n",
              "method: adaptive Gauss-Hermite quadrature rule\n",
              "quadrature points: 11\n",
              "\n",
              "Optimization:\n",
              "method: EM\n",
              "converged: TRUE "
            ]
          },
          "metadata": {}
        }
      ]
    },
    {
      "cell_type": "code",
      "metadata": {
        "id": "ldF1bGLWjR1N"
      },
      "source": [
        "saveRDS(m2_Comments_senti_main_std, \"m2_Comments_senti_main_std.rds\")\n"
      ],
      "execution_count": null,
      "outputs": []
    },
    {
      "cell_type": "code",
      "metadata": {
        "colab": {
          "base_uri": "https://localhost:8080/",
          "height": 102
        },
        "id": "X30u_ZD0jRtT",
        "outputId": "ab25ea73-9542-453e-e1be-7e42ba4ad9c9"
      },
      "source": [
        "system.time( m2_Comments_inciv_main_std <- mixed_model(fixed = Comments ~ insult_std + republican , random = ~ 1|Page.Name.fac, zi_fixed =  ~ 1,  family = zi.negative.binomial(), data=final_pages_all_nona_st , max_coef_value = 100 ))\n"
      ],
      "execution_count": null,
      "outputs": [
        {
          "output_type": "stream",
          "name": "stderr",
          "text": [
            "Warning message in mixed_model(fixed = Comments ~ insult_std + republican, random = ~1 | :\n",
            "“Hessian matrix at convergence is not positive definite; unstable solution.\n",
            "”\n"
          ]
        },
        {
          "output_type": "display_data",
          "data": {
            "text/plain": [
              "    user   system  elapsed \n",
              "5184.580  502.265 5691.233 "
            ]
          },
          "metadata": {}
        }
      ]
    },
    {
      "cell_type": "code",
      "metadata": {
        "id": "lsqtkDWFjRng"
      },
      "source": [
        "saveRDS(m2_Comments_inciv_main_std, \"m2_Comments_inciv_main_std.rds\")\n"
      ],
      "execution_count": null,
      "outputs": []
    },
    {
      "cell_type": "code",
      "metadata": {
        "colab": {
          "base_uri": "https://localhost:8080/",
          "height": 782
        },
        "id": "z97Y0HF_jSZp",
        "outputId": "b2ef8ea8-3253-4de0-dbac-7d91a97b89c3"
      },
      "source": [
        "summary(m2_Comments_inciv_main_std)\n"
      ],
      "execution_count": null,
      "outputs": [
        {
          "output_type": "stream",
          "name": "stderr",
          "text": [
            "Warning message in sqrt(diag(var_betas)):\n",
            "“NaNs produced”\n"
          ]
        },
        {
          "output_type": "display_data",
          "data": {
            "text/plain": [
              "\n",
              "Call:\n",
              "mixed_model(fixed = Comments ~ insult_std + republican, random = ~1 | \n",
              "    Page.Name.fac, data = final_pages_all_nona_st, family = zi.negative.binomial(), \n",
              "    zi_fixed = ~1, max_coef_value = 100)\n",
              "\n",
              "Data Descriptives:\n",
              "Number of Observations: 13955869\n",
              "Number of Groups: 1493 \n",
              "\n",
              "Model:\n",
              " family: zero-inflated negative binomial\n",
              " link: log \n",
              "\n",
              "Fit statistics:\n",
              "   log.Lik      AIC      BIC\n",
              " -44140861 88281735 88281767\n",
              "\n",
              "Random effects covariance matrix:\n",
              "              StdDev\n",
              "(Intercept) 2.012111\n",
              "\n",
              "Fixed effects:\n",
              "            Estimate Std.Err  z-value  p-value\n",
              "(Intercept)   4.4008     NaN      NaN       NA\n",
              "insult_std    0.1922  0.0005 365.4844 < 0.0001\n",
              "republican   -0.0566  0.1057  -0.5358  0.59212\n",
              "\n",
              "Zero-part coefficients:\n",
              "            Estimate Std.Err z-value  p-value\n",
              "(Intercept) -16.6135  2.8896 -5.7493 < 0.0001\n",
              "\n",
              "log(dispersion) parameter:\n",
              "  Estimate Std.Err\n",
              "   -1.0049  0.0004\n",
              "\n",
              "Integration:\n",
              "method: adaptive Gauss-Hermite quadrature rule\n",
              "quadrature points: 11\n",
              "\n",
              "Optimization:\n",
              "method: EM\n",
              "converged: TRUE "
            ]
          },
          "metadata": {}
        }
      ]
    },
    {
      "cell_type": "code",
      "metadata": {
        "id": "g9lYHx9bkxu6",
        "colab": {
          "base_uri": "https://localhost:8080/",
          "height": 122
        },
        "outputId": "9bfe808b-4523-40af-9a72-d47e1654f775"
      },
      "source": [
        "system.time( m2_Comments_main_std_comp <- mixed_model(fixed = Comments ~ sentistr_std + insult_std + republican , random = ~ 1|Page.Name.fac, zi_fixed =  ~ 1,  family = zi.negative.binomial(), data=final_pages_all_nona_st , max_coef_value = 100 ))\n"
      ],
      "execution_count": null,
      "outputs": [
        {
          "output_type": "stream",
          "name": "stderr",
          "text": [
            "Warning message in mixed_model(fixed = Comments ~ sentistr_std + insult_std + republican, :\n",
            "“Hessian matrix at convergence is not positive definite; unstable solution.\n",
            "”\n"
          ]
        },
        {
          "output_type": "display_data",
          "data": {
            "text/plain": [
              "    user   system  elapsed \n",
              "5628.610  326.059 5956.781 "
            ]
          },
          "metadata": {}
        }
      ]
    },
    {
      "cell_type": "code",
      "metadata": {
        "id": "8JWMw21skxpZ"
      },
      "source": [
        "saveRDS(m2_Comments_main_std_comp, \"m2_Comments_main_std_comp.rds\")\n"
      ],
      "execution_count": null,
      "outputs": []
    },
    {
      "cell_type": "code",
      "metadata": {
        "id": "cY7e1Agrkxgj",
        "colab": {
          "base_uri": "https://localhost:8080/",
          "height": 799
        },
        "outputId": "60ab332c-3bc0-4b2f-ae3b-1450e7f9d6c4"
      },
      "source": [
        "summary(m2_Comments_main_std_comp)"
      ],
      "execution_count": null,
      "outputs": [
        {
          "output_type": "stream",
          "name": "stderr",
          "text": [
            "Warning message in sqrt(diag(var_betas)):\n",
            "“NaNs produced”\n"
          ]
        },
        {
          "output_type": "display_data",
          "data": {
            "text/plain": [
              "\n",
              "Call:\n",
              "mixed_model(fixed = Comments ~ sentistr_std + insult_std + republican, \n",
              "    random = ~1 | Page.Name.fac, data = final_pages_all_nona_st, \n",
              "    family = zi.negative.binomial(), zi_fixed = ~1, max_coef_value = 100)\n",
              "\n",
              "Data Descriptives:\n",
              "Number of Observations: 13955869\n",
              "Number of Groups: 1493 \n",
              "\n",
              "Model:\n",
              " family: zero-inflated negative binomial\n",
              " link: log \n",
              "\n",
              "Fit statistics:\n",
              "   log.Lik      AIC      BIC\n",
              " -43579829 87159672 87159709\n",
              "\n",
              "Random effects covariance matrix:\n",
              "              StdDev\n",
              "(Intercept) 2.011165\n",
              "\n",
              "Fixed effects:\n",
              "             Estimate Std.Err  z-value p-value\n",
              "(Intercept)    4.3972     NaN      NaN      NA\n",
              "sentistr_std  -0.0398  0.0005 -74.6236 < 1e-04\n",
              "insult_std     0.1824  0.0005 333.2079 < 1e-04\n",
              "republican    -0.0567  0.1058  -0.5360 0.59194\n",
              "\n",
              "Zero-part coefficients:\n",
              "            Estimate Std.Err z-value p-value\n",
              "(Intercept) -16.6154  2.9023 -5.7248 < 1e-04\n",
              "\n",
              "log(dispersion) parameter:\n",
              "  Estimate Std.Err\n",
              "   -1.0041   4e-04\n",
              "\n",
              "Integration:\n",
              "method: adaptive Gauss-Hermite quadrature rule\n",
              "quadrature points: 11\n",
              "\n",
              "Optimization:\n",
              "method: EM\n",
              "converged: TRUE "
            ]
          },
          "metadata": {}
        }
      ]
    },
    {
      "cell_type": "markdown",
      "metadata": {
        "id": "TAXAFUqljSzx"
      },
      "source": [
        "## shares"
      ]
    },
    {
      "cell_type": "code",
      "metadata": {
        "id": "3IK0pxywjUHY",
        "colab": {
          "base_uri": "https://localhost:8080/",
          "height": 51
        },
        "outputId": "4a1b0221-3763-47a7-e02c-9a099bd192c5"
      },
      "source": [
        "system.time( m2_Shares_senti_main_std <- mixed_model(fixed = Shares ~ sentistr_std + republican , random = ~ 1|Page.Name.fac, zi_fixed =  ~ 1,  family = zi.negative.binomial(), data=final_pages_all_nona_st , max_coef_value = 100 ))\n"
      ],
      "execution_count": null,
      "outputs": [
        {
          "output_type": "display_data",
          "data": {
            "text/plain": [
              "    user   system  elapsed \n",
              "4651.072  269.609 4921.786 "
            ]
          },
          "metadata": {}
        }
      ]
    },
    {
      "cell_type": "code",
      "metadata": {
        "id": "0T_wJAw7jUmB",
        "colab": {
          "base_uri": "https://localhost:8080/",
          "height": 748
        },
        "outputId": "3059a926-3546-43de-8bd5-6d050d174d82"
      },
      "source": [
        "summary(m2_Shares_senti_main_std)\n"
      ],
      "execution_count": null,
      "outputs": [
        {
          "output_type": "display_data",
          "data": {
            "text/plain": [
              "\n",
              "Call:\n",
              "mixed_model(fixed = Shares ~ sentistr_std + republican, random = ~1 | \n",
              "    Page.Name.fac, data = final_pages_all_nona_st, family = zi.negative.binomial(), \n",
              "    zi_fixed = ~1, max_coef_value = 100)\n",
              "\n",
              "Data Descriptives:\n",
              "Number of Observations: 13955869\n",
              "Number of Groups: 1493 \n",
              "\n",
              "Model:\n",
              " family: zero-inflated negative binomial\n",
              " link: log \n",
              "\n",
              "Fit statistics:\n",
              "   log.Lik       AIC       BIC\n",
              " -56336226 112672463 112672495\n",
              "\n",
              "Random effects covariance matrix:\n",
              "              StdDev\n",
              "(Intercept) 1.830412\n",
              "\n",
              "Fixed effects:\n",
              "             Estimate Std.Err  z-value  p-value\n",
              "(Intercept)    5.3381  0.1034  51.6478  < 1e-04\n",
              "sentistr_std  -0.0242  0.0006 -41.7453  < 1e-04\n",
              "republican     0.3649  0.1160   3.1462 0.001654\n",
              "\n",
              "Zero-part coefficients:\n",
              "            Estimate Std.Err z-value p-value\n",
              "(Intercept) -16.9732  2.9421 -5.7691 < 1e-04\n",
              "\n",
              "log(dispersion) parameter:\n",
              "  Estimate Std.Err\n",
              "   -1.3083   4e-04\n",
              "\n",
              "Integration:\n",
              "method: adaptive Gauss-Hermite quadrature rule\n",
              "quadrature points: 11\n",
              "\n",
              "Optimization:\n",
              "method: EM\n",
              "converged: TRUE "
            ]
          },
          "metadata": {}
        }
      ]
    },
    {
      "cell_type": "code",
      "metadata": {
        "id": "cbbN6dxIjUh2"
      },
      "source": [
        "saveRDS(m2_Shares_senti_main_std, \"m2_Shares_senti_main_std.rds\")\n"
      ],
      "execution_count": null,
      "outputs": []
    },
    {
      "cell_type": "code",
      "metadata": {
        "id": "sPoduv38jUd-",
        "colab": {
          "base_uri": "https://localhost:8080/",
          "height": 51
        },
        "outputId": "c738a3ab-b8d7-49c3-8efa-71904338da2f"
      },
      "source": [
        "# re-download\n",
        "\n",
        "system.time( m2_Shares_inciv_main_std <- mixed_model(fixed = Shares ~ insult_std + republican , random = ~ 1|Page.Name.fac, zi_fixed =  ~ 1,  family = zi.negative.binomial(), data=final_pages_all_nona_st , max_coef_value = 100 ))\n"
      ],
      "execution_count": null,
      "outputs": [
        {
          "output_type": "display_data",
          "data": {
            "text/plain": [
              "    user   system  elapsed \n",
              "4763.564  250.796 5020.139 "
            ]
          },
          "metadata": {}
        }
      ]
    },
    {
      "cell_type": "code",
      "metadata": {
        "id": "KFD6cykujUZq"
      },
      "source": [
        "saveRDS(m2_Shares_inciv_main_std, \"m2_Shares_inciv_main_std.rds\")\n"
      ],
      "execution_count": null,
      "outputs": []
    },
    {
      "cell_type": "code",
      "metadata": {
        "id": "RhoA9PQVjUUo",
        "colab": {
          "base_uri": "https://localhost:8080/",
          "height": 748
        },
        "outputId": "71863277-0ebb-48b1-ad84-39d7d12113b0"
      },
      "source": [
        "summary(m2_Shares_inciv_main_std)\n"
      ],
      "execution_count": null,
      "outputs": [
        {
          "output_type": "display_data",
          "data": {
            "text/plain": [
              "\n",
              "Call:\n",
              "mixed_model(fixed = Shares ~ insult_std + republican, random = ~1 | \n",
              "    Page.Name.fac, data = final_pages_all_nona_st, family = zi.negative.binomial(), \n",
              "    zi_fixed = ~1, max_coef_value = 100)\n",
              "\n",
              "Data Descriptives:\n",
              "Number of Observations: 13955869\n",
              "Number of Groups: 1493 \n",
              "\n",
              "Model:\n",
              " family: zero-inflated negative binomial\n",
              " link: log \n",
              "\n",
              "Fit statistics:\n",
              "   log.Lik       AIC       BIC\n",
              " -55784046 111568104 111568136\n",
              "\n",
              "Random effects covariance matrix:\n",
              "              StdDev\n",
              "(Intercept) 1.817381\n",
              "\n",
              "Fixed effects:\n",
              "            Estimate Std.Err  z-value   p-value\n",
              "(Intercept)   5.3261  0.1038  51.3080   < 1e-04\n",
              "insult_std    0.0951  0.0006 164.2270   < 1e-04\n",
              "republican    0.3563  0.1156   3.0836 0.0020453\n",
              "\n",
              "Zero-part coefficients:\n",
              "            Estimate Std.Err z-value p-value\n",
              "(Intercept) -16.9751  2.9906 -5.6761 < 1e-04\n",
              "\n",
              "log(dispersion) parameter:\n",
              "  Estimate Std.Err\n",
              "   -1.2979   4e-04\n",
              "\n",
              "Integration:\n",
              "method: adaptive Gauss-Hermite quadrature rule\n",
              "quadrature points: 11\n",
              "\n",
              "Optimization:\n",
              "method: EM\n",
              "converged: TRUE "
            ]
          },
          "metadata": {}
        }
      ]
    },
    {
      "cell_type": "code",
      "metadata": {
        "id": "XaOe0FJ8k8Kz",
        "colab": {
          "base_uri": "https://localhost:8080/",
          "height": 51
        },
        "outputId": "da08c3e3-3821-4762-b4f4-72ade4e5e793"
      },
      "source": [
        "# RE-DOWNLOAD\n",
        "system.time( m2_Shares_main_std_comp <- mixed_model(fixed = Shares ~ sentistr_std + insult_std + republican , random = ~ 1|Page.Name.fac, zi_fixed =  ~ 1,  family = zi.negative.binomial(), data=final_pages_all_nona_st , max_coef_value = 100 ))\n"
      ],
      "execution_count": null,
      "outputs": [
        {
          "output_type": "display_data",
          "data": {
            "text/plain": [
              "    user   system  elapsed \n",
              "5396.212  416.135 5820.181 "
            ]
          },
          "metadata": {}
        }
      ]
    },
    {
      "cell_type": "code",
      "metadata": {
        "id": "wflgDmB_k8G5"
      },
      "source": [
        "saveRDS(m2_Shares_main_std_comp, \"m2_Shares_main_std_comp.rds\")\n"
      ],
      "execution_count": null,
      "outputs": []
    },
    {
      "cell_type": "code",
      "metadata": {
        "id": "PpgMYK3ck8By",
        "colab": {
          "base_uri": "https://localhost:8080/"
        },
        "outputId": "f57d86d9-4983-4c4b-9f80-939f89cf639f"
      },
      "source": [
        "summary(m2_Shares_main_std_comp)"
      ],
      "execution_count": null,
      "outputs": [
        {
          "output_type": "display_data",
          "data": {
            "text/plain": [
              "\n",
              "Call:\n",
              "mixed_model(fixed = Shares ~ sentistr_std + insult_std + republican, \n",
              "    random = ~1 | Page.Name.fac, data = final_pages_all_nona_st, \n",
              "    family = zi.negative.binomial(), zi_fixed = ~1, max_coef_value = 100)\n",
              "\n",
              "Data Descriptives:\n",
              "Number of Observations: 13955869\n",
              "Number of Groups: 1493 \n",
              "\n",
              "Model:\n",
              " family: zero-inflated negative binomial\n",
              " link: log \n",
              "\n",
              "Fit statistics:\n",
              "   log.Lik       AIC       BIC\n",
              " -55522733 111045481 111045518\n",
              "\n",
              "Random effects covariance matrix:\n",
              "              StdDev\n",
              "(Intercept) 1.804929\n",
              "\n",
              "Fixed effects:\n",
              "             Estimate Std.Err  z-value    p-value\n",
              "(Intercept)    5.3026  0.0981  54.0295    < 1e-04\n",
              "sentistr_std   0.0021  0.0006   3.4485 0.00056378\n",
              "insult_std     0.0924  0.0006 152.5972    < 1e-04\n",
              "republican     0.3550  0.1118   3.1756 0.00149544\n",
              "\n",
              "Zero-part coefficients:\n",
              "            Estimate Std.Err z-value p-value\n",
              "(Intercept) -16.9612  3.0232 -5.6104 < 1e-04\n",
              "\n",
              "log(dispersion) parameter:\n",
              "  Estimate Std.Err\n",
              "   -1.3057   4e-04\n",
              "\n",
              "Integration:\n",
              "method: adaptive Gauss-Hermite quadrature rule\n",
              "quadrature points: 11\n",
              "\n",
              "Optimization:\n",
              "method: EM\n",
              "converged: TRUE "
            ]
          },
          "metadata": {}
        }
      ]
    },
    {
      "cell_type": "code",
      "metadata": {
        "id": "FjuqngYUr-CS",
        "colab": {
          "base_uri": "https://localhost:8080/",
          "height": 306
        },
        "outputId": "45a7ad8b-4ac2-448c-bf4a-15ff54f04bcc"
      },
      "source": [
        "# interaction\n",
        "install.packages(\"GLMMadaptive\")\n",
        "library(GLMMadaptive)\n",
        "\n",
        "system.time( m2_Shares_int_std <- mixed_model(fixed = Shares ~ sentistr_std*republican + insult_std*republican , random = ~ 1|Page.Name.fac, zi_fixed =  ~ 1,  family = zi.negative.binomial(), data=final_pages_all_nona_st , max_coef_value = 100 ))\n"
      ],
      "execution_count": null,
      "outputs": [
        {
          "output_type": "stream",
          "name": "stderr",
          "text": [
            "Installing package into ‘/usr/local/lib/R/site-library’\n",
            "(as ‘lib’ is unspecified)\n",
            "\n",
            "also installing the dependency ‘matrixStats’\n",
            "\n",
            "\n",
            "\n",
            "Attaching package: ‘GLMMadaptive’\n",
            "\n",
            "\n",
            "The following object is masked from ‘package:MASS’:\n",
            "\n",
            "    negative.binomial\n",
            "\n",
            "\n"
          ]
        },
        {
          "output_type": "display_data",
          "data": {
            "text/plain": [
              "    user   system  elapsed \n",
              "6464.611  374.579 6843.395 "
            ]
          },
          "metadata": {}
        }
      ]
    },
    {
      "cell_type": "code",
      "metadata": {
        "id": "qheSJUVur95S",
        "colab": {
          "base_uri": "https://localhost:8080/",
          "height": 799
        },
        "outputId": "eaf54ada-6c8c-4430-f36d-4bd6ea2e1caf"
      },
      "source": [
        "summary(m2_Shares_int_std)"
      ],
      "execution_count": null,
      "outputs": [
        {
          "output_type": "display_data",
          "data": {
            "text/plain": [
              "\n",
              "Call:\n",
              "mixed_model(fixed = Shares ~ sentistr_std * republican + insult_std * \n",
              "    republican, random = ~1 | Page.Name.fac, data = final_pages_all_nona_st, \n",
              "    family = zi.negative.binomial(), zi_fixed = ~1, max_coef_value = 100)\n",
              "\n",
              "Data Descriptives:\n",
              "Number of Observations: 13955869\n",
              "Number of Groups: 1493 \n",
              "\n",
              "Model:\n",
              " family: zero-inflated negative binomial\n",
              " link: log \n",
              "\n",
              "Fit statistics:\n",
              "   log.Lik       AIC       BIC\n",
              " -57572567 115145151 115145199\n",
              "\n",
              "Random effects covariance matrix:\n",
              "              StdDev\n",
              "(Intercept) 1.796965\n",
              "\n",
              "Fixed effects:\n",
              "                        Estimate Std.Err  z-value   p-value\n",
              "(Intercept)               5.3258  0.0971  54.8565  < 0.0001\n",
              "sentistr_std              0.0131  0.0008  16.3839  < 0.0001\n",
              "republican                0.3077  0.1083   2.8420 0.0044825\n",
              "insult_std                0.0952  0.0008 113.6248  < 0.0001\n",
              "sentistr_std:republican  -0.0131  0.0012 -10.9838  < 0.0001\n",
              "republican:insult_std    -0.0018  0.0012  -1.4744 0.1403824\n",
              "\n",
              "Zero-part coefficients:\n",
              "            Estimate Std.Err z-value  p-value\n",
              "(Intercept)  -16.983   2.934 -5.7883 < 0.0001\n",
              "\n",
              "log(dispersion) parameter:\n",
              "  Estimate Std.Err\n",
              "   -1.2867  0.0004\n",
              "\n",
              "Integration:\n",
              "method: adaptive Gauss-Hermite quadrature rule\n",
              "quadrature points: 11\n",
              "\n",
              "Optimization:\n",
              "method: EM\n",
              "converged: TRUE "
            ]
          },
          "metadata": {}
        }
      ]
    },
    {
      "cell_type": "code",
      "metadata": {
        "id": "rlDR3Ya0r99j"
      },
      "source": [
        "saveRDS(m2_Shares_int_std, \"m2_Shares_int_std.rds\")\n"
      ],
      "execution_count": null,
      "outputs": []
    },
    {
      "cell_type": "code",
      "metadata": {
        "id": "_YTNZahFr9z-"
      },
      "source": [
        ""
      ],
      "execution_count": null,
      "outputs": []
    },
    {
      "cell_type": "markdown",
      "metadata": {
        "id": "wKPYJYZyk8gA"
      },
      "source": [
        "## Angry"
      ]
    },
    {
      "cell_type": "code",
      "metadata": {
        "id": "w09vcOnaslK1",
        "colab": {
          "base_uri": "https://localhost:8080/",
          "height": 51
        },
        "outputId": "4993c495-89c2-451b-b45a-472c4148d88f"
      },
      "source": [
        "### interaction\n",
        "system.time( m2_Angry_int_std <- mixed_model(fixed = Angry ~ sentistr_std*republican + insult_std*republican , random = ~ 1|Page.Name.fac, zi_fixed =  ~ 1,  family = zi.negative.binomial(), data=final_pages_react_nona_st , max_coef_value = 100 ))\n"
      ],
      "execution_count": null,
      "outputs": [
        {
          "output_type": "display_data",
          "data": {
            "text/plain": [
              "    user   system  elapsed \n",
              "7788.435  476.191 8271.169 "
            ]
          },
          "metadata": {}
        }
      ]
    },
    {
      "cell_type": "code",
      "metadata": {
        "id": "MoJsCfBpslEK",
        "colab": {
          "base_uri": "https://localhost:8080/",
          "height": 799
        },
        "outputId": "7e2535cb-9ea9-47f7-eed7-908a7ea52841"
      },
      "source": [
        "summary(m2_Angry_int_std)"
      ],
      "execution_count": null,
      "outputs": [
        {
          "output_type": "display_data",
          "data": {
            "text/plain": [
              "\n",
              "Call:\n",
              "mixed_model(fixed = Angry ~ sentistr_std * republican + insult_std * \n",
              "    republican, random = ~1 | Page.Name.fac, data = final_pages_react_nona_st, \n",
              "    family = zi.negative.binomial(), zi_fixed = ~1, max_coef_value = 100)\n",
              "\n",
              "Data Descriptives:\n",
              "Number of Observations: 10991537\n",
              "Number of Groups: 1491 \n",
              "\n",
              "Model:\n",
              " family: zero-inflated negative binomial\n",
              " link: log \n",
              "\n",
              "Fit statistics:\n",
              "   log.Lik      AIC      BIC\n",
              " -30787577 61575171 61575219\n",
              "\n",
              "Random effects covariance matrix:\n",
              "              StdDev\n",
              "(Intercept) 1.850032\n",
              "\n",
              "Fixed effects:\n",
              "                        Estimate Std.Err   z-value  p-value\n",
              "(Intercept)               4.0898  0.1699   24.0777 < 0.0001\n",
              "sentistr_std             -0.2950  0.0013 -221.9586 < 0.0001\n",
              "republican               -0.6239  0.1011   -6.1698 < 0.0001\n",
              "insult_std                0.1375  0.0013  107.0786 < 0.0001\n",
              "sentistr_std:republican  -0.0359  0.0018  -20.2451 < 0.0001\n",
              "republican:insult_std     0.0523  0.0018   29.4608 < 0.0001\n",
              "\n",
              "Zero-part coefficients:\n",
              "            Estimate Std.Err z-value   p-value\n",
              "(Intercept) -16.7726  5.4664 -3.0683 0.0021528\n",
              "\n",
              "log(dispersion) parameter:\n",
              "  Estimate Std.Err\n",
              "   -1.8105  0.0005\n",
              "\n",
              "Integration:\n",
              "method: adaptive Gauss-Hermite quadrature rule\n",
              "quadrature points: 11\n",
              "\n",
              "Optimization:\n",
              "method: EM\n",
              "converged: TRUE "
            ]
          },
          "metadata": {}
        }
      ]
    },
    {
      "cell_type": "code",
      "metadata": {
        "id": "a2PZE0ATslHe"
      },
      "source": [
        "saveRDS(m2_Angry_int_std, \"m2_Angry_int_std.rds\")\n"
      ],
      "execution_count": null,
      "outputs": []
    },
    {
      "cell_type": "code",
      "metadata": {
        "id": "xNx3fNJGslA8"
      },
      "source": [
        ""
      ],
      "execution_count": null,
      "outputs": []
    },
    {
      "cell_type": "code",
      "metadata": {
        "id": "KAOtAbbslFJZ",
        "colab": {
          "base_uri": "https://localhost:8080/",
          "height": 51
        },
        "outputId": "8aa54bd4-3b0d-4c8b-a666-030c258cb047"
      },
      "source": [
        "system.time( m2_Angry_senti_main_std <- mixed_model(fixed = Angry ~ sentistr_std + republican , random = ~ 1|Page.Name.fac, zi_fixed =  ~ 1,  family = zi.negative.binomial(), data=final_pages_react_nona_st , max_coef_value = 100 ))\n"
      ],
      "execution_count": null,
      "outputs": [
        {
          "output_type": "display_data",
          "data": {
            "text/plain": [
              "    user   system  elapsed \n",
              "5650.158  215.321 5867.348 "
            ]
          },
          "metadata": {}
        }
      ]
    },
    {
      "cell_type": "code",
      "metadata": {
        "id": "K7wdK2PilFqp",
        "colab": {
          "base_uri": "https://localhost:8080/",
          "height": 748
        },
        "outputId": "c7bdf49d-6eb7-48bb-a263-1f267ffac822"
      },
      "source": [
        "summary(m2_Angry_senti_main_std)\n"
      ],
      "execution_count": null,
      "outputs": [
        {
          "output_type": "display_data",
          "data": {
            "text/plain": [
              "\n",
              "Call:\n",
              "mixed_model(fixed = Angry ~ sentistr_std + republican, random = ~1 | \n",
              "    Page.Name.fac, data = final_pages_react_nona_st, family = zi.negative.binomial(), \n",
              "    zi_fixed = ~1, max_coef_value = 100)\n",
              "\n",
              "Data Descriptives:\n",
              "Number of Observations: 10991537\n",
              "Number of Groups: 1491 \n",
              "\n",
              "Model:\n",
              " family: zero-inflated negative binomial\n",
              " link: log \n",
              "\n",
              "Fit statistics:\n",
              "   log.Lik      AIC      BIC\n",
              " -30225470 60450953 60450985\n",
              "\n",
              "Random effects covariance matrix:\n",
              "              StdDev\n",
              "(Intercept) 1.860719\n",
              "\n",
              "Fixed effects:\n",
              "             Estimate Std.Err   z-value  p-value\n",
              "(Intercept)    4.1224  0.1761   23.4096 < 0.0001\n",
              "sentistr_std  -0.3550  0.0009 -414.0627 < 0.0001\n",
              "republican    -0.6550  0.1028   -6.3700 < 0.0001\n",
              "\n",
              "Zero-part coefficients:\n",
              "            Estimate Std.Err z-value   p-value\n",
              "(Intercept)  -16.559  5.0756 -3.2625 0.0011044\n",
              "\n",
              "log(dispersion) parameter:\n",
              "  Estimate Std.Err\n",
              "   -1.8163  0.0005\n",
              "\n",
              "Integration:\n",
              "method: adaptive Gauss-Hermite quadrature rule\n",
              "quadrature points: 11\n",
              "\n",
              "Optimization:\n",
              "method: EM\n",
              "converged: TRUE "
            ]
          },
          "metadata": {}
        }
      ]
    },
    {
      "cell_type": "code",
      "metadata": {
        "id": "3l-ZKH8ElFnQ"
      },
      "source": [
        "saveRDS(m2_Angry_senti_main_std, \"m2_Angry_senti_main_std.rds\")\n"
      ],
      "execution_count": null,
      "outputs": []
    },
    {
      "cell_type": "code",
      "metadata": {
        "id": "9E0JyhqMlFgV",
        "colab": {
          "base_uri": "https://localhost:8080/",
          "height": 51
        },
        "outputId": "4ae63e27-29d3-407c-9ab1-baad0983abca"
      },
      "source": [
        "system.time( m2_Angry_inciv_main_std <- mixed_model(fixed = Angry ~ insult_std + republican , random = ~ 1|Page.Name.fac, zi_fixed =  ~ 1,  family = zi.negative.binomial(), data=final_pages_react_nona_st , max_coef_value = 100 ))\n"
      ],
      "execution_count": null,
      "outputs": [
        {
          "output_type": "display_data",
          "data": {
            "text/plain": [
              "    user   system  elapsed \n",
              "5685.662  266.616 5953.732 "
            ]
          },
          "metadata": {}
        }
      ]
    },
    {
      "cell_type": "code",
      "metadata": {
        "id": "HM4j_irplGJB"
      },
      "source": [
        "saveRDS(m2_Angry_inciv_main_std, \"m2_Angry_inciv_main_std.rds\")\n"
      ],
      "execution_count": null,
      "outputs": []
    },
    {
      "cell_type": "code",
      "metadata": {
        "id": "AkaEq0GWlGE8",
        "colab": {
          "base_uri": "https://localhost:8080/",
          "height": 748
        },
        "outputId": "f4b160bc-8925-4297-8ad9-0286c3358294"
      },
      "source": [
        "summary(m2_Angry_inciv_main_std)\n"
      ],
      "execution_count": null,
      "outputs": [
        {
          "output_type": "display_data",
          "data": {
            "text/plain": [
              "\n",
              "Call:\n",
              "mixed_model(fixed = Angry ~ insult_std + republican, random = ~1 | \n",
              "    Page.Name.fac, data = final_pages_react_nona_st, family = zi.negative.binomial(), \n",
              "    zi_fixed = ~1, max_coef_value = 100)\n",
              "\n",
              "Data Descriptives:\n",
              "Number of Observations: 10991537\n",
              "Number of Groups: 1491 \n",
              "\n",
              "Model:\n",
              " family: zero-inflated negative binomial\n",
              " link: log \n",
              "\n",
              "Fit statistics:\n",
              "   log.Lik      AIC      BIC\n",
              " -30779569 61559149 61559181\n",
              "\n",
              "Random effects covariance matrix:\n",
              "              StdDev\n",
              "(Intercept) 1.843384\n",
              "\n",
              "Fixed effects:\n",
              "            Estimate Std.Err  z-value  p-value\n",
              "(Intercept)   4.1348  0.1650  25.0602 < 0.0001\n",
              "insult_std    0.2399  0.0009 273.8458 < 0.0001\n",
              "republican   -0.6581  0.1008  -6.5256 < 0.0001\n",
              "\n",
              "Zero-part coefficients:\n",
              "            Estimate Std.Err z-value   p-value\n",
              "(Intercept) -16.5036  4.9958 -3.3035 0.0009549\n",
              "\n",
              "log(dispersion) parameter:\n",
              "  Estimate Std.Err\n",
              "   -1.8257  0.0005\n",
              "\n",
              "Integration:\n",
              "method: adaptive Gauss-Hermite quadrature rule\n",
              "quadrature points: 11\n",
              "\n",
              "Optimization:\n",
              "method: EM\n",
              "converged: TRUE "
            ]
          },
          "metadata": {}
        }
      ]
    },
    {
      "cell_type": "code",
      "metadata": {
        "id": "QsvKSvf2lGtM",
        "colab": {
          "base_uri": "https://localhost:8080/",
          "height": 51
        },
        "outputId": "d2358ad2-2d9c-4d29-a7d3-5f24dd7e9331"
      },
      "source": [
        "system.time( m2_Angry_main_std_comp <- mixed_model(fixed = Angry ~ sentistr_std + insult_std + republican , random = ~ 1|Page.Name.fac, zi_fixed =  ~ 1,  family = zi.negative.binomial(), data=final_pages_react_nona_st , max_coef_value = 100 ))\n"
      ],
      "execution_count": null,
      "outputs": [
        {
          "output_type": "display_data",
          "data": {
            "text/plain": [
              "    user   system  elapsed \n",
              "6436.908  351.487 6790.062 "
            ]
          },
          "metadata": {}
        }
      ]
    },
    {
      "cell_type": "code",
      "metadata": {
        "id": "N-uo_qcUlGqO"
      },
      "source": [
        "saveRDS(m2_Angry_main_std_comp, \"m2_Angry_main_std_comp.rds\")\n"
      ],
      "execution_count": null,
      "outputs": []
    },
    {
      "cell_type": "code",
      "metadata": {
        "id": "pTouOUywlGnI",
        "colab": {
          "base_uri": "https://localhost:8080/",
          "height": 765
        },
        "outputId": "81d0070f-1eff-41b1-8998-5ce49105da20"
      },
      "source": [
        "summary(m2_Angry_main_std_comp)"
      ],
      "execution_count": null,
      "outputs": [
        {
          "output_type": "display_data",
          "data": {
            "text/plain": [
              "\n",
              "Call:\n",
              "mixed_model(fixed = Angry ~ sentistr_std + insult_std + republican, \n",
              "    random = ~1 | Page.Name.fac, data = final_pages_react_nona_st, \n",
              "    family = zi.negative.binomial(), zi_fixed = ~1, max_coef_value = 100)\n",
              "\n",
              "Data Descriptives:\n",
              "Number of Observations: 10991537\n",
              "Number of Groups: 1491 \n",
              "\n",
              "Model:\n",
              " family: zero-inflated negative binomial\n",
              " link: log \n",
              "\n",
              "Fit statistics:\n",
              "   log.Lik      AIC      BIC\n",
              " -30510505 61021024 61021061\n",
              "\n",
              "Random effects covariance matrix:\n",
              "              StdDev\n",
              "(Intercept) 1.848422\n",
              "\n",
              "Fixed effects:\n",
              "             Estimate Std.Err   z-value  p-value\n",
              "(Intercept)    4.0931  0.1702   24.0427 < 0.0001\n",
              "sentistr_std  -0.3129  0.0009 -354.3483 < 0.0001\n",
              "insult_std     0.1662  0.0009  186.7501 < 0.0001\n",
              "republican    -0.6348  0.1013   -6.2642 < 0.0001\n",
              "\n",
              "Zero-part coefficients:\n",
              "            Estimate Std.Err z-value   p-value\n",
              "(Intercept) -16.7456  5.4709 -3.0609 0.0022071\n",
              "\n",
              "log(dispersion) parameter:\n",
              "  Estimate Std.Err\n",
              "    -1.811  0.0005\n",
              "\n",
              "Integration:\n",
              "method: adaptive Gauss-Hermite quadrature rule\n",
              "quadrature points: 11\n",
              "\n",
              "Optimization:\n",
              "method: EM\n",
              "converged: TRUE "
            ]
          },
          "metadata": {}
        }
      ]
    },
    {
      "cell_type": "markdown",
      "metadata": {
        "id": "ZO7AiLj8lHM6"
      },
      "source": [
        "## Love"
      ]
    },
    {
      "cell_type": "code",
      "metadata": {
        "colab": {
          "base_uri": "https://localhost:8080/",
          "height": 51
        },
        "id": "0JkPTcSXHbiT",
        "outputId": "31fa0b13-4479-4b24-d906-cba0ce7d74de"
      },
      "source": [
        "# re-download\n",
        "\n",
        "system.time( m2_Love_int_std <- mixed_model(fixed = Love ~ sentistr_std*republican + insult_std*republican , random = ~ 1|Page.Name.fac, zi_fixed =  ~ 1,  family = zi.negative.binomial(), data=final_pages_react_nona_st , max_coef_value = 100 ))\n"
      ],
      "execution_count": null,
      "outputs": [
        {
          "output_type": "display_data",
          "data": {
            "text/plain": [
              "    user   system  elapsed \n",
              "7111.309  252.750 7370.281 "
            ]
          },
          "metadata": {}
        }
      ]
    },
    {
      "cell_type": "code",
      "metadata": {
        "id": "CroKSlwNHba1"
      },
      "source": [
        "saveRDS(m2_Love_int_std, \"m2_Love_int_std.rds\")\n"
      ],
      "execution_count": null,
      "outputs": []
    },
    {
      "cell_type": "code",
      "metadata": {
        "colab": {
          "base_uri": "https://localhost:8080/",
          "height": 799
        },
        "id": "CTQ35BGaHbe7",
        "outputId": "5c895017-2450-4d26-fa8c-bfddc23bc87c"
      },
      "source": [
        "summary(m2_Love_int_std)\n"
      ],
      "execution_count": null,
      "outputs": [
        {
          "output_type": "display_data",
          "data": {
            "text/plain": [
              "\n",
              "Call:\n",
              "mixed_model(fixed = Love ~ sentistr_std * republican + insult_std * \n",
              "    republican, random = ~1 | Page.Name.fac, data = final_pages_react_nona_st, \n",
              "    family = zi.negative.binomial(), zi_fixed = ~1, max_coef_value = 100)\n",
              "\n",
              "Data Descriptives:\n",
              "Number of Observations: 10991537\n",
              "Number of Groups: 1491 \n",
              "\n",
              "Model:\n",
              " family: zero-inflated negative binomial\n",
              " link: log \n",
              "\n",
              "Fit statistics:\n",
              "   log.Lik      AIC      BIC\n",
              " -29456876 58913771 58913818\n",
              "\n",
              "Random effects covariance matrix:\n",
              "              StdDev\n",
              "(Intercept) 1.718542\n",
              "\n",
              "Fixed effects:\n",
              "                        Estimate Std.Err  z-value  p-value\n",
              "(Intercept)               3.7072  0.1156  32.0674 < 0.0001\n",
              "sentistr_std              0.2345  0.0011 209.9628 < 0.0001\n",
              "republican               -0.8702  0.0971  -8.9630 < 0.0001\n",
              "insult_std                0.0360  0.0011  33.2185 < 0.0001\n",
              "sentistr_std:republican   0.0183  0.0015  12.5874 < 0.0001\n",
              "republican:insult_std    -0.0419  0.0015 -27.7256 < 0.0001\n",
              "\n",
              "Zero-part coefficients:\n",
              "            Estimate Std.Err z-value    p-value\n",
              "(Intercept) -17.0282  4.7332 -3.5976 0.00032119\n",
              "\n",
              "log(dispersion) parameter:\n",
              "  Estimate Std.Err\n",
              "   -1.5458  0.0005\n",
              "\n",
              "Integration:\n",
              "method: adaptive Gauss-Hermite quadrature rule\n",
              "quadrature points: 11\n",
              "\n",
              "Optimization:\n",
              "method: EM\n",
              "converged: TRUE "
            ]
          },
          "metadata": {}
        }
      ]
    },
    {
      "cell_type": "code",
      "metadata": {
        "id": "aY7KlNDqHbVR"
      },
      "source": [
        ""
      ],
      "execution_count": null,
      "outputs": []
    },
    {
      "cell_type": "code",
      "metadata": {
        "id": "hn-HWPxelJFe",
        "colab": {
          "base_uri": "https://localhost:8080/",
          "height": 51
        },
        "outputId": "058a0723-7143-4934-ef62-f952afc19f70"
      },
      "source": [
        "system.time( m2_Love_senti_main_std <- mixed_model(fixed = Love ~ sentistr_std + republican , random = ~ 1|Page.Name.fac, zi_fixed =  ~ 1,  family = zi.negative.binomial(), data=final_pages_react_nona_st , max_coef_value = 100 ))\n"
      ],
      "execution_count": null,
      "outputs": [
        {
          "output_type": "display_data",
          "data": {
            "text/plain": [
              "    user   system  elapsed \n",
              "5389.251  287.729 5677.957 "
            ]
          },
          "metadata": {}
        }
      ]
    },
    {
      "cell_type": "code",
      "metadata": {
        "id": "Ys_RaEqvlJSt",
        "colab": {
          "base_uri": "https://localhost:8080/",
          "height": 748
        },
        "outputId": "59eb475e-5a8b-4fa8-95a5-177da92645d7"
      },
      "source": [
        "summary(m2_Love_senti_main_std)\n"
      ],
      "execution_count": null,
      "outputs": [
        {
          "output_type": "display_data",
          "data": {
            "text/plain": [
              "\n",
              "Call:\n",
              "mixed_model(fixed = Love ~ sentistr_std + republican, random = ~1 | \n",
              "    Page.Name.fac, data = final_pages_react_nona_st, family = zi.negative.binomial(), \n",
              "    zi_fixed = ~1, max_coef_value = 100)\n",
              "\n",
              "Data Descriptives:\n",
              "Number of Observations: 10991537\n",
              "Number of Groups: 1491 \n",
              "\n",
              "Model:\n",
              " family: zero-inflated negative binomial\n",
              " link: log \n",
              "\n",
              "Fit statistics:\n",
              "   log.Lik      AIC      BIC\n",
              " -28933565 57867143 57867174\n",
              "\n",
              "Random effects covariance matrix:\n",
              "              StdDev\n",
              "(Intercept) 1.726513\n",
              "\n",
              "Fixed effects:\n",
              "             Estimate Std.Err  z-value  p-value\n",
              "(Intercept)    3.7149  0.1188  31.2758 < 0.0001\n",
              "sentistr_std   0.2409  0.0007 349.7260 < 0.0001\n",
              "republican    -0.8570  0.0974  -8.8015 < 0.0001\n",
              "\n",
              "Zero-part coefficients:\n",
              "            Estimate Std.Err z-value    p-value\n",
              "(Intercept) -17.0024  4.7582 -3.5733 0.00035251\n",
              "\n",
              "log(dispersion) parameter:\n",
              "  Estimate Std.Err\n",
              "   -1.5505  0.0005\n",
              "\n",
              "Integration:\n",
              "method: adaptive Gauss-Hermite quadrature rule\n",
              "quadrature points: 11\n",
              "\n",
              "Optimization:\n",
              "method: EM\n",
              "converged: TRUE "
            ]
          },
          "metadata": {}
        }
      ]
    },
    {
      "cell_type": "code",
      "metadata": {
        "id": "N8SmbzTklKFB"
      },
      "source": [
        "saveRDS(m2_Love_senti_main_std, \"m2_Love_senti_main_std.rds\")\n"
      ],
      "execution_count": null,
      "outputs": []
    },
    {
      "cell_type": "code",
      "metadata": {
        "id": "A54vDKRclJ9q",
        "colab": {
          "base_uri": "https://localhost:8080/",
          "height": 51
        },
        "outputId": "d1aec9b5-357d-4cf0-f0e7-6aa9534ae4bf"
      },
      "source": [
        "system.time( m2_Love_inciv_main_std <- mixed_model(fixed = Love ~ insult_std + republican , random = ~ 1|Page.Name.fac, zi_fixed =  ~ 1,  family = zi.negative.binomial(), data=final_pages_react_nona_st , max_coef_value = 100 ))\n"
      ],
      "execution_count": null,
      "outputs": [
        {
          "output_type": "display_data",
          "data": {
            "text/plain": [
              "    user   system  elapsed \n",
              "5286.325  291.957 5579.281 "
            ]
          },
          "metadata": {}
        }
      ]
    },
    {
      "cell_type": "code",
      "metadata": {
        "id": "sl5TictWlJ5M"
      },
      "source": [
        "saveRDS(m2_Love_inciv_main_std, \"m2_Love_inciv_main_std.rds\")\n"
      ],
      "execution_count": null,
      "outputs": []
    },
    {
      "cell_type": "code",
      "metadata": {
        "id": "ppfswsyulJz2",
        "colab": {
          "base_uri": "https://localhost:8080/",
          "height": 748
        },
        "outputId": "eb17d0da-354c-4388-c12f-4cc43c87ff69"
      },
      "source": [
        "summary(m2_Love_inciv_main_std)\n"
      ],
      "execution_count": null,
      "outputs": [
        {
          "output_type": "display_data",
          "data": {
            "text/plain": [
              "\n",
              "Call:\n",
              "mixed_model(fixed = Love ~ insult_std + republican, random = ~1 | \n",
              "    Page.Name.fac, data = final_pages_react_nona_st, family = zi.negative.binomial(), \n",
              "    zi_fixed = ~1, max_coef_value = 100)\n",
              "\n",
              "Data Descriptives:\n",
              "Number of Observations: 10991537\n",
              "Number of Groups: 1491 \n",
              "\n",
              "Model:\n",
              " family: zero-inflated negative binomial\n",
              " link: log \n",
              "\n",
              "Fit statistics:\n",
              "   log.Lik      AIC      BIC\n",
              " -28151043 56302097 56302129\n",
              "\n",
              "Random effects covariance matrix:\n",
              "              StdDev\n",
              "(Intercept) 1.754047\n",
              "\n",
              "Fixed effects:\n",
              "            Estimate Std.Err  z-value  p-value\n",
              "(Intercept)   3.7660  0.1255  30.0123 < 0.0001\n",
              "insult_std   -0.0559  0.0007 -75.9386 < 0.0001\n",
              "republican   -0.8460  0.1001  -8.4515 < 0.0001\n",
              "\n",
              "Zero-part coefficients:\n",
              "            Estimate Std.Err z-value    p-value\n",
              "(Intercept) -16.8889  4.6859 -3.6042 0.00031308\n",
              "\n",
              "log(dispersion) parameter:\n",
              "  Estimate Std.Err\n",
              "   -1.5715  0.0005\n",
              "\n",
              "Integration:\n",
              "method: adaptive Gauss-Hermite quadrature rule\n",
              "quadrature points: 11\n",
              "\n",
              "Optimization:\n",
              "method: EM\n",
              "converged: TRUE "
            ]
          },
          "metadata": {}
        }
      ]
    },
    {
      "cell_type": "code",
      "metadata": {
        "id": "PV9qDfYFlK15",
        "colab": {
          "base_uri": "https://localhost:8080/",
          "height": 51
        },
        "outputId": "f0780f5a-cb40-4e2b-ab35-7c66da54a499"
      },
      "source": [
        "system.time( m2_Love_main_std_comp <- mixed_model(fixed = Love ~ sentistr_std + insult_std + republican , random = ~ 1|Page.Name.fac, zi_fixed =  ~ 1,  family = zi.negative.binomial(), data=final_pages_react_nona_st , max_coef_value = 100 ))\n"
      ],
      "execution_count": null,
      "outputs": [
        {
          "output_type": "display_data",
          "data": {
            "text/plain": [
              "    user   system  elapsed \n",
              "6061.458  344.010 6406.970 "
            ]
          },
          "metadata": {}
        }
      ]
    },
    {
      "cell_type": "code",
      "metadata": {
        "id": "89W-UZg5lKyM"
      },
      "source": [
        "saveRDS(m2_Love_main_std_comp, \"m2_Love_main_std_comp.rds\")\n"
      ],
      "execution_count": null,
      "outputs": []
    },
    {
      "cell_type": "code",
      "metadata": {
        "id": "P448Wa0-lKud",
        "colab": {
          "base_uri": "https://localhost:8080/",
          "height": 765
        },
        "outputId": "40ff8616-9e37-4432-9988-09f153ed82d9"
      },
      "source": [
        "summary(m2_Love_main_std_comp)"
      ],
      "execution_count": null,
      "outputs": [
        {
          "output_type": "display_data",
          "data": {
            "text/plain": [
              "\n",
              "Call:\n",
              "mixed_model(fixed = Love ~ sentistr_std + insult_std + republican, \n",
              "    random = ~1 | Page.Name.fac, data = final_pages_react_nona_st, \n",
              "    family = zi.negative.binomial(), zi_fixed = ~1, max_coef_value = 100)\n",
              "\n",
              "Data Descriptives:\n",
              "Number of Observations: 10991537\n",
              "Number of Groups: 1491 \n",
              "\n",
              "Model:\n",
              " family: zero-inflated negative binomial\n",
              " link: log \n",
              "\n",
              "Fit statistics:\n",
              "   log.Lik      AIC      BIC\n",
              " -29310553 58621120 58621157\n",
              "\n",
              "Random effects covariance matrix:\n",
              "              StdDev\n",
              "(Intercept) 1.722126\n",
              "\n",
              "Fixed effects:\n",
              "             Estimate Std.Err  z-value  p-value\n",
              "(Intercept)    3.7080  0.1165  31.8337 < 0.0001\n",
              "sentistr_std   0.2446  0.0007 342.2426 < 0.0001\n",
              "insult_std     0.0155  0.0008  20.5608 < 0.0001\n",
              "republican    -0.8601  0.0971  -8.8616 < 0.0001\n",
              "\n",
              "Zero-part coefficients:\n",
              "            Estimate Std.Err z-value    p-value\n",
              "(Intercept) -17.0289  4.7407 -3.5921 0.00032803\n",
              "\n",
              "log(dispersion) parameter:\n",
              "  Estimate Std.Err\n",
              "   -1.5444  0.0005\n",
              "\n",
              "Integration:\n",
              "method: adaptive Gauss-Hermite quadrature rule\n",
              "quadrature points: 11\n",
              "\n",
              "Optimization:\n",
              "method: EM\n",
              "converged: TRUE "
            ]
          },
          "metadata": {}
        }
      ]
    },
    {
      "cell_type": "markdown",
      "metadata": {
        "id": "MxXlVVhQlOlA"
      },
      "source": [
        "## sad"
      ]
    },
    {
      "cell_type": "code",
      "metadata": {
        "colab": {
          "base_uri": "https://localhost:8080/",
          "height": 51
        },
        "id": "_mLgw--qH04-",
        "outputId": "0921adc5-7412-4a7f-ce74-e117659614c4"
      },
      "source": [
        "# re-download\n",
        "\n",
        "system.time( m2_Sad_int_std <- mixed_model(fixed = Sad ~ sentistr_std*republican + insult_std*republican , random = ~ 1|Page.Name.fac, zi_fixed =  ~ 1,  family = zi.negative.binomial(), data=final_pages_react_nona_st , max_coef_value = 100 ))\n"
      ],
      "execution_count": null,
      "outputs": [
        {
          "data": {
            "text/plain": [
              "    user   system  elapsed \n",
              "8783.781  462.025 9250.719 "
            ]
          },
          "metadata": {},
          "output_type": "display_data"
        }
      ]
    },
    {
      "cell_type": "code",
      "metadata": {
        "id": "DhSCo-wkH0sP"
      },
      "source": [
        "saveRDS(m2_Sad_int_std, \"m2_Sad_int_std.rds\")\n"
      ],
      "execution_count": null,
      "outputs": []
    },
    {
      "cell_type": "code",
      "metadata": {
        "colab": {
          "base_uri": "https://localhost:8080/",
          "height": 799
        },
        "id": "4wsQZ9AiH0yY",
        "outputId": "2ffc85a5-c1f6-4c39-c052-077b51210b0d"
      },
      "source": [
        "summary(m2_Sad_int_std)\n"
      ],
      "execution_count": null,
      "outputs": [
        {
          "output_type": "display_data",
          "data": {
            "text/plain": [
              "\n",
              "Call:\n",
              "mixed_model(fixed = Sad ~ sentistr_std * republican + insult_std * \n",
              "    republican, random = ~1 | Page.Name.fac, data = final_pages_react_nona_st, \n",
              "    family = zi.negative.binomial(), zi_fixed = ~1, max_coef_value = 100)\n",
              "\n",
              "Data Descriptives:\n",
              "Number of Observations: 10991537\n",
              "Number of Groups: 1491 \n",
              "\n",
              "Model:\n",
              " family: zero-inflated negative binomial\n",
              " link: log \n",
              "\n",
              "Fit statistics:\n",
              "   log.Lik      AIC      BIC\n",
              " -21946437 43892892 43892939\n",
              "\n",
              "Random effects covariance matrix:\n",
              "              StdDev\n",
              "(Intercept) 1.701546\n",
              "\n",
              "Fixed effects:\n",
              "                        Estimate Std.Err   z-value  p-value\n",
              "(Intercept)               2.8688  0.1298   22.0969 < 0.0001\n",
              "sentistr_std             -0.2851  0.0012 -233.4250 < 0.0001\n",
              "republican               -1.2710  0.1018  -12.4858 < 0.0001\n",
              "insult_std                0.0395  0.0012   33.0175 < 0.0001\n",
              "sentistr_std:republican  -0.0518  0.0016  -32.2951 < 0.0001\n",
              "republican:insult_std    -0.0370  0.0017  -22.2656 < 0.0001\n",
              "\n",
              "Zero-part coefficients:\n",
              "            Estimate Std.Err z-value   p-value\n",
              "(Intercept)  -17.012  6.4788 -2.6258 0.0086444\n",
              "\n",
              "log(dispersion) parameter:\n",
              "  Estimate Std.Err\n",
              "   -1.7174  0.0006\n",
              "\n",
              "Integration:\n",
              "method: adaptive Gauss-Hermite quadrature rule\n",
              "quadrature points: 11\n",
              "\n",
              "Optimization:\n",
              "method: EM\n",
              "converged: TRUE "
            ]
          },
          "metadata": {}
        }
      ]
    },
    {
      "cell_type": "code",
      "metadata": {
        "id": "Q9k5gnDklQd6",
        "colab": {
          "base_uri": "https://localhost:8080/",
          "height": 51
        },
        "outputId": "a10ca747-2a28-4488-de21-50547af7e75e"
      },
      "source": [
        "system.time( m2_Sad_senti_main_std <- mixed_model(fixed = Sad ~ sentistr_std + republican , random = ~ 1|Page.Name.fac, zi_fixed =  ~ 1,  family = zi.negative.binomial(), data=final_pages_react_nona_st , max_coef_value = 100 ))\n"
      ],
      "execution_count": null,
      "outputs": [
        {
          "output_type": "display_data",
          "data": {
            "text/plain": [
              "    user   system  elapsed \n",
              "6488.345  455.294 6944.887 "
            ]
          },
          "metadata": {}
        }
      ]
    },
    {
      "cell_type": "code",
      "metadata": {
        "id": "c0vWsZemlRAO",
        "colab": {
          "base_uri": "https://localhost:8080/",
          "height": 748
        },
        "outputId": "2dac5cc0-19ec-4ed8-bc28-d745a5209595"
      },
      "source": [
        "summary(m2_Sad_senti_main_std)\n"
      ],
      "execution_count": null,
      "outputs": [
        {
          "output_type": "display_data",
          "data": {
            "text/plain": [
              "\n",
              "Call:\n",
              "mixed_model(fixed = Sad ~ sentistr_std + republican, random = ~1 | \n",
              "    Page.Name.fac, data = final_pages_react_nona_st, family = zi.negative.binomial(), \n",
              "    zi_fixed = ~1, max_coef_value = 100)\n",
              "\n",
              "Data Descriptives:\n",
              "Number of Observations: 10991537\n",
              "Number of Groups: 1491 \n",
              "\n",
              "Model:\n",
              " family: zero-inflated negative binomial\n",
              " link: log \n",
              "\n",
              "Fit statistics:\n",
              "   log.Lik      AIC      BIC\n",
              " -21947373 43894757 43894789\n",
              "\n",
              "Random effects covariance matrix:\n",
              "              StdDev\n",
              "(Intercept) 1.704808\n",
              "\n",
              "Fixed effects:\n",
              "             Estimate Std.Err   z-value  p-value\n",
              "(Intercept)    2.8704  0.1309   21.9260 < 0.0001\n",
              "sentistr_std  -0.3194  0.0008 -414.6136 < 0.0001\n",
              "republican    -1.2668  0.1020  -12.4185 < 0.0001\n",
              "\n",
              "Zero-part coefficients:\n",
              "            Estimate Std.Err z-value  p-value\n",
              "(Intercept) -17.0055  6.4657 -2.6301 0.008536\n",
              "\n",
              "log(dispersion) parameter:\n",
              "  Estimate Std.Err\n",
              "   -1.7177  0.0006\n",
              "\n",
              "Integration:\n",
              "method: adaptive Gauss-Hermite quadrature rule\n",
              "quadrature points: 11\n",
              "\n",
              "Optimization:\n",
              "method: EM\n",
              "converged: TRUE "
            ]
          },
          "metadata": {}
        }
      ]
    },
    {
      "cell_type": "code",
      "metadata": {
        "id": "Sy_kC_o7lQ9N"
      },
      "source": [
        "saveRDS(m2_Sad_senti_main_std, \"m2_Sad_senti_main_std.rds\")\n"
      ],
      "execution_count": null,
      "outputs": []
    },
    {
      "cell_type": "code",
      "metadata": {
        "id": "Jd1AEG4PlQ5E",
        "colab": {
          "base_uri": "https://localhost:8080/",
          "height": 51
        },
        "outputId": "72c6bf58-d24d-4292-fdb6-c3e666bc8518"
      },
      "source": [
        "system.time( m2_Sad_inciv_main_std <- mixed_model(fixed = Sad ~ insult_std + republican , random = ~ 1|Page.Name.fac, zi_fixed =  ~ 1,  family = zi.negative.binomial(), data=final_pages_react_nona_st , max_coef_value = 100 ))\n"
      ],
      "execution_count": null,
      "outputs": [
        {
          "output_type": "display_data",
          "data": {
            "text/plain": [
              "    user   system  elapsed \n",
              "6438.025  455.523 6895.058 "
            ]
          },
          "metadata": {}
        }
      ]
    },
    {
      "cell_type": "code",
      "metadata": {
        "id": "7KGYNSHGlQ1k"
      },
      "source": [
        "saveRDS(m2_Sad_inciv_main_std, \"m2_Sad_inciv_main_std.rds\")\n"
      ],
      "execution_count": null,
      "outputs": []
    },
    {
      "cell_type": "code",
      "metadata": {
        "id": "B0Hd4soElQyV",
        "colab": {
          "base_uri": "https://localhost:8080/",
          "height": 748
        },
        "outputId": "b09b45f0-5de2-4c4f-b725-015161d7a362"
      },
      "source": [
        "summary(m2_Sad_inciv_main_std)\n"
      ],
      "execution_count": null,
      "outputs": [
        {
          "output_type": "display_data",
          "data": {
            "text/plain": [
              "\n",
              "Call:\n",
              "mixed_model(fixed = Sad ~ insult_std + republican, random = ~1 | \n",
              "    Page.Name.fac, data = final_pages_react_nona_st, family = zi.negative.binomial(), \n",
              "    zi_fixed = ~1, max_coef_value = 100)\n",
              "\n",
              "Data Descriptives:\n",
              "Number of Observations: 10991537\n",
              "Number of Groups: 1491 \n",
              "\n",
              "Model:\n",
              " family: zero-inflated negative binomial\n",
              " link: log \n",
              "\n",
              "Fit statistics:\n",
              "   log.Lik      AIC      BIC\n",
              " -22026046 44052104 44052136\n",
              "\n",
              "Random effects covariance matrix:\n",
              "              StdDev\n",
              "(Intercept) 1.695546\n",
              "\n",
              "Fixed effects:\n",
              "            Estimate Std.Err  z-value  p-value\n",
              "(Intercept)   2.9122  0.1283  22.6959 < 0.0001\n",
              "insult_std    0.0980  0.0008 118.9467 < 0.0001\n",
              "republican   -1.2986  0.1015 -12.7926 < 0.0001\n",
              "\n",
              "Zero-part coefficients:\n",
              "            Estimate Std.Err z-value  p-value\n",
              "(Intercept) -17.6809  9.3168 -1.8977 0.057731\n",
              "\n",
              "log(dispersion) parameter:\n",
              "  Estimate Std.Err\n",
              "   -1.7426  0.0006\n",
              "\n",
              "Integration:\n",
              "method: adaptive Gauss-Hermite quadrature rule\n",
              "quadrature points: 11\n",
              "\n",
              "Optimization:\n",
              "method: EM\n",
              "converged: TRUE "
            ]
          },
          "metadata": {}
        }
      ]
    },
    {
      "cell_type": "code",
      "metadata": {
        "id": "dUatBNu_lQtz",
        "colab": {
          "base_uri": "https://localhost:8080/",
          "height": 51
        },
        "outputId": "3b89baf1-c6cc-4859-e4d1-f23a804e39a8"
      },
      "source": [
        "system.time( m2_Sad_main_std_comp <- mixed_model(fixed = Sad ~ sentistr_std + insult_std + republican , random = ~ 1|Page.Name.fac, zi_fixed =  ~ 1,  family = zi.negative.binomial(), data=final_pages_react_nona_st , max_coef_value = 100 ))\n"
      ],
      "execution_count": null,
      "outputs": [
        {
          "output_type": "display_data",
          "data": {
            "text/plain": [
              "    user   system  elapsed \n",
              "7028.460  448.554 7478.476 "
            ]
          },
          "metadata": {}
        }
      ]
    },
    {
      "cell_type": "code",
      "metadata": {
        "id": "qKuE8PqPlRw4"
      },
      "source": [
        "saveRDS(m2_Sad_main_std_comp, \"m2_Sad_main_std_comp.rds\")\n"
      ],
      "execution_count": null,
      "outputs": []
    },
    {
      "cell_type": "code",
      "metadata": {
        "id": "jmoaif62lRtf",
        "colab": {
          "base_uri": "https://localhost:8080/",
          "height": 765
        },
        "outputId": "3d1fdb31-1ecc-4300-9b2c-c5cf7e36378d"
      },
      "source": [
        "summary(m2_Sad_main_std_comp)"
      ],
      "execution_count": null,
      "outputs": [
        {
          "output_type": "display_data",
          "data": {
            "text/plain": [
              "\n",
              "Call:\n",
              "mixed_model(fixed = Sad ~ sentistr_std + insult_std + republican, \n",
              "    random = ~1 | Page.Name.fac, data = final_pages_react_nona_st, \n",
              "    family = zi.negative.binomial(), zi_fixed = ~1, max_coef_value = 100)\n",
              "\n",
              "Data Descriptives:\n",
              "Number of Observations: 10991537\n",
              "Number of Groups: 1491 \n",
              "\n",
              "Model:\n",
              " family: zero-inflated negative binomial\n",
              " link: log \n",
              "\n",
              "Fit statistics:\n",
              "   log.Lik      AIC      BIC\n",
              " -21947076 43894166 43894203\n",
              "\n",
              "Random effects covariance matrix:\n",
              "              StdDev\n",
              "(Intercept) 1.703117\n",
              "\n",
              "Fixed effects:\n",
              "             Estimate Std.Err   z-value  p-value\n",
              "(Intercept)    2.8690  0.1306   21.9759 < 0.0001\n",
              "sentistr_std  -0.3149  0.0008 -397.7230 < 0.0001\n",
              "insult_std     0.0201  0.0008   24.2467 < 0.0001\n",
              "republican    -1.2681  0.1019  -12.4426 < 0.0001\n",
              "\n",
              "Zero-part coefficients:\n",
              "            Estimate Std.Err z-value   p-value\n",
              "(Intercept) -17.0127  6.4776 -2.6264 0.0086294\n",
              "\n",
              "log(dispersion) parameter:\n",
              "  Estimate Std.Err\n",
              "   -1.7176  0.0006\n",
              "\n",
              "Integration:\n",
              "method: adaptive Gauss-Hermite quadrature rule\n",
              "quadrature points: 11\n",
              "\n",
              "Optimization:\n",
              "method: EM\n",
              "converged: TRUE "
            ]
          },
          "metadata": {}
        }
      ]
    },
    {
      "cell_type": "markdown",
      "metadata": {
        "id": "sUZa4zPqlSIJ"
      },
      "source": [
        "## haha"
      ]
    },
    {
      "cell_type": "code",
      "metadata": {
        "colab": {
          "base_uri": "https://localhost:8080/",
          "height": 51
        },
        "id": "bdKmB2osH-Us",
        "outputId": "f23f859c-aec2-4f58-acf0-8786d22dc7f1"
      },
      "source": [
        "# re-download\n",
        "\n",
        "system.time( m2_Haha_int_std <- mixed_model(fixed = Haha ~ sentistr_std*republican + insult_std*republican , random = ~ 1|Page.Name.fac, zi_fixed =  ~ 1,  family = zi.negative.binomial(), data=final_pages_react_nona_st , max_coef_value = 100 ))\n"
      ],
      "execution_count": null,
      "outputs": [
        {
          "data": {
            "text/plain": [
              "    user   system  elapsed \n",
              "7323.791  482.944 7810.968 "
            ]
          },
          "metadata": {},
          "output_type": "display_data"
        }
      ]
    },
    {
      "cell_type": "code",
      "metadata": {
        "id": "n8TfleLwH-2z"
      },
      "source": [
        "saveRDS(m2_Haha_int_std, \"m2_Haha_int_std.rds\")\n"
      ],
      "execution_count": null,
      "outputs": []
    },
    {
      "cell_type": "code",
      "metadata": {
        "colab": {
          "base_uri": "https://localhost:8080/",
          "height": 799
        },
        "id": "51yGGr5jH--J",
        "outputId": "c34c9ed4-05cf-456f-8c15-1a306a12ff08"
      },
      "source": [
        "summary(m2_Haha_int_std)\n"
      ],
      "execution_count": null,
      "outputs": [
        {
          "output_type": "display_data",
          "data": {
            "text/plain": [
              "\n",
              "Call:\n",
              "mixed_model(fixed = Haha ~ sentistr_std * republican + insult_std * \n",
              "    republican, random = ~1 | Page.Name.fac, data = final_pages_react_nona_st, \n",
              "    family = zi.negative.binomial(), zi_fixed = ~1, max_coef_value = 100)\n",
              "\n",
              "Data Descriptives:\n",
              "Number of Observations: 10991537\n",
              "Number of Groups: 1491 \n",
              "\n",
              "Model:\n",
              " family: zero-inflated negative binomial\n",
              " link: log \n",
              "\n",
              "Fit statistics:\n",
              "   log.Lik      AIC      BIC\n",
              " -27715994 55432006 55432054\n",
              "\n",
              "Random effects covariance matrix:\n",
              "              StdDev\n",
              "(Intercept) 2.116536\n",
              "\n",
              "Fixed effects:\n",
              "                        Estimate Std.Err  z-value   p-value\n",
              "(Intercept)               3.8461  0.2153  17.8671  < 0.0001\n",
              "sentistr_std              0.1972  0.0013 157.4152  < 0.0001\n",
              "republican               -0.3783  0.1269  -2.9803 0.0028796\n",
              "insult_std                0.2841  0.0012 237.5028  < 0.0001\n",
              "sentistr_std:republican  -0.1387  0.0017 -83.1502  < 0.0001\n",
              "republican:insult_std    -0.0498  0.0017 -30.1415  < 0.0001\n",
              "\n",
              "Zero-part coefficients:\n",
              "            Estimate Std.Err z-value  p-value\n",
              "(Intercept) -16.3704  3.9815 -4.1116 < 0.0001\n",
              "\n",
              "log(dispersion) parameter:\n",
              "  Estimate Std.Err\n",
              "   -1.6903  0.0005\n",
              "\n",
              "Integration:\n",
              "method: adaptive Gauss-Hermite quadrature rule\n",
              "quadrature points: 11\n",
              "\n",
              "Optimization:\n",
              "method: EM\n",
              "converged: TRUE "
            ]
          },
          "metadata": {}
        }
      ]
    },
    {
      "cell_type": "code",
      "metadata": {
        "id": "Sg2LcRwalTvP",
        "colab": {
          "base_uri": "https://localhost:8080/",
          "height": 51
        },
        "outputId": "cf755d5f-7124-4a35-f0eb-f52bfbf43ec2"
      },
      "source": [
        "system.time( m2_Haha_senti_main_std <- mixed_model(fixed = Haha ~ sentistr_std + republican , random = ~ 1|Page.Name.fac, zi_fixed =  ~ 1,  family = zi.negative.binomial(), data=final_pages_react_nona_st , max_coef_value = 100 ))\n"
      ],
      "execution_count": null,
      "outputs": [
        {
          "output_type": "display_data",
          "data": {
            "text/plain": [
              "    user   system  elapsed \n",
              "5198.978  414.771 5615.090 "
            ]
          },
          "metadata": {}
        }
      ]
    },
    {
      "cell_type": "code",
      "metadata": {
        "id": "DdjzyrKWlUeH",
        "colab": {
          "base_uri": "https://localhost:8080/",
          "height": 748
        },
        "outputId": "c3d9ec63-7f41-4938-e4a7-bab97ee6c7ed"
      },
      "source": [
        "summary(m2_Haha_senti_main_std)\n"
      ],
      "execution_count": null,
      "outputs": [
        {
          "output_type": "display_data",
          "data": {
            "text/plain": [
              "\n",
              "Call:\n",
              "mixed_model(fixed = Haha ~ sentistr_std + republican, random = ~1 | \n",
              "    Page.Name.fac, data = final_pages_react_nona_st, family = zi.negative.binomial(), \n",
              "    zi_fixed = ~1, max_coef_value = 100)\n",
              "\n",
              "Data Descriptives:\n",
              "Number of Observations: 10991537\n",
              "Number of Groups: 1491 \n",
              "\n",
              "Model:\n",
              " family: zero-inflated negative binomial\n",
              " link: log \n",
              "\n",
              "Fit statistics:\n",
              "   log.Lik      AIC      BIC\n",
              " -27717775 55435563 55435594\n",
              "\n",
              "Random effects covariance matrix:\n",
              "              StdDev\n",
              "(Intercept) 2.160269\n",
              "\n",
              "Fixed effects:\n",
              "             Estimate Std.Err z-value    p-value\n",
              "(Intercept)    3.9529  0.2305 17.1524   < 0.0001\n",
              "sentistr_std   0.0495  0.0008 62.1398   < 0.0001\n",
              "republican    -0.4865  0.1358 -3.5830 0.00033967\n",
              "\n",
              "Zero-part coefficients:\n",
              "            Estimate Std.Err z-value  p-value\n",
              "(Intercept) -16.2754  3.8983  -4.175 < 0.0001\n",
              "\n",
              "log(dispersion) parameter:\n",
              "  Estimate Std.Err\n",
              "   -1.7066  0.0005\n",
              "\n",
              "Integration:\n",
              "method: adaptive Gauss-Hermite quadrature rule\n",
              "quadrature points: 11\n",
              "\n",
              "Optimization:\n",
              "method: EM\n",
              "converged: TRUE "
            ]
          },
          "metadata": {}
        }
      ]
    },
    {
      "cell_type": "code",
      "metadata": {
        "id": "5UaGt8yLlUak"
      },
      "source": [
        "saveRDS(m2_Haha_senti_main_std, \"m2_Haha_senti_main_std.rds\")\n"
      ],
      "execution_count": null,
      "outputs": []
    },
    {
      "cell_type": "code",
      "metadata": {
        "id": "y3XQn_DglUXY",
        "colab": {
          "base_uri": "https://localhost:8080/",
          "height": 51
        },
        "outputId": "de234832-427b-4db7-aba8-32408215dc1e"
      },
      "source": [
        "system.time( m2_Haha_inciv_main_std <- mixed_model(fixed = Haha ~ insult_std + republican , random = ~ 1|Page.Name.fac, zi_fixed =  ~ 1,  family = zi.negative.binomial(), data=final_pages_react_nona_st , max_coef_value = 100 ))\n"
      ],
      "execution_count": null,
      "outputs": [
        {
          "output_type": "display_data",
          "data": {
            "text/plain": [
              "    user   system  elapsed \n",
              "5290.765  367.571 5659.443 "
            ]
          },
          "metadata": {}
        }
      ]
    },
    {
      "cell_type": "code",
      "metadata": {
        "id": "ViaOU1FYlUUM"
      },
      "source": [
        "saveRDS(m2_Haha_inciv_main_std, \"m2_Haha_inciv_main_std.rds\")\n"
      ],
      "execution_count": null,
      "outputs": []
    },
    {
      "cell_type": "code",
      "metadata": {
        "id": "Rpr49LXZlURL",
        "colab": {
          "base_uri": "https://localhost:8080/",
          "height": 748
        },
        "outputId": "29f9ffc5-ecf7-4d1e-e136-ded43d06cc1a"
      },
      "source": [
        "summary(m2_Haha_inciv_main_std)\n"
      ],
      "execution_count": null,
      "outputs": [
        {
          "output_type": "display_data",
          "data": {
            "text/plain": [
              "\n",
              "Call:\n",
              "mixed_model(fixed = Haha ~ insult_std + republican, random = ~1 | \n",
              "    Page.Name.fac, data = final_pages_react_nona_st, family = zi.negative.binomial(), \n",
              "    zi_fixed = ~1, max_coef_value = 100)\n",
              "\n",
              "Data Descriptives:\n",
              "Number of Observations: 10991537\n",
              "Number of Groups: 1491 \n",
              "\n",
              "Model:\n",
              " family: zero-inflated negative binomial\n",
              " link: log \n",
              "\n",
              "Fit statistics:\n",
              "   log.Lik      AIC      BIC\n",
              " -26924816 53849644 53849676\n",
              "\n",
              "Random effects covariance matrix:\n",
              "              StdDev\n",
              "(Intercept) 2.137356\n",
              "\n",
              "Fixed effects:\n",
              "            Estimate Std.Err  z-value    p-value\n",
              "(Intercept)   3.9058  0.2373  16.4619   < 0.0001\n",
              "insult_std    0.2286  0.0008 283.0592   < 0.0001\n",
              "republican   -0.4457  0.1350  -3.3008 0.00096407\n",
              "\n",
              "Zero-part coefficients:\n",
              "            Estimate Std.Err z-value  p-value\n",
              "(Intercept) -16.3785  4.0701 -4.0241 < 0.0001\n",
              "\n",
              "log(dispersion) parameter:\n",
              "  Estimate Std.Err\n",
              "   -1.6999  0.0005\n",
              "\n",
              "Integration:\n",
              "method: adaptive Gauss-Hermite quadrature rule\n",
              "quadrature points: 11\n",
              "\n",
              "Optimization:\n",
              "method: EM\n",
              "converged: TRUE "
            ]
          },
          "metadata": {}
        }
      ]
    },
    {
      "cell_type": "code",
      "metadata": {
        "id": "UE0cpeoglVEn",
        "colab": {
          "base_uri": "https://localhost:8080/",
          "height": 51
        },
        "outputId": "3009cc8d-9d0d-4a7c-bbb1-e55b16f626e3"
      },
      "source": [
        "system.time( m2_Haha_main_std_comp <- mixed_model(fixed = Haha ~ sentistr_std + insult_std + republican , random = ~ 1|Page.Name.fac, zi_fixed =  ~ 1,  family = zi.negative.binomial(), data=final_pages_react_nona_st , max_coef_value = 100 ))\n"
      ],
      "execution_count": null,
      "outputs": [
        {
          "output_type": "display_data",
          "data": {
            "text/plain": [
              "    user   system  elapsed \n",
              "5885.409  380.501 6267.960 "
            ]
          },
          "metadata": {}
        }
      ]
    },
    {
      "cell_type": "code",
      "metadata": {
        "id": "sjjjFr2qlUNv"
      },
      "source": [
        "saveRDS(m2_Haha_main_std_comp, \"m2_Haha_main_std_comp.rds\")\n"
      ],
      "execution_count": null,
      "outputs": []
    },
    {
      "cell_type": "code",
      "metadata": {
        "id": "FTUnvEZ7lUKZ",
        "colab": {
          "base_uri": "https://localhost:8080/",
          "height": 765
        },
        "outputId": "27860eaf-5812-445d-ed8d-96d89dd4f5a8"
      },
      "source": [
        "summary(m2_Haha_main_std_comp)"
      ],
      "execution_count": null,
      "outputs": [
        {
          "output_type": "display_data",
          "data": {
            "text/plain": [
              "\n",
              "Call:\n",
              "mixed_model(fixed = Haha ~ sentistr_std + insult_std + republican, \n",
              "    random = ~1 | Page.Name.fac, data = final_pages_react_nona_st, \n",
              "    family = zi.negative.binomial(), zi_fixed = ~1, max_coef_value = 100)\n",
              "\n",
              "Data Descriptives:\n",
              "Number of Observations: 10991537\n",
              "Number of Groups: 1491 \n",
              "\n",
              "Model:\n",
              " family: zero-inflated negative binomial\n",
              " link: log \n",
              "\n",
              "Fit statistics:\n",
              "   log.Lik      AIC      BIC\n",
              " -26893475 53786963 53787001\n",
              "\n",
              "Random effects covariance matrix:\n",
              "              StdDev\n",
              "(Intercept) 2.119639\n",
              "\n",
              "Fixed effects:\n",
              "             Estimate Std.Err  z-value    p-value\n",
              "(Intercept)    3.8886  0.2245  17.3210   < 0.0001\n",
              "sentistr_std   0.1226  0.0008 146.0309   < 0.0001\n",
              "insult_std     0.2573  0.0008 307.5466   < 0.0001\n",
              "republican    -0.4785  0.1332  -3.5912 0.00032912\n",
              "\n",
              "Zero-part coefficients:\n",
              "            Estimate Std.Err z-value  p-value\n",
              "(Intercept) -16.2409   3.848 -4.2206 < 0.0001\n",
              "\n",
              "log(dispersion) parameter:\n",
              "  Estimate Std.Err\n",
              "   -1.7013  0.0005\n",
              "\n",
              "Integration:\n",
              "method: adaptive Gauss-Hermite quadrature rule\n",
              "quadrature points: 11\n",
              "\n",
              "Optimization:\n",
              "method: EM\n",
              "converged: TRUE "
            ]
          },
          "metadata": {}
        }
      ]
    },
    {
      "cell_type": "markdown",
      "metadata": {
        "id": "1WY248UKlV1q"
      },
      "source": [
        "## wow"
      ]
    },
    {
      "cell_type": "code",
      "metadata": {
        "id": "EcZlegnVUwTO",
        "colab": {
          "base_uri": "https://localhost:8080/",
          "height": 102
        },
        "outputId": "52378e07-9c83-417d-a4a4-0597e8847220"
      },
      "source": [
        "system.time( m2_Wow_senti_int <- mixed_model(fixed = Wow ~ sentistr_std*republican + insult_std*republican , random = ~ 1|Page.Name.fac, zi_fixed =  ~ 1,  family = zi.negative.binomial(), data=final_pages_react_nona_st , max_coef_value = 100 ))\n"
      ],
      "execution_count": null,
      "outputs": [
        {
          "output_type": "stream",
          "name": "stderr",
          "text": [
            "Warning message in mixed_model(fixed = Wow ~ sentistr_std * republican + insult_std * :\n",
            "“Hessian matrix at convergence is not positive definite; unstable solution.\n",
            "”\n"
          ]
        },
        {
          "output_type": "display_data",
          "data": {
            "text/plain": [
              "    user   system  elapsed \n",
              "7511.555  522.309 8047.971 "
            ]
          },
          "metadata": {}
        }
      ]
    },
    {
      "cell_type": "code",
      "metadata": {
        "id": "pgjeLy4JUwIK",
        "colab": {
          "base_uri": "https://localhost:8080/",
          "height": 833
        },
        "outputId": "b6c39301-28e3-4b51-b125-c26ef7b7ad7e"
      },
      "source": [
        "summary(m2_Wow_senti_int)\n"
      ],
      "execution_count": null,
      "outputs": [
        {
          "output_type": "stream",
          "name": "stderr",
          "text": [
            "Warning message in sqrt(diag(var_betas)):\n",
            "“NaNs produced”\n"
          ]
        },
        {
          "output_type": "display_data",
          "data": {
            "text/plain": [
              "\n",
              "Call:\n",
              "mixed_model(fixed = Wow ~ sentistr_std * republican + insult_std * \n",
              "    republican, random = ~1 | Page.Name.fac, data = final_pages_react_nona_st, \n",
              "    family = zi.negative.binomial(), zi_fixed = ~1, max_coef_value = 100)\n",
              "\n",
              "Data Descriptives:\n",
              "Number of Observations: 10991537\n",
              "Number of Groups: 1491 \n",
              "\n",
              "Model:\n",
              " family: zero-inflated negative binomial\n",
              " link: log \n",
              "\n",
              "Fit statistics:\n",
              "   log.Lik      AIC      BIC\n",
              " -23847943 47695904 47695952\n",
              "\n",
              "Random effects covariance matrix:\n",
              "              StdDev\n",
              "(Intercept) 1.821922\n",
              "\n",
              "Fixed effects:\n",
              "                        Estimate Std.Err   z-value  p-value\n",
              "(Intercept)               2.6124     NaN       NaN       NA\n",
              "sentistr_std             -0.1157  0.0010 -118.7512 < 0.0001\n",
              "republican               -0.6915  0.0616  -11.2271 < 0.0001\n",
              "insult_std                0.0829  0.0009   88.6561 < 0.0001\n",
              "sentistr_std:republican  -0.0523  0.0013  -40.9498 < 0.0001\n",
              "republican:insult_std    -0.0030  0.0013   -2.3636 0.018098\n",
              "\n",
              "Zero-part coefficients:\n",
              "            Estimate Std.Err z-value    p-value\n",
              "(Intercept) -16.9551  4.9008 -3.4596 0.00054094\n",
              "\n",
              "log(dispersion) parameter:\n",
              "  Estimate Std.Err\n",
              "   -1.1321  0.0006\n",
              "\n",
              "Integration:\n",
              "method: adaptive Gauss-Hermite quadrature rule\n",
              "quadrature points: 11\n",
              "\n",
              "Optimization:\n",
              "method: EM\n",
              "converged: TRUE "
            ]
          },
          "metadata": {}
        }
      ]
    },
    {
      "cell_type": "code",
      "metadata": {
        "id": "NnOsAU52lWsy"
      },
      "source": [
        "system.time( m2_Wow_senti_main_std <- mixed_model(fixed = Wow ~ sentistr_std + republican , random = ~ 1|Page.Name.fac, zi_fixed =  ~ 1,  family = zi.negative.binomial(), data=final_pages_react_nona_st , max_coef_value = 100 ))\n"
      ],
      "execution_count": null,
      "outputs": []
    },
    {
      "cell_type": "code",
      "metadata": {
        "id": "hgt1Esj1lXLd",
        "colab": {
          "base_uri": "https://localhost:8080/",
          "height": 782
        },
        "outputId": "080ffdf3-45dc-48c3-84fe-ae1040d71fb9"
      },
      "source": [
        "summary(m2_Wow_senti_main_std)\n"
      ],
      "execution_count": null,
      "outputs": [
        {
          "output_type": "stream",
          "name": "stderr",
          "text": [
            "Warning message in sqrt(diag(var_betas)):\n",
            "“NaNs produced”\n"
          ]
        },
        {
          "output_type": "display_data",
          "data": {
            "text/plain": [
              "\n",
              "Call:\n",
              "mixed_model(fixed = Wow ~ sentistr_std + republican, random = ~1 | \n",
              "    Page.Name.fac, data = final_pages_react_nona_st, family = zi.negative.binomial(), \n",
              "    zi_fixed = ~1, max_coef_value = 100)\n",
              "\n",
              "Data Descriptives:\n",
              "Number of Observations: 10991537\n",
              "Number of Groups: 1491 \n",
              "\n",
              "Model:\n",
              " family: zero-inflated negative binomial\n",
              " link: log \n",
              "\n",
              "Fit statistics:\n",
              "   log.Lik      AIC      BIC\n",
              " -23472471 46944955 46944986\n",
              "\n",
              "Random effects covariance matrix:\n",
              "              StdDev\n",
              "(Intercept) 1.834376\n",
              "\n",
              "Fixed effects:\n",
              "             Estimate Std.Err   z-value  p-value\n",
              "(Intercept)    2.6340     NaN       NaN       NA\n",
              "sentistr_std  -0.1654  0.0006 -267.6606 < 0.0001\n",
              "republican    -0.7133  0.0663  -10.7573 < 0.0001\n",
              "\n",
              "Zero-part coefficients:\n",
              "            Estimate Std.Err z-value    p-value\n",
              "(Intercept) -16.8813  4.8197 -3.5025 0.00046086\n",
              "\n",
              "log(dispersion) parameter:\n",
              "  Estimate Std.Err\n",
              "   -1.1403  0.0006\n",
              "\n",
              "Integration:\n",
              "method: adaptive Gauss-Hermite quadrature rule\n",
              "quadrature points: 11\n",
              "\n",
              "Optimization:\n",
              "method: EM\n",
              "converged: TRUE "
            ]
          },
          "metadata": {}
        }
      ]
    },
    {
      "cell_type": "code",
      "metadata": {
        "id": "GGxQr-kSlXHz"
      },
      "source": [
        "saveRDS(m2_Wow_senti_main_std, \"m2_Wow_senti_main_std.rds\")\n"
      ],
      "execution_count": null,
      "outputs": []
    },
    {
      "cell_type": "code",
      "metadata": {
        "id": "Ft0_q6LElXEc",
        "colab": {
          "base_uri": "https://localhost:8080/",
          "height": 102
        },
        "outputId": "0c9934ea-2deb-43f1-9eba-1aa51dfb1a62"
      },
      "source": [
        "system.time( m2_Wow_inciv_main_std <- mixed_model(fixed = Wow ~ insult_std + republican , random = ~ 1|Page.Name.fac, zi_fixed =  ~ 1,  family = zi.negative.binomial(), data=final_pages_react_nona_st , max_coef_value = 100 ))\n"
      ],
      "execution_count": null,
      "outputs": [
        {
          "output_type": "stream",
          "name": "stderr",
          "text": [
            "Warning message in mixed_model(fixed = Wow ~ insult_std + republican, random = ~1 | :\n",
            "“Hessian matrix at convergence is not positive definite; unstable solution.\n",
            "”\n"
          ]
        },
        {
          "output_type": "display_data",
          "data": {
            "text/plain": [
              "    user   system  elapsed \n",
              "5435.703  366.415 5805.165 "
            ]
          },
          "metadata": {}
        }
      ]
    },
    {
      "cell_type": "code",
      "metadata": {
        "id": "tO3WXbn2lW-O",
        "colab": {
          "base_uri": "https://localhost:8080/",
          "height": 782
        },
        "outputId": "0c7567ab-671a-4800-cae8-cccb1c644df9"
      },
      "source": [
        "summary(m2_Wow_inciv_main_std)\n"
      ],
      "execution_count": null,
      "outputs": [
        {
          "output_type": "stream",
          "name": "stderr",
          "text": [
            "Warning message in sqrt(diag(var_betas)):\n",
            "“NaNs produced”\n"
          ]
        },
        {
          "output_type": "display_data",
          "data": {
            "text/plain": [
              "\n",
              "Call:\n",
              "mixed_model(fixed = Wow ~ insult_std + republican, random = ~1 | \n",
              "    Page.Name.fac, data = final_pages_react_nona_st, family = zi.negative.binomial(), \n",
              "    zi_fixed = ~1, max_coef_value = 100)\n",
              "\n",
              "Data Descriptives:\n",
              "Number of Observations: 10991537\n",
              "Number of Groups: 1491 \n",
              "\n",
              "Model:\n",
              " family: zero-inflated negative binomial\n",
              " link: log \n",
              "\n",
              "Fit statistics:\n",
              "   log.Lik      AIC      BIC\n",
              " -24065603 48131219 48131250\n",
              "\n",
              "Random effects covariance matrix:\n",
              "             StdDev\n",
              "(Intercept) 1.82105\n",
              "\n",
              "Fixed effects:\n",
              "            Estimate Std.Err  z-value  p-value\n",
              "(Intercept)   2.6273     NaN      NaN       NA\n",
              "insult_std    0.1163  0.0006 185.3818 < 0.0001\n",
              "republican   -0.7170  0.0594 -12.0797 < 0.0001\n",
              "\n",
              "Zero-part coefficients:\n",
              "            Estimate Std.Err z-value    p-value\n",
              "(Intercept) -16.9049  4.7937 -3.5264 0.00042117\n",
              "\n",
              "log(dispersion) parameter:\n",
              "  Estimate Std.Err\n",
              "   -1.1391  0.0006\n",
              "\n",
              "Integration:\n",
              "method: adaptive Gauss-Hermite quadrature rule\n",
              "quadrature points: 11\n",
              "\n",
              "Optimization:\n",
              "method: EM\n",
              "converged: TRUE "
            ]
          },
          "metadata": {}
        }
      ]
    },
    {
      "cell_type": "code",
      "metadata": {
        "id": "gk91TQN1lXBX"
      },
      "source": [
        "saveRDS(m2_Wow_inciv_main_std, \"m2_Wow_inciv_main_std.rds\")\n"
      ],
      "execution_count": null,
      "outputs": []
    },
    {
      "cell_type": "code",
      "metadata": {
        "id": "K15ROzVklW7H",
        "colab": {
          "base_uri": "https://localhost:8080/",
          "height": 102
        },
        "outputId": "570e0a93-acac-4b9c-9859-191c039ce2c2"
      },
      "source": [
        "system.time( m2_Wow_main_std_comp <- mixed_model(fixed = Wow ~ sentistr_std + insult_std + republican , random = ~ 1|Page.Name.fac, zi_fixed =  ~ 1,  family = zi.negative.binomial(), data=final_pages_react_nona_st , max_coef_value = 100 ))\n"
      ],
      "execution_count": null,
      "outputs": [
        {
          "output_type": "stream",
          "name": "stderr",
          "text": [
            "Warning message in mixed_model(fixed = Wow ~ sentistr_std + insult_std + republican, :\n",
            "“Hessian matrix at convergence is not positive definite; unstable solution.\n",
            "”\n"
          ]
        },
        {
          "output_type": "display_data",
          "data": {
            "text/plain": [
              "    user   system  elapsed \n",
              "6098.340  386.174 6485.991 "
            ]
          },
          "metadata": {}
        }
      ]
    },
    {
      "cell_type": "code",
      "metadata": {
        "id": "TDwANyWelYTu",
        "colab": {
          "base_uri": "https://localhost:8080/",
          "height": 799
        },
        "outputId": "f2abc2e3-ac70-429b-8c04-05b4ddf70094"
      },
      "source": [
        "summary(m2_Wow_main_std_comp)"
      ],
      "execution_count": null,
      "outputs": [
        {
          "output_type": "stream",
          "name": "stderr",
          "text": [
            "Warning message in sqrt(diag(var_betas)):\n",
            "“NaNs produced”\n"
          ]
        },
        {
          "output_type": "display_data",
          "data": {
            "text/plain": [
              "\n",
              "Call:\n",
              "mixed_model(fixed = Wow ~ sentistr_std + insult_std + republican, \n",
              "    random = ~1 | Page.Name.fac, data = final_pages_react_nona_st, \n",
              "    family = zi.negative.binomial(), zi_fixed = ~1, max_coef_value = 100)\n",
              "\n",
              "Data Descriptives:\n",
              "Number of Observations: 10991537\n",
              "Number of Groups: 1491 \n",
              "\n",
              "Model:\n",
              " family: zero-inflated negative binomial\n",
              " link: log \n",
              "\n",
              "Fit statistics:\n",
              "   log.Lik      AIC      BIC\n",
              " -23755845 47511704 47511741\n",
              "\n",
              "Random effects covariance matrix:\n",
              "              StdDev\n",
              "(Intercept) 1.822025\n",
              "\n",
              "Fixed effects:\n",
              "             Estimate Std.Err   z-value  p-value\n",
              "(Intercept)    2.6174     NaN       NaN       NA\n",
              "sentistr_std  -0.1463  0.0006 -231.7544 < 0.0001\n",
              "insult_std     0.0809  0.0006  125.4837 < 0.0001\n",
              "republican    -0.7056  0.0590  -11.9515 < 0.0001\n",
              "\n",
              "Zero-part coefficients:\n",
              "            Estimate Std.Err z-value    p-value\n",
              "(Intercept) -16.9579  4.9188 -3.4476 0.00056561\n",
              "\n",
              "log(dispersion) parameter:\n",
              "  Estimate Std.Err\n",
              "   -1.1325  0.0006\n",
              "\n",
              "Integration:\n",
              "method: adaptive Gauss-Hermite quadrature rule\n",
              "quadrature points: 11\n",
              "\n",
              "Optimization:\n",
              "method: EM\n",
              "converged: TRUE "
            ]
          },
          "metadata": {}
        }
      ]
    },
    {
      "cell_type": "code",
      "metadata": {
        "id": "LESFZaaGlW3n"
      },
      "source": [
        "saveRDS(m2_Wow_main_std_comp, \"m2_Wow_main_std_comp.rds\")\n"
      ],
      "execution_count": null,
      "outputs": []
    },
    {
      "cell_type": "markdown",
      "metadata": {
        "id": "A7AYeMBmkxrT"
      },
      "source": [
        "# ZINB"
      ]
    },
    {
      "cell_type": "code",
      "metadata": {
        "id": "F_bCtYmIkyCI"
      },
      "source": [
        ""
      ],
      "execution_count": null,
      "outputs": []
    }
  ]
}