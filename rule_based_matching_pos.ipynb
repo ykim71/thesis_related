{
  "cells": [
    {
      "cell_type": "markdown",
      "metadata": {
        "id": "view-in-github",
        "colab_type": "text"
      },
      "source": [
        "<a href=\"https://colab.research.google.com/github/ykim71/thesis_related/blob/main/rule_based_matching_pos.ipynb\" target=\"_parent\"><img src=\"https://colab.research.google.com/assets/colab-badge.svg\" alt=\"Open In Colab\"/></a>"
      ]
    },
    {
      "cell_type": "markdown",
      "source": [
        "# load files/set googledrive"
      ],
      "metadata": {
        "id": "_gZhmlhcZ-7c"
      }
    },
    {
      "cell_type": "code",
      "execution_count": 1,
      "metadata": {
        "id": "w5mOgB83cNL1",
        "colab": {
          "base_uri": "https://localhost:8080/"
        },
        "outputId": "9b03aec8-b4c3-4c2e-a67c-93f66749ac6e"
      },
      "outputs": [
        {
          "output_type": "stream",
          "name": "stdout",
          "text": [
            "Mounted at /content/drive\n"
          ]
        }
      ],
      "source": [
        "from google.colab import drive\n",
        "\n",
        "drive.mount(\"/content/drive\", force_remount=True)"
      ]
    },
    {
      "cell_type": "code",
      "execution_count": 2,
      "metadata": {
        "id": "kY3dOHE7c8U5",
        "colab": {
          "base_uri": "https://localhost:8080/"
        },
        "outputId": "022932cf-93b5-4c21-df58-1f70aa1a403c"
      },
      "outputs": [
        {
          "output_type": "stream",
          "name": "stdout",
          "text": [
            "/content/drive/MyDrive/CrowdTangle/final_data_metrics\n"
          ]
        }
      ],
      "source": [
        "%cd drive/'MyDrive'/CrowdTangle/final_data_metrics"
      ]
    },
    {
      "cell_type": "code",
      "source": [
        "!pip install --upgrade pandas==1.3.4"
      ],
      "metadata": {
        "id": "_6wyFhWRjfrC"
      },
      "execution_count": null,
      "outputs": []
    },
    {
      "cell_type": "markdown",
      "source": [
        "# POS tagging"
      ],
      "metadata": {
        "id": "BTDv4CEBaEAg"
      }
    },
    {
      "cell_type": "code",
      "source": [
        "import pickle\n",
        "import pandas as pd\n",
        "\n",
        "d_pages_text_only = pd.read_pickle(\"d_pages_text_only.pkl\")"
      ],
      "metadata": {
        "id": "Bc-ZoBmkik68"
      },
      "execution_count": null,
      "outputs": []
    },
    {
      "cell_type": "code",
      "source": [
        "#test = d_pages_text_only.sample(100)"
      ],
      "metadata": {
        "id": "aswwjx6sGOVh"
      },
      "execution_count": null,
      "outputs": []
    },
    {
      "cell_type": "code",
      "source": [
        "import spacy\n",
        "from spacy import displacy\n",
        "\n",
        "from spacy.tokenizer import Tokenizer\n",
        "from spacy.lang.char_classes import ALPHA, ALPHA_LOWER, ALPHA_UPPER, CONCAT_QUOTES, LIST_ELLIPSES, LIST_ICONS\n",
        "from spacy.util import compile_infix_regex\n",
        "\n",
        "## customize hypenated words\n",
        "\n",
        "def custom_tokenizer(nlp):\n",
        "    infixes = (\n",
        "        LIST_ELLIPSES\n",
        "        + LIST_ICONS\n",
        "        + [\n",
        "            r\"(?<=[0-9])[+\\-\\*^](?=[0-9-])\",\n",
        "            r\"(?<=[{al}{q}])\\.(?=[{au}{q}])\".format(\n",
        "                al=ALPHA_LOWER, au=ALPHA_UPPER, q=CONCAT_QUOTES\n",
        "            ),\n",
        "            r\"(?<=[{a}]),(?=[{a}])\".format(a=ALPHA),\n",
        "            #r\"(?<=[{a}])(?:{h})(?=[{a}])\".format(a=ALPHA, h=HYPHENS),\n",
        "            r\"(?<=[{a}0-9])[:<>=/](?=[{a}])\".format(a=ALPHA),\n",
        "        ]\n",
        "    )\n",
        "\n",
        "    infix_re = compile_infix_regex(infixes)\n",
        "\n",
        "    return Tokenizer(nlp.vocab, prefix_search=nlp.tokenizer.prefix_search,\n",
        "                                suffix_search=nlp.tokenizer.suffix_search,\n",
        "                                infix_finditer=infix_re.finditer,\n",
        "                                token_match=nlp.tokenizer.token_match,\n",
        "                                rules=nlp.Defaults.tokenizer_exceptions)\n",
        "\n",
        "\n",
        "\n",
        "sp = spacy.load(\"en_core_web_sm\", disable=[\"tok2vec\", \"ner\", \"lemmatizer\"])\n",
        "sp.tokenizer = custom_tokenizer(sp)\n",
        "\n",
        "# sample = \"\"\"\n",
        "# Daily Kos The AP reports that at least 65,000 bridges are \"structurally deficient\" and over 20,000 more are \"fracture critical,\" meaning that the failure of one component could lead to a collapse, as we saw in the I-5 bridge over the Skagit River in Washington state last spring. Join Daily Kos and the Democratic Senatorial Campaign Committee (DSCC) to tell Senate Republicans: Fix our roads and bridges instead of shutting down our government. AS THE GOP PREVENTS US FROM REBUILDING BADLY DECAYING INFRASTRUCTURE BECAUSE IT WILL CREATE JOBS AND IMPROVE THE ECONOMY, WHICH THEY DO NOT WANT, THEY HOPE THAT EVERY BRIDGE COLLAPSE WILL BE BLAMED ON OBAMA. YEAH.... THANKS OBAMA! HOW STUPID DO THEY THINK WE ARE? Tell Senate Republicans: Fix our roads and bridges instead of shutting down our government  Republicans are playing games with our government to appeal to their right-wing base—pushing us to the brink of a government shutdown in order to score a few points with the Tea Party. While they’re playing games of legislative chicken, our country is facing a major infrastructure crisis. The AP rep... \n",
        "# \"\"\"\n",
        "# doc = sp(sample)\n",
        "# #print([t.text for t in doc])\n",
        "\n",
        "# for token in doc:\n",
        "#     print(token.text, token.pos_, token.tag_, token.dep_)"
      ],
      "metadata": {
        "id": "DH7V1vahRz8H"
      },
      "execution_count": null,
      "outputs": []
    },
    {
      "cell_type": "code",
      "source": [
        "\n",
        "import numpy as np\n",
        "dfs = np.array_split(d_pages_text_only, 30)\n"
      ],
      "metadata": {
        "id": "R6BeA1pGIvZX"
      },
      "execution_count": null,
      "outputs": []
    },
    {
      "cell_type": "code",
      "source": [
        "import csv\n",
        "import pandas as pd\n",
        "\n",
        "\n",
        "for num in range(0,30):\n",
        "  \n",
        "  sample = dfs[num]['text'].values.tolist()\n",
        "  \n",
        "  bigram_text = []\n",
        "  bigram_tag = []\n",
        "\n",
        "  for sen in sample:\n",
        "    \n",
        "    doc = sp(sen)\n",
        "    for i in range(len(doc)):\n",
        "      j = i+1\n",
        "      if j < len(doc):\n",
        "        if ( (doc[i].pos_ == \"ADJ\" or doc[i].pos_ == \"NOUN\" or doc[i].pos_ == \"PROPN\") and (doc[j].pos_ == \"ADJ\" or doc[j].pos_ == \"NOUN\" or doc[j].pos_ == \"PROPN\") ):\n",
        "          bigram_text.append( str( doc[i].text + \" \" + doc[j].text ) )\n",
        "          bigram_tag.append( str( doc[i].pos_ + \" \" + doc[j].pos_ ) )\n",
        "          \n",
        "  temp = pd.DataFrame({'text': bigram_text, 'pos_tag': bigram_tag })\n",
        "  \n",
        "  temp2  = temp.groupby(['text']).size().reset_index(name='counts')\n",
        "  temp2.to_csv(\"./dem_pos_bigrams/temp_dem_d\"+str(num)+\".csv\")\n",
        "\n",
        "\n"
      ],
      "metadata": {
        "id": "EOvPW5V57x8B"
      },
      "execution_count": null,
      "outputs": []
    },
    {
      "cell_type": "markdown",
      "source": [
        "# merge all csvs"
      ],
      "metadata": {
        "id": "4ct2EUnyaHpS"
      }
    },
    {
      "cell_type": "code",
      "source": [
        "\n",
        "\n",
        "import glob\n",
        "import os\n",
        "import pandas as pd   \n",
        "\n",
        "path = r'./dem_pos_bigrams/'                     # use your path\n",
        "all_files = glob.glob(os.path.join(path, \"*.csv\"))     # advisable to use os.path.join as this makes concatenation OS independent\n",
        "\n",
        "df_from_each_file = (pd.read_csv(f, header=0) for f in all_files)\n",
        "concatenated_df   = pd.concat(df_from_each_file, ignore_index=True)\n",
        "\n",
        "\n"
      ],
      "metadata": {
        "id": "jqU5chXeMMbx"
      },
      "execution_count": 5,
      "outputs": []
    },
    {
      "cell_type": "code",
      "source": [
        "concatenated_df.sample(3)"
      ],
      "metadata": {
        "id": "PZII1D_8HpYa",
        "colab": {
          "base_uri": "https://localhost:8080/",
          "height": 143
        },
        "outputId": "19e12a51-851a-4948-f863-cfc1db99730a"
      },
      "execution_count": 6,
      "outputs": [
        {
          "output_type": "execute_result",
          "data": {
            "text/html": [
              "\n",
              "  <div id=\"df-5acf7b6f-b7be-41b1-b69f-1d48a0785cb7\">\n",
              "    <div class=\"colab-df-container\">\n",
              "      <div>\n",
              "<style scoped>\n",
              "    .dataframe tbody tr th:only-of-type {\n",
              "        vertical-align: middle;\n",
              "    }\n",
              "\n",
              "    .dataframe tbody tr th {\n",
              "        vertical-align: top;\n",
              "    }\n",
              "\n",
              "    .dataframe thead th {\n",
              "        text-align: right;\n",
              "    }\n",
              "</style>\n",
              "<table border=\"1\" class=\"dataframe\">\n",
              "  <thead>\n",
              "    <tr style=\"text-align: right;\">\n",
              "      <th></th>\n",
              "      <th>Unnamed: 0</th>\n",
              "      <th>text</th>\n",
              "      <th>counts</th>\n",
              "    </tr>\n",
              "  </thead>\n",
              "  <tbody>\n",
              "    <tr>\n",
              "      <th>4499361</th>\n",
              "      <td>453072</td>\n",
              "      <td>feeding operation</td>\n",
              "      <td>2</td>\n",
              "    </tr>\n",
              "    <tr>\n",
              "      <th>13578461</th>\n",
              "      <td>665575</td>\n",
              "      <td>© Greg</td>\n",
              "      <td>5</td>\n",
              "    </tr>\n",
              "    <tr>\n",
              "      <th>8303890</th>\n",
              "      <td>325752</td>\n",
              "      <td>VOTING LONG</td>\n",
              "      <td>1</td>\n",
              "    </tr>\n",
              "  </tbody>\n",
              "</table>\n",
              "</div>\n",
              "      <button class=\"colab-df-convert\" onclick=\"convertToInteractive('df-5acf7b6f-b7be-41b1-b69f-1d48a0785cb7')\"\n",
              "              title=\"Convert this dataframe to an interactive table.\"\n",
              "              style=\"display:none;\">\n",
              "        \n",
              "  <svg xmlns=\"http://www.w3.org/2000/svg\" height=\"24px\"viewBox=\"0 0 24 24\"\n",
              "       width=\"24px\">\n",
              "    <path d=\"M0 0h24v24H0V0z\" fill=\"none\"/>\n",
              "    <path d=\"M18.56 5.44l.94 2.06.94-2.06 2.06-.94-2.06-.94-.94-2.06-.94 2.06-2.06.94zm-11 1L8.5 8.5l.94-2.06 2.06-.94-2.06-.94L8.5 2.5l-.94 2.06-2.06.94zm10 10l.94 2.06.94-2.06 2.06-.94-2.06-.94-.94-2.06-.94 2.06-2.06.94z\"/><path d=\"M17.41 7.96l-1.37-1.37c-.4-.4-.92-.59-1.43-.59-.52 0-1.04.2-1.43.59L10.3 9.45l-7.72 7.72c-.78.78-.78 2.05 0 2.83L4 21.41c.39.39.9.59 1.41.59.51 0 1.02-.2 1.41-.59l7.78-7.78 2.81-2.81c.8-.78.8-2.07 0-2.86zM5.41 20L4 18.59l7.72-7.72 1.47 1.35L5.41 20z\"/>\n",
              "  </svg>\n",
              "      </button>\n",
              "      \n",
              "  <style>\n",
              "    .colab-df-container {\n",
              "      display:flex;\n",
              "      flex-wrap:wrap;\n",
              "      gap: 12px;\n",
              "    }\n",
              "\n",
              "    .colab-df-convert {\n",
              "      background-color: #E8F0FE;\n",
              "      border: none;\n",
              "      border-radius: 50%;\n",
              "      cursor: pointer;\n",
              "      display: none;\n",
              "      fill: #1967D2;\n",
              "      height: 32px;\n",
              "      padding: 0 0 0 0;\n",
              "      width: 32px;\n",
              "    }\n",
              "\n",
              "    .colab-df-convert:hover {\n",
              "      background-color: #E2EBFA;\n",
              "      box-shadow: 0px 1px 2px rgba(60, 64, 67, 0.3), 0px 1px 3px 1px rgba(60, 64, 67, 0.15);\n",
              "      fill: #174EA6;\n",
              "    }\n",
              "\n",
              "    [theme=dark] .colab-df-convert {\n",
              "      background-color: #3B4455;\n",
              "      fill: #D2E3FC;\n",
              "    }\n",
              "\n",
              "    [theme=dark] .colab-df-convert:hover {\n",
              "      background-color: #434B5C;\n",
              "      box-shadow: 0px 1px 3px 1px rgba(0, 0, 0, 0.15);\n",
              "      filter: drop-shadow(0px 1px 2px rgba(0, 0, 0, 0.3));\n",
              "      fill: #FFFFFF;\n",
              "    }\n",
              "  </style>\n",
              "\n",
              "      <script>\n",
              "        const buttonEl =\n",
              "          document.querySelector('#df-5acf7b6f-b7be-41b1-b69f-1d48a0785cb7 button.colab-df-convert');\n",
              "        buttonEl.style.display =\n",
              "          google.colab.kernel.accessAllowed ? 'block' : 'none';\n",
              "\n",
              "        async function convertToInteractive(key) {\n",
              "          const element = document.querySelector('#df-5acf7b6f-b7be-41b1-b69f-1d48a0785cb7');\n",
              "          const dataTable =\n",
              "            await google.colab.kernel.invokeFunction('convertToInteractive',\n",
              "                                                     [key], {});\n",
              "          if (!dataTable) return;\n",
              "\n",
              "          const docLinkHtml = 'Like what you see? Visit the ' +\n",
              "            '<a target=\"_blank\" href=https://colab.research.google.com/notebooks/data_table.ipynb>data table notebook</a>'\n",
              "            + ' to learn more about interactive tables.';\n",
              "          element.innerHTML = '';\n",
              "          dataTable['output_type'] = 'display_data';\n",
              "          await google.colab.output.renderOutput(dataTable, element);\n",
              "          const docLink = document.createElement('div');\n",
              "          docLink.innerHTML = docLinkHtml;\n",
              "          element.appendChild(docLink);\n",
              "        }\n",
              "      </script>\n",
              "    </div>\n",
              "  </div>\n",
              "  "
            ],
            "text/plain": [
              "          Unnamed: 0               text  counts\n",
              "4499361       453072  feeding operation       2\n",
              "13578461      665575             © Greg       5\n",
              "8303890       325752        VOTING LONG       1"
            ]
          },
          "metadata": {},
          "execution_count": 6
        }
      ]
    },
    {
      "cell_type": "code",
      "source": [
        "df_merge = concatenated_df.groupby(['text'])['counts'].agg('sum').reset_index()"
      ],
      "metadata": {
        "id": "RKlbr2v-cPXd"
      },
      "execution_count": 7,
      "outputs": []
    },
    {
      "cell_type": "code",
      "source": [
        "df_merge.sample(3)"
      ],
      "metadata": {
        "colab": {
          "base_uri": "https://localhost:8080/",
          "height": 143
        },
        "id": "xiufDU12cTze",
        "outputId": "59569a56-77af-40fc-f078-10c1f12e7fa9"
      },
      "execution_count": 8,
      "outputs": [
        {
          "output_type": "execute_result",
          "data": {
            "text/html": [
              "\n",
              "  <div id=\"df-dd923b41-6e4e-437e-a993-8f418d497587\">\n",
              "    <div class=\"colab-df-container\">\n",
              "      <div>\n",
              "<style scoped>\n",
              "    .dataframe tbody tr th:only-of-type {\n",
              "        vertical-align: middle;\n",
              "    }\n",
              "\n",
              "    .dataframe tbody tr th {\n",
              "        vertical-align: top;\n",
              "    }\n",
              "\n",
              "    .dataframe thead th {\n",
              "        text-align: right;\n",
              "    }\n",
              "</style>\n",
              "<table border=\"1\" class=\"dataframe\">\n",
              "  <thead>\n",
              "    <tr style=\"text-align: right;\">\n",
              "      <th></th>\n",
              "      <th>text</th>\n",
              "      <th>counts</th>\n",
              "    </tr>\n",
              "  </thead>\n",
              "  <tbody>\n",
              "    <tr>\n",
              "      <th>35389</th>\n",
              "      <td># GovernmentContractor</td>\n",
              "      <td>1</td>\n",
              "    </tr>\n",
              "    <tr>\n",
              "      <th>5060267</th>\n",
              "      <td>dehumanizing dragnet</td>\n",
              "      <td>1</td>\n",
              "    </tr>\n",
              "    <tr>\n",
              "      <th>785348</th>\n",
              "      <td>COLLECTIVE IDIOCY</td>\n",
              "      <td>2</td>\n",
              "    </tr>\n",
              "  </tbody>\n",
              "</table>\n",
              "</div>\n",
              "      <button class=\"colab-df-convert\" onclick=\"convertToInteractive('df-dd923b41-6e4e-437e-a993-8f418d497587')\"\n",
              "              title=\"Convert this dataframe to an interactive table.\"\n",
              "              style=\"display:none;\">\n",
              "        \n",
              "  <svg xmlns=\"http://www.w3.org/2000/svg\" height=\"24px\"viewBox=\"0 0 24 24\"\n",
              "       width=\"24px\">\n",
              "    <path d=\"M0 0h24v24H0V0z\" fill=\"none\"/>\n",
              "    <path d=\"M18.56 5.44l.94 2.06.94-2.06 2.06-.94-2.06-.94-.94-2.06-.94 2.06-2.06.94zm-11 1L8.5 8.5l.94-2.06 2.06-.94-2.06-.94L8.5 2.5l-.94 2.06-2.06.94zm10 10l.94 2.06.94-2.06 2.06-.94-2.06-.94-.94-2.06-.94 2.06-2.06.94z\"/><path d=\"M17.41 7.96l-1.37-1.37c-.4-.4-.92-.59-1.43-.59-.52 0-1.04.2-1.43.59L10.3 9.45l-7.72 7.72c-.78.78-.78 2.05 0 2.83L4 21.41c.39.39.9.59 1.41.59.51 0 1.02-.2 1.41-.59l7.78-7.78 2.81-2.81c.8-.78.8-2.07 0-2.86zM5.41 20L4 18.59l7.72-7.72 1.47 1.35L5.41 20z\"/>\n",
              "  </svg>\n",
              "      </button>\n",
              "      \n",
              "  <style>\n",
              "    .colab-df-container {\n",
              "      display:flex;\n",
              "      flex-wrap:wrap;\n",
              "      gap: 12px;\n",
              "    }\n",
              "\n",
              "    .colab-df-convert {\n",
              "      background-color: #E8F0FE;\n",
              "      border: none;\n",
              "      border-radius: 50%;\n",
              "      cursor: pointer;\n",
              "      display: none;\n",
              "      fill: #1967D2;\n",
              "      height: 32px;\n",
              "      padding: 0 0 0 0;\n",
              "      width: 32px;\n",
              "    }\n",
              "\n",
              "    .colab-df-convert:hover {\n",
              "      background-color: #E2EBFA;\n",
              "      box-shadow: 0px 1px 2px rgba(60, 64, 67, 0.3), 0px 1px 3px 1px rgba(60, 64, 67, 0.15);\n",
              "      fill: #174EA6;\n",
              "    }\n",
              "\n",
              "    [theme=dark] .colab-df-convert {\n",
              "      background-color: #3B4455;\n",
              "      fill: #D2E3FC;\n",
              "    }\n",
              "\n",
              "    [theme=dark] .colab-df-convert:hover {\n",
              "      background-color: #434B5C;\n",
              "      box-shadow: 0px 1px 3px 1px rgba(0, 0, 0, 0.15);\n",
              "      filter: drop-shadow(0px 1px 2px rgba(0, 0, 0, 0.3));\n",
              "      fill: #FFFFFF;\n",
              "    }\n",
              "  </style>\n",
              "\n",
              "      <script>\n",
              "        const buttonEl =\n",
              "          document.querySelector('#df-dd923b41-6e4e-437e-a993-8f418d497587 button.colab-df-convert');\n",
              "        buttonEl.style.display =\n",
              "          google.colab.kernel.accessAllowed ? 'block' : 'none';\n",
              "\n",
              "        async function convertToInteractive(key) {\n",
              "          const element = document.querySelector('#df-dd923b41-6e4e-437e-a993-8f418d497587');\n",
              "          const dataTable =\n",
              "            await google.colab.kernel.invokeFunction('convertToInteractive',\n",
              "                                                     [key], {});\n",
              "          if (!dataTable) return;\n",
              "\n",
              "          const docLinkHtml = 'Like what you see? Visit the ' +\n",
              "            '<a target=\"_blank\" href=https://colab.research.google.com/notebooks/data_table.ipynb>data table notebook</a>'\n",
              "            + ' to learn more about interactive tables.';\n",
              "          element.innerHTML = '';\n",
              "          dataTable['output_type'] = 'display_data';\n",
              "          await google.colab.output.renderOutput(dataTable, element);\n",
              "          const docLink = document.createElement('div');\n",
              "          docLink.innerHTML = docLinkHtml;\n",
              "          element.appendChild(docLink);\n",
              "        }\n",
              "      </script>\n",
              "    </div>\n",
              "  </div>\n",
              "  "
            ],
            "text/plain": [
              "                           text  counts\n",
              "35389    # GovernmentContractor       1\n",
              "5060267    dehumanizing dragnet       1\n",
              "785348        COLLECTIVE IDIOCY       2"
            ]
          },
          "metadata": {},
          "execution_count": 8
        }
      ]
    },
    {
      "cell_type": "code",
      "source": [
        "df_merge.to_csv(\"dem_pos_pos_bigrams_all.csv\")"
      ],
      "metadata": {
        "id": "IvsJu7dGlbWM"
      },
      "execution_count": 20,
      "outputs": []
    },
    {
      "cell_type": "code",
      "source": [
        "len(df_merge)"
      ],
      "metadata": {
        "colab": {
          "base_uri": "https://localhost:8080/"
        },
        "id": "u9PlmzH-cumV",
        "outputId": "6b0c8c99-2d0f-4af5-c388-bf841f20645a"
      },
      "execution_count": 9,
      "outputs": [
        {
          "output_type": "execute_result",
          "data": {
            "text/plain": [
              "8150011"
            ]
          },
          "metadata": {},
          "execution_count": 9
        }
      ]
    },
    {
      "cell_type": "code",
      "source": [
        "df_merge_n10 = df_merge.loc[df_merge['counts'] >= 10]\n",
        "df_merge_n100 = df_merge.loc[df_merge['counts'] >= 100]\n",
        "df_merge_n1k = df_merge.loc[df_merge['counts'] >= 1000]\n"
      ],
      "metadata": {
        "id": "LWAiZnuicy9e"
      },
      "execution_count": 16,
      "outputs": []
    },
    {
      "cell_type": "code",
      "source": [
        "len(df_merge_n100)"
      ],
      "metadata": {
        "colab": {
          "base_uri": "https://localhost:8080/"
        },
        "id": "BIrgEz51c2sj",
        "outputId": "fe46251c-d5d1-44a1-d518-6c231684c399"
      },
      "execution_count": 14,
      "outputs": [
        {
          "output_type": "execute_result",
          "data": {
            "text/plain": [
              "63405"
            ]
          },
          "metadata": {},
          "execution_count": 14
        }
      ]
    },
    {
      "cell_type": "code",
      "source": [
        "len(df_merge_n1k)"
      ],
      "metadata": {
        "colab": {
          "base_uri": "https://localhost:8080/"
        },
        "id": "XOcht9lug037",
        "outputId": "af1df4db-bf14-481b-89f8-17693c60d3c1"
      },
      "execution_count": 17,
      "outputs": [
        {
          "output_type": "execute_result",
          "data": {
            "text/plain": [
              "5721"
            ]
          },
          "metadata": {},
          "execution_count": 17
        }
      ]
    },
    {
      "cell_type": "code",
      "source": [
        "df_merge_n1k.to_csv(\"dem_pos_bigrams_all_n1k.csv\")"
      ],
      "metadata": {
        "id": "p930kBUlg5an"
      },
      "execution_count": 18,
      "outputs": []
    },
    {
      "cell_type": "code",
      "source": [
        "df_merge_n100.to_csv(\"dem_pos_bigrams_all_n100.csv\")"
      ],
      "metadata": {
        "id": "pCLH8xu0c-DR"
      },
      "execution_count": 15,
      "outputs": []
    },
    {
      "cell_type": "markdown",
      "source": [
        "# test - examples"
      ],
      "metadata": {
        "id": "xoQk08O373c4"
      }
    },
    {
      "cell_type": "code",
      "source": [
        "import spacy\n",
        "\n",
        "nlp = spacy.load(\"en_core_web_sm\")\n",
        "sample = \"\"\"\n",
        "Daily Kos The AP reports that at least 65,000 bridges are \"structurally deficient\" and over 20,000 more are \"fracture critical,\" meaning that the failure of one component could lead to a collapse, as we saw in the I-5 bridge over the Skagit River in Washington state last spring. Join Daily Kos and the Democratic Senatorial Campaign Committee (DSCC) to tell Senate Republicans: Fix our roads and bridges instead of shutting down our government. AS THE GOP PREVENTS US FROM REBUILDING BADLY DECAYING INFRASTRUCTURE BECAUSE IT WILL CREATE JOBS AND IMPROVE THE ECONOMY, WHICH THEY DO NOT WANT, THEY HOPE THAT EVERY BRIDGE COLLAPSE WILL BE BLAMED ON OBAMA. YEAH.... THANKS OBAMA! HOW STUPID DO THEY THINK WE ARE? Tell Senate Republicans: Fix our roads and bridges instead of shutting down our government  Republicans are playing games with our government to appeal to their right-wing base—pushing us to the brink of a government shutdown in order to score a few points with the Tea Party. While they’re playing games of legislative chicken, our country is facing a major infrastructure crisis. The AP rep... \n",
        "\"\"\"\n",
        "doc = nlp(sample)\n",
        "for token in doc:\n",
        "    print(token.text, token.pos_, token.tag_, token.dep_)"
      ],
      "metadata": {
        "id": "OEZh78jP44Kp"
      },
      "execution_count": null,
      "outputs": []
    },
    {
      "cell_type": "code",
      "source": [
        "import spacy\n",
        "sample = \"\"\"\n",
        "Daily Kos The AP reports that at least 65,000 bridges are \"structurally deficient\" and over 20,000 more are \"fracture critical,\" meaning that the failure of one component could lead to a collapse, as we saw in the I-5 bridge over the Skagit River in Washington state last spring. Join Daily Kos and the Democratic Senatorial Campaign Committee (DSCC) to tell Senate Republicans: Fix our roads and bridges instead of shutting down our government. AS THE GOP PREVENTS US FROM REBUILDING BADLY DECAYING INFRASTRUCTURE BECAUSE IT WILL CREATE JOBS AND IMPROVE THE ECONOMY, WHICH THEY DO NOT WANT, THEY HOPE THAT EVERY BRIDGE COLLAPSE WILL BE BLAMED ON OBAMA. YEAH.... THANKS OBAMA! HOW STUPID DO THEY THINK WE ARE? Tell Senate Republicans: Fix our roads and bridges instead of shutting down our government  Republicans are playing games with our government to appeal to their right-wing base—pushing us to the brink of a government shutdown in order to score a few points with the Tea Party. While they’re playing games of legislative chicken, our country is facing a major infrastructure crisis. The AP rep... \n",
        "\"\"\"\n",
        "\n",
        "nlp = spacy.load('en_core_web_sm')\n",
        "doc = nlp(sample)\n",
        "for i in range(len(doc)):\n",
        "    j = i+1\n",
        "    \n",
        "    if j < len(doc):\n",
        "      if ( (doc[i].pos_ == \"ADJ\" or doc[i].pos_ == \"NOUN\" or doc[i].pos_ == \"PROPN\") and (doc[j].pos_ == \"ADJ\" or doc[j].pos_ == \"NOUN\" or doc[j].pos_ == \"PROPN\") ):\n",
        "        print(doc[i].text, doc[j].text, doc[i].pos_, doc[j].pos_)"
      ],
      "metadata": {
        "id": "QUaDBnRWNz2y",
        "colab": {
          "base_uri": "https://localhost:8080/"
        },
        "outputId": "5ee48a03-5902-497b-b90f-bb478a9aac1c"
      },
      "execution_count": 19,
      "outputs": [
        {
          "output_type": "stream",
          "name": "stdout",
          "text": [
            "Daily Kos PROPN PROPN\n",
            "fracture critical NOUN ADJ\n",
            "I-5 bridge PROPN NOUN\n",
            "Skagit River PROPN PROPN\n",
            "Washington state PROPN NOUN\n",
            "state last NOUN ADJ\n",
            "last spring ADJ NOUN\n",
            "Daily Kos PROPN PROPN\n",
            "Democratic Senatorial PROPN PROPN\n",
            "Senatorial Campaign PROPN PROPN\n",
            "Campaign Committee PROPN PROPN\n",
            "Senate Republicans PROPN PROPN\n",
            "REBUILDING BADLY NOUN NOUN\n",
            "BADLY DECAYING NOUN NOUN\n",
            "DECAYING INFRASTRUCTURE NOUN NOUN\n",
            "BRIDGE COLLAPSE NOUN NOUN\n",
            "Senate Republicans PROPN PROPN\n",
            "wing base NOUN NOUN\n",
            "government shutdown NOUN NOUN\n",
            "few points ADJ NOUN\n",
            "Tea Party PROPN PROPN\n",
            "legislative chicken ADJ NOUN\n",
            "major infrastructure ADJ NOUN\n",
            "infrastructure crisis NOUN NOUN\n",
            "AP rep PROPN PROPN\n"
          ]
        }
      ]
    },
    {
      "cell_type": "code",
      "source": [
        "import spacy\n",
        "\n",
        "sample = \"\"\"\n",
        "Donald Trump was the 45th President of the of America, \n",
        "a position he by corrupt treasonous means in collusion Russian interference in American election \n",
        "He for the Rule and replace nationalist dictatorship using of the white supremacist type.\n",
        "\"\"\"\n",
        "\n",
        "\n",
        "nlp = spacy.load('en_core_web_sm')\n",
        "doc = nlp(sample)\n",
        "for i in range(len(doc)):\n",
        "    j = i+1\n",
        "    if j < len(doc):\n",
        "        if ( (doc[i].pos_ == \"ADJ\" or doc[i].pos_ == \"NOUN\" or doc[i].pos_ == \"PROPN\") and (doc[j].pos_ == \"ADJ\" or doc[j].pos_ == \"NOUN\" or doc[j].pos_ == \"PROPN\") ):\n",
        "            print(doc[i].text, doc[j].text,  doc[i].pos_, doc[j].pos_)"
      ],
      "metadata": {
        "id": "1CCPdL99UBHy"
      },
      "execution_count": null,
      "outputs": []
    },
    {
      "cell_type": "code",
      "source": [
        "import spacy\n",
        "\n",
        "nlp = spacy.load(\"en_core_web_sm\")\n",
        "# sample = \"\"\"\n",
        "# Join Daily Kos and the Democratic Senatorial Campaign Committee (DSCC) to tell Senate Republicans: \n",
        "# Fix our roads and bridges instead of shutting down our government. \n",
        "# AS THE GOP PREVENTS US FROM REBUILDING BADLY DECAYING INFRASTRUCTURE BECAUSE IT WILL CREATE JOBS AND IMPROVE THE ECONOMY, \n",
        "# WHICH THEY DO NOT WANT, THEY HOPE THAT EVERY BRIDGE COLLAPSE WILL BE BLAMED ON OBAMA. \n",
        "# YEAH.... THANKS OBAMA! HOW STUPID DO THEY THINK WE ARE? \n",
        "# Tell Senate Republicans: Fix our roads and bridges instead of shutting down our government  \n",
        "# Republicans are playing games with our government to appeal to their right wing base—pushing us to the brink of a government shutdown in order to score a few points with the Tea Party. \n",
        "# While they’re playing games of legislative chicken, our country is facing a major infrastructure crisis. The AP rep... \n",
        "# \"\"\"\n",
        "\n",
        "sample = \"\"\"\n",
        "Donald Trump was the 45th President of the of America, \n",
        "a position he by corrupt treasonous means in collusion Russian interference in American election \n",
        "He for the Rule and replace nationalist dictatorship using of the white supremacist type.\n",
        "\"\"\"\n",
        "\n",
        "doc = nlp(sample)\n",
        "for token in doc:\n",
        "    print(token.text, token.pos_, token.tag_, token.dep_)"
      ],
      "metadata": {
        "id": "PSgGAy2L_WUq"
      },
      "execution_count": null,
      "outputs": []
    },
    {
      "cell_type": "code",
      "source": [
        "import spacy\n",
        "\n",
        "nlp = spacy.load(\"en_core_web_sm\")\n",
        "text = \"\"\"\n",
        " For G.O.P., Incentives for Budget Deal With Obama Delaying steps to rein in Social Security, Medicare and Medicaid means delaying significant attempts to curb the size of the government.\t\n",
        "  \"\"\"\n",
        "\n",
        "doc = nlp(text)\n",
        "for token in doc:\n",
        "    print(token.text, token.lemma_, token.pos_, token.tag_, token.dep_,\n",
        "            token.shape_, token.is_alpha, token.is_stop)"
      ],
      "metadata": {
        "id": "7ucEnXJbIaUT"
      },
      "execution_count": null,
      "outputs": []
    },
    {
      "cell_type": "code",
      "source": [
        "## pos tagging\n",
        "\n",
        "import csv\n",
        "import pandas as pd\n",
        "\n",
        "for i in range(10,11):\n",
        "\n",
        "  sample = dfs[i]['text'].values.tolist()\n",
        "  \n",
        "  text_list = []\n",
        "  pos_list = []\n",
        "  tag_list = []\n",
        "  import spacy\n",
        "\n",
        "nlp = spacy.load(\"en_core_web_sm\")\n",
        "doc = nlp(\"Apple is looking at buying U.K. startup for $1 billion\")\n",
        "\n",
        "for token in doc:\n",
        "    print(token.text, token.lemma_, token.pos_, token.tag_, token.dep_,\n",
        "            token.shape_, token.is_alpha, token.is_stop)\n",
        "    for word in sent:\n",
        "      if (word.pos_ == \"ADJ\"):\n",
        "        text_list.append(word.text)\n",
        "        pos_list.append(word.pos_)\n",
        "        tag_list.append(word.tag_)\n",
        "      if (word.pos_ == \"NOUN\"):\n",
        "        text_list.append(word.text)\n",
        "        pos_list.append(word.pos_)\n",
        "        tag_list.append(word.tag_)      \n",
        "      if (word.pos_ == \"PROPN\") :\n",
        "        text_list.append(word.text)\n",
        "        pos_list.append(word.pos_)\n",
        "        tag_list.append(word.tag_)\n",
        "      \n",
        "  temp = pd.DataFrame({'text': text_list, 'pos': pos_list, 'tag': tag_list })\n",
        "\n",
        "  temp['text_lower'] = temp['text'].str.lower()\n",
        "  temp2  = temp.groupby(['text_lower']).size().reset_index(name='counts')\n",
        "  temp2.to_csv(\"temp_dem_d\"+str(i)+\".csv\")\n"
      ],
      "metadata": {
        "id": "noJ8l8ZgrkPi"
      },
      "execution_count": null,
      "outputs": []
    },
    {
      "cell_type": "code",
      "source": [
        ""
      ],
      "metadata": {
        "id": "S8auRv1TsIvn"
      },
      "execution_count": null,
      "outputs": []
    }
  ],
  "metadata": {
    "colab": {
      "collapsed_sections": [],
      "machine_shape": "hm",
      "name": "rule-based-matching-pos.ipynb",
      "provenance": [],
      "authorship_tag": "ABX9TyOo34P8GoqwlHc0TR4OsMjv",
      "include_colab_link": true
    },
    "kernelspec": {
      "display_name": "Python 3",
      "name": "python3"
    },
    "language_info": {
      "name": "python"
    }
  },
  "nbformat": 4,
  "nbformat_minor": 0
}