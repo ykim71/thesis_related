{
  "cells": [
    {
      "cell_type": "markdown",
      "metadata": {
        "id": "view-in-github",
        "colab_type": "text"
      },
      "source": [
        "<a href=\"https://colab.research.google.com/github/ykim71/thesis_related/blob/main/rule_based_matching_pos.ipynb\" target=\"_parent\"><img src=\"https://colab.research.google.com/assets/colab-badge.svg\" alt=\"Open In Colab\"/></a>"
      ]
    },
    {
      "cell_type": "markdown",
      "source": [
        "# load files/set googledrive"
      ],
      "metadata": {
        "id": "_gZhmlhcZ-7c"
      }
    },
    {
      "cell_type": "code",
      "execution_count": 1,
      "metadata": {
        "id": "w5mOgB83cNL1",
        "colab": {
          "base_uri": "https://localhost:8080/"
        },
        "outputId": "4348f6d3-b749-43a9-9ca3-8465d17d2445"
      },
      "outputs": [
        {
          "output_type": "stream",
          "name": "stdout",
          "text": [
            "Mounted at /content/drive\n"
          ]
        }
      ],
      "source": [
        "from google.colab import drive\n",
        "\n",
        "drive.mount(\"/content/drive\", force_remount=True)"
      ]
    },
    {
      "cell_type": "code",
      "execution_count": 2,
      "metadata": {
        "id": "kY3dOHE7c8U5",
        "colab": {
          "base_uri": "https://localhost:8080/"
        },
        "outputId": "3ae95b32-ceec-4ef6-e8c8-d149cc89405e"
      },
      "outputs": [
        {
          "output_type": "stream",
          "name": "stdout",
          "text": [
            "/content/drive/MyDrive/CrowdTangle/final_data_metrics\n"
          ]
        }
      ],
      "source": [
        "%cd drive/'MyDrive'/CrowdTangle/final_data_metrics"
      ]
    },
    {
      "cell_type": "code",
      "source": [
        "!pip install --upgrade pandas==1.3.4"
      ],
      "metadata": {
        "id": "_6wyFhWRjfrC",
        "colab": {
          "base_uri": "https://localhost:8080/",
          "height": 337
        },
        "outputId": "135c421c-4b08-4a68-c5e9-58d1fc94d6f2"
      },
      "execution_count": 3,
      "outputs": [
        {
          "output_type": "stream",
          "name": "stdout",
          "text": [
            "Collecting pandas==1.3.4\n",
            "  Downloading pandas-1.3.4-cp37-cp37m-manylinux_2_17_x86_64.manylinux2014_x86_64.whl (11.3 MB)\n",
            "\u001b[K     |████████████████████████████████| 11.3 MB 7.9 MB/s \n",
            "\u001b[?25hRequirement already satisfied: python-dateutil>=2.7.3 in /usr/local/lib/python3.7/dist-packages (from pandas==1.3.4) (2.8.2)\n",
            "Requirement already satisfied: numpy>=1.17.3 in /usr/local/lib/python3.7/dist-packages (from pandas==1.3.4) (1.21.5)\n",
            "Requirement already satisfied: pytz>=2017.3 in /usr/local/lib/python3.7/dist-packages (from pandas==1.3.4) (2018.9)\n",
            "Requirement already satisfied: six>=1.5 in /usr/local/lib/python3.7/dist-packages (from python-dateutil>=2.7.3->pandas==1.3.4) (1.15.0)\n",
            "Installing collected packages: pandas\n",
            "  Attempting uninstall: pandas\n",
            "    Found existing installation: pandas 1.3.5\n",
            "    Uninstalling pandas-1.3.5:\n",
            "      Successfully uninstalled pandas-1.3.5\n",
            "Successfully installed pandas-1.3.4\n"
          ]
        },
        {
          "output_type": "display_data",
          "data": {
            "application/vnd.colab-display-data+json": {
              "pip_warning": {
                "packages": [
                  "pandas"
                ]
              }
            }
          },
          "metadata": {}
        }
      ]
    },
    {
      "cell_type": "markdown",
      "source": [
        "# POS tagging"
      ],
      "metadata": {
        "id": "BTDv4CEBaEAg"
      }
    },
    {
      "cell_type": "code",
      "source": [
        "import pickle\n",
        "import pandas as pd\n",
        "\n",
        "d_pages_text_only = pd.read_pickle(\"d_pages_text_only.pkl\")"
      ],
      "metadata": {
        "id": "Bc-ZoBmkik68"
      },
      "execution_count": 3,
      "outputs": []
    },
    {
      "cell_type": "code",
      "source": [
        "#test = d_pages_text_only.sample(100)"
      ],
      "metadata": {
        "id": "aswwjx6sGOVh"
      },
      "execution_count": null,
      "outputs": []
    },
    {
      "cell_type": "code",
      "source": [
        "import spacy\n",
        "from spacy import displacy\n",
        "\n",
        "from spacy.tokenizer import Tokenizer\n",
        "from spacy.lang.char_classes import ALPHA, ALPHA_LOWER, ALPHA_UPPER, CONCAT_QUOTES, LIST_ELLIPSES, LIST_ICONS\n",
        "from spacy.util import compile_infix_regex\n",
        "\n",
        "## customize hypenated words\n",
        "\n",
        "def custom_tokenizer(nlp):\n",
        "    infixes = (\n",
        "        LIST_ELLIPSES\n",
        "        + LIST_ICONS\n",
        "        + [\n",
        "            r\"(?<=[0-9])[+\\-\\*^](?=[0-9-])\",\n",
        "            r\"(?<=[{al}{q}])\\.(?=[{au}{q}])\".format(\n",
        "                al=ALPHA_LOWER, au=ALPHA_UPPER, q=CONCAT_QUOTES\n",
        "            ),\n",
        "            r\"(?<=[{a}]),(?=[{a}])\".format(a=ALPHA),\n",
        "            #r\"(?<=[{a}])(?:{h})(?=[{a}])\".format(a=ALPHA, h=HYPHENS),\n",
        "            r\"(?<=[{a}0-9])[:<>=/](?=[{a}])\".format(a=ALPHA),\n",
        "        ]\n",
        "    )\n",
        "\n",
        "    infix_re = compile_infix_regex(infixes)\n",
        "\n",
        "    return Tokenizer(nlp.vocab, prefix_search=nlp.tokenizer.prefix_search,\n",
        "                                suffix_search=nlp.tokenizer.suffix_search,\n",
        "                                infix_finditer=infix_re.finditer,\n",
        "                                token_match=nlp.tokenizer.token_match,\n",
        "                                rules=nlp.Defaults.tokenizer_exceptions)\n",
        "\n",
        "\n",
        "\n",
        "sp = spacy.load(\"en_core_web_sm\", disable=[\"tok2vec\", \"ner\", \"lemmatizer\"])\n",
        "sp.tokenizer = custom_tokenizer(sp)\n",
        "\n",
        "# sample = \"\"\" \n",
        "# Sore loser libs trolled with #NotMySuperBowlChamps, blame victory on white privilege. Déjà vu?  \"The #Patriots only won because of white privilege - none of you gonna sell your ring to feed hungry black people.\n",
        "# \"\"\"\n",
        "# doc = sp(sample)\n",
        "# #print([t.text for t in doc])\n",
        "\n",
        "# for token in doc:\n",
        "#     print(token.text, token.pos_, token.tag_, token.dep_)"
      ],
      "metadata": {
        "id": "DH7V1vahRz8H"
      },
      "execution_count": 9,
      "outputs": []
    },
    {
      "cell_type": "code",
      "source": [
        "\n",
        "import numpy as np\n",
        "dfs = np.array_split(d_pages_text_only, 30)\n"
      ],
      "metadata": {
        "id": "10M9qnJCuQfo"
      },
      "execution_count": 6,
      "outputs": []
    },
    {
      "cell_type": "code",
      "source": [
        "# for unigrams\n",
        "\n",
        "for num in range(0,30):\n",
        "  \n",
        "  sample = dfs[num]['text'].values.tolist()\n",
        "  \n",
        "  unigrams_text = []\n",
        "  unigrams_tag = []\n",
        "\n",
        "  for sen in sample:\n",
        "    doc = sp(sen)\n",
        "\n",
        "    for i in range(len(doc)):\n",
        "      if ( (doc[i].pos_ == \"ADJ\" or doc[i].pos_ == \"NOUN\" or doc[i].pos_ == \"PROPN\")  ):\n",
        "          unigrams_text.append( str( doc[i].text ) )\n",
        "          unigrams_tag.append( str( doc[i].pos_ ) )\n",
        "          \n",
        "  temp = pd.DataFrame({'text': unigrams_text, 'pos_tag': unigrams_tag })\n",
        "  \n",
        "  temp2  = temp.groupby(['text']).size().reset_index(name='counts')\n",
        "  temp2.to_csv(\"./dem_pos_unigrams/temp_dem_d\"+str(num)+\".csv\")\n"
      ],
      "metadata": {
        "id": "R6BeA1pGIvZX",
        "colab": {
          "base_uri": "https://localhost:8080/",
          "height": 603
        },
        "outputId": "f769ea71-b8ae-438b-cb01-7f68dc91a162"
      },
      "execution_count": 10,
      "outputs": [
        {
          "output_type": "error",
          "ename": "KeyboardInterrupt",
          "evalue": "ignored",
          "traceback": [
            "\u001b[0;31m---------------------------------------------------------------------------\u001b[0m",
            "\u001b[0;31mKeyboardInterrupt\u001b[0m                         Traceback (most recent call last)",
            "\u001b[0;32m<ipython-input-10-bcfb0aca56db>\u001b[0m in \u001b[0;36m<module>\u001b[0;34m()\u001b[0m\n\u001b[1;32m      9\u001b[0m \u001b[0;34m\u001b[0m\u001b[0m\n\u001b[1;32m     10\u001b[0m   \u001b[0;32mfor\u001b[0m \u001b[0msen\u001b[0m \u001b[0;32min\u001b[0m \u001b[0msample\u001b[0m\u001b[0;34m:\u001b[0m\u001b[0;34m\u001b[0m\u001b[0;34m\u001b[0m\u001b[0m\n\u001b[0;32m---> 11\u001b[0;31m     \u001b[0mdoc\u001b[0m \u001b[0;34m=\u001b[0m \u001b[0msp\u001b[0m\u001b[0;34m(\u001b[0m\u001b[0msen\u001b[0m\u001b[0;34m)\u001b[0m\u001b[0;34m\u001b[0m\u001b[0;34m\u001b[0m\u001b[0m\n\u001b[0m\u001b[1;32m     12\u001b[0m \u001b[0;34m\u001b[0m\u001b[0m\n\u001b[1;32m     13\u001b[0m     \u001b[0;32mfor\u001b[0m \u001b[0mi\u001b[0m \u001b[0;32min\u001b[0m \u001b[0mrange\u001b[0m\u001b[0;34m(\u001b[0m\u001b[0mlen\u001b[0m\u001b[0;34m(\u001b[0m\u001b[0mdoc\u001b[0m\u001b[0;34m)\u001b[0m\u001b[0;34m)\u001b[0m\u001b[0;34m:\u001b[0m\u001b[0;34m\u001b[0m\u001b[0;34m\u001b[0m\u001b[0m\n",
            "\u001b[0;32m/usr/local/lib/python3.7/dist-packages/spacy/language.py\u001b[0m in \u001b[0;36m__call__\u001b[0;34m(self, text, disable, component_cfg)\u001b[0m\n\u001b[1;32m    437\u001b[0m             \u001b[0;32mif\u001b[0m \u001b[0;32mnot\u001b[0m \u001b[0mhasattr\u001b[0m\u001b[0;34m(\u001b[0m\u001b[0mproc\u001b[0m\u001b[0;34m,\u001b[0m \u001b[0;34m\"__call__\"\u001b[0m\u001b[0;34m)\u001b[0m\u001b[0;34m:\u001b[0m\u001b[0;34m\u001b[0m\u001b[0;34m\u001b[0m\u001b[0m\n\u001b[1;32m    438\u001b[0m                 \u001b[0;32mraise\u001b[0m \u001b[0mValueError\u001b[0m\u001b[0;34m(\u001b[0m\u001b[0mErrors\u001b[0m\u001b[0;34m.\u001b[0m\u001b[0mE003\u001b[0m\u001b[0;34m.\u001b[0m\u001b[0mformat\u001b[0m\u001b[0;34m(\u001b[0m\u001b[0mcomponent\u001b[0m\u001b[0;34m=\u001b[0m\u001b[0mtype\u001b[0m\u001b[0;34m(\u001b[0m\u001b[0mproc\u001b[0m\u001b[0;34m)\u001b[0m\u001b[0;34m,\u001b[0m \u001b[0mname\u001b[0m\u001b[0;34m=\u001b[0m\u001b[0mname\u001b[0m\u001b[0;34m)\u001b[0m\u001b[0;34m)\u001b[0m\u001b[0;34m\u001b[0m\u001b[0;34m\u001b[0m\u001b[0m\n\u001b[0;32m--> 439\u001b[0;31m             \u001b[0mdoc\u001b[0m \u001b[0;34m=\u001b[0m \u001b[0mproc\u001b[0m\u001b[0;34m(\u001b[0m\u001b[0mdoc\u001b[0m\u001b[0;34m,\u001b[0m \u001b[0;34m**\u001b[0m\u001b[0mcomponent_cfg\u001b[0m\u001b[0;34m.\u001b[0m\u001b[0mget\u001b[0m\u001b[0;34m(\u001b[0m\u001b[0mname\u001b[0m\u001b[0;34m,\u001b[0m \u001b[0;34m{\u001b[0m\u001b[0;34m}\u001b[0m\u001b[0;34m)\u001b[0m\u001b[0;34m)\u001b[0m\u001b[0;34m\u001b[0m\u001b[0;34m\u001b[0m\u001b[0m\n\u001b[0m\u001b[1;32m    440\u001b[0m             \u001b[0;32mif\u001b[0m \u001b[0mdoc\u001b[0m \u001b[0;32mis\u001b[0m \u001b[0;32mNone\u001b[0m\u001b[0;34m:\u001b[0m\u001b[0;34m\u001b[0m\u001b[0;34m\u001b[0m\u001b[0m\n\u001b[1;32m    441\u001b[0m                 \u001b[0;32mraise\u001b[0m \u001b[0mValueError\u001b[0m\u001b[0;34m(\u001b[0m\u001b[0mErrors\u001b[0m\u001b[0;34m.\u001b[0m\u001b[0mE005\u001b[0m\u001b[0;34m.\u001b[0m\u001b[0mformat\u001b[0m\u001b[0;34m(\u001b[0m\u001b[0mname\u001b[0m\u001b[0;34m=\u001b[0m\u001b[0mname\u001b[0m\u001b[0;34m)\u001b[0m\u001b[0;34m)\u001b[0m\u001b[0;34m\u001b[0m\u001b[0;34m\u001b[0m\u001b[0m\n",
            "\u001b[0;32mnn_parser.pyx\u001b[0m in \u001b[0;36mspacy.syntax.nn_parser.Parser.__call__\u001b[0;34m()\u001b[0m\n",
            "\u001b[0;32mnn_parser.pyx\u001b[0m in \u001b[0;36mspacy.syntax.nn_parser.Parser.predict\u001b[0;34m()\u001b[0m\n",
            "\u001b[0;32mnn_parser.pyx\u001b[0m in \u001b[0;36mspacy.syntax.nn_parser.Parser.greedy_parse\u001b[0;34m()\u001b[0m\n",
            "\u001b[0;32m/usr/local/lib/python3.7/dist-packages/thinc/neural/_classes/model.py\u001b[0m in \u001b[0;36m__call__\u001b[0;34m(self, x)\u001b[0m\n\u001b[1;32m    165\u001b[0m             \u001b[0mMust\u001b[0m \u001b[0mmatch\u001b[0m \u001b[0mexpected\u001b[0m \u001b[0mshape\u001b[0m\u001b[0;34m\u001b[0m\u001b[0;34m\u001b[0m\u001b[0m\n\u001b[1;32m    166\u001b[0m         \"\"\"\n\u001b[0;32m--> 167\u001b[0;31m         \u001b[0;32mreturn\u001b[0m \u001b[0mself\u001b[0m\u001b[0;34m.\u001b[0m\u001b[0mpredict\u001b[0m\u001b[0;34m(\u001b[0m\u001b[0mx\u001b[0m\u001b[0;34m)\u001b[0m\u001b[0;34m\u001b[0m\u001b[0;34m\u001b[0m\u001b[0m\n\u001b[0m\u001b[1;32m    168\u001b[0m \u001b[0;34m\u001b[0m\u001b[0m\n\u001b[1;32m    169\u001b[0m     \u001b[0;32mdef\u001b[0m \u001b[0mpipe\u001b[0m\u001b[0;34m(\u001b[0m\u001b[0mself\u001b[0m\u001b[0;34m,\u001b[0m \u001b[0mstream\u001b[0m\u001b[0;34m,\u001b[0m \u001b[0mbatch_size\u001b[0m\u001b[0;34m=\u001b[0m\u001b[0;36m128\u001b[0m\u001b[0;34m)\u001b[0m\u001b[0;34m:\u001b[0m\u001b[0;34m\u001b[0m\u001b[0;34m\u001b[0m\u001b[0m\n",
            "\u001b[0;32m/usr/local/lib/python3.7/dist-packages/thinc/neural/_classes/model.py\u001b[0m in \u001b[0;36mpredict\u001b[0;34m(self, X)\u001b[0m\n\u001b[1;32m    129\u001b[0m \u001b[0;34m\u001b[0m\u001b[0m\n\u001b[1;32m    130\u001b[0m     \u001b[0;32mdef\u001b[0m \u001b[0mpredict\u001b[0m\u001b[0;34m(\u001b[0m\u001b[0mself\u001b[0m\u001b[0;34m,\u001b[0m \u001b[0mX\u001b[0m\u001b[0;34m)\u001b[0m\u001b[0;34m:\u001b[0m\u001b[0;34m\u001b[0m\u001b[0;34m\u001b[0m\u001b[0m\n\u001b[0;32m--> 131\u001b[0;31m         \u001b[0my\u001b[0m\u001b[0;34m,\u001b[0m \u001b[0m_\u001b[0m \u001b[0;34m=\u001b[0m \u001b[0mself\u001b[0m\u001b[0;34m.\u001b[0m\u001b[0mbegin_update\u001b[0m\u001b[0;34m(\u001b[0m\u001b[0mX\u001b[0m\u001b[0;34m,\u001b[0m \u001b[0mdrop\u001b[0m\u001b[0;34m=\u001b[0m\u001b[0;32mNone\u001b[0m\u001b[0;34m)\u001b[0m\u001b[0;34m\u001b[0m\u001b[0;34m\u001b[0m\u001b[0m\n\u001b[0m\u001b[1;32m    132\u001b[0m         \u001b[0;32mreturn\u001b[0m \u001b[0my\u001b[0m\u001b[0;34m\u001b[0m\u001b[0;34m\u001b[0m\u001b[0m\n\u001b[1;32m    133\u001b[0m \u001b[0;34m\u001b[0m\u001b[0m\n",
            "\u001b[0;32m_parser_model.pyx\u001b[0m in \u001b[0;36mspacy.syntax._parser_model.ParserModel.begin_update\u001b[0;34m()\u001b[0m\n",
            "\u001b[0;32m_parser_model.pyx\u001b[0m in \u001b[0;36mspacy.syntax._parser_model.ParserStepModel.__init__\u001b[0;34m()\u001b[0m\n",
            "\u001b[0;32m_parser_model.pyx\u001b[0m in \u001b[0;36mspacy.syntax._parser_model.precompute_hiddens.__init__\u001b[0;34m()\u001b[0m\n",
            "\u001b[0;32m/usr/local/lib/python3.7/dist-packages/spacy/_ml.py\u001b[0m in \u001b[0;36mbegin_update\u001b[0;34m(self, X, drop)\u001b[0m\n\u001b[1;32m    177\u001b[0m     \u001b[0;32mdef\u001b[0m \u001b[0mbegin_update\u001b[0m\u001b[0;34m(\u001b[0m\u001b[0mself\u001b[0m\u001b[0;34m,\u001b[0m \u001b[0mX\u001b[0m\u001b[0;34m,\u001b[0m \u001b[0mdrop\u001b[0m\u001b[0;34m=\u001b[0m\u001b[0;36m0.0\u001b[0m\u001b[0;34m)\u001b[0m\u001b[0;34m:\u001b[0m\u001b[0;34m\u001b[0m\u001b[0;34m\u001b[0m\u001b[0m\n\u001b[1;32m    178\u001b[0m         Yf = self.ops.gemm(\n\u001b[0;32m--> 179\u001b[0;31m             \u001b[0mX\u001b[0m\u001b[0;34m,\u001b[0m \u001b[0mself\u001b[0m\u001b[0;34m.\u001b[0m\u001b[0mW\u001b[0m\u001b[0;34m.\u001b[0m\u001b[0mreshape\u001b[0m\u001b[0;34m(\u001b[0m\u001b[0;34m(\u001b[0m\u001b[0mself\u001b[0m\u001b[0;34m.\u001b[0m\u001b[0mnF\u001b[0m \u001b[0;34m*\u001b[0m \u001b[0mself\u001b[0m\u001b[0;34m.\u001b[0m\u001b[0mnO\u001b[0m \u001b[0;34m*\u001b[0m \u001b[0mself\u001b[0m\u001b[0;34m.\u001b[0m\u001b[0mnP\u001b[0m\u001b[0;34m,\u001b[0m \u001b[0mself\u001b[0m\u001b[0;34m.\u001b[0m\u001b[0mnI\u001b[0m\u001b[0;34m)\u001b[0m\u001b[0;34m)\u001b[0m\u001b[0;34m,\u001b[0m \u001b[0mtrans2\u001b[0m\u001b[0;34m=\u001b[0m\u001b[0;32mTrue\u001b[0m\u001b[0;34m\u001b[0m\u001b[0;34m\u001b[0m\u001b[0m\n\u001b[0m\u001b[1;32m    180\u001b[0m         )\n\u001b[1;32m    181\u001b[0m         \u001b[0mYf\u001b[0m \u001b[0;34m=\u001b[0m \u001b[0mYf\u001b[0m\u001b[0;34m.\u001b[0m\u001b[0mreshape\u001b[0m\u001b[0;34m(\u001b[0m\u001b[0;34m(\u001b[0m\u001b[0mYf\u001b[0m\u001b[0;34m.\u001b[0m\u001b[0mshape\u001b[0m\u001b[0;34m[\u001b[0m\u001b[0;36m0\u001b[0m\u001b[0;34m]\u001b[0m\u001b[0;34m,\u001b[0m \u001b[0mself\u001b[0m\u001b[0;34m.\u001b[0m\u001b[0mnF\u001b[0m\u001b[0;34m,\u001b[0m \u001b[0mself\u001b[0m\u001b[0;34m.\u001b[0m\u001b[0mnO\u001b[0m\u001b[0;34m,\u001b[0m \u001b[0mself\u001b[0m\u001b[0;34m.\u001b[0m\u001b[0mnP\u001b[0m\u001b[0;34m)\u001b[0m\u001b[0;34m)\u001b[0m\u001b[0;34m\u001b[0m\u001b[0;34m\u001b[0m\u001b[0m\n",
            "\u001b[0;31mKeyboardInterrupt\u001b[0m: "
          ]
        }
      ]
    },
    {
      "cell_type": "code",
      "source": [
        "# for bigrams\n",
        "import csv\n",
        "import pandas as pd\n",
        "\n",
        "\n",
        "for num in range(0,30):\n",
        "  \n",
        "  sample = dfs[num]['text'].values.tolist()\n",
        "  \n",
        "  bigram_text = []\n",
        "  bigram_tag = []\n",
        "\n",
        "  for sen in sample:\n",
        "    \n",
        "    doc = sp(sen)\n",
        "    for i in range(len(doc)):\n",
        "      j = i+1\n",
        "      if j < len(doc):\n",
        "        if ( (doc[i].pos_ == \"ADJ\" or doc[i].pos_ == \"NOUN\" or doc[i].pos_ == \"PROPN\") and (doc[j].pos_ == \"ADJ\" or doc[j].pos_ == \"NOUN\" or doc[j].pos_ == \"PROPN\") ):\n",
        "          bigram_text.append( str( doc[i].text + \" \" + doc[j].text ) )\n",
        "          bigram_tag.append( str( doc[i].pos_ + \" \" + doc[j].pos_ ) )\n",
        "          \n",
        "  temp = pd.DataFrame({'text': bigram_text, 'pos_tag': bigram_tag })\n",
        "  \n",
        "  temp2  = temp.groupby(['text']).size().reset_index(name='counts')\n",
        "  temp2.to_csv(\"./dem_pos_bigrams/temp_dem_d\"+str(num)+\".csv\")\n",
        "\n",
        "\n"
      ],
      "metadata": {
        "id": "EOvPW5V57x8B"
      },
      "execution_count": null,
      "outputs": []
    },
    {
      "cell_type": "markdown",
      "source": [
        "# merge all csvs"
      ],
      "metadata": {
        "id": "4ct2EUnyaHpS"
      }
    },
    {
      "cell_type": "code",
      "source": [
        "\n",
        "\n",
        "import glob\n",
        "import os\n",
        "import pandas as pd   \n",
        "\n",
        "path = r'./dem_pos_bigrams/'                     # use your path\n",
        "all_files = glob.glob(os.path.join(path, \"*.csv\"))     # advisable to use os.path.join as this makes concatenation OS independent\n",
        "\n",
        "df_from_each_file = (pd.read_csv(f, header=0) for f in all_files)\n",
        "concatenated_df   = pd.concat(df_from_each_file, ignore_index=True)\n",
        "\n",
        "\n"
      ],
      "metadata": {
        "id": "jqU5chXeMMbx"
      },
      "execution_count": null,
      "outputs": []
    },
    {
      "cell_type": "code",
      "source": [
        "concatenated_df.sample(3)"
      ],
      "metadata": {
        "id": "PZII1D_8HpYa",
        "colab": {
          "base_uri": "https://localhost:8080/",
          "height": 143
        },
        "outputId": "19e12a51-851a-4948-f863-cfc1db99730a"
      },
      "execution_count": null,
      "outputs": [
        {
          "output_type": "execute_result",
          "data": {
            "text/html": [
              "\n",
              "  <div id=\"df-5acf7b6f-b7be-41b1-b69f-1d48a0785cb7\">\n",
              "    <div class=\"colab-df-container\">\n",
              "      <div>\n",
              "<style scoped>\n",
              "    .dataframe tbody tr th:only-of-type {\n",
              "        vertical-align: middle;\n",
              "    }\n",
              "\n",
              "    .dataframe tbody tr th {\n",
              "        vertical-align: top;\n",
              "    }\n",
              "\n",
              "    .dataframe thead th {\n",
              "        text-align: right;\n",
              "    }\n",
              "</style>\n",
              "<table border=\"1\" class=\"dataframe\">\n",
              "  <thead>\n",
              "    <tr style=\"text-align: right;\">\n",
              "      <th></th>\n",
              "      <th>Unnamed: 0</th>\n",
              "      <th>text</th>\n",
              "      <th>counts</th>\n",
              "    </tr>\n",
              "  </thead>\n",
              "  <tbody>\n",
              "    <tr>\n",
              "      <th>4499361</th>\n",
              "      <td>453072</td>\n",
              "      <td>feeding operation</td>\n",
              "      <td>2</td>\n",
              "    </tr>\n",
              "    <tr>\n",
              "      <th>13578461</th>\n",
              "      <td>665575</td>\n",
              "      <td>© Greg</td>\n",
              "      <td>5</td>\n",
              "    </tr>\n",
              "    <tr>\n",
              "      <th>8303890</th>\n",
              "      <td>325752</td>\n",
              "      <td>VOTING LONG</td>\n",
              "      <td>1</td>\n",
              "    </tr>\n",
              "  </tbody>\n",
              "</table>\n",
              "</div>\n",
              "      <button class=\"colab-df-convert\" onclick=\"convertToInteractive('df-5acf7b6f-b7be-41b1-b69f-1d48a0785cb7')\"\n",
              "              title=\"Convert this dataframe to an interactive table.\"\n",
              "              style=\"display:none;\">\n",
              "        \n",
              "  <svg xmlns=\"http://www.w3.org/2000/svg\" height=\"24px\"viewBox=\"0 0 24 24\"\n",
              "       width=\"24px\">\n",
              "    <path d=\"M0 0h24v24H0V0z\" fill=\"none\"/>\n",
              "    <path d=\"M18.56 5.44l.94 2.06.94-2.06 2.06-.94-2.06-.94-.94-2.06-.94 2.06-2.06.94zm-11 1L8.5 8.5l.94-2.06 2.06-.94-2.06-.94L8.5 2.5l-.94 2.06-2.06.94zm10 10l.94 2.06.94-2.06 2.06-.94-2.06-.94-.94-2.06-.94 2.06-2.06.94z\"/><path d=\"M17.41 7.96l-1.37-1.37c-.4-.4-.92-.59-1.43-.59-.52 0-1.04.2-1.43.59L10.3 9.45l-7.72 7.72c-.78.78-.78 2.05 0 2.83L4 21.41c.39.39.9.59 1.41.59.51 0 1.02-.2 1.41-.59l7.78-7.78 2.81-2.81c.8-.78.8-2.07 0-2.86zM5.41 20L4 18.59l7.72-7.72 1.47 1.35L5.41 20z\"/>\n",
              "  </svg>\n",
              "      </button>\n",
              "      \n",
              "  <style>\n",
              "    .colab-df-container {\n",
              "      display:flex;\n",
              "      flex-wrap:wrap;\n",
              "      gap: 12px;\n",
              "    }\n",
              "\n",
              "    .colab-df-convert {\n",
              "      background-color: #E8F0FE;\n",
              "      border: none;\n",
              "      border-radius: 50%;\n",
              "      cursor: pointer;\n",
              "      display: none;\n",
              "      fill: #1967D2;\n",
              "      height: 32px;\n",
              "      padding: 0 0 0 0;\n",
              "      width: 32px;\n",
              "    }\n",
              "\n",
              "    .colab-df-convert:hover {\n",
              "      background-color: #E2EBFA;\n",
              "      box-shadow: 0px 1px 2px rgba(60, 64, 67, 0.3), 0px 1px 3px 1px rgba(60, 64, 67, 0.15);\n",
              "      fill: #174EA6;\n",
              "    }\n",
              "\n",
              "    [theme=dark] .colab-df-convert {\n",
              "      background-color: #3B4455;\n",
              "      fill: #D2E3FC;\n",
              "    }\n",
              "\n",
              "    [theme=dark] .colab-df-convert:hover {\n",
              "      background-color: #434B5C;\n",
              "      box-shadow: 0px 1px 3px 1px rgba(0, 0, 0, 0.15);\n",
              "      filter: drop-shadow(0px 1px 2px rgba(0, 0, 0, 0.3));\n",
              "      fill: #FFFFFF;\n",
              "    }\n",
              "  </style>\n",
              "\n",
              "      <script>\n",
              "        const buttonEl =\n",
              "          document.querySelector('#df-5acf7b6f-b7be-41b1-b69f-1d48a0785cb7 button.colab-df-convert');\n",
              "        buttonEl.style.display =\n",
              "          google.colab.kernel.accessAllowed ? 'block' : 'none';\n",
              "\n",
              "        async function convertToInteractive(key) {\n",
              "          const element = document.querySelector('#df-5acf7b6f-b7be-41b1-b69f-1d48a0785cb7');\n",
              "          const dataTable =\n",
              "            await google.colab.kernel.invokeFunction('convertToInteractive',\n",
              "                                                     [key], {});\n",
              "          if (!dataTable) return;\n",
              "\n",
              "          const docLinkHtml = 'Like what you see? Visit the ' +\n",
              "            '<a target=\"_blank\" href=https://colab.research.google.com/notebooks/data_table.ipynb>data table notebook</a>'\n",
              "            + ' to learn more about interactive tables.';\n",
              "          element.innerHTML = '';\n",
              "          dataTable['output_type'] = 'display_data';\n",
              "          await google.colab.output.renderOutput(dataTable, element);\n",
              "          const docLink = document.createElement('div');\n",
              "          docLink.innerHTML = docLinkHtml;\n",
              "          element.appendChild(docLink);\n",
              "        }\n",
              "      </script>\n",
              "    </div>\n",
              "  </div>\n",
              "  "
            ],
            "text/plain": [
              "          Unnamed: 0               text  counts\n",
              "4499361       453072  feeding operation       2\n",
              "13578461      665575             © Greg       5\n",
              "8303890       325752        VOTING LONG       1"
            ]
          },
          "metadata": {},
          "execution_count": 6
        }
      ]
    },
    {
      "cell_type": "code",
      "source": [
        "df_merge = concatenated_df.groupby(['text'])['counts'].agg('sum').reset_index()"
      ],
      "metadata": {
        "id": "RKlbr2v-cPXd"
      },
      "execution_count": null,
      "outputs": []
    },
    {
      "cell_type": "code",
      "source": [
        "df_merge.sample(3)"
      ],
      "metadata": {
        "colab": {
          "base_uri": "https://localhost:8080/",
          "height": 143
        },
        "id": "xiufDU12cTze",
        "outputId": "59569a56-77af-40fc-f078-10c1f12e7fa9"
      },
      "execution_count": null,
      "outputs": [
        {
          "output_type": "execute_result",
          "data": {
            "text/html": [
              "\n",
              "  <div id=\"df-dd923b41-6e4e-437e-a993-8f418d497587\">\n",
              "    <div class=\"colab-df-container\">\n",
              "      <div>\n",
              "<style scoped>\n",
              "    .dataframe tbody tr th:only-of-type {\n",
              "        vertical-align: middle;\n",
              "    }\n",
              "\n",
              "    .dataframe tbody tr th {\n",
              "        vertical-align: top;\n",
              "    }\n",
              "\n",
              "    .dataframe thead th {\n",
              "        text-align: right;\n",
              "    }\n",
              "</style>\n",
              "<table border=\"1\" class=\"dataframe\">\n",
              "  <thead>\n",
              "    <tr style=\"text-align: right;\">\n",
              "      <th></th>\n",
              "      <th>text</th>\n",
              "      <th>counts</th>\n",
              "    </tr>\n",
              "  </thead>\n",
              "  <tbody>\n",
              "    <tr>\n",
              "      <th>35389</th>\n",
              "      <td># GovernmentContractor</td>\n",
              "      <td>1</td>\n",
              "    </tr>\n",
              "    <tr>\n",
              "      <th>5060267</th>\n",
              "      <td>dehumanizing dragnet</td>\n",
              "      <td>1</td>\n",
              "    </tr>\n",
              "    <tr>\n",
              "      <th>785348</th>\n",
              "      <td>COLLECTIVE IDIOCY</td>\n",
              "      <td>2</td>\n",
              "    </tr>\n",
              "  </tbody>\n",
              "</table>\n",
              "</div>\n",
              "      <button class=\"colab-df-convert\" onclick=\"convertToInteractive('df-dd923b41-6e4e-437e-a993-8f418d497587')\"\n",
              "              title=\"Convert this dataframe to an interactive table.\"\n",
              "              style=\"display:none;\">\n",
              "        \n",
              "  <svg xmlns=\"http://www.w3.org/2000/svg\" height=\"24px\"viewBox=\"0 0 24 24\"\n",
              "       width=\"24px\">\n",
              "    <path d=\"M0 0h24v24H0V0z\" fill=\"none\"/>\n",
              "    <path d=\"M18.56 5.44l.94 2.06.94-2.06 2.06-.94-2.06-.94-.94-2.06-.94 2.06-2.06.94zm-11 1L8.5 8.5l.94-2.06 2.06-.94-2.06-.94L8.5 2.5l-.94 2.06-2.06.94zm10 10l.94 2.06.94-2.06 2.06-.94-2.06-.94-.94-2.06-.94 2.06-2.06.94z\"/><path d=\"M17.41 7.96l-1.37-1.37c-.4-.4-.92-.59-1.43-.59-.52 0-1.04.2-1.43.59L10.3 9.45l-7.72 7.72c-.78.78-.78 2.05 0 2.83L4 21.41c.39.39.9.59 1.41.59.51 0 1.02-.2 1.41-.59l7.78-7.78 2.81-2.81c.8-.78.8-2.07 0-2.86zM5.41 20L4 18.59l7.72-7.72 1.47 1.35L5.41 20z\"/>\n",
              "  </svg>\n",
              "      </button>\n",
              "      \n",
              "  <style>\n",
              "    .colab-df-container {\n",
              "      display:flex;\n",
              "      flex-wrap:wrap;\n",
              "      gap: 12px;\n",
              "    }\n",
              "\n",
              "    .colab-df-convert {\n",
              "      background-color: #E8F0FE;\n",
              "      border: none;\n",
              "      border-radius: 50%;\n",
              "      cursor: pointer;\n",
              "      display: none;\n",
              "      fill: #1967D2;\n",
              "      height: 32px;\n",
              "      padding: 0 0 0 0;\n",
              "      width: 32px;\n",
              "    }\n",
              "\n",
              "    .colab-df-convert:hover {\n",
              "      background-color: #E2EBFA;\n",
              "      box-shadow: 0px 1px 2px rgba(60, 64, 67, 0.3), 0px 1px 3px 1px rgba(60, 64, 67, 0.15);\n",
              "      fill: #174EA6;\n",
              "    }\n",
              "\n",
              "    [theme=dark] .colab-df-convert {\n",
              "      background-color: #3B4455;\n",
              "      fill: #D2E3FC;\n",
              "    }\n",
              "\n",
              "    [theme=dark] .colab-df-convert:hover {\n",
              "      background-color: #434B5C;\n",
              "      box-shadow: 0px 1px 3px 1px rgba(0, 0, 0, 0.15);\n",
              "      filter: drop-shadow(0px 1px 2px rgba(0, 0, 0, 0.3));\n",
              "      fill: #FFFFFF;\n",
              "    }\n",
              "  </style>\n",
              "\n",
              "      <script>\n",
              "        const buttonEl =\n",
              "          document.querySelector('#df-dd923b41-6e4e-437e-a993-8f418d497587 button.colab-df-convert');\n",
              "        buttonEl.style.display =\n",
              "          google.colab.kernel.accessAllowed ? 'block' : 'none';\n",
              "\n",
              "        async function convertToInteractive(key) {\n",
              "          const element = document.querySelector('#df-dd923b41-6e4e-437e-a993-8f418d497587');\n",
              "          const dataTable =\n",
              "            await google.colab.kernel.invokeFunction('convertToInteractive',\n",
              "                                                     [key], {});\n",
              "          if (!dataTable) return;\n",
              "\n",
              "          const docLinkHtml = 'Like what you see? Visit the ' +\n",
              "            '<a target=\"_blank\" href=https://colab.research.google.com/notebooks/data_table.ipynb>data table notebook</a>'\n",
              "            + ' to learn more about interactive tables.';\n",
              "          element.innerHTML = '';\n",
              "          dataTable['output_type'] = 'display_data';\n",
              "          await google.colab.output.renderOutput(dataTable, element);\n",
              "          const docLink = document.createElement('div');\n",
              "          docLink.innerHTML = docLinkHtml;\n",
              "          element.appendChild(docLink);\n",
              "        }\n",
              "      </script>\n",
              "    </div>\n",
              "  </div>\n",
              "  "
            ],
            "text/plain": [
              "                           text  counts\n",
              "35389    # GovernmentContractor       1\n",
              "5060267    dehumanizing dragnet       1\n",
              "785348        COLLECTIVE IDIOCY       2"
            ]
          },
          "metadata": {},
          "execution_count": 8
        }
      ]
    },
    {
      "cell_type": "code",
      "source": [
        "df_merge.to_csv(\"dem_pos_pos_bigrams_all.csv\")"
      ],
      "metadata": {
        "id": "IvsJu7dGlbWM"
      },
      "execution_count": null,
      "outputs": []
    },
    {
      "cell_type": "code",
      "source": [
        "len(df_merge)"
      ],
      "metadata": {
        "colab": {
          "base_uri": "https://localhost:8080/"
        },
        "id": "u9PlmzH-cumV",
        "outputId": "6b0c8c99-2d0f-4af5-c388-bf841f20645a"
      },
      "execution_count": null,
      "outputs": [
        {
          "output_type": "execute_result",
          "data": {
            "text/plain": [
              "8150011"
            ]
          },
          "metadata": {},
          "execution_count": 9
        }
      ]
    },
    {
      "cell_type": "code",
      "source": [
        "df_merge_n10 = df_merge.loc[df_merge['counts'] >= 10]\n",
        "df_merge_n100 = df_merge.loc[df_merge['counts'] >= 100]\n",
        "df_merge_n1k = df_merge.loc[df_merge['counts'] >= 1000]\n"
      ],
      "metadata": {
        "id": "LWAiZnuicy9e"
      },
      "execution_count": null,
      "outputs": []
    },
    {
      "cell_type": "code",
      "source": [
        "len(df_merge_n100)"
      ],
      "metadata": {
        "colab": {
          "base_uri": "https://localhost:8080/"
        },
        "id": "BIrgEz51c2sj",
        "outputId": "fe46251c-d5d1-44a1-d518-6c231684c399"
      },
      "execution_count": null,
      "outputs": [
        {
          "output_type": "execute_result",
          "data": {
            "text/plain": [
              "63405"
            ]
          },
          "metadata": {},
          "execution_count": 14
        }
      ]
    },
    {
      "cell_type": "code",
      "source": [
        "len(df_merge_n1k)"
      ],
      "metadata": {
        "colab": {
          "base_uri": "https://localhost:8080/"
        },
        "id": "XOcht9lug037",
        "outputId": "af1df4db-bf14-481b-89f8-17693c60d3c1"
      },
      "execution_count": null,
      "outputs": [
        {
          "output_type": "execute_result",
          "data": {
            "text/plain": [
              "5721"
            ]
          },
          "metadata": {},
          "execution_count": 17
        }
      ]
    },
    {
      "cell_type": "code",
      "source": [
        "df_merge_n1k.to_csv(\"dem_pos_bigrams_all_n1k.csv\")"
      ],
      "metadata": {
        "id": "p930kBUlg5an"
      },
      "execution_count": null,
      "outputs": []
    },
    {
      "cell_type": "code",
      "source": [
        "df_merge_n100.to_csv(\"dem_pos_bigrams_all_n100.csv\")"
      ],
      "metadata": {
        "id": "pCLH8xu0c-DR"
      },
      "execution_count": null,
      "outputs": []
    },
    {
      "cell_type": "code",
      "source": [
        "\n",
        "\n",
        "import glob\n",
        "import os\n",
        "import pandas as pd   \n",
        "\n",
        "path = r'./rep_pos_bigrams/'                     # use your path\n",
        "all_files = glob.glob(os.path.join(path, \"*.csv\"))     # advisable to use os.path.join as this makes concatenation OS independent\n",
        "\n",
        "df_from_each_file = (pd.read_csv(f, header=0) for f in all_files)\n",
        "concatenated_df   = pd.concat(df_from_each_file, ignore_index=True)\n",
        "\n",
        "\n"
      ],
      "metadata": {
        "id": "qMDD_DItXGWy"
      },
      "execution_count": null,
      "outputs": []
    },
    {
      "cell_type": "code",
      "source": [
        "df_merge = concatenated_df.groupby(['text'])['counts'].agg('sum').reset_index()"
      ],
      "metadata": {
        "id": "UELYh6dgXKtl"
      },
      "execution_count": null,
      "outputs": []
    },
    {
      "cell_type": "code",
      "source": [
        "len(df_merge)"
      ],
      "metadata": {
        "colab": {
          "base_uri": "https://localhost:8080/"
        },
        "id": "MtjqZDEqYF3F",
        "outputId": "def5b14a-01d3-4605-9dd6-7d2b8a0e541e"
      },
      "execution_count": null,
      "outputs": [
        {
          "output_type": "execute_result",
          "data": {
            "text/plain": [
              "6835851"
            ]
          },
          "metadata": {},
          "execution_count": 5
        }
      ]
    },
    {
      "cell_type": "code",
      "source": [
        "df_merge.to_csv(\"rep_pos_pos_bigrams_all.csv\")"
      ],
      "metadata": {
        "id": "9D_5XsthXOXN"
      },
      "execution_count": null,
      "outputs": []
    },
    {
      "cell_type": "code",
      "source": [
        "df_merge.sample(2)"
      ],
      "metadata": {
        "colab": {
          "base_uri": "https://localhost:8080/",
          "height": 112
        },
        "id": "Bd5AvxoXd8yK",
        "outputId": "c32de537-c83d-4fbe-fdc0-072e6e31dc48"
      },
      "execution_count": null,
      "outputs": [
        {
          "output_type": "execute_result",
          "data": {
            "text/html": [
              "\n",
              "  <div id=\"df-46c8ee13-4a0f-43cc-8935-e49a7e6b9c63\">\n",
              "    <div class=\"colab-df-container\">\n",
              "      <div>\n",
              "<style scoped>\n",
              "    .dataframe tbody tr th:only-of-type {\n",
              "        vertical-align: middle;\n",
              "    }\n",
              "\n",
              "    .dataframe tbody tr th {\n",
              "        vertical-align: top;\n",
              "    }\n",
              "\n",
              "    .dataframe thead th {\n",
              "        text-align: right;\n",
              "    }\n",
              "</style>\n",
              "<table border=\"1\" class=\"dataframe\">\n",
              "  <thead>\n",
              "    <tr style=\"text-align: right;\">\n",
              "      <th></th>\n",
              "      <th>text</th>\n",
              "      <th>counts</th>\n",
              "    </tr>\n",
              "  </thead>\n",
              "  <tbody>\n",
              "    <tr>\n",
              "      <th>449692</th>\n",
              "      <td>BUCKET LIST</td>\n",
              "      <td>6</td>\n",
              "    </tr>\n",
              "    <tr>\n",
              "      <th>6824128</th>\n",
              "      <td>😳 Flashback</td>\n",
              "      <td>4</td>\n",
              "    </tr>\n",
              "  </tbody>\n",
              "</table>\n",
              "</div>\n",
              "      <button class=\"colab-df-convert\" onclick=\"convertToInteractive('df-46c8ee13-4a0f-43cc-8935-e49a7e6b9c63')\"\n",
              "              title=\"Convert this dataframe to an interactive table.\"\n",
              "              style=\"display:none;\">\n",
              "        \n",
              "  <svg xmlns=\"http://www.w3.org/2000/svg\" height=\"24px\"viewBox=\"0 0 24 24\"\n",
              "       width=\"24px\">\n",
              "    <path d=\"M0 0h24v24H0V0z\" fill=\"none\"/>\n",
              "    <path d=\"M18.56 5.44l.94 2.06.94-2.06 2.06-.94-2.06-.94-.94-2.06-.94 2.06-2.06.94zm-11 1L8.5 8.5l.94-2.06 2.06-.94-2.06-.94L8.5 2.5l-.94 2.06-2.06.94zm10 10l.94 2.06.94-2.06 2.06-.94-2.06-.94-.94-2.06-.94 2.06-2.06.94z\"/><path d=\"M17.41 7.96l-1.37-1.37c-.4-.4-.92-.59-1.43-.59-.52 0-1.04.2-1.43.59L10.3 9.45l-7.72 7.72c-.78.78-.78 2.05 0 2.83L4 21.41c.39.39.9.59 1.41.59.51 0 1.02-.2 1.41-.59l7.78-7.78 2.81-2.81c.8-.78.8-2.07 0-2.86zM5.41 20L4 18.59l7.72-7.72 1.47 1.35L5.41 20z\"/>\n",
              "  </svg>\n",
              "      </button>\n",
              "      \n",
              "  <style>\n",
              "    .colab-df-container {\n",
              "      display:flex;\n",
              "      flex-wrap:wrap;\n",
              "      gap: 12px;\n",
              "    }\n",
              "\n",
              "    .colab-df-convert {\n",
              "      background-color: #E8F0FE;\n",
              "      border: none;\n",
              "      border-radius: 50%;\n",
              "      cursor: pointer;\n",
              "      display: none;\n",
              "      fill: #1967D2;\n",
              "      height: 32px;\n",
              "      padding: 0 0 0 0;\n",
              "      width: 32px;\n",
              "    }\n",
              "\n",
              "    .colab-df-convert:hover {\n",
              "      background-color: #E2EBFA;\n",
              "      box-shadow: 0px 1px 2px rgba(60, 64, 67, 0.3), 0px 1px 3px 1px rgba(60, 64, 67, 0.15);\n",
              "      fill: #174EA6;\n",
              "    }\n",
              "\n",
              "    [theme=dark] .colab-df-convert {\n",
              "      background-color: #3B4455;\n",
              "      fill: #D2E3FC;\n",
              "    }\n",
              "\n",
              "    [theme=dark] .colab-df-convert:hover {\n",
              "      background-color: #434B5C;\n",
              "      box-shadow: 0px 1px 3px 1px rgba(0, 0, 0, 0.15);\n",
              "      filter: drop-shadow(0px 1px 2px rgba(0, 0, 0, 0.3));\n",
              "      fill: #FFFFFF;\n",
              "    }\n",
              "  </style>\n",
              "\n",
              "      <script>\n",
              "        const buttonEl =\n",
              "          document.querySelector('#df-46c8ee13-4a0f-43cc-8935-e49a7e6b9c63 button.colab-df-convert');\n",
              "        buttonEl.style.display =\n",
              "          google.colab.kernel.accessAllowed ? 'block' : 'none';\n",
              "\n",
              "        async function convertToInteractive(key) {\n",
              "          const element = document.querySelector('#df-46c8ee13-4a0f-43cc-8935-e49a7e6b9c63');\n",
              "          const dataTable =\n",
              "            await google.colab.kernel.invokeFunction('convertToInteractive',\n",
              "                                                     [key], {});\n",
              "          if (!dataTable) return;\n",
              "\n",
              "          const docLinkHtml = 'Like what you see? Visit the ' +\n",
              "            '<a target=\"_blank\" href=https://colab.research.google.com/notebooks/data_table.ipynb>data table notebook</a>'\n",
              "            + ' to learn more about interactive tables.';\n",
              "          element.innerHTML = '';\n",
              "          dataTable['output_type'] = 'display_data';\n",
              "          await google.colab.output.renderOutput(dataTable, element);\n",
              "          const docLink = document.createElement('div');\n",
              "          docLink.innerHTML = docLinkHtml;\n",
              "          element.appendChild(docLink);\n",
              "        }\n",
              "      </script>\n",
              "    </div>\n",
              "  </div>\n",
              "  "
            ],
            "text/plain": [
              "                text  counts\n",
              "449692   BUCKET LIST       6\n",
              "6824128  😳 Flashback       4"
            ]
          },
          "metadata": {},
          "execution_count": 8
        }
      ]
    },
    {
      "cell_type": "code",
      "source": [
        "import pandas as pd\n",
        "\n",
        "dem_pos_pos_bigrams_all = pd.read_csv(\"dem_pos_pos_bigrams_all.csv\")"
      ],
      "metadata": {
        "id": "SlQncizNf4rQ"
      },
      "execution_count": null,
      "outputs": []
    },
    {
      "cell_type": "code",
      "source": [
        "rep_pos_pos_bigrams_all = pd.read_csv(\"rep_pos_pos_bigrams_all.csv\")"
      ],
      "metadata": {
        "id": "CeNEO2c-gFVl"
      },
      "execution_count": null,
      "outputs": []
    },
    {
      "cell_type": "code",
      "source": [
        "dem_pos_pos_bigrams_all.rename(columns={'text':'text', 'counts': 'count_dem'}, inplace=True)\n",
        "rep_pos_pos_bigrams_all.rename(columns={'text':'text', 'counts': 'count_rep'}, inplace=True)\n"
      ],
      "metadata": {
        "id": "f6eh-RtlhWoj"
      },
      "execution_count": null,
      "outputs": []
    },
    {
      "cell_type": "code",
      "source": [
        "dem_pos_pos_bigrams_all = dem_pos_pos_bigrams_all[['text','count_dem']]\n",
        "rep_pos_pos_bigrams_all = rep_pos_pos_bigrams_all[['text','count_rep']]"
      ],
      "metadata": {
        "id": "C8lpwHu-nXfz"
      },
      "execution_count": null,
      "outputs": []
    },
    {
      "cell_type": "code",
      "source": [
        "dem_pos_pos_bigrams_all['count_dem'] = dem_pos_pos_bigrams_all['count_dem'].astype(int)\n",
        "rep_pos_pos_bigrams_all['count_rep'] = rep_pos_pos_bigrams_all['count_rep'].astype(int)\n"
      ],
      "metadata": {
        "colab": {
          "base_uri": "https://localhost:8080/"
        },
        "id": "0r91ccfootcm",
        "outputId": "8148b3f9-5c2c-4fd4-d44e-cfd054ab2806"
      },
      "execution_count": null,
      "outputs": [
        {
          "output_type": "stream",
          "name": "stderr",
          "text": [
            "/usr/local/lib/python3.7/dist-packages/ipykernel_launcher.py:2: SettingWithCopyWarning: \n",
            "A value is trying to be set on a copy of a slice from a DataFrame.\n",
            "Try using .loc[row_indexer,col_indexer] = value instead\n",
            "\n",
            "See the caveats in the documentation: https://pandas.pydata.org/pandas-docs/stable/user_guide/indexing.html#returning-a-view-versus-a-copy\n",
            "  \n"
          ]
        }
      ]
    },
    {
      "cell_type": "code",
      "source": [
        "df3_merged = pd.merge(dem_pos_pos_bigrams_all, rep_pos_pos_bigrams_all, how=\"outer\", on='text')\n"
      ],
      "metadata": {
        "id": "1W5jmb03gGrg"
      },
      "execution_count": null,
      "outputs": []
    },
    {
      "cell_type": "code",
      "source": [
        "import numpy as np\n",
        "\n",
        "df3_merged = df3_merged.replace(np.nan, 0)"
      ],
      "metadata": {
        "id": "fztXAg4klBYl"
      },
      "execution_count": null,
      "outputs": []
    },
    {
      "cell_type": "code",
      "source": [
        "df3_merged['count_sum'] = df3_merged['count_dem'] + df3_merged['count_rep']"
      ],
      "metadata": {
        "id": "-gUM3XWasqez"
      },
      "execution_count": null,
      "outputs": []
    },
    {
      "cell_type": "code",
      "source": [
        "len(df3_merged)"
      ],
      "metadata": {
        "colab": {
          "base_uri": "https://localhost:8080/"
        },
        "id": "giR_gVuKt4vU",
        "outputId": "c88be529-5b8d-465d-869a-f7a0f7321756"
      },
      "execution_count": null,
      "outputs": [
        {
          "output_type": "execute_result",
          "data": {
            "text/plain": [
              "13106677"
            ]
          },
          "metadata": {},
          "execution_count": 38
        }
      ]
    },
    {
      "cell_type": "code",
      "source": [
        "df3_merged_select = df3_merged[df3_merged['count_dem'] >= 100]"
      ],
      "metadata": {
        "id": "sQtEKBwqswI9"
      },
      "execution_count": null,
      "outputs": []
    },
    {
      "cell_type": "code",
      "source": [
        "df3_merged_select.sample(4)"
      ],
      "metadata": {
        "colab": {
          "base_uri": "https://localhost:8080/",
          "height": 175
        },
        "id": "aXmm0Ybys247",
        "outputId": "81d70760-ba2d-4ce1-81a8-1ad68903951f"
      },
      "execution_count": null,
      "outputs": [
        {
          "output_type": "execute_result",
          "data": {
            "text/html": [
              "\n",
              "  <div id=\"df-156afbfc-c548-4022-8491-ca6d84d297b1\">\n",
              "    <div class=\"colab-df-container\">\n",
              "      <div>\n",
              "<style scoped>\n",
              "    .dataframe tbody tr th:only-of-type {\n",
              "        vertical-align: middle;\n",
              "    }\n",
              "\n",
              "    .dataframe tbody tr th {\n",
              "        vertical-align: top;\n",
              "    }\n",
              "\n",
              "    .dataframe thead th {\n",
              "        text-align: right;\n",
              "    }\n",
              "</style>\n",
              "<table border=\"1\" class=\"dataframe\">\n",
              "  <thead>\n",
              "    <tr style=\"text-align: right;\">\n",
              "      <th></th>\n",
              "      <th>text</th>\n",
              "      <th>count_dem</th>\n",
              "      <th>count_rep</th>\n",
              "      <th>count_sum</th>\n",
              "    </tr>\n",
              "  </thead>\n",
              "  <tbody>\n",
              "    <tr>\n",
              "      <th>6338249</th>\n",
              "      <td>litmus test</td>\n",
              "      <td>773.0</td>\n",
              "      <td>506.0</td>\n",
              "      <td>1279.0</td>\n",
              "    </tr>\n",
              "    <tr>\n",
              "      <th>1529356</th>\n",
              "      <td>Family Planning</td>\n",
              "      <td>510.0</td>\n",
              "      <td>134.0</td>\n",
              "      <td>644.0</td>\n",
              "    </tr>\n",
              "    <tr>\n",
              "      <th>3899505</th>\n",
              "      <td>Teresa Kumar</td>\n",
              "      <td>140.0</td>\n",
              "      <td>5.0</td>\n",
              "      <td>145.0</td>\n",
              "    </tr>\n",
              "    <tr>\n",
              "      <th>1709329</th>\n",
              "      <td>General Meeting</td>\n",
              "      <td>118.0</td>\n",
              "      <td>36.0</td>\n",
              "      <td>154.0</td>\n",
              "    </tr>\n",
              "  </tbody>\n",
              "</table>\n",
              "</div>\n",
              "      <button class=\"colab-df-convert\" onclick=\"convertToInteractive('df-156afbfc-c548-4022-8491-ca6d84d297b1')\"\n",
              "              title=\"Convert this dataframe to an interactive table.\"\n",
              "              style=\"display:none;\">\n",
              "        \n",
              "  <svg xmlns=\"http://www.w3.org/2000/svg\" height=\"24px\"viewBox=\"0 0 24 24\"\n",
              "       width=\"24px\">\n",
              "    <path d=\"M0 0h24v24H0V0z\" fill=\"none\"/>\n",
              "    <path d=\"M18.56 5.44l.94 2.06.94-2.06 2.06-.94-2.06-.94-.94-2.06-.94 2.06-2.06.94zm-11 1L8.5 8.5l.94-2.06 2.06-.94-2.06-.94L8.5 2.5l-.94 2.06-2.06.94zm10 10l.94 2.06.94-2.06 2.06-.94-2.06-.94-.94-2.06-.94 2.06-2.06.94z\"/><path d=\"M17.41 7.96l-1.37-1.37c-.4-.4-.92-.59-1.43-.59-.52 0-1.04.2-1.43.59L10.3 9.45l-7.72 7.72c-.78.78-.78 2.05 0 2.83L4 21.41c.39.39.9.59 1.41.59.51 0 1.02-.2 1.41-.59l7.78-7.78 2.81-2.81c.8-.78.8-2.07 0-2.86zM5.41 20L4 18.59l7.72-7.72 1.47 1.35L5.41 20z\"/>\n",
              "  </svg>\n",
              "      </button>\n",
              "      \n",
              "  <style>\n",
              "    .colab-df-container {\n",
              "      display:flex;\n",
              "      flex-wrap:wrap;\n",
              "      gap: 12px;\n",
              "    }\n",
              "\n",
              "    .colab-df-convert {\n",
              "      background-color: #E8F0FE;\n",
              "      border: none;\n",
              "      border-radius: 50%;\n",
              "      cursor: pointer;\n",
              "      display: none;\n",
              "      fill: #1967D2;\n",
              "      height: 32px;\n",
              "      padding: 0 0 0 0;\n",
              "      width: 32px;\n",
              "    }\n",
              "\n",
              "    .colab-df-convert:hover {\n",
              "      background-color: #E2EBFA;\n",
              "      box-shadow: 0px 1px 2px rgba(60, 64, 67, 0.3), 0px 1px 3px 1px rgba(60, 64, 67, 0.15);\n",
              "      fill: #174EA6;\n",
              "    }\n",
              "\n",
              "    [theme=dark] .colab-df-convert {\n",
              "      background-color: #3B4455;\n",
              "      fill: #D2E3FC;\n",
              "    }\n",
              "\n",
              "    [theme=dark] .colab-df-convert:hover {\n",
              "      background-color: #434B5C;\n",
              "      box-shadow: 0px 1px 3px 1px rgba(0, 0, 0, 0.15);\n",
              "      filter: drop-shadow(0px 1px 2px rgba(0, 0, 0, 0.3));\n",
              "      fill: #FFFFFF;\n",
              "    }\n",
              "  </style>\n",
              "\n",
              "      <script>\n",
              "        const buttonEl =\n",
              "          document.querySelector('#df-156afbfc-c548-4022-8491-ca6d84d297b1 button.colab-df-convert');\n",
              "        buttonEl.style.display =\n",
              "          google.colab.kernel.accessAllowed ? 'block' : 'none';\n",
              "\n",
              "        async function convertToInteractive(key) {\n",
              "          const element = document.querySelector('#df-156afbfc-c548-4022-8491-ca6d84d297b1');\n",
              "          const dataTable =\n",
              "            await google.colab.kernel.invokeFunction('convertToInteractive',\n",
              "                                                     [key], {});\n",
              "          if (!dataTable) return;\n",
              "\n",
              "          const docLinkHtml = 'Like what you see? Visit the ' +\n",
              "            '<a target=\"_blank\" href=https://colab.research.google.com/notebooks/data_table.ipynb>data table notebook</a>'\n",
              "            + ' to learn more about interactive tables.';\n",
              "          element.innerHTML = '';\n",
              "          dataTable['output_type'] = 'display_data';\n",
              "          await google.colab.output.renderOutput(dataTable, element);\n",
              "          const docLink = document.createElement('div');\n",
              "          docLink.innerHTML = docLinkHtml;\n",
              "          element.appendChild(docLink);\n",
              "        }\n",
              "      </script>\n",
              "    </div>\n",
              "  </div>\n",
              "  "
            ],
            "text/plain": [
              "                    text  count_dem  count_rep  count_sum\n",
              "6338249      litmus test      773.0      506.0     1279.0\n",
              "1529356  Family Planning      510.0      134.0      644.0\n",
              "3899505     Teresa Kumar      140.0        5.0      145.0\n",
              "1709329  General Meeting      118.0       36.0      154.0"
            ]
          },
          "metadata": {},
          "execution_count": 37
        }
      ]
    },
    {
      "cell_type": "code",
      "source": [
        "len(df3_merged_select)"
      ],
      "metadata": {
        "colab": {
          "base_uri": "https://localhost:8080/"
        },
        "id": "CIVD_TKqs0t-",
        "outputId": "1ccbff65-1018-49d7-879f-312166d22275"
      },
      "execution_count": null,
      "outputs": [
        {
          "output_type": "execute_result",
          "data": {
            "text/plain": [
              "63405"
            ]
          },
          "metadata": {},
          "execution_count": 35
        }
      ]
    },
    {
      "cell_type": "code",
      "source": [
        "df3_merged_select.to_csv(\"pos_bigrams_all.csv\")"
      ],
      "metadata": {
        "id": "IuM3eq-xt9VG"
      },
      "execution_count": null,
      "outputs": []
    },
    {
      "cell_type": "markdown",
      "source": [
        "## pre-determined NER"
      ],
      "metadata": {
        "id": "U3dOpRygeBUj"
      }
    },
    {
      "cell_type": "code",
      "source": [
        "ner = pd.read_excel(\"/Users/yujinkim/Downloads/CrowdTangle/language_analysis/NER/ner/ner_count_m100_all_review_wip_update.xlsx\")\n"
      ],
      "metadata": {
        "id": "aW29RUPHd5et"
      },
      "execution_count": null,
      "outputs": []
    },
    {
      "cell_type": "markdown",
      "source": [
        "# test - examples"
      ],
      "metadata": {
        "id": "xoQk08O373c4"
      }
    },
    {
      "cell_type": "code",
      "source": [
        "import spacy\n",
        "\n",
        "nlp = spacy.load(\"en_core_web_sm\")\n",
        "sample = \"\"\"\n",
        "Daily Kos The AP reports that at least 65,000 bridges are \"structurally deficient\" and over 20,000 more are \"fracture critical,\" meaning that the failure of one component could lead to a collapse, as we saw in the I-5 bridge over the Skagit River in Washington state last spring. Join Daily Kos and the Democratic Senatorial Campaign Committee (DSCC) to tell Senate Republicans: Fix our roads and bridges instead of shutting down our government. AS THE GOP PREVENTS US FROM REBUILDING BADLY DECAYING INFRASTRUCTURE BECAUSE IT WILL CREATE JOBS AND IMPROVE THE ECONOMY, WHICH THEY DO NOT WANT, THEY HOPE THAT EVERY BRIDGE COLLAPSE WILL BE BLAMED ON OBAMA. YEAH.... THANKS OBAMA! HOW STUPID DO THEY THINK WE ARE? Tell Senate Republicans: Fix our roads and bridges instead of shutting down our government  Republicans are playing games with our government to appeal to their right-wing base—pushing us to the brink of a government shutdown in order to score a few points with the Tea Party. While they’re playing games of legislative chicken, our country is facing a major infrastructure crisis. The AP rep... \n",
        "\"\"\"\n",
        "doc = nlp(sample)\n",
        "for token in doc:\n",
        "    print(token.text, token.pos_, token.tag_, token.dep_)"
      ],
      "metadata": {
        "id": "OEZh78jP44Kp",
        "colab": {
          "base_uri": "https://localhost:8080/"
        },
        "outputId": "02cd008a-3cdd-43c1-a6bf-a483571bd868"
      },
      "execution_count": null,
      "outputs": [
        {
          "output_type": "stream",
          "name": "stdout",
          "text": [
            "\n",
            " SPACE _SP \n",
            "Daily PROPN NNP compound\n",
            "Kos PROPN NNP ROOT\n",
            "The DET DT det\n",
            "AP PROPN NNP nsubj\n",
            "reports VERB VBZ ROOT\n",
            "that SCONJ IN mark\n",
            "at ADV RB advmod\n",
            "least ADV RBS advmod\n",
            "65,000 NUM CD nummod\n",
            "bridges NOUN NNS nsubj\n",
            "are AUX VBP ccomp\n",
            "\" PUNCT `` punct\n",
            "structurally ADV RB advmod\n",
            "deficient ADJ JJ acomp\n",
            "\" PUNCT '' punct\n",
            "and CCONJ CC cc\n",
            "over ADP IN quantmod\n",
            "20,000 NUM CD nsubj\n",
            "more ADJ JJR amod\n",
            "are AUX VBP conj\n",
            "\" PUNCT `` punct\n",
            "fracture NOUN NN amod\n",
            "critical ADJ JJ acomp\n",
            ", PUNCT , punct\n",
            "\" PUNCT '' punct\n",
            "meaning VERB VBG advcl\n",
            "that SCONJ IN mark\n",
            "the DET DT det\n",
            "failure NOUN NN nsubj\n",
            "of ADP IN prep\n",
            "one NUM CD nummod\n",
            "component NOUN NN pobj\n",
            "could VERB MD aux\n",
            "lead VERB VB ccomp\n",
            "to ADP IN prep\n",
            "a DET DT det\n",
            "collapse NOUN NN pobj\n",
            ", PUNCT , punct\n",
            "as SCONJ IN mark\n",
            "we PRON PRP nsubj\n",
            "saw VERB VBD advcl\n",
            "in ADP IN prep\n",
            "the DET DT det\n",
            "I-5 PROPN NNP punct\n",
            "bridge NOUN NN pobj\n",
            "over ADP IN prep\n",
            "the DET DT det\n",
            "Skagit PROPN NNP compound\n",
            "River PROPN NNP pobj\n",
            "in ADP IN prep\n",
            "Washington PROPN NNP compound\n",
            "state NOUN NN pobj\n",
            "last ADJ JJ amod\n",
            "spring NOUN NN npadvmod\n",
            ". PUNCT . punct\n",
            "Join VERB VB compound\n",
            "Daily PROPN NNP compound\n",
            "Kos PROPN NNP nsubj\n",
            "and CCONJ CC cc\n",
            "the DET DT det\n",
            "Democratic PROPN NNP compound\n",
            "Senatorial PROPN NNP compound\n",
            "Campaign PROPN NNP compound\n",
            "Committee PROPN NNP conj\n",
            "( PUNCT -LRB- punct\n",
            "DSCC PROPN NNP appos\n",
            ") PUNCT -RRB- punct\n",
            "to PART TO aux\n",
            "tell VERB VB ROOT\n",
            "Senate PROPN NNP compound\n",
            "Republicans PROPN NNPS dobj\n",
            ": PUNCT : punct\n",
            "Fix VERB VB ROOT\n",
            "our DET PRP$ poss\n",
            "roads NOUN NNS dobj\n",
            "and CCONJ CC cc\n",
            "bridges NOUN NNS conj\n",
            "instead ADV RB advmod\n",
            "of ADP IN cc\n",
            "shutting VERB VBG conj\n",
            "down ADP RP prt\n",
            "our DET PRP$ poss\n",
            "government NOUN NN dobj\n",
            ". PUNCT . punct\n",
            "AS ADP IN ROOT\n",
            "THE DET DT det\n",
            "GOP PROPN NNP compound\n",
            "PREVENTS VERB VBZ compound\n",
            "US PRON PRP dobj\n",
            "FROM ADP IN prep\n",
            "REBUILDING NOUN NN compound\n",
            "BADLY NOUN NN compound\n",
            "DECAYING NOUN NN compound\n",
            "INFRASTRUCTURE NOUN NN pobj\n",
            "BECAUSE ADP IN mark\n",
            "IT PRON PRP nsubj\n",
            "WILL VERB MD aux\n",
            "CREATE VERB VB advcl\n",
            "JOBS PROPN NNP dobj\n",
            "AND CCONJ CC cc\n",
            "IMPROVE VERB VB conj\n",
            "THE DET DT det\n",
            "ECONOMY NOUN NNS dobj\n",
            ", PUNCT , punct\n",
            "WHICH DET WDT dobj\n",
            "THEY PRON PRP nsubj\n",
            "DO VERB VBP aux\n",
            "NOT ADV RB neg\n",
            "WANT VERB VB ccomp\n",
            ", PUNCT , punct\n",
            "THEY PRON PRP nsubj\n",
            "HOPE VERB VBP ROOT\n",
            "THAT ADP IN mark\n",
            "EVERY DET DT det\n",
            "BRIDGE NOUN NN amod\n",
            "COLLAPSE NOUN NN nsubj\n",
            "WILL VERB MD aux\n",
            "BE VERB VB ccomp\n",
            "BLAMED NOUN NNS acomp\n",
            "ON ADP IN prep\n",
            "OBAMA PROPN NNP pobj\n",
            ". PUNCT . punct\n",
            "YEAH INTJ UH ROOT\n",
            ".... PUNCT NFP punct\n",
            "THANKS INTJ UH compound\n",
            "OBAMA PROPN NNP ROOT\n",
            "! PUNCT . punct\n",
            "HOW ADV WRB compound\n",
            "STUPID ADJ JJ ROOT\n",
            "DO VERB VBP compound\n",
            "THEY PRON PRP nsubj\n",
            "THINK VERB VBP ROOT\n",
            "WE PRON PRP nsubj\n",
            "ARE VERB VBP ccomp\n",
            "? PUNCT . punct\n",
            "Tell VERB VB ROOT\n",
            "Senate PROPN NNP compound\n",
            "Republicans PROPN NNPS dobj\n",
            ": PUNCT : punct\n",
            "Fix VERB VB xcomp\n",
            "our DET PRP$ poss\n",
            "roads NOUN NNS dobj\n",
            "and CCONJ CC cc\n",
            "bridges NOUN NNS conj\n",
            "instead ADV RB advmod\n",
            "of ADP IN cc\n",
            "shutting VERB VBG conj\n",
            "down ADP RP prt\n",
            "our DET PRP$ poss\n",
            "government NOUN NN dobj\n",
            "  SPACE _SP \n",
            "Republicans NOUN NNS nsubj\n",
            "are AUX VBP aux\n",
            "playing VERB VBG ROOT\n",
            "games NOUN NNS dobj\n",
            "with ADP IN prep\n",
            "our DET PRP$ poss\n",
            "government NOUN NN pobj\n",
            "to PART TO aux\n",
            "appeal VERB VB advcl\n",
            "to ADP IN prep\n",
            "their DET PRP$ poss\n",
            "right ADJ JJ amod\n",
            "- PUNCT HYPH punct\n",
            "wing NOUN NN amod\n",
            "base NOUN NN pobj\n",
            "— PUNCT : punct\n",
            "pushing VERB VBG advcl\n",
            "us PRON PRP dobj\n",
            "to ADP IN prep\n",
            "the DET DT det\n",
            "brink NOUN NN pobj\n",
            "of ADP IN prep\n",
            "a DET DT det\n",
            "government NOUN NN compound\n",
            "shutdown NOUN NN pobj\n",
            "in ADP IN prep\n",
            "order NOUN NN pobj\n",
            "to PART TO aux\n",
            "score VERB VB acl\n",
            "a DET DT det\n",
            "few ADJ JJ amod\n",
            "points NOUN NNS dobj\n",
            "with ADP IN prep\n",
            "the DET DT det\n",
            "Tea PROPN NNP compound\n",
            "Party PROPN NNP pobj\n",
            ". PUNCT . punct\n",
            "While SCONJ IN mark\n",
            "they PRON PRP nsubj\n",
            "’re VERB VBP aux\n",
            "playing VERB VBG advcl\n",
            "games NOUN NNS dobj\n",
            "of ADP IN prep\n",
            "legislative ADJ JJ amod\n",
            "chicken NOUN NN pobj\n",
            ", PUNCT , punct\n",
            "our DET PRP$ poss\n",
            "country NOUN NN nsubj\n",
            "is AUX VBZ aux\n",
            "facing VERB VBG ROOT\n",
            "a DET DT det\n",
            "major ADJ JJ amod\n",
            "infrastructure NOUN NN compound\n",
            "crisis NOUN NN dobj\n",
            ". PUNCT . punct\n",
            "The DET DT det\n",
            "AP PROPN NNP compound\n",
            "rep PROPN NNP ROOT\n",
            "... PUNCT NFP punct\n",
            "\n",
            " SPACE _SP \n"
          ]
        }
      ]
    },
    {
      "cell_type": "code",
      "source": [
        "import spacy\n",
        "sample = \"\"\"\n",
        "Daily Kos The AP reports that at least 65,000 bridges are \"structurally deficient\" and over 20,000 more are \"fracture critical,\" meaning that the failure of one component could lead to a collapse, as we saw in the I-5 bridge over the Skagit River in Washington state last spring. Join Daily Kos and the Democratic Senatorial Campaign Committee (DSCC) to tell Senate Republicans: Fix our roads and bridges instead of shutting down our government. AS THE GOP PREVENTS US FROM REBUILDING BADLY DECAYING INFRASTRUCTURE BECAUSE IT WILL CREATE JOBS AND IMPROVE THE ECONOMY, WHICH THEY DO NOT WANT, THEY HOPE THAT EVERY BRIDGE COLLAPSE WILL BE BLAMED ON OBAMA. YEAH.... THANKS OBAMA! HOW STUPID DO THEY THINK WE ARE? Tell Senate Republicans: Fix our roads and bridges instead of shutting down our government  Republicans are playing games with our government to appeal to their right-wing base—pushing us to the brink of a government shutdown in order to score a few points with the Tea Party. While they’re playing games of legislative chicken, our country is facing a major infrastructure crisis. The AP rep... \n",
        "\"\"\"\n",
        "\n",
        "nlp = spacy.load('en_core_web_sm')\n",
        "doc = nlp(sample)\n",
        "for i in range(len(doc)):\n",
        "    j = i+1\n",
        "    \n",
        "    if j < len(doc):\n",
        "      if ( (doc[i].pos_ == \"ADJ\" or doc[i].pos_ == \"NOUN\" or doc[i].pos_ == \"PROPN\") and (doc[j].pos_ == \"ADJ\" or doc[j].pos_ == \"NOUN\" or doc[j].pos_ == \"PROPN\") ):\n",
        "        print(doc[i].text, doc[j].text, doc[i].pos_, doc[j].pos_)"
      ],
      "metadata": {
        "id": "QUaDBnRWNz2y",
        "colab": {
          "base_uri": "https://localhost:8080/"
        },
        "outputId": "5ee48a03-5902-497b-b90f-bb478a9aac1c"
      },
      "execution_count": null,
      "outputs": [
        {
          "output_type": "stream",
          "name": "stdout",
          "text": [
            "Daily Kos PROPN PROPN\n",
            "fracture critical NOUN ADJ\n",
            "I-5 bridge PROPN NOUN\n",
            "Skagit River PROPN PROPN\n",
            "Washington state PROPN NOUN\n",
            "state last NOUN ADJ\n",
            "last spring ADJ NOUN\n",
            "Daily Kos PROPN PROPN\n",
            "Democratic Senatorial PROPN PROPN\n",
            "Senatorial Campaign PROPN PROPN\n",
            "Campaign Committee PROPN PROPN\n",
            "Senate Republicans PROPN PROPN\n",
            "REBUILDING BADLY NOUN NOUN\n",
            "BADLY DECAYING NOUN NOUN\n",
            "DECAYING INFRASTRUCTURE NOUN NOUN\n",
            "BRIDGE COLLAPSE NOUN NOUN\n",
            "Senate Republicans PROPN PROPN\n",
            "wing base NOUN NOUN\n",
            "government shutdown NOUN NOUN\n",
            "few points ADJ NOUN\n",
            "Tea Party PROPN PROPN\n",
            "legislative chicken ADJ NOUN\n",
            "major infrastructure ADJ NOUN\n",
            "infrastructure crisis NOUN NOUN\n",
            "AP rep PROPN PROPN\n"
          ]
        }
      ]
    },
    {
      "cell_type": "code",
      "source": [
        "import spacy\n",
        "\n",
        "sample = \"\"\"\n",
        "Donald Trump was the 45th President of the of America, \n",
        "a position he by corrupt treasonous means in collusion Russian interference in American election \n",
        "He for the Rule and replace nationalist dictatorship using of the white supremacist type.\n",
        "\"\"\"\n",
        "\n",
        "\n",
        "nlp = spacy.load('en_core_web_sm')\n",
        "doc = nlp(sample)\n",
        "for i in range(len(doc)):\n",
        "    j = i+1\n",
        "    if j < len(doc):\n",
        "        if ( (doc[i].pos_ == \"ADJ\" or doc[i].pos_ == \"NOUN\" or doc[i].pos_ == \"PROPN\") and (doc[j].pos_ == \"ADJ\" or doc[j].pos_ == \"NOUN\" or doc[j].pos_ == \"PROPN\") ):\n",
        "            print(doc[i].text, doc[j].text,  doc[i].pos_, doc[j].pos_)"
      ],
      "metadata": {
        "id": "1CCPdL99UBHy"
      },
      "execution_count": null,
      "outputs": []
    },
    {
      "cell_type": "code",
      "source": [
        "import spacy\n",
        "\n",
        "nlp = spacy.load(\"en_core_web_sm\")\n",
        "# sample = \"\"\"\n",
        "# Join Daily Kos and the Democratic Senatorial Campaign Committee (DSCC) to tell Senate Republicans: \n",
        "# Fix our roads and bridges instead of shutting down our government. \n",
        "# AS THE GOP PREVENTS US FROM REBUILDING BADLY DECAYING INFRASTRUCTURE BECAUSE IT WILL CREATE JOBS AND IMPROVE THE ECONOMY, \n",
        "# WHICH THEY DO NOT WANT, THEY HOPE THAT EVERY BRIDGE COLLAPSE WILL BE BLAMED ON OBAMA. \n",
        "# YEAH.... THANKS OBAMA! HOW STUPID DO THEY THINK WE ARE? \n",
        "# Tell Senate Republicans: Fix our roads and bridges instead of shutting down our government  \n",
        "# Republicans are playing games with our government to appeal to their right wing base—pushing us to the brink of a government shutdown in order to score a few points with the Tea Party. \n",
        "# While they’re playing games of legislative chicken, our country is facing a major infrastructure crisis. The AP rep... \n",
        "# \"\"\"\n",
        "\n",
        "sample = \"\"\"\n",
        "Donald Trump was the 45th President of the of America, \n",
        "a position he by corrupt treasonous means in collusion Russian interference in American election \n",
        "He for the Rule and replace nationalist dictatorship using of the white supremacist type.\n",
        "\"\"\"\n",
        "\n",
        "doc = nlp(sample)\n",
        "for token in doc:\n",
        "    print(token.text, token.pos_, token.tag_, token.dep_)"
      ],
      "metadata": {
        "id": "PSgGAy2L_WUq",
        "colab": {
          "base_uri": "https://localhost:8080/"
        },
        "outputId": "07fcaad5-95ae-4ad5-e661-39dc4bddd088"
      },
      "execution_count": null,
      "outputs": [
        {
          "output_type": "stream",
          "name": "stdout",
          "text": [
            "\n",
            " SPACE _SP \n",
            "Donald PROPN NNP compound\n",
            "Trump PROPN NNP nsubj\n",
            "was AUX VBD ROOT\n",
            "the DET DT det\n",
            "45th ADJ JJ amod\n",
            "President PROPN NNP attr\n",
            "of ADP IN prep\n",
            "the DET DT pobj\n",
            "of ADP IN prep\n",
            "America PROPN NNP pobj\n",
            ", PUNCT , punct\n",
            "\n",
            " SPACE _SP \n",
            "a DET DT det\n",
            "position NOUN NN attr\n",
            "he PRON PRP intj\n",
            "by ADP IN prep\n",
            "corrupt ADJ JJ amod\n",
            "treasonous ADJ JJ amod\n",
            "means NOUN NNS pobj\n",
            "in ADP IN prep\n",
            "collusion NOUN NN nmod\n",
            "Russian ADJ JJ amod\n",
            "interference NOUN NN pobj\n",
            "in ADP IN prep\n",
            "American ADJ JJ amod\n",
            "election NOUN NN pobj\n",
            "\n",
            " SPACE _SP \n",
            "He PRON PRP ROOT\n",
            "for ADP IN prep\n",
            "the DET DT det\n",
            "Rule PROPN NNP pobj\n",
            "and CCONJ CC cc\n",
            "replace VERB VB conj\n",
            "nationalist ADJ JJ amod\n",
            "dictatorship NOUN NN dobj\n",
            "using VERB VBG advcl\n",
            "of ADP IN prep\n",
            "the DET DT det\n",
            "white ADJ JJ amod\n",
            "supremacist ADJ JJ compound\n",
            "type NOUN NN pobj\n",
            ". PUNCT . punct\n",
            "\n",
            " SPACE _SP \n"
          ]
        }
      ]
    },
    {
      "cell_type": "code",
      "source": [
        "import spacy\n",
        "\n",
        "nlp = spacy.load(\"en_core_web_sm\")\n",
        "text = \"\"\"\n",
        " For G.O.P., Incentives for Budget Deal With Obama Delaying steps to rein in Social Security, Medicare and Medicaid means delaying significant attempts to curb the size of the government.\t\n",
        "  \"\"\"\n",
        "\n",
        "doc = nlp(text)\n",
        "for token in doc:\n",
        "    print(token.text, token.lemma_, token.pos_, token.tag_, token.dep_,\n",
        "            token.shape_, token.is_alpha, token.is_stop)"
      ],
      "metadata": {
        "id": "7ucEnXJbIaUT"
      },
      "execution_count": null,
      "outputs": []
    },
    {
      "cell_type": "code",
      "source": [
        "## pos tagging\n",
        "\n",
        "import csv\n",
        "import pandas as pd\n",
        "\n",
        "for i in range(10,11):\n",
        "\n",
        "  sample = dfs[i]['text'].values.tolist()\n",
        "  \n",
        "  text_list = []\n",
        "  pos_list = []\n",
        "  tag_list = []\n",
        "  import spacy\n",
        "\n",
        "nlp = spacy.load(\"en_core_web_sm\")\n",
        "doc = nlp(\"Apple is looking at buying U.K. startup for $1 billion\")\n",
        "\n",
        "for token in doc:\n",
        "    print(token.text, token.lemma_, token.pos_, token.tag_, token.dep_,\n",
        "            token.shape_, token.is_alpha, token.is_stop)\n",
        "    for word in sent:\n",
        "      if (word.pos_ == \"ADJ\"):\n",
        "        text_list.append(word.text)\n",
        "        pos_list.append(word.pos_)\n",
        "        tag_list.append(word.tag_)\n",
        "      if (word.pos_ == \"NOUN\"):\n",
        "        text_list.append(word.text)\n",
        "        pos_list.append(word.pos_)\n",
        "        tag_list.append(word.tag_)      \n",
        "      if (word.pos_ == \"PROPN\") :\n",
        "        text_list.append(word.text)\n",
        "        pos_list.append(word.pos_)\n",
        "        tag_list.append(word.tag_)\n",
        "      \n",
        "  temp = pd.DataFrame({'text': text_list, 'pos': pos_list, 'tag': tag_list })\n",
        "\n",
        "  temp['text_lower'] = temp['text'].str.lower()\n",
        "  temp2  = temp.groupby(['text_lower']).size().reset_index(name='counts')\n",
        "  temp2.to_csv(\"temp_dem_d\"+str(i)+\".csv\")\n"
      ],
      "metadata": {
        "id": "noJ8l8ZgrkPi"
      },
      "execution_count": null,
      "outputs": []
    },
    {
      "cell_type": "code",
      "source": [
        ""
      ],
      "metadata": {
        "id": "S8auRv1TsIvn"
      },
      "execution_count": null,
      "outputs": []
    }
  ],
  "metadata": {
    "colab": {
      "collapsed_sections": [],
      "name": "rule-based-matching-pos.ipynb",
      "provenance": [],
      "authorship_tag": "ABX9TyOPApL1NAAzCLRNeSo1Hd5s",
      "include_colab_link": true
    },
    "kernelspec": {
      "display_name": "Python 3",
      "name": "python3"
    },
    "language_info": {
      "name": "python"
    }
  },
  "nbformat": 4,
  "nbformat_minor": 0
}