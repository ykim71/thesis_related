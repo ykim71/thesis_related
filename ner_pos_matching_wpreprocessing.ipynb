{
  "cells": [
    {
      "cell_type": "markdown",
      "metadata": {
        "id": "view-in-github",
        "colab_type": "text"
      },
      "source": [
        "<a href=\"https://colab.research.google.com/github/ykim71/thesis_related/blob/main/ner_pos_matching_wpreprocessing.ipynb\" target=\"_parent\"><img src=\"https://colab.research.google.com/assets/colab-badge.svg\" alt=\"Open In Colab\"/></a>"
      ]
    },
    {
      "cell_type": "code",
      "execution_count": 1,
      "metadata": {
        "colab": {
          "base_uri": "https://localhost:8080/"
        },
        "id": "w5mOgB83cNL1",
        "outputId": "90f8f77c-7d25-47c0-a0fb-817abb881314"
      },
      "outputs": [
        {
          "output_type": "stream",
          "name": "stdout",
          "text": [
            "Mounted at /content/drive\n"
          ]
        }
      ],
      "source": [
        "from google.colab import drive\n",
        "\n",
        "drive.mount(\"/content/drive\", force_remount=True)"
      ]
    },
    {
      "cell_type": "code",
      "execution_count": 2,
      "metadata": {
        "colab": {
          "base_uri": "https://localhost:8080/"
        },
        "id": "kY3dOHE7c8U5",
        "outputId": "d5584d3d-9247-4852-db99-f03c82d23148"
      },
      "outputs": [
        {
          "output_type": "stream",
          "name": "stdout",
          "text": [
            "/content/drive/MyDrive/CrowdTangle/final_data_metrics\n"
          ]
        }
      ],
      "source": [
        "%cd drive/'MyDrive'/CrowdTangle/final_data_metrics"
      ]
    },
    {
      "cell_type": "markdown",
      "metadata": {
        "id": "uJ6Qo4-hAyil"
      },
      "source": [
        "\n",
        "\n",
        "## pre-processing"
      ]
    },
    {
      "cell_type": "code",
      "execution_count": null,
      "metadata": {
        "id": "JJGVnyO5qAIg"
      },
      "outputs": [],
      "source": [
        "# import words/phrases from NER and POS tagging\n",
        "import pandas as pd\n",
        "\n",
        "ner_pos = pd.read_excel('pos_bigrams_all_merged_NER4.xlsx')\n"
      ]
    },
    {
      "cell_type": "code",
      "execution_count": null,
      "metadata": {
        "id": "8uH7DQdDx5UJ"
      },
      "outputs": [],
      "source": [
        "import re\n",
        "\n",
        "def bigrams(s): # more than bigrams\n",
        "    return [i for i in s if re.search(r'\\s', i) ] \n",
        "def unigrams(s):\n",
        "    return [i for i in s if not re.search(r'\\s', i) ]\n",
        "def hashtag(s):\n",
        "    return [i for i in s if re.search(r'#', i) ]\n",
        "\n",
        "def contain_the(s): # bigrams that make sense with 'the'\n",
        "  to_remove = [' #', '# ', '.','\\'s', \"’s\", \" \\'\", \"\\'\", \"\\'S\", '“', '\"', '’', ]\n",
        "  p = re.compile('|'.join(map(re.escape, to_remove))) # escape to handle metachars\n",
        "  s = [p.sub('', s) for s in s] # remove hashtags\n",
        "\n",
        "  matchers = ['The ', 'the ']\n",
        "  items = [i for i in s if any(xs in i for xs in matchers)]\n",
        "  temp = [i for i in items if i.count(' ')==1]\n",
        "  return list(set(temp))\n"
      ]
    },
    {
      "cell_type": "code",
      "execution_count": null,
      "metadata": {
        "colab": {
          "base_uri": "https://localhost:8080/"
        },
        "id": "Vlda7fBe_yA3",
        "outputId": "fe15d8ff-da8e-495e-df8f-526be1087a94"
      },
      "outputs": [
        {
          "output_type": "stream",
          "name": "stdout",
          "text": [
            "2712\n",
            "185\n",
            "181\n",
            "1\n"
          ]
        }
      ],
      "source": [
        "# for Republican words/phrases\n",
        "\n",
        "ner_rep_only = ner_pos.loc[(ner_pos['rep'] == 1)]\n",
        "\n",
        "temp = ner_rep_only['text'].values.tolist()\n",
        "ner_rep_only_list = list(set(temp))\n",
        "print(len(ner_rep_only_list))\n",
        "\n",
        "# bi-grams\n",
        "rep_bi = list(set(bigrams(ner_rep_only_list)))\n",
        "\n",
        "import re\n",
        "\n",
        "to_remove = [' #', '# ', '.','\\'s', \"’s\", \" \\'\", \"\\'\", \"\\'S\", '“', '\"', '’', ' Timeline', ' Photo', 'the ', 'The ']\n",
        "\n",
        "p = re.compile('|'.join(map(re.escape, to_remove))) # escape to handle metachars\n",
        "\n",
        "rep_bi = [p.sub('', s) for s in rep_bi] # remove hashtags\n",
        "\n",
        "rep_bi = list(set(bigrams(rep_bi))) # select only bi-grams (hashtags will be added here)\n",
        "\n",
        "# uni-grams\n",
        "\n",
        "rep_uni = list(set(unigrams(ner_rep_only_list)))\n",
        "print(len(rep_uni))\n",
        "import re\n",
        "\n",
        "to_remove = ['#', '.', '\\'s', \"’s\", \" \\'\", \"\\'\", \"\\'S\", '“', '\"', '’']\n",
        "\n",
        "p = re.compile('|'.join(map(re.escape, to_remove))) # escape to handle metachars\n",
        "\n",
        "rep_uni = [p.sub('', s) for s in rep_uni] # remove some characters\n",
        "rep_uni = list(set(rep_uni))\n",
        "print(len(rep_uni))\n",
        "\n",
        "\n",
        "# hashtags\n",
        "\n",
        "import re\n",
        "\n",
        "rep_hash = list(set(hashtag(ner_rep_only_list)))\n",
        "\n",
        "to_remove = [' #', '# ', '#']\n",
        "p = re.compile('|'.join(map(re.escape, to_remove))) # escape to handle metachars\n",
        "\n",
        "rep_hash = [p.sub('', s) for s in rep_hash] # remove hashtags\n",
        "rep_hash_non = list(set(rep_hash))\n",
        "\n",
        "rep_hash = ['#' + s for s in rep_hash]\n",
        "rep_hash = list(set(rep_hash))\n",
        "\n",
        "# bigrams with the\n",
        "\n",
        "rep_bi_the = contain_the(list(set(bigrams(ner_rep_only_list)))) \n",
        "print(len(rep_bi_the))"
      ]
    },
    {
      "cell_type": "code",
      "execution_count": null,
      "metadata": {
        "id": "BnYSd2a5o2lG"
      },
      "outputs": [],
      "source": [
        "rep_bi_hashtags = rep_bi + rep_hash + rep_bi_the\n",
        "rep_uni_nonhashtags = rep_uni + rep_hash_non\n"
      ]
    },
    {
      "cell_type": "code",
      "execution_count": null,
      "metadata": {
        "colab": {
          "base_uri": "https://localhost:8080/"
        },
        "id": "kjNFi7tl_4YM",
        "outputId": "e5b052e2-ca6f-4711-f4d3-38b720aeadd6"
      },
      "outputs": [
        {
          "output_type": "stream",
          "name": "stdout",
          "text": [
            "2533\n",
            "175\n",
            "173\n"
          ]
        }
      ],
      "source": [
        "# for Democratic words/phrases\n",
        "\n",
        "ner_dem_only = ner_pos.loc[(ner_pos['dem'] == 1)]\n",
        "\n",
        "temp = ner_dem_only['text'].values.tolist()\n",
        "ner_dem_only_list = list(set(temp))\n",
        "print(len(ner_dem_only_list))\n",
        "\n",
        "# bi-grams\n",
        "dem_bi = list(set(bigrams(ner_dem_only_list)))\n",
        "\n",
        "import re\n",
        "\n",
        "to_remove = [' #', '# ', '.','\\'s', \"’s\", \" \\'\", \"\\'\", \"\\'S\", '“', '\"', '’', ' Timeline', ' Photo', 'the ', 'The ']\n",
        "\n",
        "p = re.compile('|'.join(map(re.escape, to_remove))) # escape to handle metachars\n",
        "\n",
        "dem_bi = [p.sub('', s) for s in dem_bi] # remove hashtags\n",
        "\n",
        "dem_bi = list(set(bigrams(dem_bi))) # select only bi-grams (hashtags will be added here)\n",
        "\n",
        "\n",
        "# uni-grams\n",
        "\n",
        "dem_uni = list(set(unigrams(ner_dem_only_list)))\n",
        "print(len(dem_uni))\n",
        "import re\n",
        "\n",
        "to_remove = ['#', '.', '\\'s', \"’s\", \" \\'\", \"\\'\", \"\\'S\", '“', '\"', '’']\n",
        "\n",
        "p = re.compile('|'.join(map(re.escape, to_remove))) # escape to handle metachars\n",
        "\n",
        "dem_uni = [p.sub('', s) for s in dem_uni] # remove some characters\n",
        "dem_uni = list(set(dem_uni))\n",
        "print(len(dem_uni))\n",
        "\n",
        "# hashtags\n",
        "\n",
        "import re\n",
        "\n",
        "dem_hash = list(set(hashtag(ner_dem_only_list)))\n",
        "\n",
        "to_remove = [' #', '# ', '#']\n",
        "p = re.compile('|'.join(map(re.escape, to_remove))) # escape to handle metachars\n",
        "\n",
        "dem_hash = [p.sub('', s) for s in dem_hash] # remove hashtags\n",
        "dem_hash_non = list(set(dem_hash))\n",
        "\n",
        "dem_hash = ['#' + s for s in dem_hash]\n",
        "dem_hash = list(set(dem_hash))\n",
        "\n",
        "\n",
        "# bigrams with the\n",
        "\n",
        "dem_bi_the = contain_the(list(set(bigrams(ner_dem_only_list)))) \n"
      ]
    },
    {
      "cell_type": "code",
      "execution_count": null,
      "metadata": {
        "id": "f5fOhkq8qjdy"
      },
      "outputs": [],
      "source": [
        "\n",
        "dem_bi_hashtags = dem_bi + dem_hash + dem_bi_the\n",
        "dem_uni_nonhashtags = dem_uni + dem_hash_non\n"
      ]
    },
    {
      "cell_type": "code",
      "execution_count": null,
      "metadata": {
        "id": "6VMI6eiVIfiE"
      },
      "outputs": [],
      "source": [
        "# make lowercases for matching\n",
        "\n",
        "temp_rep_lower_bi = list( set([x.lower() for x in rep_bi_hashtags] ))\n",
        "temp_dem_lower_bi = list( set([x.lower() for x in dem_bi_hashtags] ))\n",
        "\n",
        "temp_rep_lower_uni = list( set([x.lower() for x in rep_uni_nonhashtags]) )\n",
        "temp_dem_lower_uni = list( set([x.lower() for x in dem_uni_nonhashtags]) )\n",
        "\n",
        "# temp_rep_lower_bi_the = list( set([x.lower() for x in rep_bi_the] ))\n",
        "# temp_dem_lower_bi_the = list( set([x.lower() for x in dem_bi_the] ))"
      ]
    },
    {
      "cell_type": "code",
      "execution_count": null,
      "metadata": {
        "colab": {
          "base_uri": "https://localhost:8080/"
        },
        "id": "WINJl0frMJ74",
        "outputId": "c70d7ec8-82b1-4196-f8b1-c6415dbf40e2"
      },
      "outputs": [
        {
          "output_type": "stream",
          "name": "stdout",
          "text": [
            "2133\n",
            "2059\n",
            "245\n",
            "236\n"
          ]
        }
      ],
      "source": [
        "print(len(temp_rep_lower_bi))\n",
        "print(len(temp_dem_lower_bi))\n",
        "\n",
        "print(len(temp_rep_lower_uni))\n",
        "print(len(temp_dem_lower_uni))\n"
      ]
    },
    {
      "cell_type": "markdown",
      "metadata": {
        "id": "_9Zz_169Dp_M"
      },
      "source": [
        "## matching sample"
      ]
    },
    {
      "cell_type": "code",
      "source": [
        "# for entire posts\n",
        "import re\n",
        "\n",
        "def basic_sanitize(text):\n",
        "    \n",
        "    text = re.sub('’s',' s', text) #&\n",
        "    text = re.sub('\\'s',' s', text) #&\n",
        "    text = re.sub('’S',' S', text) #&\n",
        "    text = re.sub('\\'S',' S', text) #&\n",
        "\n",
        "    text = re.sub(r'[^\\w\\s#&-]','', text) #&\n",
        "#    text = text.lower()\n",
        "    \n",
        "    return text"
      ],
      "metadata": {
        "id": "QDBrcITKsjMM"
      },
      "execution_count": 54,
      "outputs": []
    },
    {
      "cell_type": "code",
      "source": [
        "import pickle\n",
        "import pandas as pd\n",
        "ner = pd.read_excel(\"pos_bigrams_all_merged_NER5_final.xlsx\")\n",
        "pos = pd.read_excel(\"pos_both_all_no_san_c300_merge_trim.xlsx\")\n"
      ],
      "metadata": {
        "id": "c3V9-vQdwh43"
      },
      "execution_count": 4,
      "outputs": []
    },
    {
      "cell_type": "code",
      "source": [
        "ner_y = ner[ner['NER']=='Y']"
      ],
      "metadata": {
        "id": "ilXhA4baxpyg"
      },
      "execution_count": 55,
      "outputs": []
    },
    {
      "cell_type": "code",
      "source": [
        "ner_y['text_san'] = ner_y['text'].apply(basic_sanitize)"
      ],
      "metadata": {
        "colab": {
          "base_uri": "https://localhost:8080/"
        },
        "id": "UeeUIZ24xozN",
        "outputId": "3e6a9474-b8e8-4688-c05d-295e4338cde9"
      },
      "execution_count": 56,
      "outputs": [
        {
          "output_type": "stream",
          "name": "stderr",
          "text": [
            "/usr/local/lib/python3.7/dist-packages/ipykernel_launcher.py:1: SettingWithCopyWarning: \n",
            "A value is trying to be set on a copy of a slice from a DataFrame.\n",
            "Try using .loc[row_indexer,col_indexer] = value instead\n",
            "\n",
            "See the caveats in the documentation: https://pandas.pydata.org/pandas-docs/stable/user_guide/indexing.html#returning-a-view-versus-a-copy\n",
            "  \"\"\"Entry point for launching an IPython kernel.\n"
          ]
        }
      ]
    },
    {
      "cell_type": "code",
      "source": [
        "pos['text_san'] = pos['text'].apply(basic_sanitize)"
      ],
      "metadata": {
        "id": "A176M4gvw1nL"
      },
      "execution_count": 57,
      "outputs": []
    },
    {
      "cell_type": "code",
      "source": [
        "ner_y[ (ner_y['dem']==1) | (ner_y['rep']==1)].sample(10)"
      ],
      "metadata": {
        "colab": {
          "base_uri": "https://localhost:8080/",
          "height": 363
        },
        "id": "GEenULm-yEBW",
        "outputId": "ebde5134-376f-4d4e-ed99-e9244d2511d5"
      },
      "execution_count": 58,
      "outputs": [
        {
          "output_type": "execute_result",
          "data": {
            "text/html": [
              "\n",
              "  <div id=\"df-d9e229c8-9ce1-4c30-af5d-75fef77ce9e9\">\n",
              "    <div class=\"colab-df-container\">\n",
              "      <div>\n",
              "<style scoped>\n",
              "    .dataframe tbody tr th:only-of-type {\n",
              "        vertical-align: middle;\n",
              "    }\n",
              "\n",
              "    .dataframe tbody tr th {\n",
              "        vertical-align: top;\n",
              "    }\n",
              "\n",
              "    .dataframe thead th {\n",
              "        text-align: right;\n",
              "    }\n",
              "</style>\n",
              "<table border=\"1\" class=\"dataframe\">\n",
              "  <thead>\n",
              "    <tr style=\"text-align: right;\">\n",
              "      <th></th>\n",
              "      <th>id</th>\n",
              "      <th>pos_junky</th>\n",
              "      <th>text</th>\n",
              "      <th>count_dem</th>\n",
              "      <th>count_sum</th>\n",
              "      <th>politician</th>\n",
              "      <th>dem</th>\n",
              "      <th>rep</th>\n",
              "      <th>media</th>\n",
              "      <th>Unnamed: 9</th>\n",
              "      <th>NER</th>\n",
              "      <th>text_san</th>\n",
              "    </tr>\n",
              "  </thead>\n",
              "  <tbody>\n",
              "    <tr>\n",
              "      <th>69872</th>\n",
              "      <td>69913</td>\n",
              "      <td>3</td>\n",
              "      <td>Michele Obama</td>\n",
              "      <td>NaN</td>\n",
              "      <td>NaN</td>\n",
              "      <td>0</td>\n",
              "      <td>1</td>\n",
              "      <td>0</td>\n",
              "      <td>0</td>\n",
              "      <td>done</td>\n",
              "      <td>Y</td>\n",
              "      <td>Michele Obama</td>\n",
              "    </tr>\n",
              "    <tr>\n",
              "      <th>64365</th>\n",
              "      <td>64399</td>\n",
              "      <td>3</td>\n",
              "      <td>BIDEN</td>\n",
              "      <td>NaN</td>\n",
              "      <td>NaN</td>\n",
              "      <td>1</td>\n",
              "      <td>1</td>\n",
              "      <td>0</td>\n",
              "      <td>0</td>\n",
              "      <td>done</td>\n",
              "      <td>Y</td>\n",
              "      <td>BIDEN</td>\n",
              "    </tr>\n",
              "    <tr>\n",
              "      <th>9322</th>\n",
              "      <td>9325</td>\n",
              "      <td>3</td>\n",
              "      <td>Chanel Rion</td>\n",
              "      <td>104.0</td>\n",
              "      <td>515.0</td>\n",
              "      <td>0</td>\n",
              "      <td>0</td>\n",
              "      <td>1</td>\n",
              "      <td>1</td>\n",
              "      <td>done</td>\n",
              "      <td>Y</td>\n",
              "      <td>Chanel Rion</td>\n",
              "    </tr>\n",
              "    <tr>\n",
              "      <th>15307</th>\n",
              "      <td>15313</td>\n",
              "      <td>3</td>\n",
              "      <td>Dick Durbin</td>\n",
              "      <td>1481.0</td>\n",
              "      <td>3449.0</td>\n",
              "      <td>1</td>\n",
              "      <td>1</td>\n",
              "      <td>0</td>\n",
              "      <td>0</td>\n",
              "      <td>done</td>\n",
              "      <td>Y</td>\n",
              "      <td>Dick Durbin</td>\n",
              "    </tr>\n",
              "    <tr>\n",
              "      <th>29151</th>\n",
              "      <td>29166</td>\n",
              "      <td>3</td>\n",
              "      <td>Jim Moran</td>\n",
              "      <td>116.0</td>\n",
              "      <td>264.0</td>\n",
              "      <td>1</td>\n",
              "      <td>1</td>\n",
              "      <td>0</td>\n",
              "      <td>0</td>\n",
              "      <td>done</td>\n",
              "      <td>Y</td>\n",
              "      <td>Jim Moran</td>\n",
              "    </tr>\n",
              "    <tr>\n",
              "      <th>8797</th>\n",
              "      <td>8800</td>\n",
              "      <td>3</td>\n",
              "      <td>Carol Donovan</td>\n",
              "      <td>555.0</td>\n",
              "      <td>555.0</td>\n",
              "      <td>1</td>\n",
              "      <td>1</td>\n",
              "      <td>0</td>\n",
              "      <td>0</td>\n",
              "      <td>done</td>\n",
              "      <td>Y</td>\n",
              "      <td>Carol Donovan</td>\n",
              "    </tr>\n",
              "    <tr>\n",
              "      <th>71539</th>\n",
              "      <td>71583</td>\n",
              "      <td>3</td>\n",
              "      <td>Redstate News</td>\n",
              "      <td>NaN</td>\n",
              "      <td>NaN</td>\n",
              "      <td>0</td>\n",
              "      <td>0</td>\n",
              "      <td>1</td>\n",
              "      <td>1</td>\n",
              "      <td>done</td>\n",
              "      <td>Y</td>\n",
              "      <td>Redstate News</td>\n",
              "    </tr>\n",
              "    <tr>\n",
              "      <th>29299</th>\n",
              "      <td>29314</td>\n",
              "      <td>3</td>\n",
              "      <td>Joe Wilson</td>\n",
              "      <td>369.0</td>\n",
              "      <td>631.0</td>\n",
              "      <td>1</td>\n",
              "      <td>0</td>\n",
              "      <td>1</td>\n",
              "      <td>0</td>\n",
              "      <td>done</td>\n",
              "      <td>Y</td>\n",
              "      <td>Joe Wilson</td>\n",
              "    </tr>\n",
              "    <tr>\n",
              "      <th>43386</th>\n",
              "      <td>43403</td>\n",
              "      <td>3</td>\n",
              "      <td>Peter Beinart</td>\n",
              "      <td>117.0</td>\n",
              "      <td>151.0</td>\n",
              "      <td>0</td>\n",
              "      <td>1</td>\n",
              "      <td>0</td>\n",
              "      <td>1</td>\n",
              "      <td>done</td>\n",
              "      <td>Y</td>\n",
              "      <td>Peter Beinart</td>\n",
              "    </tr>\n",
              "    <tr>\n",
              "      <th>34305</th>\n",
              "      <td>34320</td>\n",
              "      <td>3</td>\n",
              "      <td>Martin O’Malley</td>\n",
              "      <td>673.0</td>\n",
              "      <td>955.0</td>\n",
              "      <td>1</td>\n",
              "      <td>1</td>\n",
              "      <td>0</td>\n",
              "      <td>0</td>\n",
              "      <td>done</td>\n",
              "      <td>Y</td>\n",
              "      <td>Martin OMalley</td>\n",
              "    </tr>\n",
              "  </tbody>\n",
              "</table>\n",
              "</div>\n",
              "      <button class=\"colab-df-convert\" onclick=\"convertToInteractive('df-d9e229c8-9ce1-4c30-af5d-75fef77ce9e9')\"\n",
              "              title=\"Convert this dataframe to an interactive table.\"\n",
              "              style=\"display:none;\">\n",
              "        \n",
              "  <svg xmlns=\"http://www.w3.org/2000/svg\" height=\"24px\"viewBox=\"0 0 24 24\"\n",
              "       width=\"24px\">\n",
              "    <path d=\"M0 0h24v24H0V0z\" fill=\"none\"/>\n",
              "    <path d=\"M18.56 5.44l.94 2.06.94-2.06 2.06-.94-2.06-.94-.94-2.06-.94 2.06-2.06.94zm-11 1L8.5 8.5l.94-2.06 2.06-.94-2.06-.94L8.5 2.5l-.94 2.06-2.06.94zm10 10l.94 2.06.94-2.06 2.06-.94-2.06-.94-.94-2.06-.94 2.06-2.06.94z\"/><path d=\"M17.41 7.96l-1.37-1.37c-.4-.4-.92-.59-1.43-.59-.52 0-1.04.2-1.43.59L10.3 9.45l-7.72 7.72c-.78.78-.78 2.05 0 2.83L4 21.41c.39.39.9.59 1.41.59.51 0 1.02-.2 1.41-.59l7.78-7.78 2.81-2.81c.8-.78.8-2.07 0-2.86zM5.41 20L4 18.59l7.72-7.72 1.47 1.35L5.41 20z\"/>\n",
              "  </svg>\n",
              "      </button>\n",
              "      \n",
              "  <style>\n",
              "    .colab-df-container {\n",
              "      display:flex;\n",
              "      flex-wrap:wrap;\n",
              "      gap: 12px;\n",
              "    }\n",
              "\n",
              "    .colab-df-convert {\n",
              "      background-color: #E8F0FE;\n",
              "      border: none;\n",
              "      border-radius: 50%;\n",
              "      cursor: pointer;\n",
              "      display: none;\n",
              "      fill: #1967D2;\n",
              "      height: 32px;\n",
              "      padding: 0 0 0 0;\n",
              "      width: 32px;\n",
              "    }\n",
              "\n",
              "    .colab-df-convert:hover {\n",
              "      background-color: #E2EBFA;\n",
              "      box-shadow: 0px 1px 2px rgba(60, 64, 67, 0.3), 0px 1px 3px 1px rgba(60, 64, 67, 0.15);\n",
              "      fill: #174EA6;\n",
              "    }\n",
              "\n",
              "    [theme=dark] .colab-df-convert {\n",
              "      background-color: #3B4455;\n",
              "      fill: #D2E3FC;\n",
              "    }\n",
              "\n",
              "    [theme=dark] .colab-df-convert:hover {\n",
              "      background-color: #434B5C;\n",
              "      box-shadow: 0px 1px 3px 1px rgba(0, 0, 0, 0.15);\n",
              "      filter: drop-shadow(0px 1px 2px rgba(0, 0, 0, 0.3));\n",
              "      fill: #FFFFFF;\n",
              "    }\n",
              "  </style>\n",
              "\n",
              "      <script>\n",
              "        const buttonEl =\n",
              "          document.querySelector('#df-d9e229c8-9ce1-4c30-af5d-75fef77ce9e9 button.colab-df-convert');\n",
              "        buttonEl.style.display =\n",
              "          google.colab.kernel.accessAllowed ? 'block' : 'none';\n",
              "\n",
              "        async function convertToInteractive(key) {\n",
              "          const element = document.querySelector('#df-d9e229c8-9ce1-4c30-af5d-75fef77ce9e9');\n",
              "          const dataTable =\n",
              "            await google.colab.kernel.invokeFunction('convertToInteractive',\n",
              "                                                     [key], {});\n",
              "          if (!dataTable) return;\n",
              "\n",
              "          const docLinkHtml = 'Like what you see? Visit the ' +\n",
              "            '<a target=\"_blank\" href=https://colab.research.google.com/notebooks/data_table.ipynb>data table notebook</a>'\n",
              "            + ' to learn more about interactive tables.';\n",
              "          element.innerHTML = '';\n",
              "          dataTable['output_type'] = 'display_data';\n",
              "          await google.colab.output.renderOutput(dataTable, element);\n",
              "          const docLink = document.createElement('div');\n",
              "          docLink.innerHTML = docLinkHtml;\n",
              "          element.appendChild(docLink);\n",
              "        }\n",
              "      </script>\n",
              "    </div>\n",
              "  </div>\n",
              "  "
            ],
            "text/plain": [
              "          id  pos_junky             text  ...  Unnamed: 9  NER        text_san\n",
              "69872  69913          3    Michele Obama  ...        done    Y   Michele Obama\n",
              "64365  64399          3            BIDEN  ...        done    Y           BIDEN\n",
              "9322    9325          3      Chanel Rion  ...        done    Y     Chanel Rion\n",
              "15307  15313          3      Dick Durbin  ...        done    Y     Dick Durbin\n",
              "29151  29166          3        Jim Moran  ...        done    Y       Jim Moran\n",
              "8797    8800          3    Carol Donovan  ...        done    Y   Carol Donovan\n",
              "71539  71583          3    Redstate News  ...        done    Y   Redstate News\n",
              "29299  29314          3       Joe Wilson  ...        done    Y      Joe Wilson\n",
              "43386  43403          3    Peter Beinart  ...        done    Y   Peter Beinart\n",
              "34305  34320          3  Martin O’Malley  ...        done    Y  Martin OMalley\n",
              "\n",
              "[10 rows x 12 columns]"
            ]
          },
          "metadata": {},
          "execution_count": 58
        }
      ]
    },
    {
      "cell_type": "code",
      "source": [
        "pos[ (pos['dem']==1) | (pos['rep']==1)].sample(2)"
      ],
      "metadata": {
        "colab": {
          "base_uri": "https://localhost:8080/",
          "height": 112
        },
        "id": "NbgiWqWr0BFK",
        "outputId": "f16dc07b-d1cd-4f6f-a069-7eb1c7de0078"
      },
      "execution_count": 65,
      "outputs": [
        {
          "output_type": "execute_result",
          "data": {
            "text/html": [
              "\n",
              "  <div id=\"df-178335be-5e46-419f-9de5-60d21c68fe8c\">\n",
              "    <div class=\"colab-df-container\">\n",
              "      <div>\n",
              "<style scoped>\n",
              "    .dataframe tbody tr th:only-of-type {\n",
              "        vertical-align: middle;\n",
              "    }\n",
              "\n",
              "    .dataframe tbody tr th {\n",
              "        vertical-align: top;\n",
              "    }\n",
              "\n",
              "    .dataframe thead th {\n",
              "        text-align: right;\n",
              "    }\n",
              "</style>\n",
              "<table border=\"1\" class=\"dataframe\">\n",
              "  <thead>\n",
              "    <tr style=\"text-align: right;\">\n",
              "      <th></th>\n",
              "      <th>Unnamed: 0</th>\n",
              "      <th>Unnamed: 0.1</th>\n",
              "      <th>text</th>\n",
              "      <th>text_san</th>\n",
              "      <th>check</th>\n",
              "      <th>rep</th>\n",
              "      <th>dem</th>\n",
              "      <th>count_sum</th>\n",
              "      <th>type</th>\n",
              "      <th>count_sum_clean</th>\n",
              "    </tr>\n",
              "  </thead>\n",
              "  <tbody>\n",
              "    <tr>\n",
              "      <th>37820</th>\n",
              "      <td>35440</td>\n",
              "      <td>3600911</td>\n",
              "      <td>John Hoeven</td>\n",
              "      <td>John Hoeven</td>\n",
              "      <td>1</td>\n",
              "      <td>1</td>\n",
              "      <td>0</td>\n",
              "      <td>300</td>\n",
              "      <td>bigram</td>\n",
              "      <td>300.0</td>\n",
              "    </tr>\n",
              "    <tr>\n",
              "      <th>29980</th>\n",
              "      <td>28635</td>\n",
              "      <td>2943149</td>\n",
              "      <td>Gov. Charlie</td>\n",
              "      <td>Gov Charlie</td>\n",
              "      <td>1</td>\n",
              "      <td>1</td>\n",
              "      <td>0</td>\n",
              "      <td>774</td>\n",
              "      <td>bigram</td>\n",
              "      <td>785.0</td>\n",
              "    </tr>\n",
              "  </tbody>\n",
              "</table>\n",
              "</div>\n",
              "      <button class=\"colab-df-convert\" onclick=\"convertToInteractive('df-178335be-5e46-419f-9de5-60d21c68fe8c')\"\n",
              "              title=\"Convert this dataframe to an interactive table.\"\n",
              "              style=\"display:none;\">\n",
              "        \n",
              "  <svg xmlns=\"http://www.w3.org/2000/svg\" height=\"24px\"viewBox=\"0 0 24 24\"\n",
              "       width=\"24px\">\n",
              "    <path d=\"M0 0h24v24H0V0z\" fill=\"none\"/>\n",
              "    <path d=\"M18.56 5.44l.94 2.06.94-2.06 2.06-.94-2.06-.94-.94-2.06-.94 2.06-2.06.94zm-11 1L8.5 8.5l.94-2.06 2.06-.94-2.06-.94L8.5 2.5l-.94 2.06-2.06.94zm10 10l.94 2.06.94-2.06 2.06-.94-2.06-.94-.94-2.06-.94 2.06-2.06.94z\"/><path d=\"M17.41 7.96l-1.37-1.37c-.4-.4-.92-.59-1.43-.59-.52 0-1.04.2-1.43.59L10.3 9.45l-7.72 7.72c-.78.78-.78 2.05 0 2.83L4 21.41c.39.39.9.59 1.41.59.51 0 1.02-.2 1.41-.59l7.78-7.78 2.81-2.81c.8-.78.8-2.07 0-2.86zM5.41 20L4 18.59l7.72-7.72 1.47 1.35L5.41 20z\"/>\n",
              "  </svg>\n",
              "      </button>\n",
              "      \n",
              "  <style>\n",
              "    .colab-df-container {\n",
              "      display:flex;\n",
              "      flex-wrap:wrap;\n",
              "      gap: 12px;\n",
              "    }\n",
              "\n",
              "    .colab-df-convert {\n",
              "      background-color: #E8F0FE;\n",
              "      border: none;\n",
              "      border-radius: 50%;\n",
              "      cursor: pointer;\n",
              "      display: none;\n",
              "      fill: #1967D2;\n",
              "      height: 32px;\n",
              "      padding: 0 0 0 0;\n",
              "      width: 32px;\n",
              "    }\n",
              "\n",
              "    .colab-df-convert:hover {\n",
              "      background-color: #E2EBFA;\n",
              "      box-shadow: 0px 1px 2px rgba(60, 64, 67, 0.3), 0px 1px 3px 1px rgba(60, 64, 67, 0.15);\n",
              "      fill: #174EA6;\n",
              "    }\n",
              "\n",
              "    [theme=dark] .colab-df-convert {\n",
              "      background-color: #3B4455;\n",
              "      fill: #D2E3FC;\n",
              "    }\n",
              "\n",
              "    [theme=dark] .colab-df-convert:hover {\n",
              "      background-color: #434B5C;\n",
              "      box-shadow: 0px 1px 3px 1px rgba(0, 0, 0, 0.15);\n",
              "      filter: drop-shadow(0px 1px 2px rgba(0, 0, 0, 0.3));\n",
              "      fill: #FFFFFF;\n",
              "    }\n",
              "  </style>\n",
              "\n",
              "      <script>\n",
              "        const buttonEl =\n",
              "          document.querySelector('#df-178335be-5e46-419f-9de5-60d21c68fe8c button.colab-df-convert');\n",
              "        buttonEl.style.display =\n",
              "          google.colab.kernel.accessAllowed ? 'block' : 'none';\n",
              "\n",
              "        async function convertToInteractive(key) {\n",
              "          const element = document.querySelector('#df-178335be-5e46-419f-9de5-60d21c68fe8c');\n",
              "          const dataTable =\n",
              "            await google.colab.kernel.invokeFunction('convertToInteractive',\n",
              "                                                     [key], {});\n",
              "          if (!dataTable) return;\n",
              "\n",
              "          const docLinkHtml = 'Like what you see? Visit the ' +\n",
              "            '<a target=\"_blank\" href=https://colab.research.google.com/notebooks/data_table.ipynb>data table notebook</a>'\n",
              "            + ' to learn more about interactive tables.';\n",
              "          element.innerHTML = '';\n",
              "          dataTable['output_type'] = 'display_data';\n",
              "          await google.colab.output.renderOutput(dataTable, element);\n",
              "          const docLink = document.createElement('div');\n",
              "          docLink.innerHTML = docLinkHtml;\n",
              "          element.appendChild(docLink);\n",
              "        }\n",
              "      </script>\n",
              "    </div>\n",
              "  </div>\n",
              "  "
            ],
            "text/plain": [
              "       Unnamed: 0  Unnamed: 0.1  ...    type count_sum_clean\n",
              "37820       35440       3600911  ...  bigram           300.0\n",
              "29980       28635       2943149  ...  bigram           785.0\n",
              "\n",
              "[2 rows x 10 columns]"
            ]
          },
          "metadata": {},
          "execution_count": 65
        }
      ]
    },
    {
      "cell_type": "code",
      "source": [
        "import re\n",
        "\n",
        "def bigrams(s): # more than bigrams\n",
        "    return [i for i in s if re.search(r'\\s', i) ] \n",
        "def unigrams(s):\n",
        "    return [i for i in s if not re.search(r'\\s', i) ]\n",
        "def hashtag(s):\n",
        "    return [i for i in s if re.search(r'#', i) ]\n"
      ],
      "metadata": {
        "id": "i1Pe6ulHzieq"
      },
      "execution_count": 66,
      "outputs": []
    },
    {
      "cell_type": "code",
      "source": [
        "# ner\n",
        "\n",
        "ner_dem_only = ner_y.loc[(ner_y['dem'] >= 1)]\n",
        "\n",
        "temp = ner_dem_only['text_san'].values.tolist()\n",
        "ner_dem_only_list = list(set(temp))\n",
        "print(len(ner_dem_only_list))\n",
        "\n",
        "dem_bi_ner = list(set(bigrams(ner_dem_only_list)))\n",
        "print(len(dem_bi_ner))\n",
        "\n",
        "dem_uni_ner = list(set(unigrams(ner_dem_only_list)))\n",
        "print(len(dem_uni_ner))\n",
        "\n",
        "## pos\n",
        "pos_dem_only = pos.loc[(pos['dem'] >= 1)]\n",
        "\n",
        "temp = pos_dem_only['text_san'].values.tolist()\n",
        "pos_dem_only_list = list(set(temp))\n",
        "print(len(pos_dem_only_list))\n",
        "\n",
        "dem_bi_pos = list(set(bigrams(pos_dem_only_list)))\n",
        "print(len(dem_bi_pos))\n",
        "\n",
        "dem_uni_pos = list(set(unigrams(pos_dem_only_list)))\n",
        "print(len(dem_uni_pos))\n",
        "\n",
        "\n",
        "# hash - ner\n",
        "import re\n",
        "\n",
        "dem_hash = list(set(hashtag(ner_dem_only_list + pos_dem_only_list)))\n",
        "\n",
        "to_remove = [' #', '# ', '#']\n",
        "p = re.compile('|'.join(map(re.escape, to_remove))) # escape to handle metachars\n",
        "\n",
        "dem_hash = [p.sub('', s) for s in dem_hash] # remove hashtags\n",
        "dem_hash_non = list(set(dem_hash))\n",
        "\n",
        "dem_hash = ['#' + s for s in dem_hash]\n",
        "dem_hash = list(set(dem_hash))\n",
        "\n",
        "print(len(dem_hash))\n",
        "print(len(dem_hash_non))\n"
      ],
      "metadata": {
        "colab": {
          "base_uri": "https://localhost:8080/"
        },
        "id": "eXQWZTxazjMy",
        "outputId": "86dfa31c-648b-4816-9ba3-80802e85cc91"
      },
      "execution_count": 67,
      "outputs": [
        {
          "output_type": "stream",
          "name": "stdout",
          "text": [
            "1439\n",
            "1277\n",
            "162\n",
            "2477\n",
            "2147\n",
            "330\n",
            "75\n",
            "75\n"
          ]
        }
      ]
    },
    {
      "cell_type": "code",
      "source": [
        "# ner\n",
        "\n",
        "ner_rep_only = ner_y.loc[(ner_y['rep'] >= 1)]\n",
        "\n",
        "temp = ner_rep_only['text_san'].values.tolist()\n",
        "ner_rep_only_list = list(set(temp))\n",
        "print(len(ner_rep_only_list))\n",
        "\n",
        "rep_bi_ner = list(set(bigrams(ner_rep_only_list)))\n",
        "print(len(rep_bi_ner))\n",
        "\n",
        "rep_uni_ner = list(set(unigrams(ner_rep_only_list)))\n",
        "print(len(rep_uni_ner))\n",
        "\n",
        "## pos\n",
        "pos_rep_only = pos.loc[(pos['rep'] >= 1)]\n",
        "\n",
        "temp = pos_rep_only['text_san'].values.tolist()\n",
        "pos_rep_only_list = list(set(temp))\n",
        "print(len(pos_rep_only_list))\n",
        "\n",
        "rep_bi_pos = list(set(bigrams(pos_rep_only_list)))\n",
        "print(len(rep_bi_pos))\n",
        "\n",
        "rep_uni_pos = list(set(unigrams(pos_rep_only_list)))\n",
        "print(len(rep_uni_pos))\n",
        "\n",
        "\n",
        "# hash - ner\n",
        "import re\n",
        "\n",
        "rep_hash = list(set(hashtag(ner_rep_only_list + pos_rep_only_list)))\n",
        "\n",
        "to_remove = [' #', '# ', '#']\n",
        "p = re.compile('|'.join(map(re.escape, to_remove))) # escape to handle metachars\n",
        "\n",
        "rep_hash = [p.sub('', s) for s in rep_hash] # remove hashtags\n",
        "rep_hash_non = list(set(rep_hash))\n",
        "\n",
        "rep_hash = ['#' + s for s in rep_hash]\n",
        "rep_hash = list(set(rep_hash))\n",
        "\n",
        "print(len(rep_hash))\n",
        "print(len(rep_hash_non))\n"
      ],
      "metadata": {
        "colab": {
          "base_uri": "https://localhost:8080/"
        },
        "id": "N9U7lWry0SN_",
        "outputId": "174e1387-0e49-4f89-99d9-dafc671aa086"
      },
      "execution_count": 68,
      "outputs": [
        {
          "output_type": "stream",
          "name": "stdout",
          "text": [
            "1613\n",
            "1438\n",
            "175\n",
            "2017\n",
            "1680\n",
            "337\n",
            "85\n",
            "85\n"
          ]
        }
      ]
    },
    {
      "cell_type": "code",
      "source": [
        "dem_bi = list(set(dem_bi_ner + dem_bi_pos + dem_hash))\n",
        "print(len(dem_bi))\n",
        "\n",
        "dem_uni = list(set(dem_uni_ner + dem_uni_pos + dem_hash_non))\n",
        "print(len(dem_uni))\n",
        "\n",
        "rep_bi = list(set(rep_bi_ner + rep_bi_pos + rep_hash))\n",
        "print(len(rep_bi))\n",
        "\n",
        "rep_uni = list(set(rep_uni_ner + rep_uni_pos + rep_hash_non))\n",
        "print(len(rep_uni))"
      ],
      "metadata": {
        "colab": {
          "base_uri": "https://localhost:8080/"
        },
        "id": "cxUGqZEc0b7D",
        "outputId": "d52fe5eb-845e-4b33-d57c-1030a3e845c5"
      },
      "execution_count": 69,
      "outputs": [
        {
          "output_type": "stream",
          "name": "stdout",
          "text": [
            "2831\n",
            "372\n",
            "2392\n",
            "392\n"
          ]
        }
      ]
    },
    {
      "cell_type": "code",
      "source": [
        "\n",
        "df1 = pd.DataFrame({'dem_bi':dem_bi})\n",
        "#df1.to_csv('dem_bi.csv')\n",
        "\n",
        "df2 = pd.DataFrame({'dem_uni':dem_uni})\n",
        "#df2.to_csv('dem_uni.csv')\n",
        "\n",
        "df3 = pd.DataFrame({'rep_bi':rep_bi})\n",
        "#df3.to_csv('rep_bi.csv')\n",
        "\n",
        "df4 = pd.DataFrame({'rep_uni':rep_uni})\n",
        "#df4.to_csv('rep_uni.csv')\n",
        "\n"
      ],
      "metadata": {
        "id": "VIZrvXKen8Fk"
      },
      "execution_count": 70,
      "outputs": []
    },
    {
      "cell_type": "code",
      "execution_count": 46,
      "metadata": {
        "id": "W8jo4Ag7DtmN"
      },
      "outputs": [],
      "source": [
        "import pickle\n",
        "import pandas as pd\n",
        "\n",
        "temp = pd.read_csv(\"r_pages_st_sample_lower.csv\")"
      ]
    },
    {
      "cell_type": "code",
      "execution_count": 47,
      "metadata": {
        "id": "PnuwETVUD-zE"
      },
      "outputs": [],
      "source": [
        "temp['text_san'] = temp['text'].apply(basic_sanitize)"
      ]
    },
    {
      "cell_type": "code",
      "execution_count": 48,
      "metadata": {
        "id": "gPdX_ceLIaJh"
      },
      "outputs": [],
      "source": [
        "\n",
        "temp['dem_bi'] = temp['text_san'].apply(lambda x: [i for i in dem_bi if i in x])\n",
        "temp['dem_uni'] = temp['text_san'].apply(lambda x: set.intersection(set(x.split(' ')), dem_uni))\n",
        "\n",
        "temp['rep_bi'] = temp['text_san'].apply(lambda x: [i for i in rep_bi if i in x])\n",
        "temp['rep_uni'] = temp['text_san'].apply(lambda x: set.intersection(set(x.split(' ')), rep_uni))\n"
      ]
    },
    {
      "cell_type": "code",
      "source": [
        "temp.to_csv('r_pages_st_sample_lower2.csv')"
      ],
      "metadata": {
        "id": "hWuYVa9srcXV"
      },
      "execution_count": 49,
      "outputs": []
    },
    {
      "cell_type": "code",
      "source": [
        "# from google.colab import data_table\n",
        "# data_table.enable_dataframe_formatter()\n",
        "\n",
        "# all_pages_sample_1k[all_pages_sample_1k['text_san'].str.contains(\"#\")]\n"
      ],
      "metadata": {
        "id": "Ih1UYBll1Zo-"
      },
      "execution_count": 19,
      "outputs": []
    },
    {
      "cell_type": "markdown",
      "metadata": {
        "id": "53YdolCGA1do"
      },
      "source": [
        "## matching"
      ]
    },
    {
      "cell_type": "markdown",
      "source": [
        "### for Republican posts"
      ],
      "metadata": {
        "id": "VG0Rv4luqQiJ"
      }
    },
    {
      "cell_type": "code",
      "execution_count": 20,
      "metadata": {
        "id": "ZvjHCm5z8S98"
      },
      "outputs": [],
      "source": [
        "import pickle\n",
        "\n",
        "with open('r_pages_ner_pos.pickle', 'rb') as handle:\n",
        "    r_pages_st = pickle.load(handle)"
      ]
    },
    {
      "cell_type": "code",
      "execution_count": 21,
      "metadata": {
        "id": "UlVH-QbYrDd8"
      },
      "outputs": [],
      "source": [
        "r_pages_st['text_san'] = r_pages_st['text'].apply(basic_sanitize)\n"
      ]
    },
    {
      "cell_type": "code",
      "execution_count": 22,
      "metadata": {
        "colab": {
          "base_uri": "https://localhost:8080/"
        },
        "id": "nkcV3CIhLdVY",
        "outputId": "f41ac31c-b90d-419e-870f-ac564b5367d3"
      },
      "outputs": [
        {
          "output_type": "execute_result",
          "data": {
            "text/plain": [
              "6830247    That didnt take very long Jon Gruden Makes His...\n",
              "1982195     Terrorism Deaths Quadruple Under Obama - Brei...\n",
              "3697005    JUST IN Fox News Makes Major Impeachment Move ...\n",
              "Name: text_san, dtype: object"
            ]
          },
          "metadata": {},
          "execution_count": 22
        }
      ],
      "source": [
        "r_pages_st['text_san'].sample(3)"
      ]
    },
    {
      "cell_type": "code",
      "execution_count": 16,
      "metadata": {
        "colab": {
          "base_uri": "https://localhost:8080/"
        },
        "id": "2FTypxHIsKQL",
        "outputId": "efb0770c-158e-42c4-8839-99aa9dbf8d17"
      },
      "outputs": [
        {
          "output_type": "stream",
          "name": "stdout",
          "text": [
            "2827\n",
            "372\n",
            "2390\n",
            "392\n"
          ]
        }
      ],
      "source": [
        "print(len(dem_bi))\n",
        "print(len(dem_uni))\n",
        "\n",
        "print(len(rep_bi))\n",
        "print(len(rep_uni))"
      ]
    },
    {
      "cell_type": "code",
      "execution_count": 24,
      "metadata": {
        "id": "3Bs8tSXtAmND"
      },
      "outputs": [],
      "source": [
        "# matching\n",
        "\n",
        "r_pages_st['dem_bi'] = r_pages_st['text_san'].apply(lambda x: [i for i in dem_bi if i in x])\n",
        "r_pages_st['dem_uni'] = r_pages_st['text_san'].apply(lambda x: set.intersection(set(x.split(' ')), dem_uni))\n"
      ]
    },
    {
      "cell_type": "code",
      "execution_count": 25,
      "metadata": {
        "id": "53uYEqM4BID8"
      },
      "outputs": [],
      "source": [
        "\n",
        "r_pages_st['rep_bi'] = r_pages_st['text_san'].apply(lambda x: [i for i in rep_bi if i in x])\n",
        "r_pages_st['rep_uni'] = r_pages_st['text_san'].apply(lambda x: set.intersection(set(x.split(' ')), rep_uni))\n"
      ]
    },
    {
      "cell_type": "code",
      "execution_count": 26,
      "metadata": {
        "id": "JIKtwydBCQ-h"
      },
      "outputs": [],
      "source": [
        "# saving results\n",
        "\n",
        "r_pages_st6 = r_pages_st[['quarter','insult','sentistr','dem_bi','dem_uni','rep_bi','rep_uni']]\n",
        "\n",
        "import pickle\n",
        "\n",
        "with open('r_pages_ner_pos_final.pickle', 'wb') as handle:\n",
        "    pickle.dump(r_pages_st6, handle, protocol=pickle.HIGHEST_PROTOCOL)\n",
        "\n"
      ]
    },
    {
      "cell_type": "code",
      "execution_count": 27,
      "metadata": {
        "id": "Mi6ZNtBTaSLS"
      },
      "outputs": [],
      "source": [
        "# manual checking\n",
        "\n",
        "r_pages_st_sample = r_pages_st.sample(1000)\n",
        "r_pages_st_sample.to_csv('r_pages_st_sample_lower.csv', encoding='utf-8-sig')\n"
      ]
    },
    {
      "cell_type": "markdown",
      "source": [
        "### for Democratic posts"
      ],
      "metadata": {
        "id": "IaOxSrYlqUQK"
      }
    },
    {
      "cell_type": "code",
      "execution_count": 17,
      "metadata": {
        "id": "w9GtInP_BL64"
      },
      "outputs": [],
      "source": [
        "import pickle\n",
        "\n",
        "with open('d_pages_ner_pos.pickle', 'rb') as handle:\n",
        "    d_pages_st = pickle.load(handle)"
      ]
    },
    {
      "cell_type": "code",
      "execution_count": 18,
      "metadata": {
        "id": "jsDVR642tS4D",
        "colab": {
          "base_uri": "https://localhost:8080/",
          "height": 317
        },
        "outputId": "ba043ce7-c10b-4989-8c5a-7c5cde61f1c6"
      },
      "outputs": [
        {
          "output_type": "error",
          "ename": "KeyboardInterrupt",
          "evalue": "ignored",
          "traceback": [
            "\u001b[0;31m---------------------------------------------------------------------------\u001b[0m",
            "\u001b[0;31mKeyboardInterrupt\u001b[0m                         Traceback (most recent call last)",
            "\u001b[0;32m<ipython-input-18-d1deabe2d861>\u001b[0m in \u001b[0;36m<module>\u001b[0;34m()\u001b[0m\n\u001b[0;32m----> 1\u001b[0;31m \u001b[0md_pages_st\u001b[0m\u001b[0;34m[\u001b[0m\u001b[0;34m'text_san'\u001b[0m\u001b[0;34m]\u001b[0m \u001b[0;34m=\u001b[0m \u001b[0md_pages_st\u001b[0m\u001b[0;34m[\u001b[0m\u001b[0;34m'text'\u001b[0m\u001b[0;34m]\u001b[0m\u001b[0;34m.\u001b[0m\u001b[0mapply\u001b[0m\u001b[0;34m(\u001b[0m\u001b[0mbasic_sanitize\u001b[0m\u001b[0;34m)\u001b[0m\u001b[0;34m\u001b[0m\u001b[0;34m\u001b[0m\u001b[0m\n\u001b[0m",
            "\u001b[0;32m/usr/local/lib/python3.7/dist-packages/pandas/core/series.py\u001b[0m in \u001b[0;36mapply\u001b[0;34m(self, func, convert_dtype, args, **kwargs)\u001b[0m\n\u001b[1;32m   4355\u001b[0m         \u001b[0mdtype\u001b[0m\u001b[0;34m:\u001b[0m \u001b[0mfloat64\u001b[0m\u001b[0;34m\u001b[0m\u001b[0;34m\u001b[0m\u001b[0m\n\u001b[1;32m   4356\u001b[0m         \"\"\"\n\u001b[0;32m-> 4357\u001b[0;31m         \u001b[0;32mreturn\u001b[0m \u001b[0mSeriesApply\u001b[0m\u001b[0;34m(\u001b[0m\u001b[0mself\u001b[0m\u001b[0;34m,\u001b[0m \u001b[0mfunc\u001b[0m\u001b[0;34m,\u001b[0m \u001b[0mconvert_dtype\u001b[0m\u001b[0;34m,\u001b[0m \u001b[0margs\u001b[0m\u001b[0;34m,\u001b[0m \u001b[0mkwargs\u001b[0m\u001b[0;34m)\u001b[0m\u001b[0;34m.\u001b[0m\u001b[0mapply\u001b[0m\u001b[0;34m(\u001b[0m\u001b[0;34m)\u001b[0m\u001b[0;34m\u001b[0m\u001b[0;34m\u001b[0m\u001b[0m\n\u001b[0m\u001b[1;32m   4358\u001b[0m \u001b[0;34m\u001b[0m\u001b[0m\n\u001b[1;32m   4359\u001b[0m     def _reduce(\n",
            "\u001b[0;32m/usr/local/lib/python3.7/dist-packages/pandas/core/apply.py\u001b[0m in \u001b[0;36mapply\u001b[0;34m(self)\u001b[0m\n\u001b[1;32m   1041\u001b[0m             \u001b[0;32mreturn\u001b[0m \u001b[0mself\u001b[0m\u001b[0;34m.\u001b[0m\u001b[0mapply_str\u001b[0m\u001b[0;34m(\u001b[0m\u001b[0;34m)\u001b[0m\u001b[0;34m\u001b[0m\u001b[0;34m\u001b[0m\u001b[0m\n\u001b[1;32m   1042\u001b[0m \u001b[0;34m\u001b[0m\u001b[0m\n\u001b[0;32m-> 1043\u001b[0;31m         \u001b[0;32mreturn\u001b[0m \u001b[0mself\u001b[0m\u001b[0;34m.\u001b[0m\u001b[0mapply_standard\u001b[0m\u001b[0;34m(\u001b[0m\u001b[0;34m)\u001b[0m\u001b[0;34m\u001b[0m\u001b[0;34m\u001b[0m\u001b[0m\n\u001b[0m\u001b[1;32m   1044\u001b[0m \u001b[0;34m\u001b[0m\u001b[0m\n\u001b[1;32m   1045\u001b[0m     \u001b[0;32mdef\u001b[0m \u001b[0magg\u001b[0m\u001b[0;34m(\u001b[0m\u001b[0mself\u001b[0m\u001b[0;34m)\u001b[0m\u001b[0;34m:\u001b[0m\u001b[0;34m\u001b[0m\u001b[0;34m\u001b[0m\u001b[0m\n",
            "\u001b[0;32m/usr/local/lib/python3.7/dist-packages/pandas/core/apply.py\u001b[0m in \u001b[0;36mapply_standard\u001b[0;34m(self)\u001b[0m\n\u001b[1;32m   1099\u001b[0m                     \u001b[0mvalues\u001b[0m\u001b[0;34m,\u001b[0m\u001b[0;34m\u001b[0m\u001b[0;34m\u001b[0m\u001b[0m\n\u001b[1;32m   1100\u001b[0m                     \u001b[0mf\u001b[0m\u001b[0;34m,\u001b[0m  \u001b[0;31m# type: ignore[arg-type]\u001b[0m\u001b[0;34m\u001b[0m\u001b[0;34m\u001b[0m\u001b[0m\n\u001b[0;32m-> 1101\u001b[0;31m                     \u001b[0mconvert\u001b[0m\u001b[0;34m=\u001b[0m\u001b[0mself\u001b[0m\u001b[0;34m.\u001b[0m\u001b[0mconvert_dtype\u001b[0m\u001b[0;34m,\u001b[0m\u001b[0;34m\u001b[0m\u001b[0;34m\u001b[0m\u001b[0m\n\u001b[0m\u001b[1;32m   1102\u001b[0m                 )\n\u001b[1;32m   1103\u001b[0m \u001b[0;34m\u001b[0m\u001b[0m\n",
            "\u001b[0;32m/usr/local/lib/python3.7/dist-packages/pandas/_libs/lib.pyx\u001b[0m in \u001b[0;36mpandas._libs.lib.map_infer\u001b[0;34m()\u001b[0m\n",
            "\u001b[0;32m<ipython-input-3-97221b0d2386>\u001b[0m in \u001b[0;36mbasic_sanitize\u001b[0;34m(text)\u001b[0m\n\u001b[1;32m      5\u001b[0m \u001b[0;34m\u001b[0m\u001b[0m\n\u001b[1;32m      6\u001b[0m \u001b[0;31m#    text = re.sub(r'[\\'’]',' ', text) #&\u001b[0m\u001b[0;34m\u001b[0m\u001b[0;34m\u001b[0m\u001b[0;34m\u001b[0m\u001b[0m\n\u001b[0;32m----> 7\u001b[0;31m     \u001b[0mtext\u001b[0m \u001b[0;34m=\u001b[0m \u001b[0mre\u001b[0m\u001b[0;34m.\u001b[0m\u001b[0msub\u001b[0m\u001b[0;34m(\u001b[0m\u001b[0;34mr'[^\\w\\s#&-]'\u001b[0m\u001b[0;34m,\u001b[0m\u001b[0;34m''\u001b[0m\u001b[0;34m,\u001b[0m \u001b[0mtext\u001b[0m\u001b[0;34m)\u001b[0m \u001b[0;31m#&\u001b[0m\u001b[0;34m\u001b[0m\u001b[0;34m\u001b[0m\u001b[0m\n\u001b[0m\u001b[1;32m      8\u001b[0m \u001b[0;31m#    text = text.lower()\u001b[0m\u001b[0;34m\u001b[0m\u001b[0;34m\u001b[0m\u001b[0;34m\u001b[0m\u001b[0m\n\u001b[1;32m      9\u001b[0m \u001b[0;34m\u001b[0m\u001b[0m\n",
            "\u001b[0;32m/usr/lib/python3.7/re.py\u001b[0m in \u001b[0;36msub\u001b[0;34m(pattern, repl, string, count, flags)\u001b[0m\n\u001b[1;32m    192\u001b[0m     \u001b[0ma\u001b[0m \u001b[0mcallable\u001b[0m\u001b[0;34m,\u001b[0m \u001b[0mit\u001b[0m\u001b[0;31m'\u001b[0m\u001b[0ms\u001b[0m \u001b[0mpassed\u001b[0m \u001b[0mthe\u001b[0m \u001b[0mMatch\u001b[0m \u001b[0mobject\u001b[0m \u001b[0;32mand\u001b[0m \u001b[0mmust\u001b[0m \u001b[0;32mreturn\u001b[0m\u001b[0;34m\u001b[0m\u001b[0;34m\u001b[0m\u001b[0m\n\u001b[1;32m    193\u001b[0m     a replacement string to be used.\"\"\"\n\u001b[0;32m--> 194\u001b[0;31m     \u001b[0;32mreturn\u001b[0m \u001b[0m_compile\u001b[0m\u001b[0;34m(\u001b[0m\u001b[0mpattern\u001b[0m\u001b[0;34m,\u001b[0m \u001b[0mflags\u001b[0m\u001b[0;34m)\u001b[0m\u001b[0;34m.\u001b[0m\u001b[0msub\u001b[0m\u001b[0;34m(\u001b[0m\u001b[0mrepl\u001b[0m\u001b[0;34m,\u001b[0m \u001b[0mstring\u001b[0m\u001b[0;34m,\u001b[0m \u001b[0mcount\u001b[0m\u001b[0;34m)\u001b[0m\u001b[0;34m\u001b[0m\u001b[0;34m\u001b[0m\u001b[0m\n\u001b[0m\u001b[1;32m    195\u001b[0m \u001b[0;34m\u001b[0m\u001b[0m\n\u001b[1;32m    196\u001b[0m \u001b[0;32mdef\u001b[0m \u001b[0msubn\u001b[0m\u001b[0;34m(\u001b[0m\u001b[0mpattern\u001b[0m\u001b[0;34m,\u001b[0m \u001b[0mrepl\u001b[0m\u001b[0;34m,\u001b[0m \u001b[0mstring\u001b[0m\u001b[0;34m,\u001b[0m \u001b[0mcount\u001b[0m\u001b[0;34m=\u001b[0m\u001b[0;36m0\u001b[0m\u001b[0;34m,\u001b[0m \u001b[0mflags\u001b[0m\u001b[0;34m=\u001b[0m\u001b[0;36m0\u001b[0m\u001b[0;34m)\u001b[0m\u001b[0;34m:\u001b[0m\u001b[0;34m\u001b[0m\u001b[0;34m\u001b[0m\u001b[0m\n",
            "\u001b[0;31mKeyboardInterrupt\u001b[0m: "
          ]
        }
      ],
      "source": [
        "d_pages_st['text_san'] = d_pages_st['text'].apply(basic_sanitize)\n"
      ]
    },
    {
      "cell_type": "code",
      "execution_count": null,
      "metadata": {
        "id": "zidU4VSFM8Er"
      },
      "outputs": [],
      "source": [
        "d_pages_st['text_san'].sample(3)"
      ]
    },
    {
      "cell_type": "code",
      "execution_count": null,
      "metadata": {
        "id": "VGhoBSpCBXkv"
      },
      "outputs": [],
      "source": [
        "\n",
        "d_pages_st['dem_bi'] = d_pages_st['text_san'].apply(lambda x: [i for i in dem_bi if i in x])\n",
        "d_pages_st['dem_uni'] = d_pages_st['text_san'].apply(lambda x: set.intersection(set(x.split(' ')), dem_uni))\n"
      ]
    },
    {
      "cell_type": "code",
      "execution_count": null,
      "metadata": {
        "id": "TAdWhYwZBXgc"
      },
      "outputs": [],
      "source": [
        "d_pages_st['rep_bi'] = d_pages_st['text_san'].apply(lambda x: [i for i in rep_bi if i in x])\n",
        "d_pages_st['rep_uni'] = d_pages_st['text_san'].apply(lambda x: set.intersection(set(x.split(' ')), rep_uni))\n"
      ]
    },
    {
      "cell_type": "code",
      "execution_count": null,
      "metadata": {
        "id": "uWzMt9gttlku"
      },
      "outputs": [],
      "source": [
        "# saving results\n",
        "\n",
        "d_pages_st6 = d_pages_st[['quarter','insult','sentistr','dem_bi','dem_uni','rep_bi','rep_uni']]\n",
        "\n",
        "import pickle\n",
        "\n",
        "with open('d_pages_ner_pos_final.pickle', 'wb') as handle:\n",
        "    pickle.dump(d_pages_st6, handle, protocol=pickle.HIGHEST_PROTOCOL)\n",
        "\n"
      ]
    },
    {
      "cell_type": "code",
      "source": [
        "# manual checking\n",
        "\n",
        "d_pages_st_sample = d_pages_st.sample(1000)\n",
        "d_pages_st_sample.to_csv('d_pages_st_sample_lower.csv', encoding='utf-8-sig')\n"
      ],
      "metadata": {
        "id": "n227imbA_Wm2"
      },
      "execution_count": null,
      "outputs": []
    },
    {
      "cell_type": "markdown",
      "metadata": {
        "id": "HcQRUjCmD8C-"
      },
      "source": [
        "## merge results from both leanings"
      ]
    },
    {
      "cell_type": "code",
      "execution_count": null,
      "metadata": {
        "id": "HpIZXwwbD5Cb"
      },
      "outputs": [],
      "source": [
        "import pickle\n",
        "\n",
        "with open('r_pages_ner_pos_3rd_lowercase.pickle', 'rb') as handle:\n",
        "    r_pages_st = pickle.load(handle)"
      ]
    },
    {
      "cell_type": "code",
      "execution_count": null,
      "metadata": {
        "id": "w1CpGwn8EP6a"
      },
      "outputs": [],
      "source": [
        "\n",
        "with open('d_pages_ner_pos_3rd_lowercase.pickle', 'rb') as handle:\n",
        "    d_pages_st = pickle.load(handle)"
      ]
    },
    {
      "cell_type": "code",
      "execution_count": null,
      "metadata": {
        "id": "4tajyM2a_kAO"
      },
      "outputs": [],
      "source": [
        "r_pages_st['leanings'] = \"republican\"\n",
        "d_pages_st['leanings'] = \"democratic\""
      ]
    },
    {
      "cell_type": "code",
      "source": [
        "import pandas as pd\n",
        "from sklearn.preprocessing import StandardScaler\n",
        "\n",
        "scaler = StandardScaler()\n",
        "\n",
        "d_pages_st[['sentistr_std', 'insult_std']] = scaler.fit_transform(d_pages_st[['sentistr', 'insult']])\n",
        "\n",
        "r_pages_st[['sentistr_std', 'insult_std']] = scaler.fit_transform(r_pages_st[['sentistr', 'insult']])\n"
      ],
      "metadata": {
        "colab": {
          "base_uri": "https://localhost:8080/"
        },
        "id": "KcmIvAgdUlyF",
        "outputId": "cccb023f-23ba-414a-a776-e46f34d3b5b2"
      },
      "execution_count": null,
      "outputs": [
        {
          "output_type": "stream",
          "name": "stderr",
          "text": [
            "/usr/local/lib/python3.7/dist-packages/numpy/core/fromnumeric.py:86: RuntimeWarning: invalid value encountered in reduce\n",
            "  return ufunc.reduce(obj, axis, dtype, out, **passkwargs)\n",
            "/usr/local/lib/python3.7/dist-packages/sklearn/utils/extmath.py:991: RuntimeWarning: invalid value encountered in subtract\n",
            "  temp = X - T\n",
            "/usr/local/lib/python3.7/dist-packages/numpy/core/fromnumeric.py:86: RuntimeWarning: invalid value encountered in reduce\n",
            "  return ufunc.reduce(obj, axis, dtype, out, **passkwargs)\n",
            "/usr/local/lib/python3.7/dist-packages/sklearn/preprocessing/_data.py:993: RuntimeWarning: invalid value encountered in subtract\n",
            "  X -= self.mean_\n",
            "/usr/local/lib/python3.7/dist-packages/numpy/core/fromnumeric.py:86: RuntimeWarning: invalid value encountered in reduce\n",
            "  return ufunc.reduce(obj, axis, dtype, out, **passkwargs)\n",
            "/usr/local/lib/python3.7/dist-packages/sklearn/utils/extmath.py:991: RuntimeWarning: invalid value encountered in subtract\n",
            "  temp = X - T\n",
            "/usr/local/lib/python3.7/dist-packages/numpy/core/fromnumeric.py:86: RuntimeWarning: invalid value encountered in reduce\n",
            "  return ufunc.reduce(obj, axis, dtype, out, **passkwargs)\n",
            "/usr/local/lib/python3.7/dist-packages/sklearn/preprocessing/_data.py:993: RuntimeWarning: invalid value encountered in subtract\n",
            "  X -= self.mean_\n"
          ]
        }
      ]
    },
    {
      "cell_type": "code",
      "source": [
        "\n",
        "import numpy as np\n",
        "\n",
        "d_pages_st['ner_pos_dem_b_count'] = d_pages_st['ner_pos_dem_b'].str.len()\n",
        "d_pages_st['ner_pos_dem_u_count'] = d_pages_st['ner_pos_dem_u'].str.len()\n",
        "\n",
        "d_pages_st['ner_pos_rep_b_count'] = d_pages_st['ner_pos_rep_b'].str.len()\n",
        "d_pages_st['ner_pos_rep_u_count'] = d_pages_st['ner_pos_rep_u'].str.len()\n"
      ],
      "metadata": {
        "id": "KpEB4CoxCtLK"
      },
      "execution_count": null,
      "outputs": []
    },
    {
      "cell_type": "code",
      "source": [
        "\n",
        "d_pages_st['out_group_np'] = np.where(( (d_pages_st.ner_pos_rep_u_count >= 1) | (d_pages_st.ner_pos_rep_b_count >= 1) ), 'mentioned', 'non_mentioned')\n",
        "d_pages_st['in_group_np'] = np.where(( (d_pages_st.ner_pos_dem_u_count >= 1) | (d_pages_st.ner_pos_dem_b_count >= 1) ), 'mentioned', 'non_mentioned')\n",
        "d_pages_st['no_entity_np'] = np.where(((d_pages_st.in_group_np == 'non_mentioned') & (d_pages_st.out_group_np == 'non_mentioned')), 'none', 'mentioned')\n",
        "d_pages_st['both_entity'] = np.where(((d_pages_st.in_group_np == 'non_mentioned') & (d_pages_st.out_group_np == 'non_mentioned')), 'none', 'mentioned')\n"
      ],
      "metadata": {
        "id": "SGO1VruxrYnJ"
      },
      "execution_count": null,
      "outputs": []
    },
    {
      "cell_type": "code",
      "source": [
        "import numpy as np\n",
        "\n",
        "r_pages_st['ner_pos_dem_b_count'] = r_pages_st['ner_pos_dem_b'].str.len()\n",
        "r_pages_st['ner_pos_dem_u_count'] = r_pages_st['ner_pos_dem_u'].str.len()\n",
        "\n",
        "r_pages_st['ner_pos_rep_b_count'] = r_pages_st['ner_pos_rep_b'].str.len()\n",
        "r_pages_st['ner_pos_rep_u_count'] = r_pages_st['ner_pos_rep_u'].str.len()\n",
        "\n",
        "\n",
        "r_pages_st['in_group_np'] = np.where(( (r_pages_st.ner_pos_rep_u_count >= 1) | (r_pages_st.ner_pos_rep_b_count >= 1) ), 'mentioned', 'non_mentioned')\n",
        "r_pages_st['out_group_np'] = np.where(( (r_pages_st.ner_pos_dem_u_count >= 1) | (r_pages_st.ner_pos_dem_b_count >= 1) ), 'mentioned', 'non_mentioned')\n",
        "r_pages_st['no_entity_np'] = np.where(((r_pages_st.in_group_np == 'non_mentioned') & (r_pages_st.out_group_np == 'non_mentioned')), 'none', 'mentioned')\n"
      ],
      "metadata": {
        "id": "_rwWnfWaCxQZ"
      },
      "execution_count": null,
      "outputs": []
    },
    {
      "cell_type": "code",
      "source": [
        "\n",
        "print('in_group_np')\n",
        "print(d_pages_st['in_group_np'].value_counts())\n",
        "\n",
        "print('out_group_np')\n",
        "print(d_pages_st['out_group_np'].value_counts())\n",
        "\n",
        "print('no_entity_np')\n",
        "print(d_pages_st['no_entity_np'].value_counts())"
      ],
      "metadata": {
        "colab": {
          "base_uri": "https://localhost:8080/"
        },
        "id": "dmYCxzFopl6n",
        "outputId": "075a80fc-0593-43c4-d9c9-4aa280f7b8a9"
      },
      "execution_count": null,
      "outputs": [
        {
          "output_type": "stream",
          "name": "stdout",
          "text": [
            "in_group_np\n",
            "non_mentioned    4356840\n",
            "mentioned        2453184\n",
            "Name: in_group_np, dtype: int64\n",
            "out_group_np\n",
            "non_mentioned    3651227\n",
            "mentioned        3158797\n",
            "Name: out_group_np, dtype: int64\n",
            "no_entity_np\n",
            "mentioned    4302969\n",
            "none         2507055\n",
            "Name: no_entity_np, dtype: int64\n"
          ]
        }
      ]
    },
    {
      "cell_type": "code",
      "source": [
        "\n",
        "print('in_group_np')\n",
        "print(r_pages_st['in_group_np'].value_counts())\n",
        "\n",
        "print('out_group_np')\n",
        "print(r_pages_st['out_group_np'].value_counts())\n",
        "\n",
        "print('no_entity_np')\n",
        "print(r_pages_st['no_entity_np'].value_counts())"
      ],
      "metadata": {
        "colab": {
          "base_uri": "https://localhost:8080/"
        },
        "id": "GRD1KYKzplw9",
        "outputId": "5ea4d6fc-5879-4534-9105-6f92a81b1105"
      },
      "execution_count": null,
      "outputs": [
        {
          "output_type": "stream",
          "name": "stdout",
          "text": [
            "in_group_np\n",
            "non_mentioned    4362780\n",
            "mentioned        2987858\n",
            "Name: in_group_np, dtype: int64\n",
            "out_group_np\n",
            "non_mentioned    4674140\n",
            "mentioned        2676498\n",
            "Name: out_group_np, dtype: int64\n",
            "no_entity_np\n",
            "mentioned    4255938\n",
            "none         3094700\n",
            "Name: no_entity_np, dtype: int64\n"
          ]
        }
      ]
    },
    {
      "cell_type": "code",
      "execution_count": null,
      "metadata": {
        "colab": {
          "base_uri": "https://localhost:8080/"
        },
        "id": "mOmkhDzpADLd",
        "outputId": "7279ee15-be41-47a2-fe29-1c8580cb0edf"
      },
      "outputs": [
        {
          "output_type": "execute_result",
          "data": {
            "text/plain": [
              "Index(['quarter', 'insult', 'sentistr', 'ner_pos_rep_u', 'ner_pos_rep_b',\n",
              "       'ner_pos_dem_u', 'ner_pos_dem_b', 'leanings', 'sentistr_std',\n",
              "       'insult_std', 'ner_pos_dem_b_count', 'ner_pos_dem_u_count',\n",
              "       'ner_pos_rep_b_count', 'ner_pos_rep_u_count', 'out_group_np',\n",
              "       'in_group_np', 'no_entity_np'],\n",
              "      dtype='object')"
            ]
          },
          "metadata": {},
          "execution_count": 9
        }
      ],
      "source": [
        "d_pages_st.columns"
      ]
    },
    {
      "cell_type": "code",
      "execution_count": null,
      "metadata": {
        "colab": {
          "base_uri": "https://localhost:8080/"
        },
        "id": "CI_iygVPAEvo",
        "outputId": "31042ae1-8633-4898-806a-082204d1c609"
      },
      "outputs": [
        {
          "output_type": "execute_result",
          "data": {
            "text/plain": [
              "Index(['quarter', 'insult', 'sentistr', 'ner_pos_rep_u', 'ner_pos_rep_b',\n",
              "       'ner_pos_dem_u', 'ner_pos_dem_b', 'leanings', 'sentistr_std',\n",
              "       'insult_std', 'ner_pos_dem_b_count', 'ner_pos_dem_u_count',\n",
              "       'ner_pos_rep_b_count', 'ner_pos_rep_u_count', 'in_group_np',\n",
              "       'out_group_np', 'no_entity_np'],\n",
              "      dtype='object')"
            ]
          },
          "metadata": {},
          "execution_count": 10
        }
      ],
      "source": [
        "r_pages_st.columns"
      ]
    },
    {
      "cell_type": "code",
      "execution_count": null,
      "metadata": {
        "id": "08LXvSbT_lwO"
      },
      "outputs": [],
      "source": [
        "import pandas as pd\n",
        "\n",
        "pages_df_st = pd.concat([r_pages_st, d_pages_st], ignore_index=True, sort=False)\n"
      ]
    },
    {
      "cell_type": "code",
      "execution_count": null,
      "metadata": {
        "id": "qgfT3ZQH_0VH"
      },
      "outputs": [],
      "source": [
        "# aggregated by all posts\n",
        "\n",
        "temp  = pages_df_st.groupby(['quarter', 'out_group_np'])['sentistr_std'].mean().reset_index()\n",
        "temp.to_csv('pos_ner_lower/all_np_out_group_senti_std.csv', encoding='utf-8-sig')\n",
        "\n",
        "\n",
        "temp  = pages_df_st.groupby(['quarter', 'in_group_np'])['sentistr_std'].mean().reset_index()\n",
        "temp.to_csv('pos_ner_lower/all_np_in_group_senti_std.csv', encoding='utf-8-sig')\n",
        "\n",
        "\n",
        "temp  = pages_df_st.groupby(['quarter', 'no_entity_np'])['sentistr_std'].mean().reset_index()\n",
        "temp.to_csv('pos_ner_lower/all_np_no_entities_senti_std.csv', encoding='utf-8-sig')\n",
        "\n",
        "\n",
        "temp  = pages_df_st.groupby(['quarter', 'out_group_np'])['insult_std'].mean().reset_index()\n",
        "temp.to_csv('pos_ner_lower/all_np_out_group_insult_std.csv', encoding='utf-8-sig')\n",
        "\n",
        "\n",
        "temp  = pages_df_st.groupby(['quarter', 'in_group_np'])['insult_std'].mean().reset_index()\n",
        "temp.to_csv('pos_ner_lower/all_np_in_group_insult_std.csv', encoding='utf-8-sig')\n",
        "\n",
        "\n",
        "temp  = pages_df_st.groupby(['quarter', 'no_entity_np'])['insult_std'].mean().reset_index()\n",
        "temp.to_csv('pos_ner_lower/all_np_no_entities_insult_std.csv', encoding='utf-8-sig')\n"
      ]
    },
    {
      "cell_type": "code",
      "source": [
        "# aggregated by all posts + by leanings\n",
        "\n",
        "temp  = pages_df_st.groupby(['quarter', 'out_group_np', 'leanings'])['sentistr_std'].mean().reset_index()\n",
        "temp.to_csv('pos_ner_lower/leanings_np_out_group_senti_std.csv', encoding='utf-8-sig')\n",
        "\n",
        "\n",
        "temp  = pages_df_st.groupby(['quarter', 'in_group_np', 'leanings'])['sentistr_std'].mean().reset_index()\n",
        "temp.to_csv('pos_ner_lower/leanings_np_in_group_senti_std.csv', encoding='utf-8-sig')\n",
        "\n",
        "\n",
        "temp  = pages_df_st.groupby(['quarter', 'no_entity_np', 'leanings'])['sentistr_std'].mean().reset_index()\n",
        "temp.to_csv('pos_ner_lower/leanings_np_no_entities_senti_std.csv', encoding='utf-8-sig')\n",
        "\n",
        "\n",
        "temp  = pages_df_st.groupby(['quarter', 'out_group_np', 'leanings'])['insult_std'].mean().reset_index()\n",
        "temp.to_csv('pos_ner_lower/leanings_np_out_group_insult_std.csv', encoding='utf-8-sig')\n",
        "\n",
        "\n",
        "temp  = pages_df_st.groupby(['quarter', 'in_group_np', 'leanings'])['insult_std'].mean().reset_index()\n",
        "temp.to_csv('pos_ner_lower/leanings_np_in_group_insult_std.csv', encoding='utf-8-sig')\n",
        "\n",
        "\n",
        "temp  = pages_df_st.groupby(['quarter', 'no_entity_np', 'leanings'])['insult_std'].mean().reset_index()\n",
        "temp.to_csv('pos_ner_lower/leanings_np_no_entities_insult_std.csv', encoding='utf-8-sig')\n"
      ],
      "metadata": {
        "id": "zV8Sya9ZVR0S"
      },
      "execution_count": null,
      "outputs": []
    }
  ],
  "metadata": {
    "colab": {
      "collapsed_sections": [
        "uJ6Qo4-hAyil",
        "_9Zz_169Dp_M"
      ],
      "machine_shape": "hm",
      "name": "ner-pos-matching-wpreprocessing.ipynb",
      "provenance": [],
      "authorship_tag": "ABX9TyPZiNtUw3d5MkfezAtc9Q+7",
      "include_colab_link": true
    },
    "kernelspec": {
      "display_name": "Python 3",
      "name": "python3"
    },
    "language_info": {
      "name": "python"
    },
    "accelerator": "GPU"
  },
  "nbformat": 4,
  "nbformat_minor": 0
}