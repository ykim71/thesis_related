{
  "cells": [
    {
      "cell_type": "markdown",
      "metadata": {
        "id": "view-in-github",
        "colab_type": "text"
      },
      "source": [
        "<a href=\"https://colab.research.google.com/github/ykim71/thesis_related/blob/main/ner_pos_matching_wpreprocessing.ipynb\" target=\"_parent\"><img src=\"https://colab.research.google.com/assets/colab-badge.svg\" alt=\"Open In Colab\"/></a>"
      ]
    },
    {
      "cell_type": "code",
      "execution_count": 1,
      "metadata": {
        "colab": {
          "base_uri": "https://localhost:8080/"
        },
        "id": "w5mOgB83cNL1",
        "outputId": "3ade6422-9252-4546-b473-5ce43b0c740c"
      },
      "outputs": [
        {
          "output_type": "stream",
          "name": "stdout",
          "text": [
            "Mounted at /content/drive\n"
          ]
        }
      ],
      "source": [
        "from google.colab import drive\n",
        "\n",
        "drive.mount(\"/content/drive\", force_remount=True)"
      ]
    },
    {
      "cell_type": "code",
      "execution_count": 2,
      "metadata": {
        "colab": {
          "base_uri": "https://localhost:8080/"
        },
        "id": "kY3dOHE7c8U5",
        "outputId": "cb679f66-ba27-4863-9259-bdc7c5a1f322"
      },
      "outputs": [
        {
          "output_type": "stream",
          "name": "stdout",
          "text": [
            "/content/drive/MyDrive/CrowdTangle/final_data_metrics\n"
          ]
        }
      ],
      "source": [
        "%cd drive/'MyDrive'/CrowdTangle/final_data_metrics"
      ]
    },
    {
      "cell_type": "code",
      "execution_count": null,
      "metadata": {
        "colab": {
          "base_uri": "https://localhost:8080/"
        },
        "id": "xo9v0joSdUDs",
        "outputId": "255182f8-fdd1-4759-90b2-07eb98e427e9"
      },
      "outputs": [
        {
          "name": "stdout",
          "output_type": "stream",
          "text": [
            "Collecting pyreadr\n",
            "  Downloading pyreadr-0.4.4-cp37-cp37m-manylinux_2_17_x86_64.manylinux2014_x86_64.whl (361 kB)\n",
            "\u001b[?25l\r\u001b[K     |█                               | 10 kB 27.1 MB/s eta 0:00:01\r\u001b[K     |█▉                              | 20 kB 8.9 MB/s eta 0:00:01\r\u001b[K     |██▊                             | 30 kB 6.1 MB/s eta 0:00:01\r\u001b[K     |███▋                            | 40 kB 5.8 MB/s eta 0:00:01\r\u001b[K     |████▌                           | 51 kB 2.7 MB/s eta 0:00:01\r\u001b[K     |█████▍                          | 61 kB 3.2 MB/s eta 0:00:01\r\u001b[K     |██████▍                         | 71 kB 3.4 MB/s eta 0:00:01\r\u001b[K     |███████▎                        | 81 kB 3.6 MB/s eta 0:00:01\r\u001b[K     |████████▏                       | 92 kB 4.0 MB/s eta 0:00:01\r\u001b[K     |█████████                       | 102 kB 3.2 MB/s eta 0:00:01\r\u001b[K     |██████████                      | 112 kB 3.2 MB/s eta 0:00:01\r\u001b[K     |██████████▉                     | 122 kB 3.2 MB/s eta 0:00:01\r\u001b[K     |███████████▊                    | 133 kB 3.2 MB/s eta 0:00:01\r\u001b[K     |████████████▊                   | 143 kB 3.2 MB/s eta 0:00:01\r\u001b[K     |█████████████▋                  | 153 kB 3.2 MB/s eta 0:00:01\r\u001b[K     |██████████████▌                 | 163 kB 3.2 MB/s eta 0:00:01\r\u001b[K     |███████████████▍                | 174 kB 3.2 MB/s eta 0:00:01\r\u001b[K     |████████████████▎               | 184 kB 3.2 MB/s eta 0:00:01\r\u001b[K     |█████████████████▏              | 194 kB 3.2 MB/s eta 0:00:01\r\u001b[K     |██████████████████▏             | 204 kB 3.2 MB/s eta 0:00:01\r\u001b[K     |███████████████████             | 215 kB 3.2 MB/s eta 0:00:01\r\u001b[K     |████████████████████            | 225 kB 3.2 MB/s eta 0:00:01\r\u001b[K     |████████████████████▉           | 235 kB 3.2 MB/s eta 0:00:01\r\u001b[K     |█████████████████████▊          | 245 kB 3.2 MB/s eta 0:00:01\r\u001b[K     |██████████████████████▋         | 256 kB 3.2 MB/s eta 0:00:01\r\u001b[K     |███████████████████████▌        | 266 kB 3.2 MB/s eta 0:00:01\r\u001b[K     |████████████████████████▌       | 276 kB 3.2 MB/s eta 0:00:01\r\u001b[K     |█████████████████████████▍      | 286 kB 3.2 MB/s eta 0:00:01\r\u001b[K     |██████████████████████████▎     | 296 kB 3.2 MB/s eta 0:00:01\r\u001b[K     |███████████████████████████▏    | 307 kB 3.2 MB/s eta 0:00:01\r\u001b[K     |████████████████████████████    | 317 kB 3.2 MB/s eta 0:00:01\r\u001b[K     |█████████████████████████████   | 327 kB 3.2 MB/s eta 0:00:01\r\u001b[K     |██████████████████████████████  | 337 kB 3.2 MB/s eta 0:00:01\r\u001b[K     |██████████████████████████████▉ | 348 kB 3.2 MB/s eta 0:00:01\r\u001b[K     |███████████████████████████████▊| 358 kB 3.2 MB/s eta 0:00:01\r\u001b[K     |████████████████████████████████| 361 kB 3.2 MB/s \n",
            "\u001b[?25hRequirement already satisfied: pandas>=1.2.0 in /usr/local/lib/python3.7/dist-packages (from pyreadr) (1.3.5)\n",
            "Requirement already satisfied: pytz>=2017.3 in /usr/local/lib/python3.7/dist-packages (from pandas>=1.2.0->pyreadr) (2018.9)\n",
            "Requirement already satisfied: numpy>=1.17.3 in /usr/local/lib/python3.7/dist-packages (from pandas>=1.2.0->pyreadr) (1.21.5)\n",
            "Requirement already satisfied: python-dateutil>=2.7.3 in /usr/local/lib/python3.7/dist-packages (from pandas>=1.2.0->pyreadr) (2.8.2)\n",
            "Requirement already satisfied: six>=1.5 in /usr/local/lib/python3.7/dist-packages (from python-dateutil>=2.7.3->pandas>=1.2.0->pyreadr) (1.15.0)\n",
            "Installing collected packages: pyreadr\n",
            "Successfully installed pyreadr-0.4.4\n"
          ]
        }
      ],
      "source": [
        "pip install pyreadr\n"
      ]
    },
    {
      "cell_type": "markdown",
      "metadata": {
        "id": "uJ6Qo4-hAyil"
      },
      "source": [
        "\n",
        "\n",
        "## pre-processing"
      ]
    },
    {
      "cell_type": "code",
      "execution_count": 3,
      "metadata": {
        "id": "JJGVnyO5qAIg"
      },
      "outputs": [],
      "source": [
        "import pandas as pd\n",
        "\n",
        "ner_pos = pd.read_excel('pos_bigrams_all_merged_NER4.xlsx')\n"
      ]
    },
    {
      "cell_type": "code",
      "execution_count": 4,
      "metadata": {
        "id": "8uH7DQdDx5UJ"
      },
      "outputs": [],
      "source": [
        "import re\n",
        "\n",
        "def bigrams(s):\n",
        "    return [i for i in s if re.search(r'\\s', i) ] \n",
        "def unigrams(s):\n",
        "    return [i for i in s if not re.search(r'\\s', i) ]\n",
        "def hashtag(s):\n",
        "    return [i for i in s if re.search(r'#', i) ]\n",
        "\n",
        "def contain_the(s): # bigrams that make sense with 'the'\n",
        "  to_remove = [' #', '# ', '.','\\'s', \"’s\", \" \\'\", \"\\'\", \"\\'S\", '“', '\"', '’', ]\n",
        "  p = re.compile('|'.join(map(re.escape, to_remove))) # escape to handle metachars\n",
        "  s = [p.sub('', s) for s in s] # remove hashtags\n",
        "\n",
        "  matchers = ['The ', 'the ']\n",
        "  items = [i for i in s if any(xs in i for xs in matchers)]\n",
        "  temp = [i for i in items if i.count(' ')==1]\n",
        "  return list(set(temp))\n"
      ]
    },
    {
      "cell_type": "code",
      "execution_count": 24,
      "metadata": {
        "colab": {
          "base_uri": "https://localhost:8080/"
        },
        "id": "Vlda7fBe_yA3",
        "outputId": "a48b26bf-4c48-45f7-86b2-5a27c83b5406"
      },
      "outputs": [
        {
          "output_type": "stream",
          "name": "stdout",
          "text": [
            "2712\n",
            "185\n",
            "181\n",
            "1\n"
          ]
        }
      ],
      "source": [
        "\n",
        "ner_rep_only = ner_pos.loc[(ner_pos['rep'] == 1)]\n",
        "\n",
        "temp = ner_rep_only['text'].values.tolist()\n",
        "ner_rep_only_list = list(set(temp))\n",
        "print(len(ner_rep_only_list))\n",
        "\n",
        "# bi-grams\n",
        "rep_bi = list(set(bigrams(ner_rep_only_list)))\n",
        "\n",
        "import re\n",
        "\n",
        "to_remove = [' #', '# ', '.','\\'s', \"’s\", \" \\'\", \"\\'\", \"\\'S\", '“', '\"', '’', ' Timeline', ' Photo', 'the ', 'The ']\n",
        "\n",
        "p = re.compile('|'.join(map(re.escape, to_remove))) # escape to handle metachars\n",
        "\n",
        "rep_bi = [p.sub('', s) for s in rep_bi] # remove hashtags\n",
        "\n",
        "rep_bi = list(set(bigrams(rep_bi))) # select only bi-grams (hashtags will be added here)\n",
        "\n",
        "# uni-grams\n",
        "\n",
        "rep_uni = list(set(unigrams(ner_rep_only_list)))\n",
        "print(len(rep_uni))\n",
        "import re\n",
        "\n",
        "to_remove = ['#', '.', '\\'s', \"’s\", \" \\'\", \"\\'\", \"\\'S\", '“', '\"', '’']\n",
        "\n",
        "p = re.compile('|'.join(map(re.escape, to_remove))) # escape to handle metachars\n",
        "\n",
        "rep_uni = [p.sub('', s) for s in rep_uni] # remove some characters\n",
        "rep_uni = list(set(rep_uni))\n",
        "print(len(rep_uni))\n",
        "\n",
        "\n",
        "# hashtags\n",
        "\n",
        "import re\n",
        "\n",
        "rep_hash = list(set(hashtag(ner_rep_only_list)))\n",
        "\n",
        "to_remove = [' #', '# ', '#']\n",
        "p = re.compile('|'.join(map(re.escape, to_remove))) # escape to handle metachars\n",
        "\n",
        "rep_hash = [p.sub('', s) for s in rep_hash] # remove hashtags\n",
        "rep_hash_non = list(set(rep_hash))\n",
        "\n",
        "rep_hash = ['#' + s for s in rep_hash]\n",
        "rep_hash = list(set(rep_hash))\n",
        "\n",
        "# bigrams with the\n",
        "\n",
        "rep_bi_the = contain_the(list(set(bigrams(ner_rep_only_list)))) \n",
        "print(len(rep_bi_the))"
      ]
    },
    {
      "cell_type": "code",
      "execution_count": 25,
      "metadata": {
        "id": "BnYSd2a5o2lG"
      },
      "outputs": [],
      "source": [
        "rep_bi_hashtags = rep_bi + rep_hash + rep_bi_the\n",
        "rep_uni_nonhashtags = rep_uni + rep_hash_non\n"
      ]
    },
    {
      "cell_type": "code",
      "execution_count": 26,
      "metadata": {
        "colab": {
          "base_uri": "https://localhost:8080/"
        },
        "id": "kjNFi7tl_4YM",
        "outputId": "6ea82df5-6ab9-4c34-9d2b-e442f423c7fc"
      },
      "outputs": [
        {
          "output_type": "stream",
          "name": "stdout",
          "text": [
            "2533\n",
            "175\n",
            "173\n",
            "5\n"
          ]
        }
      ],
      "source": [
        "ner_dem_only = ner_pos.loc[(ner_pos['dem'] == 1)]\n",
        "\n",
        "temp = ner_dem_only['text'].values.tolist()\n",
        "ner_dem_only_list = list(set(temp))\n",
        "print(len(ner_dem_only_list))\n",
        "\n",
        "# bi-grams\n",
        "dem_bi = list(set(bigrams(ner_dem_only_list)))\n",
        "\n",
        "import re\n",
        "\n",
        "to_remove = [' #', '# ', '.','\\'s', \"’s\", \" \\'\", \"\\'\", \"\\'S\", '“', '\"', '’', ' Timeline', ' Photo', 'the ', 'The ']\n",
        "\n",
        "p = re.compile('|'.join(map(re.escape, to_remove))) # escape to handle metachars\n",
        "\n",
        "dem_bi = [p.sub('', s) for s in dem_bi] # remove hashtags\n",
        "\n",
        "dem_bi = list(set(bigrams(dem_bi))) # select only bi-grams (hashtags will be added here)\n",
        "\n",
        "\n",
        "# uni-grams\n",
        "\n",
        "dem_uni = list(set(unigrams(ner_dem_only_list)))\n",
        "print(len(dem_uni))\n",
        "import re\n",
        "\n",
        "to_remove = ['#', '.', '\\'s', \"’s\", \" \\'\", \"\\'\", \"\\'S\", '“', '\"', '’']\n",
        "\n",
        "p = re.compile('|'.join(map(re.escape, to_remove))) # escape to handle metachars\n",
        "\n",
        "dem_uni = [p.sub('', s) for s in dem_uni] # remove some characters\n",
        "dem_uni = list(set(dem_uni))\n",
        "print(len(dem_uni))\n",
        "\n",
        "# hashtags\n",
        "\n",
        "import re\n",
        "\n",
        "dem_hash = list(set(hashtag(ner_dem_only_list)))\n",
        "\n",
        "to_remove = [' #', '# ', '#']\n",
        "p = re.compile('|'.join(map(re.escape, to_remove))) # escape to handle metachars\n",
        "\n",
        "dem_hash = [p.sub('', s) for s in dem_hash] # remove hashtags\n",
        "dem_hash_non = list(set(dem_hash))\n",
        "\n",
        "dem_hash = ['#' + s for s in dem_hash]\n",
        "dem_hash = list(set(dem_hash))\n",
        "\n",
        "\n",
        "# bigrams with the\n",
        "\n",
        "dem_bi_the = contain_the(list(set(bigrams(ner_dem_only_list)))) \n",
        "print(len(den_bi_the))"
      ]
    },
    {
      "cell_type": "code",
      "execution_count": 27,
      "metadata": {
        "id": "f5fOhkq8qjdy"
      },
      "outputs": [],
      "source": [
        "\n",
        "dem_bi_hashtags = dem_bi + dem_hash  + den_bi_the\n",
        "dem_uni_nonhashtags = dem_uni + dem_hash_non\n"
      ]
    },
    {
      "cell_type": "code",
      "source": [
        "len(dem_bi_hashtags)"
      ],
      "metadata": {
        "colab": {
          "base_uri": "https://localhost:8080/"
        },
        "id": "HesqWlms_9xW",
        "outputId": "0470610b-142a-4545-d755-ac2a49afab4b"
      },
      "execution_count": 28,
      "outputs": [
        {
          "output_type": "execute_result",
          "data": {
            "text/plain": [
              "2191"
            ]
          },
          "metadata": {},
          "execution_count": 28
        }
      ]
    },
    {
      "cell_type": "code",
      "execution_count": 29,
      "metadata": {
        "id": "6VMI6eiVIfiE"
      },
      "outputs": [],
      "source": [
        "\n",
        "temp_rep_lower_bi = list( set([x.lower() for x in rep_bi_hashtags] ))\n",
        "temp_dem_lower_bi = list( set([x.lower() for x in dem_bi_hashtags] ))\n",
        "\n",
        "temp_rep_lower_uni = list( set([x.lower() for x in rep_uni_nonhashtags]) )\n",
        "temp_dem_lower_uni = list( set([x.lower() for x in dem_uni_nonhashtags]) )\n",
        "\n",
        "# temp_rep_lower_bi_the = list( set([x.lower() for x in rep_bi_the] ))\n",
        "# temp_dem_lower_bi_the = list( set([x.lower() for x in dem_bi_the] ))"
      ]
    },
    {
      "cell_type": "code",
      "execution_count": 30,
      "metadata": {
        "colab": {
          "base_uri": "https://localhost:8080/"
        },
        "id": "WINJl0frMJ74",
        "outputId": "5177781d-ff4d-48cb-bde4-49368cdb91bd"
      },
      "outputs": [
        {
          "output_type": "stream",
          "name": "stdout",
          "text": [
            "2133\n",
            "2059\n",
            "245\n",
            "236\n"
          ]
        }
      ],
      "source": [
        "print(len(temp_rep_lower_bi))\n",
        "print(len(temp_dem_lower_bi))\n",
        "\n",
        "print(len(temp_rep_lower_uni))\n",
        "print(len(temp_dem_lower_uni))\n"
      ]
    },
    {
      "cell_type": "code",
      "source": [
        "print(temp_dem_lower_bi)"
      ],
      "metadata": {
        "colab": {
          "base_uri": "https://localhost:8080/"
        },
        "id": "P1rVnBwaA0FQ",
        "outputId": "2e1d1476-cb33-45c6-b104-f1ea37ea192c"
      },
      "execution_count": 32,
      "outputs": [
        {
          "output_type": "stream",
          "name": "stdout",
          "text": [
            "['mike beebe', 'maddow msnbc', 'julian bond', 'rep brenda', 'andrei cherny', 'mayor bowser', 'monica wallace', 'brad ashford', 'denis mcdonough', 'dean phillips', 'rep frank', 'dov hikind', 'luis v gutierrez', 'reich @rbreich', 'ray luján', 'rep maxine', 'gov john', 'danny oconnor', 'chicago tribune', 'juan williams', 'alan grayson', '#hillary2016', 'congresswoman sheila', 'jane sanders', 'mark hamill', 'ms harris', 'dan pfeiffer', 'governor beshear', 'mayor muriel', 'sheriff clarke', 'carl albert', 'kay hagan', '#connecttheleft', 'congresswoman debbie', '#imwithher', 'alexandra ocasio-cortez', 'governor dannel', 'sen franken', 'jay carney', '#cnnsotu', 'john zody', 'frank bruni', 'rodham clinton', 'bakari sellers', 'andre carson', 'lupe valdez', 'carolyn maloney', 'ca4berniesanders bernie', 'hilda solis', 'ned price', 'sen kay', 'luis gutierrez', 'josh dawsey', 'john heilemann', 'charles booker', 'candidate elizabeth', 'kathy hochul', 'sen gillibrand', 'gov inslee', 'brian higgins', '#votebluetosaveamerica', 'clinton foundation', 'bob ferguson', 'raul grijalva', 'president joseph', 'richard ojeda', 'mrs obama', 'carol costello', 'michael bloomberg', '#voteprogressive', 'lauren underwood', 'secretary james', 'rep keith', '#pdamerica', 'rachel maddow', 'karen carter', 'frank lamere', 'mike michaud', 'andrew cuomo', 'cory booker', '#conversationatbernies', 'jimmy dore', 'marie harf', 'alison grimes', 'sen sherrod', 'rep kyrsten', 'val demings', 'ann richards', 'nikole hannah-jones', 'spokesperson dana', 'senator murphy', 'chris van hollen', 'cindy axne', 'representative jason', 'arik bjorn', 'abdul el-sayed', '#demexit', 'new york times', '#runbernierun', 'keith boykin', 'kathy boockvar', 'spokesman michael', 'alexandria ocasio-corte', 'm grijalva', 'tom hayden', 'representative ted', 'tim kaine', '#hillyes', 'alan minsky', 'representative joe', 'felecia rotellini', 'eva putzova', 'randi rhodes', 'chrissy houlahan', 'alex padilla', 'bernie2016 bernie', 'rep tlaib', '#womenforbernie', 'tlaib @rashidatlaib', 'jackson sr', 'center for american progress', 'senator dianne', 'max blumenthal', 'jamaal bowman', 'senator kamala', 'gina raimondo', 'sheriff david', 'sen mccaskill', 'ray tomblin', 'nita lowey', '#progressive', 'matt cartwright', 'jake sullivan', 'john nichols', 'senator sanders', 'ms whitmer', 'laura kelly', 'john harwood', 'jim mcdermott', 'jim himes', 'eliot l engel', 'arlen specter', 'congresswoman pramila', 'raúl grijalva', 'ron stollings', 'ilhan omar', 'tim carpenter', 'john whitmire', 'blue dem', 'joseph biden', 'matt bruenig', 'carlos ramirez-rosa', 'gov beshear', 'leland yee', 'hussein obama', 'sheila jackson lee', 'kevin de leon', 'adrian fontes', 'alex morse', 'gloria steinem', 'filemon vela', 'wesley bell', 'sen al', 'vincent fort', 'senator sylvia', 'wendy davis', 'tim ryan', 'don lemon', 'hillary rodham', 'sen joe', 'rep nadler', '#teambernie', 'james woolsey', 'creepy joe', 'mrs clinton', 'rep tulsi', '#wewantbernie', 'lee j carter', 'david frum', 'charles rangel', 'murphy @chrismurphyct', 'chris mooney', 'local berniecrats', 'castro @juliancastro', 'mr schiff', 'charles e schumer', 'candidate alexandria', 'jim costa', 'gov phil', 'rep karen', 'muriel bowser', '#rbg', 'senator bob', 'ny times', 'mark takano', 'megan brennan', 'wash post', 'alyssa milano', 'mark pocan', 'janet mills', 'rep richard', 'brian karem', '#thanksobama', 'eleanor holmes', 'christy smith', 'leger fernandez', 'tom vilsack', 'kate bedingfield', 'shelly simonds', 'senator doug', 'andrew bates', 'economic policy institute', 'k delaney', 'dennis kucinich', 'gavin newsom', 'blunt rochester', '#puppetinchief', 'randy credico', 'carl levin', 'andy beshear', 'hilary rosen', 'steve adler', 'dan malloy', 'henry a wallace', 'hillary clintons', 'the left', 'congressional black caucus', 'james biden', 'senator blumenthal', 'ed murray', 'raja krishnamoorthi', 'rep nydia', 'sen heidi', 'rep ruben', 'paula jean swearengin', 'jaime harrison', 'anthony weiner', '#humanityforhillary', 'jocelyn benson', 'ej dionne', 'ritchie torres', 'neera tanden', 'senator mazie', 'karen tallian', 'bernie rally', 'progressive movement', '#neverbiden', 'joe cunningham', 'congressman hakeem', 'glenn simpson', 'scott stringer', 'john bel edwards', 'kate gallego', 'senator royce', 'jim sciutto', 'mondaire jones', 'rep pramila', 'lucy flores', 'sanders presidency', 'bobby rush', 'senator joe', 'blue states', 'president sanders', 'gov gary', 'dan mccready', 'adviser susan', 'sen claire', 'kim schrier', 'alan dershowitz', 'loretta lynch', 'evan bayh', 'radical leftist', 'presidents bill', 'kaitlan collins', 'new york times magazine', 'mr cuomo', 'gregory meeks', 'linda stewart', 'senator schumer', 'rep susan', 'emily cain', 'sally kohn', 'alexandra rojas', 'kerri evelyn', 'harris campaign', 'john king', '#democraticsocialism', 'ari rabin-havt', 'ammar campa-najjar', 'jabari brisport', 'van jones', 'ashton carter', 'secretary ash', 'ryan struyk', 'jumaane williams', 'josh harder', 'governor wolf', 'senator elizabeth', 'denny heck', 'de blasio', 'ralph northam', 'sen patty', 'jeremy zellner', 'jim webb', 'karen mcmahon', 'mike levin', 'f kelly', 'dean baquet', 'george mcgovern', 'lon johnson', 'antonio villaraigosa', 'gov ned', 'clementa pinckney', 'bharara @preetbharara', 'sen michael', 'senator bernie', 'jared huffman', 'sen reid', 'randall woodfin', 'rod blagojevich', 'jennifer wexton', '#harris', '#kamalaharris', 'doug jones', 'jon stewart', 'april ryan', 'jessica farrar', 'lleftis fright', 'mary l trump', 'jen omalley', 'mike siegel', 'ocasio- cortez', 'jared bernstein', 'dana nessel', 'jennifer palmieri', 'liz watson', 'dean preston', 'jeh johnson', 'tom wolf', 'gov tim', 'rep bennie', 'kyle cheney', 'fareed zakaria', 'steve cohen', 'gary peters', 'thurgood marshall', 'gov cuomo', 'bader ginsburg', 'corrupt pelosi', '#liberals', 'brian schatz', 'mark schauer', 'roy cooper', '#myberniestory', '#votebidenharris', 'governor tom', 'crazy nancy', 'jehmu greene', 'larry krasner', 'eddie bernice', 'democrat-controlled house', 'mate kamala', 'kerri evelyn harris', 'peter daou', 'kim gardner', 'summer lee', 'jim biden', 'greg sargent', 'jon hoadley', 'ted wheeler', 'jena griswold', 'president barack', 'billie sutton', 'elijah cummings', 'rep luis', 'governor phil', 'jahana hayes', 'sen karen', 'gwen moore', 'michael r bloomberg', 'bill palmer', 'rep terri', 'rep sheila', 'chris van', 'congresswoman omar', 'jacob frey', 'chase iron eyes', 'senator booker', 'michael tomasky', 'natalie tennant', 'self-described socialist', 'ruth bader ginsberg', 'gerry connolly', 'radical socialist', 'berniecrat candidates', 'senator brown', 'rep jerry', 'sean patrick maloney', 'senator clinton', 'joe morrissey', 'mika brzezinski', 'anti-republican movement', 'mayor lightfoot', '#ut4bernie', 'john kerry', '#biden', 'craig melvin', 'rep val', 'frederica wilson', 'senator gary', 'mr schumer', 'joe biden', 'ed markey', '#obamacare', 'john bel', 'david ignatius', 'rep hakeem', 'greg fischer', 'ms ocasio-cortez', 'senator mark', 'ann kirkpatrick', 'franklin pierce', 'senator duckworth', 'kirk watson', 'sanders voters', 'coffee party movement', '#demconvention', 'john fitzgerald', 'thomas perez', 'christine pelosi', 'general letitia', 'sen brown', 'senator hoon-yung', 'senator debbie', 'pelosi @speakerpelosi', 'michelle lujan', 'michelle lujan grisham', 'bill press', 'robert costa', 'joe donnelly', 'mr bloomberg', 'norm eisen', 'maggie hassan', 'huff post', 'joe lockhart', 'governor malloy', 'curtis hertel', 'ilyse hogue', 'mike gravel', 'carolyn goodman', 'ocasio-cortez @aoc', 'ortiz jones', 'david trone', 'uniteblue uniteblue', 'clay aiken', 'gov steve', 'gov rod', 'jim acosta', 'adam schitt', 'joe manchin', 'al gross', 'president joe', 'b hussein obama', 'ms clinton', 'carter peterson', 'hasan piker', 'rachel maddow show', 'rep ayanna', 'ken salazar', 'earl blumenauer', 'david plouffe', 'tom harkin', 'tom carper', 'senator wyden', 'senator jeff', 'joseph crowley', 'matthew miller', 'rep don', 'jen psaki', 'jessica cisneros', 'rep alexandria', 'mayor buttigieg', 'abigail spanberger', 'john delaney', 'joy ann', 'hillary rodham clinton', 'harry s truman', '44th president', 'sen bernie', 'bernie2020 california', 'afl cio', 'eddie lucio', '#berniesanders2020', 'gov jerry', 'tyt investigates', '#berniesanders2016', 'kyrsten sinema', 'latoya cantrell', 'brian williams', 'berniecrats local', 'jb pritzker', 'khanna @rokhanna', 'president nez', 'harris @kamalaharris', 'mario cuomo', 'guillermo smith', 'josh shapiro', 'max baucus', 'melissa harris-perry', 'joyce beatty', 'gov malloy', 'bernie sander', 'brittni mcguire', 'steve beshear', 'bernie sanders', 'james carville', 'senator klobuchar', 'valerie plame', 'steve bullock', 'jordan chariton', 'mayor de blasio', 'senator michael', 'rev jesse', '#whichhillary', 'gary bauer', '#turnout2020', 'tyt nation', 'sheriff israel', 'stephanie rawlings-blake', 'secretary kathleen', 'phil bredesen', 'huffington post', 'lucy mcbath', 'leader schumer', 'paula hawks', 'sidney blumenthal', 'general josh', 'sylvester turner', '#ourprogressive', 'asha rangappa', 'richard trumka', 'helen thomas', '#onlysandersbeatstrump', 'henry waxman', 'george miller', 'conor lamb', 'representative elijah', 'adam b schiff', 'derek kilmer', 'rep joaquin', 'heidi heitkamp', 'marilyn mosby', 'judy chu', 'gloria borger', 'joan walsh', 'anderson cooper', '#democrats', '#arrestthemall', 'carolyn b maloney', 'tom udall', 'xavier becerra', 'gabby giffords', 'john o brennan', 'eric garcetti', 'marc veasey', 'mandela barnes', 'bob casey', 'ron barber', 'lisa bender', '@ilhanmn us', 'tina podlodowski', 'congressman luis', 'richard neal', 'joe lieberman', 'terri sewell', 'nominee william', 'virginia dems', 'tyt network', 'john carney', 'jean swearengin', 'congresswoman rashida', 'harris kamala', 'kasie hunt', 'sanders rally', 'max rose', 'claire mccaskill', '#blackberners', 'tiffany cabán', 'speaker pelosi', 'sen debbie', 'elizabeth colbert', 'lyndon johnson', 'julián castro', 'sam seder', 'radical leftists', 'new biden', 'kevin drum', 'lee carter', 'barrack obama', 'hilary clinton', 'senator al', 'alison lundergan grimes', 'charles schumer', 'rep clay', 'hillary clinton', 'president truman', 'mayor mark', 'hakeem jeffries', 'nancy wyman', 'ro khanna', 'kara eastman', 'antifa thugs', 'steve benen', 'william j barber ii', 'toni preckwinkle', 'bernie2020 women', 'jack reed', 'senator gretchen', '#bernie', '#hillary', 'pedro cortes', 'tim canova', 'shannon watts', 'charlie rose', 'francesca fiorentini', 'speaker nancy', 'preet bharara', 'ezra klein', 'stacy abrams', 'ag lynch', 'senator chuck', 'kevin gosztola', 'ruth buffalo', 'gov michelle', 'leftward-leaning facebook', 'milano @alyssa_milano', 'frank pallone', 'ocasio cortez', 'kevin de león', 'chris hahn', 'hank johnson', 'mark udall', 'erica thomas', 'mayor nan', 'jonathan capehart', 'audrey strauss', 'tyt daily video podcast', 'tom frieden', 'peter welch', '#unidosconbernie', 'robert kraft', 'collin peterson', 'andrew yang', 'matthew dowd', 'senator nina', 'belinda biafore', 'jeanne moos', 'sen jon', 'sen brian', 'lujan grisham', '#network4hillary', 'julie oliver', 'rob anderson', 'antonio delgado', 'alcee hastings', 'governor roy', 'bernice johnson', 'liz warren', 'representative pramila', 'jim mcgovern', 'jon corzine', 'huffpost  ', 'jake tapper', 'tim miley', 'chuck schumer', 'president nina', 'bernie2020 sanders', 'miguel santiago', 'rep al', 'congressman ted', 'sanders fans', 'peter beinart', 'robert gibbs', 'uniteblue ~sky', 'jen sorensen', 'rev al', 'obama  ', 'john garamendi', 'leon panetta', 'fleming kleeb', 'adam schiff', 'senator harry', 'maura healey', 'mayor greg', 'mark warner', 'kirsten gillibrand', 'russ feingold', 'rep deb', 'congressional progressive caucus', 'progressive caucus', 'alex sink', 'martin heinrich', 'bill moyers', '#onlyberniebeatstrump', 'franklin d roosevelt', 'lloyd doggett', 'jim clyburn', 'ray mabus', 'sen chris', 'mary mancini', '#tyt', 'kristen clarke', 'senator manchin', 'rep bill', 'congressman elijah', 'mitch landrieu', 'gayle jordan', 'rep beto', 'rep barbara', '#rachelmaddow', 'presidents obama', 'omalley dillon', 'vicente gonzalez', 'bob bauer', '#elizabethwarren', 'brianna keilar', 'mayor michael', 'seung min kim', 'john conyers', 'daily kos', 'the afl-cio', 'red state dems', 'regina romero', 'david simon', 'cenk uygur', 'governor brown', 'mark poloncarz', 'mr sanders', 'barbara bollier', 'luis gutiérrez', 'senator cory', 'john hickenlooper', 'sen doug', '#mayorpete', 'kendra horn', 'gov edwards', 'annise parker', 'ed shultz', 'robin kelly', 'mary trump', 'mr booker', '#voteblue', 'dannel p malloy', 'mr cummings', 'congresswoman barbara', 'mikie sherrill', 'vince foster', 'h a goodman', 'edward j markey', 'governor michelle', 'robert menendez', 'nicholas kristof', 'gina ortiz', '#feelthebernca', 'eleanor holmes norton', 'bernie bro', 'joe kennedy iii', 'chris coons', 'wife michelle', 'sen barbara', 'joy reid', 'senators elizabeth', 'franklin delano roosevelt', 'bill nelson', 'bader ginsberg', 'samantha power', 'maddow show', 'charles m blow', 'mr dershowitz', 'sen dick', 'brendan boyle', 'briahna joy gray', 'mike lux', 'senator stephen', 'kelly odonnell', 'frida ghitis', 'gov roy', 'rosalynn carter', 'tammy duckworth', 'carter center', 'symone sanders', 'debbie wasserman-schultz', 'nina turner', 'christina forrester', 'rep lucy', 'ben cardin', 'mayor jacob', 'gary cohn', 'janet yellen', 'american left', 'ruth ginsburg', 'chaka fattah', 'rep barney', 'candidate ralph', 'betsy woodruff', 'howard fineman', 'senator whitehouse', 'geoff bennett', 'karine jean-pierre', 'jefferson davis', 'national committee to preserve social security', '#stillsanders', 'andrew jackson', 'sen tina', 'ambassador chris', 'dan kildee', 'jacky rosen', '#vivabernie', 'colin allred', 'gretchen whitmer', 'secretary kerry', 'mike quigley', '#yeswecan', 'nydia velazquez', 'sen durbin', 'left wing', 'chuck rocha', 'mike rawlings', 'jerrold nadler', 'representative ilhan', 'donna howard', 'heath mello', 'ben ray lujan', 'shenna bellows', 'andrew gillum', 'charles pierce', 'josh campbell', 'senator brian', 'eleanor roosevelt', 'sen tammy', 'david axelrod', 'don beyer', 'john oliver', 'jill abramson', 'leonard pitts jr', '@occupy democrats', 'sen feinstein', 'wendy r davis', 'maytha alhassen', 'karen whitsett', 'ayanna pressley', 'lyndon b', 'sunrise movement', 'biden and harris', 'mark kelly', 'zephyr teachout', 'omeara sanders', 'ocasio-cortez tries', 'gov tom', 'tom foley', 'sheriff david clarke', 'libby schaaf', 'zerlina maxwell', 'rep grijalva', 'governor david', 'ashley parker', 'elissa slotkin', 'mike espy', 'jennifer rubin', 'betsy sweet', 'leftist memes', '#bidenharris', 'nate mcmurray', 'john yarmuth', 'secretary john', 'gov hickenlooper', 'gina mccarthy', 'jay rockefeller', 'representative alexandria', 'sen nina', 'don siegelman', 'catherine cortez', 'evelyn farkas', 'abby finkenauer', 'jim ananich', 'london breed', 'omar @ilhan', 'uniteblue blue', 'president roosevelt', 'patrick murphy', 'khanna ro', 'pramila jayapal', 'joy gray', '#progressivepower', '#buttigieg2020', 'henry cuellar', '#sanders2016', 'jessica ramos', 'blue state', 'leticia van de putte', 'john glenn', 'rep cedric', 'movita johnson-harrell', 'alexandria ocasio', 'fred duval', '#believesurvivors', 'maria svart', '#votebluenomatterwho', 'rep ed', 'american prospect', '#dropouthillary', 'congressman anthony', 'the squad', 'jenny mccarthy', 'alexandria casio-cortez', 'bill peduto', 'rob davidson', 'michelle fields', 'patty murray', 'michael madigan', 'sen dianne', 'secretary clinton', 'chez pazienza', 'darren soto', '#clintonkaine2016', '#feelthebern', 'elizabeth warren', 'john avlon', 'nancy pelosi', 'anthony v clark', 'kate bolz', '#berniestrong', 'rep zoe', 'gov northam', 'rep lisa', 'bobby kennedy', 'hasan minhaj', 'muriel e bowser', 'time magazine', 'gov janet', 'corrine brown', '#draintheswamp', 'cal cunningham', 'senator amy', 'elizabeth esty', 'mazie hirono', 'mary landrieu', 'left nut', 'leonard pitts', 'george takei', 'sen mark', 'anti-republican crusaders', 'chris cillizza', 'bob kerrey', 'bel edwards', 'barak obama', 'mark eves', 'lady rosalynn carter', 'senator merkley', 'patrick maloney', 'richard fowler', 'representative ro', '#weneedbernie', 'stephen breyer', 'dennis crawford', '#neverhillary', 'ruth marcus', 'elizabeth colbert busch', 'philippe reines', 'governor jared', 'kim foxx', 'senator ed', 'jackie lacey', 'congresswoman tulsi', 'beto orourke', '#barackobama', 'jennifer granholm', 'harry truman', '#obama', '#disabled4bernie', 'adrienne bell', 'amy klobuchar', 'katie hobbs', 'lawrence lessig', 'walter mondale', 'speaker anthony', 'james hohmann', 'rep gwen', 'mary gay scanlon', 'david fahrenthold', 'clay jenkins', 'john kirby', '#progressives', 'zach wahls', 'louis brandeis', 'sen blumenthal', 'saikat chakrabarti', 'kimba wood', 'sandra fluke', 'rep elijah', 'jeff zeleny', 'zoe lofgren', 'dana milbank', 'ed burke', 'mr clinton', 'susan wild', 'erica werner', 'pete buttigieg', 'john k delaney', '#stillwithher', 'ted strickland', 'judge clay', 'john fetterman', 'jimmy gomez', 'bonnie watson coleman', 'left-wing conspiracy', 'senator dick', '#demdebate', 'rep jan', 'barbara a mikulski', 'james risen', 'ana kasparian', 'rashida tlaib', 'mr nadler', 'baines johnson', 'jeanne shaheen', 'ray lujan', 'john stewart', 'sen kirsten', 'mike madigan', '#brooklynbernie', 'lleft fright', 'ari melber', 'congresswoman katie', 'omar @llhanmn', 'john dingell', 'rep jackie', 'peter baker', 'ricardo rosselló', '#marchforbernie', 'mike berlon', 'bob krist', 'jackie fielder', 'kasparian live', '#msnbc', 'gina ortiz jones', 'jacqueline coleman', 'martha coakley', 'jd scholten', 'ben mankiewicz', 'sens kamala harris', 'auntie maxine', 'joe neguse', 'bob & chez show', 'hunter biden', 'president lyndon', 'andrea mitchell', 'senator barbara', 'raúl m grijalva', 'harry reid', 'adviser valerie', 'randi kaye', 'eric schneiderman', 'ocasio- @aoc', 'karen bass', 'wasserman schultz', '#teamhillary', 'blue vote', 'diana degette', 'kathleen sebelius', 'lisa graves', '#wewantbernie2020', 'rep frederica', 'rep hank', 'maureen dowd', 'mark herring', 'george soros', '#labor4bernie', '#thepeskyliberals', 'left cartoonist', 'harley rouda', 'senator heidi', 'bernard sanders', 'eddie bernice johnson', 'candidate julián', 'mayor ted', 'senator reid', 'front-runner joe', 'tim walz', 'elijah e cummings', 'rep ellison', 'levi sanders', 'franklin roosevelt', '#progressiveblue', 'chris hayes', 'david ige', 'rep sean', 'vote blue', 'representative jerrold', 'ricardo rossello', 'sheldon whitehouse', 'senator claire', 'greg craig', 'gov jb', 'bob filner', 'mayor libby', 'omar @ilhanmn', 'keith olbermann', 'senator feinstein', 'steven greenhouse', 'tj cox', 'frank lautenberg', 'rep chaffetz', 'peter bergen', 'maria chappelle-nadal', 'paul penzone', 'eric c bauman', 'jerry nadler', 'booker @booker4ky', 'rahm emanuel', 'congresswoman maxine', 'jay nixon', 'jimmy carter', 'rep tim', 'sen whitehouse', 'earl ray tomblin', 'rep ocasio-cortez', 'jon ossoff', 'candy crowley', 'governor newsom', 'amy mcgrath', 'lyndon b johnson', 'sargent shriver', 'ben ray', 'bill foster', 'mayor cory', 'john larson', 'rep rashida', 'madeline albright', 'creepy uncle joe', 'carol donovan', 'cheryl mills', 'david zuckerman', 'franklin d', 'joseph r biden', 'senator kelly', 'joyce alene', 'lawrence odonnell', 'jason crow', 'jane kim', '#uniteblue', 'rebecca parson', '#peteforamerica', 'andy brown', 'congressman joe', 'rob reiner', 'sara innamorato', 'rep debbie', 'mary burke', 'harry enten', 'schatz @brianschatz', 'alec baldwin', 'john gregg', 'jayapal @repjayapal', '#fuelthebern', 'congresswoman jan', 'scott israel', 'speaker sara', 'karem @briankarem', 'tim johnson', 'joe biden ridin', 'senator mary', 'governor gretchen', 'rep marcia', 'jan schakowsky', 'andrew m cuomo', 'adam serwer', 'warren elizabeth', 'mark begich', 'bob edgar', 'bobby scott', 'center for american progress action fund', 'elijah e', 'carlos guillermo', 'nan whaley', 'peter shumlin', 'rep ted', 'ashley biden', '#debatewithbernie', 'nicole galloway', 'gov ralph', 'harry litman', 'gov cooper', 'john aravosis', 'arianna huffington', 'shahid buttar', 'rep charlie', 'rep stephen', 'kwame raoul', 'rep kathy', 'chris murphy', 'progressive left', 'congressmember alexandria', 'tina smith', 'alexandria ocasio cortez', 'sen harris', '#biden2020', '#bernie2020', 'soledad obrien', '#kamala2020', 'gov ricardo', 'joe curtatone', 'jackson lee', 'michael schmidt', 'senator franken', 'josh rogin', 'president toni', 'karl dean', 'justin kanew', 'rep omar', 'barbara lee', 'lyda krewson', '#presidentsanders', 'brian schweitzer', 'patrick leahy', 'extreme left', 'joe dorman', 'john edwards', 'congresswoman chellie', 'jim moran', 'raphael warnock', 'sen ed', 'tim alberta', 'schumer @senschumer', 'zach carter', 'jane fleming kleeb', 'cori bush', 'donna shalala', '#illinois4bernie', 'dick durbin', 'progressive change', '#adoptadem', 'ben salango', 'mayor mike', 'blue united', 'abigail disney', 'bob cesca', 'ted kennedy', 'sheila jackson', 'charlie crist', 'larry king', 'secretary josh', 'candi cdebaca', 'guttmacher institute', 'gov gina', 'ocasio-cortez cortez', 'sanders camp', 'samantha vinograd', 'van hipp', 'senator begich', 'michael mcfaul', 'governor steve', 'barack obama', 'congressman joaquin', 'frank underwood', 'gov whitmer', 'sen bob', 'anne holton', 'congressman tim', 'emily virgin', 'kamala d', 'congresswoman alexandria', 'senator frank', 'gabrielle giffords', 'pavlovitz @johnpavlovitz', '#voteforjoe', 'sen cory', 'mayor hancock', 'lleft right', 'ruth bader ginsburg', 'sara nelson', 'roosevelt institute', 'david price', 'eliot engel', 'al gore', '#christiansresist', 'david corn', 'cecile richards', 'left-wing groups', 'hillary rotten clinton', 'ryan nobles', 'congressman alan', 'ocasio-cortez responds', 'rep linda', 'nick fish', 'sanders @sensanders', '#bidenharris2020', 'helen gym', 'governor cuomo', '#tytlive', 'kim olson', 'jim wright', 'tom steyer', 'j markey', 'antifa thug', 'al smith', 'andrew johnson', 'jane omeara', 'ed schultz', 'jackie speier', 'nick anderson editorial cartoons', 'rob zerban', 'mayor kate', '#pdmfnb', 'michelle nunn', 'priorities usa action', 'leslie marshall show', 'brenda lawrence', 'jay inslee', 'rebekah warren', 'deval patrick', 'michael dukakis', 'sen murphy', 'sean eldridge', 'katie mcginty', 'al franken', 'mayor bill', 'katie porter', 'rep lloyd', 'senator vincent', 'gwen ifill', 'candidate andrew', 'shirley chisholm', 't schneiderman', 'jonathan chait', 'senator van', 'valerie jarrett', 'peter corroon', 'mcfaul @mcfaul', '#vetsforbernie', 'left senator', 'eric h holder jr', 'gov kate', 'maria cantwell', 'joe crowley', 'antifa punk', 'rep jamie', 'brianna wu', 'sen robert', 'kathy tran', '#brandnewcongress', 'van hollen', 'joyce elliott', 'chris matthews', 'sam stein', 'sen harry', 'sara gideon', 'tom perez', 'joy ann reid', 'gil cisneros', 'jen omalley dillon', 'don lemon cnn', 'ed buck', 'dan lipinski', 'jim kenney', 'representative robert', 'gwen graham', 'megan hunt', 'chesa boudin', 'morning joe', 'senator tammy', 'roger manno', 'brianna westbrook', 'al green', 'klain @ronaldklain', 'joaquin castro', 'rick nolan', 'jill biden', '#dnc', 'rep gabby', 'sierra club', '#onlybernie', 'president biden', 'stephanie murphy', 'congresswoman kendra', 'the kool-aid', 'sen sheldon', '#reformthednc', 'stacey abrams', 'ellen rosenblum', 'nebdems news', 'governor inslee', '39th president', 'chellie pingree', 'larry lessig', 'senator tina', 'rep-elect alexandria', 'alison lundergan', 'brian sims', 'debbie wasserman schultz', 'waters @repmaxinewaters', 'michelle obama', 'jeff jackson', 'marianne williamson', 'mehdi hasan', 'secretary jeh', 'dave weigel', 'bob beach', 'blue nation review', 'governor ricardo', 'paul wellstone', 'califano @jackcalifano', 'sen klobuchar', 'governor jb', 'mike thompson', 'leader pelosi', '#nancypelosi', 'elena kagan', 'rep denny', 'ed rendell', 'donna brazile', 'david cicilline', '#joebiden', 'general michael', '#progressivesunite', 'president-elect joe', 'letitia james', 'secretary jack', 'sarah jeong', 'aaron blake', 'beau biden', 'mike bloomberg', 'ray clemmons', 'gov gavin', 'haley stevens', 'vp joe', 'president kennedy', 'david clarke', 'sen patrick', 'deroy murdock', 'joe bidens', '#thankyoubernie', 'chris lu', 'robert reich @rbreich', 'jared golden', 'rep eliot', 'deb haaland', 'odonnell @lawrence', 'congressional hispanic caucus', 'tom barrett', 'justice stephen', 'senator patrick', 'lanny davis', 'president jimmy', 'tommy vietor', '#cnn', 'susan rice', 'gov dannel', 'billionaire michael', 'rep carolyn', 'senfronia thompson', 'senator sherrod', 'governor janet', 'randy bryce', 'jim cooper', 'amanda marcotte', 'sanders brigade', 'keisha lance bottoms', 'mayor andrew', 'yashar ali', 'ag loretta lynch', 'center for media and democracy', 'allan lichtman', 'cyrus r vance jr', 'ron klain', 'mayor annise', 'stephen baldwin', 'michael tracey', 'secretary jim', 'sleepy joe biden', 'sanders bernie', 'sen charles', 'anthony brown', 'mayor emanuel', 'berniecrats cocktail', 'tom malinowski', 'congressman lewis', 'sylvia garcia', '#birdiesanders', 'cheri bustos', 'rep eric', 'brad schneider', 'benjamin wittes', 'cyrus vance', 'senator robert', 'creepy joe biden', '#bernieorbust', 'steve sisolak', 'richard blumenthal', 'wolf blitzer', 'karen tumulty', 'bill deblasio', 'patrick kennedy', 'ellen weintraub', '#democrat', 'congresswoman deb', 'kate brown', 'chris cuomo', 'bernie2020 bernie', 'turner @ninaturner', 'president-elect biden', 'raul m grijalva', 'mckayla wilkes', 'robby mook', 'willie brown', 'wesley clark', '#ourrevolution', 'kaniela ing', 'bennie thompson', 'suzanne bonamici', 'james clyburn', 'keith ellison', 'bill maher', 'robert kennedy', 'mayor keisha', 'ezra levin', 'dannel p', 'ethan berkowitz', 'jen perelman', 'laura moser', 'ned lamont', 'mayor lori', 'judith miller', 'barbara mikulski', 'joe sestak', 'rep elissa', 'louise slaughter', 'jack lew', 'suzan delbene', 'sen mazie', 'paula jean', 'rep ryan', 'thom hartmann', '#imaberniever', 'acosta @acosta', 'steven horsford', 'mr orourke', 'michele obama', 'madeleine albright', 'lean left', 'nikema williams', 'candidate beto', '#hateliberalsbiteme', 'glenn thrush', 'ken klippenstein', 'mayor rahm', 'phil murphy', '#jointhedemocraticwave', 'poppy harlow', 'governor mark', 'brooke baldwin', 'dena grayson', 'martin omalley', 'steve israel', 'sean casten', 'rep rosa', 'ron wyden', 'bill de blasio', 'left-wing activists', '#ca4berniesanders', 'yamiche alcindor', 'chris dodd', 'sally yates', 'eliot l', 'muriel e', 'kyle kulinski', 'governor hickenlooper', 'bernie bros', 'brian frosh', 'bill bratton', 'hillary clintonhillary', 'mark pryor', 'representative tulsi', 'margaret sullivan', 'kathy castor', 'richard cordray', 'student nonviolent coordinating committee', '#vets4bernie', 'katherine clark', 'ben nelson', 'paul begala', 'alexandria ocasio-cortez', 'lori lightfoot', 'palmer report', 'huffpost politics', 'stephanie miller', 'ambassador susan', 'emanuel cleaver', 'catherine cortez masto', 'andy levin', 'john sarbanes', '#aoc', 'ana cabrera', 'president-elect kamala', 'josh marshall', 'jared polis', 'president nancy', 'gov andy', 'sen schumer', 'al sharpton', 'jake sherman', 'carlos guillermo smith', 'jason kander', 'rep cummings', 'harvey milk', 'kamala harris', 'ms pelosi', 'gov mark', 'candidate joe', 'ronald klain', 'st louis post-dispatch', 'david briley', 'governor kate', 'debbie stabenow', 'general kamala', 'mj hegar', 'gov evers', 'berniecrats united', 'chris hedges', '@coribush us', 'bob mcculloch', 'rep lieu', 'spokeswoman dana', 'sherrod brown', 'afl-cio president', 'diane feinstein', 'alex witt', 'john lewis', 'sleepy joe', 'senator harris', 'mr biden', 'robert byrd', 'tom winter', 'mean left', 'pat caddell', 'bill clinton', 'rep jayapal', 'marcy kaptur', 'krystal ball', 'trent lott', 'brent welder', 'craig fitzhugh', 'stephen colbert', '#bernie2016', 'yvette simpson', 'governor evers', 'billionaire george', 'anita dunn', 'julia salazar', 'sen jack', 'cedric richmond', 'general maura', 'christina hale', 'charles blow', 'far left', 'alexandria ocasio-', 'ryan grim', 'ted deutch', 'eric bauman', 'lady michelle obama', 'david hogg', 'bob menendez', 'jamie raskin', 'shimon prokupecz', '#presidentpete', 'brian stelter', 'congressman al', '#vote4bernie', 'terry mcauliffe', 'delano roosevelt', 'megan barry', 'marty walsh', 'ed perlmutter', 'andrew goodman', 'joseph kennedy', 'congresswoman maxine waters', 'phil griffin', 'ryan lizza', 'angie craig', 'netroots nation', 'kurt schrader', 'andrew romanoff', 'josh earnest', 'stephanie cutter', 'joe manchin iii', 'senator kirsten', 'crooked hillary', 'president obama', 'mark levine', '#pete2020', 'edward markey', 'feelthebern sanders', 'james buchanan', '@berniesanders campaign', '#berniesanders', 'sen edward', 'eric swalwell', 'governor omalley', 'omar jimenez', 'tom wheeler', '#berniesandersforpresident2016', 'mayor garcetti', '#voteblue2020', 'scott wiener', 'keisha lance', 'josh gottheimer', 'senator patty', 'angelica dueñas', 'david pakman', 'billionaire tom', 's truman', 'rep lewis', 'terry goddard', 'daily beast', 'governor andrew', 'anand giridharadas', '#dncleaks', 'bernie2016 sanders', 'william lacy clay', 'veronica escobar', 'notorious rbg', 'mother jones', 'sharice davids', 'sen kyrsten', 'mary gay', 'ilhan omar @ilhanmn', 'dan schoen', 'jane raybould', 'governor deval', '#bluewave2018', 'kimberly ellis', 'rep jerrold', 'larry flynt', 'sarah mcbride', 'team clinton', 'left meme', 'rockeymoore cummings', 'amy berman jackson', 'gov wolf', 'paulette jordan', 'tony evers', 'mayor mitch', 'justice ruth', 'rep gerry', 'joe piscopo', 'tammy baldwin', 'rep swalwell', 'adam smith', 'warren supporters', 'mimi rocah', 'progressive change campaign committee', 'elaine luria', 'harold frazier', 'mike papantonio', 'danica roem', 'true blue', 'michelle goldberg', 'tom friedman', '#usnotme', 'omar rivero', 'marquita bradshaw', 'mint press news', 'michael brooks', 'left democrats', 'corey booker', 'james fallows', 'sanders supporters', 'joseph digenova', 'alison hartson', 'president pelosi', 'senator glenn', 'maxine waters', 'jayar jackson', 'cyrus vance jr', 'robert f kennedy', 'ana navarro', 'sen warren', 'h obama', 'glenn jeffries', 'congressman marc', '#hillaryclinton', 'president kamala', 'president franklin', 'jerry brown', 'sen mary', 'abby phillip', 'jane kleeb', 'doug applegate', 'mr blagojevich', 'reid @joyannreid', 'jesse jackson', 'debbie dingell', 'rep katie', '#voteforbernie', 'religious left', 'democratic-controlled house', 'congresswoman jackie', 'barack h', 'young turks', 'steny hoyer', 'reich robert', 'sen elizabeth', 'senator maria', 'abby huntsman', 'candidate kamala', 'secretary julián', 'ted lieu', 'natasha bertrand', 'maya wiley', 'mayor sylvester', 'greg stanton', 'senator warren', '#joebiden2020', '#aca', 'hawk newsome', 'senator gillibrand', 'jane mayer', 'pat burke', 'mark halperin', '#antifa', 'gov tony', 'ocasio-cortez fans', 'congressman john', 'katy tur', 'rep schiff', '#onlysanders', 'manu raju', '#strongertogether', '#votedem', 'sen kamala', 'william lacy', 'grace meng', 'gov andrew', '@liberal progressive', 'rep cheri', 'sen gary', 'royce west', 'tish james', 'maggie haberman', 'lacy clay', 'mayor bloomberg', 'rep earl', 'sanders supporter', 'david sirota', 'jonathan alter', 'se cupp', 'ron reagan', 'katyal @neal_katyal', 'dannel malloy', 'congresswoman ilhan', 'william ihlenfeld', 'tom perriello', 'rosa delauro', 'apricot pol pot', 'barbara jordan', 'barack hussein obama', 'washington post', 'biden/ harris', 'gov laura', 'arne duncan', 'john kitzhaber', 'rep raul', '#women4bernie', 'senator durbin', 'michael dantonio', 'paul waldman', 'janet napolitano', 'mark dayton', 'justice ginsburg', 'barack hussein', 'dana balter', 'deborah ross', 'hubert humphrey', 'dianne feinstein', 'ms warren', 'rep stephanie', 'eliot spitzer', '#petebuttigieg', 'renato mariotti', 'rep alan', 'daughter chelsea', 'w hickenlooper', 'president-elect joseph', 'randi weingarten', 'rep anthony', 'christine hallquist', 'delaine eastin', 'sen booker', 'john morse', 'left action', 'josh kaul', 'james e clyburn', 'tulsi gabbard', 'general sally', 'sen jeanne', 'george stephanopoulos', 'candidate pete', 'rep dennis', 'mike collier', 'andy kim', 'rep henry', 'philip bump', 'andrew janz', 'barbara boxer', 'rep robert', 'joy-ann reid', 'bertrand @natashabertrand', 'bill pascrell', 'robert reich', 'jim graves', 'ruth bader', 'sen kelly', 'senator charles', 'shifty schiff', 'angus king', 'reiner @robreiner', 'rep steny', 'lee fang', 'senator sheldon', 'secretary leon', 'ruben gallego', 'michael bennet', 'ben wikler', 'bill owens', 'angela rye', 'mr buttigieg', 'congresswoman suzanne', 'sen duckworth', 'robert f kennedy jr', 'howard dean', '#progressdems', 'katie hill', 'general xavier', 'jeremy diamond', 'dana bash', 'catherine pugh', 'democratic party', 'amy vilela', 'victor blackwell', 'talk @kylekulinski', 'charles p pierce', '#michelleobama', 'justin fairfax', 'madeleine dean', 'juliana stratton', 'lance bottoms', 'erin burnett', 'm kennedy', 'ocasio-cortez slams', 'franklin delano', 'roman prezioso', 'markos moulitsas', 'mayor bob', 'rep bobby', 'gail collins', 'john podesta', 'donna edwards', 'mayor marty', 'bill richardson', 'mr obama', 'kamala d harris', 'briahna joy', 'chokwe lumumba', 'rep ilhan', 'sarah sanders', 'susie lee', 'governor ned', 'chelsea clinton', 'joseph r biden jr', 'marie newman', 'far-left fascism', 'john barrow', 'barack h obama', 'tyt sports', 'marcia fudge', 'adam parkhomenko', 'kate bolduan', '#sanders', 'mary jo', 'gov deval', 'julian castro', 'gov gretchen', 'patti davis', 'michael hancock', 'lundergan grimes', 'victoria nuland', 'david a clarke jr', 'marshall cohen', '#democraticdebate', 'sen chuck', 'seth moulton', 'nate cohn', 'lina hidalgo', 'rep joe', '#nm4bernie', 'huma abedin', 'jeff merkley', 'nominee joe', 'daniel biss', 'maddow blog', 'theresa greenfield', 'mike caputo', 'victoria neave', 'david brock', 'jesse jackson jr', 'debbie mucarsel-powell', 'ben rhodes', 'sen sanders', 'eric holder', 'tad devine', 'president harry', 'barney frank', 'congressman barney', 'ben mcadams', 'rep lee', 'brad sherman', 'charlie rangel', '#trysocialism', 'la times', 'kal penn', 'john f kennedy', 'rep waters', 'los angeles times', 'candace valenzuela', 'sanders campaign', 'joe kennedy', 'congressman beto', 'radical left', 'jon tester', 'senator karen', 'larry summers', 'anthony brindisi', 'sheldon silver', 'peter defazio', 'leader nancy', 'gov jared', 'senator jeanne', 'sen amy', 'karen carter peterson', '46th president', 'f kennedy', 'karen finney', 'jumaane d', '#christiansagainsthate', 'ilya sheyman', 'andré carson', 'kasim reed', 'mayor steve', 'michael john gray']\n"
          ]
        }
      ]
    },
    {
      "cell_type": "markdown",
      "metadata": {
        "id": "_9Zz_169Dp_M"
      },
      "source": [
        "## matching sample"
      ]
    },
    {
      "cell_type": "code",
      "execution_count": null,
      "metadata": {
        "id": "W8jo4Ag7DtmN"
      },
      "outputs": [],
      "source": [
        "import pandas as pd\n",
        "\n",
        "r_pages_st_sample = pd.read_csv(\"r_pages_st_sample.csv\")\n",
        "d_pages_st_sample = pd.read_csv(\"d_pages_st_sample.csv\")\n"
      ]
    },
    {
      "cell_type": "code",
      "execution_count": null,
      "metadata": {
        "id": "PnuwETVUD-zE"
      },
      "outputs": [],
      "source": [
        "d_pages_st_sample['leanings'] = 'democratic'\n",
        "r_pages_st_sample['leanings'] = 'republican'"
      ]
    },
    {
      "cell_type": "code",
      "execution_count": null,
      "metadata": {
        "id": "63YL6LBsEEJJ"
      },
      "outputs": [],
      "source": [
        "sample_df_st = pd.concat([r_pages_st_sample, d_pages_st_sample], ignore_index=True, sort=False)\n"
      ]
    },
    {
      "cell_type": "code",
      "execution_count": null,
      "metadata": {
        "id": "nQvENY4BD5CH"
      },
      "outputs": [],
      "source": [
        "sample_df_st['text_san'] = sample_df_st['text_san'].str.lower()\n"
      ]
    },
    {
      "cell_type": "code",
      "execution_count": null,
      "metadata": {
        "id": "gPdX_ceLIaJh"
      },
      "outputs": [],
      "source": [
        "\n",
        "sample_df_st['lower_ner_pos_rep_b'] = sample_df_st['text_san'].apply(lambda x: [i for i in temp_rep_lower_bi if i in x])\n",
        "sample_df_st['lower_ner_pos_rep_u'] = sample_df_st['text_san'].apply(lambda x: set.intersection(set(x.split(' ')), temp_rep_lower_uni))\n",
        "\n",
        "sample_df_st['lower_ner_pos_dem_b'] = sample_df_st['text_san'].apply(lambda x: [i for i in temp_dem_lower_bi if i in x])\n",
        "sample_df_st['lower_ner_pos_dem_u'] = sample_df_st['text_san'].apply(lambda x: set.intersection(set(x.split(' ')), temp_dem_lower_uni))\n"
      ]
    },
    {
      "cell_type": "code",
      "execution_count": null,
      "metadata": {
        "id": "Jajy5SiCJVIR"
      },
      "outputs": [],
      "source": [
        "sample_df_st.to_csv('sample_df_st_lower.csv')"
      ]
    },
    {
      "cell_type": "markdown",
      "metadata": {
        "id": "53YdolCGA1do"
      },
      "source": [
        "## matching"
      ]
    },
    {
      "cell_type": "code",
      "execution_count": null,
      "metadata": {
        "id": "ZvjHCm5z8S98"
      },
      "outputs": [],
      "source": [
        "import pickle\n",
        "\n",
        "with open('r_pages_ner_pos.pickle', 'rb') as handle:\n",
        "    r_pages_st = pickle.load(handle)"
      ]
    },
    {
      "cell_type": "code",
      "execution_count": null,
      "metadata": {
        "id": "cN-FtLAKq_kX"
      },
      "outputs": [],
      "source": [
        "\n",
        "def basic_sanitize(text):\n",
        "    \n",
        "    text = re.sub(r'[\\'’]',' ', text) #&\n",
        "    text = re.sub(r'[^\\w\\s#&-]','', text) #&\n",
        "    text = text.lower()\n",
        "    \n",
        "    return text"
      ]
    },
    {
      "cell_type": "code",
      "execution_count": null,
      "metadata": {
        "id": "UlVH-QbYrDd8"
      },
      "outputs": [],
      "source": [
        "r_pages_st['text_san'] = r_pages_st['text'].apply(basic_sanitize)\n"
      ]
    },
    {
      "cell_type": "code",
      "execution_count": null,
      "metadata": {
        "colab": {
          "base_uri": "https://localhost:8080/"
        },
        "id": "nkcV3CIhLdVY",
        "outputId": "e5a5042e-d1f4-43d7-de7c-c36147e092b5"
      },
      "outputs": [
        {
          "data": {
            "text/plain": [
              "3030277    waking up   wwwmainwashedcom timeline photos l...\n",
              "6832155     trump signs order to improve mental health re...\n",
              "5330745    look what the intolerant left did to our frien...\n",
              "Name: text_san, dtype: object"
            ]
          },
          "execution_count": 52,
          "metadata": {},
          "output_type": "execute_result"
        }
      ],
      "source": [
        "r_pages_st['text_san'].sample(3)"
      ]
    },
    {
      "cell_type": "code",
      "execution_count": null,
      "metadata": {
        "colab": {
          "base_uri": "https://localhost:8080/"
        },
        "id": "2FTypxHIsKQL",
        "outputId": "d5ae684c-53d7-42ce-cfdf-2e65c663464c"
      },
      "outputs": [
        {
          "name": "stdout",
          "output_type": "stream",
          "text": [
            "2132\n",
            "2055\n",
            "246\n",
            "236\n"
          ]
        }
      ],
      "source": [
        "print(len(temp_rep_lower_bi))\n",
        "print(len(temp_dem_lower_bi))\n",
        "\n",
        "print(len(temp_rep_lower_uni))\n",
        "print(len(temp_dem_lower_uni))"
      ]
    },
    {
      "cell_type": "code",
      "execution_count": null,
      "metadata": {
        "id": "3Bs8tSXtAmND"
      },
      "outputs": [],
      "source": [
        "# lower case, \n",
        "\n",
        "r_pages_st['ner_pos_rep_b'] = r_pages_st['text_san'].apply(lambda x: [i for i in temp_rep_lower_bi if i in x])\n",
        "r_pages_st['ner_pos_rep_u'] = r_pages_st['text_san'].apply(lambda x: set.intersection(set(x.split(' ')), temp_rep_lower_uni))\n"
      ]
    },
    {
      "cell_type": "code",
      "execution_count": null,
      "metadata": {
        "id": "53uYEqM4BID8"
      },
      "outputs": [],
      "source": [
        "r_pages_st['ner_pos_dem_b'] = r_pages_st['text_san'].apply(lambda x: [i for i in temp_dem_lower_bi if i in x])\n",
        "r_pages_st['ner_pos_dem_u'] = r_pages_st['text_san'].apply(lambda x: set.intersection(set(x.split(' ')), temp_dem_lower_uni))\n"
      ]
    },
    {
      "cell_type": "code",
      "execution_count": null,
      "metadata": {
        "id": "uvLBi3vrrvKM"
      },
      "outputs": [],
      "source": [
        "r_pages_st5 = r_pages_st[['quarter','insult','sentistr','ner_pos_rep_u','ner_pos_rep_b','ner_pos_dem_u','ner_pos_dem_b']]"
      ]
    },
    {
      "cell_type": "code",
      "execution_count": null,
      "metadata": {
        "id": "JIKtwydBCQ-h"
      },
      "outputs": [],
      "source": [
        "\n",
        "import pickle\n",
        "\n",
        "with open('r_pages_ner_pos_2nd_lowercase.pickle', 'wb') as handle:\n",
        "    pickle.dump(r_pages_st5, handle, protocol=pickle.HIGHEST_PROTOCOL)\n",
        "\n"
      ]
    },
    {
      "cell_type": "code",
      "execution_count": null,
      "metadata": {
        "colab": {
          "base_uri": "https://localhost:8080/"
        },
        "id": "F7Tb9ysXB9Zb",
        "outputId": "474fc360-a381-4978-883c-26fda7d482e3"
      },
      "outputs": [
        {
          "name": "stderr",
          "output_type": "stream",
          "text": [
            "/usr/local/lib/python3.7/dist-packages/numpy/core/fromnumeric.py:86: RuntimeWarning: invalid value encountered in reduce\n",
            "  return ufunc.reduce(obj, axis, dtype, out, **passkwargs)\n",
            "/usr/local/lib/python3.7/dist-packages/sklearn/utils/extmath.py:991: RuntimeWarning: invalid value encountered in subtract\n",
            "  temp = X - T\n",
            "/usr/local/lib/python3.7/dist-packages/numpy/core/fromnumeric.py:86: RuntimeWarning: invalid value encountered in reduce\n",
            "  return ufunc.reduce(obj, axis, dtype, out, **passkwargs)\n",
            "/usr/local/lib/python3.7/dist-packages/sklearn/preprocessing/_data.py:993: RuntimeWarning: invalid value encountered in subtract\n",
            "  X -= self.mean_\n"
          ]
        }
      ],
      "source": [
        "import pandas as pd\n",
        "from sklearn.preprocessing import StandardScaler\n",
        "\n",
        "scaler = StandardScaler()\n",
        "\n",
        "r_pages_st[['sentistr_std', 'insult_std']] = scaler.fit_transform(r_pages_st[['sentistr', 'insult']])\n",
        "\n"
      ]
    },
    {
      "cell_type": "code",
      "execution_count": null,
      "metadata": {
        "colab": {
          "base_uri": "https://localhost:8080/"
        },
        "id": "NdzjA4eHs82S",
        "outputId": "38967b4e-46eb-4f6a-fc90-d97f8cd943a3"
      },
      "outputs": [
        {
          "name": "stdout",
          "output_type": "stream",
          "text": [
            "in_group_np\n",
            "non_mentioned    4352731\n",
            "mentioned        2997907\n",
            "Name: in_group_np, dtype: int64\n",
            "out_group_np\n",
            "non_mentioned    4730356\n",
            "mentioned        2620282\n",
            "Name: out_group_np, dtype: int64\n",
            "no_entity_np\n",
            "mentioned    4238245\n",
            "none         3112393\n",
            "Name: no_entity_np, dtype: int64\n"
          ]
        }
      ],
      "source": [
        "\n",
        "# print('in_group_np')\n",
        "# print(r_pages_st['in_group_np'].value_counts())\n",
        "\n",
        "# print('out_group_np')\n",
        "# print(r_pages_st['out_group_np'].value_counts())\n",
        "\n",
        "# print('no_entity_np')\n",
        "# print(r_pages_st['no_entity_np'].value_counts())\n",
        "\n",
        "\n",
        "# temp  = r_pages_st.groupby(['quarter', 'out_group_np'])['sentistr_std'].mean().reset_index()\n",
        "# temp.to_csv('pos_ner_lower/r_out_group_np_senti.csv', encoding='utf-8-sig')\n",
        "\n",
        "# temp  = r_pages_st.groupby(['quarter', 'out_group_np'])['insult_std'].mean().reset_index()\n",
        "# temp.to_csv('pos_ner_lower/r_out_group_np_inciv.csv', encoding='utf-8-sig')\n",
        "\n",
        "# temp  = r_pages_st.groupby(['quarter', 'in_group_np'])['sentistr_std'].mean().reset_index()\n",
        "# temp.to_csv('pos_ner_lower/r_in_group_np_senti.csv', encoding='utf-8-sig')\n",
        "\n",
        "# temp  = r_pages_st.groupby(['quarter', 'in_group_np'])['insult_std'].mean().reset_index()\n",
        "# temp.to_csv('pos_ner_lower/r_in_group_np_inciv.csv', encoding='utf-8-sig')\n",
        "\n",
        "# temp  = r_pages_st.groupby(['quarter', 'no_entity_np'])['sentistr_std'].mean().reset_index()\n",
        "# temp.to_csv('pos_ner_lower/r_no_entity_np_senti.csv', encoding='utf-8-sig')\n",
        "\n",
        "# temp  = r_pages_st.groupby(['quarter', 'no_entity_np'])['insult_std'].mean().reset_index()\n",
        "# temp.to_csv('pos_ner_lower/r_no_entity_np_inciv.csv', encoding='utf-8-sig')\n",
        "\n",
        "\n"
      ]
    },
    {
      "cell_type": "code",
      "execution_count": null,
      "metadata": {
        "id": "Mi6ZNtBTaSLS"
      },
      "outputs": [],
      "source": [
        "# r_pages_st_sample = r_pages_st.sample(1000)\n",
        "# r_pages_st_sample.to_csv('r_pages_st_sample_lower.csv', encoding='utf-8-sig')\n"
      ]
    },
    {
      "cell_type": "code",
      "execution_count": 11,
      "metadata": {
        "id": "w9GtInP_BL64"
      },
      "outputs": [],
      "source": [
        "import pickle\n",
        "\n",
        "with open('d_pages_ner_pos.pickle', 'rb') as handle:\n",
        "    d_pages_st = pickle.load(handle)"
      ]
    },
    {
      "cell_type": "code",
      "execution_count": 12,
      "metadata": {
        "id": "mV359YLBtWP0"
      },
      "outputs": [],
      "source": [
        "\n",
        "def basic_sanitize(text):\n",
        "    \n",
        "    text = re.sub(r'[\\'’]',' ', text) #&\n",
        "    text = re.sub(r'[^\\w\\s#&-]','', text) #&\n",
        "    text = text.lower()\n",
        "    \n",
        "    return text"
      ]
    },
    {
      "cell_type": "code",
      "execution_count": 13,
      "metadata": {
        "id": "jsDVR642tS4D"
      },
      "outputs": [],
      "source": [
        "d_pages_st['text_san'] = d_pages_st['text'].apply(basic_sanitize)\n"
      ]
    },
    {
      "cell_type": "code",
      "execution_count": 14,
      "metadata": {
        "colab": {
          "base_uri": "https://localhost:8080/"
        },
        "id": "zidU4VSFM8Er",
        "outputId": "2b69b220-0d22-4614-e848-7df9d84389cc"
      },
      "outputs": [
        {
          "output_type": "execute_result",
          "data": {
            "text/plain": [
              "946600     oh please roughly 11000 people died of ebola w...\n",
              "6718420    i was seven years old the age that liam is now...\n",
              "1173832                                    timeline photos  \n",
              "Name: text_san, dtype: object"
            ]
          },
          "metadata": {},
          "execution_count": 14
        }
      ],
      "source": [
        "d_pages_st['text_san'].sample(3)"
      ]
    },
    {
      "cell_type": "code",
      "execution_count": 15,
      "metadata": {
        "id": "VGhoBSpCBXkv"
      },
      "outputs": [],
      "source": [
        "\n",
        "d_pages_st['ner_pos_rep_b'] = d_pages_st['text_san'].apply(lambda x: [i for i in temp_rep_lower_bi if i in x])\n",
        "\n",
        "d_pages_st['ner_pos_rep_u'] = d_pages_st['text_san'].apply(lambda x: set.intersection(set(x.split(' ')), temp_rep_lower_uni))\n"
      ]
    },
    {
      "cell_type": "code",
      "execution_count": 16,
      "metadata": {
        "id": "TAdWhYwZBXgc"
      },
      "outputs": [],
      "source": [
        "d_pages_st['ner_pos_dem_b'] = d_pages_st['text_san'].apply(lambda x: [i for i in temp_dem_lower_bi if i in x])\n",
        "\n",
        "d_pages_st['ner_pos_dem_u'] = d_pages_st['text_san'].apply(lambda x: set.intersection(set(x.split(' ')), temp_dem_lower_uni))\n",
        "\n"
      ]
    },
    {
      "cell_type": "code",
      "execution_count": 17,
      "metadata": {
        "id": "uWzMt9gttlku"
      },
      "outputs": [],
      "source": [
        "d_pages_st5 = d_pages_st[['quarter','insult','sentistr','ner_pos_rep_u','ner_pos_rep_b','ner_pos_dem_u','ner_pos_dem_b']]\n"
      ]
    },
    {
      "cell_type": "code",
      "execution_count": 18,
      "metadata": {
        "id": "N3wukUiSCUaC"
      },
      "outputs": [],
      "source": [
        "\n",
        "import pickle\n",
        "\n",
        "with open('d_pages_ner_pos_2nd_lowercase.pickle', 'wb') as handle:\n",
        "    pickle.dump(d_pages_st5, handle, protocol=pickle.HIGHEST_PROTOCOL)\n",
        "\n"
      ]
    },
    {
      "cell_type": "code",
      "execution_count": 19,
      "metadata": {
        "id": "jTemvKnHB_1d",
        "colab": {
          "base_uri": "https://localhost:8080/"
        },
        "outputId": "c46eb45e-9b1b-42c4-e05d-5edad8c9493b"
      },
      "outputs": [
        {
          "output_type": "stream",
          "name": "stderr",
          "text": [
            "/usr/local/lib/python3.7/dist-packages/numpy/core/fromnumeric.py:86: RuntimeWarning: invalid value encountered in reduce\n",
            "  return ufunc.reduce(obj, axis, dtype, out, **passkwargs)\n",
            "/usr/local/lib/python3.7/dist-packages/sklearn/utils/extmath.py:991: RuntimeWarning: invalid value encountered in subtract\n",
            "  temp = X - T\n",
            "/usr/local/lib/python3.7/dist-packages/numpy/core/fromnumeric.py:86: RuntimeWarning: invalid value encountered in reduce\n",
            "  return ufunc.reduce(obj, axis, dtype, out, **passkwargs)\n",
            "/usr/local/lib/python3.7/dist-packages/sklearn/preprocessing/_data.py:993: RuntimeWarning: invalid value encountered in subtract\n",
            "  X -= self.mean_\n"
          ]
        }
      ],
      "source": [
        "import pandas as pd\n",
        "from sklearn.preprocessing import StandardScaler\n",
        "\n",
        "scaler = StandardScaler()\n",
        "\n",
        "d_pages_st[['sentistr_std', 'insult_std']] = scaler.fit_transform(d_pages_st[['sentistr', 'insult']])\n",
        "\n"
      ]
    },
    {
      "cell_type": "code",
      "execution_count": 21,
      "metadata": {
        "id": "xrjOILGSNP-R",
        "colab": {
          "base_uri": "https://localhost:8080/"
        },
        "outputId": "3c7d4fd7-a817-4e22-9b96-70121a2fc898"
      },
      "outputs": [
        {
          "output_type": "stream",
          "name": "stdout",
          "text": [
            "in_group_np\n",
            "non_mentioned    4373991\n",
            "mentioned        2436033\n",
            "Name: in_group_np, dtype: int64\n",
            "out_group_np\n",
            "non_mentioned    3643522\n",
            "mentioned        3166502\n",
            "Name: out_group_np, dtype: int64\n",
            "no_entity_np\n",
            "mentioned    4299352\n",
            "none         2510672\n",
            "Name: no_entity_np, dtype: int64\n"
          ]
        }
      ],
      "source": [
        "\n",
        "# print('in_group_np')\n",
        "# print(d_pages_st['in_group_np'].value_counts())\n",
        "\n",
        "# print('out_group_np')\n",
        "# print(d_pages_st['out_group_np'].value_counts())\n",
        "\n",
        "# print('no_entity_np')\n",
        "# print(d_pages_st['no_entity_np'].value_counts())\n",
        "\n",
        "\n",
        "# temp  = d_pages_st.groupby(['quarter', 'out_group_np'])['sentistr_std'].mean().reset_index()\n",
        "# temp.to_csv('pos_ner_lower/d_out_group_np_senti.csv', encoding='utf-8-sig')\n",
        "\n",
        "# temp  = d_pages_st.groupby(['quarter', 'out_group_np'])['insult_std'].mean().reset_index()\n",
        "# temp.to_csv('pos_ner_lower/d_out_group_np_inciv.csv', encoding='utf-8-sig')\n",
        "\n",
        "# temp  = d_pages_st.groupby(['quarter', 'in_group_np'])['sentistr_std'].mean().reset_index()\n",
        "# temp.to_csv('pos_ner_lower/d_in_group_np_senti.csv', encoding='utf-8-sig')\n",
        "\n",
        "# temp  = d_pages_st.groupby(['quarter', 'in_group_np'])['insult_std'].mean().reset_index()\n",
        "# temp.to_csv('pos_ner_lower/d_in_group_np_inciv.csv', encoding='utf-8-sig')\n",
        "\n",
        "# temp  = d_pages_st.groupby(['quarter', 'no_entity_np'])['sentistr_std'].mean().reset_index()\n",
        "# temp.to_csv('pos_ner_lower/d_no_entity_np_senti.csv', encoding='utf-8-sig')\n",
        "\n",
        "# temp  = d_pages_st.groupby(['quarter', 'no_entity_np'])['insult_std'].mean().reset_index()\n",
        "# temp.to_csv('pos_ner_lower/d_no_entity_np_inciv.csv', encoding='utf-8-sig')\n"
      ]
    },
    {
      "cell_type": "code",
      "execution_count": null,
      "metadata": {
        "id": "GWnfUeq-b9_M"
      },
      "outputs": [],
      "source": [
        "# d_pages_st_sample = d_pages_st.sample(1000)\n",
        "# d_pages_st_sample.to_csv('d_pages_st_sample_lower.csv', encoding='utf-8-sig')\n"
      ]
    },
    {
      "cell_type": "markdown",
      "metadata": {
        "id": "hKpOGA5B_bwK"
      },
      "source": [
        "## make it smaller"
      ]
    },
    {
      "cell_type": "code",
      "execution_count": null,
      "metadata": {
        "id": "S9SBzQmjB2QX"
      },
      "outputs": [],
      "source": [
        "import pickle\n",
        "\n",
        "with open('r_pages_ner_pos.pickle', 'rb') as handle:\n",
        "    r_pages_st = pickle.load(handle)"
      ]
    },
    {
      "cell_type": "code",
      "execution_count": null,
      "metadata": {
        "id": "q1aYV1W7rB69"
      },
      "outputs": [],
      "source": [
        "temp = r_pages_st.sample(1000)"
      ]
    },
    {
      "cell_type": "code",
      "execution_count": null,
      "metadata": {
        "id": "DqR_PHPJrHoQ"
      },
      "outputs": [],
      "source": [
        "temp.to_csv(\"sample_r_pages_st.csv\")"
      ]
    },
    {
      "cell_type": "code",
      "execution_count": null,
      "metadata": {
        "id": "jpVskkoVCFts"
      },
      "outputs": [],
      "source": [
        "\n",
        "import numpy as np\n",
        "\n",
        "r_pages_st['ner_pos_dem_b_count'] = r_pages_st['ner_pos_dem_b'].str.len()\n",
        "r_pages_st['ner_pos_dem_u_count'] = r_pages_st['ner_pos_dem_u'].str.len()\n",
        "\n",
        "r_pages_st['ner_pos_rep_b_count'] = r_pages_st['ner_pos_rep_b'].str.len()\n",
        "r_pages_st['ner_pos_rep_u_count'] = r_pages_st['ner_pos_rep_u'].str.len()\n",
        "\n",
        "\n",
        "r_pages_st['in_group_np'] = np.where(( (r_pages_st.ner_pos_rep_u_count >= 1) | (r_pages_st.ner_pos_rep_b_count >= 1) ), 'mentioned', 'non_mentioned')\n",
        "r_pages_st['out_group_np'] = np.where(( (r_pages_st.ner_pos_dem_u_count >= 1) | (r_pages_st.ner_pos_dem_b_count >= 1) ), 'mentioned', 'non_mentioned')\n",
        "r_pages_st['no_entity_np'] = np.where(((r_pages_st.in_group_np == 'non_mentioned') & (r_pages_st.out_group_np == 'non_mentioned')), 'none', 'mentioned')\n"
      ]
    },
    {
      "cell_type": "code",
      "execution_count": null,
      "metadata": {
        "colab": {
          "base_uri": "https://localhost:8080/"
        },
        "id": "dyVH_qvzCGa2",
        "outputId": "f7dbc7b9-4542-46a2-e413-ec26356d8978"
      },
      "outputs": [
        {
          "name": "stderr",
          "output_type": "stream",
          "text": [
            "/usr/local/lib/python3.7/dist-packages/numpy/core/fromnumeric.py:86: RuntimeWarning: invalid value encountered in reduce\n",
            "  return ufunc.reduce(obj, axis, dtype, out, **passkwargs)\n",
            "/usr/local/lib/python3.7/dist-packages/sklearn/utils/extmath.py:991: RuntimeWarning: invalid value encountered in subtract\n",
            "  temp = X - T\n",
            "/usr/local/lib/python3.7/dist-packages/numpy/core/fromnumeric.py:86: RuntimeWarning: invalid value encountered in reduce\n",
            "  return ufunc.reduce(obj, axis, dtype, out, **passkwargs)\n",
            "/usr/local/lib/python3.7/dist-packages/sklearn/preprocessing/_data.py:993: RuntimeWarning: invalid value encountered in subtract\n",
            "  X -= self.mean_\n"
          ]
        }
      ],
      "source": [
        "import pandas as pd\n",
        "from sklearn.preprocessing import StandardScaler\n",
        "\n",
        "scaler = StandardScaler()\n",
        "\n",
        "r_pages_st[['sentistr_std', 'insult_std']] = scaler.fit_transform(r_pages_st[['sentistr', 'insult']])\n",
        "\n"
      ]
    },
    {
      "cell_type": "code",
      "execution_count": null,
      "metadata": {
        "colab": {
          "base_uri": "https://localhost:8080/"
        },
        "id": "tf_swl1iCY3b",
        "outputId": "30692272-0e94-494c-d263-2fad1254e3d8"
      },
      "outputs": [
        {
          "data": {
            "text/plain": [
              "Index(['Created', 'quarter', 'text', 'insult', 'sentistr', 'ner_pos_rep_u',\n",
              "       'ner_pos_rep_b', 'ner_pos_dem_u', 'ner_pos_dem_b',\n",
              "       'ner_pos_dem_b_count', 'ner_pos_dem_u_count', 'ner_pos_rep_b_count',\n",
              "       'ner_pos_rep_u_count', 'in_group_np', 'out_group_np', 'no_entity_np',\n",
              "       'sentistr_std', 'insult_std'],\n",
              "      dtype='object')"
            ]
          },
          "execution_count": 6,
          "metadata": {},
          "output_type": "execute_result"
        }
      ],
      "source": [
        "r_pages_st.columns"
      ]
    },
    {
      "cell_type": "code",
      "execution_count": null,
      "metadata": {
        "id": "wHRS9zGgCKyW"
      },
      "outputs": [],
      "source": [
        "r_pages_st = r_pages_st[['Created', 'quarter', 'insult_std', 'sentistr_std', 'out_group_np', 'in_group_np', 'no_entity_np']]\n"
      ]
    },
    {
      "cell_type": "code",
      "execution_count": null,
      "metadata": {
        "id": "rAOUK9nvChBS"
      },
      "outputs": [],
      "source": [
        "\n",
        "import pickle\n",
        "\n",
        "with open('r_pages_ner_pos_st.pickle', 'wb') as handle:\n",
        "    pickle.dump(r_pages_st, handle, protocol=pickle.HIGHEST_PROTOCOL)\n",
        "\n"
      ]
    },
    {
      "cell_type": "code",
      "execution_count": null,
      "metadata": {
        "id": "5Hb-1rju_eNY"
      },
      "outputs": [],
      "source": [
        "import pickle\n",
        "\n",
        "with open('d_pages_ner_pos.pickle', 'rb') as handle:\n",
        "    d_pages_st = pickle.load(handle)"
      ]
    },
    {
      "cell_type": "code",
      "execution_count": null,
      "metadata": {
        "id": "nnVIElObuDNm"
      },
      "outputs": [],
      "source": [
        "temp = d_pages_st.sample(1000)\n",
        "temp.to_csv(\"sample_d_pages_st.csv\")"
      ]
    },
    {
      "cell_type": "code",
      "execution_count": null,
      "metadata": {
        "id": "o3ZVGP0aA031"
      },
      "outputs": [],
      "source": [
        "\n",
        "import numpy as np\n",
        "\n",
        "d_pages_st['ner_pos_dem_b_count'] = d_pages_st['ner_pos_dem_b'].str.len()\n",
        "d_pages_st['ner_pos_dem_u_count'] = d_pages_st['ner_pos_dem_u'].str.len()\n",
        "\n",
        "d_pages_st['ner_pos_rep_b_count'] = d_pages_st['ner_pos_rep_b'].str.len()\n",
        "d_pages_st['ner_pos_rep_u_count'] = d_pages_st['ner_pos_rep_u'].str.len()\n",
        "\n",
        "\n",
        "d_pages_st['out_group_np'] = np.where(( (d_pages_st.ner_pos_rep_u_count >= 1) | (d_pages_st.ner_pos_rep_b_count >= 1) ), 'mentioned', 'non_mentioned')\n",
        "d_pages_st['in_group_np'] = np.where(( (d_pages_st.ner_pos_dem_u_count >= 1) | (d_pages_st.ner_pos_dem_b_count >= 1) ), 'mentioned', 'non_mentioned')\n",
        "d_pages_st['no_entity_np'] = np.where(((d_pages_st.in_group_np == 'non_mentioned') & (d_pages_st.out_group_np == 'non_mentioned')), 'none', 'mentioned')\n"
      ]
    },
    {
      "cell_type": "code",
      "execution_count": null,
      "metadata": {
        "colab": {
          "base_uri": "https://localhost:8080/"
        },
        "id": "8XQAz3bnDFV7",
        "outputId": "54bcc16e-4678-4c7f-8da2-3ff65757f2a2"
      },
      "outputs": [
        {
          "name": "stderr",
          "output_type": "stream",
          "text": [
            "/usr/local/lib/python3.7/dist-packages/numpy/core/fromnumeric.py:86: RuntimeWarning: invalid value encountered in reduce\n",
            "  return ufunc.reduce(obj, axis, dtype, out, **passkwargs)\n",
            "/usr/local/lib/python3.7/dist-packages/sklearn/utils/extmath.py:991: RuntimeWarning: invalid value encountered in subtract\n",
            "  temp = X - T\n",
            "/usr/local/lib/python3.7/dist-packages/numpy/core/fromnumeric.py:86: RuntimeWarning: invalid value encountered in reduce\n",
            "  return ufunc.reduce(obj, axis, dtype, out, **passkwargs)\n",
            "/usr/local/lib/python3.7/dist-packages/sklearn/preprocessing/_data.py:993: RuntimeWarning: invalid value encountered in subtract\n",
            "  X -= self.mean_\n"
          ]
        }
      ],
      "source": [
        "import pandas as pd\n",
        "from sklearn.preprocessing import StandardScaler\n",
        "\n",
        "scaler = StandardScaler()\n",
        "\n",
        "d_pages_st[['sentistr_std', 'insult_std']] = scaler.fit_transform(d_pages_st[['sentistr', 'insult']])\n"
      ]
    },
    {
      "cell_type": "code",
      "execution_count": null,
      "metadata": {
        "colab": {
          "base_uri": "https://localhost:8080/"
        },
        "id": "XJoGwZZGDkg4",
        "outputId": "579d5de7-a34d-442e-b883-0d51b64b448f"
      },
      "outputs": [
        {
          "data": {
            "text/plain": [
              "Index(['Created', 'quarter', 'text', 'insult', 'sentistr', 'ner_pos_dem_b',\n",
              "       'ner_pos_dem_u', 'ner_pos_rep_b', 'ner_pos_rep_u',\n",
              "       'ner_pos_dem_b_count', 'ner_pos_dem_u_count', 'ner_pos_rep_b_count',\n",
              "       'ner_pos_rep_u_count', 'out_group_np', 'in_group_np', 'no_entity_np',\n",
              "       'sentistr_std', 'insult_std'],\n",
              "      dtype='object')"
            ]
          },
          "execution_count": 6,
          "metadata": {},
          "output_type": "execute_result"
        }
      ],
      "source": [
        "d_pages_st.columns"
      ]
    },
    {
      "cell_type": "code",
      "execution_count": null,
      "metadata": {
        "id": "dKyGWU6_BIvT"
      },
      "outputs": [],
      "source": [
        "\n",
        "d_pages_st = d_pages_st[['Created', 'quarter', 'insult_std', 'sentistr_std', 'out_group_np', 'in_group_np', 'no_entity_np']]\n",
        "\n"
      ]
    },
    {
      "cell_type": "code",
      "execution_count": null,
      "metadata": {
        "id": "g6AWVXNsDLoA"
      },
      "outputs": [],
      "source": [
        "\n",
        "import pickle\n",
        "\n",
        "with open('d_pages_ner_pos_st.pickle', 'wb') as handle:\n",
        "    pickle.dump(d_pages_st, handle, protocol=pickle.HIGHEST_PROTOCOL)\n"
      ]
    },
    {
      "cell_type": "markdown",
      "metadata": {
        "id": "HcQRUjCmD8C-"
      },
      "source": [
        "## merge both 2"
      ]
    },
    {
      "cell_type": "code",
      "execution_count": 3,
      "metadata": {
        "id": "HpIZXwwbD5Cb"
      },
      "outputs": [],
      "source": [
        "import pickle\n",
        "\n",
        "with open('r_pages_ner_pos_3rd_lowercase.pickle', 'rb') as handle:\n",
        "    r_pages_st = pickle.load(handle)"
      ]
    },
    {
      "cell_type": "code",
      "execution_count": 4,
      "metadata": {
        "id": "w1CpGwn8EP6a"
      },
      "outputs": [],
      "source": [
        "\n",
        "with open('d_pages_ner_pos_3rd_lowercase.pickle', 'rb') as handle:\n",
        "    d_pages_st = pickle.load(handle)"
      ]
    },
    {
      "cell_type": "code",
      "execution_count": 5,
      "metadata": {
        "id": "4tajyM2a_kAO"
      },
      "outputs": [],
      "source": [
        "r_pages_st['leanings'] = \"republican\"\n",
        "d_pages_st['leanings'] = \"democratic\""
      ]
    },
    {
      "cell_type": "code",
      "source": [
        "import pandas as pd\n",
        "from sklearn.preprocessing import StandardScaler\n",
        "\n",
        "scaler = StandardScaler()\n",
        "\n",
        "d_pages_st[['sentistr_std', 'insult_std']] = scaler.fit_transform(d_pages_st[['sentistr', 'insult']])\n",
        "\n",
        "r_pages_st[['sentistr_std', 'insult_std']] = scaler.fit_transform(r_pages_st[['sentistr', 'insult']])\n"
      ],
      "metadata": {
        "colab": {
          "base_uri": "https://localhost:8080/"
        },
        "id": "KcmIvAgdUlyF",
        "outputId": "c98d0092-6998-45f3-9cd3-77f084e6404d"
      },
      "execution_count": 6,
      "outputs": [
        {
          "output_type": "stream",
          "name": "stderr",
          "text": [
            "/usr/local/lib/python3.7/dist-packages/numpy/core/fromnumeric.py:86: RuntimeWarning: invalid value encountered in reduce\n",
            "  return ufunc.reduce(obj, axis, dtype, out, **passkwargs)\n",
            "/usr/local/lib/python3.7/dist-packages/sklearn/utils/extmath.py:991: RuntimeWarning: invalid value encountered in subtract\n",
            "  temp = X - T\n",
            "/usr/local/lib/python3.7/dist-packages/numpy/core/fromnumeric.py:86: RuntimeWarning: invalid value encountered in reduce\n",
            "  return ufunc.reduce(obj, axis, dtype, out, **passkwargs)\n",
            "/usr/local/lib/python3.7/dist-packages/sklearn/preprocessing/_data.py:993: RuntimeWarning: invalid value encountered in subtract\n",
            "  X -= self.mean_\n",
            "/usr/local/lib/python3.7/dist-packages/numpy/core/fromnumeric.py:86: RuntimeWarning: invalid value encountered in reduce\n",
            "  return ufunc.reduce(obj, axis, dtype, out, **passkwargs)\n",
            "/usr/local/lib/python3.7/dist-packages/sklearn/utils/extmath.py:991: RuntimeWarning: invalid value encountered in subtract\n",
            "  temp = X - T\n",
            "/usr/local/lib/python3.7/dist-packages/numpy/core/fromnumeric.py:86: RuntimeWarning: invalid value encountered in reduce\n",
            "  return ufunc.reduce(obj, axis, dtype, out, **passkwargs)\n",
            "/usr/local/lib/python3.7/dist-packages/sklearn/preprocessing/_data.py:993: RuntimeWarning: invalid value encountered in subtract\n",
            "  X -= self.mean_\n"
          ]
        }
      ]
    },
    {
      "cell_type": "code",
      "source": [
        "\n",
        "import numpy as np\n",
        "\n",
        "d_pages_st['ner_pos_dem_b_count'] = d_pages_st['ner_pos_dem_b'].str.len()\n",
        "d_pages_st['ner_pos_dem_u_count'] = d_pages_st['ner_pos_dem_u'].str.len()\n",
        "\n",
        "d_pages_st['ner_pos_rep_b_count'] = d_pages_st['ner_pos_rep_b'].str.len()\n",
        "d_pages_st['ner_pos_rep_u_count'] = d_pages_st['ner_pos_rep_u'].str.len()\n",
        "\n",
        "\n",
        "d_pages_st['out_group_np'] = np.where(( (d_pages_st.ner_pos_rep_u_count >= 1) | (d_pages_st.ner_pos_rep_b_count >= 1) ), 'mentioned', 'non_mentioned')\n",
        "d_pages_st['in_group_np'] = np.where(( (d_pages_st.ner_pos_dem_u_count >= 1) | (d_pages_st.ner_pos_dem_b_count >= 1) ), 'mentioned', 'non_mentioned')\n",
        "d_pages_st['no_entity_np'] = np.where(((d_pages_st.in_group_np == 'non_mentioned') & (d_pages_st.out_group_np == 'non_mentioned')), 'none', 'mentioned')\n"
      ],
      "metadata": {
        "id": "KpEB4CoxCtLK"
      },
      "execution_count": null,
      "outputs": []
    },
    {
      "cell_type": "code",
      "source": [
        "import numpy as np\n",
        "\n",
        "r_pages_st['ner_pos_dem_b_count'] = r_pages_st['ner_pos_dem_b'].str.len()\n",
        "r_pages_st['ner_pos_dem_u_count'] = r_pages_st['ner_pos_dem_u'].str.len()\n",
        "\n",
        "r_pages_st['ner_pos_rep_b_count'] = r_pages_st['ner_pos_rep_b'].str.len()\n",
        "r_pages_st['ner_pos_rep_u_count'] = r_pages_st['ner_pos_rep_u'].str.len()\n",
        "\n",
        "\n",
        "r_pages_st['in_group_np'] = np.where(( (r_pages_st.ner_pos_rep_u_count >= 1) | (r_pages_st.ner_pos_rep_b_count >= 1) ), 'mentioned', 'non_mentioned')\n",
        "r_pages_st['out_group_np'] = np.where(( (r_pages_st.ner_pos_dem_u_count >= 1) | (r_pages_st.ner_pos_dem_b_count >= 1) ), 'mentioned', 'non_mentioned')\n",
        "r_pages_st['no_entity_np'] = np.where(((r_pages_st.in_group_np == 'non_mentioned') & (r_pages_st.out_group_np == 'non_mentioned')), 'none', 'mentioned')\n"
      ],
      "metadata": {
        "id": "_rwWnfWaCxQZ"
      },
      "execution_count": null,
      "outputs": []
    },
    {
      "cell_type": "code",
      "execution_count": 7,
      "metadata": {
        "colab": {
          "base_uri": "https://localhost:8080/"
        },
        "id": "mOmkhDzpADLd",
        "outputId": "2a303917-af30-4b59-d748-4ad86065bcf8"
      },
      "outputs": [
        {
          "output_type": "execute_result",
          "data": {
            "text/plain": [
              "Index(['quarter', 'insult', 'sentistr', 'ner_pos_rep_u', 'ner_pos_rep_b',\n",
              "       'ner_pos_dem_u', 'ner_pos_dem_b', 'leanings', 'sentistr_std',\n",
              "       'insult_std'],\n",
              "      dtype='object')"
            ]
          },
          "metadata": {},
          "execution_count": 7
        }
      ],
      "source": [
        "d_pages_st.columns"
      ]
    },
    {
      "cell_type": "code",
      "execution_count": 8,
      "metadata": {
        "colab": {
          "base_uri": "https://localhost:8080/"
        },
        "id": "CI_iygVPAEvo",
        "outputId": "dac6d09b-1535-4cb1-f315-7a15e2b63dfc"
      },
      "outputs": [
        {
          "output_type": "execute_result",
          "data": {
            "text/plain": [
              "Index(['quarter', 'insult', 'sentistr', 'ner_pos_rep_u', 'ner_pos_rep_b',\n",
              "       'ner_pos_dem_u', 'ner_pos_dem_b', 'leanings', 'sentistr_std',\n",
              "       'insult_std'],\n",
              "      dtype='object')"
            ]
          },
          "metadata": {},
          "execution_count": 8
        }
      ],
      "source": [
        "r_pages_st.columns"
      ]
    },
    {
      "cell_type": "code",
      "execution_count": 11,
      "metadata": {
        "id": "08LXvSbT_lwO"
      },
      "outputs": [],
      "source": [
        "import pandas as pd\n",
        "\n",
        "pages_df_st = pd.concat([r_pages_st, d_pages_st], ignore_index=True, sort=False)\n"
      ]
    },
    {
      "cell_type": "code",
      "execution_count": 12,
      "metadata": {
        "id": "qgfT3ZQH_0VH"
      },
      "outputs": [],
      "source": [
        "\n",
        "temp  = pages_df_st.groupby(['quarter', 'out_group_np'])['sentistr_std'].mean().reset_index()\n",
        "temp.to_csv('pos_ner_lower/all_np_out_group_senti_std.csv', encoding='utf-8-sig')\n",
        "\n",
        "\n",
        "temp  = pages_df_st.groupby(['quarter', 'in_group_np'])['sentistr_std'].mean().reset_index()\n",
        "temp.to_csv('pos_ner_lower/all_np_in_group_senti_std.csv', encoding='utf-8-sig')\n",
        "\n",
        "\n",
        "temp  = pages_df_st.groupby(['quarter', 'no_entity_np'])['sentistr_std'].mean().reset_index()\n",
        "temp.to_csv('pos_ner_lower/all_np_no_entities_senti_std.csv', encoding='utf-8-sig')\n",
        "\n",
        "\n",
        "temp  = pages_df_st.groupby(['quarter', 'out_group_np'])['insult_std'].mean().reset_index()\n",
        "temp.to_csv('pos_ner_lower/all_np_out_group_insult_std.csv', encoding='utf-8-sig')\n",
        "\n",
        "\n",
        "temp  = pages_df_st.groupby(['quarter', 'in_group_np'])['insult_std'].mean().reset_index()\n",
        "temp.to_csv('pos_ner_lower/all_np_in_group_insult_std.csv', encoding='utf-8-sig')\n",
        "\n",
        "\n",
        "temp  = pages_df_st.groupby(['quarter', 'no_entity_np'])['insult_std'].mean().reset_index()\n",
        "temp.to_csv('pos_ner_lower/all_np_no_entities_insult_std.csv', encoding='utf-8-sig')\n"
      ]
    },
    {
      "cell_type": "code",
      "source": [
        "\n",
        "temp  = pages_df_st.groupby(['quarter', 'out_group_np', 'leanings'])['sentistr_std'].mean().reset_index()\n",
        "temp.to_csv('pos_ner_lower/leanings_np_out_group_senti_std.csv', encoding='utf-8-sig')\n",
        "\n",
        "\n",
        "temp  = pages_df_st.groupby(['quarter', 'in_group_np', 'leanings'])['sentistr_std'].mean().reset_index()\n",
        "temp.to_csv('pos_ner_lower/leanings_np_in_group_senti_std.csv', encoding='utf-8-sig')\n",
        "\n",
        "\n",
        "temp  = pages_df_st.groupby(['quarter', 'no_entity_np', 'leanings'])['sentistr_std'].mean().reset_index()\n",
        "temp.to_csv('pos_ner_lower/leanings_np_no_entities_senti_std.csv', encoding='utf-8-sig')\n",
        "\n",
        "\n",
        "temp  = pages_df_st.groupby(['quarter', 'out_group_np', 'leanings'])['insult_std'].mean().reset_index()\n",
        "temp.to_csv('pos_ner_lower/leanings_np_out_group_insult_std.csv', encoding='utf-8-sig')\n",
        "\n",
        "\n",
        "temp  = pages_df_st.groupby(['quarter', 'in_group_np', 'leanings'])['insult_std'].mean().reset_index()\n",
        "temp.to_csv('pos_ner_lower/leanings_np_in_group_insult_std.csv', encoding='utf-8-sig')\n",
        "\n",
        "\n",
        "temp  = pages_df_st.groupby(['quarter', 'no_entity_np', 'leanings'])['insult_std'].mean().reset_index()\n",
        "temp.to_csv('pos_ner_lower/leanings_np_no_entities_insult_std.csv', encoding='utf-8-sig')\n"
      ],
      "metadata": {
        "id": "zV8Sya9ZVR0S"
      },
      "execution_count": 14,
      "outputs": []
    }
  ],
  "metadata": {
    "colab": {
      "collapsed_sections": [
        "_9Zz_169Dp_M",
        "hKpOGA5B_bwK"
      ],
      "machine_shape": "hm",
      "name": "ner-pos-matching-wpreprocessing.ipynb",
      "provenance": [],
      "authorship_tag": "ABX9TyOaHJJ9NhCh266o1qM8p8qe",
      "include_colab_link": true
    },
    "kernelspec": {
      "display_name": "Python 3",
      "name": "python3"
    },
    "language_info": {
      "name": "python"
    }
  },
  "nbformat": 4,
  "nbformat_minor": 0
}