{
  "cells": [
    {
      "cell_type": "markdown",
      "metadata": {
        "id": "view-in-github",
        "colab_type": "text"
      },
      "source": [
        "<a href=\"https://colab.research.google.com/github/ykim71/thesis_related/blob/main/ner_pos_matching_wpreprocessing.ipynb\" target=\"_parent\"><img src=\"https://colab.research.google.com/assets/colab-badge.svg\" alt=\"Open In Colab\"/></a>"
      ]
    },
    {
      "cell_type": "code",
      "execution_count": 17,
      "metadata": {
        "colab": {
          "base_uri": "https://localhost:8080/"
        },
        "id": "w5mOgB83cNL1",
        "outputId": "410d3433-ad03-4763-f5c1-25ea96e7d257"
      },
      "outputs": [
        {
          "output_type": "stream",
          "name": "stdout",
          "text": [
            "Mounted at /content/drive\n"
          ]
        }
      ],
      "source": [
        "from google.colab import drive\n",
        "\n",
        "drive.mount(\"/content/drive\", force_remount=True)"
      ]
    },
    {
      "cell_type": "code",
      "execution_count": 18,
      "metadata": {
        "colab": {
          "base_uri": "https://localhost:8080/"
        },
        "id": "kY3dOHE7c8U5",
        "outputId": "3d3d8991-11ba-45a1-f755-bc16b2c20c3d"
      },
      "outputs": [
        {
          "output_type": "stream",
          "name": "stdout",
          "text": [
            "/content/drive/MyDrive/CrowdTangle/final_data_metrics\n"
          ]
        }
      ],
      "source": [
        "%cd drive/'MyDrive'/CrowdTangle/final_data_metrics"
      ]
    },
    {
      "cell_type": "markdown",
      "metadata": {
        "id": "uJ6Qo4-hAyil"
      },
      "source": [
        "\n",
        "\n",
        "## pre-processing"
      ]
    },
    {
      "cell_type": "code",
      "execution_count": null,
      "metadata": {
        "id": "JJGVnyO5qAIg"
      },
      "outputs": [],
      "source": [
        "# import words/phrases from NER and POS tagging\n",
        "import pandas as pd\n",
        "\n",
        "ner_pos = pd.read_excel('pos_bigrams_all_merged_NER4.xlsx')\n"
      ]
    },
    {
      "cell_type": "code",
      "execution_count": null,
      "metadata": {
        "id": "8uH7DQdDx5UJ"
      },
      "outputs": [],
      "source": [
        "import re\n",
        "\n",
        "def bigrams(s): # more than bigrams\n",
        "    return [i for i in s if re.search(r'\\s', i) ] \n",
        "def unigrams(s):\n",
        "    return [i for i in s if not re.search(r'\\s', i) ]\n",
        "def hashtag(s):\n",
        "    return [i for i in s if re.search(r'#', i) ]\n",
        "\n",
        "def contain_the(s): # bigrams that make sense with 'the'\n",
        "  to_remove = [' #', '# ', '.','\\'s', \"’s\", \" \\'\", \"\\'\", \"\\'S\", '“', '\"', '’', ]\n",
        "  p = re.compile('|'.join(map(re.escape, to_remove))) # escape to handle metachars\n",
        "  s = [p.sub('', s) for s in s] # remove hashtags\n",
        "\n",
        "  matchers = ['The ', 'the ']\n",
        "  items = [i for i in s if any(xs in i for xs in matchers)]\n",
        "  temp = [i for i in items if i.count(' ')==1]\n",
        "  return list(set(temp))\n"
      ]
    },
    {
      "cell_type": "code",
      "execution_count": null,
      "metadata": {
        "colab": {
          "base_uri": "https://localhost:8080/"
        },
        "id": "Vlda7fBe_yA3",
        "outputId": "fe15d8ff-da8e-495e-df8f-526be1087a94"
      },
      "outputs": [
        {
          "output_type": "stream",
          "name": "stdout",
          "text": [
            "2712\n",
            "185\n",
            "181\n",
            "1\n"
          ]
        }
      ],
      "source": [
        "# for Republican words/phrases\n",
        "\n",
        "ner_rep_only = ner_pos.loc[(ner_pos['rep'] == 1)]\n",
        "\n",
        "temp = ner_rep_only['text'].values.tolist()\n",
        "ner_rep_only_list = list(set(temp))\n",
        "print(len(ner_rep_only_list))\n",
        "\n",
        "# bi-grams\n",
        "rep_bi = list(set(bigrams(ner_rep_only_list)))\n",
        "\n",
        "import re\n",
        "\n",
        "to_remove = [' #', '# ', '.','\\'s', \"’s\", \" \\'\", \"\\'\", \"\\'S\", '“', '\"', '’', ' Timeline', ' Photo', 'the ', 'The ']\n",
        "\n",
        "p = re.compile('|'.join(map(re.escape, to_remove))) # escape to handle metachars\n",
        "\n",
        "rep_bi = [p.sub('', s) for s in rep_bi] # remove hashtags\n",
        "\n",
        "rep_bi = list(set(bigrams(rep_bi))) # select only bi-grams (hashtags will be added here)\n",
        "\n",
        "# uni-grams\n",
        "\n",
        "rep_uni = list(set(unigrams(ner_rep_only_list)))\n",
        "print(len(rep_uni))\n",
        "import re\n",
        "\n",
        "to_remove = ['#', '.', '\\'s', \"’s\", \" \\'\", \"\\'\", \"\\'S\", '“', '\"', '’']\n",
        "\n",
        "p = re.compile('|'.join(map(re.escape, to_remove))) # escape to handle metachars\n",
        "\n",
        "rep_uni = [p.sub('', s) for s in rep_uni] # remove some characters\n",
        "rep_uni = list(set(rep_uni))\n",
        "print(len(rep_uni))\n",
        "\n",
        "\n",
        "# hashtags\n",
        "\n",
        "import re\n",
        "\n",
        "rep_hash = list(set(hashtag(ner_rep_only_list)))\n",
        "\n",
        "to_remove = [' #', '# ', '#']\n",
        "p = re.compile('|'.join(map(re.escape, to_remove))) # escape to handle metachars\n",
        "\n",
        "rep_hash = [p.sub('', s) for s in rep_hash] # remove hashtags\n",
        "rep_hash_non = list(set(rep_hash))\n",
        "\n",
        "rep_hash = ['#' + s for s in rep_hash]\n",
        "rep_hash = list(set(rep_hash))\n",
        "\n",
        "# bigrams with the\n",
        "\n",
        "rep_bi_the = contain_the(list(set(bigrams(ner_rep_only_list)))) \n",
        "print(len(rep_bi_the))"
      ]
    },
    {
      "cell_type": "code",
      "execution_count": null,
      "metadata": {
        "id": "BnYSd2a5o2lG"
      },
      "outputs": [],
      "source": [
        "rep_bi_hashtags = rep_bi + rep_hash + rep_bi_the\n",
        "rep_uni_nonhashtags = rep_uni + rep_hash_non\n"
      ]
    },
    {
      "cell_type": "code",
      "execution_count": null,
      "metadata": {
        "colab": {
          "base_uri": "https://localhost:8080/"
        },
        "id": "kjNFi7tl_4YM",
        "outputId": "e5b052e2-ca6f-4711-f4d3-38b720aeadd6"
      },
      "outputs": [
        {
          "output_type": "stream",
          "name": "stdout",
          "text": [
            "2533\n",
            "175\n",
            "173\n"
          ]
        }
      ],
      "source": [
        "# for Democratic words/phrases\n",
        "\n",
        "ner_dem_only = ner_pos.loc[(ner_pos['dem'] == 1)]\n",
        "\n",
        "temp = ner_dem_only['text'].values.tolist()\n",
        "ner_dem_only_list = list(set(temp))\n",
        "print(len(ner_dem_only_list))\n",
        "\n",
        "# bi-grams\n",
        "dem_bi = list(set(bigrams(ner_dem_only_list)))\n",
        "\n",
        "import re\n",
        "\n",
        "to_remove = [' #', '# ', '.','\\'s', \"’s\", \" \\'\", \"\\'\", \"\\'S\", '“', '\"', '’', ' Timeline', ' Photo', 'the ', 'The ']\n",
        "\n",
        "p = re.compile('|'.join(map(re.escape, to_remove))) # escape to handle metachars\n",
        "\n",
        "dem_bi = [p.sub('', s) for s in dem_bi] # remove hashtags\n",
        "\n",
        "dem_bi = list(set(bigrams(dem_bi))) # select only bi-grams (hashtags will be added here)\n",
        "\n",
        "\n",
        "# uni-grams\n",
        "\n",
        "dem_uni = list(set(unigrams(ner_dem_only_list)))\n",
        "print(len(dem_uni))\n",
        "import re\n",
        "\n",
        "to_remove = ['#', '.', '\\'s', \"’s\", \" \\'\", \"\\'\", \"\\'S\", '“', '\"', '’']\n",
        "\n",
        "p = re.compile('|'.join(map(re.escape, to_remove))) # escape to handle metachars\n",
        "\n",
        "dem_uni = [p.sub('', s) for s in dem_uni] # remove some characters\n",
        "dem_uni = list(set(dem_uni))\n",
        "print(len(dem_uni))\n",
        "\n",
        "# hashtags\n",
        "\n",
        "import re\n",
        "\n",
        "dem_hash = list(set(hashtag(ner_dem_only_list)))\n",
        "\n",
        "to_remove = [' #', '# ', '#']\n",
        "p = re.compile('|'.join(map(re.escape, to_remove))) # escape to handle metachars\n",
        "\n",
        "dem_hash = [p.sub('', s) for s in dem_hash] # remove hashtags\n",
        "dem_hash_non = list(set(dem_hash))\n",
        "\n",
        "dem_hash = ['#' + s for s in dem_hash]\n",
        "dem_hash = list(set(dem_hash))\n",
        "\n",
        "\n",
        "# bigrams with the\n",
        "\n",
        "dem_bi_the = contain_the(list(set(bigrams(ner_dem_only_list)))) \n"
      ]
    },
    {
      "cell_type": "code",
      "execution_count": null,
      "metadata": {
        "id": "f5fOhkq8qjdy"
      },
      "outputs": [],
      "source": [
        "\n",
        "dem_bi_hashtags = dem_bi + dem_hash + dem_bi_the\n",
        "dem_uni_nonhashtags = dem_uni + dem_hash_non\n"
      ]
    },
    {
      "cell_type": "code",
      "execution_count": null,
      "metadata": {
        "id": "6VMI6eiVIfiE"
      },
      "outputs": [],
      "source": [
        "# make lowercases for matching\n",
        "\n",
        "temp_rep_lower_bi = list( set([x.lower() for x in rep_bi_hashtags] ))\n",
        "temp_dem_lower_bi = list( set([x.lower() for x in dem_bi_hashtags] ))\n",
        "\n",
        "temp_rep_lower_uni = list( set([x.lower() for x in rep_uni_nonhashtags]) )\n",
        "temp_dem_lower_uni = list( set([x.lower() for x in dem_uni_nonhashtags]) )\n",
        "\n",
        "# temp_rep_lower_bi_the = list( set([x.lower() for x in rep_bi_the] ))\n",
        "# temp_dem_lower_bi_the = list( set([x.lower() for x in dem_bi_the] ))"
      ]
    },
    {
      "cell_type": "code",
      "execution_count": null,
      "metadata": {
        "colab": {
          "base_uri": "https://localhost:8080/"
        },
        "id": "WINJl0frMJ74",
        "outputId": "c70d7ec8-82b1-4196-f8b1-c6415dbf40e2"
      },
      "outputs": [
        {
          "output_type": "stream",
          "name": "stdout",
          "text": [
            "2133\n",
            "2059\n",
            "245\n",
            "236\n"
          ]
        }
      ],
      "source": [
        "print(len(temp_rep_lower_bi))\n",
        "print(len(temp_dem_lower_bi))\n",
        "\n",
        "print(len(temp_rep_lower_uni))\n",
        "print(len(temp_dem_lower_uni))\n"
      ]
    },
    {
      "cell_type": "markdown",
      "metadata": {
        "id": "_9Zz_169Dp_M"
      },
      "source": [
        "## matching sample"
      ]
    },
    {
      "cell_type": "code",
      "source": [
        "# for entire posts\n",
        "import re\n",
        "\n",
        "def basic_sanitize(text):\n",
        "    \n",
        "    text = re.sub('’s',' s', text) #&\n",
        "    text = re.sub('\\'s',' s', text) #&\n",
        "    text = re.sub('’S',' S', text) #&\n",
        "    text = re.sub('\\'S',' S', text) #&\n",
        "\n",
        "    text = re.sub(r'[^\\w\\s#&-]','', text) #&\n",
        "    \n",
        "    return text"
      ],
      "metadata": {
        "id": "QDBrcITKsjMM"
      },
      "execution_count": 19,
      "outputs": []
    },
    {
      "cell_type": "code",
      "source": [
        "import pickle\n",
        "import pandas as pd\n",
        "ner = pd.read_excel(\"pos_bigrams_all_merged_NER5_final.xlsx\")\n",
        "pos = pd.read_excel(\"pos_both_all_no_san_c300_merge_trim.xlsx\")\n"
      ],
      "metadata": {
        "id": "c3V9-vQdwh43"
      },
      "execution_count": 20,
      "outputs": []
    },
    {
      "cell_type": "code",
      "source": [
        "ner_y = ner[ner['NER']=='Y']"
      ],
      "metadata": {
        "id": "ilXhA4baxpyg"
      },
      "execution_count": 21,
      "outputs": []
    },
    {
      "cell_type": "code",
      "source": [
        "ner_y['text_san'] = ner_y['text'].apply(basic_sanitize)"
      ],
      "metadata": {
        "colab": {
          "base_uri": "https://localhost:8080/"
        },
        "id": "UeeUIZ24xozN",
        "outputId": "0a3fd36f-871c-4ded-f053-2d5dce13b819"
      },
      "execution_count": 22,
      "outputs": [
        {
          "output_type": "stream",
          "name": "stderr",
          "text": [
            "/usr/local/lib/python3.7/dist-packages/ipykernel_launcher.py:1: SettingWithCopyWarning: \n",
            "A value is trying to be set on a copy of a slice from a DataFrame.\n",
            "Try using .loc[row_indexer,col_indexer] = value instead\n",
            "\n",
            "See the caveats in the documentation: https://pandas.pydata.org/pandas-docs/stable/user_guide/indexing.html#returning-a-view-versus-a-copy\n",
            "  \"\"\"Entry point for launching an IPython kernel.\n"
          ]
        }
      ]
    },
    {
      "cell_type": "code",
      "source": [
        "pos['text_san'] = pos['text'].apply(basic_sanitize)"
      ],
      "metadata": {
        "id": "A176M4gvw1nL"
      },
      "execution_count": 23,
      "outputs": []
    },
    {
      "cell_type": "code",
      "source": [
        "ner_y_temp = ner_y[['text','text_san', 'count_sum', 'dem', 'rep']]"
      ],
      "metadata": {
        "id": "52diqt1sx98U"
      },
      "execution_count": 34,
      "outputs": []
    },
    {
      "cell_type": "code",
      "source": [
        "ner_y[ (ner_y['dem']==1) | (ner_y['rep']==1)].sample(10)"
      ],
      "metadata": {
        "colab": {
          "base_uri": "https://localhost:8080/",
          "height": 363
        },
        "id": "GEenULm-yEBW",
        "outputId": "6fd1c07e-64e1-44fa-c50a-f97dab42ee31"
      },
      "execution_count": 24,
      "outputs": [
        {
          "output_type": "execute_result",
          "data": {
            "text/plain": [
              "          id  pos_junky               text  count_dem  count_sum  politician  \\\n",
              "67310  67351          3         Greg Kelly        NaN        NaN           0   \n",
              "28895  28909          3        JB Pritzker      548.0      875.0           1   \n",
              "72850  72895          3           TeaParty        NaN        NaN           0   \n",
              "71806  71851          3        Romney/Ryan        NaN        NaN           1   \n",
              "64148  64182          3             Barack        NaN        NaN           1   \n",
              "73099  73144          3  The Carter Center        NaN        NaN           0   \n",
              "11721  11724          3         Conor Lamb     1120.0     1370.0           1   \n",
              "49270  49289          3       Richard Neal      860.0     1066.0           1   \n",
              "50413  50432          3         Sam Clovis      362.0      420.0           1   \n",
              "65316  65351          3    ClintonScandals        NaN        NaN           1   \n",
              "\n",
              "       dem  rep  media Unnamed: 9 NER           text_san  \n",
              "67310    0    1      1       done   Y         Greg Kelly  \n",
              "28895    1    0      0       done   Y        JB Pritzker  \n",
              "72850    0    1      0       done   Y           TeaParty  \n",
              "71806    0    1      0       done   Y         RomneyRyan  \n",
              "64148    1    0      0       done   Y             Barack  \n",
              "73099    1    0      0       done   Y  The Carter Center  \n",
              "11721    1    0      0       done   Y         Conor Lamb  \n",
              "49270    1    0      0       done   Y       Richard Neal  \n",
              "50413    0    1      0       done   Y         Sam Clovis  \n",
              "65316    1    0      0       done   Y    ClintonScandals  "
            ],
            "text/html": [
              "\n",
              "  <div id=\"df-cc9fcb35-881d-435d-87d9-f936e707a51d\">\n",
              "    <div class=\"colab-df-container\">\n",
              "      <div>\n",
              "<style scoped>\n",
              "    .dataframe tbody tr th:only-of-type {\n",
              "        vertical-align: middle;\n",
              "    }\n",
              "\n",
              "    .dataframe tbody tr th {\n",
              "        vertical-align: top;\n",
              "    }\n",
              "\n",
              "    .dataframe thead th {\n",
              "        text-align: right;\n",
              "    }\n",
              "</style>\n",
              "<table border=\"1\" class=\"dataframe\">\n",
              "  <thead>\n",
              "    <tr style=\"text-align: right;\">\n",
              "      <th></th>\n",
              "      <th>id</th>\n",
              "      <th>pos_junky</th>\n",
              "      <th>text</th>\n",
              "      <th>count_dem</th>\n",
              "      <th>count_sum</th>\n",
              "      <th>politician</th>\n",
              "      <th>dem</th>\n",
              "      <th>rep</th>\n",
              "      <th>media</th>\n",
              "      <th>Unnamed: 9</th>\n",
              "      <th>NER</th>\n",
              "      <th>text_san</th>\n",
              "    </tr>\n",
              "  </thead>\n",
              "  <tbody>\n",
              "    <tr>\n",
              "      <th>67310</th>\n",
              "      <td>67351</td>\n",
              "      <td>3</td>\n",
              "      <td>Greg Kelly</td>\n",
              "      <td>NaN</td>\n",
              "      <td>NaN</td>\n",
              "      <td>0</td>\n",
              "      <td>0</td>\n",
              "      <td>1</td>\n",
              "      <td>1</td>\n",
              "      <td>done</td>\n",
              "      <td>Y</td>\n",
              "      <td>Greg Kelly</td>\n",
              "    </tr>\n",
              "    <tr>\n",
              "      <th>28895</th>\n",
              "      <td>28909</td>\n",
              "      <td>3</td>\n",
              "      <td>JB Pritzker</td>\n",
              "      <td>548.0</td>\n",
              "      <td>875.0</td>\n",
              "      <td>1</td>\n",
              "      <td>1</td>\n",
              "      <td>0</td>\n",
              "      <td>0</td>\n",
              "      <td>done</td>\n",
              "      <td>Y</td>\n",
              "      <td>JB Pritzker</td>\n",
              "    </tr>\n",
              "    <tr>\n",
              "      <th>72850</th>\n",
              "      <td>72895</td>\n",
              "      <td>3</td>\n",
              "      <td>TeaParty</td>\n",
              "      <td>NaN</td>\n",
              "      <td>NaN</td>\n",
              "      <td>0</td>\n",
              "      <td>0</td>\n",
              "      <td>1</td>\n",
              "      <td>0</td>\n",
              "      <td>done</td>\n",
              "      <td>Y</td>\n",
              "      <td>TeaParty</td>\n",
              "    </tr>\n",
              "    <tr>\n",
              "      <th>71806</th>\n",
              "      <td>71851</td>\n",
              "      <td>3</td>\n",
              "      <td>Romney/Ryan</td>\n",
              "      <td>NaN</td>\n",
              "      <td>NaN</td>\n",
              "      <td>1</td>\n",
              "      <td>0</td>\n",
              "      <td>1</td>\n",
              "      <td>0</td>\n",
              "      <td>done</td>\n",
              "      <td>Y</td>\n",
              "      <td>RomneyRyan</td>\n",
              "    </tr>\n",
              "    <tr>\n",
              "      <th>64148</th>\n",
              "      <td>64182</td>\n",
              "      <td>3</td>\n",
              "      <td>Barack</td>\n",
              "      <td>NaN</td>\n",
              "      <td>NaN</td>\n",
              "      <td>1</td>\n",
              "      <td>1</td>\n",
              "      <td>0</td>\n",
              "      <td>0</td>\n",
              "      <td>done</td>\n",
              "      <td>Y</td>\n",
              "      <td>Barack</td>\n",
              "    </tr>\n",
              "    <tr>\n",
              "      <th>73099</th>\n",
              "      <td>73144</td>\n",
              "      <td>3</td>\n",
              "      <td>The Carter Center</td>\n",
              "      <td>NaN</td>\n",
              "      <td>NaN</td>\n",
              "      <td>0</td>\n",
              "      <td>1</td>\n",
              "      <td>0</td>\n",
              "      <td>0</td>\n",
              "      <td>done</td>\n",
              "      <td>Y</td>\n",
              "      <td>The Carter Center</td>\n",
              "    </tr>\n",
              "    <tr>\n",
              "      <th>11721</th>\n",
              "      <td>11724</td>\n",
              "      <td>3</td>\n",
              "      <td>Conor Lamb</td>\n",
              "      <td>1120.0</td>\n",
              "      <td>1370.0</td>\n",
              "      <td>1</td>\n",
              "      <td>1</td>\n",
              "      <td>0</td>\n",
              "      <td>0</td>\n",
              "      <td>done</td>\n",
              "      <td>Y</td>\n",
              "      <td>Conor Lamb</td>\n",
              "    </tr>\n",
              "    <tr>\n",
              "      <th>49270</th>\n",
              "      <td>49289</td>\n",
              "      <td>3</td>\n",
              "      <td>Richard Neal</td>\n",
              "      <td>860.0</td>\n",
              "      <td>1066.0</td>\n",
              "      <td>1</td>\n",
              "      <td>1</td>\n",
              "      <td>0</td>\n",
              "      <td>0</td>\n",
              "      <td>done</td>\n",
              "      <td>Y</td>\n",
              "      <td>Richard Neal</td>\n",
              "    </tr>\n",
              "    <tr>\n",
              "      <th>50413</th>\n",
              "      <td>50432</td>\n",
              "      <td>3</td>\n",
              "      <td>Sam Clovis</td>\n",
              "      <td>362.0</td>\n",
              "      <td>420.0</td>\n",
              "      <td>1</td>\n",
              "      <td>0</td>\n",
              "      <td>1</td>\n",
              "      <td>0</td>\n",
              "      <td>done</td>\n",
              "      <td>Y</td>\n",
              "      <td>Sam Clovis</td>\n",
              "    </tr>\n",
              "    <tr>\n",
              "      <th>65316</th>\n",
              "      <td>65351</td>\n",
              "      <td>3</td>\n",
              "      <td>ClintonScandals</td>\n",
              "      <td>NaN</td>\n",
              "      <td>NaN</td>\n",
              "      <td>1</td>\n",
              "      <td>1</td>\n",
              "      <td>0</td>\n",
              "      <td>0</td>\n",
              "      <td>done</td>\n",
              "      <td>Y</td>\n",
              "      <td>ClintonScandals</td>\n",
              "    </tr>\n",
              "  </tbody>\n",
              "</table>\n",
              "</div>\n",
              "      <button class=\"colab-df-convert\" onclick=\"convertToInteractive('df-cc9fcb35-881d-435d-87d9-f936e707a51d')\"\n",
              "              title=\"Convert this dataframe to an interactive table.\"\n",
              "              style=\"display:none;\">\n",
              "        \n",
              "  <svg xmlns=\"http://www.w3.org/2000/svg\" height=\"24px\"viewBox=\"0 0 24 24\"\n",
              "       width=\"24px\">\n",
              "    <path d=\"M0 0h24v24H0V0z\" fill=\"none\"/>\n",
              "    <path d=\"M18.56 5.44l.94 2.06.94-2.06 2.06-.94-2.06-.94-.94-2.06-.94 2.06-2.06.94zm-11 1L8.5 8.5l.94-2.06 2.06-.94-2.06-.94L8.5 2.5l-.94 2.06-2.06.94zm10 10l.94 2.06.94-2.06 2.06-.94-2.06-.94-.94-2.06-.94 2.06-2.06.94z\"/><path d=\"M17.41 7.96l-1.37-1.37c-.4-.4-.92-.59-1.43-.59-.52 0-1.04.2-1.43.59L10.3 9.45l-7.72 7.72c-.78.78-.78 2.05 0 2.83L4 21.41c.39.39.9.59 1.41.59.51 0 1.02-.2 1.41-.59l7.78-7.78 2.81-2.81c.8-.78.8-2.07 0-2.86zM5.41 20L4 18.59l7.72-7.72 1.47 1.35L5.41 20z\"/>\n",
              "  </svg>\n",
              "      </button>\n",
              "      \n",
              "  <style>\n",
              "    .colab-df-container {\n",
              "      display:flex;\n",
              "      flex-wrap:wrap;\n",
              "      gap: 12px;\n",
              "    }\n",
              "\n",
              "    .colab-df-convert {\n",
              "      background-color: #E8F0FE;\n",
              "      border: none;\n",
              "      border-radius: 50%;\n",
              "      cursor: pointer;\n",
              "      display: none;\n",
              "      fill: #1967D2;\n",
              "      height: 32px;\n",
              "      padding: 0 0 0 0;\n",
              "      width: 32px;\n",
              "    }\n",
              "\n",
              "    .colab-df-convert:hover {\n",
              "      background-color: #E2EBFA;\n",
              "      box-shadow: 0px 1px 2px rgba(60, 64, 67, 0.3), 0px 1px 3px 1px rgba(60, 64, 67, 0.15);\n",
              "      fill: #174EA6;\n",
              "    }\n",
              "\n",
              "    [theme=dark] .colab-df-convert {\n",
              "      background-color: #3B4455;\n",
              "      fill: #D2E3FC;\n",
              "    }\n",
              "\n",
              "    [theme=dark] .colab-df-convert:hover {\n",
              "      background-color: #434B5C;\n",
              "      box-shadow: 0px 1px 3px 1px rgba(0, 0, 0, 0.15);\n",
              "      filter: drop-shadow(0px 1px 2px rgba(0, 0, 0, 0.3));\n",
              "      fill: #FFFFFF;\n",
              "    }\n",
              "  </style>\n",
              "\n",
              "      <script>\n",
              "        const buttonEl =\n",
              "          document.querySelector('#df-cc9fcb35-881d-435d-87d9-f936e707a51d button.colab-df-convert');\n",
              "        buttonEl.style.display =\n",
              "          google.colab.kernel.accessAllowed ? 'block' : 'none';\n",
              "\n",
              "        async function convertToInteractive(key) {\n",
              "          const element = document.querySelector('#df-cc9fcb35-881d-435d-87d9-f936e707a51d');\n",
              "          const dataTable =\n",
              "            await google.colab.kernel.invokeFunction('convertToInteractive',\n",
              "                                                     [key], {});\n",
              "          if (!dataTable) return;\n",
              "\n",
              "          const docLinkHtml = 'Like what you see? Visit the ' +\n",
              "            '<a target=\"_blank\" href=https://colab.research.google.com/notebooks/data_table.ipynb>data table notebook</a>'\n",
              "            + ' to learn more about interactive tables.';\n",
              "          element.innerHTML = '';\n",
              "          dataTable['output_type'] = 'display_data';\n",
              "          await google.colab.output.renderOutput(dataTable, element);\n",
              "          const docLink = document.createElement('div');\n",
              "          docLink.innerHTML = docLinkHtml;\n",
              "          element.appendChild(docLink);\n",
              "        }\n",
              "      </script>\n",
              "    </div>\n",
              "  </div>\n",
              "  "
            ]
          },
          "metadata": {},
          "execution_count": 24
        }
      ]
    },
    {
      "cell_type": "code",
      "source": [
        "pos_y_temp = pos[['text','text_san', 'count_sum', 'dem', 'rep']]"
      ],
      "metadata": {
        "id": "RQWaGh4nyPWC"
      },
      "execution_count": 35,
      "outputs": []
    },
    {
      "cell_type": "code",
      "source": [
        "pos[ (pos['dem']==1) | (pos['rep']==1)].sample(2)"
      ],
      "metadata": {
        "colab": {
          "base_uri": "https://localhost:8080/",
          "height": 112
        },
        "id": "NbgiWqWr0BFK",
        "outputId": "c117450f-2bd0-439b-ac4b-1ef1c962feed"
      },
      "execution_count": 25,
      "outputs": [
        {
          "output_type": "execute_result",
          "data": {
            "text/plain": [
              "       Unnamed: 0  Unnamed: 0.1          text     text_san  check  rep  dem  \\\n",
              "64792       59987       6076920  Sen. Kyrsten  Sen Kyrsten      1    0    1   \n",
              "72624       66006       6690443   Tom Bossert  Tom Bossert      1    1    0   \n",
              "\n",
              "       count_sum    type  count_sum_clean  \n",
              "64792        306  bigram            306.0  \n",
              "72624        313  bigram            316.0  "
            ],
            "text/html": [
              "\n",
              "  <div id=\"df-438989c8-8acf-410c-9dcc-3ac7acb01b42\">\n",
              "    <div class=\"colab-df-container\">\n",
              "      <div>\n",
              "<style scoped>\n",
              "    .dataframe tbody tr th:only-of-type {\n",
              "        vertical-align: middle;\n",
              "    }\n",
              "\n",
              "    .dataframe tbody tr th {\n",
              "        vertical-align: top;\n",
              "    }\n",
              "\n",
              "    .dataframe thead th {\n",
              "        text-align: right;\n",
              "    }\n",
              "</style>\n",
              "<table border=\"1\" class=\"dataframe\">\n",
              "  <thead>\n",
              "    <tr style=\"text-align: right;\">\n",
              "      <th></th>\n",
              "      <th>Unnamed: 0</th>\n",
              "      <th>Unnamed: 0.1</th>\n",
              "      <th>text</th>\n",
              "      <th>text_san</th>\n",
              "      <th>check</th>\n",
              "      <th>rep</th>\n",
              "      <th>dem</th>\n",
              "      <th>count_sum</th>\n",
              "      <th>type</th>\n",
              "      <th>count_sum_clean</th>\n",
              "    </tr>\n",
              "  </thead>\n",
              "  <tbody>\n",
              "    <tr>\n",
              "      <th>64792</th>\n",
              "      <td>59987</td>\n",
              "      <td>6076920</td>\n",
              "      <td>Sen. Kyrsten</td>\n",
              "      <td>Sen Kyrsten</td>\n",
              "      <td>1</td>\n",
              "      <td>0</td>\n",
              "      <td>1</td>\n",
              "      <td>306</td>\n",
              "      <td>bigram</td>\n",
              "      <td>306.0</td>\n",
              "    </tr>\n",
              "    <tr>\n",
              "      <th>72624</th>\n",
              "      <td>66006</td>\n",
              "      <td>6690443</td>\n",
              "      <td>Tom Bossert</td>\n",
              "      <td>Tom Bossert</td>\n",
              "      <td>1</td>\n",
              "      <td>1</td>\n",
              "      <td>0</td>\n",
              "      <td>313</td>\n",
              "      <td>bigram</td>\n",
              "      <td>316.0</td>\n",
              "    </tr>\n",
              "  </tbody>\n",
              "</table>\n",
              "</div>\n",
              "      <button class=\"colab-df-convert\" onclick=\"convertToInteractive('df-438989c8-8acf-410c-9dcc-3ac7acb01b42')\"\n",
              "              title=\"Convert this dataframe to an interactive table.\"\n",
              "              style=\"display:none;\">\n",
              "        \n",
              "  <svg xmlns=\"http://www.w3.org/2000/svg\" height=\"24px\"viewBox=\"0 0 24 24\"\n",
              "       width=\"24px\">\n",
              "    <path d=\"M0 0h24v24H0V0z\" fill=\"none\"/>\n",
              "    <path d=\"M18.56 5.44l.94 2.06.94-2.06 2.06-.94-2.06-.94-.94-2.06-.94 2.06-2.06.94zm-11 1L8.5 8.5l.94-2.06 2.06-.94-2.06-.94L8.5 2.5l-.94 2.06-2.06.94zm10 10l.94 2.06.94-2.06 2.06-.94-2.06-.94-.94-2.06-.94 2.06-2.06.94z\"/><path d=\"M17.41 7.96l-1.37-1.37c-.4-.4-.92-.59-1.43-.59-.52 0-1.04.2-1.43.59L10.3 9.45l-7.72 7.72c-.78.78-.78 2.05 0 2.83L4 21.41c.39.39.9.59 1.41.59.51 0 1.02-.2 1.41-.59l7.78-7.78 2.81-2.81c.8-.78.8-2.07 0-2.86zM5.41 20L4 18.59l7.72-7.72 1.47 1.35L5.41 20z\"/>\n",
              "  </svg>\n",
              "      </button>\n",
              "      \n",
              "  <style>\n",
              "    .colab-df-container {\n",
              "      display:flex;\n",
              "      flex-wrap:wrap;\n",
              "      gap: 12px;\n",
              "    }\n",
              "\n",
              "    .colab-df-convert {\n",
              "      background-color: #E8F0FE;\n",
              "      border: none;\n",
              "      border-radius: 50%;\n",
              "      cursor: pointer;\n",
              "      display: none;\n",
              "      fill: #1967D2;\n",
              "      height: 32px;\n",
              "      padding: 0 0 0 0;\n",
              "      width: 32px;\n",
              "    }\n",
              "\n",
              "    .colab-df-convert:hover {\n",
              "      background-color: #E2EBFA;\n",
              "      box-shadow: 0px 1px 2px rgba(60, 64, 67, 0.3), 0px 1px 3px 1px rgba(60, 64, 67, 0.15);\n",
              "      fill: #174EA6;\n",
              "    }\n",
              "\n",
              "    [theme=dark] .colab-df-convert {\n",
              "      background-color: #3B4455;\n",
              "      fill: #D2E3FC;\n",
              "    }\n",
              "\n",
              "    [theme=dark] .colab-df-convert:hover {\n",
              "      background-color: #434B5C;\n",
              "      box-shadow: 0px 1px 3px 1px rgba(0, 0, 0, 0.15);\n",
              "      filter: drop-shadow(0px 1px 2px rgba(0, 0, 0, 0.3));\n",
              "      fill: #FFFFFF;\n",
              "    }\n",
              "  </style>\n",
              "\n",
              "      <script>\n",
              "        const buttonEl =\n",
              "          document.querySelector('#df-438989c8-8acf-410c-9dcc-3ac7acb01b42 button.colab-df-convert');\n",
              "        buttonEl.style.display =\n",
              "          google.colab.kernel.accessAllowed ? 'block' : 'none';\n",
              "\n",
              "        async function convertToInteractive(key) {\n",
              "          const element = document.querySelector('#df-438989c8-8acf-410c-9dcc-3ac7acb01b42');\n",
              "          const dataTable =\n",
              "            await google.colab.kernel.invokeFunction('convertToInteractive',\n",
              "                                                     [key], {});\n",
              "          if (!dataTable) return;\n",
              "\n",
              "          const docLinkHtml = 'Like what you see? Visit the ' +\n",
              "            '<a target=\"_blank\" href=https://colab.research.google.com/notebooks/data_table.ipynb>data table notebook</a>'\n",
              "            + ' to learn more about interactive tables.';\n",
              "          element.innerHTML = '';\n",
              "          dataTable['output_type'] = 'display_data';\n",
              "          await google.colab.output.renderOutput(dataTable, element);\n",
              "          const docLink = document.createElement('div');\n",
              "          docLink.innerHTML = docLinkHtml;\n",
              "          element.appendChild(docLink);\n",
              "        }\n",
              "      </script>\n",
              "    </div>\n",
              "  </div>\n",
              "  "
            ]
          },
          "metadata": {},
          "execution_count": 25
        }
      ]
    },
    {
      "cell_type": "code",
      "source": [
        "all_temp = pd.concat([pos_y_temp, ner_y_temp ])"
      ],
      "metadata": {
        "id": "7K71oATnyWM7"
      },
      "execution_count": 45,
      "outputs": []
    },
    {
      "cell_type": "code",
      "source": [
        "all_temp_dem = all_temp[ (all_temp['dem'] >=1) ]\n",
        "all_temp_rep = all_temp[ (all_temp['rep'] >=1) ]"
      ],
      "metadata": {
        "id": "H89dKoy4yain"
      },
      "execution_count": 51,
      "outputs": []
    },
    {
      "cell_type": "code",
      "source": [
        "all_temp_dem = all_temp_dem.drop_duplicates(subset='text_san', keep=\"last\")\n",
        "all_temp_rep = all_temp_rep.drop_duplicates(subset='text_san', keep=\"last\")"
      ],
      "metadata": {
        "id": "QTC7f7jT5ST4"
      },
      "execution_count": 57,
      "outputs": []
    },
    {
      "cell_type": "code",
      "source": [
        "all_temp_dem"
      ],
      "metadata": {
        "id": "kJYg8OD47tYF",
        "outputId": "0383cba6-c859-47bd-e0e1-27548645475b",
        "colab": {
          "base_uri": "https://localhost:8080/",
          "height": 424
        }
      },
      "execution_count": 60,
      "outputs": [
        {
          "output_type": "execute_result",
          "data": {
            "text/plain": [
              "                       text             text_san  count_sum  dem  rep\n",
              "4          @AdamParkhomenko      AdamParkhomenko      343.0    1    0\n",
              "5            @Alyssa_Milano        Alyssa_Milano      375.0    1    0\n",
              "20             @brianschatz          brianschatz      341.0    1    0\n",
              "31                @CoriBush             CoriBush      327.0    1    0\n",
              "40              @donwinslow           donwinslow      305.0    1    0\n",
              "...                     ...                  ...        ...  ...  ...\n",
              "75440               Whitmer              Whitmer        NaN    1    0\n",
              "75486  William J. Barber II  William J Barber II        NaN    1    0\n",
              "75487     William Lacy Clay    William Lacy Clay        NaN    1    0\n",
              "75495          Willie Brown         Willie Brown        NaN    1    0\n",
              "75545        WomenForBernie       WomenForBernie        NaN    1    0\n",
              "\n",
              "[3116 rows x 5 columns]"
            ],
            "text/html": [
              "\n",
              "  <div id=\"df-e51655e8-b83e-4909-a20a-0e5f42b5b942\">\n",
              "    <div class=\"colab-df-container\">\n",
              "      <div>\n",
              "<style scoped>\n",
              "    .dataframe tbody tr th:only-of-type {\n",
              "        vertical-align: middle;\n",
              "    }\n",
              "\n",
              "    .dataframe tbody tr th {\n",
              "        vertical-align: top;\n",
              "    }\n",
              "\n",
              "    .dataframe thead th {\n",
              "        text-align: right;\n",
              "    }\n",
              "</style>\n",
              "<table border=\"1\" class=\"dataframe\">\n",
              "  <thead>\n",
              "    <tr style=\"text-align: right;\">\n",
              "      <th></th>\n",
              "      <th>text</th>\n",
              "      <th>text_san</th>\n",
              "      <th>count_sum</th>\n",
              "      <th>dem</th>\n",
              "      <th>rep</th>\n",
              "    </tr>\n",
              "  </thead>\n",
              "  <tbody>\n",
              "    <tr>\n",
              "      <th>4</th>\n",
              "      <td>@AdamParkhomenko</td>\n",
              "      <td>AdamParkhomenko</td>\n",
              "      <td>343.0</td>\n",
              "      <td>1</td>\n",
              "      <td>0</td>\n",
              "    </tr>\n",
              "    <tr>\n",
              "      <th>5</th>\n",
              "      <td>@Alyssa_Milano</td>\n",
              "      <td>Alyssa_Milano</td>\n",
              "      <td>375.0</td>\n",
              "      <td>1</td>\n",
              "      <td>0</td>\n",
              "    </tr>\n",
              "    <tr>\n",
              "      <th>20</th>\n",
              "      <td>@brianschatz</td>\n",
              "      <td>brianschatz</td>\n",
              "      <td>341.0</td>\n",
              "      <td>1</td>\n",
              "      <td>0</td>\n",
              "    </tr>\n",
              "    <tr>\n",
              "      <th>31</th>\n",
              "      <td>@CoriBush</td>\n",
              "      <td>CoriBush</td>\n",
              "      <td>327.0</td>\n",
              "      <td>1</td>\n",
              "      <td>0</td>\n",
              "    </tr>\n",
              "    <tr>\n",
              "      <th>40</th>\n",
              "      <td>@donwinslow</td>\n",
              "      <td>donwinslow</td>\n",
              "      <td>305.0</td>\n",
              "      <td>1</td>\n",
              "      <td>0</td>\n",
              "    </tr>\n",
              "    <tr>\n",
              "      <th>...</th>\n",
              "      <td>...</td>\n",
              "      <td>...</td>\n",
              "      <td>...</td>\n",
              "      <td>...</td>\n",
              "      <td>...</td>\n",
              "    </tr>\n",
              "    <tr>\n",
              "      <th>75440</th>\n",
              "      <td>Whitmer</td>\n",
              "      <td>Whitmer</td>\n",
              "      <td>NaN</td>\n",
              "      <td>1</td>\n",
              "      <td>0</td>\n",
              "    </tr>\n",
              "    <tr>\n",
              "      <th>75486</th>\n",
              "      <td>William J. Barber II</td>\n",
              "      <td>William J Barber II</td>\n",
              "      <td>NaN</td>\n",
              "      <td>1</td>\n",
              "      <td>0</td>\n",
              "    </tr>\n",
              "    <tr>\n",
              "      <th>75487</th>\n",
              "      <td>William Lacy Clay</td>\n",
              "      <td>William Lacy Clay</td>\n",
              "      <td>NaN</td>\n",
              "      <td>1</td>\n",
              "      <td>0</td>\n",
              "    </tr>\n",
              "    <tr>\n",
              "      <th>75495</th>\n",
              "      <td>Willie Brown</td>\n",
              "      <td>Willie Brown</td>\n",
              "      <td>NaN</td>\n",
              "      <td>1</td>\n",
              "      <td>0</td>\n",
              "    </tr>\n",
              "    <tr>\n",
              "      <th>75545</th>\n",
              "      <td>WomenForBernie</td>\n",
              "      <td>WomenForBernie</td>\n",
              "      <td>NaN</td>\n",
              "      <td>1</td>\n",
              "      <td>0</td>\n",
              "    </tr>\n",
              "  </tbody>\n",
              "</table>\n",
              "<p>3116 rows × 5 columns</p>\n",
              "</div>\n",
              "      <button class=\"colab-df-convert\" onclick=\"convertToInteractive('df-e51655e8-b83e-4909-a20a-0e5f42b5b942')\"\n",
              "              title=\"Convert this dataframe to an interactive table.\"\n",
              "              style=\"display:none;\">\n",
              "        \n",
              "  <svg xmlns=\"http://www.w3.org/2000/svg\" height=\"24px\"viewBox=\"0 0 24 24\"\n",
              "       width=\"24px\">\n",
              "    <path d=\"M0 0h24v24H0V0z\" fill=\"none\"/>\n",
              "    <path d=\"M18.56 5.44l.94 2.06.94-2.06 2.06-.94-2.06-.94-.94-2.06-.94 2.06-2.06.94zm-11 1L8.5 8.5l.94-2.06 2.06-.94-2.06-.94L8.5 2.5l-.94 2.06-2.06.94zm10 10l.94 2.06.94-2.06 2.06-.94-2.06-.94-.94-2.06-.94 2.06-2.06.94z\"/><path d=\"M17.41 7.96l-1.37-1.37c-.4-.4-.92-.59-1.43-.59-.52 0-1.04.2-1.43.59L10.3 9.45l-7.72 7.72c-.78.78-.78 2.05 0 2.83L4 21.41c.39.39.9.59 1.41.59.51 0 1.02-.2 1.41-.59l7.78-7.78 2.81-2.81c.8-.78.8-2.07 0-2.86zM5.41 20L4 18.59l7.72-7.72 1.47 1.35L5.41 20z\"/>\n",
              "  </svg>\n",
              "      </button>\n",
              "      \n",
              "  <style>\n",
              "    .colab-df-container {\n",
              "      display:flex;\n",
              "      flex-wrap:wrap;\n",
              "      gap: 12px;\n",
              "    }\n",
              "\n",
              "    .colab-df-convert {\n",
              "      background-color: #E8F0FE;\n",
              "      border: none;\n",
              "      border-radius: 50%;\n",
              "      cursor: pointer;\n",
              "      display: none;\n",
              "      fill: #1967D2;\n",
              "      height: 32px;\n",
              "      padding: 0 0 0 0;\n",
              "      width: 32px;\n",
              "    }\n",
              "\n",
              "    .colab-df-convert:hover {\n",
              "      background-color: #E2EBFA;\n",
              "      box-shadow: 0px 1px 2px rgba(60, 64, 67, 0.3), 0px 1px 3px 1px rgba(60, 64, 67, 0.15);\n",
              "      fill: #174EA6;\n",
              "    }\n",
              "\n",
              "    [theme=dark] .colab-df-convert {\n",
              "      background-color: #3B4455;\n",
              "      fill: #D2E3FC;\n",
              "    }\n",
              "\n",
              "    [theme=dark] .colab-df-convert:hover {\n",
              "      background-color: #434B5C;\n",
              "      box-shadow: 0px 1px 3px 1px rgba(0, 0, 0, 0.15);\n",
              "      filter: drop-shadow(0px 1px 2px rgba(0, 0, 0, 0.3));\n",
              "      fill: #FFFFFF;\n",
              "    }\n",
              "  </style>\n",
              "\n",
              "      <script>\n",
              "        const buttonEl =\n",
              "          document.querySelector('#df-e51655e8-b83e-4909-a20a-0e5f42b5b942 button.colab-df-convert');\n",
              "        buttonEl.style.display =\n",
              "          google.colab.kernel.accessAllowed ? 'block' : 'none';\n",
              "\n",
              "        async function convertToInteractive(key) {\n",
              "          const element = document.querySelector('#df-e51655e8-b83e-4909-a20a-0e5f42b5b942');\n",
              "          const dataTable =\n",
              "            await google.colab.kernel.invokeFunction('convertToInteractive',\n",
              "                                                     [key], {});\n",
              "          if (!dataTable) return;\n",
              "\n",
              "          const docLinkHtml = 'Like what you see? Visit the ' +\n",
              "            '<a target=\"_blank\" href=https://colab.research.google.com/notebooks/data_table.ipynb>data table notebook</a>'\n",
              "            + ' to learn more about interactive tables.';\n",
              "          element.innerHTML = '';\n",
              "          dataTable['output_type'] = 'display_data';\n",
              "          await google.colab.output.renderOutput(dataTable, element);\n",
              "          const docLink = document.createElement('div');\n",
              "          docLink.innerHTML = docLinkHtml;\n",
              "          element.appendChild(docLink);\n",
              "        }\n",
              "      </script>\n",
              "    </div>\n",
              "  </div>\n",
              "  "
            ]
          },
          "metadata": {},
          "execution_count": 60
        }
      ]
    },
    {
      "cell_type": "code",
      "source": [
        "len(all_temp_rep)"
      ],
      "metadata": {
        "id": "RMtzf8ty5Tdj",
        "outputId": "e95a46c0-95a0-4777-bb6e-136afa2c1c50",
        "colab": {
          "base_uri": "https://localhost:8080/"
        }
      },
      "execution_count": 56,
      "outputs": [
        {
          "output_type": "execute_result",
          "data": {
            "text/plain": [
              "3703"
            ]
          },
          "metadata": {},
          "execution_count": 56
        }
      ]
    },
    {
      "cell_type": "code",
      "source": [
        "all_temp2_dem = all_temp2[all_temp2]"
      ],
      "metadata": {
        "id": "P4B2tSKu4kFH"
      },
      "execution_count": null,
      "outputs": []
    },
    {
      "cell_type": "code",
      "source": [
        "all_temp2 = all_temp2.drop_duplicates()"
      ],
      "metadata": {
        "id": "gc4ux69w3eq5"
      },
      "execution_count": 42,
      "outputs": []
    },
    {
      "cell_type": "code",
      "source": [
        "all_temp2.to_excel('all_temp2.xlsx')"
      ],
      "metadata": {
        "id": "I80ZE5EK2yHO"
      },
      "execution_count": 44,
      "outputs": []
    },
    {
      "cell_type": "code",
      "source": [
        "len(list(set(all_temp2.text_san.values.tolist())))"
      ],
      "metadata": {
        "id": "rItIpiii2Qso",
        "outputId": "a3a8a1d2-5dfb-4c2e-93b6-3ff112372787",
        "colab": {
          "base_uri": "https://localhost:8080/"
        }
      },
      "execution_count": 41,
      "outputs": [
        {
          "output_type": "execute_result",
          "data": {
            "text/plain": [
              "5472"
            ]
          },
          "metadata": {},
          "execution_count": 41
        }
      ]
    },
    {
      "cell_type": "code",
      "source": [
        "# # for hashtags \n",
        "# import re\n",
        "\n",
        "# def hash_sanitize(text):\n",
        "#   if re.search(r'#', text):\n",
        "#     to_remove = [' #', '# ', '#']\n",
        "#     p = re.compile('|'.join(map(re.escape, to_remove)))\n",
        "#     text = '#' + text\n",
        "    \n",
        "#     return text\n",
        "\n",
        "\n",
        "# to_remove = [' #', '# ', '#']\n",
        "# p = re.compile('|'.join(map(re.escape, to_remove))) # escape to handle metachars\n",
        "\n",
        "# dem_hash = [p.sub('', s) for s in dem_hash] # remove hashtags\n",
        "# dem_hash_non = list(set(dem_hash))\n",
        "\n",
        "# dem_hash = ['#' + s for s in dem_hash]\n",
        "# dem_hash = list(set(dem_hash))\n",
        "\n",
        "# print(len(dem_hash))\n",
        "# print(len(dem_hash_non))"
      ],
      "metadata": {
        "id": "tt5v51ooyoaM"
      },
      "execution_count": null,
      "outputs": []
    },
    {
      "cell_type": "code",
      "source": [
        "import re\n",
        "\n",
        "def bigrams(s): # more than bigrams\n",
        "    return [i for i in s if re.search(r'\\s', i) ] \n",
        "def unigrams(s):\n",
        "    return [i for i in s if not re.search(r'\\s', i) ]\n",
        "def hashtag(s):\n",
        "    return [i for i in s if re.search(r'#', i) ]\n"
      ],
      "metadata": {
        "id": "i1Pe6ulHzieq"
      },
      "execution_count": 26,
      "outputs": []
    },
    {
      "cell_type": "code",
      "source": [
        "# ner\n",
        "\n",
        "ner_dem_only = ner_y.loc[(ner_y['dem'] >= 1)]\n",
        "\n",
        "temp = ner_dem_only['text_san'].values.tolist()\n",
        "#temp = ner_dem_only['text'].values.tolist()\n",
        "ner_dem_only_list = list(set(temp))\n",
        "print(len(ner_dem_only_list))\n",
        "\n",
        "dem_bi_ner = list(set(bigrams(ner_dem_only_list)))\n",
        "print(len(dem_bi_ner))\n",
        "\n",
        "dem_uni_ner = list(set(unigrams(ner_dem_only_list)))\n",
        "print(len(dem_uni_ner))\n",
        "\n",
        "## pos\n",
        "pos_dem_only = pos.loc[(pos['dem'] >= 1)]\n",
        "\n",
        "temp = pos_dem_only['text_san'].values.tolist()\n",
        "#temp = pos_dem_only['text'].values.tolist()\n",
        "pos_dem_only_list = list(set(temp))\n",
        "print(len(pos_dem_only_list))\n",
        "\n",
        "dem_bi_pos = list(set(bigrams(pos_dem_only_list)))\n",
        "print(len(dem_bi_pos))\n",
        "\n",
        "dem_uni_pos = list(set(unigrams(pos_dem_only_list)))\n",
        "print(len(dem_uni_pos))\n",
        "\n"
      ],
      "metadata": {
        "colab": {
          "base_uri": "https://localhost:8080/"
        },
        "id": "eXQWZTxazjMy",
        "outputId": "c8077417-673d-4361-b7bb-423d36ba49fd"
      },
      "execution_count": 27,
      "outputs": [
        {
          "output_type": "stream",
          "name": "stdout",
          "text": [
            "1439\n",
            "1277\n",
            "162\n",
            "2477\n",
            "2147\n",
            "330\n"
          ]
        }
      ]
    },
    {
      "cell_type": "code",
      "source": [
        "\n",
        "\n",
        "# hash - ner\n",
        "import re\n",
        "\n",
        "dem_hash = list(set(hashtag(ner_dem_only_list + pos_dem_only_list)))\n"
      ],
      "metadata": {
        "id": "lOC5E90IxCxT"
      },
      "execution_count": 28,
      "outputs": []
    },
    {
      "cell_type": "code",
      "source": [
        "dem_hash[1:3]"
      ],
      "metadata": {
        "id": "p6x5XJPoxH9C",
        "outputId": "ac93471c-cd1b-47d6-f3b6-788edc1f7221",
        "colab": {
          "base_uri": "https://localhost:8080/"
        }
      },
      "execution_count": 30,
      "outputs": [
        {
          "output_type": "execute_result",
          "data": {
            "text/plain": [
              "['# AOC', '# Democrat']"
            ]
          },
          "metadata": {},
          "execution_count": 30
        }
      ]
    },
    {
      "cell_type": "code",
      "source": [
        "\n",
        "to_remove = [' #', '# ', '#']\n",
        "p = re.compile('|'.join(map(re.escape, to_remove))) # escape to handle metachars\n",
        "\n",
        "dem_hash = [p.sub('', s) for s in dem_hash] # remove hashtags\n",
        "dem_hash_non = list(set(dem_hash))\n",
        "\n",
        "dem_hash = ['#' + s for s in dem_hash]\n",
        "dem_hash = list(set(dem_hash))\n",
        "\n",
        "print(len(dem_hash))\n",
        "print(len(dem_hash_non))"
      ],
      "metadata": {
        "id": "D4ffGL6BxHVU",
        "outputId": "efa5ba83-dde0-4b20-f090-ce9a7826c725",
        "colab": {
          "base_uri": "https://localhost:8080/"
        }
      },
      "execution_count": 31,
      "outputs": [
        {
          "output_type": "stream",
          "name": "stdout",
          "text": [
            "75\n",
            "75\n"
          ]
        }
      ]
    },
    {
      "cell_type": "code",
      "source": [
        "print(dem_hash_non)\n"
      ],
      "metadata": {
        "id": "Z_rZt8lRxu5A",
        "outputId": "09bb98dd-7dce-4675-d4d7-8c6d89d1be4b",
        "colab": {
          "base_uri": "https://localhost:8080/"
        }
      },
      "execution_count": 33,
      "outputs": [
        {
          "output_type": "stream",
          "name": "stdout",
          "text": [
            "['StillSanders', 'NeverHillary', 'WhichHillary', 'FeelTheBern', 'BernieOrBust', 'Bernie2016', 'OurRevolution', 'BernieSanders', 'AOC', 'Bernie2020', 'VoteBlueNoMatterWho', 'democrats', 'Labor4Bernie', 'Clinton', 'Sanders2016', 'neverhillary', 'bernieorbust', 'Liberal', 'HillaryForPrison', 'StrongerTogether', 'cnn', 'SocialismSucks', 'ThanksObama', 'Antifa', 'obama', 'CrookedHillary', 'DemDebate', 'DemConvention', 'Progressives', 'Hillary', 'socialists', 'ObamaGate', 'NEVERHILLARY', 'BidenHarris', 'BernieSanders2020', 'PresidentTrump', 'DemExit', 'Obamacare', 'draintheswamp', 'JoeBiden', 'ACA', 'BidenHarris2020', 'Sanders', 'FEELTHEBERN', 'Biden2020', 'Hillary2016', 'DrainTheSwamp', 'ImWithHer', 'DNC', 'socialism', 'uniteblue', 'Obamagate', 'feelthebern', 'Bernie', 'Democrats', 'democrat', 'Democrat', 'Women4Bernie', 'Obama', 'BernieorBust', 'CNN', 'voteblue', 'BarackObama', 'FeeltheBern', 'berniesanders', 'UniteBlue', 'Biden', 'VivaBernie', 'Socialism', 'HillaryClinton', 'OBAMAGATE', 'BrandNewCongress', 'Progressive', 'VoteBlue', 'NeverBiden']\n"
          ]
        }
      ]
    },
    {
      "cell_type": "code",
      "source": [
        "print(dem_hash)\n"
      ],
      "metadata": {
        "id": "WN7bgll7xZoH",
        "outputId": "638fff06-6b02-4ad2-bde7-a94a883103a5",
        "colab": {
          "base_uri": "https://localhost:8080/"
        }
      },
      "execution_count": 32,
      "outputs": [
        {
          "output_type": "stream",
          "name": "stdout",
          "text": [
            "['#berniesanders', '#BrandNewCongress', '#FeelTheBern', '#Democrat', '#bernieorbust', '#BernieOrBust', '#Sanders', '#FeeltheBern', '#Clinton', '#JoeBiden', '#VoteBlueNoMatterWho', '#BidenHarris2020', '#UniteBlue', '#Bernie2020', '#Hillary', '#Biden2020', '#Obamagate', '#uniteblue', '#NEVERHILLARY', '#Labor4Bernie', '#BidenHarris', '#OurRevolution', '#DNC', '#voteblue', '#BarackObama', '#obama', '#socialists', '#Women4Bernie', '#ObamaGate', '#draintheswamp', '#ImWithHer', '#democrat', '#neverhillary', '#SocialismSucks', '#VivaBernie', '#DemExit', '#HillaryClinton', '#Biden', '#BernieorBust', '#BernieSanders2020', '#StrongerTogether', '#Progressives', '#feelthebern', '#Democrats', '#WhichHillary', '#cnn', '#NeverBiden', '#AOC', '#Bernie', '#FEELTHEBERN', '#BernieSanders', '#HillaryForPrison', '#CrookedHillary', '#NeverHillary', '#PresidentTrump', '#VoteBlue', '#Obama', '#Socialism', '#Hillary2016', '#OBAMAGATE', '#Sanders2016', '#socialism', '#DrainTheSwamp', '#CNN', '#DemDebate', '#StillSanders', '#Liberal', '#Obamacare', '#DemConvention', '#Bernie2016', '#Progressive', '#ACA', '#ThanksObama', '#democrats', '#Antifa']\n"
          ]
        }
      ]
    },
    {
      "cell_type": "code",
      "source": [
        "# ner\n",
        "\n",
        "ner_rep_only = ner_y.loc[(ner_y['rep'] >= 1)]\n",
        "\n",
        "#temp = ner_rep_only['text_san'].values.tolist()\n",
        "temp = ner_rep_only['text'].values.tolist()\n",
        "ner_rep_only_list = list(set(temp))\n",
        "print(len(ner_rep_only_list))\n",
        "\n",
        "rep_bi_ner = list(set(bigrams(ner_rep_only_list)))\n",
        "print(len(rep_bi_ner))\n",
        "\n",
        "rep_uni_ner = list(set(unigrams(ner_rep_only_list)))\n",
        "print(len(rep_uni_ner))\n",
        "\n",
        "## pos\n",
        "pos_rep_only = pos.loc[(pos['rep'] >= 1)]\n",
        "\n",
        "#temp = pos_rep_only['text_san'].values.tolist()\n",
        "temp = pos_rep_only['text'].values.tolist()\n",
        "pos_rep_only_list = list(set(temp))\n",
        "print(len(pos_rep_only_list))\n",
        "\n",
        "rep_bi_pos = list(set(bigrams(pos_rep_only_list)))\n",
        "print(len(rep_bi_pos))\n",
        "\n",
        "rep_uni_pos = list(set(unigrams(pos_rep_only_list)))\n",
        "print(len(rep_uni_pos))\n",
        "\n",
        "\n",
        "# hash - ner\n",
        "import re\n",
        "\n",
        "rep_hash = list(set(hashtag(ner_rep_only_list + pos_rep_only_list)))\n",
        "\n",
        "to_remove = [' #', '# ', '#']\n",
        "p = re.compile('|'.join(map(re.escape, to_remove))) # escape to handle metachars\n",
        "\n",
        "rep_hash = [p.sub('', s) for s in rep_hash] # remove hashtags\n",
        "rep_hash_non = list(set(rep_hash))\n",
        "\n",
        "rep_hash = ['#' + s for s in rep_hash]\n",
        "rep_hash = list(set(rep_hash))\n",
        "\n",
        "print(len(rep_hash))\n",
        "print(len(rep_hash_non))\n"
      ],
      "metadata": {
        "colab": {
          "base_uri": "https://localhost:8080/"
        },
        "id": "N9U7lWry0SN_",
        "outputId": "b8f931d2-6e1e-478e-81b9-620604c8467a"
      },
      "execution_count": 20,
      "outputs": [
        {
          "output_type": "stream",
          "name": "stdout",
          "text": [
            "1659\n",
            "1478\n",
            "181\n",
            "2043\n",
            "1699\n",
            "344\n",
            "85\n",
            "85\n"
          ]
        }
      ]
    },
    {
      "cell_type": "code",
      "source": [
        "# text ver.\n",
        "dem_bi = list(set(dem_bi_ner + dem_bi_pos + dem_hash))\n",
        "print(len(dem_bi))\n",
        "\n",
        "dem_uni = list(set(dem_uni_ner + dem_uni_pos + dem_hash_non))\n",
        "print(len(dem_uni))\n",
        "\n",
        "rep_bi = list(set(rep_bi_ner + rep_bi_pos + rep_hash))\n",
        "print(len(rep_bi))\n",
        "\n",
        "rep_uni = list(set(rep_uni_ner + rep_uni_pos + rep_hash_non))\n",
        "print(len(rep_uni))"
      ],
      "metadata": {
        "id": "qSFxQgQrocU8",
        "outputId": "e21730d1-af8c-4843-e625-6f622b951552",
        "colab": {
          "base_uri": "https://localhost:8080/"
        }
      },
      "execution_count": 21,
      "outputs": [
        {
          "output_type": "stream",
          "name": "stdout",
          "text": [
            "2862\n",
            "386\n",
            "2448\n",
            "404\n"
          ]
        }
      ]
    },
    {
      "cell_type": "code",
      "source": [
        "\n",
        "df1_temp = pd.DataFrame({'text':dem_bi})\n",
        "#df1.to_csv('dem_bi.csv')\n",
        "df2_temp = pd.DataFrame({'text':dem_uni})\n",
        "#df2.to_csv('dem_uni.csv')\n",
        "\n",
        "df3_temp = pd.DataFrame({'text':rep_bi})\n",
        "#df3.to_csv('rep_bi.csv')\n",
        "df4_temp = pd.DataFrame({'text':rep_uni})\n",
        "#df4.to_csv('rep_uni.csv')\n",
        "\n",
        "df_dem_temp = pd.concat([df1_temp, df2_temp])\n",
        "df_rep_temp = pd.concat([df3_temp, df4_temp])\n",
        "\n",
        "# df_dem_temp.to_csv('dem_entities_org.csv')\n",
        "# df_rep_temp.to_csv('rep_entities_org.csv')\n"
      ],
      "metadata": {
        "id": "7v0NHthWoweG"
      },
      "execution_count": 25,
      "outputs": []
    },
    {
      "cell_type": "code",
      "source": [
        "df_dem_temp['text_san'] = df_dem_temp['text'].apply(basic_sanitize)\n",
        "df_rep_temp['text_san'] = df_rep_temp['text'].apply(basic_sanitize)"
      ],
      "metadata": {
        "id": "rQh-AS41pmY4"
      },
      "execution_count": 26,
      "outputs": []
    },
    {
      "cell_type": "code",
      "source": [
        "df_dem_temp.drop_duplicates(subset='text_san', keep=\"last\")\n",
        "df_rep_temp.drop_duplicates(subset='text_san', keep=\"last\")"
      ],
      "metadata": {
        "id": "Vs-FRRxEpvvh",
        "outputId": "7b1027aa-f987-4cb0-c35b-ad0ef5da1bf9",
        "colab": {
          "base_uri": "https://localhost:8080/",
          "height": 424
        }
      },
      "execution_count": 28,
      "outputs": [
        {
          "output_type": "execute_result",
          "data": {
            "text/plain": [
              "                   text            text_san\n",
              "2         Benny Johnson       Benny Johnson\n",
              "3           Calls Trump         Calls Trump\n",
              "4      Rudolph Giuliani    Rudolph Giuliani\n",
              "5    Donald TrumpDonald  Donald TrumpDonald\n",
              "6        Alfonzo Rachel      Alfonzo Rachel\n",
              "..                  ...                 ...\n",
              "399               Pence               Pence\n",
              "400       WomenForTrump       WomenForTrump\n",
              "401         BigGovSucks         BigGovSucks\n",
              "402              N.R.A.                 NRA\n",
              "403       Right-Wingers       Right-Wingers\n",
              "\n",
              "[2782 rows x 2 columns]"
            ],
            "text/html": [
              "\n",
              "  <div id=\"df-405fa5d1-22aa-4ffe-9a4d-24fae5d00f71\">\n",
              "    <div class=\"colab-df-container\">\n",
              "      <div>\n",
              "<style scoped>\n",
              "    .dataframe tbody tr th:only-of-type {\n",
              "        vertical-align: middle;\n",
              "    }\n",
              "\n",
              "    .dataframe tbody tr th {\n",
              "        vertical-align: top;\n",
              "    }\n",
              "\n",
              "    .dataframe thead th {\n",
              "        text-align: right;\n",
              "    }\n",
              "</style>\n",
              "<table border=\"1\" class=\"dataframe\">\n",
              "  <thead>\n",
              "    <tr style=\"text-align: right;\">\n",
              "      <th></th>\n",
              "      <th>text</th>\n",
              "      <th>text_san</th>\n",
              "    </tr>\n",
              "  </thead>\n",
              "  <tbody>\n",
              "    <tr>\n",
              "      <th>2</th>\n",
              "      <td>Benny Johnson</td>\n",
              "      <td>Benny Johnson</td>\n",
              "    </tr>\n",
              "    <tr>\n",
              "      <th>3</th>\n",
              "      <td>Calls Trump</td>\n",
              "      <td>Calls Trump</td>\n",
              "    </tr>\n",
              "    <tr>\n",
              "      <th>4</th>\n",
              "      <td>Rudolph Giuliani</td>\n",
              "      <td>Rudolph Giuliani</td>\n",
              "    </tr>\n",
              "    <tr>\n",
              "      <th>5</th>\n",
              "      <td>Donald TrumpDonald</td>\n",
              "      <td>Donald TrumpDonald</td>\n",
              "    </tr>\n",
              "    <tr>\n",
              "      <th>6</th>\n",
              "      <td>Alfonzo Rachel</td>\n",
              "      <td>Alfonzo Rachel</td>\n",
              "    </tr>\n",
              "    <tr>\n",
              "      <th>...</th>\n",
              "      <td>...</td>\n",
              "      <td>...</td>\n",
              "    </tr>\n",
              "    <tr>\n",
              "      <th>399</th>\n",
              "      <td>Pence</td>\n",
              "      <td>Pence</td>\n",
              "    </tr>\n",
              "    <tr>\n",
              "      <th>400</th>\n",
              "      <td>WomenForTrump</td>\n",
              "      <td>WomenForTrump</td>\n",
              "    </tr>\n",
              "    <tr>\n",
              "      <th>401</th>\n",
              "      <td>BigGovSucks</td>\n",
              "      <td>BigGovSucks</td>\n",
              "    </tr>\n",
              "    <tr>\n",
              "      <th>402</th>\n",
              "      <td>N.R.A.</td>\n",
              "      <td>NRA</td>\n",
              "    </tr>\n",
              "    <tr>\n",
              "      <th>403</th>\n",
              "      <td>Right-Wingers</td>\n",
              "      <td>Right-Wingers</td>\n",
              "    </tr>\n",
              "  </tbody>\n",
              "</table>\n",
              "<p>2782 rows × 2 columns</p>\n",
              "</div>\n",
              "      <button class=\"colab-df-convert\" onclick=\"convertToInteractive('df-405fa5d1-22aa-4ffe-9a4d-24fae5d00f71')\"\n",
              "              title=\"Convert this dataframe to an interactive table.\"\n",
              "              style=\"display:none;\">\n",
              "        \n",
              "  <svg xmlns=\"http://www.w3.org/2000/svg\" height=\"24px\"viewBox=\"0 0 24 24\"\n",
              "       width=\"24px\">\n",
              "    <path d=\"M0 0h24v24H0V0z\" fill=\"none\"/>\n",
              "    <path d=\"M18.56 5.44l.94 2.06.94-2.06 2.06-.94-2.06-.94-.94-2.06-.94 2.06-2.06.94zm-11 1L8.5 8.5l.94-2.06 2.06-.94-2.06-.94L8.5 2.5l-.94 2.06-2.06.94zm10 10l.94 2.06.94-2.06 2.06-.94-2.06-.94-.94-2.06-.94 2.06-2.06.94z\"/><path d=\"M17.41 7.96l-1.37-1.37c-.4-.4-.92-.59-1.43-.59-.52 0-1.04.2-1.43.59L10.3 9.45l-7.72 7.72c-.78.78-.78 2.05 0 2.83L4 21.41c.39.39.9.59 1.41.59.51 0 1.02-.2 1.41-.59l7.78-7.78 2.81-2.81c.8-.78.8-2.07 0-2.86zM5.41 20L4 18.59l7.72-7.72 1.47 1.35L5.41 20z\"/>\n",
              "  </svg>\n",
              "      </button>\n",
              "      \n",
              "  <style>\n",
              "    .colab-df-container {\n",
              "      display:flex;\n",
              "      flex-wrap:wrap;\n",
              "      gap: 12px;\n",
              "    }\n",
              "\n",
              "    .colab-df-convert {\n",
              "      background-color: #E8F0FE;\n",
              "      border: none;\n",
              "      border-radius: 50%;\n",
              "      cursor: pointer;\n",
              "      display: none;\n",
              "      fill: #1967D2;\n",
              "      height: 32px;\n",
              "      padding: 0 0 0 0;\n",
              "      width: 32px;\n",
              "    }\n",
              "\n",
              "    .colab-df-convert:hover {\n",
              "      background-color: #E2EBFA;\n",
              "      box-shadow: 0px 1px 2px rgba(60, 64, 67, 0.3), 0px 1px 3px 1px rgba(60, 64, 67, 0.15);\n",
              "      fill: #174EA6;\n",
              "    }\n",
              "\n",
              "    [theme=dark] .colab-df-convert {\n",
              "      background-color: #3B4455;\n",
              "      fill: #D2E3FC;\n",
              "    }\n",
              "\n",
              "    [theme=dark] .colab-df-convert:hover {\n",
              "      background-color: #434B5C;\n",
              "      box-shadow: 0px 1px 3px 1px rgba(0, 0, 0, 0.15);\n",
              "      filter: drop-shadow(0px 1px 2px rgba(0, 0, 0, 0.3));\n",
              "      fill: #FFFFFF;\n",
              "    }\n",
              "  </style>\n",
              "\n",
              "      <script>\n",
              "        const buttonEl =\n",
              "          document.querySelector('#df-405fa5d1-22aa-4ffe-9a4d-24fae5d00f71 button.colab-df-convert');\n",
              "        buttonEl.style.display =\n",
              "          google.colab.kernel.accessAllowed ? 'block' : 'none';\n",
              "\n",
              "        async function convertToInteractive(key) {\n",
              "          const element = document.querySelector('#df-405fa5d1-22aa-4ffe-9a4d-24fae5d00f71');\n",
              "          const dataTable =\n",
              "            await google.colab.kernel.invokeFunction('convertToInteractive',\n",
              "                                                     [key], {});\n",
              "          if (!dataTable) return;\n",
              "\n",
              "          const docLinkHtml = 'Like what you see? Visit the ' +\n",
              "            '<a target=\"_blank\" href=https://colab.research.google.com/notebooks/data_table.ipynb>data table notebook</a>'\n",
              "            + ' to learn more about interactive tables.';\n",
              "          element.innerHTML = '';\n",
              "          dataTable['output_type'] = 'display_data';\n",
              "          await google.colab.output.renderOutput(dataTable, element);\n",
              "          const docLink = document.createElement('div');\n",
              "          docLink.innerHTML = docLinkHtml;\n",
              "          element.appendChild(docLink);\n",
              "        }\n",
              "      </script>\n",
              "    </div>\n",
              "  </div>\n",
              "  "
            ]
          },
          "metadata": {},
          "execution_count": 28
        }
      ]
    },
    {
      "cell_type": "code",
      "source": [
        "\n",
        "df_dem_temp.to_excel('dem_entities_org.xlsx', encoding='utf-8-sig')\n",
        "df_rep_temp.to_excel('rep_entities_org.xlsx', encoding='utf-8-sig')\n"
      ],
      "metadata": {
        "id": "vT62TuTYqKT7"
      },
      "execution_count": 31,
      "outputs": []
    },
    {
      "cell_type": "code",
      "source": [
        "# text_san ver.\n",
        "dem_bi = list(set(dem_bi_ner + dem_bi_pos + dem_hash))\n",
        "print(len(dem_bi))\n",
        "\n",
        "dem_uni = list(set(dem_uni_ner + dem_uni_pos + dem_hash_non))\n",
        "print(len(dem_uni))\n",
        "\n",
        "rep_bi = list(set(rep_bi_ner + rep_bi_pos + rep_hash))\n",
        "print(len(rep_bi))\n",
        "\n",
        "rep_uni = list(set(rep_uni_ner + rep_uni_pos + rep_hash_non))\n",
        "print(len(rep_uni))"
      ],
      "metadata": {
        "colab": {
          "base_uri": "https://localhost:8080/"
        },
        "id": "cxUGqZEc0b7D",
        "outputId": "0937af8e-487e-4554-ee9e-ae467af5ff4a"
      },
      "execution_count": 14,
      "outputs": [
        {
          "output_type": "stream",
          "name": "stdout",
          "text": [
            "2831\n",
            "372\n",
            "2392\n",
            "392\n"
          ]
        }
      ]
    },
    {
      "cell_type": "code",
      "source": [
        "\n",
        "df1 = pd.DataFrame({'dem_entities':dem_bi})\n",
        "#df1.to_csv('dem_bi.csv')\n",
        "df2 = pd.DataFrame({'dem_entities':dem_uni})\n",
        "#df2.to_csv('dem_uni.csv')\n",
        "\n",
        "df3 = pd.DataFrame({'rep_entities':rep_bi})\n",
        "#df3.to_csv('rep_bi.csv')\n",
        "df4 = pd.DataFrame({'rep_entities':rep_uni})\n",
        "#df4.to_csv('rep_uni.csv')\n",
        "\n",
        "df_dem = pd.concat([df1, df2])\n",
        "df_rep = pd.concat([df3, df4])\n",
        "\n",
        "# df_dem.to_csv('dem_entities.csv')\n",
        "# df_rep.to_csv('rep_entities.csv')\n"
      ],
      "metadata": {
        "id": "VIZrvXKen8Fk"
      },
      "execution_count": 18,
      "outputs": []
    },
    {
      "cell_type": "code",
      "execution_count": null,
      "metadata": {
        "id": "W8jo4Ag7DtmN"
      },
      "outputs": [],
      "source": [
        "import pickle\n",
        "import pandas as pd\n",
        "\n",
        "temp = pd.read_csv(\"r_pages_st_sample_lower.csv\")"
      ]
    },
    {
      "cell_type": "code",
      "execution_count": null,
      "metadata": {
        "id": "PnuwETVUD-zE"
      },
      "outputs": [],
      "source": [
        "temp['text_san'] = temp['text'].apply(basic_sanitize)"
      ]
    },
    {
      "cell_type": "code",
      "execution_count": null,
      "metadata": {
        "id": "gPdX_ceLIaJh"
      },
      "outputs": [],
      "source": [
        "\n",
        "temp['dem_bi'] = temp['text_san'].apply(lambda x: [i for i in dem_bi if i in x])\n",
        "temp['dem_uni'] = temp['text_san'].apply(lambda x: set.intersection(set(x.split(' ')), dem_uni))\n",
        "\n",
        "temp['rep_bi'] = temp['text_san'].apply(lambda x: [i for i in rep_bi if i in x])\n",
        "temp['rep_uni'] = temp['text_san'].apply(lambda x: set.intersection(set(x.split(' ')), rep_uni))\n"
      ]
    },
    {
      "cell_type": "code",
      "source": [
        "temp.to_csv('r_pages_st_sample_lower2.csv')"
      ],
      "metadata": {
        "id": "hWuYVa9srcXV"
      },
      "execution_count": null,
      "outputs": []
    },
    {
      "cell_type": "code",
      "source": [
        "# from google.colab import data_table\n",
        "# data_table.enable_dataframe_formatter()\n",
        "\n",
        "# all_pages_sample_1k[all_pages_sample_1k['text_san'].str.contains(\"#\")]\n"
      ],
      "metadata": {
        "id": "Ih1UYBll1Zo-"
      },
      "execution_count": null,
      "outputs": []
    },
    {
      "cell_type": "markdown",
      "metadata": {
        "id": "53YdolCGA1do"
      },
      "source": [
        "## matching"
      ]
    },
    {
      "cell_type": "markdown",
      "source": [
        "### for Republican posts"
      ],
      "metadata": {
        "id": "VG0Rv4luqQiJ"
      }
    },
    {
      "cell_type": "code",
      "execution_count": null,
      "metadata": {
        "id": "ZvjHCm5z8S98"
      },
      "outputs": [],
      "source": [
        "import pickle\n",
        "\n",
        "with open('r_pages_ner_pos.pickle', 'rb') as handle:\n",
        "    r_pages_st = pickle.load(handle)"
      ]
    },
    {
      "cell_type": "code",
      "execution_count": null,
      "metadata": {
        "id": "UlVH-QbYrDd8"
      },
      "outputs": [],
      "source": [
        "r_pages_st['text_san'] = r_pages_st['text'].apply(basic_sanitize)\n"
      ]
    },
    {
      "cell_type": "code",
      "execution_count": null,
      "metadata": {
        "colab": {
          "base_uri": "https://localhost:8080/"
        },
        "id": "nkcV3CIhLdVY",
        "outputId": "f41ac31c-b90d-419e-870f-ac564b5367d3"
      },
      "outputs": [
        {
          "output_type": "execute_result",
          "data": {
            "text/plain": [
              "6830247    That didnt take very long Jon Gruden Makes His...\n",
              "1982195     Terrorism Deaths Quadruple Under Obama - Brei...\n",
              "3697005    JUST IN Fox News Makes Major Impeachment Move ...\n",
              "Name: text_san, dtype: object"
            ]
          },
          "metadata": {},
          "execution_count": 22
        }
      ],
      "source": [
        "r_pages_st['text_san'].sample(3)"
      ]
    },
    {
      "cell_type": "code",
      "execution_count": null,
      "metadata": {
        "colab": {
          "base_uri": "https://localhost:8080/"
        },
        "id": "2FTypxHIsKQL",
        "outputId": "efb0770c-158e-42c4-8839-99aa9dbf8d17"
      },
      "outputs": [
        {
          "output_type": "stream",
          "name": "stdout",
          "text": [
            "2827\n",
            "372\n",
            "2390\n",
            "392\n"
          ]
        }
      ],
      "source": [
        "print(len(dem_bi))\n",
        "print(len(dem_uni))\n",
        "\n",
        "print(len(rep_bi))\n",
        "print(len(rep_uni))"
      ]
    },
    {
      "cell_type": "code",
      "execution_count": null,
      "metadata": {
        "id": "3Bs8tSXtAmND"
      },
      "outputs": [],
      "source": [
        "# matching\n",
        "\n",
        "r_pages_st['dem_bi'] = r_pages_st['text_san'].apply(lambda x: [i for i in dem_bi if i in x])\n",
        "r_pages_st['dem_uni'] = r_pages_st['text_san'].apply(lambda x: set.intersection(set(x.split(' ')), dem_uni))\n"
      ]
    },
    {
      "cell_type": "code",
      "execution_count": null,
      "metadata": {
        "id": "53uYEqM4BID8"
      },
      "outputs": [],
      "source": [
        "\n",
        "r_pages_st['rep_bi'] = r_pages_st['text_san'].apply(lambda x: [i for i in rep_bi if i in x])\n",
        "r_pages_st['rep_uni'] = r_pages_st['text_san'].apply(lambda x: set.intersection(set(x.split(' ')), rep_uni))\n"
      ]
    },
    {
      "cell_type": "code",
      "execution_count": null,
      "metadata": {
        "id": "JIKtwydBCQ-h"
      },
      "outputs": [],
      "source": [
        "# saving results\n",
        "\n",
        "r_pages_st6 = r_pages_st[['quarter','insult','sentistr','dem_bi','dem_uni','rep_bi','rep_uni']]\n",
        "\n",
        "import pickle\n",
        "\n",
        "with open('r_pages_ner_pos_final.pickle', 'wb') as handle:\n",
        "    pickle.dump(r_pages_st6, handle, protocol=pickle.HIGHEST_PROTOCOL)\n",
        "\n"
      ]
    },
    {
      "cell_type": "code",
      "execution_count": null,
      "metadata": {
        "id": "Mi6ZNtBTaSLS"
      },
      "outputs": [],
      "source": [
        "# manual checking\n",
        "\n",
        "r_pages_st_sample = r_pages_st.sample(1000)\n",
        "r_pages_st_sample.to_csv('r_pages_st_sample_lower.csv', encoding='utf-8-sig')\n"
      ]
    },
    {
      "cell_type": "markdown",
      "source": [
        "### for Democratic posts"
      ],
      "metadata": {
        "id": "IaOxSrYlqUQK"
      }
    },
    {
      "cell_type": "code",
      "execution_count": null,
      "metadata": {
        "id": "w9GtInP_BL64"
      },
      "outputs": [],
      "source": [
        "import pickle\n",
        "\n",
        "with open('d_pages_ner_pos.pickle', 'rb') as handle:\n",
        "    d_pages_st = pickle.load(handle)"
      ]
    },
    {
      "cell_type": "code",
      "execution_count": null,
      "metadata": {
        "id": "jsDVR642tS4D"
      },
      "outputs": [],
      "source": [
        "d_pages_st['text_san'] = d_pages_st['text'].apply(basic_sanitize)\n"
      ]
    },
    {
      "cell_type": "code",
      "execution_count": null,
      "metadata": {
        "colab": {
          "base_uri": "https://localhost:8080/"
        },
        "id": "zidU4VSFM8Er",
        "outputId": "c66df211-3680-4e56-953e-bd171257241f"
      },
      "outputs": [
        {
          "output_type": "execute_result",
          "data": {
            "text/plain": [
              "3078922    FIVE Indiana GOP Congresspeople are among thos...\n",
              "914044     NOTE Same recipe tomorrow and the next day and...\n",
              "2216804    These are the 5 things you need to know about ...\n",
              "Name: text_san, dtype: object"
            ]
          },
          "metadata": {},
          "execution_count": 74
        }
      ],
      "source": [
        "d_pages_st['text_san'].sample(3)"
      ]
    },
    {
      "cell_type": "code",
      "execution_count": null,
      "metadata": {
        "id": "VGhoBSpCBXkv"
      },
      "outputs": [],
      "source": [
        "\n",
        "d_pages_st['dem_bi'] = d_pages_st['text_san'].apply(lambda x: [i for i in dem_bi if i in x])\n",
        "d_pages_st['dem_uni'] = d_pages_st['text_san'].apply(lambda x: set.intersection(set(x.split(' ')), dem_uni))\n"
      ]
    },
    {
      "cell_type": "code",
      "execution_count": null,
      "metadata": {
        "id": "TAdWhYwZBXgc"
      },
      "outputs": [],
      "source": [
        "d_pages_st['rep_bi'] = d_pages_st['text_san'].apply(lambda x: [i for i in rep_bi if i in x])\n",
        "d_pages_st['rep_uni'] = d_pages_st['text_san'].apply(lambda x: set.intersection(set(x.split(' ')), rep_uni))\n"
      ]
    },
    {
      "cell_type": "code",
      "execution_count": null,
      "metadata": {
        "id": "uWzMt9gttlku"
      },
      "outputs": [],
      "source": [
        "# saving results\n",
        "\n",
        "d_pages_st6 = d_pages_st[['quarter','insult','sentistr','dem_bi','dem_uni','rep_bi','rep_uni']]\n",
        "\n",
        "import pickle\n",
        "\n",
        "with open('d_pages_ner_pos_final.pickle', 'wb') as handle:\n",
        "    pickle.dump(d_pages_st6, handle, protocol=pickle.HIGHEST_PROTOCOL)\n",
        "\n"
      ]
    },
    {
      "cell_type": "code",
      "source": [
        "# manual checking\n",
        "\n",
        "d_pages_st_sample = d_pages_st.sample(1000)\n",
        "d_pages_st_sample.to_csv('d_pages_st_sample_lower.csv', encoding='utf-8-sig')\n"
      ],
      "metadata": {
        "id": "n227imbA_Wm2"
      },
      "execution_count": null,
      "outputs": []
    },
    {
      "cell_type": "markdown",
      "metadata": {
        "id": "HcQRUjCmD8C-"
      },
      "source": [
        "## merge results from both leanings"
      ]
    },
    {
      "cell_type": "code",
      "execution_count": null,
      "metadata": {
        "id": "HpIZXwwbD5Cb"
      },
      "outputs": [],
      "source": [
        "import pickle\n",
        "\n",
        "with open('r_pages_ner_pos_final.pickle', 'rb') as handle:\n",
        "    r_pages_st = pickle.load(handle)"
      ]
    },
    {
      "cell_type": "code",
      "execution_count": null,
      "metadata": {
        "id": "w1CpGwn8EP6a"
      },
      "outputs": [],
      "source": [
        "\n",
        "with open('d_pages_ner_pos_final.pickle', 'rb') as handle:\n",
        "    d_pages_st = pickle.load(handle)"
      ]
    },
    {
      "cell_type": "code",
      "execution_count": null,
      "metadata": {
        "id": "4tajyM2a_kAO"
      },
      "outputs": [],
      "source": [
        "r_pages_st['leanings'] = \"republican\"\n",
        "d_pages_st['leanings'] = \"democratic\""
      ]
    },
    {
      "cell_type": "code",
      "source": [
        "import pandas as pd\n",
        "from sklearn.preprocessing import StandardScaler\n",
        "\n",
        "scaler = StandardScaler()\n",
        "\n",
        "d_pages_st[['sentistr_std', 'insult_std']] = scaler.fit_transform(d_pages_st[['sentistr', 'insult']])\n",
        "\n",
        "r_pages_st[['sentistr_std', 'insult_std']] = scaler.fit_transform(r_pages_st[['sentistr', 'insult']])\n"
      ],
      "metadata": {
        "colab": {
          "base_uri": "https://localhost:8080/"
        },
        "id": "KcmIvAgdUlyF",
        "outputId": "58b21c4e-58f9-4a79-8180-039cab8a45f0"
      },
      "execution_count": null,
      "outputs": [
        {
          "output_type": "stream",
          "name": "stderr",
          "text": [
            "/usr/local/lib/python3.7/dist-packages/numpy/core/fromnumeric.py:86: RuntimeWarning: invalid value encountered in reduce\n",
            "  return ufunc.reduce(obj, axis, dtype, out, **passkwargs)\n",
            "/usr/local/lib/python3.7/dist-packages/sklearn/utils/extmath.py:991: RuntimeWarning: invalid value encountered in subtract\n",
            "  temp = X - T\n",
            "/usr/local/lib/python3.7/dist-packages/numpy/core/fromnumeric.py:86: RuntimeWarning: invalid value encountered in reduce\n",
            "  return ufunc.reduce(obj, axis, dtype, out, **passkwargs)\n",
            "/usr/local/lib/python3.7/dist-packages/sklearn/preprocessing/_data.py:993: RuntimeWarning: invalid value encountered in subtract\n",
            "  X -= self.mean_\n",
            "/usr/local/lib/python3.7/dist-packages/numpy/core/fromnumeric.py:86: RuntimeWarning: invalid value encountered in reduce\n",
            "  return ufunc.reduce(obj, axis, dtype, out, **passkwargs)\n",
            "/usr/local/lib/python3.7/dist-packages/sklearn/utils/extmath.py:991: RuntimeWarning: invalid value encountered in subtract\n",
            "  temp = X - T\n",
            "/usr/local/lib/python3.7/dist-packages/numpy/core/fromnumeric.py:86: RuntimeWarning: invalid value encountered in reduce\n",
            "  return ufunc.reduce(obj, axis, dtype, out, **passkwargs)\n",
            "/usr/local/lib/python3.7/dist-packages/sklearn/preprocessing/_data.py:993: RuntimeWarning: invalid value encountered in subtract\n",
            "  X -= self.mean_\n"
          ]
        }
      ]
    },
    {
      "cell_type": "code",
      "source": [
        "\n",
        "import numpy as np\n",
        "\n",
        "d_pages_st['dem_bi_count'] = d_pages_st['dem_bi'].str.len()\n",
        "d_pages_st['dem_uni_count'] = d_pages_st['dem_uni'].str.len()\n",
        "\n",
        "d_pages_st['rep_bi_count'] = d_pages_st['rep_bi'].str.len()\n",
        "d_pages_st['rep_uni_count'] = d_pages_st['rep_uni'].str.len()\n",
        "\n",
        "\n",
        "r_pages_st['dem_bi_count'] = r_pages_st['dem_bi'].str.len()\n",
        "r_pages_st['dem_uni_count'] = r_pages_st['dem_uni'].str.len()\n",
        "\n",
        "r_pages_st['rep_bi_count'] = r_pages_st['rep_bi'].str.len()\n",
        "r_pages_st['rep_uni_count'] = r_pages_st['rep_uni'].str.len()"
      ],
      "metadata": {
        "id": "KpEB4CoxCtLK"
      },
      "execution_count": null,
      "outputs": []
    },
    {
      "cell_type": "code",
      "source": [
        "# both included\n",
        "import numpy as np\n",
        "\n",
        "d_pages_st['out_group_np'] = np.where(( (d_pages_st.rep_bi_count >= 1) | (d_pages_st.rep_uni_count >= 1) ), 'mentioned', 'non_mentioned')\n",
        "d_pages_st['in_group_np'] = np.where(( (d_pages_st.dem_bi_count >= 1) | (d_pages_st.dem_uni_count >= 1) ), 'mentioned', 'non_mentioned')\n",
        "d_pages_st['no_entity_np'] = np.where(((d_pages_st.in_group_np == 'non_mentioned') & (d_pages_st.out_group_np == 'non_mentioned')), 'none', 'mentioned')\n",
        "d_pages_st['both_entity'] = np.where(((d_pages_st.in_group_np == 'mentioned') & (d_pages_st.out_group_np == 'mentioned')), 'both', 'not_both')\n"
      ],
      "metadata": {
        "id": "SGO1VruxrYnJ"
      },
      "execution_count": null,
      "outputs": []
    },
    {
      "cell_type": "code",
      "source": [
        "import numpy as np\n",
        "\n",
        "r_pages_st['in_group_np'] = np.where(( (r_pages_st.rep_bi_count >= 1) | (r_pages_st.rep_uni_count >= 1) ), 'mentioned', 'non_mentioned')\n",
        "r_pages_st['out_group_np'] = np.where(( (r_pages_st.dem_bi_count >= 1) | (r_pages_st.dem_uni_count >= 1) ), 'mentioned', 'non_mentioned')\n",
        "r_pages_st['no_entity_np'] = np.where(((r_pages_st.in_group_np == 'non_mentioned') & (r_pages_st.out_group_np == 'non_mentioned')), 'none', 'mentioned')\n",
        "r_pages_st['both_entity'] = np.where(((r_pages_st.in_group_np == 'mentioned') & (r_pages_st.out_group_np == 'mentioned')), 'both', 'not_both')\n"
      ],
      "metadata": {
        "id": "_rwWnfWaCxQZ"
      },
      "execution_count": null,
      "outputs": []
    },
    {
      "cell_type": "code",
      "source": [
        "\n",
        "print('in_group_np')\n",
        "print(d_pages_st['in_group_np'].value_counts())\n",
        "\n",
        "print('out_group_np')\n",
        "print(d_pages_st['out_group_np'].value_counts())\n",
        "\n",
        "print('no_entity_np')\n",
        "print(d_pages_st['no_entity_np'].value_counts())\n",
        "\n",
        "\n",
        "print('in_group_np')\n",
        "print(r_pages_st['in_group_np'].value_counts())\n",
        "\n",
        "print('out_group_np')\n",
        "print(r_pages_st['out_group_np'].value_counts())\n",
        "\n",
        "print('no_entity_np')\n",
        "print(r_pages_st['no_entity_np'].value_counts())"
      ],
      "metadata": {
        "colab": {
          "base_uri": "https://localhost:8080/"
        },
        "id": "4OY9sC8yA0wK",
        "outputId": "240517af-cadc-4cf4-b920-48a89dac0987"
      },
      "execution_count": null,
      "outputs": [
        {
          "output_type": "stream",
          "name": "stdout",
          "text": [
            "in_group_np\n",
            "non_mentioned    4388139\n",
            "mentioned        2421885\n",
            "Name: in_group_np, dtype: int64\n",
            "out_group_np\n",
            "non_mentioned    3651822\n",
            "mentioned        3158202\n",
            "Name: out_group_np, dtype: int64\n",
            "no_entity_np\n",
            "mentioned    4283905\n",
            "none         2526119\n",
            "Name: no_entity_np, dtype: int64\n",
            "in_group_np\n",
            "non_mentioned    4351676\n",
            "mentioned        2998962\n",
            "Name: in_group_np, dtype: int64\n",
            "out_group_np\n",
            "non_mentioned    4685220\n",
            "mentioned        2665418\n",
            "Name: out_group_np, dtype: int64\n",
            "no_entity_np\n",
            "mentioned    4264846\n",
            "none         3085792\n",
            "Name: no_entity_np, dtype: int64\n"
          ]
        }
      ]
    },
    {
      "cell_type": "code",
      "source": [
        "# in-, out- only\n",
        "\n",
        "d_pages_st['out_group_only_np'] = np.where(( ( (d_pages_st.rep_bi_count >= 1) | (d_pages_st.rep_uni_count >= 1)) & ( (d_pages_st.dem_bi_count == 0) & (d_pages_st.dem_uni_count == 0) ) ), 'mentioned', 'non_mentioned')\n",
        "d_pages_st['in_group_only_np'] = np.where(( ( (d_pages_st.dem_bi_count >= 1) | (d_pages_st.dem_uni_count >= 1) ) & ( ( d_pages_st.rep_bi_count == 0) & (d_pages_st.rep_uni_count == 0) ) ), 'mentioned', 'non_mentioned')\n",
        "\n",
        "# in-, out- only\n",
        "\n",
        "r_pages_st['in_group_only_np'] = np.where(( ( (r_pages_st.rep_bi_count >= 1) | (r_pages_st.rep_uni_count >= 1)) & ( (r_pages_st.dem_bi_count == 0) & (r_pages_st.dem_uni_count == 0) ) ), 'mentioned', 'non_mentioned')\n",
        "r_pages_st['out_group_only_np'] = np.where(( ( (r_pages_st.dem_bi_count >= 1) | (r_pages_st.dem_uni_count >= 1) ) & ( ( r_pages_st.rep_bi_count == 0) & (r_pages_st.rep_uni_count == 0) ) ), 'mentioned', 'non_mentioned')\n"
      ],
      "metadata": {
        "id": "AnerA-QSPQUG"
      },
      "execution_count": null,
      "outputs": []
    },
    {
      "cell_type": "code",
      "source": [
        "\n",
        "print('d_pages_st: out_group_only_np')\n",
        "print(d_pages_st['out_group_only_np'].value_counts())\n",
        "\n",
        "print('d_pages_st: in_group_only_np')\n",
        "print(d_pages_st['in_group_only_np'].value_counts())\n",
        "\n",
        "\n",
        "print('r_pages_st: in_group_only_np')\n",
        "print(r_pages_st['in_group_only_np'].value_counts())\n",
        "\n",
        "print('r_pages_st: out_group_only_np')\n",
        "print(r_pages_st['out_group_only_np'].value_counts())\n",
        "\n"
      ],
      "metadata": {
        "colab": {
          "base_uri": "https://localhost:8080/"
        },
        "id": "kvpZzVNaRkzy",
        "outputId": "1eb612b2-378a-4fe1-b10e-f37c44169f6a"
      },
      "execution_count": null,
      "outputs": [
        {
          "output_type": "stream",
          "name": "stdout",
          "text": [
            "d_pages_st: out_group_only_np\n",
            "non_mentioned    4948004\n",
            "mentioned        1862020\n",
            "Name: out_group_only_np, dtype: int64\n",
            "d_pages_st: in_group_only_np\n",
            "non_mentioned    5684321\n",
            "mentioned        1125703\n",
            "Name: in_group_only_np, dtype: int64\n",
            "r_pages_st: in_group_only_np\n",
            "non_mentioned    5751210\n",
            "mentioned        1599428\n",
            "Name: in_group_only_np, dtype: int64\n",
            "r_pages_st: out_group_only_np\n",
            "non_mentioned    6084754\n",
            "mentioned        1265884\n",
            "Name: out_group_only_np, dtype: int64\n"
          ]
        }
      ]
    },
    {
      "cell_type": "code",
      "execution_count": null,
      "metadata": {
        "colab": {
          "base_uri": "https://localhost:8080/"
        },
        "id": "mOmkhDzpADLd",
        "outputId": "191de682-8073-49af-9087-45662d68c9e8"
      },
      "outputs": [
        {
          "output_type": "execute_result",
          "data": {
            "text/plain": [
              "Index(['quarter', 'insult', 'sentistr', 'dem_bi', 'dem_uni', 'rep_bi',\n",
              "       'rep_uni', 'leanings', 'sentistr_std', 'insult_std', 'dem_bi_count',\n",
              "       'dem_uni_count', 'rep_bi_count', 'rep_uni_count', 'out_group_np',\n",
              "       'in_group_np', 'no_entity_np', 'both_entity'],\n",
              "      dtype='object')"
            ]
          },
          "metadata": {},
          "execution_count": 11
        }
      ],
      "source": [
        "d_pages_st.columns"
      ]
    },
    {
      "cell_type": "code",
      "execution_count": null,
      "metadata": {
        "colab": {
          "base_uri": "https://localhost:8080/"
        },
        "id": "CI_iygVPAEvo",
        "outputId": "0a87ea0d-f5f4-4d96-925e-6d6bb97ba091"
      },
      "outputs": [
        {
          "output_type": "execute_result",
          "data": {
            "text/plain": [
              "Index(['quarter', 'insult', 'sentistr', 'dem_bi', 'dem_uni', 'rep_bi',\n",
              "       'rep_uni', 'leanings', 'sentistr_std', 'insult_std', 'dem_bi_count',\n",
              "       'dem_uni_count', 'rep_bi_count', 'rep_uni_count', 'in_group_np',\n",
              "       'out_group_np', 'no_entity_np', 'both_entity'],\n",
              "      dtype='object')"
            ]
          },
          "metadata": {},
          "execution_count": 12
        }
      ],
      "source": [
        "r_pages_st.columns"
      ]
    },
    {
      "cell_type": "code",
      "execution_count": null,
      "metadata": {
        "id": "08LXvSbT_lwO"
      },
      "outputs": [],
      "source": [
        "import pandas as pd\n",
        "\n",
        "pages_df_st = pd.concat([r_pages_st, d_pages_st], ignore_index=True, sort=False)\n"
      ]
    },
    {
      "cell_type": "code",
      "source": [
        "# aggregated by in-, out- only\n",
        "\n",
        "temp  = pages_df_st.groupby(['quarter', 'out_group_only_np'])['sentistr_std'].mean().reset_index()\n",
        "temp.to_csv('pos_ner_basic/all_np_out_group_only_senti_std.csv', encoding='utf-8-sig')\n",
        "\n",
        "temp  = pages_df_st.groupby(['quarter', 'in_group_only_np'])['sentistr_std'].mean().reset_index()\n",
        "temp.to_csv('pos_ner_basic/all_np_in_group_only_senti_std.csv', encoding='utf-8-sig')\n",
        "\n",
        "temp  = pages_df_st.groupby(['quarter', 'out_group_only_np'])['insult_std'].mean().reset_index()\n",
        "temp.to_csv('pos_ner_basic/all_np_out_group_only_insult_std.csv', encoding='utf-8-sig')\n",
        "\n",
        "temp  = pages_df_st.groupby(['quarter', 'in_group_only_np'])['insult_std'].mean().reset_index()\n",
        "temp.to_csv('pos_ner_basic/all_np_in_group_only_insult_std.csv', encoding='utf-8-sig')\n",
        "\n",
        "\n",
        "temp  = pages_df_st.groupby(['quarter', 'out_group_only_np', 'leanings'])['sentistr_std'].mean().reset_index()\n",
        "temp.to_csv('pos_ner_basic/leanings_np_out_group_only_senti_std.csv', encoding='utf-8-sig')\n",
        "\n",
        "temp  = pages_df_st.groupby(['quarter', 'in_group_only_np', 'leanings'])['sentistr_std'].mean().reset_index()\n",
        "temp.to_csv('pos_ner_basic/leanings_np_in_group_only_senti_std.csv', encoding='utf-8-sig')\n",
        "\n",
        "temp  = pages_df_st.groupby(['quarter', 'out_group_only_np', 'leanings'])['insult_std'].mean().reset_index()\n",
        "temp.to_csv('pos_ner_basic/leanings_np_out_group_only_insult_std.csv', encoding='utf-8-sig')\n",
        "\n",
        "temp  = pages_df_st.groupby(['quarter', 'in_group_only_np', 'leanings'])['insult_std'].mean().reset_index()\n",
        "temp.to_csv('pos_ner_basic/leanings_np_in_group_only_insult_std.csv', encoding='utf-8-sig')\n"
      ],
      "metadata": {
        "id": "Y4NChsoaSbxb"
      },
      "execution_count": null,
      "outputs": []
    },
    {
      "cell_type": "code",
      "execution_count": null,
      "metadata": {
        "id": "qgfT3ZQH_0VH"
      },
      "outputs": [],
      "source": [
        "# aggregated by all posts\n",
        "\n",
        "temp  = pages_df_st.groupby(['quarter', 'out_group_np'])['sentistr_std'].mean().reset_index()\n",
        "temp.to_csv('pos_ner_basic/all_np_out_group_senti_std.csv', encoding='utf-8-sig')\n",
        "\n",
        "\n",
        "temp  = pages_df_st.groupby(['quarter', 'in_group_np'])['sentistr_std'].mean().reset_index()\n",
        "temp.to_csv('pos_ner_basic/all_np_in_group_senti_std.csv', encoding='utf-8-sig')\n",
        "\n",
        "\n",
        "temp  = pages_df_st.groupby(['quarter', 'no_entity_np'])['sentistr_std'].mean().reset_index()\n",
        "temp.to_csv('pos_ner_basic/all_np_no_entities_senti_std.csv', encoding='utf-8-sig')\n",
        "\n",
        "temp  = pages_df_st.groupby(['quarter', 'both_entity'])['sentistr_std'].mean().reset_index()\n",
        "temp.to_csv('pos_ner_basic/all_np_both_entities_senti_std.csv', encoding='utf-8-sig')\n",
        "\n",
        "\n",
        "temp  = pages_df_st.groupby(['quarter', 'out_group_np'])['insult_std'].mean().reset_index()\n",
        "temp.to_csv('pos_ner_basic/all_np_out_group_insult_std.csv', encoding='utf-8-sig')\n",
        "\n",
        "\n",
        "temp  = pages_df_st.groupby(['quarter', 'in_group_np'])['insult_std'].mean().reset_index()\n",
        "temp.to_csv('pos_ner_basic/all_np_in_group_insult_std.csv', encoding='utf-8-sig')\n",
        "\n",
        "\n",
        "temp  = pages_df_st.groupby(['quarter', 'no_entity_np'])['insult_std'].mean().reset_index()\n",
        "temp.to_csv('pos_ner_basic/all_np_no_entities_insult_std.csv', encoding='utf-8-sig')\n",
        "\n",
        "temp  = pages_df_st.groupby(['quarter', 'both_entity'])['insult_std'].mean().reset_index()\n",
        "temp.to_csv('pos_ner_basic/all_np_both_entities_insult_std.csv', encoding='utf-8-sig')\n"
      ]
    },
    {
      "cell_type": "code",
      "source": [
        "# aggregated by all posts + by leanings\n",
        "\n",
        "temp  = pages_df_st.groupby(['quarter', 'out_group_np', 'leanings'])['sentistr_std'].mean().reset_index()\n",
        "temp.to_csv('pos_ner_basic/leanings_np_out_group_senti_std.csv', encoding='utf-8-sig')\n",
        "\n",
        "\n",
        "temp  = pages_df_st.groupby(['quarter', 'in_group_np', 'leanings'])['sentistr_std'].mean().reset_index()\n",
        "temp.to_csv('pos_ner_basic/leanings_np_in_group_senti_std.csv', encoding='utf-8-sig')\n",
        "\n",
        "\n",
        "temp  = pages_df_st.groupby(['quarter', 'no_entity_np', 'leanings'])['sentistr_std'].mean().reset_index()\n",
        "temp.to_csv('pos_ner_basic/leanings_np_no_entities_senti_std.csv', encoding='utf-8-sig')\n",
        "\n",
        "\n",
        "temp  = pages_df_st.groupby(['quarter', 'both_entity', 'leanings'])['sentistr_std'].mean().reset_index()\n",
        "temp.to_csv('pos_ner_basic/leanings_np_both_entities_senti_std.csv', encoding='utf-8-sig')\n",
        "\n",
        "\n",
        "temp  = pages_df_st.groupby(['quarter', 'out_group_np', 'leanings'])['insult_std'].mean().reset_index()\n",
        "temp.to_csv('pos_ner_basic/leanings_np_out_group_insult_std.csv', encoding='utf-8-sig')\n",
        "\n",
        "\n",
        "temp  = pages_df_st.groupby(['quarter', 'in_group_np', 'leanings'])['insult_std'].mean().reset_index()\n",
        "temp.to_csv('pos_ner_basic/leanings_np_in_group_insult_std.csv', encoding='utf-8-sig')\n",
        "\n",
        "\n",
        "temp  = pages_df_st.groupby(['quarter', 'no_entity_np', 'leanings'])['insult_std'].mean().reset_index()\n",
        "temp.to_csv('pos_ner_basic/leanings_np_no_entities_insult_std.csv', encoding='utf-8-sig')\n",
        "\n",
        "temp  = pages_df_st.groupby(['quarter', 'both_entity', 'leanings'])['insult_std'].mean().reset_index()\n",
        "temp.to_csv('pos_ner_basic/leanings_np_both_entities_insult_std.csv', encoding='utf-8-sig')\n"
      ],
      "metadata": {
        "id": "zV8Sya9ZVR0S"
      },
      "execution_count": null,
      "outputs": []
    }
  ],
  "metadata": {
    "colab": {
      "collapsed_sections": [
        "uJ6Qo4-hAyil",
        "_9Zz_169Dp_M"
      ],
      "machine_shape": "hm",
      "name": "ner-pos-matching-wpreprocessing.ipynb",
      "provenance": [],
      "authorship_tag": "ABX9TyP7Ys+Q/H8TcQPdHd1BHhvC",
      "include_colab_link": true
    },
    "kernelspec": {
      "display_name": "Python 3",
      "name": "python3"
    },
    "language_info": {
      "name": "python"
    }
  },
  "nbformat": 4,
  "nbformat_minor": 0
}