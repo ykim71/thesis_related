{
  "nbformat": 4,
  "nbformat_minor": 0,
  "metadata": {
    "colab": {
      "name": "metrics_R3_final_largefile_zinbonly_030922.ipynb",
      "provenance": [],
      "collapsed_sections": [
        "YW1dSc2iqf83",
        "b_ETioUaa9WS",
        "_RMa91bzmKuh",
        "ydBVUFAhmRpb",
        "47JrG_0FmDy6",
        "iPBSBYZXsxdc",
        "v9ZbLhPLsuZN",
        "Rw_XUpYOdXWw",
        "fhFSw47QNhb8",
        "rOKYbq4XMr3B",
        "1F_fJY9Cn5pa",
        "PaPufhS7d0Sv",
        "JK2dwFnIqOTG",
        "D032d4rBsH6S",
        "K1swhpGptN7b",
        "cwg7SZzNtSFI",
        "Apz0oBG3tT1S",
        "p0JVCovdwQ4q",
        "LuOqYh51d1ys",
        "m7kD11GtzRy4",
        "UKwbJ7IBzawm",
        "0qkWp8RozVJ6",
        "Yu7lgCr9eCPl",
        "TKeRPLSb0WHR",
        "cI0my16-0e5R",
        "VVkJ-vat0awt",
        "93S_iTNReD8z",
        "DEY8Qs2o0qom",
        "C38uJo2o053E",
        "6CwYw1Mx0uwR",
        "CMZXVm6FaPfz",
        "flOgKM5u98gY",
        "ZSF0TKX9-ATA",
        "unmr5MNn-ZyZ",
        "j8LiQPYa-ZlZ",
        "Nb639MfyjL_a",
        "-WmzzuvPjQaB",
        "TAXAFUqljSzx",
        "wKPYJYZyk8gA",
        "ZO7AiLj8lHM6",
        "MxXlVVhQlOlA",
        "sUZa4zPqlSIJ",
        "1WY248UKlV1q"
      ],
      "machine_shape": "hm",
      "include_colab_link": true
    },
    "kernelspec": {
      "name": "ir",
      "display_name": "R"
    },
    "language_info": {
      "name": "R"
    }
  },
  "cells": [
    {
      "cell_type": "markdown",
      "metadata": {
        "id": "view-in-github",
        "colab_type": "text"
      },
      "source": [
        "<a href=\"https://colab.research.google.com/github/ykim71/thesis_related/blob/main/metrics_R3_final_largefile_zinbonly_030922.ipynb\" target=\"_parent\"><img src=\"https://colab.research.google.com/assets/colab-badge.svg\" alt=\"Open In Colab\"/></a>"
      ]
    },
    {
      "cell_type": "markdown",
      "metadata": {
        "id": "YW1dSc2iqf83"
      },
      "source": [
        "#### data merging"
      ]
    },
    {
      "cell_type": "code",
      "metadata": {
        "colab": {
          "base_uri": "https://localhost:8080/"
        },
        "id": "StrmXoS7psPf",
        "outputId": "ba604205-b97e-4f0a-f503-d03094e94322"
      },
      "source": [
        "# plotting\n",
        "library(tidyverse)\n",
        "options(scipen = 999)\n",
        "\n",
        "library(googledrive)\n",
        "drive_deauth()\n",
        "# final_pages_all_nona_st.rds\n",
        "downloaded_file <- drive_download('https://drive.google.com/uc?export=download&id=1DsjmQIxPlaSJ44tgeHJ8HudEJUAZar7F', overwrite = TRUE)\n",
        "# final_pages_react_nona_st.rds\n",
        "downloaded_file <- drive_download('https://drive.google.com/uc?export=download&id=10YcBvBYReJ0MwWggB_0KVS4RtGPU2Xrc', overwrite = TRUE)\n"
      ],
      "execution_count": null,
      "outputs": [
        {
          "output_type": "stream",
          "name": "stderr",
          "text": [
            "File downloaded:\n",
            "\n",
            "\u001b[36m•\u001b[39m \u001b[36mfinal_rep_pages_all_no_text.rds\u001b[39m \u001b[90m<id: 1DsjmQIxPlaSJ44tgeHJ8HudEJUAZar7F>\u001b[39m\n",
            "\n",
            "Saved locally as:\n",
            "\n",
            "\u001b[36m•\u001b[39m \u001b[34mfinal_rep_pages_all_no_text.rds\u001b[39m\n",
            "\n",
            "File downloaded:\n",
            "\n",
            "\u001b[36m•\u001b[39m \u001b[36mfinal_dem_pages_all_no_text.rds\u001b[39m \u001b[90m<id: 10YcBvBYReJ0MwWggB_0KVS4RtGPU2Xrc>\u001b[39m\n",
            "\n",
            "Saved locally as:\n",
            "\n",
            "\u001b[36m•\u001b[39m \u001b[34mfinal_dem_pages_all_no_text.rds\u001b[39m\n",
            "\n"
          ]
        }
      ]
    },
    {
      "cell_type": "code",
      "metadata": {
        "id": "IU4nBdZiqnXd"
      },
      "source": [
        "final_rep_pages_all_no_text <- readRDS(\"/content/final_rep_pages_all_no_text.rds\")\n",
        "final_dem_pages_all_no_text <- readRDS(\"/content/final_dem_pages_all_no_text.rds\")\n"
      ],
      "execution_count": null,
      "outputs": []
    },
    {
      "cell_type": "code",
      "metadata": {
        "id": "eUfRDSMQrDtY"
      },
      "source": [
        "final_pages_all_no_text <- rbind(final_rep_pages_all_no_text, final_dem_pages_all_no_text)"
      ],
      "execution_count": null,
      "outputs": []
    },
    {
      "cell_type": "code",
      "metadata": {
        "id": "PVYaWJ-dsE8u"
      },
      "source": [
        "final_pages_all_no_text <- final_pages_all_no_text %>% mutate(republican = ifelse(leanings==\"rep\",1,0))\n"
      ],
      "execution_count": null,
      "outputs": []
    },
    {
      "cell_type": "code",
      "metadata": {
        "id": "RCsEffu1sWKy"
      },
      "source": [
        "final_pages_all_no_text <- final_pages_all_no_text %>% mutate(leanings = ifelse(republican==1,\"Republican\",\"Democratic\"))\n"
      ],
      "execution_count": null,
      "outputs": []
    },
    {
      "cell_type": "code",
      "metadata": {
        "colab": {
          "base_uri": "https://localhost:8080/",
          "height": 162
        },
        "id": "JiOU5i9vsWU-",
        "outputId": "237dd852-0bb3-48da-cbdd-8edf32f00b9e"
      },
      "source": [
        "#final_pages_all_no_text %>% filter(is.na(insult)==TRUE ) %>% count()\n",
        "final_pages_all_no_text %>% filter(is.na(sentistr)==TRUE ) %>% count()"
      ],
      "execution_count": null,
      "outputs": [
        {
          "output_type": "display_data",
          "data": {
            "text/plain": [
              "  n\n",
              "1 0"
            ],
            "text/latex": "A data.frame: 1 × 1\n\\begin{tabular}{l}\n n\\\\\n <int>\\\\\n\\hline\n\t 0\\\\\n\\end{tabular}\n",
            "text/markdown": "\nA data.frame: 1 × 1\n\n| n &lt;int&gt; |\n|---|\n| 0 |\n\n",
            "text/html": [
              "<table class=\"dataframe\">\n",
              "<caption>A data.frame: 1 × 1</caption>\n",
              "<thead>\n",
              "\t<tr><th scope=col>n</th></tr>\n",
              "\t<tr><th scope=col>&lt;int&gt;</th></tr>\n",
              "</thead>\n",
              "<tbody>\n",
              "\t<tr><td>0</td></tr>\n",
              "</tbody>\n",
              "</table>\n"
            ]
          },
          "metadata": {}
        }
      ]
    },
    {
      "cell_type": "code",
      "metadata": {
        "id": "OtkCDOmatMzt"
      },
      "source": [
        "saveRDS(final_pages_all_no_text, \"final_pages_all_no_text.rds\")\n"
      ],
      "execution_count": null,
      "outputs": []
    },
    {
      "cell_type": "markdown",
      "metadata": {
        "id": "RTimn2_oql7v"
      },
      "source": [
        "# main"
      ]
    },
    {
      "cell_type": "code",
      "metadata": {
        "colab": {
          "base_uri": "https://localhost:8080/"
        },
        "id": "8qiy7kdDDPYR",
        "outputId": "cbf0840d-1124-4c5f-fa90-0a78a8432ad9"
      },
      "source": [
        "# plotting\n",
        "library(tidyverse)\n",
        "library(ggplot2)\n",
        "options(scipen = 999)\n",
        "\n",
        "library(googledrive)\n",
        "drive_deauth()\n",
        "# final_pages_all_nona_st.rds\n",
        "#downloaded_file <- drive_download('https://drive.google.com/uc?export=download&id=1jMO6uRxZ2Q5Bfy-BikvigX_U-YKbygxO', overwrite = TRUE)\n",
        "# final_pages_react_nona_st.rds\n",
        "downloaded_file <- drive_download('https://drive.google.com/uc?export=download&id=1B86dDCYyBG0XGydM-NNAjHF08d0PVo-2', overwrite = TRUE)\n",
        "# final_pages_all_nona_st2.rds\n",
        "downloaded_file <- drive_download('https://drive.google.com/uc?export=download&id=1RrybKRNALvXjOoLNrue50BrVHUa1rbff', overwrite = TRUE)\n",
        "\n"
      ],
      "execution_count": null,
      "outputs": [
        {
          "output_type": "stream",
          "name": "stderr",
          "text": [
            "Warning message in system(\"timedatectl\", intern = TRUE):\n",
            "“running command 'timedatectl' had status 1”\n",
            "── \u001b[1mAttaching packages\u001b[22m ─────────────────────────────────────── tidyverse 1.3.1 ──\n",
            "\n",
            "\u001b[32m✔\u001b[39m \u001b[34mggplot2\u001b[39m 3.3.5     \u001b[32m✔\u001b[39m \u001b[34mpurrr  \u001b[39m 0.3.4\n",
            "\u001b[32m✔\u001b[39m \u001b[34mtibble \u001b[39m 3.1.6     \u001b[32m✔\u001b[39m \u001b[34mdplyr  \u001b[39m 1.0.8\n",
            "\u001b[32m✔\u001b[39m \u001b[34mtidyr  \u001b[39m 1.2.0     \u001b[32m✔\u001b[39m \u001b[34mstringr\u001b[39m 1.4.0\n",
            "\u001b[32m✔\u001b[39m \u001b[34mreadr  \u001b[39m 2.1.2     \u001b[32m✔\u001b[39m \u001b[34mforcats\u001b[39m 0.5.1\n",
            "\n",
            "── \u001b[1mConflicts\u001b[22m ────────────────────────────────────────── tidyverse_conflicts() ──\n",
            "\u001b[31m✖\u001b[39m \u001b[34mdplyr\u001b[39m::\u001b[32mfilter()\u001b[39m masks \u001b[34mstats\u001b[39m::filter()\n",
            "\u001b[31m✖\u001b[39m \u001b[34mdplyr\u001b[39m::\u001b[32mlag()\u001b[39m    masks \u001b[34mstats\u001b[39m::lag()\n",
            "\n",
            "File downloaded:\n",
            "\n",
            "\u001b[36m•\u001b[39m \u001b[36mfinal_pages_react_nona_st.rds\u001b[39m \u001b[90m<id: 1B86dDCYyBG0XGydM-NNAjHF08d0PVo-2>\u001b[39m\n",
            "\n",
            "Saved locally as:\n",
            "\n",
            "\u001b[36m•\u001b[39m \u001b[34mfinal_pages_react_nona_st.rds\u001b[39m\n",
            "\n",
            "File downloaded:\n",
            "\n",
            "\u001b[36m•\u001b[39m \u001b[36mfinal_pages_all_nona_st2.rds\u001b[39m \u001b[90m<id: 1RrybKRNALvXjOoLNrue50BrVHUa1rbff>\u001b[39m\n",
            "\n",
            "Saved locally as:\n",
            "\n",
            "\u001b[36m•\u001b[39m \u001b[34mfinal_pages_all_nona_st2.rds\u001b[39m\n",
            "\n"
          ]
        }
      ]
    },
    {
      "cell_type": "code",
      "metadata": {
        "id": "vBZ0VLHNEnJI"
      },
      "source": [
        "final_pages_all_nona_st <- readRDS(\"/content/final_pages_all_nona_st2.rds\")\n",
        "#final_pages_react_nona_st <- readRDS(\"/content/final_pages_react_nona_st.rds\")\n"
      ],
      "execution_count": null,
      "outputs": []
    },
    {
      "cell_type": "code",
      "source": [
        "table(final_pages_all_nona_st$republican) # correct one"
      ],
      "metadata": {
        "colab": {
          "base_uri": "https://localhost:8080/",
          "height": 70
        },
        "id": "2Xjq0RUhIqp6",
        "outputId": "3b95e178-1104-4ff3-c767-faab73b8fd7f"
      },
      "execution_count": null,
      "outputs": [
        {
          "output_type": "display_data",
          "data": {
            "text/plain": [
              "\n",
              "      0       1 \n",
              "6638025 7317844 "
            ]
          },
          "metadata": {}
        }
      ]
    },
    {
      "cell_type": "code",
      "source": [
        "#table(final_pages_all_nona_st$republican) # incorrect"
      ],
      "metadata": {
        "colab": {
          "base_uri": "https://localhost:8080/",
          "height": 70
        },
        "id": "zMsiL1Mc_dO5",
        "outputId": "a787efdf-c4cd-447a-c19a-e41db755cda0"
      },
      "execution_count": null,
      "outputs": [
        {
          "output_type": "display_data",
          "data": {
            "text/plain": [
              "\n",
              "      0       1 \n",
              "7317844 6638025 "
            ]
          },
          "metadata": {}
        }
      ]
    },
    {
      "cell_type": "code",
      "source": [
        "table(final_pages_react_nona_st$republican)"
      ],
      "metadata": {
        "colab": {
          "base_uri": "https://localhost:8080/",
          "height": 70
        },
        "id": "yK__TD1S_ft2",
        "outputId": "b2be1f90-2e40-45fc-cbf2-a928a0c062f5"
      },
      "execution_count": null,
      "outputs": [
        {
          "output_type": "display_data",
          "data": {
            "text/plain": [
              "\n",
              "      0       1 \n",
              "4912360 6079177 "
            ]
          },
          "metadata": {}
        }
      ]
    },
    {
      "cell_type": "code",
      "metadata": {
        "id": "lIy8YiXSSMtD",
        "colab": {
          "base_uri": "https://localhost:8080/",
          "height": 34
        },
        "outputId": "66f17cc7-9a1a-416f-ea63-27bafd07eb66"
      },
      "source": [
        "names(final_pages_all_nona_st)"
      ],
      "execution_count": null,
      "outputs": [
        {
          "output_type": "display_data",
          "data": {
            "text/plain": [
              "[1] \"Likes\"         \"Comments\"      \"Shares\"        \"Page.Name.fac\"\n",
              "[5] \"republican\"    \"sentistr\"      \"insult\"        \"sentistr_std\" \n",
              "[9] \"insult_std\"   "
            ],
            "text/latex": "\\begin{enumerate*}\n\\item 'Likes'\n\\item 'Comments'\n\\item 'Shares'\n\\item 'Page.Name.fac'\n\\item 'republican'\n\\item 'sentistr'\n\\item 'insult'\n\\item 'sentistr\\_std'\n\\item 'insult\\_std'\n\\end{enumerate*}\n",
            "text/markdown": "1. 'Likes'\n2. 'Comments'\n3. 'Shares'\n4. 'Page.Name.fac'\n5. 'republican'\n6. 'sentistr'\n7. 'insult'\n8. 'sentistr_std'\n9. 'insult_std'\n\n\n",
            "text/html": [
              "<style>\n",
              ".list-inline {list-style: none; margin:0; padding: 0}\n",
              ".list-inline>li {display: inline-block}\n",
              ".list-inline>li:not(:last-child)::after {content: \"\\00b7\"; padding: 0 .5ex}\n",
              "</style>\n",
              "<ol class=list-inline><li>'Likes'</li><li>'Comments'</li><li>'Shares'</li><li>'Page.Name.fac'</li><li>'republican'</li><li>'sentistr'</li><li>'insult'</li><li>'sentistr_std'</li><li>'insult_std'</li></ol>\n"
            ]
          },
          "metadata": {}
        }
      ]
    },
    {
      "cell_type": "code",
      "metadata": {
        "colab": {
          "base_uri": "https://localhost:8080/",
          "height": 34
        },
        "id": "0kxQ7KDSSOuo",
        "outputId": "18917890-1873-4f9f-eb62-651b5ccdb274"
      },
      "source": [
        "names(final_pages_react_nona_st)"
      ],
      "execution_count": null,
      "outputs": [
        {
          "output_type": "display_data",
          "data": {
            "text/plain": [
              " [1] \"Love\"          \"Wow\"           \"Haha\"          \"Sad\"          \n",
              " [5] \"Angry\"         \"Page.Name.fac\" \"republican\"    \"sentistr\"     \n",
              " [9] \"insult\"        \"sentistr_std\"  \"insult_std\"   "
            ],
            "text/latex": "\\begin{enumerate*}\n\\item 'Love'\n\\item 'Wow'\n\\item 'Haha'\n\\item 'Sad'\n\\item 'Angry'\n\\item 'Page.Name.fac'\n\\item 'republican'\n\\item 'sentistr'\n\\item 'insult'\n\\item 'sentistr\\_std'\n\\item 'insult\\_std'\n\\end{enumerate*}\n",
            "text/markdown": "1. 'Love'\n2. 'Wow'\n3. 'Haha'\n4. 'Sad'\n5. 'Angry'\n6. 'Page.Name.fac'\n7. 'republican'\n8. 'sentistr'\n9. 'insult'\n10. 'sentistr_std'\n11. 'insult_std'\n\n\n",
            "text/html": [
              "<style>\n",
              ".list-inline {list-style: none; margin:0; padding: 0}\n",
              ".list-inline>li {display: inline-block}\n",
              ".list-inline>li:not(:last-child)::after {content: \"\\00b7\"; padding: 0 .5ex}\n",
              "</style>\n",
              "<ol class=list-inline><li>'Love'</li><li>'Wow'</li><li>'Haha'</li><li>'Sad'</li><li>'Angry'</li><li>'Page.Name.fac'</li><li>'republican'</li><li>'sentistr'</li><li>'insult'</li><li>'sentistr_std'</li><li>'insult_std'</li></ol>\n"
            ]
          },
          "metadata": {}
        }
      ]
    },
    {
      "cell_type": "code",
      "metadata": {
        "colab": {
          "base_uri": "https://localhost:8080/"
        },
        "id": "U1jMvrdREo8v",
        "outputId": "8f68efa6-7b2b-45e6-ded7-24a70f202ca7"
      },
      "source": [
        "install.packages(\"remotes\")\n",
        "remotes::install_github(\"nyiuab/NBZIMM\")\n",
        "library(NBZIMM)"
      ],
      "execution_count": null,
      "outputs": [
        {
          "output_type": "stream",
          "name": "stderr",
          "text": [
            "Installing package into ‘/usr/local/lib/R/site-library’\n",
            "(as ‘lib’ is unspecified)\n",
            "\n",
            "Downloading GitHub repo nyiuab/NBZIMM@HEAD\n",
            "\n"
          ]
        },
        {
          "output_type": "stream",
          "name": "stdout",
          "text": [
            "* checking for file ‘/tmp/RtmphcSjV6/remotes415139afc6/nyiuab-NBZIMM-b3bc032/DESCRIPTION’ ... OK\n",
            "* preparing ‘NBZIMM’:\n",
            "* checking DESCRIPTION meta-information ... OK\n",
            "* checking for LF line-endings in source and make files and shell scripts\n",
            "* checking for empty or unneeded directories\n",
            "* building ‘NBZIMM_1.0.tar.gz’\n",
            "\n"
          ]
        },
        {
          "output_type": "stream",
          "name": "stderr",
          "text": [
            "Installing package into ‘/usr/local/lib/R/site-library’\n",
            "(as ‘lib’ is unspecified)\n",
            "\n",
            "\n",
            "Attaching package: ‘NBZIMM’\n",
            "\n",
            "\n",
            "The following object is masked from ‘package:stringr’:\n",
            "\n",
            "    fixed\n",
            "\n",
            "\n"
          ]
        }
      ]
    },
    {
      "cell_type": "markdown",
      "source": [
        "## NBZIMM (updated with republican coding)\n"
      ],
      "metadata": {
        "id": "H5ihmrh5I9fH"
      }
    },
    {
      "cell_type": "markdown",
      "metadata": {
        "id": "b_ETioUaa9WS"
      },
      "source": [
        "## likes"
      ]
    },
    {
      "cell_type": "markdown",
      "source": [
        "### main both + fitted "
      ],
      "metadata": {
        "id": "_RMa91bzmKuh"
      }
    },
    {
      "cell_type": "code",
      "metadata": {
        "id": "W413DcksoKyP",
        "colab": {
          "base_uri": "https://localhost:8080/",
          "height": 481
        },
        "outputId": "eda89635-4cf0-4243-c667-b564450d823d"
      },
      "source": [
        "### main both\n",
        "system.time(m2_Likes_zinbi_main_std_comp <- glmm.zinb(Likes ~ sentistr_std + insult_std + republican, random = ~1|Page.Name.fac , zi_fixed =  ~1, data=final_pages_all_nona_st))\n"
      ],
      "execution_count": null,
      "outputs": [
        {
          "metadata": {
            "tags": null
          },
          "name": "stderr",
          "output_type": "stream",
          "text": [
            "Loading required namespace: nlme\n",
            "\n",
            "Loading required namespace: MASS\n",
            "\n",
            "\n",
            "Attaching package: ‘nlme’\n",
            "\n",
            "\n",
            "The following object is masked from ‘package:dplyr’:\n",
            "\n",
            "    collapse\n",
            "\n",
            "\n",
            "\n",
            "Attaching package: ‘MASS’\n",
            "\n",
            "\n",
            "The following object is masked from ‘package:dplyr’:\n",
            "\n",
            "    select\n",
            "\n",
            "\n"
          ]
        },
        {
          "output_type": "stream",
          "name": "stdout",
          "text": [
            "Computational iterations: 24 \n",
            "Computational time: 146.21 minutes \n"
          ]
        },
        {
          "output_type": "display_data",
          "data": {
            "text/plain": [
              "    user   system  elapsed \n",
              "8462.943  308.271 8772.691 "
            ]
          },
          "metadata": {}
        }
      ]
    },
    {
      "cell_type": "code",
      "metadata": {
        "id": "7nA35rRWoKfW"
      },
      "source": [
        "\n",
        "m2_Likes_zinbi_main_std_comp_fit <- m2_Likes_zinbi_main_std_comp$fitted\n",
        "saveRDS(m2_Likes_zinbi_main_std_comp_fit, \"m2_Likes_zinbi_main_std_comp_fit.rds\")\n"
      ],
      "execution_count": null,
      "outputs": []
    },
    {
      "cell_type": "code",
      "metadata": {
        "id": "Hav30mCNoKoo",
        "colab": {
          "base_uri": "https://localhost:8080/",
          "height": 570
        },
        "outputId": "e642e6fe-0f43-40ad-ac68-83b57503c226"
      },
      "source": [
        "summary(m2_Likes_zinbi_main_std_comp)\n"
      ],
      "execution_count": null,
      "outputs": [
        {
          "output_type": "display_data",
          "data": {
            "text/plain": [
              "Linear mixed-effects model fit by maximum likelihood\n",
              "  Data: final_pages_all_nona_st \n",
              "  AIC BIC logLik\n",
              "   NA  NA     NA\n",
              "\n",
              "Random effects:\n",
              " Formula: ~1 | Page.Name.fac\n",
              "        (Intercept) Residual\n",
              "StdDev:    1.327931 2.262978\n",
              "\n",
              "Variance function:\n",
              " Structure: fixed weights\n",
              " Formula: ~invwt \n",
              "Fixed effects:  Likes ~ sentistr_std + insult_std + republican \n",
              "                 Value  Std.Error       DF   t-value p-value\n",
              "(Intercept)   4.553892 0.05091081 13954374  89.44843  0.0000\n",
              "sentistr_std  0.125044 0.00094469 13954374 132.36555  0.0000\n",
              "insult_std    0.090118 0.00097137 13954374  92.77395  0.0000\n",
              "republican   -0.078471 0.06908611     1491  -1.13584  0.2562\n",
              " Correlation: \n",
              "             (Intr) sntst_ inslt_\n",
              "sentistr_std  0.000              \n",
              "insult_std    0.000  0.261       \n",
              "republican   -0.737 -0.001  0.000\n",
              "\n",
              "Standardized Within-Group Residuals:\n",
              "         Min           Q1          Med           Q3          Max \n",
              " -0.30066773  -0.27343340  -0.20882798  -0.01855708 569.95160414 \n",
              "\n",
              "Number of Observations: 13955869\n",
              "Number of Groups: 1493 "
            ]
          },
          "metadata": {}
        }
      ]
    },
    {
      "cell_type": "code",
      "metadata": {
        "id": "r1IoKkbBoKkP",
        "colab": {
          "base_uri": "https://localhost:8080/",
          "height": 392
        },
        "outputId": "ac2f366f-68ae-4ada-a451-45ef1028ab77"
      },
      "source": [
        "summary(m2_Likes_zinbi_main_std_comp$fit.zero)\n"
      ],
      "execution_count": null,
      "outputs": [
        {
          "output_type": "display_data",
          "data": {
            "text/plain": [
              "\n",
              "Call:\n",
              "glm(formula = fm, family = binomial, data = data)\n",
              "\n",
              "Deviance Residuals: \n",
              "       Min          1Q      Median          3Q         Max  \n",
              "-0.0001067  -0.0001067  -0.0001067  -0.0001067   0.0034656  \n",
              "\n",
              "Coefficients:\n",
              "            Estimate Std. Error z value     Pr(>|z|)    \n",
              "(Intercept)  -18.983      3.546  -5.353 0.0000000865 ***\n",
              "---\n",
              "Signif. codes:  0 ‘***’ 0.001 ‘**’ 0.01 ‘*’ 0.05 ‘.’ 0.1 ‘ ’ 1\n",
              "\n",
              "(Dispersion parameter for binomial family taken to be 1)\n",
              "\n",
              "    Null deviance: 0.46646  on 13955868  degrees of freedom\n",
              "Residual deviance: 0.46646  on 13955868  degrees of freedom\n",
              "AIC: 2.159\n",
              "\n",
              "Number of Fisher Scoring iterations: 22\n"
            ]
          },
          "metadata": {}
        }
      ]
    },
    {
      "cell_type": "markdown",
      "source": [
        "### interact + fitted (done)"
      ],
      "metadata": {
        "id": "ydBVUFAhmRpb"
      }
    },
    {
      "cell_type": "code",
      "metadata": {
        "id": "iWi3-phsk9mZ",
        "colab": {
          "base_uri": "https://localhost:8080/",
          "height": 481
        },
        "outputId": "0d777491-acaa-4b7f-cdbe-6cad450341ef"
      },
      "source": [
        "### interaction\n",
        "system.time(m2_Likes_zinbi_int_std <- glmm.zinb(Likes ~ sentistr_std*republican + insult_std*republican, random = ~1|Page.Name.fac , zi_fixed =  ~1, data=final_pages_all_nona_st))\n"
      ],
      "execution_count": null,
      "outputs": [
        {
          "output_type": "stream",
          "name": "stderr",
          "text": [
            "Loading required namespace: nlme\n",
            "\n",
            "Loading required namespace: MASS\n",
            "\n",
            "\n",
            "Attaching package: ‘nlme’\n",
            "\n",
            "\n",
            "The following object is masked from ‘package:dplyr’:\n",
            "\n",
            "    collapse\n",
            "\n",
            "\n",
            "\n",
            "Attaching package: ‘MASS’\n",
            "\n",
            "\n",
            "The following object is masked from ‘package:dplyr’:\n",
            "\n",
            "    select\n",
            "\n",
            "\n"
          ]
        },
        {
          "output_type": "stream",
          "name": "stdout",
          "text": [
            "Computational iterations: 24 \n",
            "Computational time: 170.832 minutes \n"
          ]
        },
        {
          "output_type": "display_data",
          "data": {
            "text/plain": [
              "     user    system   elapsed \n",
              " 9765.101   482.909 10250.024 "
            ]
          },
          "metadata": {}
        }
      ]
    },
    {
      "cell_type": "code",
      "metadata": {
        "id": "ZbBFe9gK7p5_"
      },
      "source": [
        "m2_Likes_zinbi_int_std_fit <- m2_Likes_zinbi_int_std$fitted\n",
        "saveRDS(m2_Likes_zinbi_int_std_fit, \"m2_Likes_zinbi_int_std_fit.rds\")"
      ],
      "execution_count": null,
      "outputs": []
    },
    {
      "cell_type": "code",
      "metadata": {
        "id": "GeJ-qEF5k9gZ",
        "colab": {
          "base_uri": "https://localhost:8080/",
          "height": 642
        },
        "outputId": "4d4ae382-c9b4-4e50-ad87-2b47b37786e4"
      },
      "source": [
        "summary(m2_Likes_zinbi_int_std)\n"
      ],
      "execution_count": null,
      "outputs": [
        {
          "output_type": "display_data",
          "data": {
            "text/plain": [
              "Linear mixed-effects model fit by maximum likelihood\n",
              "  Data: final_pages_all_nona_st \n",
              "  AIC BIC logLik\n",
              "   NA  NA     NA\n",
              "\n",
              "Random effects:\n",
              " Formula: ~1 | Page.Name.fac\n",
              "        (Intercept) Residual\n",
              "StdDev:    1.327534 2.260666\n",
              "\n",
              "Variance function:\n",
              " Structure: fixed weights\n",
              " Formula: ~invwt \n",
              "Fixed effects:  Likes ~ sentistr_std * republican + insult_std * republican \n",
              "                            Value  Std.Error       DF   t-value p-value\n",
              "(Intercept)              4.553666 0.05089550 13954372  89.47089  0.0000\n",
              "sentistr_std             0.114261 0.00140603 13954372  81.26472  0.0000\n",
              "republican              -0.079076 0.06906538     1491  -1.14495  0.2524\n",
              "insult_std               0.107481 0.00137853 13954372  77.96819  0.0000\n",
              "sentistr_std:republican  0.018768 0.00189681 13954372   9.89449  0.0000\n",
              "republican:insult_std   -0.036338 0.00194069 13954372 -18.72405  0.0000\n",
              " Correlation: \n",
              "                        (Intr) sntst_ rpblcn inslt_ snts_:\n",
              "sentistr_std             0.000                            \n",
              "republican              -0.737  0.000                     \n",
              "insult_std               0.000  0.257  0.000              \n",
              "sentistr_std:republican  0.000 -0.741 -0.001 -0.191       \n",
              "republican:insult_std    0.000 -0.183  0.000 -0.710  0.261\n",
              "\n",
              "Standardized Within-Group Residuals:\n",
              "         Min           Q1          Med           Q3          Max \n",
              " -0.30101002  -0.27373083  -0.20904777  -0.01864997 559.97821784 \n",
              "\n",
              "Number of Observations: 13955869\n",
              "Number of Groups: 1493 "
            ]
          },
          "metadata": {}
        }
      ]
    },
    {
      "cell_type": "code",
      "metadata": {
        "id": "ejpVS_SOk9XH",
        "colab": {
          "base_uri": "https://localhost:8080/",
          "height": 392
        },
        "outputId": "7ac4151e-6b1d-498d-addf-22cfbbea68ec"
      },
      "source": [
        "summary(m2_Likes_zinbi_int_std$fit.zero)\n"
      ],
      "execution_count": null,
      "outputs": [
        {
          "output_type": "display_data",
          "data": {
            "text/plain": [
              "\n",
              "Call:\n",
              "glm(formula = fm, family = binomial, data = data)\n",
              "\n",
              "Deviance Residuals: \n",
              "       Min          1Q      Median          3Q         Max  \n",
              "-0.0001074  -0.0001074  -0.0001074  -0.0001074   0.0034420  \n",
              "\n",
              "Coefficients:\n",
              "            Estimate Std. Error z value     Pr(>|z|)    \n",
              "(Intercept)  -18.970      3.523  -5.384 0.0000000728 ***\n",
              "---\n",
              "Signif. codes:  0 ‘***’ 0.001 ‘**’ 0.01 ‘*’ 0.05 ‘.’ 0.1 ‘ ’ 1\n",
              "\n",
              "(Dispersion parameter for binomial family taken to be 1)\n",
              "\n",
              "    Null deviance: 0.47248  on 13955868  degrees of freedom\n",
              "Residual deviance: 0.47248  on 13955868  degrees of freedom\n",
              "AIC: 2.1611\n",
              "\n",
              "Number of Fisher Scoring iterations: 22\n"
            ]
          },
          "metadata": {}
        }
      ]
    },
    {
      "cell_type": "markdown",
      "metadata": {
        "id": "47JrG_0FmDy6"
      },
      "source": [
        "### main + sep"
      ]
    },
    {
      "cell_type": "code",
      "metadata": {
        "id": "neSb79VZnAAy",
        "colab": {
          "base_uri": "https://localhost:8080/",
          "height": 88
        },
        "outputId": "9ef0e003-acbb-4b90-e038-ead17bca7018"
      },
      "source": [
        "\n",
        "### sep -- insult\n",
        "system.time(m2_Likes_zinbi_inciv_main_std <- glmm.zinb(Likes ~ insult_std + republican, random = ~1|Page.Name.fac , zi_fixed =  ~1, data=final_pages_all_nona_st))\n"
      ],
      "execution_count": null,
      "outputs": [
        {
          "output_type": "stream",
          "name": "stdout",
          "text": [
            "Computational iterations: 24 \n",
            "Computational time: 138.432 minutes \n"
          ]
        },
        {
          "output_type": "display_data",
          "data": {
            "text/plain": [
              "    user   system  elapsed \n",
              "7693.272  610.389 8305.948 "
            ]
          },
          "metadata": {}
        }
      ]
    },
    {
      "cell_type": "code",
      "metadata": {
        "id": "yDLmzAxJm_7x",
        "colab": {
          "base_uri": "https://localhost:8080/",
          "height": 535
        },
        "outputId": "f8fb5617-27da-42f2-df56-fa08475a7352"
      },
      "source": [
        "summary(m2_Likes_zinbi_inciv_main_std)\n"
      ],
      "execution_count": null,
      "outputs": [
        {
          "output_type": "display_data",
          "data": {
            "text/plain": [
              "Linear mixed-effects model fit by maximum likelihood\n",
              "  Data: final_pages_all_nona_st \n",
              "  AIC BIC logLik\n",
              "   NA  NA     NA\n",
              "\n",
              "Random effects:\n",
              " Formula: ~1 | Page.Name.fac\n",
              "        (Intercept) Residual\n",
              "StdDev:    1.334572 2.285377\n",
              "\n",
              "Variance function:\n",
              " Structure: fixed weights\n",
              " Formula: ~invwt \n",
              "Fixed effects:  Likes ~ insult_std + republican \n",
              "                Value  Std.Error       DF  t-value p-value\n",
              "(Intercept)  4.558440 0.05116629 13954375 89.09069  0.0000\n",
              "insult_std   0.053515 0.00094901 13954375 56.39075  0.0000\n",
              "republican  -0.067084 0.06943288     1491 -0.96618  0.3341\n",
              " Correlation: \n",
              "           (Intr) inslt_\n",
              "insult_std  0.000       \n",
              "republican -0.737  0.000\n",
              "\n",
              "Standardized Within-Group Residuals:\n",
              "         Min           Q1          Med           Q3          Max \n",
              " -0.29704715  -0.27034731  -0.20702417  -0.01958829 636.74384870 \n",
              "\n",
              "Number of Observations: 13955869\n",
              "Number of Groups: 1493 "
            ]
          },
          "metadata": {}
        }
      ]
    },
    {
      "cell_type": "code",
      "metadata": {
        "id": "PYxWMoCPm_yU",
        "colab": {
          "base_uri": "https://localhost:8080/",
          "height": 392
        },
        "outputId": "9cd95a1e-8adf-4261-c3f6-4c4aa00c0e8f"
      },
      "source": [
        "summary(m2_Likes_zinbi_inciv_main_std$fit.zero)\n"
      ],
      "execution_count": null,
      "outputs": [
        {
          "output_type": "display_data",
          "data": {
            "text/plain": [
              "\n",
              "Call:\n",
              "glm(formula = fm, family = binomial, data = data)\n",
              "\n",
              "Deviance Residuals: \n",
              "        Min           1Q       Median           3Q          Max  \n",
              "-0.00009737  -0.00009737  -0.00009737  -0.00009737   0.00295735  \n",
              "\n",
              "Coefficients:\n",
              "            Estimate Std. Error z value    Pr(>|z|)    \n",
              "(Intercept)  -19.167      3.888   -4.93 0.000000823 ***\n",
              "---\n",
              "Signif. codes:  0 ‘***’ 0.001 ‘**’ 0.01 ‘*’ 0.05 ‘.’ 0.1 ‘ ’ 1\n",
              "\n",
              "(Dispersion parameter for binomial family taken to be 1)\n",
              "\n",
              "    Null deviance: 0.38735  on 13955868  degrees of freedom\n",
              "Residual deviance: 0.38735  on 13955868  degrees of freedom\n",
              "AIC: 2.1323\n",
              "\n",
              "Number of Fisher Scoring iterations: 22\n"
            ]
          },
          "metadata": {}
        }
      ]
    },
    {
      "cell_type": "code",
      "metadata": {
        "id": "_NaDbAKhnpp-",
        "colab": {
          "base_uri": "https://localhost:8080/",
          "height": 88
        },
        "outputId": "f0eace29-8031-4900-fcc2-cc5fa28c8753"
      },
      "source": [
        "### sep -- senti\n",
        "system.time(m2_Likes_zinbi_senti_main_std <- glmm.zinb(Likes ~ sentistr_std + republican, random = ~1|Page.Name.fac , zi_fixed =  ~1, data=final_pages_all_nona_st))\n"
      ],
      "execution_count": null,
      "outputs": [
        {
          "output_type": "stream",
          "name": "stdout",
          "text": [
            "Computational iterations: 24 \n",
            "Computational time: 136.887 minutes \n"
          ]
        },
        {
          "output_type": "display_data",
          "data": {
            "text/plain": [
              "    user   system  elapsed \n",
              "7522.062  688.886 8213.244 "
            ]
          },
          "metadata": {}
        }
      ]
    },
    {
      "cell_type": "code",
      "metadata": {
        "id": "yU_oXNgRnpm2",
        "colab": {
          "base_uri": "https://localhost:8080/",
          "height": 535
        },
        "outputId": "9d27ee28-bcaf-47bd-f6fd-e5b79e61cebe"
      },
      "source": [
        "summary(m2_Likes_zinbi_senti_main_std)\n"
      ],
      "execution_count": null,
      "outputs": [
        {
          "output_type": "display_data",
          "data": {
            "text/plain": [
              "Linear mixed-effects model fit by maximum likelihood\n",
              "  Data: final_pages_all_nona_st \n",
              "  AIC BIC logLik\n",
              "   NA  NA     NA\n",
              "\n",
              "Random effects:\n",
              " Formula: ~1 | Page.Name.fac\n",
              "        (Intercept) Residual\n",
              "StdDev:    1.331376 2.248233\n",
              "\n",
              "Variance function:\n",
              " Structure: fixed weights\n",
              " Formula: ~invwt \n",
              "Fixed effects:  Likes ~ sentistr_std + republican \n",
              "                 Value  Std.Error       DF   t-value p-value\n",
              "(Intercept)   4.557885 0.05104190 13954375  89.29692  0.0000\n",
              "sentistr_std  0.098590 0.00090688 13954375 108.71382  0.0000\n",
              "republican   -0.079002 0.06926384     1491  -1.14059  0.2542\n",
              " Correlation: \n",
              "             (Intr) sntst_\n",
              "sentistr_std  0.000       \n",
              "republican   -0.737 -0.001\n",
              "\n",
              "Standardized Within-Group Residuals:\n",
              "         Min           Q1          Med           Q3          Max \n",
              " -0.30230386  -0.27506156  -0.21002029  -0.01846234 564.64467241 \n",
              "\n",
              "Number of Observations: 13955869\n",
              "Number of Groups: 1493 "
            ]
          },
          "metadata": {}
        }
      ]
    },
    {
      "cell_type": "code",
      "metadata": {
        "id": "iJVGYDJqnpi-",
        "colab": {
          "base_uri": "https://localhost:8080/",
          "height": 392
        },
        "outputId": "02c9770a-08d0-4755-e851-3c5db0dabce1"
      },
      "source": [
        "summary(m2_Likes_zinbi_senti_main_std$fit.zero)\n"
      ],
      "execution_count": null,
      "outputs": [
        {
          "output_type": "display_data",
          "data": {
            "text/plain": [
              "\n",
              "Call:\n",
              "glm(formula = fm, family = binomial, data = data)\n",
              "\n",
              "Deviance Residuals: \n",
              "       Min          1Q      Median          3Q         Max  \n",
              "-0.0001032  -0.0001032  -0.0001032  -0.0001032   0.0033356  \n",
              "\n",
              "Coefficients:\n",
              "            Estimate Std. Error z value    Pr(>|z|)    \n",
              "(Intercept)  -19.050      3.668  -5.194 0.000000205 ***\n",
              "---\n",
              "Signif. codes:  0 ‘***’ 0.001 ‘**’ 0.01 ‘*’ 0.05 ‘.’ 0.1 ‘ ’ 1\n",
              "\n",
              "(Dispersion parameter for binomial family taken to be 1)\n",
              "\n",
              "    Null deviance: 0.43543  on 13955868  degrees of freedom\n",
              "Residual deviance: 0.43543  on 13955868  degrees of freedom\n",
              "AIC: 2.1487\n",
              "\n",
              "Number of Fisher Scoring iterations: 22\n"
            ]
          },
          "metadata": {}
        }
      ]
    },
    {
      "cell_type": "markdown",
      "source": [
        "## shares"
      ],
      "metadata": {
        "id": "eBNElrTCsMtF"
      }
    },
    {
      "cell_type": "markdown",
      "source": [
        "### interaction + fitted (done)"
      ],
      "metadata": {
        "id": "iPBSBYZXsxdc"
      }
    },
    {
      "cell_type": "code",
      "source": [
        "system.time(m2_Shares_zinbi_int_std <- glmm.zinb(Shares ~ sentistr_std*republican + insult_std*republican, random = ~1|Page.Name.fac , zi_fixed =  ~1, data=final_pages_all_nona_st))\n"
      ],
      "metadata": {
        "colab": {
          "base_uri": "https://localhost:8080/",
          "height": 481
        },
        "id": "b3XMZnV0szdM",
        "outputId": "fb9f9a04-f1ad-4755-8d69-b7da23e8c8e3"
      },
      "execution_count": null,
      "outputs": [
        {
          "output_type": "stream",
          "name": "stderr",
          "text": [
            "Loading required namespace: nlme\n",
            "\n",
            "Loading required namespace: MASS\n",
            "\n",
            "\n",
            "Attaching package: ‘nlme’\n",
            "\n",
            "\n",
            "The following object is masked from ‘package:dplyr’:\n",
            "\n",
            "    collapse\n",
            "\n",
            "\n",
            "\n",
            "Attaching package: ‘MASS’\n",
            "\n",
            "\n",
            "The following object is masked from ‘package:dplyr’:\n",
            "\n",
            "    select\n",
            "\n",
            "\n"
          ]
        },
        {
          "output_type": "stream",
          "name": "stdout",
          "text": [
            "Computational iterations: 25 \n",
            "Computational time: 179.992 minutes \n"
          ]
        },
        {
          "output_type": "display_data",
          "data": {
            "text/plain": [
              "     user    system   elapsed \n",
              "10421.685   375.816 10799.625 "
            ]
          },
          "metadata": {}
        }
      ]
    },
    {
      "cell_type": "code",
      "source": [
        "m2_Shares_zinbi_int_std_fit <- m2_Shares_zinbi_int_std$fitted\n",
        "saveRDS(m2_Shares_zinbi_int_std_fit, \"m2_Shares_zinbi_int_std_fit.rds\")\n"
      ],
      "metadata": {
        "id": "rhEKx6bms7ku"
      },
      "execution_count": null,
      "outputs": []
    },
    {
      "cell_type": "code",
      "source": [
        "summary(m2_Shares_zinbi_int_std)\n"
      ],
      "metadata": {
        "colab": {
          "base_uri": "https://localhost:8080/",
          "height": 642
        },
        "id": "eb6ZmLgzs3l3",
        "outputId": "90f937f2-6a81-4537-bd54-8dc833e7cf85"
      },
      "execution_count": null,
      "outputs": [
        {
          "output_type": "display_data",
          "data": {
            "text/plain": [
              "Linear mixed-effects model fit by maximum likelihood\n",
              "  Data: final_pages_all_nona_st \n",
              "  AIC BIC logLik\n",
              "   NA  NA     NA\n",
              "\n",
              "Random effects:\n",
              " Formula: ~1 | Page.Name.fac\n",
              "        (Intercept) Residual\n",
              "StdDev:    1.382629 5.271517\n",
              "\n",
              "Variance function:\n",
              " Structure: fixed weights\n",
              " Formula: ~invwt \n",
              "Fixed effects:  Shares ~ sentistr_std * republican + insult_std * republican \n",
              "                            Value  Std.Error       DF  t-value p-value\n",
              "(Intercept)              4.231223 0.05344472 13954372 79.17008  0.0000\n",
              "sentistr_std             0.000825 0.00422951 13954372  0.19500  0.8454\n",
              "republican               0.284705 0.07260240     1491  3.92143  0.0001\n",
              "insult_std               0.093157 0.00414353 13954372 22.48254  0.0000\n",
              "sentistr_std:republican  0.016506 0.00570786 13954372  2.89188  0.0038\n",
              "republican:insult_std   -0.002228 0.00583605 13954372 -0.38176  0.7026\n",
              " Correlation: \n",
              "                        (Intr) sntst_ rpblcn inslt_ snts_:\n",
              "sentistr_std             0.000                            \n",
              "republican              -0.736  0.000                     \n",
              "insult_std               0.001  0.257 -0.001              \n",
              "sentistr_std:republican  0.000 -0.741 -0.003 -0.191       \n",
              "republican:insult_std   -0.001 -0.183  0.001 -0.710  0.261\n",
              "\n",
              "Standardized Within-Group Residuals:\n",
              "         Min           Q1          Med           Q3          Max \n",
              " -0.10001630  -0.09722978  -0.08437682  -0.03843363 700.52275244 \n",
              "\n",
              "Number of Observations: 13955869\n",
              "Number of Groups: 1493 "
            ]
          },
          "metadata": {}
        }
      ]
    },
    {
      "cell_type": "code",
      "source": [
        "summary(m2_Shares_zinbi_int_std$fit.zero)\n"
      ],
      "metadata": {
        "colab": {
          "base_uri": "https://localhost:8080/",
          "height": 392
        },
        "id": "jU2ofjK3s4ab",
        "outputId": "df46fb94-d014-4dfc-89f5-f62ae2315efe"
      },
      "execution_count": null,
      "outputs": [
        {
          "output_type": "display_data",
          "data": {
            "text/plain": [
              "\n",
              "Call:\n",
              "glm(formula = fm, family = binomial, data = data)\n",
              "\n",
              "Deviance Residuals: \n",
              "     Min        1Q    Median        3Q       Max  \n",
              "-0.01455  -0.01455  -0.01455  -0.01455   0.11176  \n",
              "\n",
              "Coefficients:\n",
              "            Estimate Std. Error z value            Pr(>|z|)    \n",
              "(Intercept) -9.15298    0.02601  -351.8 <0.0000000000000002 ***\n",
              "---\n",
              "Signif. codes:  0 ‘***’ 0.001 ‘**’ 0.01 ‘*’ 0.05 ‘.’ 0.1 ‘ ’ 1\n",
              "\n",
              "(Dispersion parameter for binomial family taken to be 1)\n",
              "\n",
              "    Null deviance: 5141.1  on 13955868  degrees of freedom\n",
              "Residual deviance: 5141.1  on 13955868  degrees of freedom\n",
              "AIC: 2957.8\n",
              "\n",
              "Number of Fisher Scoring iterations: 12\n"
            ]
          },
          "metadata": {}
        }
      ]
    },
    {
      "cell_type": "markdown",
      "source": [
        "### main + fitted"
      ],
      "metadata": {
        "id": "v9ZbLhPLsuZN"
      }
    },
    {
      "cell_type": "code",
      "source": [
        "system.time(m2_Shares_zinbi_main_std_comp <- glmm.zinb(Shares ~ sentistr_std + insult_std + republican, random = ~1|Page.Name.fac , zi_fixed =  ~1, data=final_pages_all_nona_st))\n"
      ],
      "metadata": {
        "id": "oLXShrPFsOnt"
      },
      "execution_count": null,
      "outputs": []
    },
    {
      "cell_type": "code",
      "source": [
        "m2_Shares_zinbi_main_std_comp_fit <- m2_Shares_zinbi_main_std_comp$fitted\n",
        "saveRDS(m2_Shares_zinbi_main_std_comp_fit, \"m2_Shares_zinbi_main_std_comp_fit.rds\")\n"
      ],
      "metadata": {
        "id": "F5Zp6wRCsOBa"
      },
      "execution_count": null,
      "outputs": []
    },
    {
      "cell_type": "code",
      "source": [
        "summary(m2_Shares_zinbi_main_std_comp)\n"
      ],
      "metadata": {
        "id": "-WLZ_3yGsTCc"
      },
      "execution_count": null,
      "outputs": []
    },
    {
      "cell_type": "code",
      "source": [
        "summary(m2_Shares_zinbi_main_std_comp$fit.zero)\n"
      ],
      "metadata": {
        "id": "K2ydJOMIsU4_"
      },
      "execution_count": null,
      "outputs": []
    },
    {
      "cell_type": "markdown",
      "metadata": {
        "id": "Rw_XUpYOdXWw"
      },
      "source": [
        "### main -- sep (done)"
      ]
    },
    {
      "cell_type": "code",
      "metadata": {
        "colab": {
          "base_uri": "https://localhost:8080/",
          "height": 481
        },
        "id": "0IcAaGwMdLcz",
        "outputId": "8fd9faa9-f561-4aec-c21b-b6f96a889c73"
      },
      "source": [
        "system.time(m2_Shares_zinbi_inciv_main_std <- glmm.zinb(Shares ~ insult_std + republican, random = ~1|Page.Name.fac , zi_fixed =  ~1, data=final_pages_all_nona_st))\n"
      ],
      "execution_count": null,
      "outputs": [
        {
          "output_type": "stream",
          "name": "stderr",
          "text": [
            "Loading required namespace: nlme\n",
            "\n",
            "Loading required namespace: MASS\n",
            "\n",
            "\n",
            "Attaching package: ‘nlme’\n",
            "\n",
            "\n",
            "The following object is masked from ‘package:dplyr’:\n",
            "\n",
            "    collapse\n",
            "\n",
            "\n",
            "\n",
            "Attaching package: ‘MASS’\n",
            "\n",
            "\n",
            "The following object is masked from ‘package:dplyr’:\n",
            "\n",
            "    select\n",
            "\n",
            "\n"
          ]
        },
        {
          "output_type": "stream",
          "name": "stdout",
          "text": [
            "Computational iterations: 28 \n",
            "Computational time: 158.313 minutes \n"
          ]
        },
        {
          "output_type": "display_data",
          "data": {
            "text/plain": [
              "    user   system  elapsed \n",
              "9163.905  333.634 9498.885 "
            ]
          },
          "metadata": {}
        }
      ]
    },
    {
      "cell_type": "code",
      "metadata": {
        "id": "Zk-1uC_ddPom",
        "colab": {
          "base_uri": "https://localhost:8080/",
          "height": 535
        },
        "outputId": "65f30aba-2fc3-472a-f6eb-a968e5f3c52a"
      },
      "source": [
        "summary(m2_Shares_zinbi_inciv_main_std)\n"
      ],
      "execution_count": null,
      "outputs": [
        {
          "output_type": "display_data",
          "data": {
            "text/plain": [
              "Linear mixed-effects model fit by maximum likelihood\n",
              "  Data: final_pages_all_nona_st \n",
              "  AIC BIC logLik\n",
              "   NA  NA     NA\n",
              "\n",
              "Random effects:\n",
              " Formula: ~1 | Page.Name.fac\n",
              "        (Intercept) Residual\n",
              "StdDev:    1.383049 5.278067\n",
              "\n",
              "Variance function:\n",
              " Structure: fixed weights\n",
              " Formula: ~invwt \n",
              "Fixed effects:  Shares ~ insult_std + republican \n",
              "               Value  Std.Error       DF  t-value p-value\n",
              "(Intercept) 4.230985 0.05346187 13954375 79.14025  0.0000\n",
              "insult_std  0.089346 0.00282002 13954375 31.68263  0.0000\n",
              "republican  0.286434 0.07262494     1491  3.94402  0.0001\n",
              " Correlation: \n",
              "           (Intr) inslt_\n",
              "insult_std  0.001       \n",
              "republican -0.736  0.001\n",
              "\n",
              "Standardized Within-Group Residuals:\n",
              "         Min           Q1          Med           Q3          Max \n",
              " -0.09987879  -0.09709969  -0.08426597  -0.03839894 706.72715385 \n",
              "\n",
              "Number of Observations: 13955869\n",
              "Number of Groups: 1493 "
            ]
          },
          "metadata": {}
        }
      ]
    },
    {
      "cell_type": "code",
      "metadata": {
        "id": "ze1ES1J-dPjV",
        "colab": {
          "base_uri": "https://localhost:8080/",
          "height": 392
        },
        "outputId": "93857a3b-7a36-4387-d1d5-01528dac6b0c"
      },
      "source": [
        "summary(m2_Shares_zinbi_inciv_main_std$fit.zero)\n"
      ],
      "execution_count": null,
      "outputs": [
        {
          "output_type": "display_data",
          "data": {
            "text/plain": [
              "\n",
              "Call:\n",
              "glm(formula = fm, family = binomial, data = data)\n",
              "\n",
              "Deviance Residuals: \n",
              "      Min         1Q     Median         3Q        Max  \n",
              "-0.009234  -0.009234  -0.009234  -0.009234   0.070824  \n",
              "\n",
              "Coefficients:\n",
              "            Estimate Std. Error z value            Pr(>|z|)    \n",
              "(Intercept)  -10.063      0.041  -245.5 <0.0000000000000002 ***\n",
              "---\n",
              "Signif. codes:  0 ‘***’ 0.001 ‘**’ 0.01 ‘*’ 0.05 ‘.’ 0.1 ‘ ’ 1\n",
              "\n",
              "(Dispersion parameter for binomial family taken to be 1)\n",
              "\n",
              "    Null deviance: 2069.8  on 13955868  degrees of freedom\n",
              "Residual deviance: 2069.8  on 13955868  degrees of freedom\n",
              "AIC: 1192\n",
              "\n",
              "Number of Fisher Scoring iterations: 13\n"
            ]
          },
          "metadata": {}
        }
      ]
    },
    {
      "cell_type": "code",
      "metadata": {
        "id": "mu6QKpXJdPdA",
        "colab": {
          "base_uri": "https://localhost:8080/",
          "height": 88
        },
        "outputId": "9b2c0a75-eede-4a0e-e2de-0a160a27a255"
      },
      "source": [
        "system.time(m2_Shares_zinbi_senti_main_std <- glmm.zinb(Shares ~ sentistr_std + republican, random = ~1|Page.Name.fac , zi_fixed =  ~1, data=final_pages_all_nona_st))\n"
      ],
      "execution_count": null,
      "outputs": [
        {
          "output_type": "stream",
          "name": "stdout",
          "text": [
            "Computational iterations: 30 \n",
            "Computational time: 181.448 minutes \n"
          ]
        },
        {
          "output_type": "display_data",
          "data": {
            "text/plain": [
              "     user    system   elapsed \n",
              " 9979.419   904.599 10886.918 "
            ]
          },
          "metadata": {}
        }
      ]
    },
    {
      "cell_type": "code",
      "metadata": {
        "id": "Tem5fALQdLY5",
        "colab": {
          "base_uri": "https://localhost:8080/",
          "height": 535
        },
        "outputId": "5aa96c9c-4dbf-49f9-c146-6847292880a4"
      },
      "source": [
        "summary(m2_Shares_zinbi_senti_main_std)\n"
      ],
      "execution_count": null,
      "outputs": [
        {
          "output_type": "display_data",
          "data": {
            "text/plain": [
              "Linear mixed-effects model fit by maximum likelihood\n",
              "  Data: final_pages_all_nona_st \n",
              "  AIC BIC logLik\n",
              "   NA  NA     NA\n",
              "\n",
              "Random effects:\n",
              " Formula: ~1 | Page.Name.fac\n",
              "        (Intercept) Residual\n",
              "StdDev:    1.399375  5.25256\n",
              "\n",
              "Variance function:\n",
              " Structure: fixed weights\n",
              " Formula: ~invwt \n",
              "Fixed effects:  Shares ~ sentistr_std + republican \n",
              "                 Value  Std.Error       DF  t-value p-value\n",
              "(Intercept)   4.236891 0.05407819 13954375 78.34750  0.0000\n",
              "sentistr_std -0.017759 0.00273380 13954375 -6.49604  0.0000\n",
              "republican    0.285898 0.07345990     1491  3.89190  0.0001\n",
              " Correlation: \n",
              "             (Intr) sntst_\n",
              "sentistr_std  0.000       \n",
              "republican   -0.736 -0.004\n",
              "\n",
              "Standardized Within-Group Residuals:\n",
              "         Min           Q1          Med           Q3          Max \n",
              " -0.10035753  -0.09750299  -0.08468293  -0.03834425 684.19107631 \n",
              "\n",
              "Number of Observations: 13955869\n",
              "Number of Groups: 1493 "
            ]
          },
          "metadata": {}
        }
      ]
    },
    {
      "cell_type": "code",
      "metadata": {
        "id": "apI2PztzdLRT",
        "colab": {
          "base_uri": "https://localhost:8080/",
          "height": 392
        },
        "outputId": "08ccd534-e7bd-44b4-a453-9c51e88c0c8a"
      },
      "source": [
        "summary(m2_Shares_zinbi_senti_main_std$fit.zero)\n"
      ],
      "execution_count": null,
      "outputs": [
        {
          "output_type": "display_data",
          "data": {
            "text/plain": [
              "\n",
              "Call:\n",
              "glm(formula = fm, family = binomial, data = data)\n",
              "\n",
              "Deviance Residuals: \n",
              "      Min         1Q     Median         3Q        Max  \n",
              "-0.006118  -0.006118  -0.006118  -0.006118   0.044981  \n",
              "\n",
              "Coefficients:\n",
              "             Estimate Std. Error z value            Pr(>|z|)    \n",
              "(Intercept) -10.88618    0.06187  -175.9 <0.0000000000000002 ***\n",
              "---\n",
              "Signif. codes:  0 ‘***’ 0.001 ‘**’ 0.01 ‘*’ 0.05 ‘.’ 0.1 ‘ ’ 1\n",
              "\n",
              "(Dispersion parameter for binomial family taken to be 1)\n",
              "\n",
              "    Null deviance: 908.26  on 13955868  degrees of freedom\n",
              "Residual deviance: 908.26  on 13955868  degrees of freedom\n",
              "AIC: 524.37\n",
              "\n",
              "Number of Fisher Scoring iterations: 13\n"
            ]
          },
          "metadata": {}
        }
      ]
    },
    {
      "cell_type": "markdown",
      "metadata": {
        "id": "FBE4aghca3ZP"
      },
      "source": [
        "## comments"
      ]
    },
    {
      "cell_type": "markdown",
      "source": [
        "### interaction -- fitted (done)"
      ],
      "metadata": {
        "id": "fhFSw47QNhb8"
      }
    },
    {
      "cell_type": "code",
      "metadata": {
        "id": "vJEK9P67p2WE",
        "colab": {
          "base_uri": "https://localhost:8080/",
          "height": 88
        },
        "outputId": "32577f1d-8b39-471b-a53e-75e2f2c32ac4"
      },
      "source": [
        "\n",
        "### interaction\n",
        "system.time(m2_Comments_zinbi_int_std <- glmm.zinb(Comments ~ sentistr_std*republican + insult_std*republican, random = ~1|Page.Name.fac , zi_fixed =  ~1, data=final_pages_all_nona_st))\n"
      ],
      "execution_count": null,
      "outputs": [
        {
          "output_type": "stream",
          "name": "stdout",
          "text": [
            "Computational iterations: 20 \n",
            "Computational time: 149.063 minutes \n"
          ]
        },
        {
          "output_type": "display_data",
          "data": {
            "text/plain": [
              "    user   system  elapsed \n",
              "8002.950  937.153 8943.785 "
            ]
          },
          "metadata": {}
        }
      ]
    },
    {
      "cell_type": "code",
      "source": [
        "m2_Comments_zinbi_int_std_fit <- m2_Comments_zinbi_int_std$fitted\n",
        "saveRDS(m2_Comments_zinbi_int_std_fit, \"m2_Comments_zinbi_int_std_fit.rds\")\n"
      ],
      "metadata": {
        "id": "e0jLq8SENkjc"
      },
      "execution_count": null,
      "outputs": []
    },
    {
      "cell_type": "code",
      "metadata": {
        "id": "FWUCGUGeoAvu",
        "colab": {
          "base_uri": "https://localhost:8080/",
          "height": 642
        },
        "outputId": "a05b739c-6556-44c0-ae59-b01e0a64e5d7"
      },
      "source": [
        "summary(m2_Comments_zinbi_int_std)\n"
      ],
      "execution_count": null,
      "outputs": [
        {
          "output_type": "display_data",
          "data": {
            "text/plain": [
              "Linear mixed-effects model fit by maximum likelihood\n",
              "  Data: final_pages_all_nona_st \n",
              "  AIC BIC logLik\n",
              "   NA  NA     NA\n",
              "\n",
              "Random effects:\n",
              " Formula: ~1 | Page.Name.fac\n",
              "        (Intercept) Residual\n",
              "StdDev:     1.40175 2.392891\n",
              "\n",
              "Variance function:\n",
              " Structure: fixed weights\n",
              " Formula: ~invwt \n",
              "Fixed effects:  Comments ~ sentistr_std * republican + insult_std * republican \n",
              "                             Value  Std.Error       DF   t-value p-value\n",
              "(Intercept)              2.8960219 0.05375692 13954372  53.87254  0.0000\n",
              "sentistr_std            -0.0299890 0.00166573 13954372 -18.00347  0.0000\n",
              "republican               0.0552859 0.07295165     1491   0.75784  0.4487\n",
              "insult_std               0.1825777 0.00162510 13954372 112.34879  0.0000\n",
              "sentistr_std:republican -0.0215030 0.00223964 13954372  -9.60108  0.0000\n",
              "republican:insult_std   -0.0185018 0.00228198 13954372  -8.10779  0.0000\n",
              " Correlation: \n",
              "                        (Intr) sntst_ rpblcn inslt_ snts_:\n",
              "sentistr_std             0.000                            \n",
              "republican              -0.737  0.000                     \n",
              "insult_std               0.000  0.258  0.000              \n",
              "sentistr_std:republican  0.000 -0.744 -0.001 -0.192       \n",
              "republican:insult_std    0.000 -0.184  0.000 -0.712  0.262\n",
              "\n",
              "Standardized Within-Group Residuals:\n",
              "         Min           Q1          Med           Q3          Max \n",
              " -0.25895264  -0.24198594  -0.18644847  -0.02300396 973.79871288 \n",
              "\n",
              "Number of Observations: 13955869\n",
              "Number of Groups: 1493 "
            ]
          },
          "metadata": {}
        }
      ]
    },
    {
      "cell_type": "code",
      "metadata": {
        "id": "V6SVrox0oAsE",
        "colab": {
          "base_uri": "https://localhost:8080/",
          "height": 392
        },
        "outputId": "023d023c-a8c8-4758-b0f0-9e4dd10ae7ad"
      },
      "source": [
        "summary(m2_Comments_zinbi_int_std$fit.zero)\n"
      ],
      "execution_count": null,
      "outputs": [
        {
          "output_type": "display_data",
          "data": {
            "text/plain": [
              "\n",
              "Call:\n",
              "glm(formula = fm, family = binomial, data = data)\n",
              "\n",
              "Deviance Residuals: \n",
              "     Min        1Q    Median        3Q       Max  \n",
              "-0.04911  -0.04911  -0.04911  -0.04911   0.54712  \n",
              "\n",
              "Coefficients:\n",
              "             Estimate Std. Error z value            Pr(>|z|)    \n",
              "(Intercept) -6.719883   0.007715    -871 <0.0000000000000002 ***\n",
              "---\n",
              "Signif. codes:  0 ‘***’ 0.001 ‘**’ 0.01 ‘*’ 0.05 ‘.’ 0.1 ‘ ’ 1\n",
              "\n",
              "(Dispersion parameter for binomial family taken to be 1)\n",
              "\n",
              "    Null deviance: 52320  on 13955868  degrees of freedom\n",
              "Residual deviance: 52320  on 13955868  degrees of freedom\n",
              "AIC: 33662\n",
              "\n",
              "Number of Fisher Scoring iterations: 9\n"
            ]
          },
          "metadata": {}
        }
      ]
    },
    {
      "cell_type": "markdown",
      "source": [
        "### main both -- fitted"
      ],
      "metadata": {
        "id": "rOKYbq4XMr3B"
      }
    },
    {
      "cell_type": "code",
      "metadata": {
        "id": "UYJ_LTA5oAyv",
        "colab": {
          "base_uri": "https://localhost:8080/"
        },
        "outputId": "5b96feb4-c7f8-4244-e2e2-da83dcf9063a"
      },
      "source": [
        "\n",
        "### main both\n",
        "system.time(m2_Comments_zinbi_main_std_comp <- glmm.zinb(Comments ~ sentistr_std + insult_std + republican, random = ~1|Page.Name.fac , zi_fixed =  ~1, data=final_pages_all_nona_st))\n"
      ],
      "execution_count": null,
      "outputs": [
        {
          "output_type": "stream",
          "name": "stderr",
          "text": [
            "Loading required namespace: nlme\n",
            "\n",
            "Loading required namespace: MASS\n",
            "\n",
            "\n",
            "Attaching package: ‘nlme’\n",
            "\n",
            "\n",
            "The following object is masked from ‘package:dplyr’:\n",
            "\n",
            "    collapse\n",
            "\n",
            "\n",
            "\n",
            "Attaching package: ‘MASS’\n",
            "\n",
            "\n",
            "The following object is masked from ‘package:dplyr’:\n",
            "\n",
            "    select\n",
            "\n",
            "\n"
          ]
        }
      ]
    },
    {
      "cell_type": "code",
      "metadata": {
        "id": "9gi509TVp2jd"
      },
      "source": [
        "summary(m2_Comments_zinbi_main_std_comp)\n"
      ],
      "execution_count": null,
      "outputs": []
    },
    {
      "cell_type": "code",
      "metadata": {
        "id": "1daodLLip2fh"
      },
      "source": [
        "summary(m2_Comments_zinbi_main_std_comp$fit.zero)\n"
      ],
      "execution_count": null,
      "outputs": []
    },
    {
      "cell_type": "code",
      "metadata": {
        "id": "OFbGjc2Ep2cW"
      },
      "source": [
        "m2_Comments_zinbi_main_std_comp_fit <- m2_Comments_zinbi_main_std_comp$fitted\n",
        "saveRDS(m2_Comments_zinbi_main_std_comp_fit, \"m2_Comments_zinbi_main_std_comp_fit.rds\")\n"
      ],
      "execution_count": null,
      "outputs": []
    },
    {
      "cell_type": "markdown",
      "metadata": {
        "id": "1F_fJY9Cn5pa"
      },
      "source": [
        "### main -- sep"
      ]
    },
    {
      "cell_type": "code",
      "metadata": {
        "id": "q_UuDhkqn7N1"
      },
      "source": [
        "### sep -- insult\n",
        "system.time(m2_Comments_zinbi_inciv_main_std <- glmm.zinb(Comments ~ insult_std + republican, random = ~1|Page.Name.fac , zi_fixed =  ~1, data=final_pages_all_nona_st))\n"
      ],
      "execution_count": null,
      "outputs": []
    },
    {
      "cell_type": "code",
      "metadata": {
        "id": "oEYPIm9coBIP"
      },
      "source": [
        "summary(m2_Comments_zinbi_inciv_main_std)\n"
      ],
      "execution_count": null,
      "outputs": []
    },
    {
      "cell_type": "code",
      "metadata": {
        "id": "TJNrUBZ_oBE9"
      },
      "source": [
        "summary(m2_Comments_zinbi_inciv_main_std$fit.zero)\n"
      ],
      "execution_count": null,
      "outputs": []
    },
    {
      "cell_type": "code",
      "metadata": {
        "id": "kqqP4253oA_X"
      },
      "source": [
        "\n",
        "### sep -- senti\n",
        "system.time(m2_Comments_zinbi_senti_main_std <- glmm.zinb(Comments ~ sentistr_std + republican, random = ~1|Page.Name.fac , zi_fixed =  ~1, data=final_pages_all_nona_st))\n"
      ],
      "execution_count": null,
      "outputs": []
    },
    {
      "cell_type": "code",
      "metadata": {
        "id": "G8_6MlPxoA8S"
      },
      "source": [
        "summary(m2_Comments_zinbi_senti_main_std)\n"
      ],
      "execution_count": null,
      "outputs": []
    },
    {
      "cell_type": "code",
      "metadata": {
        "id": "AO3i6SW2oA5I"
      },
      "source": [
        "summary(m2_Comments_zinbi_senti_main_std$fit.zero)\n"
      ],
      "execution_count": null,
      "outputs": []
    },
    {
      "cell_type": "markdown",
      "metadata": {
        "id": "PaPufhS7d0Sv"
      },
      "source": [
        "## Angry"
      ]
    },
    {
      "cell_type": "code",
      "metadata": {
        "colab": {
          "base_uri": "https://localhost:8080/",
          "height": 85
        },
        "id": "a1kJpCQYd1pJ",
        "outputId": "de78aec7-e319-410d-cf5f-e6202036c880"
      },
      "source": [
        "system.time(m2_Angry_zinbi_main_std_comp <- glmm.zinb(Angry ~ sentistr_std + insult_std + republican, random = ~1|Page.Name.fac , zi_fixed =  ~1, data=final_pages_react_nona_st))\n"
      ],
      "execution_count": null,
      "outputs": [
        {
          "output_type": "stream",
          "name": "stdout",
          "text": [
            "Computational iterations: 22 \n",
            "Computational time: 103.583 minutes \n"
          ]
        },
        {
          "output_type": "display_data",
          "data": {
            "text/plain": [
              "    user   system  elapsed \n",
              "5810.481  402.972 6214.990 "
            ]
          },
          "metadata": {}
        }
      ]
    },
    {
      "cell_type": "code",
      "metadata": {
        "id": "YSyRyyXbd2Rc"
      },
      "source": [
        "saveRDS(m2_Angry_zinbi_main_std_comp, \"m2_Angry_zinbi_main_std_comp.rds\")\n"
      ],
      "execution_count": null,
      "outputs": []
    },
    {
      "cell_type": "code",
      "metadata": {
        "id": "voFcVndWYE9E"
      },
      "source": [
        "m2_Angry_zinbi_main_std_comp_fit <- m2_Angry_zinbi_main_std_comp$fitted"
      ],
      "execution_count": null,
      "outputs": []
    },
    {
      "cell_type": "code",
      "metadata": {
        "id": "TYK2HjdJYFna"
      },
      "source": [
        "saveRDS(m2_Angry_zinbi_main_std_comp_fit, \"m2_Angry_zinbi_main_std_comp_fit.rds\")\n"
      ],
      "execution_count": null,
      "outputs": []
    },
    {
      "cell_type": "code",
      "metadata": {
        "colab": {
          "base_uri": "https://localhost:8080/",
          "height": 544
        },
        "id": "2I601QDAd25r",
        "outputId": "dd423986-5857-4e62-d0a0-be5608a3c869"
      },
      "source": [
        "summary(m2_Angry_zinbi_main_std_comp)\n"
      ],
      "execution_count": null,
      "outputs": [
        {
          "output_type": "display_data",
          "data": {
            "text/plain": [
              "Linear mixed-effects model fit by maximum likelihood\n",
              "  Data: final_pages_react_nona_st \n",
              "  AIC BIC logLik\n",
              "   NA  NA     NA\n",
              "\n",
              "Random effects:\n",
              " Formula: ~1 | Page.Name.fac\n",
              "        (Intercept) Residual\n",
              "StdDev:    1.386259  1.57076\n",
              "\n",
              "Variance function:\n",
              " Structure: fixed weights\n",
              " Formula: ~invwt \n",
              "Fixed effects:  Angry ~ sentistr_std + insult_std + republican \n",
              "                  Value  Std.Error       DF    t-value p-value\n",
              "(Intercept)   2.7715473 0.05318292 10990044   52.11348       0\n",
              "sentistr_std -0.3064409 0.00122594 10990044 -249.96406       0\n",
              "insult_std    0.1546961 0.00125264 10990044  123.49599       0\n",
              "republican   -0.3530659 0.07222066     1489   -4.88871       0\n",
              " Correlation: \n",
              "             (Intr) sntst_ inslt_\n",
              "sentistr_std  0.000              \n",
              "insult_std    0.000  0.264       \n",
              "republican   -0.736 -0.002  0.000\n",
              "\n",
              "Standardized Within-Group Residuals:\n",
              "        Min          Q1         Med          Q3         Max \n",
              " -0.2677881  -0.2549932  -0.2503223  -0.1321421 593.1236957 \n",
              "\n",
              "Number of Observations: 10991537\n",
              "Number of Groups: 1491 "
            ]
          },
          "metadata": {}
        }
      ]
    },
    {
      "cell_type": "code",
      "metadata": {
        "colab": {
          "base_uri": "https://localhost:8080/",
          "height": 374
        },
        "id": "xAc215dGd2w0",
        "outputId": "5d16513d-bd20-47f1-e3d2-0bbdec9bbff1"
      },
      "source": [
        "summary(m2_Angry_zinbi_main_std_comp$fit.zero)\n"
      ],
      "execution_count": null,
      "outputs": [
        {
          "output_type": "display_data",
          "data": {
            "text/plain": [
              "\n",
              "Call:\n",
              "glm(formula = fm, family = binomial, data = data)\n",
              "\n",
              "Deviance Residuals: \n",
              "    Min       1Q   Median       3Q      Max  \n",
              "-0.2623  -0.2623  -0.2623   0.1751   0.6606  \n",
              "\n",
              "Coefficients:\n",
              "             Estimate Std. Error z value            Pr(>|z|)    \n",
              "(Intercept) -3.352725   0.001669   -2009 <0.0000000000000002 ***\n",
              "---\n",
              "Signif. codes:  0 ‘***’ 0.001 ‘**’ 0.01 ‘*’ 0.05 ‘.’ 0.1 ‘ ’ 1\n",
              "\n",
              "(Dispersion parameter for binomial family taken to be 1)\n",
              "\n",
              "    Null deviance: 615640  on 10991536  degrees of freedom\n",
              "Residual deviance: 615640  on 10991536  degrees of freedom\n",
              "AIC: 756015\n",
              "\n",
              "Number of Fisher Scoring iterations: 6\n"
            ]
          },
          "metadata": {}
        }
      ]
    },
    {
      "cell_type": "code",
      "metadata": {
        "id": "4MW3_PpUdd5h",
        "colab": {
          "base_uri": "https://localhost:8080/",
          "height": 392
        },
        "outputId": "d59e8f4c-e0fd-4520-9a71-54e55b27b6ba"
      },
      "source": [
        "system.time(m2_Angry_zinbi_inciv_main_std <- glmm.zinb(Angry ~ insult_std + republican, random = ~1|Page.Name.fac , zi_fixed =  ~1, data=final_pages_react_nona_st))\n"
      ],
      "execution_count": null,
      "outputs": [
        {
          "ename": "ERROR",
          "evalue": "ignored",
          "output_type": "error",
          "traceback": [
            "Error in eval(predvars, data, env): object 'Angry' not found\nTraceback:\n",
            "1. system.time(m2_Angry_zinbi_inciv_main_std <- glmm.zinb(Angry ~ \n .     insult_std + republican, random = ~1 | Page.Name.fac, zi_fixed = ~1, \n .     data = final_pages_all_nona_st))",
            "2. glmm.zinb(Angry ~ insult_std + republican, random = ~1 | Page.Name.fac, \n .     zi_fixed = ~1, data = final_pages_all_nona_st)",
            "3. eval.parent(m)",
            "4. eval(expr, p)",
            "5. eval(expr, p)",
            "6. stats::model.frame(data = final_pages_all_nona_st, formula = ~Angry + \n .     insult_std + republican + Page.Name.fac, drop.unused.levels = TRUE)",
            "7. model.frame.default(data = final_pages_all_nona_st, formula = ~Angry + \n .     insult_std + republican + Page.Name.fac, drop.unused.levels = TRUE)",
            "8. eval(predvars, data, env)",
            "9. eval(predvars, data, env)"
          ]
        },
        {
          "metadata": {
            "tags": null
          },
          "name": "stderr",
          "output_type": "stream",
          "text": [
            "Timing stopped at: 0.006 0 0.015\n",
            "\n"
          ]
        }
      ]
    },
    {
      "cell_type": "code",
      "metadata": {
        "id": "vE3-VaXhdd1G"
      },
      "source": [
        "summary(m2_Angry_zinbi_inciv_main_std)\n"
      ],
      "execution_count": null,
      "outputs": []
    },
    {
      "cell_type": "code",
      "metadata": {
        "id": "19qMS6XUddvA"
      },
      "source": [
        "summary(m2_Angry_zinbi_inciv_main_std$fit.zero)\n"
      ],
      "execution_count": null,
      "outputs": []
    },
    {
      "cell_type": "code",
      "metadata": {
        "id": "O_QxEVBBddrU"
      },
      "source": [
        "system.time(m2_Angry_zinbi_senti_main_std <- glmm.zinb(Angry ~ sentistr_std + republican, random = ~1|Page.Name.fac , zi_fixed =  ~1, data=final_pages_all_nona_st))\n"
      ],
      "execution_count": null,
      "outputs": []
    },
    {
      "cell_type": "code",
      "metadata": {
        "id": "rNMt7tbjddmP"
      },
      "source": [
        "summary(m2_Angry_zinbi_senti_main_std)\n"
      ],
      "execution_count": null,
      "outputs": []
    },
    {
      "cell_type": "code",
      "metadata": {
        "id": "IiVQYcqSddjF"
      },
      "source": [
        "summary(m2_Angry_zinbi_senti_main_std$fit.zero)\n"
      ],
      "execution_count": null,
      "outputs": []
    },
    {
      "cell_type": "code",
      "metadata": {
        "id": "u_wCYpOEddeF"
      },
      "source": [
        "system.time(m2_Angry_zinbi_int_std <- glmm.zinb(Angry ~ sentistr_std*republican + insult_std*republican, random = ~1|Page.Name.fac , zi_fixed =  ~1, data=final_pages_all_nona_st))\n"
      ],
      "execution_count": null,
      "outputs": []
    },
    {
      "cell_type": "code",
      "metadata": {
        "id": "ZCdiIuApddaH"
      },
      "source": [
        "summary(m2_Angry_zinbi_int_std)\n"
      ],
      "execution_count": null,
      "outputs": []
    },
    {
      "cell_type": "code",
      "metadata": {
        "id": "sewdfEXRddVB"
      },
      "source": [
        "summary(m2_Angry_zinbi_int_std$fit.zero)\n"
      ],
      "execution_count": null,
      "outputs": []
    },
    {
      "cell_type": "markdown",
      "metadata": {
        "id": "RSS7a0VAqLYR"
      },
      "source": [
        "## Wow"
      ]
    },
    {
      "cell_type": "markdown",
      "metadata": {
        "id": "JK2dwFnIqOTG"
      },
      "source": [
        "### std"
      ]
    },
    {
      "cell_type": "code",
      "metadata": {
        "id": "kWNerS6hqNOX",
        "colab": {
          "base_uri": "https://localhost:8080/",
          "height": 85
        },
        "outputId": "2c3310b8-5158-4424-9cda-dd314c279274"
      },
      "source": [
        "\n",
        "### sep -- insult\n",
        "system.time(m2_Wow_zinbi_inciv_main_std <- glmm.zinb(Wow ~ insult_std + republican, random = ~1|Page.Name.fac , zi_fixed =  ~1, data=final_pages_react_nona_st))\n"
      ],
      "execution_count": null,
      "outputs": [
        {
          "output_type": "stream",
          "name": "stdout",
          "text": [
            "Computational iterations: 26 \n",
            "Computational time: 125.168 minutes \n"
          ]
        },
        {
          "output_type": "display_data",
          "data": {
            "text/plain": [
              "    user   system  elapsed \n",
              "6945.976  560.304 7510.071 "
            ]
          },
          "metadata": {}
        }
      ]
    },
    {
      "cell_type": "code",
      "metadata": {
        "id": "FmOL3ZZTqNmG",
        "colab": {
          "base_uri": "https://localhost:8080/",
          "height": 510
        },
        "outputId": "93d8f806-d5b0-4276-8da6-7bcea94c5cdc"
      },
      "source": [
        "summary(m2_Wow_zinbi_inciv_main_std)\n"
      ],
      "execution_count": null,
      "outputs": [
        {
          "output_type": "display_data",
          "data": {
            "text/plain": [
              "Linear mixed-effects model fit by maximum likelihood\n",
              "  Data: final_pages_react_nona_st \n",
              "  AIC BIC logLik\n",
              "   NA  NA     NA\n",
              "\n",
              "Random effects:\n",
              " Formula: ~1 | Page.Name.fac\n",
              "        (Intercept) Residual\n",
              "StdDev:    1.262581 1.800651\n",
              "\n",
              "Variance function:\n",
              " Structure: fixed weights\n",
              " Formula: ~invwt \n",
              "Fixed effects:  Wow ~ insult_std + republican \n",
              "                 Value  Std.Error       DF   t-value p-value\n",
              "(Intercept)  1.0957787 0.04843785 10990045  22.62237   0e+00\n",
              "insult_std   0.1140498 0.00105151 10990045 108.46337   0e+00\n",
              "republican  -0.2354008 0.06577821     1489  -3.57870   4e-04\n",
              " Correlation: \n",
              "           (Intr) inslt_\n",
              "insult_std  0.000       \n",
              "republican -0.736  0.000\n",
              "\n",
              "Standardized Within-Group Residuals:\n",
              "        Min          Q1         Med          Q3         Max \n",
              " -0.3205888  -0.2916687  -0.2466958  -0.0517338 455.8811004 \n",
              "\n",
              "Number of Observations: 10991537\n",
              "Number of Groups: 1491 "
            ]
          },
          "metadata": {}
        }
      ]
    },
    {
      "cell_type": "code",
      "metadata": {
        "id": "F8U-A33WqNhK",
        "colab": {
          "base_uri": "https://localhost:8080/",
          "height": 374
        },
        "outputId": "bf386460-7c81-4b95-b9f1-57663814620b"
      },
      "source": [
        "summary(m2_Wow_zinbi_inciv_main_std$fit.zero)\n"
      ],
      "execution_count": null,
      "outputs": [
        {
          "output_type": "display_data",
          "data": {
            "text/plain": [
              "\n",
              "Call:\n",
              "glm(formula = fm, family = binomial, data = data)\n",
              "\n",
              "Deviance Residuals: \n",
              "     Min        1Q    Median        3Q       Max  \n",
              "-0.12935  -0.12935  -0.12935   0.07703   0.59539  \n",
              "\n",
              "Coefficients:\n",
              "             Estimate Std. Error z value Pr(>|z|)    \n",
              "(Intercept) -4.779442   0.003318   -1440   <2e-16 ***\n",
              "---\n",
              "Signif. codes:  0 ‘***’ 0.001 ‘**’ 0.01 ‘*’ 0.05 ‘.’ 0.1 ‘ ’ 1\n",
              "\n",
              "(Dispersion parameter for binomial family taken to be 1)\n",
              "\n",
              "    Null deviance: 155657  on 10991536  degrees of freedom\n",
              "Residual deviance: 155657  on 10991536  degrees of freedom\n",
              "AIC: 183904\n",
              "\n",
              "Number of Fisher Scoring iterations: 7\n"
            ]
          },
          "metadata": {}
        }
      ]
    },
    {
      "cell_type": "code",
      "metadata": {
        "id": "K-2J4EHSqaJ1"
      },
      "source": [
        "saveRDS(m2_Wow_zinbi_inciv_main_std, \"m2_Wow_zinbi_inciv_main_std.rds\")\n"
      ],
      "execution_count": null,
      "outputs": []
    },
    {
      "cell_type": "code",
      "metadata": {
        "id": "fXiGL6FXqaHA",
        "colab": {
          "base_uri": "https://localhost:8080/",
          "height": 85
        },
        "outputId": "16a7d420-4150-4c47-ae5c-a4c49c7b296f"
      },
      "source": [
        "\n",
        "### sep -- senti\n",
        "system.time(m2_Wow_zinbi_senti_main_std <- glmm.zinb(Wow ~ sentistr_std + republican, random = ~1|Page.Name.fac , zi_fixed =  ~1, data=final_pages_react_nona_st))\n"
      ],
      "execution_count": null,
      "outputs": [
        {
          "output_type": "stream",
          "name": "stdout",
          "text": [
            "Computational iterations: 23 \n",
            "Computational time: 107.425 minutes \n"
          ]
        },
        {
          "output_type": "display_data",
          "data": {
            "text/plain": [
              "    user   system  elapsed \n",
              "6017.507  425.987 6445.525 "
            ]
          },
          "metadata": {}
        }
      ]
    },
    {
      "cell_type": "code",
      "metadata": {
        "id": "vvHMLV58qaD-",
        "colab": {
          "base_uri": "https://localhost:8080/",
          "height": 510
        },
        "outputId": "2e4c517e-9eee-4715-bd58-79e86cff3675"
      },
      "source": [
        "summary(m2_Wow_zinbi_senti_main_std)\n"
      ],
      "execution_count": null,
      "outputs": [
        {
          "output_type": "display_data",
          "data": {
            "text/plain": [
              "Linear mixed-effects model fit by maximum likelihood\n",
              "  Data: final_pages_react_nona_st \n",
              "  AIC BIC logLik\n",
              "   NA  NA     NA\n",
              "\n",
              "Random effects:\n",
              " Formula: ~1 | Page.Name.fac\n",
              "        (Intercept) Residual\n",
              "StdDev:    1.267676 1.827389\n",
              "\n",
              "Variance function:\n",
              " Structure: fixed weights\n",
              " Formula: ~invwt \n",
              "Fixed effects:  Wow ~ sentistr_std + republican \n",
              "                  Value  Std.Error       DF    t-value p-value\n",
              "(Intercept)   1.0912504 0.04863488 10990045   22.43761   0e+00\n",
              "sentistr_std -0.1616596 0.00104773 10990045 -154.29543   0e+00\n",
              "republican   -0.2259664 0.06604632     1489   -3.42133   6e-04\n",
              " Correlation: \n",
              "             (Intr) sntst_\n",
              "sentistr_std  0.001       \n",
              "republican   -0.736 -0.002\n",
              "\n",
              "Standardized Within-Group Residuals:\n",
              "         Min           Q1          Med           Q3          Max \n",
              " -0.31755019  -0.28760705  -0.24320794  -0.05209172 445.37384412 \n",
              "\n",
              "Number of Observations: 10991537\n",
              "Number of Groups: 1491 "
            ]
          },
          "metadata": {}
        }
      ]
    },
    {
      "cell_type": "code",
      "metadata": {
        "id": "3GilhQP8qaB9",
        "colab": {
          "base_uri": "https://localhost:8080/",
          "height": 374
        },
        "outputId": "2a889465-f193-4729-db07-ea31ab00ed5b"
      },
      "source": [
        "summary(m2_Wow_zinbi_senti_main_std$fit.zero)\n"
      ],
      "execution_count": null,
      "outputs": [
        {
          "output_type": "display_data",
          "data": {
            "text/plain": [
              "\n",
              "Call:\n",
              "glm(formula = fm, family = binomial, data = data)\n",
              "\n",
              "Deviance Residuals: \n",
              "     Min        1Q    Median        3Q       Max  \n",
              "-0.15009  -0.15009  -0.15009   0.08891   0.77944  \n",
              "\n",
              "Coefficients:\n",
              "             Estimate Std. Error z value Pr(>|z|)    \n",
              "(Intercept) -4.480511   0.002866   -1563   <2e-16 ***\n",
              "---\n",
              "Signif. codes:  0 ‘***’ 0.001 ‘**’ 0.01 ‘*’ 0.05 ‘.’ 0.1 ‘ ’ 1\n",
              "\n",
              "(Dispersion parameter for binomial family taken to be 1)\n",
              "\n",
              "    Null deviance: 209801  on 10991536  degrees of freedom\n",
              "Residual deviance: 209801  on 10991536  degrees of freedom\n",
              "AIC: 247618\n",
              "\n",
              "Number of Fisher Scoring iterations: 7\n"
            ]
          },
          "metadata": {}
        }
      ]
    },
    {
      "cell_type": "code",
      "metadata": {
        "id": "yEUYLm3BqZ--"
      },
      "source": [
        "saveRDS(m2_Wow_zinbi_senti_main_std, \"m2_Wow_zinbi_senti_main_std.rds\")\n"
      ],
      "execution_count": null,
      "outputs": []
    },
    {
      "cell_type": "code",
      "metadata": {
        "id": "jMmHTkKdqZ8B",
        "colab": {
          "base_uri": "https://localhost:8080/",
          "height": 468
        },
        "outputId": "4991c155-6b14-4066-eecd-d341627373e4"
      },
      "source": [
        "\n",
        "### main both\n",
        "system.time(m2_Wow_zinbi_main_std_comp <- glmm.zinb(Wow ~ sentistr_std + insult_std + republican, random = ~1|Page.Name.fac , zi_fixed =  ~1, data=final_pages_react_nona_st))\n"
      ],
      "execution_count": null,
      "outputs": [
        {
          "output_type": "stream",
          "name": "stderr",
          "text": [
            "Loading required namespace: nlme\n",
            "\n",
            "Loading required namespace: MASS\n",
            "\n",
            "\n",
            "Attaching package: ‘nlme’\n",
            "\n",
            "\n",
            "The following object is masked from ‘package:dplyr’:\n",
            "\n",
            "    collapse\n",
            "\n",
            "\n",
            "\n",
            "Attaching package: ‘MASS’\n",
            "\n",
            "\n",
            "The following object is masked from ‘package:dplyr’:\n",
            "\n",
            "    select\n",
            "\n",
            "\n"
          ]
        },
        {
          "output_type": "stream",
          "name": "stdout",
          "text": [
            "Computational iterations: 25 \n",
            "Computational time: 121.462 minutes \n"
          ]
        },
        {
          "output_type": "display_data",
          "data": {
            "text/plain": [
              "    user   system  elapsed \n",
              "7036.609  222.603 7287.857 "
            ]
          },
          "metadata": {}
        }
      ]
    },
    {
      "cell_type": "code",
      "metadata": {
        "id": "gku3R2JuflKe"
      },
      "source": [
        "m2_Wow_zinbi_main_std_comp_fit <- m2_Wow_zinbi_main_std_comp$fitted\n",
        "saveRDS(m2_Wow_zinbi_main_std_comp_fit, \"m2_Wow_zinbi_main_std_comp_fit.rds\")"
      ],
      "execution_count": null,
      "outputs": []
    },
    {
      "cell_type": "code",
      "metadata": {
        "id": "qCK29HO1qZ5I",
        "colab": {
          "base_uri": "https://localhost:8080/",
          "height": 544
        },
        "outputId": "84a89838-4045-4aba-d44a-692077bce542"
      },
      "source": [
        "summary(m2_Wow_zinbi_main_std_comp)\n"
      ],
      "execution_count": null,
      "outputs": [
        {
          "output_type": "display_data",
          "data": {
            "text/plain": [
              "Linear mixed-effects model fit by maximum likelihood\n",
              "  Data: final_pages_react_nona_st \n",
              "  AIC BIC logLik\n",
              "   NA  NA     NA\n",
              "\n",
              "Random effects:\n",
              " Formula: ~1 | Page.Name.fac\n",
              "        (Intercept) Residual\n",
              "StdDev:    1.263022 1.830099\n",
              "\n",
              "Variance function:\n",
              " Structure: fixed weights\n",
              " Formula: ~invwt \n",
              "Fixed effects:  Wow ~ sentistr_std + insult_std + republican \n",
              "                  Value  Std.Error       DF    t-value p-value\n",
              "(Intercept)   1.0870261 0.04845729 10990044   22.43266   0e+00\n",
              "sentistr_std -0.1429293 0.00108840 10990044 -131.32109   0e+00\n",
              "insult_std    0.0787926 0.00110620 10990044   71.22793   0e+00\n",
              "republican   -0.2260798 0.06580537     1489   -3.43558   6e-04\n",
              " Correlation: \n",
              "             (Intr) sntst_ inslt_\n",
              "sentistr_std  0.001              \n",
              "insult_std    0.000  0.266       \n",
              "republican   -0.736 -0.002  0.000\n",
              "\n",
              "Standardized Within-Group Residuals:\n",
              "         Min           Q1          Med           Q3          Max \n",
              " -0.31682035  -0.28737006  -0.24270823  -0.05214171 456.70589018 \n",
              "\n",
              "Number of Observations: 10991537\n",
              "Number of Groups: 1491 "
            ]
          },
          "metadata": {}
        }
      ]
    },
    {
      "cell_type": "code",
      "metadata": {
        "id": "WCZXNkcUqZ1T",
        "colab": {
          "base_uri": "https://localhost:8080/",
          "height": 374
        },
        "outputId": "c3d49853-7c93-4e16-d8a3-3e7b3d145c18"
      },
      "source": [
        "summary(m2_Wow_zinbi_main_std_comp$fit.zero)\n"
      ],
      "execution_count": null,
      "outputs": [
        {
          "output_type": "display_data",
          "data": {
            "text/plain": [
              "\n",
              "Call:\n",
              "glm(formula = fm, family = binomial, data = data)\n",
              "\n",
              "Deviance Residuals: \n",
              "     Min        1Q    Median        3Q       Max  \n",
              "-0.13321  -0.13321  -0.13321   0.07857   0.70401  \n",
              "\n",
              "Coefficients:\n",
              "             Estimate Std. Error z value Pr(>|z|)    \n",
              "(Intercept) -4.720304   0.003223   -1464   <2e-16 ***\n",
              "---\n",
              "Signif. codes:  0 ‘***’ 0.001 ‘**’ 0.01 ‘*’ 0.05 ‘.’ 0.1 ‘ ’ 1\n",
              "\n",
              "(Dispersion parameter for binomial family taken to be 1)\n",
              "\n",
              "    Null deviance: 165202  on 10991536  degrees of freedom\n",
              "Residual deviance: 165202  on 10991536  degrees of freedom\n",
              "AIC: 195058\n",
              "\n",
              "Number of Fisher Scoring iterations: 7\n"
            ]
          },
          "metadata": {}
        }
      ]
    },
    {
      "cell_type": "code",
      "metadata": {
        "id": "jzJRDd91fJjQ"
      },
      "source": [
        ""
      ],
      "execution_count": null,
      "outputs": []
    },
    {
      "cell_type": "code",
      "metadata": {
        "id": "MNwOJ798qNai"
      },
      "source": [
        "saveRDS(m2_Wow_zinbi_main_std_comp, \"m2_Wow_zinbi_main_std_comp.rds\")\n"
      ],
      "execution_count": null,
      "outputs": []
    },
    {
      "cell_type": "code",
      "metadata": {
        "id": "dAXnaZesqho-",
        "colab": {
          "base_uri": "https://localhost:8080/",
          "height": 106
        },
        "outputId": "f85e12cb-6b8e-4f11-f640-4b0c7e4660de"
      },
      "source": [
        "\n",
        "### interaction\n",
        "system.time(m2_Wow_zinbi_int_std <- glmm.zinb(Wow ~ sentistr_std*republican + insult_std*republican, random = ~1|Page.Name.fac , zi_fixed =  ~1, data=final_pages_react_nona_st))\n"
      ],
      "execution_count": null,
      "outputs": [
        {
          "output_type": "stream",
          "name": "stdout",
          "text": [
            "Computational iterations: 26 \n",
            "Computational time: 165.206 minutes \n"
          ]
        },
        {
          "output_type": "display_data",
          "data": {
            "text/plain": [
              "    user   system  elapsed \n",
              "8446.820 1457.803 9912.346 "
            ]
          },
          "metadata": {}
        }
      ]
    },
    {
      "cell_type": "code",
      "metadata": {
        "id": "eVvgk_1aN2Jx"
      },
      "source": [
        "m2_Wow_zinbi_int_std_fit <- m2_Wow_zinbi_int_std$fitted\n"
      ],
      "execution_count": null,
      "outputs": []
    },
    {
      "cell_type": "code",
      "metadata": {
        "id": "jaiQXZ1IN3Ow"
      },
      "source": [
        "saveRDS(m2_Wow_zinbi_int_std_fit, \"m2_Wow_zinbi_int_std_fit.rds\")"
      ],
      "execution_count": null,
      "outputs": []
    },
    {
      "cell_type": "code",
      "metadata": {
        "id": "lIhc8nyCqhmN",
        "colab": {
          "base_uri": "https://localhost:8080/",
          "height": 612
        },
        "outputId": "d7a3668a-3b7f-49d8-86ca-f78ab379c1eb"
      },
      "source": [
        "summary(m2_Wow_zinbi_int_std)\n"
      ],
      "execution_count": null,
      "outputs": [
        {
          "output_type": "display_data",
          "data": {
            "text/plain": [
              "Linear mixed-effects model fit by maximum likelihood\n",
              "  Data: final_pages_react_nona_st \n",
              "  AIC BIC logLik\n",
              "   NA  NA     NA\n",
              "\n",
              "Random effects:\n",
              " Formula: ~1 | Page.Name.fac\n",
              "        (Intercept) Residual\n",
              "StdDev:     1.26346 1.830264\n",
              "\n",
              "Variance function:\n",
              " Structure: fixed weights\n",
              " Formula: ~invwt \n",
              "Fixed effects:  Wow ~ sentistr_std * republican + insult_std * republican \n",
              "                             Value  Std.Error       DF   t-value p-value\n",
              "(Intercept)              1.0871573 0.04847403 10990042  22.42762   0e+00\n",
              "sentistr_std            -0.1138831 0.00168311 10990042 -67.66234   0e+00\n",
              "republican              -0.2261186 0.06582816     1489  -3.43498   6e-04\n",
              "insult_std               0.0831982 0.00160831 10990042  51.73024   0e+00\n",
              "sentistr_std:republican -0.0503493 0.00220740 10990042 -22.80931   0e+00\n",
              "republican:insult_std   -0.0075047 0.00221649 10990042  -3.38585   7e-04\n",
              " Correlation: \n",
              "                        (Intr) sntst_ rpblcn inslt_ snts_:\n",
              "sentistr_std             0.001                            \n",
              "republican              -0.736 -0.001                     \n",
              "insult_std               0.000  0.265  0.000              \n",
              "sentistr_std:republican -0.001 -0.762 -0.001 -0.202       \n",
              "republican:insult_std    0.000 -0.192  0.000 -0.726  0.266\n",
              "\n",
              "Standardized Within-Group Residuals:\n",
              "        Min          Q1         Med          Q3         Max \n",
              " -0.3165484  -0.2874539  -0.2426514  -0.0518580 458.2537973 \n",
              "\n",
              "Number of Observations: 10991537\n",
              "Number of Groups: 1491 "
            ]
          },
          "metadata": {}
        }
      ]
    },
    {
      "cell_type": "code",
      "metadata": {
        "id": "J0seb3miqhik",
        "colab": {
          "base_uri": "https://localhost:8080/",
          "height": 374
        },
        "outputId": "38b98a5c-833f-44d2-ab8e-7b939cab6fcc"
      },
      "source": [
        "summary(m2_Wow_zinbi_int_std$fit.zero)\n"
      ],
      "execution_count": null,
      "outputs": [
        {
          "output_type": "display_data",
          "data": {
            "text/plain": [
              "\n",
              "Call:\n",
              "glm(formula = fm, family = binomial, data = data)\n",
              "\n",
              "Deviance Residuals: \n",
              "     Min        1Q    Median        3Q       Max  \n",
              "-0.12604  -0.12604  -0.12604   0.07424   0.61715  \n",
              "\n",
              "Coefficients:\n",
              "             Estimate Std. Error z value Pr(>|z|)    \n",
              "(Intercept) -4.831556   0.003405   -1419   <2e-16 ***\n",
              "---\n",
              "Signif. codes:  0 ‘***’ 0.001 ‘**’ 0.01 ‘*’ 0.05 ‘.’ 0.1 ‘ ’ 1\n",
              "\n",
              "(Dispersion parameter for binomial family taken to be 1)\n",
              "\n",
              "    Null deviance: 147864  on 10991536  degrees of freedom\n",
              "Residual deviance: 147864  on 10991536  degrees of freedom\n",
              "AIC: 174602\n",
              "\n",
              "Number of Fisher Scoring iterations: 7\n"
            ]
          },
          "metadata": {}
        }
      ]
    },
    {
      "cell_type": "code",
      "metadata": {
        "id": "1Q2cwLmxqhgF"
      },
      "source": [
        "saveRDS(m2_Wow_zinbi_int_std, \"m2_Wow_zinbi_int_std.rds\")\n"
      ],
      "execution_count": null,
      "outputs": []
    },
    {
      "cell_type": "code",
      "metadata": {
        "id": "x_5xTW6qdtnI"
      },
      "source": [
        ""
      ],
      "execution_count": null,
      "outputs": []
    },
    {
      "cell_type": "markdown",
      "source": [
        "# NBZIMM (additional)"
      ],
      "metadata": {
        "id": "D032d4rBsH6S"
      }
    },
    {
      "cell_type": "markdown",
      "source": [
        "## angry"
      ],
      "metadata": {
        "id": "K1swhpGptN7b"
      }
    },
    {
      "cell_type": "markdown",
      "source": [
        "### main + fitted"
      ],
      "metadata": {
        "id": "cwg7SZzNtSFI"
      }
    },
    {
      "cell_type": "code",
      "source": [
        "system.time(m2_Angry_zinbi_main_std_comp <- glmm.zinb(Angry ~ sentistr_std + insult_std + republican, random = ~1|Page.Name.fac , zi_fixed =  ~1, data=final_pages_react_nona_st))\n"
      ],
      "metadata": {
        "colab": {
          "base_uri": "https://localhost:8080/",
          "height": 481
        },
        "id": "49r4pefBtXMz",
        "outputId": "301fbc4a-f346-4dee-dafd-a5df9c2a4632"
      },
      "execution_count": null,
      "outputs": [
        {
          "output_type": "stream",
          "name": "stderr",
          "text": [
            "Loading required namespace: nlme\n",
            "\n",
            "Loading required namespace: MASS\n",
            "\n",
            "\n",
            "Attaching package: ‘nlme’\n",
            "\n",
            "\n",
            "The following object is masked from ‘package:dplyr’:\n",
            "\n",
            "    collapse\n",
            "\n",
            "\n",
            "\n",
            "Attaching package: ‘MASS’\n",
            "\n",
            "\n",
            "The following object is masked from ‘package:dplyr’:\n",
            "\n",
            "    select\n",
            "\n",
            "\n"
          ]
        },
        {
          "output_type": "stream",
          "name": "stdout",
          "text": [
            "Computational iterations: 22 \n",
            "Computational time: 97.255 minutes \n"
          ]
        },
        {
          "output_type": "display_data",
          "data": {
            "text/plain": [
              "    user   system  elapsed \n",
              "5628.446  205.916 5835.371 "
            ]
          },
          "metadata": {}
        }
      ]
    },
    {
      "cell_type": "code",
      "source": [
        "\n",
        "m2_Angry_zinbi_main_std_comp_fit <- m2_Angry_zinbi_main_std_comp$fitted\n",
        "saveRDS(m2_Angry_zinbi_main_std_comp_fit, \"m2_Angry_zinbi_main_std_comp_fit.rds\")\n"
      ],
      "metadata": {
        "id": "BdJqyLG2tXAK"
      },
      "execution_count": null,
      "outputs": []
    },
    {
      "cell_type": "code",
      "source": [
        "summary(m2_Angry_zinbi_main_std_comp)\n"
      ],
      "metadata": {
        "colab": {
          "base_uri": "https://localhost:8080/",
          "height": 570
        },
        "id": "anR4GmzOtXI3",
        "outputId": "c7815745-c8fa-4dcf-c239-e26a027754be"
      },
      "execution_count": null,
      "outputs": [
        {
          "output_type": "display_data",
          "data": {
            "text/plain": [
              "Linear mixed-effects model fit by maximum likelihood\n",
              "  Data: final_pages_react_nona_st \n",
              "  AIC BIC logLik\n",
              "   NA  NA     NA\n",
              "\n",
              "Random effects:\n",
              " Formula: ~1 | Page.Name.fac\n",
              "        (Intercept) Residual\n",
              "StdDev:    1.386259  1.57076\n",
              "\n",
              "Variance function:\n",
              " Structure: fixed weights\n",
              " Formula: ~invwt \n",
              "Fixed effects:  Angry ~ sentistr_std + insult_std + republican \n",
              "                  Value  Std.Error       DF    t-value p-value\n",
              "(Intercept)   2.7715473 0.05318292 10990044   52.11348       0\n",
              "sentistr_std -0.3064409 0.00122594 10990044 -249.96406       0\n",
              "insult_std    0.1546961 0.00125264 10990044  123.49599       0\n",
              "republican   -0.3530659 0.07222066     1489   -4.88871       0\n",
              " Correlation: \n",
              "             (Intr) sntst_ inslt_\n",
              "sentistr_std  0.000              \n",
              "insult_std    0.000  0.264       \n",
              "republican   -0.736 -0.002  0.000\n",
              "\n",
              "Standardized Within-Group Residuals:\n",
              "        Min          Q1         Med          Q3         Max \n",
              " -0.2677881  -0.2549932  -0.2503223  -0.1321421 593.1236957 \n",
              "\n",
              "Number of Observations: 10991537\n",
              "Number of Groups: 1491 "
            ]
          },
          "metadata": {}
        }
      ]
    },
    {
      "cell_type": "code",
      "source": [
        "summary(m2_Angry_zinbi_main_std_comp$fit.zero)\n"
      ],
      "metadata": {
        "colab": {
          "base_uri": "https://localhost:8080/",
          "height": 392
        },
        "id": "Mu5aYI7ntXEv",
        "outputId": "ead3cd09-df03-483d-f428-a8fb91068706"
      },
      "execution_count": null,
      "outputs": [
        {
          "output_type": "display_data",
          "data": {
            "text/plain": [
              "\n",
              "Call:\n",
              "glm(formula = fm, family = binomial, data = data)\n",
              "\n",
              "Deviance Residuals: \n",
              "    Min       1Q   Median       3Q      Max  \n",
              "-0.2623  -0.2623  -0.2623   0.1751   0.6606  \n",
              "\n",
              "Coefficients:\n",
              "             Estimate Std. Error z value            Pr(>|z|)    \n",
              "(Intercept) -3.352725   0.001669   -2009 <0.0000000000000002 ***\n",
              "---\n",
              "Signif. codes:  0 ‘***’ 0.001 ‘**’ 0.01 ‘*’ 0.05 ‘.’ 0.1 ‘ ’ 1\n",
              "\n",
              "(Dispersion parameter for binomial family taken to be 1)\n",
              "\n",
              "    Null deviance: 615640  on 10991536  degrees of freedom\n",
              "Residual deviance: 615640  on 10991536  degrees of freedom\n",
              "AIC: 756015\n",
              "\n",
              "Number of Fisher Scoring iterations: 6\n"
            ]
          },
          "metadata": {}
        }
      ]
    },
    {
      "cell_type": "markdown",
      "source": [
        "### interaction + fitted"
      ],
      "metadata": {
        "id": "Apz0oBG3tT1S"
      }
    },
    {
      "cell_type": "code",
      "source": [
        "system.time(m2_Angry_zinbi_int_std <- glmm.zinb(Angry ~ sentistr_std*republican + insult_std*republican, random = ~1|Page.Name.fac , zi_fixed =  ~1, data=final_pages_react_nona_st))\n",
        "\n"
      ],
      "metadata": {
        "colab": {
          "base_uri": "https://localhost:8080/",
          "height": 88
        },
        "id": "1pFsmpXEtWkJ",
        "outputId": "b2c5e6c5-6beb-4c5a-aa5f-40df3ad7c849"
      },
      "execution_count": null,
      "outputs": [
        {
          "output_type": "stream",
          "name": "stdout",
          "text": [
            "Computational iterations: 22 \n",
            "Computational time: 120.81 minutes \n"
          ]
        },
        {
          "output_type": "display_data",
          "data": {
            "text/plain": [
              "    user   system  elapsed \n",
              "6940.636  306.522 7248.583 "
            ]
          },
          "metadata": {}
        }
      ]
    },
    {
      "cell_type": "code",
      "source": [
        "\n",
        "m2_Angry_zinbi_int_std_fit <- m2_Angry_zinbi_int_std$fitted\n",
        "saveRDS(m2_Angry_zinbi_int_std_fit, \"m2_Angry_zinbi_int_std_fit.rds\")"
      ],
      "metadata": {
        "id": "bi8clb1etWUH"
      },
      "execution_count": null,
      "outputs": []
    },
    {
      "cell_type": "code",
      "source": [
        "summary(m2_Angry_zinbi_int_std)\n"
      ],
      "metadata": {
        "colab": {
          "base_uri": "https://localhost:8080/",
          "height": 642
        },
        "id": "jInUfskitWfs",
        "outputId": "758b83c0-de61-4230-da92-32d243a5f7ec"
      },
      "execution_count": null,
      "outputs": [
        {
          "output_type": "display_data",
          "data": {
            "text/plain": [
              "Linear mixed-effects model fit by maximum likelihood\n",
              "  Data: final_pages_react_nona_st \n",
              "  AIC BIC logLik\n",
              "   NA  NA     NA\n",
              "\n",
              "Random effects:\n",
              " Formula: ~1 | Page.Name.fac\n",
              "        (Intercept) Residual\n",
              "StdDev:    1.386646 1.575464\n",
              "\n",
              "Variance function:\n",
              " Structure: fixed weights\n",
              " Formula: ~invwt \n",
              "Fixed effects:  Angry ~ sentistr_std * republican + insult_std * republican \n",
              "                             Value  Std.Error       DF    t-value p-value\n",
              "(Intercept)              2.7730974 0.05319824 10990042   52.12762       0\n",
              "sentistr_std            -0.2859421 0.00190432 10990042 -150.15422       0\n",
              "republican              -0.3540525 0.07224168     1489   -4.90094       0\n",
              "insult_std               0.1307277 0.00183123 10990042   71.38775       0\n",
              "sentistr_std:republican -0.0359863 0.00249404 10990042  -14.42893       0\n",
              "republican:insult_std    0.0452907 0.00251714 10990042   17.99294       0\n",
              " Correlation: \n",
              "                        (Intr) sntst_ rpblcn inslt_ snts_:\n",
              "sentistr_std             0.001                            \n",
              "republican              -0.736  0.000                     \n",
              "insult_std               0.000  0.263  0.000              \n",
              "sentistr_std:republican  0.000 -0.764 -0.001 -0.201       \n",
              "republican:insult_std    0.000 -0.191  0.000 -0.728  0.264\n",
              "\n",
              "Standardized Within-Group Residuals:\n",
              "        Min          Q1         Med          Q3         Max \n",
              " -0.2670068  -0.2542570  -0.2495731  -0.1317473 601.3021033 \n",
              "\n",
              "Number of Observations: 10991537\n",
              "Number of Groups: 1491 "
            ]
          },
          "metadata": {}
        }
      ]
    },
    {
      "cell_type": "code",
      "source": [
        "summary(m2_Angry_zinbi_int_std$fit.zero)\n"
      ],
      "metadata": {
        "colab": {
          "base_uri": "https://localhost:8080/",
          "height": 392
        },
        "id": "xfgdpxV-tWaI",
        "outputId": "f56c272f-f47c-4ef4-c4d9-ec182144fcdc"
      },
      "execution_count": null,
      "outputs": [
        {
          "output_type": "display_data",
          "data": {
            "text/plain": [
              "\n",
              "Call:\n",
              "glm(formula = fm, family = binomial, data = data)\n",
              "\n",
              "Deviance Residuals: \n",
              "    Min       1Q   Median       3Q      Max  \n",
              "-0.2622  -0.2622  -0.2622   0.1752   0.6568  \n",
              "\n",
              "Coefficients:\n",
              "             Estimate Std. Error z value            Pr(>|z|)    \n",
              "(Intercept) -3.353282   0.001669   -2009 <0.0000000000000002 ***\n",
              "---\n",
              "Signif. codes:  0 ‘***’ 0.001 ‘**’ 0.01 ‘*’ 0.05 ‘.’ 0.1 ‘ ’ 1\n",
              "\n",
              "(Dispersion parameter for binomial family taken to be 1)\n",
              "\n",
              "    Null deviance: 615336  on 10991536  degrees of freedom\n",
              "Residual deviance: 615336  on 10991536  degrees of freedom\n",
              "AIC: 755601\n",
              "\n",
              "Number of Fisher Scoring iterations: 6\n"
            ]
          },
          "metadata": {}
        }
      ]
    },
    {
      "cell_type": "markdown",
      "source": [
        "### main - separate"
      ],
      "metadata": {
        "id": "p0JVCovdwQ4q"
      }
    },
    {
      "cell_type": "code",
      "source": [
        "system.time(m2_Angry_zinbi_senti_main_std <- glmm.zinb(Angry ~ sentistr_std + republican, random = ~1|Page.Name.fac , zi_fixed =  ~1, data=final_pages_react_nona_st))\n"
      ],
      "metadata": {
        "colab": {
          "base_uri": "https://localhost:8080/",
          "height": 88
        },
        "id": "8PDn90nPwU5v",
        "outputId": "53e3c769-620c-48f8-d164-bdb8d408882f"
      },
      "execution_count": null,
      "outputs": [
        {
          "output_type": "stream",
          "name": "stdout",
          "text": [
            "Computational iterations: 20 \n",
            "Computational time: 87.185 minutes \n"
          ]
        },
        {
          "output_type": "display_data",
          "data": {
            "text/plain": [
              "    user   system  elapsed \n",
              "4797.559  431.884 5231.106 "
            ]
          },
          "metadata": {}
        }
      ]
    },
    {
      "cell_type": "code",
      "source": [
        "summary(m2_Angry_zinbi_senti_main_std)\n"
      ],
      "metadata": {
        "colab": {
          "base_uri": "https://localhost:8080/",
          "height": 535
        },
        "id": "bD9zBM-6wUzL",
        "outputId": "dad3218e-c623-46b1-932e-64cfd5049c0c"
      },
      "execution_count": null,
      "outputs": [
        {
          "output_type": "display_data",
          "data": {
            "text/plain": [
              "Linear mixed-effects model fit by maximum likelihood\n",
              "  Data: final_pages_react_nona_st \n",
              "  AIC BIC logLik\n",
              "   NA  NA     NA\n",
              "\n",
              "Random effects:\n",
              " Formula: ~1 | Page.Name.fac\n",
              "        (Intercept) Residual\n",
              "StdDev:    1.391274 1.552759\n",
              "\n",
              "Variance function:\n",
              " Structure: fixed weights\n",
              " Formula: ~invwt \n",
              "Fixed effects:  Angry ~ sentistr_std + republican \n",
              "                  Value  Std.Error       DF    t-value p-value\n",
              "(Intercept)   2.7852408 0.05337223 10990045   52.18521       0\n",
              "sentistr_std -0.3437769 0.00116857 10990045 -294.18683       0\n",
              "republican   -0.3470688 0.07247716     1489   -4.78866       0\n",
              " Correlation: \n",
              "             (Intr) sntst_\n",
              "sentistr_std  0.000       \n",
              "republican   -0.736 -0.002\n",
              "\n",
              "Standardized Within-Group Residuals:\n",
              "        Min          Q1         Med          Q3         Max \n",
              " -0.2718770  -0.2568345  -0.2526272  -0.1335930 575.3072906 \n",
              "\n",
              "Number of Observations: 10991537\n",
              "Number of Groups: 1491 "
            ]
          },
          "metadata": {}
        }
      ]
    },
    {
      "cell_type": "code",
      "source": [
        "summary(m2_Angry_zinbi_senti_main_std$fit.zero)\n"
      ],
      "metadata": {
        "colab": {
          "base_uri": "https://localhost:8080/",
          "height": 392
        },
        "id": "MLaKGe_VwUpc",
        "outputId": "fdcfba5d-f655-45c4-cece-39071e98164a"
      },
      "execution_count": null,
      "outputs": [
        {
          "output_type": "display_data",
          "data": {
            "text/plain": [
              "\n",
              "Call:\n",
              "glm(formula = fm, family = binomial, data = data)\n",
              "\n",
              "Deviance Residuals: \n",
              "    Min       1Q   Median       3Q      Max  \n",
              "-0.2881  -0.2881  -0.2881   0.1938   0.7246  \n",
              "\n",
              "Coefficients:\n",
              "             Estimate Std. Error z value            Pr(>|z|)    \n",
              "(Intercept) -3.161411   0.001528   -2070 <0.0000000000000002 ***\n",
              "---\n",
              "Signif. codes:  0 ‘***’ 0.001 ‘**’ 0.01 ‘*’ 0.05 ‘.’ 0.1 ‘ ’ 1\n",
              "\n",
              "(Dispersion parameter for binomial family taken to be 1)\n",
              "\n",
              "    Null deviance: 743979  on 10991536  degrees of freedom\n",
              "Residual deviance: 743979  on 10991536  degrees of freedom\n",
              "AIC: 912147\n",
              "\n",
              "Number of Fisher Scoring iterations: 6\n"
            ]
          },
          "metadata": {}
        }
      ]
    },
    {
      "cell_type": "code",
      "source": [
        "system.time(m2_Angry_zinbi_inciv_main_std <- glmm.zinb(Angry ~ insult_std + republican, random = ~1|Page.Name.fac , zi_fixed =  ~1, data=final_pages_react_nona_st))\n"
      ],
      "metadata": {
        "colab": {
          "base_uri": "https://localhost:8080/",
          "height": 481
        },
        "id": "6kRjqic_wZHQ",
        "outputId": "3be6cf50-8ec6-485e-ef7a-b5c2a0c2ae09"
      },
      "execution_count": null,
      "outputs": [
        {
          "metadata": {
            "tags": null
          },
          "name": "stderr",
          "output_type": "stream",
          "text": [
            "Loading required namespace: nlme\n",
            "\n",
            "Loading required namespace: MASS\n",
            "\n",
            "\n",
            "Attaching package: ‘nlme’\n",
            "\n",
            "\n",
            "The following object is masked from ‘package:dplyr’:\n",
            "\n",
            "    collapse\n",
            "\n",
            "\n",
            "\n",
            "Attaching package: ‘MASS’\n",
            "\n",
            "\n",
            "The following object is masked from ‘package:dplyr’:\n",
            "\n",
            "    select\n",
            "\n",
            "\n"
          ]
        },
        {
          "output_type": "stream",
          "name": "stdout",
          "text": [
            "Computational iterations: 23 \n",
            "Computational time: 96.738 minutes \n"
          ]
        },
        {
          "output_type": "display_data",
          "data": {
            "text/plain": [
              "    user   system  elapsed \n",
              "5488.920  310.208 5804.445 "
            ]
          },
          "metadata": {}
        }
      ]
    },
    {
      "cell_type": "code",
      "source": [
        "summary(m2_Angry_zinbi_inciv_main_std)\n"
      ],
      "metadata": {
        "colab": {
          "base_uri": "https://localhost:8080/",
          "height": 535
        },
        "id": "C2Uhsha0wZC9",
        "outputId": "354cdff4-9a5e-4503-e790-d3c1eb840a12"
      },
      "execution_count": null,
      "outputs": [
        {
          "output_type": "display_data",
          "data": {
            "text/plain": [
              "Linear mixed-effects model fit by maximum likelihood\n",
              "  Data: final_pages_react_nona_st \n",
              "  AIC BIC logLik\n",
              "   NA  NA     NA\n",
              "\n",
              "Random effects:\n",
              " Formula: ~1 | Page.Name.fac\n",
              "        (Intercept) Residual\n",
              "StdDev:    1.386229 1.511493\n",
              "\n",
              "Variance function:\n",
              " Structure: fixed weights\n",
              " Formula: ~invwt \n",
              "Fixed effects:  Angry ~ insult_std + republican \n",
              "                 Value  Std.Error       DF   t-value p-value\n",
              "(Intercept)  2.8217311 0.05317545 10990045  53.06455       0\n",
              "insult_std   0.2320578 0.00117054 10990045 198.24857       0\n",
              "republican  -0.3778180 0.07220893     1489  -5.23229       0\n",
              " Correlation: \n",
              "           (Intr) inslt_\n",
              "insult_std  0.000       \n",
              "republican -0.736  0.000\n",
              "\n",
              "Standardized Within-Group Residuals:\n",
              "        Min          Q1         Med          Q3         Max \n",
              " -0.2761526  -0.2631366  -0.2588679  -0.1341796 505.4142600 \n",
              "\n",
              "Number of Observations: 10991537\n",
              "Number of Groups: 1491 "
            ]
          },
          "metadata": {}
        }
      ]
    },
    {
      "cell_type": "code",
      "source": [
        "summary(m2_Angry_zinbi_inciv_main_std$fit.zero)\n"
      ],
      "metadata": {
        "colab": {
          "base_uri": "https://localhost:8080/",
          "height": 392
        },
        "id": "gMRHHmltwY-L",
        "outputId": "9baa366a-5358-4fbf-90f3-bf81d21c7723"
      },
      "execution_count": null,
      "outputs": [
        {
          "output_type": "display_data",
          "data": {
            "text/plain": [
              "\n",
              "Call:\n",
              "glm(formula = fm, family = binomial, data = data)\n",
              "\n",
              "Deviance Residuals: \n",
              "    Min       1Q   Median       3Q      Max  \n",
              "-0.2643  -0.2643  -0.2643   0.1769   0.6324  \n",
              "\n",
              "Coefficients:\n",
              "             Estimate Std. Error z value            Pr(>|z|)    \n",
              "(Intercept) -3.336570   0.001656   -2014 <0.0000000000000002 ***\n",
              "---\n",
              "Signif. codes:  0 ‘***’ 0.001 ‘**’ 0.01 ‘*’ 0.05 ‘.’ 0.1 ‘ ’ 1\n",
              "\n",
              "(Dispersion parameter for binomial family taken to be 1)\n",
              "\n",
              "    Null deviance: 624792  on 10991536  degrees of freedom\n",
              "Residual deviance: 624792  on 10991536  degrees of freedom\n",
              "AIC: 768115\n",
              "\n",
              "Number of Fisher Scoring iterations: 6\n"
            ]
          },
          "metadata": {}
        }
      ]
    },
    {
      "cell_type": "markdown",
      "metadata": {
        "id": "LuOqYh51d1ys"
      },
      "source": [
        "## Love"
      ]
    },
    {
      "cell_type": "markdown",
      "source": [
        "### main + fitted"
      ],
      "metadata": {
        "id": "m7kD11GtzRy4"
      }
    },
    {
      "cell_type": "code",
      "metadata": {
        "id": "9okuKNzud4pl",
        "colab": {
          "base_uri": "https://localhost:8080/",
          "height": 481
        },
        "outputId": "f256684e-8533-4343-99d1-b8acdce20317"
      },
      "source": [
        "system.time(m2_Love_zinbi_main_std_comp <- glmm.zinb(Love ~ sentistr_std + insult_std + republican, random = ~1|Page.Name.fac , zi_fixed =  ~1, data=final_pages_react_nona_st))\n"
      ],
      "execution_count": null,
      "outputs": [
        {
          "output_type": "stream",
          "name": "stderr",
          "text": [
            "Loading required namespace: nlme\n",
            "\n",
            "Loading required namespace: MASS\n",
            "\n",
            "\n",
            "Attaching package: ‘nlme’\n",
            "\n",
            "\n",
            "The following object is masked from ‘package:dplyr’:\n",
            "\n",
            "    collapse\n",
            "\n",
            "\n",
            "\n",
            "Attaching package: ‘MASS’\n",
            "\n",
            "\n",
            "The following object is masked from ‘package:dplyr’:\n",
            "\n",
            "    select\n",
            "\n",
            "\n"
          ]
        },
        {
          "output_type": "stream",
          "name": "stdout",
          "text": [
            "Computational iterations: 24 \n",
            "Computational time: 113.002 minutes \n"
          ]
        },
        {
          "output_type": "display_data",
          "data": {
            "text/plain": [
              "    user   system  elapsed \n",
              "6551.161  227.788 6780.204 "
            ]
          },
          "metadata": {}
        }
      ]
    },
    {
      "cell_type": "code",
      "metadata": {
        "id": "afYogUPCfxXQ"
      },
      "source": [
        "m2_Love_zinbi_main_std_comp_fit <- m2_Love_zinbi_main_std_comp$fitted\n",
        "saveRDS(m2_Love_zinbi_main_std_comp_fit, \"m2_Love_zinbi_main_std_comp_fit.rds\")"
      ],
      "execution_count": null,
      "outputs": []
    },
    {
      "cell_type": "code",
      "metadata": {
        "id": "r5NebD2vd4mH",
        "colab": {
          "base_uri": "https://localhost:8080/",
          "height": 570
        },
        "outputId": "c2c584ed-2a45-4927-d0f4-30c69b29f8c3"
      },
      "source": [
        "summary(m2_Love_zinbi_main_std_comp)\n"
      ],
      "execution_count": null,
      "outputs": [
        {
          "output_type": "display_data",
          "data": {
            "text/plain": [
              "Linear mixed-effects model fit by maximum likelihood\n",
              "  Data: final_pages_react_nona_st \n",
              "  AIC BIC logLik\n",
              "   NA  NA     NA\n",
              "\n",
              "Random effects:\n",
              " Formula: ~1 | Page.Name.fac\n",
              "        (Intercept) Residual\n",
              "StdDev:     1.36527 2.138599\n",
              "\n",
              "Variance function:\n",
              " Structure: fixed weights\n",
              " Formula: ~invwt \n",
              "Fixed effects:  Love ~ sentistr_std + insult_std + republican \n",
              "                  Value  Std.Error       DF   t-value p-value\n",
              "(Intercept)   2.4356639 0.05242422 10990044  46.46066       0\n",
              "sentistr_std  0.2448123 0.00149702 10990044 163.53262       0\n",
              "insult_std    0.0145386 0.00153767 10990044   9.45495       0\n",
              "republican   -0.3709780 0.07119993     1489  -5.21037       0\n",
              " Correlation: \n",
              "             (Intr) sntst_ inslt_\n",
              "sentistr_std  0.000              \n",
              "insult_std    0.000  0.264       \n",
              "republican   -0.736 -0.002  0.000\n",
              "\n",
              "Standardized Within-Group Residuals:\n",
              "         Min           Q1          Med           Q3          Max \n",
              " -0.22105693  -0.21233960  -0.19601522  -0.09325981 667.27923794 \n",
              "\n",
              "Number of Observations: 10991537\n",
              "Number of Groups: 1491 "
            ]
          },
          "metadata": {}
        }
      ]
    },
    {
      "cell_type": "code",
      "metadata": {
        "id": "rI-v_vT-d4hV",
        "colab": {
          "base_uri": "https://localhost:8080/",
          "height": 392
        },
        "outputId": "745a61ba-5118-4374-b41c-339114d5b97c"
      },
      "source": [
        "summary(m2_Love_zinbi_main_std_comp$fit.zero)\n"
      ],
      "execution_count": null,
      "outputs": [
        {
          "output_type": "display_data",
          "data": {
            "text/plain": [
              "\n",
              "Call:\n",
              "glm(formula = fm, family = binomial, data = data)\n",
              "\n",
              "Deviance Residuals: \n",
              "     Min        1Q    Median        3Q       Max  \n",
              "-0.13089  -0.13089  -0.13089   0.08695   0.43102  \n",
              "\n",
              "Coefficients:\n",
              "            Estimate Std. Error z value            Pr(>|z|)    \n",
              "(Intercept) -4.75568    0.00328   -1450 <0.0000000000000002 ***\n",
              "---\n",
              "Signif. codes:  0 ‘***’ 0.001 ‘**’ 0.01 ‘*’ 0.05 ‘.’ 0.1 ‘ ’ 1\n",
              "\n",
              "(Dispersion parameter for binomial family taken to be 1)\n",
              "\n",
              "    Null deviance: 166187  on 10991536  degrees of freedom\n",
              "Residual deviance: 166187  on 10991536  degrees of freedom\n",
              "AIC: 188308\n",
              "\n",
              "Number of Fisher Scoring iterations: 7\n"
            ]
          },
          "metadata": {}
        }
      ]
    },
    {
      "cell_type": "markdown",
      "source": [
        "### interaction + fitted"
      ],
      "metadata": {
        "id": "UKwbJ7IBzawm"
      }
    },
    {
      "cell_type": "code",
      "metadata": {
        "id": "n_kVP6-zd4dJ",
        "colab": {
          "base_uri": "https://localhost:8080/",
          "height": 88
        },
        "outputId": "72fae642-e6e7-436a-f9c9-5aac063f7f5c"
      },
      "source": [
        "system.time(m2_Love_zinbi_int_std <- glmm.zinb(Love ~ sentistr_std*republican + insult_std*republican, random = ~1|Page.Name.fac , zi_fixed =  ~1, data=final_pages_react_nona_st))\n"
      ],
      "execution_count": null,
      "outputs": [
        {
          "output_type": "stream",
          "name": "stdout",
          "text": [
            "Computational iterations: 24 \n",
            "Computational time: 136.153 minutes \n"
          ]
        },
        {
          "output_type": "display_data",
          "data": {
            "text/plain": [
              "    user   system  elapsed \n",
              "7889.458  278.337 8169.190 "
            ]
          },
          "metadata": {}
        }
      ]
    },
    {
      "cell_type": "code",
      "source": [
        "m2_Love_zinbi_int_std_fit <- m2_Love_zinbi_int_std$fitted\n",
        "saveRDS(m2_Love_zinbi_int_std_fit, \"m2_Love_zinbi_int_std_fit.rds\")\n"
      ],
      "metadata": {
        "id": "zhaMylJR0CbK"
      },
      "execution_count": null,
      "outputs": []
    },
    {
      "cell_type": "code",
      "metadata": {
        "id": "gse6IzfOd4YH",
        "colab": {
          "base_uri": "https://localhost:8080/",
          "height": 642
        },
        "outputId": "58607184-512f-432b-d71d-89b7435664d8"
      },
      "source": [
        "summary(m2_Love_zinbi_int_std)\n"
      ],
      "execution_count": null,
      "outputs": [
        {
          "output_type": "display_data",
          "data": {
            "text/plain": [
              "Linear mixed-effects model fit by maximum likelihood\n",
              "  Data: final_pages_react_nona_st \n",
              "  AIC BIC logLik\n",
              "   NA  NA     NA\n",
              "\n",
              "Random effects:\n",
              " Formula: ~1 | Page.Name.fac\n",
              "        (Intercept) Residual\n",
              "StdDev:    1.364782 2.139615\n",
              "\n",
              "Variance function:\n",
              " Structure: fixed weights\n",
              " Formula: ~invwt \n",
              "Fixed effects:  Love ~ sentistr_std * republican + insult_std * republican \n",
              "                             Value  Std.Error       DF   t-value p-value\n",
              "(Intercept)              2.4354436 0.05240567 10990042  46.47290       0\n",
              "sentistr_std             0.2348170 0.00231263 10990042 101.53693       0\n",
              "republican              -0.3716104 0.07117496     1489  -5.22108       0\n",
              "insult_std               0.0334745 0.00223454 10990042  14.98053       0\n",
              "sentistr_std:republican  0.0164927 0.00303518 10990042   5.43382       0\n",
              "republican:insult_std   -0.0391460 0.00308124 10990042 -12.70464       0\n",
              " Correlation: \n",
              "                        (Intr) sntst_ rpblcn inslt_ snts_:\n",
              "sentistr_std             0.000                            \n",
              "republican              -0.736  0.000                     \n",
              "insult_std               0.000  0.263  0.000              \n",
              "sentistr_std:republican  0.000 -0.762 -0.002 -0.200       \n",
              "republican:insult_std    0.000 -0.191  0.000 -0.725  0.264\n",
              "\n",
              "Standardized Within-Group Residuals:\n",
              "         Min           Q1          Med           Q3          Max \n",
              " -0.21939580  -0.21226061  -0.19586302  -0.09335578 665.75542717 \n",
              "\n",
              "Number of Observations: 10991537\n",
              "Number of Groups: 1491 "
            ]
          },
          "metadata": {}
        }
      ]
    },
    {
      "cell_type": "code",
      "metadata": {
        "id": "1iPazIVhd4Se",
        "colab": {
          "base_uri": "https://localhost:8080/",
          "height": 392
        },
        "outputId": "d75a40fc-47c7-409d-9bc1-0353db9850a2"
      },
      "source": [
        "summary(m2_Love_zinbi_int_std$fit.zero)\n"
      ],
      "execution_count": null,
      "outputs": [
        {
          "output_type": "display_data",
          "data": {
            "text/plain": [
              "\n",
              "Call:\n",
              "glm(formula = fm, family = binomial, data = data)\n",
              "\n",
              "Deviance Residuals: \n",
              "     Min        1Q    Median        3Q       Max  \n",
              "-0.13127  -0.13127  -0.13127   0.08714   0.41498  \n",
              "\n",
              "Coefficients:\n",
              "             Estimate Std. Error z value            Pr(>|z|)    \n",
              "(Intercept) -4.749886   0.003271   -1452 <0.0000000000000002 ***\n",
              "---\n",
              "Signif. codes:  0 ‘***’ 0.001 ‘**’ 0.01 ‘*’ 0.05 ‘.’ 0.1 ‘ ’ 1\n",
              "\n",
              "(Dispersion parameter for binomial family taken to be 1)\n",
              "\n",
              "    Null deviance: 167149  on 10991536  degrees of freedom\n",
              "Residual deviance: 167149  on 10991536  degrees of freedom\n",
              "AIC: 189396\n",
              "\n",
              "Number of Fisher Scoring iterations: 7\n"
            ]
          },
          "metadata": {}
        }
      ]
    },
    {
      "cell_type": "markdown",
      "source": [
        "### main + sep"
      ],
      "metadata": {
        "id": "0qkWp8RozVJ6"
      }
    },
    {
      "cell_type": "code",
      "metadata": {
        "id": "TuhdXCGJd3h2",
        "colab": {
          "base_uri": "https://localhost:8080/",
          "height": 88
        },
        "outputId": "6cf8a157-1e82-4301-f5ad-11085bd7acb5"
      },
      "source": [
        "system.time(m2_Love_zinbi_inciv_main_std <- glmm.zinb(Love ~ insult_std + republican, random = ~1|Page.Name.fac , zi_fixed =  ~1, data=final_pages_react_nona_st))\n"
      ],
      "execution_count": null,
      "outputs": [
        {
          "output_type": "stream",
          "name": "stdout",
          "text": [
            "Computational iterations: 28 \n",
            "Computational time: 123.968 minutes \n"
          ]
        },
        {
          "output_type": "display_data",
          "data": {
            "text/plain": [
              "    user   system  elapsed \n",
              "7034.533  401.624 7438.077 "
            ]
          },
          "metadata": {}
        }
      ]
    },
    {
      "cell_type": "code",
      "metadata": {
        "id": "cW2X45dMd42b",
        "colab": {
          "base_uri": "https://localhost:8080/",
          "height": 535
        },
        "outputId": "bdc3e848-50d8-4190-f74d-039c8e7649d3"
      },
      "source": [
        "summary(m2_Love_zinbi_inciv_main_std)\n"
      ],
      "execution_count": null,
      "outputs": [
        {
          "output_type": "display_data",
          "data": {
            "text/plain": [
              "Linear mixed-effects model fit by maximum likelihood\n",
              "  Data: final_pages_react_nona_st \n",
              "  AIC BIC logLik\n",
              "   NA  NA     NA\n",
              "\n",
              "Random effects:\n",
              " Formula: ~1 | Page.Name.fac\n",
              "        (Intercept) Residual\n",
              "StdDev:    1.381078 2.151478\n",
              "\n",
              "Variance function:\n",
              " Structure: fixed weights\n",
              " Formula: ~invwt \n",
              "Fixed effects:  Love ~ insult_std + republican \n",
              "                 Value  Std.Error       DF   t-value p-value\n",
              "(Intercept)  2.4511614 0.05303178 10990045  46.22062       0\n",
              "insult_std  -0.0566731 0.00150376 10990045 -37.68765       0\n",
              "republican  -0.3423912 0.07202483     1489  -4.75379       0\n",
              " Correlation: \n",
              "           (Intr) inslt_\n",
              "insult_std  0.000       \n",
              "republican -0.736  0.001\n",
              "\n",
              "Standardized Within-Group Residuals:\n",
              "         Min           Q1          Med           Q3          Max \n",
              " -0.21594777  -0.20991034  -0.19383367  -0.09259077 674.97149426 \n",
              "\n",
              "Number of Observations: 10991537\n",
              "Number of Groups: 1491 "
            ]
          },
          "metadata": {}
        }
      ]
    },
    {
      "cell_type": "code",
      "metadata": {
        "id": "ml2MHILId4yX",
        "colab": {
          "base_uri": "https://localhost:8080/",
          "height": 392
        },
        "outputId": "0c19eabe-fc0a-4f58-d823-36e02d96114c"
      },
      "source": [
        "summary(m2_Love_zinbi_inciv_main_std$fit.zero)\n"
      ],
      "execution_count": null,
      "outputs": [
        {
          "output_type": "display_data",
          "data": {
            "text/plain": [
              "\n",
              "Call:\n",
              "glm(formula = fm, family = binomial, data = data)\n",
              "\n",
              "Deviance Residuals: \n",
              "     Min        1Q    Median        3Q       Max  \n",
              "-0.10225  -0.10225  -0.10225   0.06805   0.37712  \n",
              "\n",
              "Coefficients:\n",
              "             Estimate Std. Error z value            Pr(>|z|)    \n",
              "(Intercept) -5.251187   0.004188   -1254 <0.0000000000000002 ***\n",
              "---\n",
              "Signif. codes:  0 ‘***’ 0.001 ‘**’ 0.01 ‘*’ 0.05 ‘.’ 0.1 ‘ ’ 1\n",
              "\n",
              "(Dispersion parameter for binomial family taken to be 1)\n",
              "\n",
              "    Null deviance: 101224  on 10991536  degrees of freedom\n",
              "Residual deviance: 101224  on 10991536  degrees of freedom\n",
              "AIC: 114921\n",
              "\n",
              "Number of Fisher Scoring iterations: 8\n"
            ]
          },
          "metadata": {}
        }
      ]
    },
    {
      "cell_type": "code",
      "metadata": {
        "id": "_hCBWReAeSht",
        "colab": {
          "base_uri": "https://localhost:8080/",
          "height": 160
        },
        "outputId": "8334f837-44fd-4aea-e39b-d217912437f1"
      },
      "source": [
        "system.time(m2_Love_zinbi_senti_main_std <- glmm.zinb(Love ~ sentistr_std + republican, random = ~1|Page.Name.fac , zi_fixed =  ~1, data=final_pages_react_nona_st))\n"
      ],
      "execution_count": null,
      "outputs": [
        {
          "output_type": "stream",
          "name": "stderr",
          "text": [
            "Loading required namespace: nlme\n",
            "\n",
            "Loading required namespace: MASS\n",
            "\n"
          ]
        },
        {
          "output_type": "stream",
          "name": "stdout",
          "text": [
            "Computational iterations: 25 \n",
            "Computational time: 109.764 minutes \n"
          ]
        },
        {
          "output_type": "display_data",
          "data": {
            "text/plain": [
              "    user   system  elapsed \n",
              "6343.645  241.154 6585.972 "
            ]
          },
          "metadata": {}
        }
      ]
    },
    {
      "cell_type": "code",
      "source": [
        "summary(m2_Love_zinbi_senti_main_std$fit.zero)\n"
      ],
      "metadata": {
        "colab": {
          "base_uri": "https://localhost:8080/",
          "height": 392
        },
        "id": "nXfFapArzw08",
        "outputId": "7a15052b-6480-47b2-8f52-320ac4701397"
      },
      "execution_count": null,
      "outputs": [
        {
          "output_type": "display_data",
          "data": {
            "text/plain": [
              "\n",
              "Call:\n",
              "glm(formula = fm, family = binomial, data = data)\n",
              "\n",
              "Deviance Residuals: \n",
              "     Min        1Q    Median        3Q       Max  \n",
              "-0.12235  -0.12235  -0.12235   0.08119   0.44819  \n",
              "\n",
              "Coefficients:\n",
              "             Estimate Std. Error z value Pr(>|z|)    \n",
              "(Intercept) -4.891100   0.003506   -1395   <2e-16 ***\n",
              "---\n",
              "Signif. codes:  0 ‘***’ 0.001 ‘**’ 0.01 ‘*’ 0.05 ‘.’ 0.1 ‘ ’ 1\n",
              "\n",
              "(Dispersion parameter for binomial family taken to be 1)\n",
              "\n",
              "    Null deviance: 145173  on 10991536  degrees of freedom\n",
              "Residual deviance: 145173  on 10991536  degrees of freedom\n",
              "AIC: 164547\n",
              "\n",
              "Number of Fisher Scoring iterations: 8\n"
            ]
          },
          "metadata": {}
        }
      ]
    },
    {
      "cell_type": "code",
      "source": [
        "summary(m2_Love_zinbi_senti_main_std)\n"
      ],
      "metadata": {
        "colab": {
          "base_uri": "https://localhost:8080/",
          "height": 535
        },
        "id": "Dj-FCyxLzwp-",
        "outputId": "1455e59e-682d-490d-dd7a-ad0bae330539"
      },
      "execution_count": null,
      "outputs": [
        {
          "output_type": "display_data",
          "data": {
            "text/plain": [
              "Linear mixed-effects model fit by maximum likelihood\n",
              "  Data: final_pages_react_nona_st \n",
              "  AIC BIC logLik\n",
              "   NA  NA     NA\n",
              "\n",
              "Random effects:\n",
              " Formula: ~1 | Page.Name.fac\n",
              "        (Intercept) Residual\n",
              "StdDev:    1.366267 2.138366\n",
              "\n",
              "Variance function:\n",
              " Structure: fixed weights\n",
              " Formula: ~invwt \n",
              "Fixed effects:  Love ~ sentistr_std + republican \n",
              "                  Value  Std.Error       DF   t-value p-value\n",
              "(Intercept)   2.4351506 0.05246238 10990045  46.41709       0\n",
              "sentistr_std  0.2409784 0.00144429 10990045 166.84907       0\n",
              "republican   -0.3713862 0.07125171     1489  -5.21231       0\n",
              " Correlation: \n",
              "             (Intr) sntst_\n",
              "sentistr_std  0.000       \n",
              "republican   -0.736 -0.002\n",
              "\n",
              "Standardized Within-Group Residuals:\n",
              "         Min           Q1          Med           Q3          Max \n",
              " -0.21927858  -0.21239462  -0.19617324  -0.09298747 669.28331037 \n",
              "\n",
              "Number of Observations: 10991537\n",
              "Number of Groups: 1491 "
            ]
          },
          "metadata": {}
        }
      ]
    },
    {
      "cell_type": "markdown",
      "metadata": {
        "id": "Yu7lgCr9eCPl"
      },
      "source": [
        "## Haha"
      ]
    },
    {
      "cell_type": "markdown",
      "source": [
        "### main + fitted"
      ],
      "metadata": {
        "id": "TKeRPLSb0WHR"
      }
    },
    {
      "cell_type": "code",
      "metadata": {
        "id": "sNFJX2j2edPT",
        "colab": {
          "base_uri": "https://localhost:8080/",
          "height": 481
        },
        "outputId": "55bd33d4-af9f-4c92-a6b1-3be657be1e46"
      },
      "source": [
        "system.time(m2_Haha_zinbi_main_std_comp <- glmm.zinb(Haha ~ sentistr_std + insult_std + republican, random = ~1|Page.Name.fac , zi_fixed =  ~1, data=final_pages_react_nona_st))\n"
      ],
      "execution_count": null,
      "outputs": [
        {
          "metadata": {
            "tags": null
          },
          "name": "stderr",
          "output_type": "stream",
          "text": [
            "Loading required namespace: nlme\n",
            "\n",
            "Loading required namespace: MASS\n",
            "\n",
            "\n",
            "Attaching package: ‘nlme’\n",
            "\n",
            "\n",
            "The following object is masked from ‘package:dplyr’:\n",
            "\n",
            "    collapse\n",
            "\n",
            "\n",
            "\n",
            "Attaching package: ‘MASS’\n",
            "\n",
            "\n",
            "The following object is masked from ‘package:dplyr’:\n",
            "\n",
            "    select\n",
            "\n",
            "\n"
          ]
        },
        {
          "metadata": {
            "tags": null
          },
          "name": "stdout",
          "output_type": "stream",
          "text": [
            "Computational iterations: 22 \n",
            "Computational time: 100.4 minutes \n"
          ]
        },
        {
          "data": {
            "text/plain": [
              "    user   system  elapsed \n",
              "5823.072  200.065 6024.142 "
            ]
          },
          "metadata": {},
          "output_type": "display_data"
        }
      ]
    },
    {
      "cell_type": "code",
      "metadata": {
        "id": "v4uVE0OKf3C-"
      },
      "source": [
        "m2_Haha_zinbi_main_std_comp_fit <- m2_Haha_zinbi_main_std_comp$fitted\n",
        "saveRDS(m2_Haha_zinbi_main_std_comp_fit, \"m2_Haha_zinbi_main_std_comp_fit.rds\")"
      ],
      "execution_count": null,
      "outputs": []
    },
    {
      "cell_type": "code",
      "metadata": {
        "id": "58ts5Q7QedMj",
        "colab": {
          "base_uri": "https://localhost:8080/",
          "height": 570
        },
        "outputId": "febdb990-15d4-46a6-ea6a-b441b9aad275"
      },
      "source": [
        "summary(m2_Haha_zinbi_main_std_comp)\n"
      ],
      "execution_count": null,
      "outputs": [
        {
          "data": {
            "text/plain": [
              "Linear mixed-effects model fit by maximum likelihood\n",
              "  Data: final_pages_react_nona_st \n",
              "  AIC BIC logLik\n",
              "   NA  NA     NA\n",
              "\n",
              "Random effects:\n",
              " Formula: ~1 | Page.Name.fac\n",
              "        (Intercept) Residual\n",
              "StdDev:    1.593215 1.959778\n",
              "\n",
              "Variance function:\n",
              " Structure: fixed weights\n",
              " Formula: ~invwt \n",
              "Fixed effects:  Haha ~ sentistr_std + insult_std + republican \n",
              "                 Value  Std.Error       DF   t-value p-value\n",
              "(Intercept)  2.2178983 0.06112956 10990044  36.28193   0.000\n",
              "sentistr_std 0.1133287 0.00143983 10990044  78.70964   0.000\n",
              "insult_std   0.2434125 0.00146572 10990044 166.07063   0.000\n",
              "republican   0.1417025 0.08301084     1489   1.70704   0.088\n",
              " Correlation: \n",
              "             (Intr) sntst_ inslt_\n",
              "sentistr_std  0.000              \n",
              "insult_std    0.000  0.265       \n",
              "republican   -0.736 -0.002  0.000\n",
              "\n",
              "Standardized Within-Group Residuals:\n",
              "        Min          Q1         Med          Q3         Max \n",
              " -0.2281105  -0.2205383  -0.2085814  -0.1097696 498.7857650 \n",
              "\n",
              "Number of Observations: 10991537\n",
              "Number of Groups: 1491 "
            ]
          },
          "metadata": {},
          "output_type": "display_data"
        }
      ]
    },
    {
      "cell_type": "code",
      "metadata": {
        "id": "Wn1HsYVTedJm",
        "colab": {
          "base_uri": "https://localhost:8080/",
          "height": 392
        },
        "outputId": "fc08993f-8ae3-4a58-a5a5-0ae9cdd36155"
      },
      "source": [
        "summary(m2_Haha_zinbi_main_std_comp$fit.zero)\n"
      ],
      "execution_count": null,
      "outputs": [
        {
          "data": {
            "text/plain": [
              "\n",
              "Call:\n",
              "glm(formula = fm, family = binomial, data = data)\n",
              "\n",
              "Deviance Residuals: \n",
              "    Min       1Q   Median       3Q      Max  \n",
              "-0.1748  -0.1748  -0.1748   0.1117   0.5183  \n",
              "\n",
              "Coefficients:\n",
              "             Estimate Std. Error z value            Pr(>|z|)    \n",
              "(Intercept) -4.173255   0.002468   -1691 <0.0000000000000002 ***\n",
              "---\n",
              "Signif. codes:  0 ‘***’ 0.001 ‘**’ 0.01 ‘*’ 0.05 ‘.’ 0.1 ‘ ’ 1\n",
              "\n",
              "(Dispersion parameter for binomial family taken to be 1)\n",
              "\n",
              "    Null deviance: 283923  on 10991536  degrees of freedom\n",
              "Residual deviance: 283923  on 10991536  degrees of freedom\n",
              "AIC: 336005\n",
              "\n",
              "Number of Fisher Scoring iterations: 7\n"
            ]
          },
          "metadata": {},
          "output_type": "display_data"
        }
      ]
    },
    {
      "cell_type": "markdown",
      "source": [
        "### interaction + fitted"
      ],
      "metadata": {
        "id": "cI0my16-0e5R"
      }
    },
    {
      "cell_type": "code",
      "metadata": {
        "id": "sKK7DegwedFu",
        "colab": {
          "base_uri": "https://localhost:8080/",
          "height": 88
        },
        "outputId": "8b561dfc-4468-421c-ff28-c5cbd483466f"
      },
      "source": [
        "system.time(m2_Haha_zinbi_int_std <- glmm.zinb(Haha ~ sentistr_std*republican + insult_std*republican, random = ~1|Page.Name.fac , zi_fixed =  ~1, data=final_pages_react_nona_st))\n"
      ],
      "execution_count": null,
      "outputs": [
        {
          "output_type": "stream",
          "name": "stdout",
          "text": [
            "Computational iterations: 22 \n",
            "Computational time: 120.277 minutes \n"
          ]
        },
        {
          "output_type": "display_data",
          "data": {
            "text/plain": [
              "    user   system  elapsed \n",
              "6897.325  317.712 7216.593 "
            ]
          },
          "metadata": {}
        }
      ]
    },
    {
      "cell_type": "code",
      "source": [
        "m2_Haha_zinbi_int_std_fit <- m2_Haha_zinbi_int_std$fitted\n",
        "saveRDS(m2_Haha_zinbi_int_std_fit, \"m2_Haha_zinbi_int_std_fit.rds\")"
      ],
      "metadata": {
        "id": "xL7vDDKT0iiH"
      },
      "execution_count": null,
      "outputs": []
    },
    {
      "cell_type": "code",
      "metadata": {
        "id": "mD-yFBVZedBk",
        "colab": {
          "base_uri": "https://localhost:8080/",
          "height": 642
        },
        "outputId": "911501ee-3877-4dac-e2d9-22a5228a5edb"
      },
      "source": [
        "summary(m2_Haha_zinbi_int_std)\n"
      ],
      "execution_count": null,
      "outputs": [
        {
          "output_type": "display_data",
          "data": {
            "text/plain": [
              "Linear mixed-effects model fit by maximum likelihood\n",
              "  Data: final_pages_react_nona_st \n",
              "  AIC BIC logLik\n",
              "   NA  NA     NA\n",
              "\n",
              "Random effects:\n",
              " Formula: ~1 | Page.Name.fac\n",
              "        (Intercept) Residual\n",
              "StdDev:     1.59245 1.963912\n",
              "\n",
              "Variance function:\n",
              " Structure: fixed weights\n",
              " Formula: ~invwt \n",
              "Fixed effects:  Haha ~ sentistr_std * republican + insult_std * republican \n",
              "                             Value  Std.Error       DF   t-value p-value\n",
              "(Intercept)              2.2172621 0.06110067 10990042  36.28867   0.000\n",
              "sentistr_std             0.2019699 0.00225029 10990042  89.75274   0.000\n",
              "republican               0.1488376 0.08297178     1489   1.79383   0.073\n",
              "insult_std               0.2768458 0.00214495 10990042 129.06876   0.000\n",
              "sentistr_std:republican -0.1549602 0.00293178 10990042 -52.85536   0.000\n",
              "republican:insult_std   -0.0601205 0.00294207 10990042 -20.43475   0.000\n",
              " Correlation: \n",
              "                        (Intr) sntst_ rpblcn inslt_ snts_:\n",
              "sentistr_std             0.000                            \n",
              "republican              -0.736  0.000                     \n",
              "insult_std               0.000  0.265  0.000              \n",
              "sentistr_std:republican  0.000 -0.768 -0.002 -0.204       \n",
              "republican:insult_std    0.000 -0.194  0.000 -0.729  0.265\n",
              "\n",
              "Standardized Within-Group Residuals:\n",
              "        Min          Q1         Med          Q3         Max \n",
              " -0.2277968  -0.2201659  -0.2082214  -0.1094375 510.5845366 \n",
              "\n",
              "Number of Observations: 10991537\n",
              "Number of Groups: 1491 "
            ]
          },
          "metadata": {}
        }
      ]
    },
    {
      "cell_type": "code",
      "metadata": {
        "id": "aMXHCLDUelqj",
        "colab": {
          "base_uri": "https://localhost:8080/",
          "height": 392
        },
        "outputId": "8b02d6c1-919c-44af-891f-48b0b6c2d453"
      },
      "source": [
        "summary(m2_Haha_zinbi_int_std$fit.zero)\n"
      ],
      "execution_count": null,
      "outputs": [
        {
          "output_type": "display_data",
          "data": {
            "text/plain": [
              "\n",
              "Call:\n",
              "glm(formula = fm, family = binomial, data = data)\n",
              "\n",
              "Deviance Residuals: \n",
              "    Min       1Q   Median       3Q      Max  \n",
              "-0.1759  -0.1759  -0.1759   0.1126   0.5322  \n",
              "\n",
              "Coefficients:\n",
              "             Estimate Std. Error z value            Pr(>|z|)    \n",
              "(Intercept) -4.161163   0.002453   -1696 <0.0000000000000002 ***\n",
              "---\n",
              "Signif. codes:  0 ‘***’ 0.001 ‘**’ 0.01 ‘*’ 0.05 ‘.’ 0.1 ‘ ’ 1\n",
              "\n",
              "(Dispersion parameter for binomial family taken to be 1)\n",
              "\n",
              "    Null deviance: 287396  on 10991536  degrees of freedom\n",
              "Residual deviance: 287396  on 10991536  degrees of freedom\n",
              "AIC: 340061\n",
              "\n",
              "Number of Fisher Scoring iterations: 7\n"
            ]
          },
          "metadata": {}
        }
      ]
    },
    {
      "cell_type": "markdown",
      "source": [
        "### main -- separate"
      ],
      "metadata": {
        "id": "VVkJ-vat0awt"
      }
    },
    {
      "cell_type": "code",
      "metadata": {
        "id": "o2VycT8WeDjx",
        "colab": {
          "base_uri": "https://localhost:8080/",
          "height": 88
        },
        "outputId": "016a7d56-41c6-483a-d510-d4672615a5a1"
      },
      "source": [
        "system.time(m2_Haha_zinbi_inciv_main_std <- glmm.zinb(Haha ~ insult_std + republican, random = ~1|Page.Name.fac , zi_fixed =  ~1, data=final_pages_react_nona_st))\n"
      ],
      "execution_count": null,
      "outputs": [
        {
          "output_type": "stream",
          "name": "stdout",
          "text": [
            "Computational iterations: 23 \n",
            "Computational time: 100.527 minutes \n"
          ]
        },
        {
          "output_type": "display_data",
          "data": {
            "text/plain": [
              "    user   system  elapsed \n",
              "5456.420  573.234 6031.648 "
            ]
          },
          "metadata": {}
        }
      ]
    },
    {
      "cell_type": "code",
      "metadata": {
        "id": "C2z8UG-pedj4",
        "colab": {
          "base_uri": "https://localhost:8080/",
          "height": 535
        },
        "outputId": "6dce3b73-b28c-4ff8-ecc7-8b3348caf993"
      },
      "source": [
        "summary(m2_Haha_zinbi_inciv_main_std)\n"
      ],
      "execution_count": null,
      "outputs": [
        {
          "output_type": "display_data",
          "data": {
            "text/plain": [
              "Linear mixed-effects model fit by maximum likelihood\n",
              "  Data: final_pages_react_nona_st \n",
              "  AIC BIC logLik\n",
              "   NA  NA     NA\n",
              "\n",
              "Random effects:\n",
              " Formula: ~1 | Page.Name.fac\n",
              "        (Intercept) Residual\n",
              "StdDev:    1.597932 1.971126\n",
              "\n",
              "Variance function:\n",
              " Structure: fixed weights\n",
              " Formula: ~invwt \n",
              "Fixed effects:  Haha ~ insult_std + republican \n",
              "                Value  Std.Error       DF   t-value p-value\n",
              "(Intercept) 2.2251009 0.06131167 10990045  36.29164  0.0000\n",
              "insult_std  0.2158588 0.00142422 10990045 151.56269  0.0000\n",
              "republican  0.1458291 0.08325819     1489   1.75153  0.0801\n",
              " Correlation: \n",
              "           (Intr) inslt_\n",
              "insult_std  0.000       \n",
              "republican -0.736  0.000\n",
              "\n",
              "Standardized Within-Group Residuals:\n",
              "        Min          Q1         Med          Q3         Max \n",
              " -0.2261482  -0.2191310  -0.2072396  -0.1091223 519.4133441 \n",
              "\n",
              "Number of Observations: 10991537\n",
              "Number of Groups: 1491 "
            ]
          },
          "metadata": {}
        }
      ]
    },
    {
      "cell_type": "code",
      "metadata": {
        "id": "KaqD4FoKedfE",
        "colab": {
          "base_uri": "https://localhost:8080/",
          "height": 392
        },
        "outputId": "15a3f8cf-ad79-43ed-cbc5-9987e25d65a0"
      },
      "source": [
        "summary(m2_Haha_zinbi_inciv_main_std$fit.zero)\n"
      ],
      "execution_count": null,
      "outputs": [
        {
          "output_type": "display_data",
          "data": {
            "text/plain": [
              "\n",
              "Call:\n",
              "glm(formula = fm, family = binomial, data = data)\n",
              "\n",
              "Deviance Residuals: \n",
              "    Min       1Q   Median       3Q      Max  \n",
              "-0.1635  -0.1635  -0.1635   0.1046   0.4569  \n",
              "\n",
              "Coefficients:\n",
              "             Estimate Std. Error z value            Pr(>|z|)    \n",
              "(Intercept) -4.307839   0.002635   -1635 <0.0000000000000002 ***\n",
              "---\n",
              "Signif. codes:  0 ‘***’ 0.001 ‘**’ 0.01 ‘*’ 0.05 ‘.’ 0.1 ‘ ’ 1\n",
              "\n",
              "(Dispersion parameter for binomial family taken to be 1)\n",
              "\n",
              "    Null deviance: 248220  on 10991536  degrees of freedom\n",
              "Residual deviance: 248220  on 10991536  degrees of freedom\n",
              "AIC: 293977\n",
              "\n",
              "Number of Fisher Scoring iterations: 7\n"
            ]
          },
          "metadata": {}
        }
      ]
    },
    {
      "cell_type": "code",
      "metadata": {
        "id": "l_Hh4q2uedbZ",
        "colab": {
          "base_uri": "https://localhost:8080/",
          "height": 481
        },
        "outputId": "09ddebae-874e-45b6-ffe7-1cafa9c5d67f"
      },
      "source": [
        "system.time(m2_Haha_zinbi_senti_main_std <- glmm.zinb(Haha ~ sentistr_std + republican, random = ~1|Page.Name.fac , zi_fixed =  ~1, data=final_pages_react_nona_st))\n"
      ],
      "execution_count": null,
      "outputs": [
        {
          "output_type": "stream",
          "name": "stderr",
          "text": [
            "Loading required namespace: nlme\n",
            "\n",
            "Loading required namespace: MASS\n",
            "\n",
            "\n",
            "Attaching package: ‘nlme’\n",
            "\n",
            "\n",
            "The following object is masked from ‘package:dplyr’:\n",
            "\n",
            "    collapse\n",
            "\n",
            "\n",
            "\n",
            "Attaching package: ‘MASS’\n",
            "\n",
            "\n",
            "The following object is masked from ‘package:dplyr’:\n",
            "\n",
            "    select\n",
            "\n",
            "\n"
          ]
        },
        {
          "output_type": "stream",
          "name": "stdout",
          "text": [
            "Computational iterations: 22 \n",
            "Computational time: 89.541 minutes \n"
          ]
        },
        {
          "output_type": "display_data",
          "data": {
            "text/plain": [
              "    user   system  elapsed \n",
              "5199.612  172.024 5372.557 "
            ]
          },
          "metadata": {}
        }
      ]
    },
    {
      "cell_type": "code",
      "metadata": {
        "id": "OF0ZHd_5edXO",
        "colab": {
          "base_uri": "https://localhost:8080/",
          "height": 535
        },
        "outputId": "9c317700-f17c-40b7-e17c-13bc878eea6d"
      },
      "source": [
        "summary(m2_Haha_zinbi_senti_main_std)\n"
      ],
      "execution_count": null,
      "outputs": [
        {
          "output_type": "display_data",
          "data": {
            "text/plain": [
              "Linear mixed-effects model fit by maximum likelihood\n",
              "  Data: final_pages_react_nona_st \n",
              "  AIC BIC logLik\n",
              "   NA  NA     NA\n",
              "\n",
              "Random effects:\n",
              " Formula: ~1 | Page.Name.fac\n",
              "        (Intercept) Residual\n",
              "StdDev:    1.617454 1.925677\n",
              "\n",
              "Variance function:\n",
              " Structure: fixed weights\n",
              " Formula: ~invwt \n",
              "Fixed effects:  Haha ~ sentistr_std + republican \n",
              "                 Value  Std.Error       DF  t-value p-value\n",
              "(Intercept)  2.2484514 0.06205272 10990045 36.23453  0.0000\n",
              "sentistr_std 0.0462597 0.00137091 10990045 33.74378  0.0000\n",
              "republican   0.1340813 0.08426338     1489  1.59122  0.1118\n",
              " Correlation: \n",
              "             (Intr) sntst_\n",
              "sentistr_std  0.000       \n",
              "republican   -0.736 -0.002\n",
              "\n",
              "Standardized Within-Group Residuals:\n",
              "        Min          Q1         Med          Q3         Max \n",
              " -0.2307370  -0.2231551  -0.2120559  -0.1098921 495.0216961 \n",
              "\n",
              "Number of Observations: 10991537\n",
              "Number of Groups: 1491 "
            ]
          },
          "metadata": {}
        }
      ]
    },
    {
      "cell_type": "code",
      "metadata": {
        "id": "m1T1vt1BedT_",
        "colab": {
          "base_uri": "https://localhost:8080/",
          "height": 392
        },
        "outputId": "c606ce5e-1aed-4254-893b-e84bcf7b8429"
      },
      "source": [
        "summary(m2_Haha_zinbi_senti_main_std$fit.zero)\n"
      ],
      "execution_count": null,
      "outputs": [
        {
          "output_type": "display_data",
          "data": {
            "text/plain": [
              "\n",
              "Call:\n",
              "glm(formula = fm, family = binomial, data = data)\n",
              "\n",
              "Deviance Residuals: \n",
              "    Min       1Q   Median       3Q      Max  \n",
              "-0.1814  -0.1814  -0.1814   0.1163   0.4647  \n",
              "\n",
              "Coefficients:\n",
              "             Estimate Std. Error z value            Pr(>|z|)    \n",
              "(Intercept) -4.099475   0.002381   -1722 <0.0000000000000002 ***\n",
              "---\n",
              "Signif. codes:  0 ‘***’ 0.001 ‘**’ 0.01 ‘*’ 0.05 ‘.’ 0.1 ‘ ’ 1\n",
              "\n",
              "(Dispersion parameter for binomial family taken to be 1)\n",
              "\n",
              "    Null deviance: 305141  on 10991536  degrees of freedom\n",
              "Residual deviance: 305141  on 10991536  degrees of freedom\n",
              "AIC: 361523\n",
              "\n",
              "Number of Fisher Scoring iterations: 7\n"
            ]
          },
          "metadata": {}
        }
      ]
    },
    {
      "cell_type": "markdown",
      "metadata": {
        "id": "93S_iTNReD8z"
      },
      "source": [
        "## Sad"
      ]
    },
    {
      "cell_type": "markdown",
      "source": [
        "### main + fitted"
      ],
      "metadata": {
        "id": "DEY8Qs2o0qom"
      }
    },
    {
      "cell_type": "code",
      "metadata": {
        "id": "FE7K0dl9eqXK",
        "colab": {
          "base_uri": "https://localhost:8080/",
          "height": 88
        },
        "outputId": "82f65337-c136-41ce-c732-c7da03f363ec"
      },
      "source": [
        "system.time(m2_Sad_zinbi_main_std_comp <- glmm.zinb(Sad ~ sentistr_std + insult_std + republican, random = ~1|Page.Name.fac , zi_fixed =  ~1, data=final_pages_react_nona_st))\n"
      ],
      "execution_count": null,
      "outputs": [
        {
          "output_type": "stream",
          "name": "stdout",
          "text": [
            "Computational iterations: 30 \n",
            "Computational time: 138.732 minutes \n"
          ]
        },
        {
          "output_type": "display_data",
          "data": {
            "text/plain": [
              "    user   system  elapsed \n",
              "8060.716  261.723 8323.901 "
            ]
          },
          "metadata": {}
        }
      ]
    },
    {
      "cell_type": "code",
      "metadata": {
        "id": "2YUFCNgMf62Y"
      },
      "source": [
        "m2_Sad_zinbi_main_std_comp_fit <- m2_Sad_zinbi_main_std_comp$fitted\n",
        "saveRDS(m2_Sad_zinbi_main_std_comp_fit, \"m2_Sad_zinbi_main_std_comp_fit.rds\")"
      ],
      "execution_count": null,
      "outputs": []
    },
    {
      "cell_type": "code",
      "metadata": {
        "id": "pcOk0fVieqPt",
        "colab": {
          "base_uri": "https://localhost:8080/",
          "height": 570
        },
        "outputId": "d9ac3d43-f4d3-46f0-f1e6-9ab95e1a5197"
      },
      "source": [
        "summary(m2_Sad_zinbi_main_std_comp)\n"
      ],
      "execution_count": null,
      "outputs": [
        {
          "output_type": "display_data",
          "data": {
            "text/plain": [
              "Linear mixed-effects model fit by maximum likelihood\n",
              "  Data: final_pages_react_nona_st \n",
              "  AIC BIC logLik\n",
              "   NA  NA     NA\n",
              "\n",
              "Random effects:\n",
              " Formula: ~1 | Page.Name.fac\n",
              "        (Intercept) Residual\n",
              "StdDev:    1.332937 2.326034\n",
              "\n",
              "Variance function:\n",
              " Structure: fixed weights\n",
              " Formula: ~invwt \n",
              "Fixed effects:  Sad ~ sentistr_std + insult_std + republican \n",
              "                  Value  Std.Error       DF    t-value p-value\n",
              "(Intercept)   1.5518844 0.05126042 10990044   30.27452       0\n",
              "sentistr_std -0.3132653 0.00179987 10990044 -174.04914       0\n",
              "insult_std    0.0138934 0.00183512 10990044    7.57083       0\n",
              "republican   -0.6589904 0.06964370     1489   -9.46231       0\n",
              " Correlation: \n",
              "             (Intr) sntst_ inslt_\n",
              "sentistr_std  0.001              \n",
              "insult_std    0.000  0.266       \n",
              "republican   -0.736 -0.002  0.000\n",
              "\n",
              "Standardized Within-Group Residuals:\n",
              "         Min           Q1          Med           Q3          Max \n",
              " -0.18771629  -0.17781083  -0.16695699  -0.09465534 581.06804543 \n",
              "\n",
              "Number of Observations: 10991537\n",
              "Number of Groups: 1491 "
            ]
          },
          "metadata": {}
        }
      ]
    },
    {
      "cell_type": "code",
      "metadata": {
        "id": "Yjp9d3j0eqMH",
        "colab": {
          "base_uri": "https://localhost:8080/",
          "height": 392
        },
        "outputId": "6d2ccdde-a9c3-4646-c247-60fedd6fdf01"
      },
      "source": [
        "summary(m2_Sad_zinbi_main_std_comp$fit.zero)\n"
      ],
      "execution_count": null,
      "outputs": [
        {
          "output_type": "display_data",
          "data": {
            "text/plain": [
              "\n",
              "Call:\n",
              "glm(formula = fm, family = binomial, data = data)\n",
              "\n",
              "Deviance Residuals: \n",
              "     Min        1Q    Median        3Q       Max  \n",
              "-0.21959  -0.21959   0.05331   0.10616   0.80553  \n",
              "\n",
              "Coefficients:\n",
              "             Estimate Std. Error z value            Pr(>|z|)    \n",
              "(Intercept) -3.713023   0.001978   -1877 <0.0000000000000002 ***\n",
              "---\n",
              "Signif. codes:  0 ‘***’ 0.001 ‘**’ 0.01 ‘*’ 0.05 ‘.’ 0.1 ‘ ’ 1\n",
              "\n",
              "(Dispersion parameter for binomial family taken to be 1)\n",
              "\n",
              "    Null deviance: 325414  on 10991536  degrees of freedom\n",
              "Residual deviance: 325414  on 10991536  degrees of freedom\n",
              "AIC: 530028\n",
              "\n",
              "Number of Fisher Scoring iterations: 6\n"
            ]
          },
          "metadata": {}
        }
      ]
    },
    {
      "cell_type": "markdown",
      "source": [
        "### interaction + fitted"
      ],
      "metadata": {
        "id": "C38uJo2o053E"
      }
    },
    {
      "cell_type": "code",
      "metadata": {
        "id": "5x3YVPT9eqHH",
        "colab": {
          "base_uri": "https://localhost:8080/",
          "height": 481
        },
        "outputId": "dc82be84-030c-45d8-c366-e3017c7597b1"
      },
      "source": [
        "system.time(m2_Sad_zinbi_int_std <- glmm.zinb(Sad ~ sentistr_std*republican + insult_std*republican, random = ~1|Page.Name.fac , zi_fixed =  ~1, data=final_pages_react_nona_st))\n"
      ],
      "execution_count": null,
      "outputs": [
        {
          "output_type": "stream",
          "name": "stderr",
          "text": [
            "Loading required namespace: nlme\n",
            "\n",
            "Loading required namespace: MASS\n",
            "\n",
            "\n",
            "Attaching package: ‘nlme’\n",
            "\n",
            "\n",
            "The following object is masked from ‘package:dplyr’:\n",
            "\n",
            "    collapse\n",
            "\n",
            "\n",
            "\n",
            "Attaching package: ‘MASS’\n",
            "\n",
            "\n",
            "The following object is masked from ‘package:dplyr’:\n",
            "\n",
            "    select\n",
            "\n",
            "\n"
          ]
        },
        {
          "output_type": "stream",
          "name": "stdout",
          "text": [
            "Computational iterations: 30 \n",
            "Computational time: 177.437 minutes \n"
          ]
        },
        {
          "output_type": "display_data",
          "data": {
            "text/plain": [
              "     user    system   elapsed \n",
              "10333.440   311.008 10646.314 "
            ]
          },
          "metadata": {}
        }
      ]
    },
    {
      "cell_type": "code",
      "source": [
        "m2_Sad_zinbi_int_std_fit <- m2_Sad_zinbi_int_std$fitted\n",
        "saveRDS(m2_Sad_zinbi_int_std_fit, \"m2_Sad_zinbi_int_std_fit.rds\")"
      ],
      "metadata": {
        "id": "D5PPCQgI09Rl"
      },
      "execution_count": null,
      "outputs": []
    },
    {
      "cell_type": "code",
      "metadata": {
        "id": "Mk7unW3oeqEN",
        "colab": {
          "base_uri": "https://localhost:8080/",
          "height": 642
        },
        "outputId": "86a48688-ce05-49a0-e48a-0bf1a51d4a53"
      },
      "source": [
        "summary(m2_Sad_zinbi_int_std)\n"
      ],
      "execution_count": null,
      "outputs": [
        {
          "output_type": "display_data",
          "data": {
            "text/plain": [
              "Linear mixed-effects model fit by maximum likelihood\n",
              "  Data: final_pages_react_nona_st \n",
              "  AIC BIC logLik\n",
              "   NA  NA     NA\n",
              "\n",
              "Random effects:\n",
              " Formula: ~1 | Page.Name.fac\n",
              "        (Intercept) Residual\n",
              "StdDev:    1.330442 2.326782\n",
              "\n",
              "Variance function:\n",
              " Structure: fixed weights\n",
              " Formula: ~invwt \n",
              "Fixed effects:  Sad ~ sentistr_std * republican + insult_std * republican \n",
              "                             Value  Std.Error       DF    t-value p-value\n",
              "(Intercept)              1.5537919 0.05116512 10990042   30.36818       0\n",
              "sentistr_std            -0.2806839 0.00276070 10990042 -101.67114       0\n",
              "republican              -0.6604285 0.06951460     1489   -9.50057       0\n",
              "insult_std               0.0360114 0.00265224 10990042   13.57771       0\n",
              "sentistr_std:republican -0.0565830 0.00364169 10990042  -15.53757       0\n",
              "republican:insult_std   -0.0422870 0.00367435 10990042  -11.50868       0\n",
              " Correlation: \n",
              "                        (Intr) sntst_ rpblcn inslt_ snts_:\n",
              "sentistr_std             0.001                            \n",
              "republican              -0.736 -0.001                     \n",
              "insult_std               0.000  0.264  0.000              \n",
              "sentistr_std:republican -0.001 -0.758 -0.001 -0.200       \n",
              "republican:insult_std    0.000 -0.191  0.001 -0.722  0.265\n",
              "\n",
              "Standardized Within-Group Residuals:\n",
              "         Min           Q1          Med           Q3          Max \n",
              " -0.18774603  -0.17781319  -0.16694154  -0.09471091 584.64587794 \n",
              "\n",
              "Number of Observations: 10991537\n",
              "Number of Groups: 1491 "
            ]
          },
          "metadata": {}
        }
      ]
    },
    {
      "cell_type": "code",
      "metadata": {
        "id": "3_Z7cSHbeqBV",
        "colab": {
          "base_uri": "https://localhost:8080/",
          "height": 392
        },
        "outputId": "acd286fc-5c34-468d-a07b-b0e20bc06199"
      },
      "source": [
        "summary(m2_Sad_zinbi_int_std$fit.zero)\n"
      ],
      "execution_count": null,
      "outputs": [
        {
          "output_type": "display_data",
          "data": {
            "text/plain": [
              "\n",
              "Call:\n",
              "glm(formula = fm, family = binomial, data = data)\n",
              "\n",
              "Deviance Residuals: \n",
              "     Min        1Q    Median        3Q       Max  \n",
              "-0.22018  -0.22018   0.05343   0.10625   0.75124  \n",
              "\n",
              "Coefficients:\n",
              "             Estimate Std. Error z value            Pr(>|z|)    \n",
              "(Intercept) -3.707652   0.001973   -1879 <0.0000000000000002 ***\n",
              "---\n",
              "Signif. codes:  0 ‘***’ 0.001 ‘**’ 0.01 ‘*’ 0.05 ‘.’ 0.1 ‘ ’ 1\n",
              "\n",
              "(Dispersion parameter for binomial family taken to be 1)\n",
              "\n",
              "    Null deviance: 327128  on 10991536  degrees of freedom\n",
              "Residual deviance: 327128  on 10991536  degrees of freedom\n",
              "AIC: 532848\n",
              "\n",
              "Number of Fisher Scoring iterations: 6\n"
            ]
          },
          "metadata": {}
        }
      ]
    },
    {
      "cell_type": "markdown",
      "source": [
        "### main + separate"
      ],
      "metadata": {
        "id": "6CwYw1Mx0uwR"
      }
    },
    {
      "cell_type": "code",
      "metadata": {
        "id": "tWIRFT2TeFPF",
        "colab": {
          "base_uri": "https://localhost:8080/",
          "height": 88
        },
        "outputId": "79ae64fa-cf21-45a0-979b-f192e286d01c"
      },
      "source": [
        "system.time(m2_Sad_zinbi_inciv_main_std <- glmm.zinb(Sad ~ insult_std + republican, random = ~1|Page.Name.fac , zi_fixed =  ~1, data=final_pages_react_nona_st))\n"
      ],
      "execution_count": null,
      "outputs": [
        {
          "output_type": "stream",
          "name": "stdout",
          "text": [
            "Computational iterations: 30 \n",
            "Computational time: 129.774 minutes \n"
          ]
        },
        {
          "output_type": "display_data",
          "data": {
            "text/plain": [
              "    user   system  elapsed \n",
              "7584.376  200.751 7786.444 "
            ]
          },
          "metadata": {}
        }
      ]
    },
    {
      "cell_type": "code",
      "metadata": {
        "id": "0sQx6S-seDtr",
        "colab": {
          "base_uri": "https://localhost:8080/",
          "height": 535
        },
        "outputId": "dc3a9c54-0a62-41c2-be2a-47dbb440d81e"
      },
      "source": [
        "summary(m2_Sad_zinbi_inciv_main_std)\n"
      ],
      "execution_count": null,
      "outputs": [
        {
          "output_type": "display_data",
          "data": {
            "text/plain": [
              "Linear mixed-effects model fit by maximum likelihood\n",
              "  Data: final_pages_react_nona_st \n",
              "  AIC BIC logLik\n",
              "   NA  NA     NA\n",
              "\n",
              "Random effects:\n",
              " Formula: ~1 | Page.Name.fac\n",
              "        (Intercept) Residual\n",
              "StdDev:    1.335703 2.258065\n",
              "\n",
              "Variance function:\n",
              " Structure: fixed weights\n",
              " Formula: ~invwt \n",
              "Fixed effects:  Sad ~ insult_std + republican \n",
              "                 Value  Std.Error       DF  t-value p-value\n",
              "(Intercept)  1.6040849 0.05135685 10990045 31.23410       0\n",
              "insult_std   0.0905747 0.00173224 10990045 52.28748       0\n",
              "republican  -0.6793540 0.06977117     1489 -9.73689       0\n",
              " Correlation: \n",
              "           (Intr) inslt_\n",
              "insult_std  0.000       \n",
              "republican -0.736  0.001\n",
              "\n",
              "Standardized Within-Group Residuals:\n",
              "        Min          Q1         Med          Q3         Max \n",
              " -0.1911795  -0.1811909  -0.1716179  -0.0958272 562.3731171 \n",
              "\n",
              "Number of Observations: 10991537\n",
              "Number of Groups: 1491 "
            ]
          },
          "metadata": {}
        }
      ]
    },
    {
      "cell_type": "code",
      "metadata": {
        "id": "fiNqA_7Ceqin",
        "colab": {
          "base_uri": "https://localhost:8080/",
          "height": 392
        },
        "outputId": "101087bb-87a4-425e-e725-0b4dd753b08c"
      },
      "source": [
        "summary(m2_Sad_zinbi_inciv_main_std$fit.zero)\n"
      ],
      "execution_count": null,
      "outputs": [
        {
          "output_type": "display_data",
          "data": {
            "text/plain": [
              "\n",
              "Call:\n",
              "glm(formula = fm, family = binomial, data = data)\n",
              "\n",
              "Deviance Residuals: \n",
              "    Min       1Q   Median       3Q      Max  \n",
              "-0.2318  -0.2318   0.0571   0.1116   0.8587  \n",
              "\n",
              "Coefficients:\n",
              "             Estimate Std. Error z value            Pr(>|z|)    \n",
              "(Intercept) -3.603861   0.001878   -1919 <0.0000000000000002 ***\n",
              "---\n",
              "Signif. codes:  0 ‘***’ 0.001 ‘**’ 0.01 ‘*’ 0.05 ‘.’ 0.1 ‘ ’ 1\n",
              "\n",
              "(Dispersion parameter for binomial family taken to be 1)\n",
              "\n",
              "    Null deviance: 362008  on 10991536  degrees of freedom\n",
              "Residual deviance: 362008  on 10991536  degrees of freedom\n",
              "AIC: 590349\n",
              "\n",
              "Number of Fisher Scoring iterations: 6\n"
            ]
          },
          "metadata": {}
        }
      ]
    },
    {
      "cell_type": "code",
      "metadata": {
        "id": "WtlVf0uxeqfP",
        "colab": {
          "base_uri": "https://localhost:8080/",
          "height": 88
        },
        "outputId": "a1693720-c2e7-4acc-edb3-a6dc355b5be2"
      },
      "source": [
        "system.time(m2_Sad_zinbi_senti_main_std <- glmm.zinb(Sad ~ sentistr_std + republican, random = ~1|Page.Name.fac , zi_fixed =  ~1, data=final_pages_react_nona_st))\n"
      ],
      "execution_count": null,
      "outputs": [
        {
          "output_type": "stream",
          "name": "stdout",
          "text": [
            "Computational iterations: 30 \n",
            "Computational time: 136.732 minutes \n"
          ]
        },
        {
          "output_type": "display_data",
          "data": {
            "text/plain": [
              "    user   system  elapsed \n",
              "7685.813  515.355 8203.927 "
            ]
          },
          "metadata": {}
        }
      ]
    },
    {
      "cell_type": "code",
      "source": [
        "summary(m2_Sad_zinbi_senti_main_std)\n"
      ],
      "metadata": {
        "colab": {
          "base_uri": "https://localhost:8080/",
          "height": 535
        },
        "id": "1HYC997l0z47",
        "outputId": "130fc607-16fa-4a03-ae9e-9969daabb3d1"
      },
      "execution_count": null,
      "outputs": [
        {
          "output_type": "display_data",
          "data": {
            "text/plain": [
              "Linear mixed-effects model fit by maximum likelihood\n",
              "  Data: final_pages_react_nona_st \n",
              "  AIC BIC logLik\n",
              "   NA  NA     NA\n",
              "\n",
              "Random effects:\n",
              " Formula: ~1 | Page.Name.fac\n",
              "        (Intercept) Residual\n",
              "StdDev:    1.331275 2.320971\n",
              "\n",
              "Variance function:\n",
              " Structure: fixed weights\n",
              " Formula: ~invwt \n",
              "Fixed effects:  Sad ~ sentistr_std + republican \n",
              "                  Value  Std.Error       DF    t-value p-value\n",
              "(Intercept)   1.5519964 0.05119606 10990045   30.31476       0\n",
              "sentistr_std -0.3163377 0.00173123 10990045 -182.72408       0\n",
              "republican   -0.6594947 0.06955613     1489   -9.48148       0\n",
              " Correlation: \n",
              "             (Intr) sntst_\n",
              "sentistr_std  0.001       \n",
              "republican   -0.736 -0.002\n",
              "\n",
              "Standardized Within-Group Residuals:\n",
              "         Min           Q1          Med           Q3          Max \n",
              " -0.18812665  -0.17824672  -0.16732178  -0.09478697 580.71571386 \n",
              "\n",
              "Number of Observations: 10991537\n",
              "Number of Groups: 1491 "
            ]
          },
          "metadata": {}
        }
      ]
    },
    {
      "cell_type": "code",
      "metadata": {
        "id": "pQd-UpPdeqbs",
        "colab": {
          "base_uri": "https://localhost:8080/",
          "height": 392
        },
        "outputId": "69760a90-1003-4da4-d151-3baa61b877a3"
      },
      "source": [
        "summary(m2_Sad_zinbi_senti_main_std$fit.zero)\n"
      ],
      "execution_count": null,
      "outputs": [
        {
          "output_type": "display_data",
          "data": {
            "text/plain": [
              "\n",
              "Call:\n",
              "glm(formula = fm, family = binomial, data = data)\n",
              "\n",
              "Deviance Residuals: \n",
              "     Min        1Q    Median        3Q       Max  \n",
              "-0.21968  -0.21968   0.05326   0.10627   0.74975  \n",
              "\n",
              "Coefficients:\n",
              "             Estimate Std. Error z value            Pr(>|z|)    \n",
              "(Intercept) -3.712244   0.001977   -1878 <0.0000000000000002 ***\n",
              "---\n",
              "Signif. codes:  0 ‘***’ 0.001 ‘**’ 0.01 ‘*’ 0.05 ‘.’ 0.1 ‘ ’ 1\n",
              "\n",
              "(Dispersion parameter for binomial family taken to be 1)\n",
              "\n",
              "    Null deviance: 325641  on 10991536  degrees of freedom\n",
              "Residual deviance: 325641  on 10991536  degrees of freedom\n",
              "AIC: 530436\n",
              "\n",
              "Number of Fisher Scoring iterations: 6\n"
            ]
          },
          "metadata": {}
        }
      ]
    },
    {
      "cell_type": "markdown",
      "metadata": {
        "id": "CMZXVm6FaPfz"
      },
      "source": [
        "# GLMMAdaptive"
      ]
    },
    {
      "cell_type": "code",
      "metadata": {
        "id": "ee2eB9fHaVJO",
        "colab": {
          "base_uri": "https://localhost:8080/"
        },
        "outputId": "382d0276-bc13-447d-f555-3ee0ae9fd8f9"
      },
      "source": [
        "install.packages(\"GLMMadaptive\")\n",
        "library(GLMMadaptive)"
      ],
      "execution_count": null,
      "outputs": [
        {
          "output_type": "stream",
          "name": "stderr",
          "text": [
            "Installing package into ‘/usr/local/lib/R/site-library’\n",
            "(as ‘lib’ is unspecified)\n",
            "\n",
            "also installing the dependency ‘matrixStats’\n",
            "\n",
            "\n",
            "\n",
            "Attaching package: ‘GLMMadaptive’\n",
            "\n",
            "\n",
            "The following object is masked from ‘package:MASS’:\n",
            "\n",
            "    negative.binomial\n",
            "\n",
            "\n"
          ]
        }
      ]
    },
    {
      "cell_type": "markdown",
      "metadata": {
        "id": "flOgKM5u98gY"
      },
      "source": [
        "### love (done)"
      ]
    },
    {
      "cell_type": "code",
      "metadata": {
        "id": "KunxY7IPaVFE",
        "colab": {
          "base_uri": "https://localhost:8080/",
          "height": 51
        },
        "outputId": "94252789-052d-409c-aaae-0f4b75177c85"
      },
      "source": [
        "system.time( m2_Love_senti_main <- mixed_model(fixed = Love ~ sentistr + republican , random = ~ 1|Page.Name.fac, zi_fixed =  ~ 1,  family = zi.negative.binomial(), data=final_pages_react_nona_st , max_coef_value = 100 ))\n"
      ],
      "execution_count": null,
      "outputs": [
        {
          "output_type": "display_data",
          "data": {
            "text/plain": [
              "    user   system  elapsed \n",
              "5316.485  194.951 5513.960 "
            ]
          },
          "metadata": {}
        }
      ]
    },
    {
      "cell_type": "code",
      "metadata": {
        "id": "e9lMRwNOaU-B"
      },
      "source": [
        "saveRDS(m2_Love_senti_main, \"m2_Love_senti_main.rds\")\n"
      ],
      "execution_count": null,
      "outputs": []
    },
    {
      "cell_type": "code",
      "metadata": {
        "id": "ZEAnChZkaU3e"
      },
      "source": [
        "system.time( m2_Love_inciv_main <- mixed_model(fixed = Love ~ insult + republican , random = ~ 1|Page.Name.fac, zi_fixed =  ~ 1,  family = zi.negative.binomial(), data=final_pages_react_nona_st , max_coef_value = 100 ))\n"
      ],
      "execution_count": null,
      "outputs": []
    },
    {
      "cell_type": "code",
      "metadata": {
        "id": "d3gQwmOraUxX"
      },
      "source": [
        "saveRDS(m2_Love_inciv_main, \"m2_Love_inciv_main.rds\")\n"
      ],
      "execution_count": null,
      "outputs": []
    },
    {
      "cell_type": "code",
      "metadata": {
        "id": "hXSjny7vaUoh",
        "colab": {
          "base_uri": "https://localhost:8080/",
          "height": 748
        },
        "outputId": "2e290b6a-26cf-42ed-ca8a-cfd51955fee3"
      },
      "source": [
        "summary(m2_Love_inciv_main)"
      ],
      "execution_count": null,
      "outputs": [
        {
          "output_type": "display_data",
          "data": {
            "text/plain": [
              "\n",
              "Call:\n",
              "mixed_model(fixed = Love ~ insult + republican, random = ~1 | \n",
              "    Page.Name.fac, data = final_pages_react_nona_st, family = zi.negative.binomial(), \n",
              "    zi_fixed = ~1, max_coef_value = 100)\n",
              "\n",
              "Data Descriptives:\n",
              "Number of Observations: 10991537\n",
              "Number of Groups: 1491 \n",
              "\n",
              "Model:\n",
              " family: zero-inflated negative binomial\n",
              " link: log \n",
              "\n",
              "Fit statistics:\n",
              "   log.Lik      AIC      BIC\n",
              " -28151043 56302097 56302129\n",
              "\n",
              "Random effects covariance matrix:\n",
              "              StdDev\n",
              "(Intercept) 1.754048\n",
              "\n",
              "Fixed effects:\n",
              "            Estimate Std.Err  z-value  p-value\n",
              "(Intercept)   3.8270  0.1255  30.4970 < 0.0001\n",
              "insult       -0.2531  0.0033 -75.9385 < 0.0001\n",
              "republican   -0.8460  0.1001  -8.4515 < 0.0001\n",
              "\n",
              "Zero-part coefficients:\n",
              "            Estimate Std.Err z-value    p-value\n",
              "(Intercept) -16.8889  4.6859 -3.6042 0.00031308\n",
              "\n",
              "log(dispersion) parameter:\n",
              "  Estimate Std.Err\n",
              "   -1.5715  0.0005\n",
              "\n",
              "Integration:\n",
              "method: adaptive Gauss-Hermite quadrature rule\n",
              "quadrature points: 11\n",
              "\n",
              "Optimization:\n",
              "method: EM\n",
              "converged: TRUE "
            ]
          },
          "metadata": {}
        }
      ]
    },
    {
      "cell_type": "markdown",
      "metadata": {
        "id": "ZSF0TKX9-ATA"
      },
      "source": [
        "### likes"
      ]
    },
    {
      "cell_type": "code",
      "metadata": {
        "colab": {
          "base_uri": "https://localhost:8080/",
          "height": 102
        },
        "id": "yP8PNLjI9-6G",
        "outputId": "0ca04e48-ccd5-4d92-e325-14ba9a4472fb"
      },
      "source": [
        "system.time( m2_Likes_senti_main <- mixed_model(fixed = Likes ~ sentistr + republican , random = ~ 1|Page.Name.fac, zi_fixed =  ~ 1,  family = zi.negative.binomial(), data=final_pages_all_nona_st , max_coef_value = 100 ))\n"
      ],
      "execution_count": null,
      "outputs": [
        {
          "output_type": "stream",
          "name": "stderr",
          "text": [
            "Warning message in mixed_model(fixed = Likes ~ sentistr + republican, random = ~1 | :\n",
            "“Hessian matrix at convergence is not positive definite; unstable solution.\n",
            "”\n"
          ]
        },
        {
          "output_type": "display_data",
          "data": {
            "text/plain": [
              "    user   system  elapsed \n",
              "3648.910  154.922 3805.482 "
            ]
          },
          "metadata": {}
        }
      ]
    },
    {
      "cell_type": "code",
      "metadata": {
        "colab": {
          "base_uri": "https://localhost:8080/",
          "height": 782
        },
        "id": "HUa2LIYH-Cwc",
        "outputId": "47060337-21d4-4635-e465-eab646fc64e9"
      },
      "source": [
        "summary(m2_Likes_senti_main)\n"
      ],
      "execution_count": null,
      "outputs": [
        {
          "output_type": "stream",
          "name": "stderr",
          "text": [
            "Warning message in sqrt(diag(var_betas)):\n",
            "“NaNs produced”\n"
          ]
        },
        {
          "output_type": "display_data",
          "data": {
            "text/plain": [
              "\n",
              "Call:\n",
              "mixed_model(fixed = Likes ~ sentistr + republican, random = ~1 | \n",
              "    Page.Name.fac, data = final_pages_all_nona_st, family = zi.negative.binomial(), \n",
              "    zi_fixed = ~1, max_coef_value = 100)\n",
              "\n",
              "Data Descriptives:\n",
              "Number of Observations: 13955869\n",
              "Number of Groups: 1493 \n",
              "\n",
              "Model:\n",
              " family: zero-inflated negative binomial\n",
              " link: log \n",
              "\n",
              "Fit statistics:\n",
              "   log.Lik       AIC       BIC\n",
              " -61868408 123736829 123736860\n",
              "\n",
              "Random effects covariance matrix:\n",
              "              StdDev\n",
              "(Intercept) 2.058101\n",
              "\n",
              "Fixed effects:\n",
              "            Estimate Std.Err  z-value p-value\n",
              "(Intercept)   6.0160     NaN      NaN      NA\n",
              "sentistr      0.0708  0.0003 214.9143 <0.0001\n",
              "republican    0.1583  0.1085   1.4592  0.1445\n",
              "\n",
              "Zero-part coefficients:\n",
              "            Estimate Std.Err z-value  p-value\n",
              "(Intercept) -17.1285   2.364 -7.2456 < 0.0001\n",
              "\n",
              "log(dispersion) parameter:\n",
              "  Estimate Std.Err\n",
              "   -0.7892  0.0004\n",
              "\n",
              "Integration:\n",
              "method: adaptive Gauss-Hermite quadrature rule\n",
              "quadrature points: 11\n",
              "\n",
              "Optimization:\n",
              "method: EM\n",
              "converged: TRUE "
            ]
          },
          "metadata": {}
        }
      ]
    },
    {
      "cell_type": "code",
      "metadata": {
        "id": "k9ZR5Uf_-Csh"
      },
      "source": [
        "saveRDS(m2_Likes_senti_main, \"m2_Likes_senti_main.rds\")\n"
      ],
      "execution_count": null,
      "outputs": []
    },
    {
      "cell_type": "code",
      "metadata": {
        "colab": {
          "base_uri": "https://localhost:8080/",
          "height": 102
        },
        "id": "T6EfutEa-e3r",
        "outputId": "ca66e3aa-ef25-48e1-e4e8-7603608b7715"
      },
      "source": [
        "system.time( m2_Likes_inciv_main <- mixed_model(fixed = Likes ~ insult + republican , random = ~ 1|Page.Name.fac, zi_fixed =  ~ 1,  family = zi.negative.binomial(), data=final_pages_all_nona_st , max_coef_value = 100 ))\n"
      ],
      "execution_count": null,
      "outputs": [
        {
          "output_type": "stream",
          "name": "stderr",
          "text": [
            "Warning message in mixed_model(fixed = Likes ~ insult + republican, random = ~1 | :\n",
            "“Hessian matrix at convergence is not positive definite; unstable solution.\n",
            "”\n"
          ]
        },
        {
          "output_type": "display_data",
          "data": {
            "text/plain": [
              "    user   system  elapsed \n",
              "3590.172  204.099 3795.296 "
            ]
          },
          "metadata": {}
        }
      ]
    },
    {
      "cell_type": "code",
      "metadata": {
        "id": "IUHHSQ3W-e0f"
      },
      "source": [
        "saveRDS(m2_Likes_inciv_main, \"m2_Likes_inciv_main.rds\")\n"
      ],
      "execution_count": null,
      "outputs": []
    },
    {
      "cell_type": "code",
      "metadata": {
        "colab": {
          "base_uri": "https://localhost:8080/",
          "height": 782
        },
        "id": "OEgCr4sD-CoA",
        "outputId": "9bf70cc5-4536-460a-e5db-dd5b688d59af"
      },
      "source": [
        "summary(m2_Likes_inciv_main)"
      ],
      "execution_count": null,
      "outputs": [
        {
          "output_type": "stream",
          "name": "stderr",
          "text": [
            "Warning message in sqrt(diag(var_betas)):\n",
            "“NaNs produced”\n"
          ]
        },
        {
          "output_type": "display_data",
          "data": {
            "text/plain": [
              "\n",
              "Call:\n",
              "mixed_model(fixed = Likes ~ insult + republican, random = ~1 | \n",
              "    Page.Name.fac, data = final_pages_all_nona_st, family = zi.negative.binomial(), \n",
              "    zi_fixed = ~1, max_coef_value = 100)\n",
              "\n",
              "Data Descriptives:\n",
              "Number of Observations: 13955869\n",
              "Number of Groups: 1493 \n",
              "\n",
              "Model:\n",
              " family: zero-inflated negative binomial\n",
              " link: log \n",
              "\n",
              "Fit statistics:\n",
              "   log.Lik       AIC       BIC\n",
              " -55821953 111643917 111643949\n",
              "\n",
              "Random effects covariance matrix:\n",
              "              StdDev\n",
              "(Intercept) 2.077352\n",
              "\n",
              "Fixed effects:\n",
              "            Estimate Std.Err  z-value  p-value\n",
              "(Intercept)   5.9347     NaN      NaN       NA\n",
              "insult        0.2705  0.0022 123.3970 < 0.0001\n",
              "republican    0.1615  0.1102   1.4657  0.14273\n",
              "\n",
              "Zero-part coefficients:\n",
              "            Estimate Std.Err z-value  p-value\n",
              "(Intercept) -17.1426   2.531  -6.773 < 0.0001\n",
              "\n",
              "log(dispersion) parameter:\n",
              "  Estimate Std.Err\n",
              "   -0.7826  0.0004\n",
              "\n",
              "Integration:\n",
              "method: adaptive Gauss-Hermite quadrature rule\n",
              "quadrature points: 11\n",
              "\n",
              "Optimization:\n",
              "method: EM\n",
              "converged: TRUE "
            ]
          },
          "metadata": {}
        }
      ]
    },
    {
      "cell_type": "markdown",
      "metadata": {
        "id": "unmr5MNn-ZyZ"
      },
      "source": [
        "### comments"
      ]
    },
    {
      "cell_type": "code",
      "metadata": {
        "colab": {
          "base_uri": "https://localhost:8080/",
          "height": 102
        },
        "id": "TfWc9d_7-cvo",
        "outputId": "1fb0ee5f-3c05-4778-ea6a-d3333f0ae133"
      },
      "source": [
        "system.time( m2_Comments_senti_main <- mixed_model(fixed = Comments ~ sentistr + republican , random = ~ 1|Page.Name.fac, zi_fixed =  ~ 1,  family = zi.negative.binomial(), data=final_pages_all_nona_st , max_coef_value = 100 ))\n"
      ],
      "execution_count": null,
      "outputs": [
        {
          "output_type": "stream",
          "name": "stderr",
          "text": [
            "Warning message in mixed_model(fixed = Comments ~ sentistr + republican, random = ~1 | :\n",
            "“Hessian matrix at convergence is not positive definite; unstable solution.\n",
            "”\n"
          ]
        },
        {
          "output_type": "display_data",
          "data": {
            "text/plain": [
              "    user   system  elapsed \n",
              "5051.231  283.709 5336.166 "
            ]
          },
          "metadata": {}
        }
      ]
    },
    {
      "cell_type": "code",
      "metadata": {
        "colab": {
          "base_uri": "https://localhost:8080/",
          "height": 782
        },
        "id": "AqdYwBe5-ceZ",
        "outputId": "13fff5ba-5c6c-475d-fc82-22856d4a18ea"
      },
      "source": [
        "summary(m2_Comments_senti_main)\n"
      ],
      "execution_count": null,
      "outputs": [
        {
          "output_type": "stream",
          "name": "stderr",
          "text": [
            "Warning message in sqrt(diag(var_betas)):\n",
            "“NaNs produced”\n"
          ]
        },
        {
          "output_type": "display_data",
          "data": {
            "text/plain": [
              "\n",
              "Call:\n",
              "mixed_model(fixed = Comments ~ sentistr + republican, random = ~1 | \n",
              "    Page.Name.fac, data = final_pages_all_nona_st, family = zi.negative.binomial(), \n",
              "    zi_fixed = ~1, max_coef_value = 100)\n",
              "\n",
              "Data Descriptives:\n",
              "Number of Observations: 13955869\n",
              "Number of Groups: 1493 \n",
              "\n",
              "Model:\n",
              " family: zero-inflated negative binomial\n",
              " link: log \n",
              "\n",
              "Fit statistics:\n",
              "   log.Lik      AIC      BIC\n",
              " -44551973 89103957 89103989\n",
              "\n",
              "Random effects covariance matrix:\n",
              "              StdDev\n",
              "(Intercept) 2.027849\n",
              "\n",
              "Fixed effects:\n",
              "            Estimate Std.Err   z-value  p-value\n",
              "(Intercept)   4.3945     NaN       NaN       NA\n",
              "sentistr     -0.0659  0.0004 -175.3627 < 0.0001\n",
              "republican   -0.0531  0.1065   -0.4984  0.61818\n",
              "\n",
              "Zero-part coefficients:\n",
              "            Estimate Std.Err z-value  p-value\n",
              "(Intercept) -16.5637  2.8177 -5.8784 < 0.0001\n",
              "\n",
              "log(dispersion) parameter:\n",
              "  Estimate Std.Err\n",
              "   -1.0125  0.0004\n",
              "\n",
              "Integration:\n",
              "method: adaptive Gauss-Hermite quadrature rule\n",
              "quadrature points: 11\n",
              "\n",
              "Optimization:\n",
              "method: EM\n",
              "converged: TRUE "
            ]
          },
          "metadata": {}
        }
      ]
    },
    {
      "cell_type": "code",
      "metadata": {
        "id": "EMWNJmDm-ca3"
      },
      "source": [
        "saveRDS(m2_Comments_senti_main, \"m2_Comments_senti_main.rds\")\n"
      ],
      "execution_count": null,
      "outputs": []
    },
    {
      "cell_type": "code",
      "metadata": {
        "colab": {
          "base_uri": "https://localhost:8080/",
          "height": 102
        },
        "id": "pQzEBbXs-eSN",
        "outputId": "c5b58a35-262b-4518-ce61-aef8e98a45b2"
      },
      "source": [
        "system.time( m2_Comments_inciv_main <- mixed_model(fixed = Comments ~ insult + republican , random = ~ 1|Page.Name.fac, zi_fixed =  ~ 1,  family = zi.negative.binomial(), data=final_pages_all_nona_st , max_coef_value = 100 ))\n"
      ],
      "execution_count": null,
      "outputs": [
        {
          "output_type": "stream",
          "name": "stderr",
          "text": [
            "Warning message in mixed_model(fixed = Comments ~ insult + republican, random = ~1 | :\n",
            "“Hessian matrix at convergence is not positive definite; unstable solution.\n",
            "”\n"
          ]
        },
        {
          "output_type": "display_data",
          "data": {
            "text/plain": [
              "    user   system  elapsed \n",
              "5109.505  406.837 5518.183 "
            ]
          },
          "metadata": {}
        }
      ]
    },
    {
      "cell_type": "code",
      "metadata": {
        "id": "HwTaLDns-eO-"
      },
      "source": [
        "saveRDS(m2_Comments_inciv_main, \"m2_Comments_inciv_main.rds\")\n"
      ],
      "execution_count": null,
      "outputs": []
    },
    {
      "cell_type": "code",
      "metadata": {
        "colab": {
          "base_uri": "https://localhost:8080/",
          "height": 782
        },
        "id": "zCKs-Fsr-cXT",
        "outputId": "1c99ba38-e2a6-491a-af0b-b1854feec1dc"
      },
      "source": [
        "summary(m2_Comments_inciv_main)"
      ],
      "execution_count": null,
      "outputs": [
        {
          "output_type": "stream",
          "name": "stderr",
          "text": [
            "Warning message in sqrt(diag(var_betas)):\n",
            "“NaNs produced”\n"
          ]
        },
        {
          "output_type": "display_data",
          "data": {
            "text/plain": [
              "\n",
              "Call:\n",
              "mixed_model(fixed = Comments ~ insult + republican, random = ~1 | \n",
              "    Page.Name.fac, data = final_pages_all_nona_st, family = zi.negative.binomial(), \n",
              "    zi_fixed = ~1, max_coef_value = 100)\n",
              "\n",
              "Data Descriptives:\n",
              "Number of Observations: 13955869\n",
              "Number of Groups: 1493 \n",
              "\n",
              "Model:\n",
              " family: zero-inflated negative binomial\n",
              " link: log \n",
              "\n",
              "Fit statistics:\n",
              "   log.Lik      AIC      BIC\n",
              " -44140861 88281735 88281767\n",
              "\n",
              "Random effects covariance matrix:\n",
              "              StdDev\n",
              "(Intercept) 2.012112\n",
              "\n",
              "Fixed effects:\n",
              "            Estimate Std.Err  z-value  p-value\n",
              "(Intercept)   4.1940     NaN      NaN       NA\n",
              "insult        0.8792  0.0024 365.4844 < 0.0001\n",
              "republican   -0.0566  0.1057  -0.5358  0.59212\n",
              "\n",
              "Zero-part coefficients:\n",
              "            Estimate Std.Err z-value  p-value\n",
              "(Intercept) -16.6135  2.8896 -5.7493 < 0.0001\n",
              "\n",
              "log(dispersion) parameter:\n",
              "  Estimate Std.Err\n",
              "   -1.0049  0.0004\n",
              "\n",
              "Integration:\n",
              "method: adaptive Gauss-Hermite quadrature rule\n",
              "quadrature points: 11\n",
              "\n",
              "Optimization:\n",
              "method: EM\n",
              "converged: TRUE "
            ]
          },
          "metadata": {}
        }
      ]
    },
    {
      "cell_type": "markdown",
      "metadata": {
        "id": "j8LiQPYa-ZlZ"
      },
      "source": [
        "### wow"
      ]
    },
    {
      "cell_type": "code",
      "metadata": {
        "colab": {
          "base_uri": "https://localhost:8080/",
          "height": 102
        },
        "id": "C6hxhwCS-dvs",
        "outputId": "0d330b24-8f84-4e54-89a1-cca313ee8376"
      },
      "source": [
        "system.time( m2_Wow_senti_main <- mixed_model(fixed = Wow ~ sentistr + republican , random = ~ 1|Page.Name.fac, zi_fixed =  ~ 1,  family = zi.negative.binomial(), data=final_pages_react_nona_st , max_coef_value = 100 ))\n"
      ],
      "execution_count": null,
      "outputs": [
        {
          "output_type": "stream",
          "name": "stderr",
          "text": [
            "Warning message in mixed_model(fixed = Wow ~ sentistr + republican, random = ~1 | :\n",
            "“Hessian matrix at convergence is not positive definite; unstable solution.\n",
            "”\n"
          ]
        },
        {
          "output_type": "display_data",
          "data": {
            "text/plain": [
              "    user   system  elapsed \n",
              "5618.990  358.187 5995.389 "
            ]
          },
          "metadata": {}
        }
      ]
    },
    {
      "cell_type": "code",
      "metadata": {
        "colab": {
          "base_uri": "https://localhost:8080/",
          "height": 782
        },
        "id": "sIU43uIF-dsb",
        "outputId": "f8cdbca1-5922-4515-e1be-729453a39aa2"
      },
      "source": [
        "summary(m2_Wow_senti_main)\n"
      ],
      "execution_count": null,
      "outputs": [
        {
          "output_type": "stream",
          "name": "stderr",
          "text": [
            "Warning message in sqrt(diag(var_betas)):\n",
            "“NaNs produced”\n"
          ]
        },
        {
          "output_type": "display_data",
          "data": {
            "text/plain": [
              "\n",
              "Call:\n",
              "mixed_model(fixed = Wow ~ sentistr + republican, random = ~1 | \n",
              "    Page.Name.fac, data = final_pages_react_nona_st, family = zi.negative.binomial(), \n",
              "    zi_fixed = ~1, max_coef_value = 100)\n",
              "\n",
              "Data Descriptives:\n",
              "Number of Observations: 10991537\n",
              "Number of Groups: 1491 \n",
              "\n",
              "Model:\n",
              " family: zero-inflated negative binomial\n",
              " link: log \n",
              "\n",
              "Fit statistics:\n",
              "   log.Lik      AIC      BIC\n",
              " -23472471 46944955 46944986\n",
              "\n",
              "Random effects covariance matrix:\n",
              "              StdDev\n",
              "(Intercept) 1.834375\n",
              "\n",
              "Fixed effects:\n",
              "            Estimate Std.Err   z-value  p-value\n",
              "(Intercept)   2.5764     NaN       NaN       NA\n",
              "sentistr     -0.1225  0.0005 -267.6606 < 0.0001\n",
              "republican   -0.7133  0.0663  -10.7569 < 0.0001\n",
              "\n",
              "Zero-part coefficients:\n",
              "            Estimate Std.Err z-value    p-value\n",
              "(Intercept) -16.8813  4.8197 -3.5025 0.00046086\n",
              "\n",
              "log(dispersion) parameter:\n",
              "  Estimate Std.Err\n",
              "   -1.1403  0.0006\n",
              "\n",
              "Integration:\n",
              "method: adaptive Gauss-Hermite quadrature rule\n",
              "quadrature points: 11\n",
              "\n",
              "Optimization:\n",
              "method: EM\n",
              "converged: TRUE "
            ]
          },
          "metadata": {}
        }
      ]
    },
    {
      "cell_type": "code",
      "metadata": {
        "id": "vAOrJZFu-dpO"
      },
      "source": [
        "saveRDS(m2_Wow_senti_main, \"m2_Wow_senti_main.rds\")\n"
      ],
      "execution_count": null,
      "outputs": []
    },
    {
      "cell_type": "code",
      "metadata": {
        "id": "9Zia0SgH-dmB",
        "colab": {
          "base_uri": "https://localhost:8080/",
          "height": 102
        },
        "outputId": "8e56db70-ee86-4256-cdd8-148cebd18fe2"
      },
      "source": [
        "system.time( m2_Wow_inciv_main <- mixed_model(fixed = Wow ~ insult + republican , random = ~ 1|Page.Name.fac, zi_fixed =  ~ 1,  family = zi.negative.binomial(), data=final_pages_react_nona_st , max_coef_value = 100 ))\n"
      ],
      "execution_count": null,
      "outputs": [
        {
          "output_type": "stream",
          "name": "stderr",
          "text": [
            "Warning message in mixed_model(fixed = Wow ~ insult + republican, random = ~1 | :\n",
            "“Hessian matrix at convergence is not positive definite; unstable solution.\n",
            "”\n"
          ]
        },
        {
          "output_type": "display_data",
          "data": {
            "text/plain": [
              "    user   system  elapsed \n",
              "5489.198  349.514 5842.460 "
            ]
          },
          "metadata": {}
        }
      ]
    },
    {
      "cell_type": "code",
      "metadata": {
        "id": "j11Jeryc-di9"
      },
      "source": [
        "saveRDS(m2_Wow_inciv_main, \"m2_Wow_inciv_main.rds\")\n"
      ],
      "execution_count": null,
      "outputs": []
    },
    {
      "cell_type": "code",
      "metadata": {
        "id": "VWfosYBP-dfZ",
        "colab": {
          "base_uri": "https://localhost:8080/",
          "height": 782
        },
        "outputId": "10841b29-0718-4291-affd-f8ea8d819283"
      },
      "source": [
        "summary(m2_Wow_inciv_main)"
      ],
      "execution_count": null,
      "outputs": [
        {
          "output_type": "stream",
          "name": "stderr",
          "text": [
            "Warning message in sqrt(diag(var_betas)):\n",
            "“NaNs produced”\n"
          ]
        },
        {
          "output_type": "display_data",
          "data": {
            "text/plain": [
              "\n",
              "Call:\n",
              "mixed_model(fixed = Wow ~ insult + republican, random = ~1 | \n",
              "    Page.Name.fac, data = final_pages_react_nona_st, family = zi.negative.binomial(), \n",
              "    zi_fixed = ~1, max_coef_value = 100)\n",
              "\n",
              "Data Descriptives:\n",
              "Number of Observations: 10991537\n",
              "Number of Groups: 1491 \n",
              "\n",
              "Model:\n",
              " family: zero-inflated negative binomial\n",
              " link: log \n",
              "\n",
              "Fit statistics:\n",
              "   log.Lik      AIC      BIC\n",
              " -24065603 48131219 48131250\n",
              "\n",
              "Random effects covariance matrix:\n",
              "              StdDev\n",
              "(Intercept) 1.821051\n",
              "\n",
              "Fixed effects:\n",
              "            Estimate Std.Err  z-value  p-value\n",
              "(Intercept)   2.5005     NaN      NaN       NA\n",
              "insult        0.5266  0.0028 185.3818 < 0.0001\n",
              "republican   -0.7170  0.0594 -12.0795 < 0.0001\n",
              "\n",
              "Zero-part coefficients:\n",
              "            Estimate Std.Err z-value    p-value\n",
              "(Intercept) -16.9049  4.7937 -3.5264 0.00042118\n",
              "\n",
              "log(dispersion) parameter:\n",
              "  Estimate Std.Err\n",
              "   -1.1391  0.0006\n",
              "\n",
              "Integration:\n",
              "method: adaptive Gauss-Hermite quadrature rule\n",
              "quadrature points: 11\n",
              "\n",
              "Optimization:\n",
              "method: EM\n",
              "converged: TRUE "
            ]
          },
          "metadata": {}
        }
      ]
    },
    {
      "cell_type": "markdown",
      "metadata": {
        "id": "HL_FksJRjDi1"
      },
      "source": [
        "# STD/CENTER"
      ]
    },
    {
      "cell_type": "markdown",
      "metadata": {
        "id": "Nb639MfyjL_a"
      },
      "source": [
        "## likes"
      ]
    },
    {
      "cell_type": "code",
      "metadata": {
        "colab": {
          "base_uri": "https://localhost:8080/"
        },
        "id": "iEDZ9pu7jHM0",
        "outputId": "2243503d-c40a-4a5a-d12c-1f96a7a742c9"
      },
      "source": [
        "# re-download\n",
        "system.time( m2_Likes_senti_main_std <- mixed_model(fixed = Likes ~ sentistr_std + republican , random = ~ 1|Page.Name.fac, zi_fixed =  ~ 1,  family = zi.negative.binomial(), data=final_pages_all_nona_st , max_coef_value = 100 ))\n"
      ],
      "execution_count": null,
      "outputs": [
        {
          "output_type": "stream",
          "name": "stderr",
          "text": [
            "Timing stopped at: 1488 219.5 1710\n",
            "\n"
          ]
        }
      ]
    },
    {
      "cell_type": "code",
      "metadata": {
        "id": "aOdu9xbujLXu"
      },
      "source": [
        "saveRDS(m2_Likes_senti_main_std, \"m2_Likes_senti_main_std.rds\")\n"
      ],
      "execution_count": null,
      "outputs": []
    },
    {
      "cell_type": "code",
      "metadata": {
        "colab": {
          "base_uri": "https://localhost:8080/",
          "height": 782
        },
        "id": "kbY-jXM_jLdd",
        "outputId": "522f41c5-5819-4293-d0ba-765e946d07b8"
      },
      "source": [
        "summary(m2_Likes_senti_main_std)\n"
      ],
      "execution_count": null,
      "outputs": [
        {
          "output_type": "stream",
          "name": "stderr",
          "text": [
            "Warning message in sqrt(diag(var_betas)):\n",
            "“NaNs produced”\n"
          ]
        },
        {
          "output_type": "display_data",
          "data": {
            "text/plain": [
              "\n",
              "Call:\n",
              "mixed_model(fixed = Likes ~ sentistr_std + republican, random = ~1 | \n",
              "    Page.Name.fac, data = final_pages_all_nona_st, family = zi.negative.binomial(), \n",
              "    zi_fixed = ~1, max_coef_value = 100)\n",
              "\n",
              "Data Descriptives:\n",
              "Number of Observations: 13955869\n",
              "Number of Groups: 1493 \n",
              "\n",
              "Model:\n",
              " family: zero-inflated negative binomial\n",
              " link: log \n",
              "\n",
              "Fit statistics:\n",
              "   log.Lik       AIC       BIC\n",
              " -61868408 123736829 123736860\n",
              "\n",
              "Random effects covariance matrix:\n",
              "              StdDev\n",
              "(Intercept) 2.058101\n",
              "\n",
              "Fixed effects:\n",
              "             Estimate Std.Err  z-value  p-value\n",
              "(Intercept)    5.9842     NaN      NaN       NA\n",
              "sentistr_std   0.0956  0.0004 214.9144 < 0.0001\n",
              "republican     0.1583  0.1085   1.4593  0.14449\n",
              "\n",
              "Zero-part coefficients:\n",
              "            Estimate Std.Err z-value  p-value\n",
              "(Intercept) -17.1285   2.364 -7.2457 < 0.0001\n",
              "\n",
              "log(dispersion) parameter:\n",
              "  Estimate Std.Err\n",
              "   -0.7892  0.0004\n",
              "\n",
              "Integration:\n",
              "method: adaptive Gauss-Hermite quadrature rule\n",
              "quadrature points: 11\n",
              "\n",
              "Optimization:\n",
              "method: EM\n",
              "converged: TRUE "
            ]
          },
          "metadata": {}
        }
      ]
    },
    {
      "cell_type": "code",
      "metadata": {
        "colab": {
          "base_uri": "https://localhost:8080/",
          "height": 102
        },
        "id": "PTzOOp_1jLSU",
        "outputId": "a54f311a-8f42-48e9-ebeb-2aec5d70daf9"
      },
      "source": [
        "system.time( m2_Likes_inciv_main_std <- mixed_model(fixed = Likes ~ insult_std + republican , random = ~ 1|Page.Name.fac, zi_fixed =  ~ 1,  family = zi.negative.binomial(), data=final_pages_all_nona_st , max_coef_value = 100 ))\n"
      ],
      "execution_count": null,
      "outputs": [
        {
          "output_type": "stream",
          "name": "stderr",
          "text": [
            "Warning message in mixed_model(fixed = Likes ~ insult_std + republican, random = ~1 | :\n",
            "“Hessian matrix at convergence is not positive definite; unstable solution.\n",
            "”\n"
          ]
        },
        {
          "output_type": "display_data",
          "data": {
            "text/plain": [
              "    user   system  elapsed \n",
              "3690.454  416.695 4108.969 "
            ]
          },
          "metadata": {}
        }
      ]
    },
    {
      "cell_type": "code",
      "metadata": {
        "id": "kinUr7sWjPhX"
      },
      "source": [
        "saveRDS(m2_Likes_inciv_main_std, \"m2_Likes_inciv_main_std.rds\")\n"
      ],
      "execution_count": null,
      "outputs": []
    },
    {
      "cell_type": "code",
      "metadata": {
        "colab": {
          "base_uri": "https://localhost:8080/",
          "height": 782
        },
        "id": "D7EF4npzjPc7",
        "outputId": "2dabb0bc-2ca6-4426-db38-d76e1c000be9"
      },
      "source": [
        "summary(m2_Likes_inciv_main_std)"
      ],
      "execution_count": null,
      "outputs": [
        {
          "output_type": "stream",
          "name": "stderr",
          "text": [
            "Warning message in sqrt(diag(var_betas)):\n",
            "“NaNs produced”\n"
          ]
        },
        {
          "output_type": "display_data",
          "data": {
            "text/plain": [
              "\n",
              "Call:\n",
              "mixed_model(fixed = Likes ~ insult_std + republican, random = ~1 | \n",
              "    Page.Name.fac, data = final_pages_all_nona_st, family = zi.negative.binomial(), \n",
              "    zi_fixed = ~1, max_coef_value = 100)\n",
              "\n",
              "Data Descriptives:\n",
              "Number of Observations: 13955869\n",
              "Number of Groups: 1493 \n",
              "\n",
              "Model:\n",
              " family: zero-inflated negative binomial\n",
              " link: log \n",
              "\n",
              "Fit statistics:\n",
              "   log.Lik       AIC       BIC\n",
              " -55821953 111643917 111643949\n",
              "\n",
              "Random effects covariance matrix:\n",
              "              StdDev\n",
              "(Intercept) 2.077352\n",
              "\n",
              "Fixed effects:\n",
              "            Estimate Std.Err  z-value  p-value\n",
              "(Intercept)   5.9983     NaN      NaN       NA\n",
              "insult_std    0.0591  0.0005 123.3970 < 0.0001\n",
              "republican    0.1615  0.1102   1.4657  0.14273\n",
              "\n",
              "Zero-part coefficients:\n",
              "            Estimate Std.Err z-value  p-value\n",
              "(Intercept) -17.1426   2.531  -6.773 < 0.0001\n",
              "\n",
              "log(dispersion) parameter:\n",
              "  Estimate Std.Err\n",
              "   -0.7826  0.0004\n",
              "\n",
              "Integration:\n",
              "method: adaptive Gauss-Hermite quadrature rule\n",
              "quadrature points: 11\n",
              "\n",
              "Optimization:\n",
              "method: EM\n",
              "converged: TRUE "
            ]
          },
          "metadata": {}
        }
      ]
    },
    {
      "cell_type": "code",
      "metadata": {
        "colab": {
          "base_uri": "https://localhost:8080/",
          "height": 102
        },
        "id": "HaoshVtjkscs",
        "outputId": "ffc9c793-cf22-4643-a227-dab28a182abb"
      },
      "source": [
        "system.time( m2_Likes_inciv_main_std_comp <- mixed_model(fixed = Likes ~ sentistr_std + insult_std + republican , random = ~ 1|Page.Name.fac, zi_fixed =  ~ 1,  family = zi.negative.binomial(), data=final_pages_all_nona_st , max_coef_value = 100 ))\n"
      ],
      "execution_count": null,
      "outputs": [
        {
          "output_type": "stream",
          "name": "stderr",
          "text": [
            "Warning message in mixed_model(fixed = Likes ~ sentistr_std + insult_std + republican, :\n",
            "“Hessian matrix at convergence is not positive definite; unstable solution.\n",
            "”\n"
          ]
        },
        {
          "output_type": "display_data",
          "data": {
            "text/plain": [
              "    user   system  elapsed \n",
              "4249.901  468.999 4720.716 "
            ]
          },
          "metadata": {}
        }
      ]
    },
    {
      "cell_type": "code",
      "metadata": {
        "id": "dldVdTHsksWP"
      },
      "source": [
        "saveRDS(m2_Likes_inciv_main_std_comp, \"m2_Likes_inciv_main_std_comp.rds\")\n"
      ],
      "execution_count": null,
      "outputs": []
    },
    {
      "cell_type": "code",
      "metadata": {
        "colab": {
          "base_uri": "https://localhost:8080/",
          "height": 799
        },
        "id": "cGWcpY0mksMx",
        "outputId": "6cf73cee-5d1d-4291-a9b6-d6f68439835e"
      },
      "source": [
        "summary(m2_Likes_inciv_main_std_comp)"
      ],
      "execution_count": null,
      "outputs": [
        {
          "output_type": "stream",
          "name": "stderr",
          "text": [
            "Warning message in sqrt(diag(var_betas)):\n",
            "“NaNs produced”\n"
          ]
        },
        {
          "output_type": "display_data",
          "data": {
            "text/plain": [
              "\n",
              "Call:\n",
              "mixed_model(fixed = Likes ~ sentistr_std + insult_std + republican, \n",
              "    random = ~1 | Page.Name.fac, data = final_pages_all_nona_st, \n",
              "    family = zi.negative.binomial(), zi_fixed = ~1, max_coef_value = 100)\n",
              "\n",
              "Data Descriptives:\n",
              "Number of Observations: 13955869\n",
              "Number of Groups: 1493 \n",
              "\n",
              "Model:\n",
              " family: zero-inflated negative binomial\n",
              " link: log \n",
              "\n",
              "Fit statistics:\n",
              "   log.Lik       AIC       BIC\n",
              " -60601797 121203608 121203645\n",
              "\n",
              "Random effects covariance matrix:\n",
              "              StdDev\n",
              "(Intercept) 2.047024\n",
              "\n",
              "Fixed effects:\n",
              "             Estimate Std.Err  z-value  p-value\n",
              "(Intercept)    5.9619     NaN      NaN       NA\n",
              "sentistr_std   0.1196  0.0005 254.4603 < 0.0001\n",
              "insult_std     0.0880  0.0005 181.9024 < 0.0001\n",
              "republican     0.1698  0.1081   1.5707  0.11626\n",
              "\n",
              "Zero-part coefficients:\n",
              "            Estimate Std.Err z-value  p-value\n",
              "(Intercept) -17.1312  2.3902 -7.1672 < 0.0001\n",
              "\n",
              "log(dispersion) parameter:\n",
              "  Estimate Std.Err\n",
              "   -0.7723  0.0004\n",
              "\n",
              "Integration:\n",
              "method: adaptive Gauss-Hermite quadrature rule\n",
              "quadrature points: 11\n",
              "\n",
              "Optimization:\n",
              "method: EM\n",
              "converged: TRUE "
            ]
          },
          "metadata": {}
        }
      ]
    },
    {
      "cell_type": "code",
      "metadata": {
        "id": "z4FmlkjhT6W5",
        "colab": {
          "base_uri": "https://localhost:8080/",
          "height": 102
        },
        "outputId": "1dd2c35f-c378-4efa-9812-2ef00bb02129"
      },
      "source": [
        "# re-download\n",
        "system.time( m2_Likes_senti_int <- mixed_model(fixed = Likes ~ sentistr_std*republican + insult_std*republican , random = ~ 1|Page.Name.fac, zi_fixed =  ~ 1,  family = zi.negative.binomial(), data=final_pages_all_nona_st , max_coef_value = 100 ))\n"
      ],
      "execution_count": null,
      "outputs": [
        {
          "metadata": {
            "tags": null
          },
          "name": "stderr",
          "output_type": "stream",
          "text": [
            "Warning message in mixed_model(fixed = Likes ~ sentistr_std * republican + insult_std * :\n",
            "“Hessian matrix at convergence is not positive definite; unstable solution.\n",
            "”\n"
          ]
        },
        {
          "data": {
            "text/plain": [
              "    user   system  elapsed \n",
              "5316.262  257.039 5586.629 "
            ]
          },
          "metadata": {},
          "output_type": "display_data"
        }
      ]
    },
    {
      "cell_type": "code",
      "metadata": {
        "id": "W22pyVwKT6RN",
        "colab": {
          "base_uri": "https://localhost:8080/",
          "height": 833
        },
        "outputId": "17cc7d45-86c3-4d4e-a5cf-d19f7dbde474"
      },
      "source": [
        "summary(m2_Likes_senti_int)"
      ],
      "execution_count": null,
      "outputs": [
        {
          "metadata": {
            "tags": null
          },
          "name": "stderr",
          "output_type": "stream",
          "text": [
            "Warning message in sqrt(diag(var_betas)):\n",
            "“NaNs produced”\n"
          ]
        },
        {
          "data": {
            "text/plain": [
              "\n",
              "Call:\n",
              "mixed_model(fixed = Likes ~ sentistr_std * republican + insult_std * \n",
              "    republican, random = ~1 | Page.Name.fac, data = final_pages_all_nona_st, \n",
              "    family = zi.negative.binomial(), zi_fixed = ~1, max_coef_value = 100)\n",
              "\n",
              "Data Descriptives:\n",
              "Number of Observations: 13955869\n",
              "Number of Groups: 1493 \n",
              "\n",
              "Model:\n",
              " family: zero-inflated negative binomial\n",
              " link: log \n",
              "\n",
              "Fit statistics:\n",
              "   log.Lik       AIC       BIC\n",
              " -61750364 123500745 123500793\n",
              "\n",
              "Random effects covariance matrix:\n",
              "              StdDev\n",
              "(Intercept) 2.045282\n",
              "\n",
              "Fixed effects:\n",
              "                        Estimate Std.Err  z-value  p-value\n",
              "(Intercept)               5.9712     NaN      NaN       NA\n",
              "sentistr_std              0.1276  0.0006 203.6990 < 0.0001\n",
              "republican                0.1474  0.1081   1.3635  0.17273\n",
              "insult_std                0.0676  0.0007  99.4458 < 0.0001\n",
              "sentistr_std:republican  -0.0157  0.0009 -16.8471 < 0.0001\n",
              "republican:insult_std     0.0382  0.0010  40.0292 < 0.0001\n",
              "\n",
              "Zero-part coefficients:\n",
              "            Estimate Std.Err z-value  p-value\n",
              "(Intercept) -17.1344  2.3825 -7.1917 < 0.0001\n",
              "\n",
              "log(dispersion) parameter:\n",
              "  Estimate Std.Err\n",
              "   -0.7734  0.0004\n",
              "\n",
              "Integration:\n",
              "method: adaptive Gauss-Hermite quadrature rule\n",
              "quadrature points: 11\n",
              "\n",
              "Optimization:\n",
              "method: EM\n",
              "converged: TRUE "
            ]
          },
          "metadata": {},
          "output_type": "display_data"
        }
      ]
    },
    {
      "cell_type": "markdown",
      "metadata": {
        "id": "-WmzzuvPjQaB"
      },
      "source": [
        "## comments"
      ]
    },
    {
      "cell_type": "code",
      "metadata": {
        "id": "mv6DNv97UHTp",
        "colab": {
          "base_uri": "https://localhost:8080/",
          "height": 102
        },
        "outputId": "d4f451be-db3c-45cd-8362-102fa6c80f95"
      },
      "source": [
        "system.time( m2_Comments_senti_int <- mixed_model(fixed = Comments ~ sentistr_std*republican + insult_std*republican , random = ~ 1|Page.Name.fac, zi_fixed =  ~ 1,  family = zi.negative.binomial(), data=final_pages_all_nona_st , max_coef_value = 100 ))\n"
      ],
      "execution_count": null,
      "outputs": [
        {
          "output_type": "stream",
          "name": "stderr",
          "text": [
            "Warning message in mixed_model(fixed = Comments ~ sentistr_std * republican + insult_std * :\n",
            "“Hessian matrix at convergence is not positive definite; unstable solution.\n",
            "”\n"
          ]
        },
        {
          "output_type": "display_data",
          "data": {
            "text/plain": [
              "    user   system  elapsed \n",
              "7022.327  429.180 7471.736 "
            ]
          },
          "metadata": {}
        }
      ]
    },
    {
      "cell_type": "code",
      "metadata": {
        "id": "7IPZbVM3UHPa",
        "colab": {
          "base_uri": "https://localhost:8080/",
          "height": 833
        },
        "outputId": "1d2ef597-224e-4a10-df17-ce33e35c8789"
      },
      "source": [
        "summary(m2_Comments_senti_int)"
      ],
      "execution_count": null,
      "outputs": [
        {
          "output_type": "stream",
          "name": "stderr",
          "text": [
            "Warning message in sqrt(diag(var_betas)):\n",
            "“NaNs produced”\n"
          ]
        },
        {
          "output_type": "display_data",
          "data": {
            "text/plain": [
              "\n",
              "Call:\n",
              "mixed_model(fixed = Comments ~ sentistr_std * republican + insult_std * \n",
              "    republican, random = ~1 | Page.Name.fac, data = final_pages_all_nona_st, \n",
              "    family = zi.negative.binomial(), zi_fixed = ~1, max_coef_value = 100)\n",
              "\n",
              "Data Descriptives:\n",
              "Number of Observations: 13955869\n",
              "Number of Groups: 1493 \n",
              "\n",
              "Model:\n",
              " family: zero-inflated negative binomial\n",
              " link: log \n",
              "\n",
              "Fit statistics:\n",
              "   log.Lik      AIC      BIC\n",
              " -43446716 86893450 86893498\n",
              "\n",
              "Random effects covariance matrix:\n",
              "              StdDev\n",
              "(Intercept) 2.009747\n",
              "\n",
              "Fixed effects:\n",
              "                        Estimate Std.Err  z-value  p-value\n",
              "(Intercept)               4.4099     NaN      NaN       NA\n",
              "sentistr_std             -0.0477  0.0007 -64.8486 < 0.0001\n",
              "republican               -0.0904  0.1057  -0.8554  0.39235\n",
              "insult_std                0.1822  0.0008 231.5971 < 0.0001\n",
              "sentistr_std:republican   0.0180  0.0011  16.8404 < 0.0001\n",
              "republican:insult_std     0.0047  0.0011   4.2333 < 0.0001\n",
              "\n",
              "Zero-part coefficients:\n",
              "            Estimate Std.Err z-value  p-value\n",
              "(Intercept)  -16.609  2.9108 -5.7059 < 0.0001\n",
              "\n",
              "log(dispersion) parameter:\n",
              "  Estimate Std.Err\n",
              "   -1.0109  0.0004\n",
              "\n",
              "Integration:\n",
              "method: adaptive Gauss-Hermite quadrature rule\n",
              "quadrature points: 11\n",
              "\n",
              "Optimization:\n",
              "method: EM\n",
              "converged: TRUE "
            ]
          },
          "metadata": {}
        }
      ]
    },
    {
      "cell_type": "code",
      "metadata": {
        "colab": {
          "base_uri": "https://localhost:8080/",
          "height": 122
        },
        "id": "-EJGMDVijRdJ",
        "outputId": "ff7355c3-974e-4721-99ef-82b2d17d8073"
      },
      "source": [
        "system.time( m2_Comments_senti_main_std <- mixed_model(fixed = Comments ~ sentistr_std + republican , random = ~ 1|Page.Name.fac, zi_fixed =  ~ 1,  family = zi.negative.binomial(), data=final_pages_all_nona_st , max_coef_value = 100 ))\n"
      ],
      "execution_count": null,
      "outputs": [
        {
          "output_type": "stream",
          "name": "stderr",
          "text": [
            "Warning message in mixed_model(fixed = Comments ~ sentistr_std + republican, random = ~1 | :\n",
            "“Hessian matrix at convergence is not positive definite; unstable solution.\n",
            "”\n"
          ]
        },
        {
          "output_type": "display_data",
          "data": {
            "text/plain": [
              "    user   system  elapsed \n",
              "5027.641  482.871 5513.771 "
            ]
          },
          "metadata": {}
        }
      ]
    },
    {
      "cell_type": "code",
      "metadata": {
        "colab": {
          "base_uri": "https://localhost:8080/",
          "height": 782
        },
        "id": "JE7DPw2EjR5s",
        "outputId": "f4a958f7-6f3f-4c8b-c299-d20dea04493d"
      },
      "source": [
        "summary(m2_Comments_senti_main_std)\n"
      ],
      "execution_count": null,
      "outputs": [
        {
          "output_type": "stream",
          "name": "stderr",
          "text": [
            "Warning message in sqrt(diag(var_betas)):\n",
            "“NaNs produced”\n"
          ]
        },
        {
          "output_type": "display_data",
          "data": {
            "text/plain": [
              "\n",
              "Call:\n",
              "mixed_model(fixed = Comments ~ sentistr_std + republican, random = ~1 | \n",
              "    Page.Name.fac, data = final_pages_all_nona_st, family = zi.negative.binomial(), \n",
              "    zi_fixed = ~1, max_coef_value = 100)\n",
              "\n",
              "Data Descriptives:\n",
              "Number of Observations: 13955869\n",
              "Number of Groups: 1493 \n",
              "\n",
              "Model:\n",
              " family: zero-inflated negative binomial\n",
              " link: log \n",
              "\n",
              "Fit statistics:\n",
              "   log.Lik      AIC      BIC\n",
              " -44551973 89103957 89103989\n",
              "\n",
              "Random effects covariance matrix:\n",
              "              StdDev\n",
              "(Intercept) 2.027849\n",
              "\n",
              "Fixed effects:\n",
              "             Estimate Std.Err   z-value  p-value\n",
              "(Intercept)    4.4241     NaN       NaN       NA\n",
              "sentistr_std  -0.0889  0.0005 -175.3627 < 0.0001\n",
              "republican    -0.0531  0.1065   -0.4985  0.61815\n",
              "\n",
              "Zero-part coefficients:\n",
              "            Estimate Std.Err z-value  p-value\n",
              "(Intercept) -16.5637  2.8177 -5.8785 < 0.0001\n",
              "\n",
              "log(dispersion) parameter:\n",
              "  Estimate Std.Err\n",
              "   -1.0125  0.0004\n",
              "\n",
              "Integration:\n",
              "method: adaptive Gauss-Hermite quadrature rule\n",
              "quadrature points: 11\n",
              "\n",
              "Optimization:\n",
              "method: EM\n",
              "converged: TRUE "
            ]
          },
          "metadata": {}
        }
      ]
    },
    {
      "cell_type": "code",
      "metadata": {
        "id": "ldF1bGLWjR1N"
      },
      "source": [
        "saveRDS(m2_Comments_senti_main_std, \"m2_Comments_senti_main_std.rds\")\n"
      ],
      "execution_count": null,
      "outputs": []
    },
    {
      "cell_type": "code",
      "metadata": {
        "colab": {
          "base_uri": "https://localhost:8080/",
          "height": 102
        },
        "id": "X30u_ZD0jRtT",
        "outputId": "ab25ea73-9542-453e-e1be-7e42ba4ad9c9"
      },
      "source": [
        "system.time( m2_Comments_inciv_main_std <- mixed_model(fixed = Comments ~ insult_std + republican , random = ~ 1|Page.Name.fac, zi_fixed =  ~ 1,  family = zi.negative.binomial(), data=final_pages_all_nona_st , max_coef_value = 100 ))\n"
      ],
      "execution_count": null,
      "outputs": [
        {
          "output_type": "stream",
          "name": "stderr",
          "text": [
            "Warning message in mixed_model(fixed = Comments ~ insult_std + republican, random = ~1 | :\n",
            "“Hessian matrix at convergence is not positive definite; unstable solution.\n",
            "”\n"
          ]
        },
        {
          "output_type": "display_data",
          "data": {
            "text/plain": [
              "    user   system  elapsed \n",
              "5184.580  502.265 5691.233 "
            ]
          },
          "metadata": {}
        }
      ]
    },
    {
      "cell_type": "code",
      "metadata": {
        "id": "lsqtkDWFjRng"
      },
      "source": [
        "saveRDS(m2_Comments_inciv_main_std, \"m2_Comments_inciv_main_std.rds\")\n"
      ],
      "execution_count": null,
      "outputs": []
    },
    {
      "cell_type": "code",
      "metadata": {
        "colab": {
          "base_uri": "https://localhost:8080/",
          "height": 782
        },
        "id": "z97Y0HF_jSZp",
        "outputId": "b2ef8ea8-3253-4de0-dbac-7d91a97b89c3"
      },
      "source": [
        "summary(m2_Comments_inciv_main_std)\n"
      ],
      "execution_count": null,
      "outputs": [
        {
          "output_type": "stream",
          "name": "stderr",
          "text": [
            "Warning message in sqrt(diag(var_betas)):\n",
            "“NaNs produced”\n"
          ]
        },
        {
          "output_type": "display_data",
          "data": {
            "text/plain": [
              "\n",
              "Call:\n",
              "mixed_model(fixed = Comments ~ insult_std + republican, random = ~1 | \n",
              "    Page.Name.fac, data = final_pages_all_nona_st, family = zi.negative.binomial(), \n",
              "    zi_fixed = ~1, max_coef_value = 100)\n",
              "\n",
              "Data Descriptives:\n",
              "Number of Observations: 13955869\n",
              "Number of Groups: 1493 \n",
              "\n",
              "Model:\n",
              " family: zero-inflated negative binomial\n",
              " link: log \n",
              "\n",
              "Fit statistics:\n",
              "   log.Lik      AIC      BIC\n",
              " -44140861 88281735 88281767\n",
              "\n",
              "Random effects covariance matrix:\n",
              "              StdDev\n",
              "(Intercept) 2.012111\n",
              "\n",
              "Fixed effects:\n",
              "            Estimate Std.Err  z-value  p-value\n",
              "(Intercept)   4.4008     NaN      NaN       NA\n",
              "insult_std    0.1922  0.0005 365.4844 < 0.0001\n",
              "republican   -0.0566  0.1057  -0.5358  0.59212\n",
              "\n",
              "Zero-part coefficients:\n",
              "            Estimate Std.Err z-value  p-value\n",
              "(Intercept) -16.6135  2.8896 -5.7493 < 0.0001\n",
              "\n",
              "log(dispersion) parameter:\n",
              "  Estimate Std.Err\n",
              "   -1.0049  0.0004\n",
              "\n",
              "Integration:\n",
              "method: adaptive Gauss-Hermite quadrature rule\n",
              "quadrature points: 11\n",
              "\n",
              "Optimization:\n",
              "method: EM\n",
              "converged: TRUE "
            ]
          },
          "metadata": {}
        }
      ]
    },
    {
      "cell_type": "code",
      "metadata": {
        "id": "g9lYHx9bkxu6",
        "colab": {
          "base_uri": "https://localhost:8080/",
          "height": 122
        },
        "outputId": "9bfe808b-4523-40af-9a72-d47e1654f775"
      },
      "source": [
        "system.time( m2_Comments_main_std_comp <- mixed_model(fixed = Comments ~ sentistr_std + insult_std + republican , random = ~ 1|Page.Name.fac, zi_fixed =  ~ 1,  family = zi.negative.binomial(), data=final_pages_all_nona_st , max_coef_value = 100 ))\n"
      ],
      "execution_count": null,
      "outputs": [
        {
          "output_type": "stream",
          "name": "stderr",
          "text": [
            "Warning message in mixed_model(fixed = Comments ~ sentistr_std + insult_std + republican, :\n",
            "“Hessian matrix at convergence is not positive definite; unstable solution.\n",
            "”\n"
          ]
        },
        {
          "output_type": "display_data",
          "data": {
            "text/plain": [
              "    user   system  elapsed \n",
              "5628.610  326.059 5956.781 "
            ]
          },
          "metadata": {}
        }
      ]
    },
    {
      "cell_type": "code",
      "metadata": {
        "id": "8JWMw21skxpZ"
      },
      "source": [
        "saveRDS(m2_Comments_main_std_comp, \"m2_Comments_main_std_comp.rds\")\n"
      ],
      "execution_count": null,
      "outputs": []
    },
    {
      "cell_type": "code",
      "metadata": {
        "id": "cY7e1Agrkxgj",
        "colab": {
          "base_uri": "https://localhost:8080/",
          "height": 799
        },
        "outputId": "60ab332c-3bc0-4b2f-ae3b-1450e7f9d6c4"
      },
      "source": [
        "summary(m2_Comments_main_std_comp)"
      ],
      "execution_count": null,
      "outputs": [
        {
          "output_type": "stream",
          "name": "stderr",
          "text": [
            "Warning message in sqrt(diag(var_betas)):\n",
            "“NaNs produced”\n"
          ]
        },
        {
          "output_type": "display_data",
          "data": {
            "text/plain": [
              "\n",
              "Call:\n",
              "mixed_model(fixed = Comments ~ sentistr_std + insult_std + republican, \n",
              "    random = ~1 | Page.Name.fac, data = final_pages_all_nona_st, \n",
              "    family = zi.negative.binomial(), zi_fixed = ~1, max_coef_value = 100)\n",
              "\n",
              "Data Descriptives:\n",
              "Number of Observations: 13955869\n",
              "Number of Groups: 1493 \n",
              "\n",
              "Model:\n",
              " family: zero-inflated negative binomial\n",
              " link: log \n",
              "\n",
              "Fit statistics:\n",
              "   log.Lik      AIC      BIC\n",
              " -43579829 87159672 87159709\n",
              "\n",
              "Random effects covariance matrix:\n",
              "              StdDev\n",
              "(Intercept) 2.011165\n",
              "\n",
              "Fixed effects:\n",
              "             Estimate Std.Err  z-value p-value\n",
              "(Intercept)    4.3972     NaN      NaN      NA\n",
              "sentistr_std  -0.0398  0.0005 -74.6236 < 1e-04\n",
              "insult_std     0.1824  0.0005 333.2079 < 1e-04\n",
              "republican    -0.0567  0.1058  -0.5360 0.59194\n",
              "\n",
              "Zero-part coefficients:\n",
              "            Estimate Std.Err z-value p-value\n",
              "(Intercept) -16.6154  2.9023 -5.7248 < 1e-04\n",
              "\n",
              "log(dispersion) parameter:\n",
              "  Estimate Std.Err\n",
              "   -1.0041   4e-04\n",
              "\n",
              "Integration:\n",
              "method: adaptive Gauss-Hermite quadrature rule\n",
              "quadrature points: 11\n",
              "\n",
              "Optimization:\n",
              "method: EM\n",
              "converged: TRUE "
            ]
          },
          "metadata": {}
        }
      ]
    },
    {
      "cell_type": "markdown",
      "metadata": {
        "id": "TAXAFUqljSzx"
      },
      "source": [
        "## shares"
      ]
    },
    {
      "cell_type": "code",
      "metadata": {
        "id": "3IK0pxywjUHY",
        "colab": {
          "base_uri": "https://localhost:8080/",
          "height": 51
        },
        "outputId": "4a1b0221-3763-47a7-e02c-9a099bd192c5"
      },
      "source": [
        "system.time( m2_Shares_senti_main_std <- mixed_model(fixed = Shares ~ sentistr_std + republican , random = ~ 1|Page.Name.fac, zi_fixed =  ~ 1,  family = zi.negative.binomial(), data=final_pages_all_nona_st , max_coef_value = 100 ))\n"
      ],
      "execution_count": null,
      "outputs": [
        {
          "output_type": "display_data",
          "data": {
            "text/plain": [
              "    user   system  elapsed \n",
              "4651.072  269.609 4921.786 "
            ]
          },
          "metadata": {}
        }
      ]
    },
    {
      "cell_type": "code",
      "metadata": {
        "id": "0T_wJAw7jUmB",
        "colab": {
          "base_uri": "https://localhost:8080/",
          "height": 748
        },
        "outputId": "3059a926-3546-43de-8bd5-6d050d174d82"
      },
      "source": [
        "summary(m2_Shares_senti_main_std)\n"
      ],
      "execution_count": null,
      "outputs": [
        {
          "output_type": "display_data",
          "data": {
            "text/plain": [
              "\n",
              "Call:\n",
              "mixed_model(fixed = Shares ~ sentistr_std + republican, random = ~1 | \n",
              "    Page.Name.fac, data = final_pages_all_nona_st, family = zi.negative.binomial(), \n",
              "    zi_fixed = ~1, max_coef_value = 100)\n",
              "\n",
              "Data Descriptives:\n",
              "Number of Observations: 13955869\n",
              "Number of Groups: 1493 \n",
              "\n",
              "Model:\n",
              " family: zero-inflated negative binomial\n",
              " link: log \n",
              "\n",
              "Fit statistics:\n",
              "   log.Lik       AIC       BIC\n",
              " -56336226 112672463 112672495\n",
              "\n",
              "Random effects covariance matrix:\n",
              "              StdDev\n",
              "(Intercept) 1.830412\n",
              "\n",
              "Fixed effects:\n",
              "             Estimate Std.Err  z-value  p-value\n",
              "(Intercept)    5.3381  0.1034  51.6478  < 1e-04\n",
              "sentistr_std  -0.0242  0.0006 -41.7453  < 1e-04\n",
              "republican     0.3649  0.1160   3.1462 0.001654\n",
              "\n",
              "Zero-part coefficients:\n",
              "            Estimate Std.Err z-value p-value\n",
              "(Intercept) -16.9732  2.9421 -5.7691 < 1e-04\n",
              "\n",
              "log(dispersion) parameter:\n",
              "  Estimate Std.Err\n",
              "   -1.3083   4e-04\n",
              "\n",
              "Integration:\n",
              "method: adaptive Gauss-Hermite quadrature rule\n",
              "quadrature points: 11\n",
              "\n",
              "Optimization:\n",
              "method: EM\n",
              "converged: TRUE "
            ]
          },
          "metadata": {}
        }
      ]
    },
    {
      "cell_type": "code",
      "metadata": {
        "id": "cbbN6dxIjUh2"
      },
      "source": [
        "saveRDS(m2_Shares_senti_main_std, \"m2_Shares_senti_main_std.rds\")\n"
      ],
      "execution_count": null,
      "outputs": []
    },
    {
      "cell_type": "code",
      "metadata": {
        "id": "sPoduv38jUd-",
        "colab": {
          "base_uri": "https://localhost:8080/",
          "height": 51
        },
        "outputId": "c738a3ab-b8d7-49c3-8efa-71904338da2f"
      },
      "source": [
        "# re-download\n",
        "\n",
        "system.time( m2_Shares_inciv_main_std <- mixed_model(fixed = Shares ~ insult_std + republican , random = ~ 1|Page.Name.fac, zi_fixed =  ~ 1,  family = zi.negative.binomial(), data=final_pages_all_nona_st , max_coef_value = 100 ))\n"
      ],
      "execution_count": null,
      "outputs": [
        {
          "output_type": "display_data",
          "data": {
            "text/plain": [
              "    user   system  elapsed \n",
              "4763.564  250.796 5020.139 "
            ]
          },
          "metadata": {}
        }
      ]
    },
    {
      "cell_type": "code",
      "metadata": {
        "id": "KFD6cykujUZq"
      },
      "source": [
        "saveRDS(m2_Shares_inciv_main_std, \"m2_Shares_inciv_main_std.rds\")\n"
      ],
      "execution_count": null,
      "outputs": []
    },
    {
      "cell_type": "code",
      "metadata": {
        "id": "RhoA9PQVjUUo",
        "colab": {
          "base_uri": "https://localhost:8080/",
          "height": 748
        },
        "outputId": "71863277-0ebb-48b1-ad84-39d7d12113b0"
      },
      "source": [
        "summary(m2_Shares_inciv_main_std)\n"
      ],
      "execution_count": null,
      "outputs": [
        {
          "output_type": "display_data",
          "data": {
            "text/plain": [
              "\n",
              "Call:\n",
              "mixed_model(fixed = Shares ~ insult_std + republican, random = ~1 | \n",
              "    Page.Name.fac, data = final_pages_all_nona_st, family = zi.negative.binomial(), \n",
              "    zi_fixed = ~1, max_coef_value = 100)\n",
              "\n",
              "Data Descriptives:\n",
              "Number of Observations: 13955869\n",
              "Number of Groups: 1493 \n",
              "\n",
              "Model:\n",
              " family: zero-inflated negative binomial\n",
              " link: log \n",
              "\n",
              "Fit statistics:\n",
              "   log.Lik       AIC       BIC\n",
              " -55784046 111568104 111568136\n",
              "\n",
              "Random effects covariance matrix:\n",
              "              StdDev\n",
              "(Intercept) 1.817381\n",
              "\n",
              "Fixed effects:\n",
              "            Estimate Std.Err  z-value   p-value\n",
              "(Intercept)   5.3261  0.1038  51.3080   < 1e-04\n",
              "insult_std    0.0951  0.0006 164.2270   < 1e-04\n",
              "republican    0.3563  0.1156   3.0836 0.0020453\n",
              "\n",
              "Zero-part coefficients:\n",
              "            Estimate Std.Err z-value p-value\n",
              "(Intercept) -16.9751  2.9906 -5.6761 < 1e-04\n",
              "\n",
              "log(dispersion) parameter:\n",
              "  Estimate Std.Err\n",
              "   -1.2979   4e-04\n",
              "\n",
              "Integration:\n",
              "method: adaptive Gauss-Hermite quadrature rule\n",
              "quadrature points: 11\n",
              "\n",
              "Optimization:\n",
              "method: EM\n",
              "converged: TRUE "
            ]
          },
          "metadata": {}
        }
      ]
    },
    {
      "cell_type": "code",
      "metadata": {
        "id": "XaOe0FJ8k8Kz",
        "colab": {
          "base_uri": "https://localhost:8080/",
          "height": 51
        },
        "outputId": "da08c3e3-3821-4762-b4f4-72ade4e5e793"
      },
      "source": [
        "# RE-DOWNLOAD\n",
        "system.time( m2_Shares_main_std_comp <- mixed_model(fixed = Shares ~ sentistr_std + insult_std + republican , random = ~ 1|Page.Name.fac, zi_fixed =  ~ 1,  family = zi.negative.binomial(), data=final_pages_all_nona_st , max_coef_value = 100 ))\n"
      ],
      "execution_count": null,
      "outputs": [
        {
          "output_type": "display_data",
          "data": {
            "text/plain": [
              "    user   system  elapsed \n",
              "5396.212  416.135 5820.181 "
            ]
          },
          "metadata": {}
        }
      ]
    },
    {
      "cell_type": "code",
      "metadata": {
        "id": "wflgDmB_k8G5"
      },
      "source": [
        "saveRDS(m2_Shares_main_std_comp, \"m2_Shares_main_std_comp.rds\")\n"
      ],
      "execution_count": null,
      "outputs": []
    },
    {
      "cell_type": "code",
      "metadata": {
        "id": "PpgMYK3ck8By",
        "colab": {
          "base_uri": "https://localhost:8080/"
        },
        "outputId": "f57d86d9-4983-4c4b-9f80-939f89cf639f"
      },
      "source": [
        "summary(m2_Shares_main_std_comp)"
      ],
      "execution_count": null,
      "outputs": [
        {
          "output_type": "display_data",
          "data": {
            "text/plain": [
              "\n",
              "Call:\n",
              "mixed_model(fixed = Shares ~ sentistr_std + insult_std + republican, \n",
              "    random = ~1 | Page.Name.fac, data = final_pages_all_nona_st, \n",
              "    family = zi.negative.binomial(), zi_fixed = ~1, max_coef_value = 100)\n",
              "\n",
              "Data Descriptives:\n",
              "Number of Observations: 13955869\n",
              "Number of Groups: 1493 \n",
              "\n",
              "Model:\n",
              " family: zero-inflated negative binomial\n",
              " link: log \n",
              "\n",
              "Fit statistics:\n",
              "   log.Lik       AIC       BIC\n",
              " -55522733 111045481 111045518\n",
              "\n",
              "Random effects covariance matrix:\n",
              "              StdDev\n",
              "(Intercept) 1.804929\n",
              "\n",
              "Fixed effects:\n",
              "             Estimate Std.Err  z-value    p-value\n",
              "(Intercept)    5.3026  0.0981  54.0295    < 1e-04\n",
              "sentistr_std   0.0021  0.0006   3.4485 0.00056378\n",
              "insult_std     0.0924  0.0006 152.5972    < 1e-04\n",
              "republican     0.3550  0.1118   3.1756 0.00149544\n",
              "\n",
              "Zero-part coefficients:\n",
              "            Estimate Std.Err z-value p-value\n",
              "(Intercept) -16.9612  3.0232 -5.6104 < 1e-04\n",
              "\n",
              "log(dispersion) parameter:\n",
              "  Estimate Std.Err\n",
              "   -1.3057   4e-04\n",
              "\n",
              "Integration:\n",
              "method: adaptive Gauss-Hermite quadrature rule\n",
              "quadrature points: 11\n",
              "\n",
              "Optimization:\n",
              "method: EM\n",
              "converged: TRUE "
            ]
          },
          "metadata": {}
        }
      ]
    },
    {
      "cell_type": "code",
      "metadata": {
        "id": "FjuqngYUr-CS",
        "colab": {
          "base_uri": "https://localhost:8080/",
          "height": 306
        },
        "outputId": "45a7ad8b-4ac2-448c-bf4a-15ff54f04bcc"
      },
      "source": [
        "# interaction\n",
        "install.packages(\"GLMMadaptive\")\n",
        "library(GLMMadaptive)\n",
        "\n",
        "system.time( m2_Shares_int_std <- mixed_model(fixed = Shares ~ sentistr_std*republican + insult_std*republican , random = ~ 1|Page.Name.fac, zi_fixed =  ~ 1,  family = zi.negative.binomial(), data=final_pages_all_nona_st , max_coef_value = 100 ))\n"
      ],
      "execution_count": null,
      "outputs": [
        {
          "output_type": "stream",
          "name": "stderr",
          "text": [
            "Installing package into ‘/usr/local/lib/R/site-library’\n",
            "(as ‘lib’ is unspecified)\n",
            "\n",
            "also installing the dependency ‘matrixStats’\n",
            "\n",
            "\n",
            "\n",
            "Attaching package: ‘GLMMadaptive’\n",
            "\n",
            "\n",
            "The following object is masked from ‘package:MASS’:\n",
            "\n",
            "    negative.binomial\n",
            "\n",
            "\n"
          ]
        },
        {
          "output_type": "display_data",
          "data": {
            "text/plain": [
              "    user   system  elapsed \n",
              "6464.611  374.579 6843.395 "
            ]
          },
          "metadata": {}
        }
      ]
    },
    {
      "cell_type": "code",
      "metadata": {
        "id": "qheSJUVur95S",
        "colab": {
          "base_uri": "https://localhost:8080/",
          "height": 799
        },
        "outputId": "eaf54ada-6c8c-4430-f36d-4bd6ea2e1caf"
      },
      "source": [
        "summary(m2_Shares_int_std)"
      ],
      "execution_count": null,
      "outputs": [
        {
          "output_type": "display_data",
          "data": {
            "text/plain": [
              "\n",
              "Call:\n",
              "mixed_model(fixed = Shares ~ sentistr_std * republican + insult_std * \n",
              "    republican, random = ~1 | Page.Name.fac, data = final_pages_all_nona_st, \n",
              "    family = zi.negative.binomial(), zi_fixed = ~1, max_coef_value = 100)\n",
              "\n",
              "Data Descriptives:\n",
              "Number of Observations: 13955869\n",
              "Number of Groups: 1493 \n",
              "\n",
              "Model:\n",
              " family: zero-inflated negative binomial\n",
              " link: log \n",
              "\n",
              "Fit statistics:\n",
              "   log.Lik       AIC       BIC\n",
              " -57572567 115145151 115145199\n",
              "\n",
              "Random effects covariance matrix:\n",
              "              StdDev\n",
              "(Intercept) 1.796965\n",
              "\n",
              "Fixed effects:\n",
              "                        Estimate Std.Err  z-value   p-value\n",
              "(Intercept)               5.3258  0.0971  54.8565  < 0.0001\n",
              "sentistr_std              0.0131  0.0008  16.3839  < 0.0001\n",
              "republican                0.3077  0.1083   2.8420 0.0044825\n",
              "insult_std                0.0952  0.0008 113.6248  < 0.0001\n",
              "sentistr_std:republican  -0.0131  0.0012 -10.9838  < 0.0001\n",
              "republican:insult_std    -0.0018  0.0012  -1.4744 0.1403824\n",
              "\n",
              "Zero-part coefficients:\n",
              "            Estimate Std.Err z-value  p-value\n",
              "(Intercept)  -16.983   2.934 -5.7883 < 0.0001\n",
              "\n",
              "log(dispersion) parameter:\n",
              "  Estimate Std.Err\n",
              "   -1.2867  0.0004\n",
              "\n",
              "Integration:\n",
              "method: adaptive Gauss-Hermite quadrature rule\n",
              "quadrature points: 11\n",
              "\n",
              "Optimization:\n",
              "method: EM\n",
              "converged: TRUE "
            ]
          },
          "metadata": {}
        }
      ]
    },
    {
      "cell_type": "code",
      "metadata": {
        "id": "rlDR3Ya0r99j"
      },
      "source": [
        "saveRDS(m2_Shares_int_std, \"m2_Shares_int_std.rds\")\n"
      ],
      "execution_count": null,
      "outputs": []
    },
    {
      "cell_type": "code",
      "metadata": {
        "id": "_YTNZahFr9z-"
      },
      "source": [
        ""
      ],
      "execution_count": null,
      "outputs": []
    },
    {
      "cell_type": "markdown",
      "metadata": {
        "id": "wKPYJYZyk8gA"
      },
      "source": [
        "## Angry"
      ]
    },
    {
      "cell_type": "code",
      "metadata": {
        "id": "w09vcOnaslK1",
        "colab": {
          "base_uri": "https://localhost:8080/",
          "height": 51
        },
        "outputId": "4993c495-89c2-451b-b45a-472c4148d88f"
      },
      "source": [
        "### interaction\n",
        "system.time( m2_Angry_int_std <- mixed_model(fixed = Angry ~ sentistr_std*republican + insult_std*republican , random = ~ 1|Page.Name.fac, zi_fixed =  ~ 1,  family = zi.negative.binomial(), data=final_pages_react_nona_st , max_coef_value = 100 ))\n"
      ],
      "execution_count": null,
      "outputs": [
        {
          "output_type": "display_data",
          "data": {
            "text/plain": [
              "    user   system  elapsed \n",
              "7788.435  476.191 8271.169 "
            ]
          },
          "metadata": {}
        }
      ]
    },
    {
      "cell_type": "code",
      "metadata": {
        "id": "MoJsCfBpslEK",
        "colab": {
          "base_uri": "https://localhost:8080/",
          "height": 799
        },
        "outputId": "7e2535cb-9ea9-47f7-eed7-908a7ea52841"
      },
      "source": [
        "summary(m2_Angry_int_std)"
      ],
      "execution_count": null,
      "outputs": [
        {
          "output_type": "display_data",
          "data": {
            "text/plain": [
              "\n",
              "Call:\n",
              "mixed_model(fixed = Angry ~ sentistr_std * republican + insult_std * \n",
              "    republican, random = ~1 | Page.Name.fac, data = final_pages_react_nona_st, \n",
              "    family = zi.negative.binomial(), zi_fixed = ~1, max_coef_value = 100)\n",
              "\n",
              "Data Descriptives:\n",
              "Number of Observations: 10991537\n",
              "Number of Groups: 1491 \n",
              "\n",
              "Model:\n",
              " family: zero-inflated negative binomial\n",
              " link: log \n",
              "\n",
              "Fit statistics:\n",
              "   log.Lik      AIC      BIC\n",
              " -30787577 61575171 61575219\n",
              "\n",
              "Random effects covariance matrix:\n",
              "              StdDev\n",
              "(Intercept) 1.850032\n",
              "\n",
              "Fixed effects:\n",
              "                        Estimate Std.Err   z-value  p-value\n",
              "(Intercept)               4.0898  0.1699   24.0777 < 0.0001\n",
              "sentistr_std             -0.2950  0.0013 -221.9586 < 0.0001\n",
              "republican               -0.6239  0.1011   -6.1698 < 0.0001\n",
              "insult_std                0.1375  0.0013  107.0786 < 0.0001\n",
              "sentistr_std:republican  -0.0359  0.0018  -20.2451 < 0.0001\n",
              "republican:insult_std     0.0523  0.0018   29.4608 < 0.0001\n",
              "\n",
              "Zero-part coefficients:\n",
              "            Estimate Std.Err z-value   p-value\n",
              "(Intercept) -16.7726  5.4664 -3.0683 0.0021528\n",
              "\n",
              "log(dispersion) parameter:\n",
              "  Estimate Std.Err\n",
              "   -1.8105  0.0005\n",
              "\n",
              "Integration:\n",
              "method: adaptive Gauss-Hermite quadrature rule\n",
              "quadrature points: 11\n",
              "\n",
              "Optimization:\n",
              "method: EM\n",
              "converged: TRUE "
            ]
          },
          "metadata": {}
        }
      ]
    },
    {
      "cell_type": "code",
      "metadata": {
        "id": "a2PZE0ATslHe"
      },
      "source": [
        "saveRDS(m2_Angry_int_std, \"m2_Angry_int_std.rds\")\n"
      ],
      "execution_count": null,
      "outputs": []
    },
    {
      "cell_type": "code",
      "metadata": {
        "id": "xNx3fNJGslA8"
      },
      "source": [
        ""
      ],
      "execution_count": null,
      "outputs": []
    },
    {
      "cell_type": "code",
      "metadata": {
        "id": "KAOtAbbslFJZ",
        "colab": {
          "base_uri": "https://localhost:8080/",
          "height": 51
        },
        "outputId": "8aa54bd4-3b0d-4c8b-a666-030c258cb047"
      },
      "source": [
        "system.time( m2_Angry_senti_main_std <- mixed_model(fixed = Angry ~ sentistr_std + republican , random = ~ 1|Page.Name.fac, zi_fixed =  ~ 1,  family = zi.negative.binomial(), data=final_pages_react_nona_st , max_coef_value = 100 ))\n"
      ],
      "execution_count": null,
      "outputs": [
        {
          "output_type": "display_data",
          "data": {
            "text/plain": [
              "    user   system  elapsed \n",
              "5650.158  215.321 5867.348 "
            ]
          },
          "metadata": {}
        }
      ]
    },
    {
      "cell_type": "code",
      "metadata": {
        "id": "K7wdK2PilFqp",
        "colab": {
          "base_uri": "https://localhost:8080/",
          "height": 748
        },
        "outputId": "c7bdf49d-6eb7-48bb-a263-1f267ffac822"
      },
      "source": [
        "summary(m2_Angry_senti_main_std)\n"
      ],
      "execution_count": null,
      "outputs": [
        {
          "output_type": "display_data",
          "data": {
            "text/plain": [
              "\n",
              "Call:\n",
              "mixed_model(fixed = Angry ~ sentistr_std + republican, random = ~1 | \n",
              "    Page.Name.fac, data = final_pages_react_nona_st, family = zi.negative.binomial(), \n",
              "    zi_fixed = ~1, max_coef_value = 100)\n",
              "\n",
              "Data Descriptives:\n",
              "Number of Observations: 10991537\n",
              "Number of Groups: 1491 \n",
              "\n",
              "Model:\n",
              " family: zero-inflated negative binomial\n",
              " link: log \n",
              "\n",
              "Fit statistics:\n",
              "   log.Lik      AIC      BIC\n",
              " -30225470 60450953 60450985\n",
              "\n",
              "Random effects covariance matrix:\n",
              "              StdDev\n",
              "(Intercept) 1.860719\n",
              "\n",
              "Fixed effects:\n",
              "             Estimate Std.Err   z-value  p-value\n",
              "(Intercept)    4.1224  0.1761   23.4096 < 0.0001\n",
              "sentistr_std  -0.3550  0.0009 -414.0627 < 0.0001\n",
              "republican    -0.6550  0.1028   -6.3700 < 0.0001\n",
              "\n",
              "Zero-part coefficients:\n",
              "            Estimate Std.Err z-value   p-value\n",
              "(Intercept)  -16.559  5.0756 -3.2625 0.0011044\n",
              "\n",
              "log(dispersion) parameter:\n",
              "  Estimate Std.Err\n",
              "   -1.8163  0.0005\n",
              "\n",
              "Integration:\n",
              "method: adaptive Gauss-Hermite quadrature rule\n",
              "quadrature points: 11\n",
              "\n",
              "Optimization:\n",
              "method: EM\n",
              "converged: TRUE "
            ]
          },
          "metadata": {}
        }
      ]
    },
    {
      "cell_type": "code",
      "metadata": {
        "id": "3l-ZKH8ElFnQ"
      },
      "source": [
        "saveRDS(m2_Angry_senti_main_std, \"m2_Angry_senti_main_std.rds\")\n"
      ],
      "execution_count": null,
      "outputs": []
    },
    {
      "cell_type": "code",
      "metadata": {
        "id": "9E0JyhqMlFgV",
        "colab": {
          "base_uri": "https://localhost:8080/",
          "height": 51
        },
        "outputId": "4ae63e27-29d3-407c-9ab1-baad0983abca"
      },
      "source": [
        "system.time( m2_Angry_inciv_main_std <- mixed_model(fixed = Angry ~ insult_std + republican , random = ~ 1|Page.Name.fac, zi_fixed =  ~ 1,  family = zi.negative.binomial(), data=final_pages_react_nona_st , max_coef_value = 100 ))\n"
      ],
      "execution_count": null,
      "outputs": [
        {
          "output_type": "display_data",
          "data": {
            "text/plain": [
              "    user   system  elapsed \n",
              "5685.662  266.616 5953.732 "
            ]
          },
          "metadata": {}
        }
      ]
    },
    {
      "cell_type": "code",
      "metadata": {
        "id": "HM4j_irplGJB"
      },
      "source": [
        "saveRDS(m2_Angry_inciv_main_std, \"m2_Angry_inciv_main_std.rds\")\n"
      ],
      "execution_count": null,
      "outputs": []
    },
    {
      "cell_type": "code",
      "metadata": {
        "id": "AkaEq0GWlGE8",
        "colab": {
          "base_uri": "https://localhost:8080/",
          "height": 748
        },
        "outputId": "f4b160bc-8925-4297-8ad9-0286c3358294"
      },
      "source": [
        "summary(m2_Angry_inciv_main_std)\n"
      ],
      "execution_count": null,
      "outputs": [
        {
          "output_type": "display_data",
          "data": {
            "text/plain": [
              "\n",
              "Call:\n",
              "mixed_model(fixed = Angry ~ insult_std + republican, random = ~1 | \n",
              "    Page.Name.fac, data = final_pages_react_nona_st, family = zi.negative.binomial(), \n",
              "    zi_fixed = ~1, max_coef_value = 100)\n",
              "\n",
              "Data Descriptives:\n",
              "Number of Observations: 10991537\n",
              "Number of Groups: 1491 \n",
              "\n",
              "Model:\n",
              " family: zero-inflated negative binomial\n",
              " link: log \n",
              "\n",
              "Fit statistics:\n",
              "   log.Lik      AIC      BIC\n",
              " -30779569 61559149 61559181\n",
              "\n",
              "Random effects covariance matrix:\n",
              "              StdDev\n",
              "(Intercept) 1.843384\n",
              "\n",
              "Fixed effects:\n",
              "            Estimate Std.Err  z-value  p-value\n",
              "(Intercept)   4.1348  0.1650  25.0602 < 0.0001\n",
              "insult_std    0.2399  0.0009 273.8458 < 0.0001\n",
              "republican   -0.6581  0.1008  -6.5256 < 0.0001\n",
              "\n",
              "Zero-part coefficients:\n",
              "            Estimate Std.Err z-value   p-value\n",
              "(Intercept) -16.5036  4.9958 -3.3035 0.0009549\n",
              "\n",
              "log(dispersion) parameter:\n",
              "  Estimate Std.Err\n",
              "   -1.8257  0.0005\n",
              "\n",
              "Integration:\n",
              "method: adaptive Gauss-Hermite quadrature rule\n",
              "quadrature points: 11\n",
              "\n",
              "Optimization:\n",
              "method: EM\n",
              "converged: TRUE "
            ]
          },
          "metadata": {}
        }
      ]
    },
    {
      "cell_type": "code",
      "metadata": {
        "id": "QsvKSvf2lGtM",
        "colab": {
          "base_uri": "https://localhost:8080/",
          "height": 51
        },
        "outputId": "d2358ad2-2d9c-4d29-a7d3-5f24dd7e9331"
      },
      "source": [
        "system.time( m2_Angry_main_std_comp <- mixed_model(fixed = Angry ~ sentistr_std + insult_std + republican , random = ~ 1|Page.Name.fac, zi_fixed =  ~ 1,  family = zi.negative.binomial(), data=final_pages_react_nona_st , max_coef_value = 100 ))\n"
      ],
      "execution_count": null,
      "outputs": [
        {
          "output_type": "display_data",
          "data": {
            "text/plain": [
              "    user   system  elapsed \n",
              "6436.908  351.487 6790.062 "
            ]
          },
          "metadata": {}
        }
      ]
    },
    {
      "cell_type": "code",
      "metadata": {
        "id": "N-uo_qcUlGqO"
      },
      "source": [
        "saveRDS(m2_Angry_main_std_comp, \"m2_Angry_main_std_comp.rds\")\n"
      ],
      "execution_count": null,
      "outputs": []
    },
    {
      "cell_type": "code",
      "metadata": {
        "id": "pTouOUywlGnI",
        "colab": {
          "base_uri": "https://localhost:8080/",
          "height": 765
        },
        "outputId": "81d0070f-1eff-41b1-8998-5ce49105da20"
      },
      "source": [
        "summary(m2_Angry_main_std_comp)"
      ],
      "execution_count": null,
      "outputs": [
        {
          "output_type": "display_data",
          "data": {
            "text/plain": [
              "\n",
              "Call:\n",
              "mixed_model(fixed = Angry ~ sentistr_std + insult_std + republican, \n",
              "    random = ~1 | Page.Name.fac, data = final_pages_react_nona_st, \n",
              "    family = zi.negative.binomial(), zi_fixed = ~1, max_coef_value = 100)\n",
              "\n",
              "Data Descriptives:\n",
              "Number of Observations: 10991537\n",
              "Number of Groups: 1491 \n",
              "\n",
              "Model:\n",
              " family: zero-inflated negative binomial\n",
              " link: log \n",
              "\n",
              "Fit statistics:\n",
              "   log.Lik      AIC      BIC\n",
              " -30510505 61021024 61021061\n",
              "\n",
              "Random effects covariance matrix:\n",
              "              StdDev\n",
              "(Intercept) 1.848422\n",
              "\n",
              "Fixed effects:\n",
              "             Estimate Std.Err   z-value  p-value\n",
              "(Intercept)    4.0931  0.1702   24.0427 < 0.0001\n",
              "sentistr_std  -0.3129  0.0009 -354.3483 < 0.0001\n",
              "insult_std     0.1662  0.0009  186.7501 < 0.0001\n",
              "republican    -0.6348  0.1013   -6.2642 < 0.0001\n",
              "\n",
              "Zero-part coefficients:\n",
              "            Estimate Std.Err z-value   p-value\n",
              "(Intercept) -16.7456  5.4709 -3.0609 0.0022071\n",
              "\n",
              "log(dispersion) parameter:\n",
              "  Estimate Std.Err\n",
              "    -1.811  0.0005\n",
              "\n",
              "Integration:\n",
              "method: adaptive Gauss-Hermite quadrature rule\n",
              "quadrature points: 11\n",
              "\n",
              "Optimization:\n",
              "method: EM\n",
              "converged: TRUE "
            ]
          },
          "metadata": {}
        }
      ]
    },
    {
      "cell_type": "markdown",
      "metadata": {
        "id": "ZO7AiLj8lHM6"
      },
      "source": [
        "## Love"
      ]
    },
    {
      "cell_type": "code",
      "metadata": {
        "colab": {
          "base_uri": "https://localhost:8080/",
          "height": 51
        },
        "id": "0JkPTcSXHbiT",
        "outputId": "31fa0b13-4479-4b24-d906-cba0ce7d74de"
      },
      "source": [
        "# re-download\n",
        "\n",
        "system.time( m2_Love_int_std <- mixed_model(fixed = Love ~ sentistr_std*republican + insult_std*republican , random = ~ 1|Page.Name.fac, zi_fixed =  ~ 1,  family = zi.negative.binomial(), data=final_pages_react_nona_st , max_coef_value = 100 ))\n"
      ],
      "execution_count": null,
      "outputs": [
        {
          "output_type": "display_data",
          "data": {
            "text/plain": [
              "    user   system  elapsed \n",
              "7111.309  252.750 7370.281 "
            ]
          },
          "metadata": {}
        }
      ]
    },
    {
      "cell_type": "code",
      "metadata": {
        "id": "CroKSlwNHba1"
      },
      "source": [
        "saveRDS(m2_Love_int_std, \"m2_Love_int_std.rds\")\n"
      ],
      "execution_count": null,
      "outputs": []
    },
    {
      "cell_type": "code",
      "metadata": {
        "colab": {
          "base_uri": "https://localhost:8080/",
          "height": 799
        },
        "id": "CTQ35BGaHbe7",
        "outputId": "5c895017-2450-4d26-fa8c-bfddc23bc87c"
      },
      "source": [
        "summary(m2_Love_int_std)\n"
      ],
      "execution_count": null,
      "outputs": [
        {
          "output_type": "display_data",
          "data": {
            "text/plain": [
              "\n",
              "Call:\n",
              "mixed_model(fixed = Love ~ sentistr_std * republican + insult_std * \n",
              "    republican, random = ~1 | Page.Name.fac, data = final_pages_react_nona_st, \n",
              "    family = zi.negative.binomial(), zi_fixed = ~1, max_coef_value = 100)\n",
              "\n",
              "Data Descriptives:\n",
              "Number of Observations: 10991537\n",
              "Number of Groups: 1491 \n",
              "\n",
              "Model:\n",
              " family: zero-inflated negative binomial\n",
              " link: log \n",
              "\n",
              "Fit statistics:\n",
              "   log.Lik      AIC      BIC\n",
              " -29456876 58913771 58913818\n",
              "\n",
              "Random effects covariance matrix:\n",
              "              StdDev\n",
              "(Intercept) 1.718542\n",
              "\n",
              "Fixed effects:\n",
              "                        Estimate Std.Err  z-value  p-value\n",
              "(Intercept)               3.7072  0.1156  32.0674 < 0.0001\n",
              "sentistr_std              0.2345  0.0011 209.9628 < 0.0001\n",
              "republican               -0.8702  0.0971  -8.9630 < 0.0001\n",
              "insult_std                0.0360  0.0011  33.2185 < 0.0001\n",
              "sentistr_std:republican   0.0183  0.0015  12.5874 < 0.0001\n",
              "republican:insult_std    -0.0419  0.0015 -27.7256 < 0.0001\n",
              "\n",
              "Zero-part coefficients:\n",
              "            Estimate Std.Err z-value    p-value\n",
              "(Intercept) -17.0282  4.7332 -3.5976 0.00032119\n",
              "\n",
              "log(dispersion) parameter:\n",
              "  Estimate Std.Err\n",
              "   -1.5458  0.0005\n",
              "\n",
              "Integration:\n",
              "method: adaptive Gauss-Hermite quadrature rule\n",
              "quadrature points: 11\n",
              "\n",
              "Optimization:\n",
              "method: EM\n",
              "converged: TRUE "
            ]
          },
          "metadata": {}
        }
      ]
    },
    {
      "cell_type": "code",
      "metadata": {
        "id": "aY7KlNDqHbVR"
      },
      "source": [
        ""
      ],
      "execution_count": null,
      "outputs": []
    },
    {
      "cell_type": "code",
      "metadata": {
        "id": "hn-HWPxelJFe",
        "colab": {
          "base_uri": "https://localhost:8080/",
          "height": 51
        },
        "outputId": "058a0723-7143-4934-ef62-f952afc19f70"
      },
      "source": [
        "system.time( m2_Love_senti_main_std <- mixed_model(fixed = Love ~ sentistr_std + republican , random = ~ 1|Page.Name.fac, zi_fixed =  ~ 1,  family = zi.negative.binomial(), data=final_pages_react_nona_st , max_coef_value = 100 ))\n"
      ],
      "execution_count": null,
      "outputs": [
        {
          "output_type": "display_data",
          "data": {
            "text/plain": [
              "    user   system  elapsed \n",
              "5389.251  287.729 5677.957 "
            ]
          },
          "metadata": {}
        }
      ]
    },
    {
      "cell_type": "code",
      "metadata": {
        "id": "Ys_RaEqvlJSt",
        "colab": {
          "base_uri": "https://localhost:8080/",
          "height": 748
        },
        "outputId": "59eb475e-5a8b-4fa8-95a5-177da92645d7"
      },
      "source": [
        "summary(m2_Love_senti_main_std)\n"
      ],
      "execution_count": null,
      "outputs": [
        {
          "output_type": "display_data",
          "data": {
            "text/plain": [
              "\n",
              "Call:\n",
              "mixed_model(fixed = Love ~ sentistr_std + republican, random = ~1 | \n",
              "    Page.Name.fac, data = final_pages_react_nona_st, family = zi.negative.binomial(), \n",
              "    zi_fixed = ~1, max_coef_value = 100)\n",
              "\n",
              "Data Descriptives:\n",
              "Number of Observations: 10991537\n",
              "Number of Groups: 1491 \n",
              "\n",
              "Model:\n",
              " family: zero-inflated negative binomial\n",
              " link: log \n",
              "\n",
              "Fit statistics:\n",
              "   log.Lik      AIC      BIC\n",
              " -28933565 57867143 57867174\n",
              "\n",
              "Random effects covariance matrix:\n",
              "              StdDev\n",
              "(Intercept) 1.726513\n",
              "\n",
              "Fixed effects:\n",
              "             Estimate Std.Err  z-value  p-value\n",
              "(Intercept)    3.7149  0.1188  31.2758 < 0.0001\n",
              "sentistr_std   0.2409  0.0007 349.7260 < 0.0001\n",
              "republican    -0.8570  0.0974  -8.8015 < 0.0001\n",
              "\n",
              "Zero-part coefficients:\n",
              "            Estimate Std.Err z-value    p-value\n",
              "(Intercept) -17.0024  4.7582 -3.5733 0.00035251\n",
              "\n",
              "log(dispersion) parameter:\n",
              "  Estimate Std.Err\n",
              "   -1.5505  0.0005\n",
              "\n",
              "Integration:\n",
              "method: adaptive Gauss-Hermite quadrature rule\n",
              "quadrature points: 11\n",
              "\n",
              "Optimization:\n",
              "method: EM\n",
              "converged: TRUE "
            ]
          },
          "metadata": {}
        }
      ]
    },
    {
      "cell_type": "code",
      "metadata": {
        "id": "N8SmbzTklKFB"
      },
      "source": [
        "saveRDS(m2_Love_senti_main_std, \"m2_Love_senti_main_std.rds\")\n"
      ],
      "execution_count": null,
      "outputs": []
    },
    {
      "cell_type": "code",
      "metadata": {
        "id": "A54vDKRclJ9q",
        "colab": {
          "base_uri": "https://localhost:8080/",
          "height": 51
        },
        "outputId": "d1aec9b5-357d-4cf0-f0e7-6aa9534ae4bf"
      },
      "source": [
        "system.time( m2_Love_inciv_main_std <- mixed_model(fixed = Love ~ insult_std + republican , random = ~ 1|Page.Name.fac, zi_fixed =  ~ 1,  family = zi.negative.binomial(), data=final_pages_react_nona_st , max_coef_value = 100 ))\n"
      ],
      "execution_count": null,
      "outputs": [
        {
          "output_type": "display_data",
          "data": {
            "text/plain": [
              "    user   system  elapsed \n",
              "5286.325  291.957 5579.281 "
            ]
          },
          "metadata": {}
        }
      ]
    },
    {
      "cell_type": "code",
      "metadata": {
        "id": "sl5TictWlJ5M"
      },
      "source": [
        "saveRDS(m2_Love_inciv_main_std, \"m2_Love_inciv_main_std.rds\")\n"
      ],
      "execution_count": null,
      "outputs": []
    },
    {
      "cell_type": "code",
      "metadata": {
        "id": "ppfswsyulJz2",
        "colab": {
          "base_uri": "https://localhost:8080/",
          "height": 748
        },
        "outputId": "eb17d0da-354c-4388-c12f-4cc43c87ff69"
      },
      "source": [
        "summary(m2_Love_inciv_main_std)\n"
      ],
      "execution_count": null,
      "outputs": [
        {
          "output_type": "display_data",
          "data": {
            "text/plain": [
              "\n",
              "Call:\n",
              "mixed_model(fixed = Love ~ insult_std + republican, random = ~1 | \n",
              "    Page.Name.fac, data = final_pages_react_nona_st, family = zi.negative.binomial(), \n",
              "    zi_fixed = ~1, max_coef_value = 100)\n",
              "\n",
              "Data Descriptives:\n",
              "Number of Observations: 10991537\n",
              "Number of Groups: 1491 \n",
              "\n",
              "Model:\n",
              " family: zero-inflated negative binomial\n",
              " link: log \n",
              "\n",
              "Fit statistics:\n",
              "   log.Lik      AIC      BIC\n",
              " -28151043 56302097 56302129\n",
              "\n",
              "Random effects covariance matrix:\n",
              "              StdDev\n",
              "(Intercept) 1.754047\n",
              "\n",
              "Fixed effects:\n",
              "            Estimate Std.Err  z-value  p-value\n",
              "(Intercept)   3.7660  0.1255  30.0123 < 0.0001\n",
              "insult_std   -0.0559  0.0007 -75.9386 < 0.0001\n",
              "republican   -0.8460  0.1001  -8.4515 < 0.0001\n",
              "\n",
              "Zero-part coefficients:\n",
              "            Estimate Std.Err z-value    p-value\n",
              "(Intercept) -16.8889  4.6859 -3.6042 0.00031308\n",
              "\n",
              "log(dispersion) parameter:\n",
              "  Estimate Std.Err\n",
              "   -1.5715  0.0005\n",
              "\n",
              "Integration:\n",
              "method: adaptive Gauss-Hermite quadrature rule\n",
              "quadrature points: 11\n",
              "\n",
              "Optimization:\n",
              "method: EM\n",
              "converged: TRUE "
            ]
          },
          "metadata": {}
        }
      ]
    },
    {
      "cell_type": "code",
      "metadata": {
        "id": "PV9qDfYFlK15",
        "colab": {
          "base_uri": "https://localhost:8080/",
          "height": 51
        },
        "outputId": "f0780f5a-cb40-4e2b-ab35-7c66da54a499"
      },
      "source": [
        "system.time( m2_Love_main_std_comp <- mixed_model(fixed = Love ~ sentistr_std + insult_std + republican , random = ~ 1|Page.Name.fac, zi_fixed =  ~ 1,  family = zi.negative.binomial(), data=final_pages_react_nona_st , max_coef_value = 100 ))\n"
      ],
      "execution_count": null,
      "outputs": [
        {
          "output_type": "display_data",
          "data": {
            "text/plain": [
              "    user   system  elapsed \n",
              "6061.458  344.010 6406.970 "
            ]
          },
          "metadata": {}
        }
      ]
    },
    {
      "cell_type": "code",
      "metadata": {
        "id": "89W-UZg5lKyM"
      },
      "source": [
        "saveRDS(m2_Love_main_std_comp, \"m2_Love_main_std_comp.rds\")\n"
      ],
      "execution_count": null,
      "outputs": []
    },
    {
      "cell_type": "code",
      "metadata": {
        "id": "P448Wa0-lKud",
        "colab": {
          "base_uri": "https://localhost:8080/",
          "height": 765
        },
        "outputId": "40ff8616-9e37-4432-9988-09f153ed82d9"
      },
      "source": [
        "summary(m2_Love_main_std_comp)"
      ],
      "execution_count": null,
      "outputs": [
        {
          "output_type": "display_data",
          "data": {
            "text/plain": [
              "\n",
              "Call:\n",
              "mixed_model(fixed = Love ~ sentistr_std + insult_std + republican, \n",
              "    random = ~1 | Page.Name.fac, data = final_pages_react_nona_st, \n",
              "    family = zi.negative.binomial(), zi_fixed = ~1, max_coef_value = 100)\n",
              "\n",
              "Data Descriptives:\n",
              "Number of Observations: 10991537\n",
              "Number of Groups: 1491 \n",
              "\n",
              "Model:\n",
              " family: zero-inflated negative binomial\n",
              " link: log \n",
              "\n",
              "Fit statistics:\n",
              "   log.Lik      AIC      BIC\n",
              " -29310553 58621120 58621157\n",
              "\n",
              "Random effects covariance matrix:\n",
              "              StdDev\n",
              "(Intercept) 1.722126\n",
              "\n",
              "Fixed effects:\n",
              "             Estimate Std.Err  z-value  p-value\n",
              "(Intercept)    3.7080  0.1165  31.8337 < 0.0001\n",
              "sentistr_std   0.2446  0.0007 342.2426 < 0.0001\n",
              "insult_std     0.0155  0.0008  20.5608 < 0.0001\n",
              "republican    -0.8601  0.0971  -8.8616 < 0.0001\n",
              "\n",
              "Zero-part coefficients:\n",
              "            Estimate Std.Err z-value    p-value\n",
              "(Intercept) -17.0289  4.7407 -3.5921 0.00032803\n",
              "\n",
              "log(dispersion) parameter:\n",
              "  Estimate Std.Err\n",
              "   -1.5444  0.0005\n",
              "\n",
              "Integration:\n",
              "method: adaptive Gauss-Hermite quadrature rule\n",
              "quadrature points: 11\n",
              "\n",
              "Optimization:\n",
              "method: EM\n",
              "converged: TRUE "
            ]
          },
          "metadata": {}
        }
      ]
    },
    {
      "cell_type": "markdown",
      "metadata": {
        "id": "MxXlVVhQlOlA"
      },
      "source": [
        "## sad"
      ]
    },
    {
      "cell_type": "code",
      "metadata": {
        "colab": {
          "base_uri": "https://localhost:8080/",
          "height": 51
        },
        "id": "_mLgw--qH04-",
        "outputId": "0921adc5-7412-4a7f-ce74-e117659614c4"
      },
      "source": [
        "# re-download\n",
        "\n",
        "system.time( m2_Sad_int_std <- mixed_model(fixed = Sad ~ sentistr_std*republican + insult_std*republican , random = ~ 1|Page.Name.fac, zi_fixed =  ~ 1,  family = zi.negative.binomial(), data=final_pages_react_nona_st , max_coef_value = 100 ))\n"
      ],
      "execution_count": null,
      "outputs": [
        {
          "data": {
            "text/plain": [
              "    user   system  elapsed \n",
              "8783.781  462.025 9250.719 "
            ]
          },
          "metadata": {},
          "output_type": "display_data"
        }
      ]
    },
    {
      "cell_type": "code",
      "metadata": {
        "id": "DhSCo-wkH0sP"
      },
      "source": [
        "saveRDS(m2_Sad_int_std, \"m2_Sad_int_std.rds\")\n"
      ],
      "execution_count": null,
      "outputs": []
    },
    {
      "cell_type": "code",
      "metadata": {
        "colab": {
          "base_uri": "https://localhost:8080/",
          "height": 799
        },
        "id": "4wsQZ9AiH0yY",
        "outputId": "2ffc85a5-c1f6-4c39-c052-077b51210b0d"
      },
      "source": [
        "summary(m2_Sad_int_std)\n"
      ],
      "execution_count": null,
      "outputs": [
        {
          "output_type": "display_data",
          "data": {
            "text/plain": [
              "\n",
              "Call:\n",
              "mixed_model(fixed = Sad ~ sentistr_std * republican + insult_std * \n",
              "    republican, random = ~1 | Page.Name.fac, data = final_pages_react_nona_st, \n",
              "    family = zi.negative.binomial(), zi_fixed = ~1, max_coef_value = 100)\n",
              "\n",
              "Data Descriptives:\n",
              "Number of Observations: 10991537\n",
              "Number of Groups: 1491 \n",
              "\n",
              "Model:\n",
              " family: zero-inflated negative binomial\n",
              " link: log \n",
              "\n",
              "Fit statistics:\n",
              "   log.Lik      AIC      BIC\n",
              " -21946437 43892892 43892939\n",
              "\n",
              "Random effects covariance matrix:\n",
              "              StdDev\n",
              "(Intercept) 1.701546\n",
              "\n",
              "Fixed effects:\n",
              "                        Estimate Std.Err   z-value  p-value\n",
              "(Intercept)               2.8688  0.1298   22.0969 < 0.0001\n",
              "sentistr_std             -0.2851  0.0012 -233.4250 < 0.0001\n",
              "republican               -1.2710  0.1018  -12.4858 < 0.0001\n",
              "insult_std                0.0395  0.0012   33.0175 < 0.0001\n",
              "sentistr_std:republican  -0.0518  0.0016  -32.2951 < 0.0001\n",
              "republican:insult_std    -0.0370  0.0017  -22.2656 < 0.0001\n",
              "\n",
              "Zero-part coefficients:\n",
              "            Estimate Std.Err z-value   p-value\n",
              "(Intercept)  -17.012  6.4788 -2.6258 0.0086444\n",
              "\n",
              "log(dispersion) parameter:\n",
              "  Estimate Std.Err\n",
              "   -1.7174  0.0006\n",
              "\n",
              "Integration:\n",
              "method: adaptive Gauss-Hermite quadrature rule\n",
              "quadrature points: 11\n",
              "\n",
              "Optimization:\n",
              "method: EM\n",
              "converged: TRUE "
            ]
          },
          "metadata": {}
        }
      ]
    },
    {
      "cell_type": "code",
      "metadata": {
        "id": "Q9k5gnDklQd6",
        "colab": {
          "base_uri": "https://localhost:8080/",
          "height": 51
        },
        "outputId": "a10ca747-2a28-4488-de21-50547af7e75e"
      },
      "source": [
        "system.time( m2_Sad_senti_main_std <- mixed_model(fixed = Sad ~ sentistr_std + republican , random = ~ 1|Page.Name.fac, zi_fixed =  ~ 1,  family = zi.negative.binomial(), data=final_pages_react_nona_st , max_coef_value = 100 ))\n"
      ],
      "execution_count": null,
      "outputs": [
        {
          "output_type": "display_data",
          "data": {
            "text/plain": [
              "    user   system  elapsed \n",
              "6488.345  455.294 6944.887 "
            ]
          },
          "metadata": {}
        }
      ]
    },
    {
      "cell_type": "code",
      "metadata": {
        "id": "c0vWsZemlRAO",
        "colab": {
          "base_uri": "https://localhost:8080/",
          "height": 748
        },
        "outputId": "2dac5cc0-19ec-4ed8-bc28-d745a5209595"
      },
      "source": [
        "summary(m2_Sad_senti_main_std)\n"
      ],
      "execution_count": null,
      "outputs": [
        {
          "output_type": "display_data",
          "data": {
            "text/plain": [
              "\n",
              "Call:\n",
              "mixed_model(fixed = Sad ~ sentistr_std + republican, random = ~1 | \n",
              "    Page.Name.fac, data = final_pages_react_nona_st, family = zi.negative.binomial(), \n",
              "    zi_fixed = ~1, max_coef_value = 100)\n",
              "\n",
              "Data Descriptives:\n",
              "Number of Observations: 10991537\n",
              "Number of Groups: 1491 \n",
              "\n",
              "Model:\n",
              " family: zero-inflated negative binomial\n",
              " link: log \n",
              "\n",
              "Fit statistics:\n",
              "   log.Lik      AIC      BIC\n",
              " -21947373 43894757 43894789\n",
              "\n",
              "Random effects covariance matrix:\n",
              "              StdDev\n",
              "(Intercept) 1.704808\n",
              "\n",
              "Fixed effects:\n",
              "             Estimate Std.Err   z-value  p-value\n",
              "(Intercept)    2.8704  0.1309   21.9260 < 0.0001\n",
              "sentistr_std  -0.3194  0.0008 -414.6136 < 0.0001\n",
              "republican    -1.2668  0.1020  -12.4185 < 0.0001\n",
              "\n",
              "Zero-part coefficients:\n",
              "            Estimate Std.Err z-value  p-value\n",
              "(Intercept) -17.0055  6.4657 -2.6301 0.008536\n",
              "\n",
              "log(dispersion) parameter:\n",
              "  Estimate Std.Err\n",
              "   -1.7177  0.0006\n",
              "\n",
              "Integration:\n",
              "method: adaptive Gauss-Hermite quadrature rule\n",
              "quadrature points: 11\n",
              "\n",
              "Optimization:\n",
              "method: EM\n",
              "converged: TRUE "
            ]
          },
          "metadata": {}
        }
      ]
    },
    {
      "cell_type": "code",
      "metadata": {
        "id": "Sy_kC_o7lQ9N"
      },
      "source": [
        "saveRDS(m2_Sad_senti_main_std, \"m2_Sad_senti_main_std.rds\")\n"
      ],
      "execution_count": null,
      "outputs": []
    },
    {
      "cell_type": "code",
      "metadata": {
        "id": "Jd1AEG4PlQ5E",
        "colab": {
          "base_uri": "https://localhost:8080/",
          "height": 51
        },
        "outputId": "72c6bf58-d24d-4292-fdb6-c3e666bc8518"
      },
      "source": [
        "system.time( m2_Sad_inciv_main_std <- mixed_model(fixed = Sad ~ insult_std + republican , random = ~ 1|Page.Name.fac, zi_fixed =  ~ 1,  family = zi.negative.binomial(), data=final_pages_react_nona_st , max_coef_value = 100 ))\n"
      ],
      "execution_count": null,
      "outputs": [
        {
          "output_type": "display_data",
          "data": {
            "text/plain": [
              "    user   system  elapsed \n",
              "6438.025  455.523 6895.058 "
            ]
          },
          "metadata": {}
        }
      ]
    },
    {
      "cell_type": "code",
      "metadata": {
        "id": "7KGYNSHGlQ1k"
      },
      "source": [
        "saveRDS(m2_Sad_inciv_main_std, \"m2_Sad_inciv_main_std.rds\")\n"
      ],
      "execution_count": null,
      "outputs": []
    },
    {
      "cell_type": "code",
      "metadata": {
        "id": "B0Hd4soElQyV",
        "colab": {
          "base_uri": "https://localhost:8080/",
          "height": 748
        },
        "outputId": "b09b45f0-5de2-4c4f-b725-015161d7a362"
      },
      "source": [
        "summary(m2_Sad_inciv_main_std)\n"
      ],
      "execution_count": null,
      "outputs": [
        {
          "output_type": "display_data",
          "data": {
            "text/plain": [
              "\n",
              "Call:\n",
              "mixed_model(fixed = Sad ~ insult_std + republican, random = ~1 | \n",
              "    Page.Name.fac, data = final_pages_react_nona_st, family = zi.negative.binomial(), \n",
              "    zi_fixed = ~1, max_coef_value = 100)\n",
              "\n",
              "Data Descriptives:\n",
              "Number of Observations: 10991537\n",
              "Number of Groups: 1491 \n",
              "\n",
              "Model:\n",
              " family: zero-inflated negative binomial\n",
              " link: log \n",
              "\n",
              "Fit statistics:\n",
              "   log.Lik      AIC      BIC\n",
              " -22026046 44052104 44052136\n",
              "\n",
              "Random effects covariance matrix:\n",
              "              StdDev\n",
              "(Intercept) 1.695546\n",
              "\n",
              "Fixed effects:\n",
              "            Estimate Std.Err  z-value  p-value\n",
              "(Intercept)   2.9122  0.1283  22.6959 < 0.0001\n",
              "insult_std    0.0980  0.0008 118.9467 < 0.0001\n",
              "republican   -1.2986  0.1015 -12.7926 < 0.0001\n",
              "\n",
              "Zero-part coefficients:\n",
              "            Estimate Std.Err z-value  p-value\n",
              "(Intercept) -17.6809  9.3168 -1.8977 0.057731\n",
              "\n",
              "log(dispersion) parameter:\n",
              "  Estimate Std.Err\n",
              "   -1.7426  0.0006\n",
              "\n",
              "Integration:\n",
              "method: adaptive Gauss-Hermite quadrature rule\n",
              "quadrature points: 11\n",
              "\n",
              "Optimization:\n",
              "method: EM\n",
              "converged: TRUE "
            ]
          },
          "metadata": {}
        }
      ]
    },
    {
      "cell_type": "code",
      "metadata": {
        "id": "dUatBNu_lQtz",
        "colab": {
          "base_uri": "https://localhost:8080/",
          "height": 51
        },
        "outputId": "3b89baf1-c6cc-4859-e4d1-f23a804e39a8"
      },
      "source": [
        "system.time( m2_Sad_main_std_comp <- mixed_model(fixed = Sad ~ sentistr_std + insult_std + republican , random = ~ 1|Page.Name.fac, zi_fixed =  ~ 1,  family = zi.negative.binomial(), data=final_pages_react_nona_st , max_coef_value = 100 ))\n"
      ],
      "execution_count": null,
      "outputs": [
        {
          "output_type": "display_data",
          "data": {
            "text/plain": [
              "    user   system  elapsed \n",
              "7028.460  448.554 7478.476 "
            ]
          },
          "metadata": {}
        }
      ]
    },
    {
      "cell_type": "code",
      "metadata": {
        "id": "qKuE8PqPlRw4"
      },
      "source": [
        "saveRDS(m2_Sad_main_std_comp, \"m2_Sad_main_std_comp.rds\")\n"
      ],
      "execution_count": null,
      "outputs": []
    },
    {
      "cell_type": "code",
      "metadata": {
        "id": "jmoaif62lRtf",
        "colab": {
          "base_uri": "https://localhost:8080/",
          "height": 765
        },
        "outputId": "3d1fdb31-1ecc-4300-9b2c-c5cf7e36378d"
      },
      "source": [
        "summary(m2_Sad_main_std_comp)"
      ],
      "execution_count": null,
      "outputs": [
        {
          "output_type": "display_data",
          "data": {
            "text/plain": [
              "\n",
              "Call:\n",
              "mixed_model(fixed = Sad ~ sentistr_std + insult_std + republican, \n",
              "    random = ~1 | Page.Name.fac, data = final_pages_react_nona_st, \n",
              "    family = zi.negative.binomial(), zi_fixed = ~1, max_coef_value = 100)\n",
              "\n",
              "Data Descriptives:\n",
              "Number of Observations: 10991537\n",
              "Number of Groups: 1491 \n",
              "\n",
              "Model:\n",
              " family: zero-inflated negative binomial\n",
              " link: log \n",
              "\n",
              "Fit statistics:\n",
              "   log.Lik      AIC      BIC\n",
              " -21947076 43894166 43894203\n",
              "\n",
              "Random effects covariance matrix:\n",
              "              StdDev\n",
              "(Intercept) 1.703117\n",
              "\n",
              "Fixed effects:\n",
              "             Estimate Std.Err   z-value  p-value\n",
              "(Intercept)    2.8690  0.1306   21.9759 < 0.0001\n",
              "sentistr_std  -0.3149  0.0008 -397.7230 < 0.0001\n",
              "insult_std     0.0201  0.0008   24.2467 < 0.0001\n",
              "republican    -1.2681  0.1019  -12.4426 < 0.0001\n",
              "\n",
              "Zero-part coefficients:\n",
              "            Estimate Std.Err z-value   p-value\n",
              "(Intercept) -17.0127  6.4776 -2.6264 0.0086294\n",
              "\n",
              "log(dispersion) parameter:\n",
              "  Estimate Std.Err\n",
              "   -1.7176  0.0006\n",
              "\n",
              "Integration:\n",
              "method: adaptive Gauss-Hermite quadrature rule\n",
              "quadrature points: 11\n",
              "\n",
              "Optimization:\n",
              "method: EM\n",
              "converged: TRUE "
            ]
          },
          "metadata": {}
        }
      ]
    },
    {
      "cell_type": "markdown",
      "metadata": {
        "id": "sUZa4zPqlSIJ"
      },
      "source": [
        "## haha"
      ]
    },
    {
      "cell_type": "code",
      "metadata": {
        "colab": {
          "base_uri": "https://localhost:8080/",
          "height": 51
        },
        "id": "bdKmB2osH-Us",
        "outputId": "f23f859c-aec2-4f58-acf0-8786d22dc7f1"
      },
      "source": [
        "# re-download\n",
        "\n",
        "system.time( m2_Haha_int_std <- mixed_model(fixed = Haha ~ sentistr_std*republican + insult_std*republican , random = ~ 1|Page.Name.fac, zi_fixed =  ~ 1,  family = zi.negative.binomial(), data=final_pages_react_nona_st , max_coef_value = 100 ))\n"
      ],
      "execution_count": null,
      "outputs": [
        {
          "data": {
            "text/plain": [
              "    user   system  elapsed \n",
              "7323.791  482.944 7810.968 "
            ]
          },
          "metadata": {},
          "output_type": "display_data"
        }
      ]
    },
    {
      "cell_type": "code",
      "metadata": {
        "id": "n8TfleLwH-2z"
      },
      "source": [
        "saveRDS(m2_Haha_int_std, \"m2_Haha_int_std.rds\")\n"
      ],
      "execution_count": null,
      "outputs": []
    },
    {
      "cell_type": "code",
      "metadata": {
        "colab": {
          "base_uri": "https://localhost:8080/",
          "height": 799
        },
        "id": "51yGGr5jH--J",
        "outputId": "c34c9ed4-05cf-456f-8c15-1a306a12ff08"
      },
      "source": [
        "summary(m2_Haha_int_std)\n"
      ],
      "execution_count": null,
      "outputs": [
        {
          "output_type": "display_data",
          "data": {
            "text/plain": [
              "\n",
              "Call:\n",
              "mixed_model(fixed = Haha ~ sentistr_std * republican + insult_std * \n",
              "    republican, random = ~1 | Page.Name.fac, data = final_pages_react_nona_st, \n",
              "    family = zi.negative.binomial(), zi_fixed = ~1, max_coef_value = 100)\n",
              "\n",
              "Data Descriptives:\n",
              "Number of Observations: 10991537\n",
              "Number of Groups: 1491 \n",
              "\n",
              "Model:\n",
              " family: zero-inflated negative binomial\n",
              " link: log \n",
              "\n",
              "Fit statistics:\n",
              "   log.Lik      AIC      BIC\n",
              " -27715994 55432006 55432054\n",
              "\n",
              "Random effects covariance matrix:\n",
              "              StdDev\n",
              "(Intercept) 2.116536\n",
              "\n",
              "Fixed effects:\n",
              "                        Estimate Std.Err  z-value   p-value\n",
              "(Intercept)               3.8461  0.2153  17.8671  < 0.0001\n",
              "sentistr_std              0.1972  0.0013 157.4152  < 0.0001\n",
              "republican               -0.3783  0.1269  -2.9803 0.0028796\n",
              "insult_std                0.2841  0.0012 237.5028  < 0.0001\n",
              "sentistr_std:republican  -0.1387  0.0017 -83.1502  < 0.0001\n",
              "republican:insult_std    -0.0498  0.0017 -30.1415  < 0.0001\n",
              "\n",
              "Zero-part coefficients:\n",
              "            Estimate Std.Err z-value  p-value\n",
              "(Intercept) -16.3704  3.9815 -4.1116 < 0.0001\n",
              "\n",
              "log(dispersion) parameter:\n",
              "  Estimate Std.Err\n",
              "   -1.6903  0.0005\n",
              "\n",
              "Integration:\n",
              "method: adaptive Gauss-Hermite quadrature rule\n",
              "quadrature points: 11\n",
              "\n",
              "Optimization:\n",
              "method: EM\n",
              "converged: TRUE "
            ]
          },
          "metadata": {}
        }
      ]
    },
    {
      "cell_type": "code",
      "metadata": {
        "id": "Sg2LcRwalTvP",
        "colab": {
          "base_uri": "https://localhost:8080/",
          "height": 51
        },
        "outputId": "cf755d5f-7124-4a35-f0eb-f52bfbf43ec2"
      },
      "source": [
        "system.time( m2_Haha_senti_main_std <- mixed_model(fixed = Haha ~ sentistr_std + republican , random = ~ 1|Page.Name.fac, zi_fixed =  ~ 1,  family = zi.negative.binomial(), data=final_pages_react_nona_st , max_coef_value = 100 ))\n"
      ],
      "execution_count": null,
      "outputs": [
        {
          "output_type": "display_data",
          "data": {
            "text/plain": [
              "    user   system  elapsed \n",
              "5198.978  414.771 5615.090 "
            ]
          },
          "metadata": {}
        }
      ]
    },
    {
      "cell_type": "code",
      "metadata": {
        "id": "DdjzyrKWlUeH",
        "colab": {
          "base_uri": "https://localhost:8080/",
          "height": 748
        },
        "outputId": "c3d9ec63-7f41-4938-e4a7-bab97ee6c7ed"
      },
      "source": [
        "summary(m2_Haha_senti_main_std)\n"
      ],
      "execution_count": null,
      "outputs": [
        {
          "output_type": "display_data",
          "data": {
            "text/plain": [
              "\n",
              "Call:\n",
              "mixed_model(fixed = Haha ~ sentistr_std + republican, random = ~1 | \n",
              "    Page.Name.fac, data = final_pages_react_nona_st, family = zi.negative.binomial(), \n",
              "    zi_fixed = ~1, max_coef_value = 100)\n",
              "\n",
              "Data Descriptives:\n",
              "Number of Observations: 10991537\n",
              "Number of Groups: 1491 \n",
              "\n",
              "Model:\n",
              " family: zero-inflated negative binomial\n",
              " link: log \n",
              "\n",
              "Fit statistics:\n",
              "   log.Lik      AIC      BIC\n",
              " -27717775 55435563 55435594\n",
              "\n",
              "Random effects covariance matrix:\n",
              "              StdDev\n",
              "(Intercept) 2.160269\n",
              "\n",
              "Fixed effects:\n",
              "             Estimate Std.Err z-value    p-value\n",
              "(Intercept)    3.9529  0.2305 17.1524   < 0.0001\n",
              "sentistr_std   0.0495  0.0008 62.1398   < 0.0001\n",
              "republican    -0.4865  0.1358 -3.5830 0.00033967\n",
              "\n",
              "Zero-part coefficients:\n",
              "            Estimate Std.Err z-value  p-value\n",
              "(Intercept) -16.2754  3.8983  -4.175 < 0.0001\n",
              "\n",
              "log(dispersion) parameter:\n",
              "  Estimate Std.Err\n",
              "   -1.7066  0.0005\n",
              "\n",
              "Integration:\n",
              "method: adaptive Gauss-Hermite quadrature rule\n",
              "quadrature points: 11\n",
              "\n",
              "Optimization:\n",
              "method: EM\n",
              "converged: TRUE "
            ]
          },
          "metadata": {}
        }
      ]
    },
    {
      "cell_type": "code",
      "metadata": {
        "id": "5UaGt8yLlUak"
      },
      "source": [
        "saveRDS(m2_Haha_senti_main_std, \"m2_Haha_senti_main_std.rds\")\n"
      ],
      "execution_count": null,
      "outputs": []
    },
    {
      "cell_type": "code",
      "metadata": {
        "id": "y3XQn_DglUXY",
        "colab": {
          "base_uri": "https://localhost:8080/",
          "height": 51
        },
        "outputId": "de234832-427b-4db7-aba8-32408215dc1e"
      },
      "source": [
        "system.time( m2_Haha_inciv_main_std <- mixed_model(fixed = Haha ~ insult_std + republican , random = ~ 1|Page.Name.fac, zi_fixed =  ~ 1,  family = zi.negative.binomial(), data=final_pages_react_nona_st , max_coef_value = 100 ))\n"
      ],
      "execution_count": null,
      "outputs": [
        {
          "output_type": "display_data",
          "data": {
            "text/plain": [
              "    user   system  elapsed \n",
              "5290.765  367.571 5659.443 "
            ]
          },
          "metadata": {}
        }
      ]
    },
    {
      "cell_type": "code",
      "metadata": {
        "id": "ViaOU1FYlUUM"
      },
      "source": [
        "saveRDS(m2_Haha_inciv_main_std, \"m2_Haha_inciv_main_std.rds\")\n"
      ],
      "execution_count": null,
      "outputs": []
    },
    {
      "cell_type": "code",
      "metadata": {
        "id": "Rpr49LXZlURL",
        "colab": {
          "base_uri": "https://localhost:8080/",
          "height": 748
        },
        "outputId": "29f9ffc5-ecf7-4d1e-e136-ded43d06cc1a"
      },
      "source": [
        "summary(m2_Haha_inciv_main_std)\n"
      ],
      "execution_count": null,
      "outputs": [
        {
          "output_type": "display_data",
          "data": {
            "text/plain": [
              "\n",
              "Call:\n",
              "mixed_model(fixed = Haha ~ insult_std + republican, random = ~1 | \n",
              "    Page.Name.fac, data = final_pages_react_nona_st, family = zi.negative.binomial(), \n",
              "    zi_fixed = ~1, max_coef_value = 100)\n",
              "\n",
              "Data Descriptives:\n",
              "Number of Observations: 10991537\n",
              "Number of Groups: 1491 \n",
              "\n",
              "Model:\n",
              " family: zero-inflated negative binomial\n",
              " link: log \n",
              "\n",
              "Fit statistics:\n",
              "   log.Lik      AIC      BIC\n",
              " -26924816 53849644 53849676\n",
              "\n",
              "Random effects covariance matrix:\n",
              "              StdDev\n",
              "(Intercept) 2.137356\n",
              "\n",
              "Fixed effects:\n",
              "            Estimate Std.Err  z-value    p-value\n",
              "(Intercept)   3.9058  0.2373  16.4619   < 0.0001\n",
              "insult_std    0.2286  0.0008 283.0592   < 0.0001\n",
              "republican   -0.4457  0.1350  -3.3008 0.00096407\n",
              "\n",
              "Zero-part coefficients:\n",
              "            Estimate Std.Err z-value  p-value\n",
              "(Intercept) -16.3785  4.0701 -4.0241 < 0.0001\n",
              "\n",
              "log(dispersion) parameter:\n",
              "  Estimate Std.Err\n",
              "   -1.6999  0.0005\n",
              "\n",
              "Integration:\n",
              "method: adaptive Gauss-Hermite quadrature rule\n",
              "quadrature points: 11\n",
              "\n",
              "Optimization:\n",
              "method: EM\n",
              "converged: TRUE "
            ]
          },
          "metadata": {}
        }
      ]
    },
    {
      "cell_type": "code",
      "metadata": {
        "id": "UE0cpeoglVEn",
        "colab": {
          "base_uri": "https://localhost:8080/",
          "height": 51
        },
        "outputId": "3009cc8d-9d0d-4a7c-bbb1-e55b16f626e3"
      },
      "source": [
        "system.time( m2_Haha_main_std_comp <- mixed_model(fixed = Haha ~ sentistr_std + insult_std + republican , random = ~ 1|Page.Name.fac, zi_fixed =  ~ 1,  family = zi.negative.binomial(), data=final_pages_react_nona_st , max_coef_value = 100 ))\n"
      ],
      "execution_count": null,
      "outputs": [
        {
          "output_type": "display_data",
          "data": {
            "text/plain": [
              "    user   system  elapsed \n",
              "5885.409  380.501 6267.960 "
            ]
          },
          "metadata": {}
        }
      ]
    },
    {
      "cell_type": "code",
      "metadata": {
        "id": "sjjjFr2qlUNv"
      },
      "source": [
        "saveRDS(m2_Haha_main_std_comp, \"m2_Haha_main_std_comp.rds\")\n"
      ],
      "execution_count": null,
      "outputs": []
    },
    {
      "cell_type": "code",
      "metadata": {
        "id": "FTUnvEZ7lUKZ",
        "colab": {
          "base_uri": "https://localhost:8080/",
          "height": 765
        },
        "outputId": "27860eaf-5812-445d-ed8d-96d89dd4f5a8"
      },
      "source": [
        "summary(m2_Haha_main_std_comp)"
      ],
      "execution_count": null,
      "outputs": [
        {
          "output_type": "display_data",
          "data": {
            "text/plain": [
              "\n",
              "Call:\n",
              "mixed_model(fixed = Haha ~ sentistr_std + insult_std + republican, \n",
              "    random = ~1 | Page.Name.fac, data = final_pages_react_nona_st, \n",
              "    family = zi.negative.binomial(), zi_fixed = ~1, max_coef_value = 100)\n",
              "\n",
              "Data Descriptives:\n",
              "Number of Observations: 10991537\n",
              "Number of Groups: 1491 \n",
              "\n",
              "Model:\n",
              " family: zero-inflated negative binomial\n",
              " link: log \n",
              "\n",
              "Fit statistics:\n",
              "   log.Lik      AIC      BIC\n",
              " -26893475 53786963 53787001\n",
              "\n",
              "Random effects covariance matrix:\n",
              "              StdDev\n",
              "(Intercept) 2.119639\n",
              "\n",
              "Fixed effects:\n",
              "             Estimate Std.Err  z-value    p-value\n",
              "(Intercept)    3.8886  0.2245  17.3210   < 0.0001\n",
              "sentistr_std   0.1226  0.0008 146.0309   < 0.0001\n",
              "insult_std     0.2573  0.0008 307.5466   < 0.0001\n",
              "republican    -0.4785  0.1332  -3.5912 0.00032912\n",
              "\n",
              "Zero-part coefficients:\n",
              "            Estimate Std.Err z-value  p-value\n",
              "(Intercept) -16.2409   3.848 -4.2206 < 0.0001\n",
              "\n",
              "log(dispersion) parameter:\n",
              "  Estimate Std.Err\n",
              "   -1.7013  0.0005\n",
              "\n",
              "Integration:\n",
              "method: adaptive Gauss-Hermite quadrature rule\n",
              "quadrature points: 11\n",
              "\n",
              "Optimization:\n",
              "method: EM\n",
              "converged: TRUE "
            ]
          },
          "metadata": {}
        }
      ]
    },
    {
      "cell_type": "markdown",
      "metadata": {
        "id": "1WY248UKlV1q"
      },
      "source": [
        "## wow"
      ]
    },
    {
      "cell_type": "code",
      "metadata": {
        "id": "EcZlegnVUwTO",
        "colab": {
          "base_uri": "https://localhost:8080/",
          "height": 102
        },
        "outputId": "52378e07-9c83-417d-a4a4-0597e8847220"
      },
      "source": [
        "system.time( m2_Wow_senti_int <- mixed_model(fixed = Wow ~ sentistr_std*republican + insult_std*republican , random = ~ 1|Page.Name.fac, zi_fixed =  ~ 1,  family = zi.negative.binomial(), data=final_pages_react_nona_st , max_coef_value = 100 ))\n"
      ],
      "execution_count": null,
      "outputs": [
        {
          "output_type": "stream",
          "name": "stderr",
          "text": [
            "Warning message in mixed_model(fixed = Wow ~ sentistr_std * republican + insult_std * :\n",
            "“Hessian matrix at convergence is not positive definite; unstable solution.\n",
            "”\n"
          ]
        },
        {
          "output_type": "display_data",
          "data": {
            "text/plain": [
              "    user   system  elapsed \n",
              "7511.555  522.309 8047.971 "
            ]
          },
          "metadata": {}
        }
      ]
    },
    {
      "cell_type": "code",
      "metadata": {
        "id": "pgjeLy4JUwIK",
        "colab": {
          "base_uri": "https://localhost:8080/",
          "height": 833
        },
        "outputId": "b6c39301-28e3-4b51-b125-c26ef7b7ad7e"
      },
      "source": [
        "summary(m2_Wow_senti_int)\n"
      ],
      "execution_count": null,
      "outputs": [
        {
          "output_type": "stream",
          "name": "stderr",
          "text": [
            "Warning message in sqrt(diag(var_betas)):\n",
            "“NaNs produced”\n"
          ]
        },
        {
          "output_type": "display_data",
          "data": {
            "text/plain": [
              "\n",
              "Call:\n",
              "mixed_model(fixed = Wow ~ sentistr_std * republican + insult_std * \n",
              "    republican, random = ~1 | Page.Name.fac, data = final_pages_react_nona_st, \n",
              "    family = zi.negative.binomial(), zi_fixed = ~1, max_coef_value = 100)\n",
              "\n",
              "Data Descriptives:\n",
              "Number of Observations: 10991537\n",
              "Number of Groups: 1491 \n",
              "\n",
              "Model:\n",
              " family: zero-inflated negative binomial\n",
              " link: log \n",
              "\n",
              "Fit statistics:\n",
              "   log.Lik      AIC      BIC\n",
              " -23847943 47695904 47695952\n",
              "\n",
              "Random effects covariance matrix:\n",
              "              StdDev\n",
              "(Intercept) 1.821922\n",
              "\n",
              "Fixed effects:\n",
              "                        Estimate Std.Err   z-value  p-value\n",
              "(Intercept)               2.6124     NaN       NaN       NA\n",
              "sentistr_std             -0.1157  0.0010 -118.7512 < 0.0001\n",
              "republican               -0.6915  0.0616  -11.2271 < 0.0001\n",
              "insult_std                0.0829  0.0009   88.6561 < 0.0001\n",
              "sentistr_std:republican  -0.0523  0.0013  -40.9498 < 0.0001\n",
              "republican:insult_std    -0.0030  0.0013   -2.3636 0.018098\n",
              "\n",
              "Zero-part coefficients:\n",
              "            Estimate Std.Err z-value    p-value\n",
              "(Intercept) -16.9551  4.9008 -3.4596 0.00054094\n",
              "\n",
              "log(dispersion) parameter:\n",
              "  Estimate Std.Err\n",
              "   -1.1321  0.0006\n",
              "\n",
              "Integration:\n",
              "method: adaptive Gauss-Hermite quadrature rule\n",
              "quadrature points: 11\n",
              "\n",
              "Optimization:\n",
              "method: EM\n",
              "converged: TRUE "
            ]
          },
          "metadata": {}
        }
      ]
    },
    {
      "cell_type": "code",
      "metadata": {
        "id": "NnOsAU52lWsy"
      },
      "source": [
        "system.time( m2_Wow_senti_main_std <- mixed_model(fixed = Wow ~ sentistr_std + republican , random = ~ 1|Page.Name.fac, zi_fixed =  ~ 1,  family = zi.negative.binomial(), data=final_pages_react_nona_st , max_coef_value = 100 ))\n"
      ],
      "execution_count": null,
      "outputs": []
    },
    {
      "cell_type": "code",
      "metadata": {
        "id": "hgt1Esj1lXLd",
        "colab": {
          "base_uri": "https://localhost:8080/",
          "height": 782
        },
        "outputId": "080ffdf3-45dc-48c3-84fe-ae1040d71fb9"
      },
      "source": [
        "summary(m2_Wow_senti_main_std)\n"
      ],
      "execution_count": null,
      "outputs": [
        {
          "output_type": "stream",
          "name": "stderr",
          "text": [
            "Warning message in sqrt(diag(var_betas)):\n",
            "“NaNs produced”\n"
          ]
        },
        {
          "output_type": "display_data",
          "data": {
            "text/plain": [
              "\n",
              "Call:\n",
              "mixed_model(fixed = Wow ~ sentistr_std + republican, random = ~1 | \n",
              "    Page.Name.fac, data = final_pages_react_nona_st, family = zi.negative.binomial(), \n",
              "    zi_fixed = ~1, max_coef_value = 100)\n",
              "\n",
              "Data Descriptives:\n",
              "Number of Observations: 10991537\n",
              "Number of Groups: 1491 \n",
              "\n",
              "Model:\n",
              " family: zero-inflated negative binomial\n",
              " link: log \n",
              "\n",
              "Fit statistics:\n",
              "   log.Lik      AIC      BIC\n",
              " -23472471 46944955 46944986\n",
              "\n",
              "Random effects covariance matrix:\n",
              "              StdDev\n",
              "(Intercept) 1.834376\n",
              "\n",
              "Fixed effects:\n",
              "             Estimate Std.Err   z-value  p-value\n",
              "(Intercept)    2.6340     NaN       NaN       NA\n",
              "sentistr_std  -0.1654  0.0006 -267.6606 < 0.0001\n",
              "republican    -0.7133  0.0663  -10.7573 < 0.0001\n",
              "\n",
              "Zero-part coefficients:\n",
              "            Estimate Std.Err z-value    p-value\n",
              "(Intercept) -16.8813  4.8197 -3.5025 0.00046086\n",
              "\n",
              "log(dispersion) parameter:\n",
              "  Estimate Std.Err\n",
              "   -1.1403  0.0006\n",
              "\n",
              "Integration:\n",
              "method: adaptive Gauss-Hermite quadrature rule\n",
              "quadrature points: 11\n",
              "\n",
              "Optimization:\n",
              "method: EM\n",
              "converged: TRUE "
            ]
          },
          "metadata": {}
        }
      ]
    },
    {
      "cell_type": "code",
      "metadata": {
        "id": "GGxQr-kSlXHz"
      },
      "source": [
        "saveRDS(m2_Wow_senti_main_std, \"m2_Wow_senti_main_std.rds\")\n"
      ],
      "execution_count": null,
      "outputs": []
    },
    {
      "cell_type": "code",
      "metadata": {
        "id": "Ft0_q6LElXEc",
        "colab": {
          "base_uri": "https://localhost:8080/",
          "height": 102
        },
        "outputId": "0c9934ea-2deb-43f1-9eba-1aa51dfb1a62"
      },
      "source": [
        "system.time( m2_Wow_inciv_main_std <- mixed_model(fixed = Wow ~ insult_std + republican , random = ~ 1|Page.Name.fac, zi_fixed =  ~ 1,  family = zi.negative.binomial(), data=final_pages_react_nona_st , max_coef_value = 100 ))\n"
      ],
      "execution_count": null,
      "outputs": [
        {
          "output_type": "stream",
          "name": "stderr",
          "text": [
            "Warning message in mixed_model(fixed = Wow ~ insult_std + republican, random = ~1 | :\n",
            "“Hessian matrix at convergence is not positive definite; unstable solution.\n",
            "”\n"
          ]
        },
        {
          "output_type": "display_data",
          "data": {
            "text/plain": [
              "    user   system  elapsed \n",
              "5435.703  366.415 5805.165 "
            ]
          },
          "metadata": {}
        }
      ]
    },
    {
      "cell_type": "code",
      "metadata": {
        "id": "tO3WXbn2lW-O",
        "colab": {
          "base_uri": "https://localhost:8080/",
          "height": 782
        },
        "outputId": "0c7567ab-671a-4800-cae8-cccb1c644df9"
      },
      "source": [
        "summary(m2_Wow_inciv_main_std)\n"
      ],
      "execution_count": null,
      "outputs": [
        {
          "output_type": "stream",
          "name": "stderr",
          "text": [
            "Warning message in sqrt(diag(var_betas)):\n",
            "“NaNs produced”\n"
          ]
        },
        {
          "output_type": "display_data",
          "data": {
            "text/plain": [
              "\n",
              "Call:\n",
              "mixed_model(fixed = Wow ~ insult_std + republican, random = ~1 | \n",
              "    Page.Name.fac, data = final_pages_react_nona_st, family = zi.negative.binomial(), \n",
              "    zi_fixed = ~1, max_coef_value = 100)\n",
              "\n",
              "Data Descriptives:\n",
              "Number of Observations: 10991537\n",
              "Number of Groups: 1491 \n",
              "\n",
              "Model:\n",
              " family: zero-inflated negative binomial\n",
              " link: log \n",
              "\n",
              "Fit statistics:\n",
              "   log.Lik      AIC      BIC\n",
              " -24065603 48131219 48131250\n",
              "\n",
              "Random effects covariance matrix:\n",
              "             StdDev\n",
              "(Intercept) 1.82105\n",
              "\n",
              "Fixed effects:\n",
              "            Estimate Std.Err  z-value  p-value\n",
              "(Intercept)   2.6273     NaN      NaN       NA\n",
              "insult_std    0.1163  0.0006 185.3818 < 0.0001\n",
              "republican   -0.7170  0.0594 -12.0797 < 0.0001\n",
              "\n",
              "Zero-part coefficients:\n",
              "            Estimate Std.Err z-value    p-value\n",
              "(Intercept) -16.9049  4.7937 -3.5264 0.00042117\n",
              "\n",
              "log(dispersion) parameter:\n",
              "  Estimate Std.Err\n",
              "   -1.1391  0.0006\n",
              "\n",
              "Integration:\n",
              "method: adaptive Gauss-Hermite quadrature rule\n",
              "quadrature points: 11\n",
              "\n",
              "Optimization:\n",
              "method: EM\n",
              "converged: TRUE "
            ]
          },
          "metadata": {}
        }
      ]
    },
    {
      "cell_type": "code",
      "metadata": {
        "id": "gk91TQN1lXBX"
      },
      "source": [
        "saveRDS(m2_Wow_inciv_main_std, \"m2_Wow_inciv_main_std.rds\")\n"
      ],
      "execution_count": null,
      "outputs": []
    },
    {
      "cell_type": "code",
      "metadata": {
        "id": "K15ROzVklW7H",
        "colab": {
          "base_uri": "https://localhost:8080/",
          "height": 102
        },
        "outputId": "570e0a93-acac-4b9c-9859-191c039ce2c2"
      },
      "source": [
        "system.time( m2_Wow_main_std_comp <- mixed_model(fixed = Wow ~ sentistr_std + insult_std + republican , random = ~ 1|Page.Name.fac, zi_fixed =  ~ 1,  family = zi.negative.binomial(), data=final_pages_react_nona_st , max_coef_value = 100 ))\n"
      ],
      "execution_count": null,
      "outputs": [
        {
          "output_type": "stream",
          "name": "stderr",
          "text": [
            "Warning message in mixed_model(fixed = Wow ~ sentistr_std + insult_std + republican, :\n",
            "“Hessian matrix at convergence is not positive definite; unstable solution.\n",
            "”\n"
          ]
        },
        {
          "output_type": "display_data",
          "data": {
            "text/plain": [
              "    user   system  elapsed \n",
              "6098.340  386.174 6485.991 "
            ]
          },
          "metadata": {}
        }
      ]
    },
    {
      "cell_type": "code",
      "metadata": {
        "id": "TDwANyWelYTu",
        "colab": {
          "base_uri": "https://localhost:8080/",
          "height": 799
        },
        "outputId": "f2abc2e3-ac70-429b-8c04-05b4ddf70094"
      },
      "source": [
        "summary(m2_Wow_main_std_comp)"
      ],
      "execution_count": null,
      "outputs": [
        {
          "output_type": "stream",
          "name": "stderr",
          "text": [
            "Warning message in sqrt(diag(var_betas)):\n",
            "“NaNs produced”\n"
          ]
        },
        {
          "output_type": "display_data",
          "data": {
            "text/plain": [
              "\n",
              "Call:\n",
              "mixed_model(fixed = Wow ~ sentistr_std + insult_std + republican, \n",
              "    random = ~1 | Page.Name.fac, data = final_pages_react_nona_st, \n",
              "    family = zi.negative.binomial(), zi_fixed = ~1, max_coef_value = 100)\n",
              "\n",
              "Data Descriptives:\n",
              "Number of Observations: 10991537\n",
              "Number of Groups: 1491 \n",
              "\n",
              "Model:\n",
              " family: zero-inflated negative binomial\n",
              " link: log \n",
              "\n",
              "Fit statistics:\n",
              "   log.Lik      AIC      BIC\n",
              " -23755845 47511704 47511741\n",
              "\n",
              "Random effects covariance matrix:\n",
              "              StdDev\n",
              "(Intercept) 1.822025\n",
              "\n",
              "Fixed effects:\n",
              "             Estimate Std.Err   z-value  p-value\n",
              "(Intercept)    2.6174     NaN       NaN       NA\n",
              "sentistr_std  -0.1463  0.0006 -231.7544 < 0.0001\n",
              "insult_std     0.0809  0.0006  125.4837 < 0.0001\n",
              "republican    -0.7056  0.0590  -11.9515 < 0.0001\n",
              "\n",
              "Zero-part coefficients:\n",
              "            Estimate Std.Err z-value    p-value\n",
              "(Intercept) -16.9579  4.9188 -3.4476 0.00056561\n",
              "\n",
              "log(dispersion) parameter:\n",
              "  Estimate Std.Err\n",
              "   -1.1325  0.0006\n",
              "\n",
              "Integration:\n",
              "method: adaptive Gauss-Hermite quadrature rule\n",
              "quadrature points: 11\n",
              "\n",
              "Optimization:\n",
              "method: EM\n",
              "converged: TRUE "
            ]
          },
          "metadata": {}
        }
      ]
    },
    {
      "cell_type": "code",
      "metadata": {
        "id": "LESFZaaGlW3n"
      },
      "source": [
        "saveRDS(m2_Wow_main_std_comp, \"m2_Wow_main_std_comp.rds\")\n"
      ],
      "execution_count": null,
      "outputs": []
    }
  ]
}